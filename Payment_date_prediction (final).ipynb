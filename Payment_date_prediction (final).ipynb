{
 "cells": [
  {
   "cell_type": "markdown",
   "id": "wcq6dWzy1ZR0",
   "metadata": {
    "id": "wcq6dWzy1ZR0"
   },
   "source": [
    "# Payment Date Prediction "
   ]
  },
  {
   "cell_type": "markdown",
   "id": "2778654e",
   "metadata": {
    "id": "2778654e"
   },
   "source": [
    "\n",
    "### Importing related Libraries "
   ]
  },
  {
   "cell_type": "code",
   "execution_count": 668,
   "id": "304c9e38",
   "metadata": {
    "id": "304c9e38"
   },
   "outputs": [],
   "source": [
    "import pandas as pd\n",
    "import numpy as np\n",
    "from datetime import datetime\n",
    "import  matplotlib.pyplot as plt\n",
    "import seaborn as sns\n",
    "import sklearn\n",
    "import warnings"
   ]
  },
  {
   "cell_type": "markdown",
   "id": "8724f5ee",
   "metadata": {
    "id": "8724f5ee"
   },
   "source": [
    "### Store the dataset into the Dataframe\n"
   ]
  },
  {
   "cell_type": "code",
   "execution_count": 669,
   "id": "415db50a",
   "metadata": {
    "colab": {
     "base_uri": "https://localhost:8080/"
    },
    "id": "415db50a",
    "outputId": "15819ebd-e0ba-482c-a210-23e92eae15e5"
   },
   "outputs": [
    {
     "name": "stdout",
     "output_type": "stream",
     "text": [
      "Drive already mounted at /content/drive; to attempt to forcibly remount, call drive.mount(\"/content/drive\", force_remount=True).\n"
     ]
    }
   ],
   "source": [
    "from google.colab import drive\n",
    "drive.mount('/content/drive')\n",
    "data = pd.read_csv('/content/drive/MyDrive/data/dataset.csv')"
   ]
  },
  {
   "cell_type": "markdown",
   "id": "42e37f05",
   "metadata": {
    "id": "42e37f05"
   },
   "source": [
    "### Check the shape of the dataframe\n"
   ]
  },
  {
   "cell_type": "code",
   "execution_count": 670,
   "id": "27cc0907",
   "metadata": {
    "colab": {
     "base_uri": "https://localhost:8080/"
    },
    "id": "27cc0907",
    "outputId": "44f5b0d3-7c58-438a-cf34-fc955f9e61f6"
   },
   "outputs": [
    {
     "data": {
      "text/plain": [
       "(50000, 19)"
      ]
     },
     "execution_count": 670,
     "metadata": {},
     "output_type": "execute_result"
    }
   ],
   "source": [
    "data.shape"
   ]
  },
  {
   "cell_type": "markdown",
   "id": "b68c955d",
   "metadata": {
    "id": "b68c955d"
   },
   "source": [
    "### Check the Detail information of the dataframe"
   ]
  },
  {
   "cell_type": "code",
   "execution_count": 671,
   "id": "e092ec9e",
   "metadata": {
    "colab": {
     "base_uri": "https://localhost:8080/"
    },
    "id": "e092ec9e",
    "outputId": "22faa23b-3394-4cd8-890b-a6ac06f97f71"
   },
   "outputs": [
    {
     "name": "stdout",
     "output_type": "stream",
     "text": [
      "<class 'pandas.core.frame.DataFrame'>\n",
      "RangeIndex: 50000 entries, 0 to 49999\n",
      "Data columns (total 19 columns):\n",
      " #   Column                  Non-Null Count  Dtype  \n",
      "---  ------                  --------------  -----  \n",
      " 0   business_code           50000 non-null  object \n",
      " 1   cust_number             50000 non-null  object \n",
      " 2   name_customer           50000 non-null  object \n",
      " 3   clear_date              40000 non-null  object \n",
      " 4   buisness_year           50000 non-null  float64\n",
      " 5   doc_id                  50000 non-null  float64\n",
      " 6   posting_date            50000 non-null  object \n",
      " 7   document_create_date    50000 non-null  int64  \n",
      " 8   document_create_date.1  50000 non-null  int64  \n",
      " 9   due_in_date             50000 non-null  float64\n",
      " 10  invoice_currency        50000 non-null  object \n",
      " 11  document type           50000 non-null  object \n",
      " 12  posting_id              50000 non-null  float64\n",
      " 13  area_business           0 non-null      float64\n",
      " 14  total_open_amount       50000 non-null  float64\n",
      " 15  baseline_create_date    50000 non-null  float64\n",
      " 16  cust_payment_terms      50000 non-null  object \n",
      " 17  invoice_id              49994 non-null  float64\n",
      " 18  isOpen                  50000 non-null  int64  \n",
      "dtypes: float64(8), int64(3), object(8)\n",
      "memory usage: 7.2+ MB\n"
     ]
    }
   ],
   "source": [
    "data.info()"
   ]
  },
  {
   "cell_type": "markdown",
   "id": "112f2d0e",
   "metadata": {
    "id": "112f2d0e"
   },
   "source": [
    "### Display All the column names"
   ]
  },
  {
   "cell_type": "code",
   "execution_count": 672,
   "id": "1416e2fd",
   "metadata": {
    "colab": {
     "base_uri": "https://localhost:8080/"
    },
    "id": "1416e2fd",
    "outputId": "fbdfb191-703c-45cd-81c8-5fc8183aad3f"
   },
   "outputs": [
    {
     "name": "stdout",
     "output_type": "stream",
     "text": [
      "['business_code', 'cust_number', 'name_customer', 'clear_date', 'buisness_year', 'doc_id', 'posting_date', 'document_create_date', 'document_create_date.1', 'due_in_date', 'invoice_currency', 'document type', 'posting_id', 'area_business', 'total_open_amount', 'baseline_create_date', 'cust_payment_terms', 'invoice_id', 'isOpen']\n"
     ]
    }
   ],
   "source": [
    "print(data.columns.tolist())"
   ]
  },
  {
   "cell_type": "markdown",
   "id": "d465ed7a",
   "metadata": {
    "id": "d465ed7a"
   },
   "source": [
    "### Describe the entire dataset"
   ]
  },
  {
   "cell_type": "code",
   "execution_count": 673,
   "id": "25f65e1b",
   "metadata": {
    "colab": {
     "base_uri": "https://localhost:8080/",
     "height": 364
    },
    "id": "25f65e1b",
    "outputId": "f87f8abd-f75a-470a-b0a7-7ce49afb43ef"
   },
   "outputs": [
    {
     "data": {
      "text/html": [
       "\n",
       "  <div id=\"df-fa9bdd92-6795-43e1-9c97-ba62aef4039a\">\n",
       "    <div class=\"colab-df-container\">\n",
       "      <div>\n",
       "<style scoped>\n",
       "    .dataframe tbody tr th:only-of-type {\n",
       "        vertical-align: middle;\n",
       "    }\n",
       "\n",
       "    .dataframe tbody tr th {\n",
       "        vertical-align: top;\n",
       "    }\n",
       "\n",
       "    .dataframe thead th {\n",
       "        text-align: right;\n",
       "    }\n",
       "</style>\n",
       "<table border=\"1\" class=\"dataframe\">\n",
       "  <thead>\n",
       "    <tr style=\"text-align: right;\">\n",
       "      <th></th>\n",
       "      <th>buisness_year</th>\n",
       "      <th>doc_id</th>\n",
       "      <th>document_create_date</th>\n",
       "      <th>document_create_date.1</th>\n",
       "      <th>due_in_date</th>\n",
       "      <th>posting_id</th>\n",
       "      <th>area_business</th>\n",
       "      <th>total_open_amount</th>\n",
       "      <th>baseline_create_date</th>\n",
       "      <th>invoice_id</th>\n",
       "      <th>isOpen</th>\n",
       "    </tr>\n",
       "  </thead>\n",
       "  <tbody>\n",
       "    <tr>\n",
       "      <th>count</th>\n",
       "      <td>50000.000000</td>\n",
       "      <td>5.000000e+04</td>\n",
       "      <td>5.000000e+04</td>\n",
       "      <td>5.000000e+04</td>\n",
       "      <td>5.000000e+04</td>\n",
       "      <td>50000.0</td>\n",
       "      <td>0.0</td>\n",
       "      <td>50000.000000</td>\n",
       "      <td>5.000000e+04</td>\n",
       "      <td>4.999400e+04</td>\n",
       "      <td>50000.000000</td>\n",
       "    </tr>\n",
       "    <tr>\n",
       "      <th>mean</th>\n",
       "      <td>2019.305700</td>\n",
       "      <td>2.012238e+09</td>\n",
       "      <td>2.019351e+07</td>\n",
       "      <td>2.019354e+07</td>\n",
       "      <td>2.019368e+07</td>\n",
       "      <td>1.0</td>\n",
       "      <td>NaN</td>\n",
       "      <td>32337.021651</td>\n",
       "      <td>2.019354e+07</td>\n",
       "      <td>2.011340e+09</td>\n",
       "      <td>0.200000</td>\n",
       "    </tr>\n",
       "    <tr>\n",
       "      <th>std</th>\n",
       "      <td>0.460708</td>\n",
       "      <td>2.885235e+08</td>\n",
       "      <td>4.496041e+03</td>\n",
       "      <td>4.482134e+03</td>\n",
       "      <td>4.470614e+03</td>\n",
       "      <td>0.0</td>\n",
       "      <td>NaN</td>\n",
       "      <td>39205.975231</td>\n",
       "      <td>4.482701e+03</td>\n",
       "      <td>2.766335e+08</td>\n",
       "      <td>0.400004</td>\n",
       "    </tr>\n",
       "    <tr>\n",
       "      <th>min</th>\n",
       "      <td>2019.000000</td>\n",
       "      <td>1.928502e+09</td>\n",
       "      <td>2.018123e+07</td>\n",
       "      <td>2.018123e+07</td>\n",
       "      <td>2.018122e+07</td>\n",
       "      <td>1.0</td>\n",
       "      <td>NaN</td>\n",
       "      <td>0.720000</td>\n",
       "      <td>2.018121e+07</td>\n",
       "      <td>1.928502e+09</td>\n",
       "      <td>0.000000</td>\n",
       "    </tr>\n",
       "    <tr>\n",
       "      <th>25%</th>\n",
       "      <td>2019.000000</td>\n",
       "      <td>1.929342e+09</td>\n",
       "      <td>2.019050e+07</td>\n",
       "      <td>2.019051e+07</td>\n",
       "      <td>2.019052e+07</td>\n",
       "      <td>1.0</td>\n",
       "      <td>NaN</td>\n",
       "      <td>4928.312500</td>\n",
       "      <td>2.019050e+07</td>\n",
       "      <td>1.929342e+09</td>\n",
       "      <td>0.000000</td>\n",
       "    </tr>\n",
       "    <tr>\n",
       "      <th>50%</th>\n",
       "      <td>2019.000000</td>\n",
       "      <td>1.929964e+09</td>\n",
       "      <td>2.019091e+07</td>\n",
       "      <td>2.019091e+07</td>\n",
       "      <td>2.019093e+07</td>\n",
       "      <td>1.0</td>\n",
       "      <td>NaN</td>\n",
       "      <td>17609.010000</td>\n",
       "      <td>2.019091e+07</td>\n",
       "      <td>1.929964e+09</td>\n",
       "      <td>0.000000</td>\n",
       "    </tr>\n",
       "    <tr>\n",
       "      <th>75%</th>\n",
       "      <td>2020.000000</td>\n",
       "      <td>1.930619e+09</td>\n",
       "      <td>2.020013e+07</td>\n",
       "      <td>2.020013e+07</td>\n",
       "      <td>2.020022e+07</td>\n",
       "      <td>1.0</td>\n",
       "      <td>NaN</td>\n",
       "      <td>47133.635000</td>\n",
       "      <td>2.020013e+07</td>\n",
       "      <td>1.930619e+09</td>\n",
       "      <td>0.000000</td>\n",
       "    </tr>\n",
       "    <tr>\n",
       "      <th>max</th>\n",
       "      <td>2020.000000</td>\n",
       "      <td>9.500000e+09</td>\n",
       "      <td>2.020052e+07</td>\n",
       "      <td>2.020052e+07</td>\n",
       "      <td>2.020071e+07</td>\n",
       "      <td>1.0</td>\n",
       "      <td>NaN</td>\n",
       "      <td>668593.360000</td>\n",
       "      <td>2.020052e+07</td>\n",
       "      <td>2.960636e+09</td>\n",
       "      <td>1.000000</td>\n",
       "    </tr>\n",
       "  </tbody>\n",
       "</table>\n",
       "</div>\n",
       "      <button class=\"colab-df-convert\" onclick=\"convertToInteractive('df-fa9bdd92-6795-43e1-9c97-ba62aef4039a')\"\n",
       "              title=\"Convert this dataframe to an interactive table.\"\n",
       "              style=\"display:none;\">\n",
       "        \n",
       "  <svg xmlns=\"http://www.w3.org/2000/svg\" height=\"24px\"viewBox=\"0 0 24 24\"\n",
       "       width=\"24px\">\n",
       "    <path d=\"M0 0h24v24H0V0z\" fill=\"none\"/>\n",
       "    <path d=\"M18.56 5.44l.94 2.06.94-2.06 2.06-.94-2.06-.94-.94-2.06-.94 2.06-2.06.94zm-11 1L8.5 8.5l.94-2.06 2.06-.94-2.06-.94L8.5 2.5l-.94 2.06-2.06.94zm10 10l.94 2.06.94-2.06 2.06-.94-2.06-.94-.94-2.06-.94 2.06-2.06.94z\"/><path d=\"M17.41 7.96l-1.37-1.37c-.4-.4-.92-.59-1.43-.59-.52 0-1.04.2-1.43.59L10.3 9.45l-7.72 7.72c-.78.78-.78 2.05 0 2.83L4 21.41c.39.39.9.59 1.41.59.51 0 1.02-.2 1.41-.59l7.78-7.78 2.81-2.81c.8-.78.8-2.07 0-2.86zM5.41 20L4 18.59l7.72-7.72 1.47 1.35L5.41 20z\"/>\n",
       "  </svg>\n",
       "      </button>\n",
       "      \n",
       "  <style>\n",
       "    .colab-df-container {\n",
       "      display:flex;\n",
       "      flex-wrap:wrap;\n",
       "      gap: 12px;\n",
       "    }\n",
       "\n",
       "    .colab-df-convert {\n",
       "      background-color: #E8F0FE;\n",
       "      border: none;\n",
       "      border-radius: 50%;\n",
       "      cursor: pointer;\n",
       "      display: none;\n",
       "      fill: #1967D2;\n",
       "      height: 32px;\n",
       "      padding: 0 0 0 0;\n",
       "      width: 32px;\n",
       "    }\n",
       "\n",
       "    .colab-df-convert:hover {\n",
       "      background-color: #E2EBFA;\n",
       "      box-shadow: 0px 1px 2px rgba(60, 64, 67, 0.3), 0px 1px 3px 1px rgba(60, 64, 67, 0.15);\n",
       "      fill: #174EA6;\n",
       "    }\n",
       "\n",
       "    [theme=dark] .colab-df-convert {\n",
       "      background-color: #3B4455;\n",
       "      fill: #D2E3FC;\n",
       "    }\n",
       "\n",
       "    [theme=dark] .colab-df-convert:hover {\n",
       "      background-color: #434B5C;\n",
       "      box-shadow: 0px 1px 3px 1px rgba(0, 0, 0, 0.15);\n",
       "      filter: drop-shadow(0px 1px 2px rgba(0, 0, 0, 0.3));\n",
       "      fill: #FFFFFF;\n",
       "    }\n",
       "  </style>\n",
       "\n",
       "      <script>\n",
       "        const buttonEl =\n",
       "          document.querySelector('#df-fa9bdd92-6795-43e1-9c97-ba62aef4039a button.colab-df-convert');\n",
       "        buttonEl.style.display =\n",
       "          google.colab.kernel.accessAllowed ? 'block' : 'none';\n",
       "\n",
       "        async function convertToInteractive(key) {\n",
       "          const element = document.querySelector('#df-fa9bdd92-6795-43e1-9c97-ba62aef4039a');\n",
       "          const dataTable =\n",
       "            await google.colab.kernel.invokeFunction('convertToInteractive',\n",
       "                                                     [key], {});\n",
       "          if (!dataTable) return;\n",
       "\n",
       "          const docLinkHtml = 'Like what you see? Visit the ' +\n",
       "            '<a target=\"_blank\" href=https://colab.research.google.com/notebooks/data_table.ipynb>data table notebook</a>'\n",
       "            + ' to learn more about interactive tables.';\n",
       "          element.innerHTML = '';\n",
       "          dataTable['output_type'] = 'display_data';\n",
       "          await google.colab.output.renderOutput(dataTable, element);\n",
       "          const docLink = document.createElement('div');\n",
       "          docLink.innerHTML = docLinkHtml;\n",
       "          element.appendChild(docLink);\n",
       "        }\n",
       "      </script>\n",
       "    </div>\n",
       "  </div>\n",
       "  "
      ],
      "text/plain": [
       "       buisness_year        doc_id  ...    invoice_id        isOpen\n",
       "count   50000.000000  5.000000e+04  ...  4.999400e+04  50000.000000\n",
       "mean     2019.305700  2.012238e+09  ...  2.011340e+09      0.200000\n",
       "std         0.460708  2.885235e+08  ...  2.766335e+08      0.400004\n",
       "min      2019.000000  1.928502e+09  ...  1.928502e+09      0.000000\n",
       "25%      2019.000000  1.929342e+09  ...  1.929342e+09      0.000000\n",
       "50%      2019.000000  1.929964e+09  ...  1.929964e+09      0.000000\n",
       "75%      2020.000000  1.930619e+09  ...  1.930619e+09      0.000000\n",
       "max      2020.000000  9.500000e+09  ...  2.960636e+09      1.000000\n",
       "\n",
       "[8 rows x 11 columns]"
      ]
     },
     "execution_count": 673,
     "metadata": {},
     "output_type": "execute_result"
    }
   ],
   "source": [
    "data.describe()"
   ]
  },
  {
   "cell_type": "markdown",
   "id": "0f2c8d02",
   "metadata": {
    "id": "0f2c8d02"
   },
   "source": [
    "# Data Cleaning\n",
    "\n",
    "- Show top 5 records from the dataset"
   ]
  },
  {
   "cell_type": "code",
   "execution_count": 674,
   "id": "8f876212",
   "metadata": {
    "colab": {
     "base_uri": "https://localhost:8080/",
     "height": 357
    },
    "id": "8f876212",
    "outputId": "6c402ba6-4c65-4acf-d7de-a5c189f9e6d4"
   },
   "outputs": [
    {
     "data": {
      "text/html": [
       "\n",
       "  <div id=\"df-4485c697-7f94-45c2-8651-71d0c480eab2\">\n",
       "    <div class=\"colab-df-container\">\n",
       "      <div>\n",
       "<style scoped>\n",
       "    .dataframe tbody tr th:only-of-type {\n",
       "        vertical-align: middle;\n",
       "    }\n",
       "\n",
       "    .dataframe tbody tr th {\n",
       "        vertical-align: top;\n",
       "    }\n",
       "\n",
       "    .dataframe thead th {\n",
       "        text-align: right;\n",
       "    }\n",
       "</style>\n",
       "<table border=\"1\" class=\"dataframe\">\n",
       "  <thead>\n",
       "    <tr style=\"text-align: right;\">\n",
       "      <th></th>\n",
       "      <th>business_code</th>\n",
       "      <th>cust_number</th>\n",
       "      <th>name_customer</th>\n",
       "      <th>clear_date</th>\n",
       "      <th>buisness_year</th>\n",
       "      <th>doc_id</th>\n",
       "      <th>posting_date</th>\n",
       "      <th>document_create_date</th>\n",
       "      <th>document_create_date.1</th>\n",
       "      <th>due_in_date</th>\n",
       "      <th>invoice_currency</th>\n",
       "      <th>document type</th>\n",
       "      <th>posting_id</th>\n",
       "      <th>area_business</th>\n",
       "      <th>total_open_amount</th>\n",
       "      <th>baseline_create_date</th>\n",
       "      <th>cust_payment_terms</th>\n",
       "      <th>invoice_id</th>\n",
       "      <th>isOpen</th>\n",
       "    </tr>\n",
       "  </thead>\n",
       "  <tbody>\n",
       "    <tr>\n",
       "      <th>0</th>\n",
       "      <td>U001</td>\n",
       "      <td>0200769623</td>\n",
       "      <td>WAL-MAR corp</td>\n",
       "      <td>2020-02-11 00:00:00</td>\n",
       "      <td>2020.0</td>\n",
       "      <td>1.930438e+09</td>\n",
       "      <td>2020-01-26</td>\n",
       "      <td>20200125</td>\n",
       "      <td>20200126</td>\n",
       "      <td>20200210.0</td>\n",
       "      <td>USD</td>\n",
       "      <td>RV</td>\n",
       "      <td>1.0</td>\n",
       "      <td>NaN</td>\n",
       "      <td>54273.28</td>\n",
       "      <td>20200126.0</td>\n",
       "      <td>NAH4</td>\n",
       "      <td>1.930438e+09</td>\n",
       "      <td>0</td>\n",
       "    </tr>\n",
       "    <tr>\n",
       "      <th>1</th>\n",
       "      <td>U001</td>\n",
       "      <td>0200980828</td>\n",
       "      <td>BEN E</td>\n",
       "      <td>2019-08-08 00:00:00</td>\n",
       "      <td>2019.0</td>\n",
       "      <td>1.929646e+09</td>\n",
       "      <td>2019-07-22</td>\n",
       "      <td>20190722</td>\n",
       "      <td>20190722</td>\n",
       "      <td>20190811.0</td>\n",
       "      <td>USD</td>\n",
       "      <td>RV</td>\n",
       "      <td>1.0</td>\n",
       "      <td>NaN</td>\n",
       "      <td>79656.60</td>\n",
       "      <td>20190722.0</td>\n",
       "      <td>NAD1</td>\n",
       "      <td>1.929646e+09</td>\n",
       "      <td>0</td>\n",
       "    </tr>\n",
       "    <tr>\n",
       "      <th>2</th>\n",
       "      <td>U001</td>\n",
       "      <td>0200792734</td>\n",
       "      <td>MDV/ trust</td>\n",
       "      <td>2019-12-30 00:00:00</td>\n",
       "      <td>2019.0</td>\n",
       "      <td>1.929874e+09</td>\n",
       "      <td>2019-09-14</td>\n",
       "      <td>20190914</td>\n",
       "      <td>20190914</td>\n",
       "      <td>20190929.0</td>\n",
       "      <td>USD</td>\n",
       "      <td>RV</td>\n",
       "      <td>1.0</td>\n",
       "      <td>NaN</td>\n",
       "      <td>2253.86</td>\n",
       "      <td>20190914.0</td>\n",
       "      <td>NAA8</td>\n",
       "      <td>1.929874e+09</td>\n",
       "      <td>0</td>\n",
       "    </tr>\n",
       "    <tr>\n",
       "      <th>3</th>\n",
       "      <td>CA02</td>\n",
       "      <td>0140105686</td>\n",
       "      <td>SYSC llc</td>\n",
       "      <td>NaN</td>\n",
       "      <td>2020.0</td>\n",
       "      <td>2.960623e+09</td>\n",
       "      <td>2020-03-30</td>\n",
       "      <td>20200330</td>\n",
       "      <td>20200330</td>\n",
       "      <td>20200410.0</td>\n",
       "      <td>CAD</td>\n",
       "      <td>RV</td>\n",
       "      <td>1.0</td>\n",
       "      <td>NaN</td>\n",
       "      <td>3299.70</td>\n",
       "      <td>20200331.0</td>\n",
       "      <td>CA10</td>\n",
       "      <td>2.960623e+09</td>\n",
       "      <td>1</td>\n",
       "    </tr>\n",
       "    <tr>\n",
       "      <th>4</th>\n",
       "      <td>U001</td>\n",
       "      <td>0200769623</td>\n",
       "      <td>WAL-MAR foundation</td>\n",
       "      <td>2019-11-25 00:00:00</td>\n",
       "      <td>2019.0</td>\n",
       "      <td>1.930148e+09</td>\n",
       "      <td>2019-11-13</td>\n",
       "      <td>20191113</td>\n",
       "      <td>20191113</td>\n",
       "      <td>20191128.0</td>\n",
       "      <td>USD</td>\n",
       "      <td>RV</td>\n",
       "      <td>1.0</td>\n",
       "      <td>NaN</td>\n",
       "      <td>33133.29</td>\n",
       "      <td>20191113.0</td>\n",
       "      <td>NAH4</td>\n",
       "      <td>1.930148e+09</td>\n",
       "      <td>0</td>\n",
       "    </tr>\n",
       "  </tbody>\n",
       "</table>\n",
       "</div>\n",
       "      <button class=\"colab-df-convert\" onclick=\"convertToInteractive('df-4485c697-7f94-45c2-8651-71d0c480eab2')\"\n",
       "              title=\"Convert this dataframe to an interactive table.\"\n",
       "              style=\"display:none;\">\n",
       "        \n",
       "  <svg xmlns=\"http://www.w3.org/2000/svg\" height=\"24px\"viewBox=\"0 0 24 24\"\n",
       "       width=\"24px\">\n",
       "    <path d=\"M0 0h24v24H0V0z\" fill=\"none\"/>\n",
       "    <path d=\"M18.56 5.44l.94 2.06.94-2.06 2.06-.94-2.06-.94-.94-2.06-.94 2.06-2.06.94zm-11 1L8.5 8.5l.94-2.06 2.06-.94-2.06-.94L8.5 2.5l-.94 2.06-2.06.94zm10 10l.94 2.06.94-2.06 2.06-.94-2.06-.94-.94-2.06-.94 2.06-2.06.94z\"/><path d=\"M17.41 7.96l-1.37-1.37c-.4-.4-.92-.59-1.43-.59-.52 0-1.04.2-1.43.59L10.3 9.45l-7.72 7.72c-.78.78-.78 2.05 0 2.83L4 21.41c.39.39.9.59 1.41.59.51 0 1.02-.2 1.41-.59l7.78-7.78 2.81-2.81c.8-.78.8-2.07 0-2.86zM5.41 20L4 18.59l7.72-7.72 1.47 1.35L5.41 20z\"/>\n",
       "  </svg>\n",
       "      </button>\n",
       "      \n",
       "  <style>\n",
       "    .colab-df-container {\n",
       "      display:flex;\n",
       "      flex-wrap:wrap;\n",
       "      gap: 12px;\n",
       "    }\n",
       "\n",
       "    .colab-df-convert {\n",
       "      background-color: #E8F0FE;\n",
       "      border: none;\n",
       "      border-radius: 50%;\n",
       "      cursor: pointer;\n",
       "      display: none;\n",
       "      fill: #1967D2;\n",
       "      height: 32px;\n",
       "      padding: 0 0 0 0;\n",
       "      width: 32px;\n",
       "    }\n",
       "\n",
       "    .colab-df-convert:hover {\n",
       "      background-color: #E2EBFA;\n",
       "      box-shadow: 0px 1px 2px rgba(60, 64, 67, 0.3), 0px 1px 3px 1px rgba(60, 64, 67, 0.15);\n",
       "      fill: #174EA6;\n",
       "    }\n",
       "\n",
       "    [theme=dark] .colab-df-convert {\n",
       "      background-color: #3B4455;\n",
       "      fill: #D2E3FC;\n",
       "    }\n",
       "\n",
       "    [theme=dark] .colab-df-convert:hover {\n",
       "      background-color: #434B5C;\n",
       "      box-shadow: 0px 1px 3px 1px rgba(0, 0, 0, 0.15);\n",
       "      filter: drop-shadow(0px 1px 2px rgba(0, 0, 0, 0.3));\n",
       "      fill: #FFFFFF;\n",
       "    }\n",
       "  </style>\n",
       "\n",
       "      <script>\n",
       "        const buttonEl =\n",
       "          document.querySelector('#df-4485c697-7f94-45c2-8651-71d0c480eab2 button.colab-df-convert');\n",
       "        buttonEl.style.display =\n",
       "          google.colab.kernel.accessAllowed ? 'block' : 'none';\n",
       "\n",
       "        async function convertToInteractive(key) {\n",
       "          const element = document.querySelector('#df-4485c697-7f94-45c2-8651-71d0c480eab2');\n",
       "          const dataTable =\n",
       "            await google.colab.kernel.invokeFunction('convertToInteractive',\n",
       "                                                     [key], {});\n",
       "          if (!dataTable) return;\n",
       "\n",
       "          const docLinkHtml = 'Like what you see? Visit the ' +\n",
       "            '<a target=\"_blank\" href=https://colab.research.google.com/notebooks/data_table.ipynb>data table notebook</a>'\n",
       "            + ' to learn more about interactive tables.';\n",
       "          element.innerHTML = '';\n",
       "          dataTable['output_type'] = 'display_data';\n",
       "          await google.colab.output.renderOutput(dataTable, element);\n",
       "          const docLink = document.createElement('div');\n",
       "          docLink.innerHTML = docLinkHtml;\n",
       "          element.appendChild(docLink);\n",
       "        }\n",
       "      </script>\n",
       "    </div>\n",
       "  </div>\n",
       "  "
      ],
      "text/plain": [
       "  business_code cust_number  ...    invoice_id isOpen\n",
       "0          U001  0200769623  ...  1.930438e+09      0\n",
       "1          U001  0200980828  ...  1.929646e+09      0\n",
       "2          U001  0200792734  ...  1.929874e+09      0\n",
       "3          CA02  0140105686  ...  2.960623e+09      1\n",
       "4          U001  0200769623  ...  1.930148e+09      0\n",
       "\n",
       "[5 rows x 19 columns]"
      ]
     },
     "execution_count": 674,
     "metadata": {},
     "output_type": "execute_result"
    }
   ],
   "source": [
    "data.head(5)"
   ]
  },
  {
   "cell_type": "markdown",
   "id": "92b044e4",
   "metadata": {
    "id": "92b044e4"
   },
   "source": [
    "### Display the Null values percentage against every columns (compare to the total number of records)\n",
    "\n",
    "- Output expected : area_business - 100% null, clear_data = 20% null, invoice_id = 0.12% null"
   ]
  },
  {
   "cell_type": "code",
   "execution_count": 675,
   "id": "24c7b13d",
   "metadata": {
    "colab": {
     "base_uri": "https://localhost:8080/"
    },
    "id": "24c7b13d",
    "outputId": "c0233927-3e8b-42ca-ea7b-72bfc438009f"
   },
   "outputs": [
    {
     "name": "stdout",
     "output_type": "stream",
     "text": [
      "business_code               0.000\n",
      "cust_number                 0.000\n",
      "name_customer               0.000\n",
      "clear_date                 20.000\n",
      "buisness_year               0.000\n",
      "doc_id                      0.000\n",
      "posting_date                0.000\n",
      "document_create_date        0.000\n",
      "document_create_date.1      0.000\n",
      "due_in_date                 0.000\n",
      "invoice_currency            0.000\n",
      "document type               0.000\n",
      "posting_id                  0.000\n",
      "area_business             100.000\n",
      "total_open_amount           0.000\n",
      "baseline_create_date        0.000\n",
      "cust_payment_terms          0.000\n",
      "invoice_id                  0.012\n",
      "isOpen                      0.000\n",
      "dtype: float64\n"
     ]
    }
   ],
   "source": [
    "percent_missing = data.isnull().sum() * 100 / len(data)\n",
    "print(percent_missing)"
   ]
  },
  {
   "cell_type": "markdown",
   "id": "2c46a98b",
   "metadata": {
    "id": "2c46a98b"
   },
   "source": [
    "### Display Invoice_id and Doc_Id\n",
    "\n",
    "- Note - Many of the would have same invoice_id and doc_id\n"
   ]
  },
  {
   "cell_type": "code",
   "execution_count": 676,
   "id": "038f24bb",
   "metadata": {
    "colab": {
     "base_uri": "https://localhost:8080/",
     "height": 423
    },
    "id": "038f24bb",
    "outputId": "a7de2514-e660-4cef-f604-7dceee364f9f"
   },
   "outputs": [
    {
     "data": {
      "text/html": [
       "\n",
       "  <div id=\"df-bc0ae296-33c2-4acb-aaec-b92208f5f46b\">\n",
       "    <div class=\"colab-df-container\">\n",
       "      <div>\n",
       "<style scoped>\n",
       "    .dataframe tbody tr th:only-of-type {\n",
       "        vertical-align: middle;\n",
       "    }\n",
       "\n",
       "    .dataframe tbody tr th {\n",
       "        vertical-align: top;\n",
       "    }\n",
       "\n",
       "    .dataframe thead th {\n",
       "        text-align: right;\n",
       "    }\n",
       "</style>\n",
       "<table border=\"1\" class=\"dataframe\">\n",
       "  <thead>\n",
       "    <tr style=\"text-align: right;\">\n",
       "      <th></th>\n",
       "      <th>invoice_id</th>\n",
       "      <th>doc_id</th>\n",
       "    </tr>\n",
       "  </thead>\n",
       "  <tbody>\n",
       "    <tr>\n",
       "      <th>0</th>\n",
       "      <td>1.930438e+09</td>\n",
       "      <td>1.930438e+09</td>\n",
       "    </tr>\n",
       "    <tr>\n",
       "      <th>1</th>\n",
       "      <td>1.929646e+09</td>\n",
       "      <td>1.929646e+09</td>\n",
       "    </tr>\n",
       "    <tr>\n",
       "      <th>2</th>\n",
       "      <td>1.929874e+09</td>\n",
       "      <td>1.929874e+09</td>\n",
       "    </tr>\n",
       "    <tr>\n",
       "      <th>3</th>\n",
       "      <td>2.960623e+09</td>\n",
       "      <td>2.960623e+09</td>\n",
       "    </tr>\n",
       "    <tr>\n",
       "      <th>4</th>\n",
       "      <td>1.930148e+09</td>\n",
       "      <td>1.930148e+09</td>\n",
       "    </tr>\n",
       "    <tr>\n",
       "      <th>...</th>\n",
       "      <td>...</td>\n",
       "      <td>...</td>\n",
       "    </tr>\n",
       "    <tr>\n",
       "      <th>49995</th>\n",
       "      <td>1.930797e+09</td>\n",
       "      <td>1.930797e+09</td>\n",
       "    </tr>\n",
       "    <tr>\n",
       "      <th>49996</th>\n",
       "      <td>1.929744e+09</td>\n",
       "      <td>1.929744e+09</td>\n",
       "    </tr>\n",
       "    <tr>\n",
       "      <th>49997</th>\n",
       "      <td>1.930537e+09</td>\n",
       "      <td>1.930537e+09</td>\n",
       "    </tr>\n",
       "    <tr>\n",
       "      <th>49998</th>\n",
       "      <td>1.930199e+09</td>\n",
       "      <td>1.930199e+09</td>\n",
       "    </tr>\n",
       "    <tr>\n",
       "      <th>49999</th>\n",
       "      <td>1.928576e+09</td>\n",
       "      <td>1.928576e+09</td>\n",
       "    </tr>\n",
       "  </tbody>\n",
       "</table>\n",
       "<p>50000 rows × 2 columns</p>\n",
       "</div>\n",
       "      <button class=\"colab-df-convert\" onclick=\"convertToInteractive('df-bc0ae296-33c2-4acb-aaec-b92208f5f46b')\"\n",
       "              title=\"Convert this dataframe to an interactive table.\"\n",
       "              style=\"display:none;\">\n",
       "        \n",
       "  <svg xmlns=\"http://www.w3.org/2000/svg\" height=\"24px\"viewBox=\"0 0 24 24\"\n",
       "       width=\"24px\">\n",
       "    <path d=\"M0 0h24v24H0V0z\" fill=\"none\"/>\n",
       "    <path d=\"M18.56 5.44l.94 2.06.94-2.06 2.06-.94-2.06-.94-.94-2.06-.94 2.06-2.06.94zm-11 1L8.5 8.5l.94-2.06 2.06-.94-2.06-.94L8.5 2.5l-.94 2.06-2.06.94zm10 10l.94 2.06.94-2.06 2.06-.94-2.06-.94-.94-2.06-.94 2.06-2.06.94z\"/><path d=\"M17.41 7.96l-1.37-1.37c-.4-.4-.92-.59-1.43-.59-.52 0-1.04.2-1.43.59L10.3 9.45l-7.72 7.72c-.78.78-.78 2.05 0 2.83L4 21.41c.39.39.9.59 1.41.59.51 0 1.02-.2 1.41-.59l7.78-7.78 2.81-2.81c.8-.78.8-2.07 0-2.86zM5.41 20L4 18.59l7.72-7.72 1.47 1.35L5.41 20z\"/>\n",
       "  </svg>\n",
       "      </button>\n",
       "      \n",
       "  <style>\n",
       "    .colab-df-container {\n",
       "      display:flex;\n",
       "      flex-wrap:wrap;\n",
       "      gap: 12px;\n",
       "    }\n",
       "\n",
       "    .colab-df-convert {\n",
       "      background-color: #E8F0FE;\n",
       "      border: none;\n",
       "      border-radius: 50%;\n",
       "      cursor: pointer;\n",
       "      display: none;\n",
       "      fill: #1967D2;\n",
       "      height: 32px;\n",
       "      padding: 0 0 0 0;\n",
       "      width: 32px;\n",
       "    }\n",
       "\n",
       "    .colab-df-convert:hover {\n",
       "      background-color: #E2EBFA;\n",
       "      box-shadow: 0px 1px 2px rgba(60, 64, 67, 0.3), 0px 1px 3px 1px rgba(60, 64, 67, 0.15);\n",
       "      fill: #174EA6;\n",
       "    }\n",
       "\n",
       "    [theme=dark] .colab-df-convert {\n",
       "      background-color: #3B4455;\n",
       "      fill: #D2E3FC;\n",
       "    }\n",
       "\n",
       "    [theme=dark] .colab-df-convert:hover {\n",
       "      background-color: #434B5C;\n",
       "      box-shadow: 0px 1px 3px 1px rgba(0, 0, 0, 0.15);\n",
       "      filter: drop-shadow(0px 1px 2px rgba(0, 0, 0, 0.3));\n",
       "      fill: #FFFFFF;\n",
       "    }\n",
       "  </style>\n",
       "\n",
       "      <script>\n",
       "        const buttonEl =\n",
       "          document.querySelector('#df-bc0ae296-33c2-4acb-aaec-b92208f5f46b button.colab-df-convert');\n",
       "        buttonEl.style.display =\n",
       "          google.colab.kernel.accessAllowed ? 'block' : 'none';\n",
       "\n",
       "        async function convertToInteractive(key) {\n",
       "          const element = document.querySelector('#df-bc0ae296-33c2-4acb-aaec-b92208f5f46b');\n",
       "          const dataTable =\n",
       "            await google.colab.kernel.invokeFunction('convertToInteractive',\n",
       "                                                     [key], {});\n",
       "          if (!dataTable) return;\n",
       "\n",
       "          const docLinkHtml = 'Like what you see? Visit the ' +\n",
       "            '<a target=\"_blank\" href=https://colab.research.google.com/notebooks/data_table.ipynb>data table notebook</a>'\n",
       "            + ' to learn more about interactive tables.';\n",
       "          element.innerHTML = '';\n",
       "          dataTable['output_type'] = 'display_data';\n",
       "          await google.colab.output.renderOutput(dataTable, element);\n",
       "          const docLink = document.createElement('div');\n",
       "          docLink.innerHTML = docLinkHtml;\n",
       "          element.appendChild(docLink);\n",
       "        }\n",
       "      </script>\n",
       "    </div>\n",
       "  </div>\n",
       "  "
      ],
      "text/plain": [
       "         invoice_id        doc_id\n",
       "0      1.930438e+09  1.930438e+09\n",
       "1      1.929646e+09  1.929646e+09\n",
       "2      1.929874e+09  1.929874e+09\n",
       "3      2.960623e+09  2.960623e+09\n",
       "4      1.930148e+09  1.930148e+09\n",
       "...             ...           ...\n",
       "49995  1.930797e+09  1.930797e+09\n",
       "49996  1.929744e+09  1.929744e+09\n",
       "49997  1.930537e+09  1.930537e+09\n",
       "49998  1.930199e+09  1.930199e+09\n",
       "49999  1.928576e+09  1.928576e+09\n",
       "\n",
       "[50000 rows x 2 columns]"
      ]
     },
     "execution_count": 676,
     "metadata": {},
     "output_type": "execute_result"
    }
   ],
   "source": [
    "data[['invoice_id','doc_id']]"
   ]
  },
  {
   "cell_type": "markdown",
   "id": "18cfe10a",
   "metadata": {
    "id": "18cfe10a"
   },
   "source": [
    "#### Write a code to check - 'baseline_create_date',\"document_create_date\",'document_create_date.1' - these columns are almost same.\n",
    "\n",
    "- Please note, if they are same, we need to drop them later\n",
    "\n"
   ]
  },
  {
   "cell_type": "code",
   "execution_count": 677,
   "id": "cf5b40ff",
   "metadata": {
    "colab": {
     "base_uri": "https://localhost:8080/",
     "height": 143
    },
    "id": "cf5b40ff",
    "outputId": "1777b1eb-4174-4771-fc90-4e89f914a297"
   },
   "outputs": [
    {
     "data": {
      "text/html": [
       "\n",
       "  <div id=\"df-139d9e12-0433-44cc-b1af-2f711ec1c376\">\n",
       "    <div class=\"colab-df-container\">\n",
       "      <div>\n",
       "<style scoped>\n",
       "    .dataframe tbody tr th:only-of-type {\n",
       "        vertical-align: middle;\n",
       "    }\n",
       "\n",
       "    .dataframe tbody tr th {\n",
       "        vertical-align: top;\n",
       "    }\n",
       "\n",
       "    .dataframe thead th {\n",
       "        text-align: right;\n",
       "    }\n",
       "</style>\n",
       "<table border=\"1\" class=\"dataframe\">\n",
       "  <thead>\n",
       "    <tr style=\"text-align: right;\">\n",
       "      <th></th>\n",
       "      <th>baseline_create_date</th>\n",
       "      <th>document_create_date</th>\n",
       "      <th>document_create_date.1</th>\n",
       "    </tr>\n",
       "  </thead>\n",
       "  <tbody>\n",
       "    <tr>\n",
       "      <th>baseline_create_date</th>\n",
       "      <td>1.000000</td>\n",
       "      <td>0.994078</td>\n",
       "      <td>0.999527</td>\n",
       "    </tr>\n",
       "    <tr>\n",
       "      <th>document_create_date</th>\n",
       "      <td>0.994078</td>\n",
       "      <td>1.000000</td>\n",
       "      <td>0.994547</td>\n",
       "    </tr>\n",
       "    <tr>\n",
       "      <th>document_create_date.1</th>\n",
       "      <td>0.999527</td>\n",
       "      <td>0.994547</td>\n",
       "      <td>1.000000</td>\n",
       "    </tr>\n",
       "  </tbody>\n",
       "</table>\n",
       "</div>\n",
       "      <button class=\"colab-df-convert\" onclick=\"convertToInteractive('df-139d9e12-0433-44cc-b1af-2f711ec1c376')\"\n",
       "              title=\"Convert this dataframe to an interactive table.\"\n",
       "              style=\"display:none;\">\n",
       "        \n",
       "  <svg xmlns=\"http://www.w3.org/2000/svg\" height=\"24px\"viewBox=\"0 0 24 24\"\n",
       "       width=\"24px\">\n",
       "    <path d=\"M0 0h24v24H0V0z\" fill=\"none\"/>\n",
       "    <path d=\"M18.56 5.44l.94 2.06.94-2.06 2.06-.94-2.06-.94-.94-2.06-.94 2.06-2.06.94zm-11 1L8.5 8.5l.94-2.06 2.06-.94-2.06-.94L8.5 2.5l-.94 2.06-2.06.94zm10 10l.94 2.06.94-2.06 2.06-.94-2.06-.94-.94-2.06-.94 2.06-2.06.94z\"/><path d=\"M17.41 7.96l-1.37-1.37c-.4-.4-.92-.59-1.43-.59-.52 0-1.04.2-1.43.59L10.3 9.45l-7.72 7.72c-.78.78-.78 2.05 0 2.83L4 21.41c.39.39.9.59 1.41.59.51 0 1.02-.2 1.41-.59l7.78-7.78 2.81-2.81c.8-.78.8-2.07 0-2.86zM5.41 20L4 18.59l7.72-7.72 1.47 1.35L5.41 20z\"/>\n",
       "  </svg>\n",
       "      </button>\n",
       "      \n",
       "  <style>\n",
       "    .colab-df-container {\n",
       "      display:flex;\n",
       "      flex-wrap:wrap;\n",
       "      gap: 12px;\n",
       "    }\n",
       "\n",
       "    .colab-df-convert {\n",
       "      background-color: #E8F0FE;\n",
       "      border: none;\n",
       "      border-radius: 50%;\n",
       "      cursor: pointer;\n",
       "      display: none;\n",
       "      fill: #1967D2;\n",
       "      height: 32px;\n",
       "      padding: 0 0 0 0;\n",
       "      width: 32px;\n",
       "    }\n",
       "\n",
       "    .colab-df-convert:hover {\n",
       "      background-color: #E2EBFA;\n",
       "      box-shadow: 0px 1px 2px rgba(60, 64, 67, 0.3), 0px 1px 3px 1px rgba(60, 64, 67, 0.15);\n",
       "      fill: #174EA6;\n",
       "    }\n",
       "\n",
       "    [theme=dark] .colab-df-convert {\n",
       "      background-color: #3B4455;\n",
       "      fill: #D2E3FC;\n",
       "    }\n",
       "\n",
       "    [theme=dark] .colab-df-convert:hover {\n",
       "      background-color: #434B5C;\n",
       "      box-shadow: 0px 1px 3px 1px rgba(0, 0, 0, 0.15);\n",
       "      filter: drop-shadow(0px 1px 2px rgba(0, 0, 0, 0.3));\n",
       "      fill: #FFFFFF;\n",
       "    }\n",
       "  </style>\n",
       "\n",
       "      <script>\n",
       "        const buttonEl =\n",
       "          document.querySelector('#df-139d9e12-0433-44cc-b1af-2f711ec1c376 button.colab-df-convert');\n",
       "        buttonEl.style.display =\n",
       "          google.colab.kernel.accessAllowed ? 'block' : 'none';\n",
       "\n",
       "        async function convertToInteractive(key) {\n",
       "          const element = document.querySelector('#df-139d9e12-0433-44cc-b1af-2f711ec1c376');\n",
       "          const dataTable =\n",
       "            await google.colab.kernel.invokeFunction('convertToInteractive',\n",
       "                                                     [key], {});\n",
       "          if (!dataTable) return;\n",
       "\n",
       "          const docLinkHtml = 'Like what you see? Visit the ' +\n",
       "            '<a target=\"_blank\" href=https://colab.research.google.com/notebooks/data_table.ipynb>data table notebook</a>'\n",
       "            + ' to learn more about interactive tables.';\n",
       "          element.innerHTML = '';\n",
       "          dataTable['output_type'] = 'display_data';\n",
       "          await google.colab.output.renderOutput(dataTable, element);\n",
       "          const docLink = document.createElement('div');\n",
       "          docLink.innerHTML = docLinkHtml;\n",
       "          element.appendChild(docLink);\n",
       "        }\n",
       "      </script>\n",
       "    </div>\n",
       "  </div>\n",
       "  "
      ],
      "text/plain": [
       "                        baseline_create_date  ...  document_create_date.1\n",
       "baseline_create_date                1.000000  ...                0.999527\n",
       "document_create_date                0.994078  ...                0.994547\n",
       "document_create_date.1              0.999527  ...                1.000000\n",
       "\n",
       "[3 rows x 3 columns]"
      ]
     },
     "execution_count": 677,
     "metadata": {},
     "output_type": "execute_result"
    }
   ],
   "source": [
    "df = data[['baseline_create_date',\"document_create_date\",'document_create_date.1']].corr()\n",
    "df"
   ]
  },
  {
   "cell_type": "markdown",
   "id": "33110576",
   "metadata": {
    "id": "33110576"
   },
   "source": [
    "#### Please check, Column 'posting_id' is constant columns or not\n"
   ]
  },
  {
   "cell_type": "code",
   "execution_count": 678,
   "id": "ecce2664",
   "metadata": {
    "colab": {
     "base_uri": "https://localhost:8080/"
    },
    "id": "ecce2664",
    "outputId": "5f2462e0-a888-4ddf-9fda-5d3e240831dd"
   },
   "outputs": [
    {
     "name": "stdout",
     "output_type": "stream",
     "text": [
      "Yes Constant\n"
     ]
    }
   ],
   "source": [
    "if(len(data['posting_id'].unique()) == 1):\n",
    "  print(\"Yes Constant\")\n",
    "else:\n",
    "  print(\"Not Constant\")"
   ]
  },
  {
   "cell_type": "markdown",
   "id": "e5fb8daf",
   "metadata": {
    "id": "e5fb8daf"
   },
   "source": [
    "#### Please check 'isOpen' is a constant column and relevant column for this project or not"
   ]
  },
  {
   "cell_type": "code",
   "execution_count": 679,
   "id": "8db9956b",
   "metadata": {
    "colab": {
     "base_uri": "https://localhost:8080/"
    },
    "id": "8db9956b",
    "outputId": "e6ba666e-cf48-4853-b8a2-a5678eaa6c5f"
   },
   "outputs": [
    {
     "name": "stdout",
     "output_type": "stream",
     "text": [
      "Not Constant\n",
      "isOpen column is of no use in this project \n",
      "\n"
     ]
    }
   ],
   "source": [
    "if(len(data['isOpen'].unique()) == 1):\n",
    "  print(\"Yes Constant\")\n",
    "else:\n",
    "  print(\"Not Constant\")\n",
    "\n",
    "print(\"isOpen column is of no use in this project \\n\")  "
   ]
  },
  {
   "cell_type": "markdown",
   "id": "45a11a62",
   "metadata": {
    "id": "45a11a62"
   },
   "source": [
    "### Write the code to drop all the following columns from the dataframe\n",
    "\n",
    "- 'area_business'\n",
    "- \"posting_id\"\n",
    "- \"invoice_id\"\n",
    "- \"document_create_date\"\n",
    "- \"isOpen\"\n",
    "- 'document type' \n",
    "- 'document_create_date.1"
   ]
  },
  {
   "cell_type": "code",
   "execution_count": 680,
   "id": "270d85d1",
   "metadata": {
    "colab": {
     "base_uri": "https://localhost:8080/"
    },
    "id": "270d85d1",
    "outputId": "26b94d54-0361-44a2-8112-443574df72b2"
   },
   "outputs": [
    {
     "name": "stdout",
     "output_type": "stream",
     "text": [
      "Columns dropped\n"
     ]
    }
   ],
   "source": [
    "data = data.drop(['area_business',\n",
    "'posting_id',\n",
    "'invoice_id',\n",
    "'document_create_date',\n",
    "'isOpen',\n",
    "'document type',\n",
    "'document_create_date.1'],axis=1)\n",
    "print(\"Columns dropped\")\n"
   ]
  },
  {
   "cell_type": "markdown",
   "id": "K5LHAM2XVGnk",
   "metadata": {
    "id": "K5LHAM2XVGnk"
   },
   "source": [
    "### Please check from the dataframe whether all the columns are removed or not "
   ]
  },
  {
   "cell_type": "code",
   "execution_count": 681,
   "id": "ef3f7d2b",
   "metadata": {
    "colab": {
     "base_uri": "https://localhost:8080/"
    },
    "id": "ef3f7d2b",
    "outputId": "394dbb7d-1374-496f-c401-6e943f710874"
   },
   "outputs": [
    {
     "data": {
      "text/plain": [
       "(50000, 12)"
      ]
     },
     "execution_count": 681,
     "metadata": {},
     "output_type": "execute_result"
    }
   ],
   "source": [
    "data.shape\n"
   ]
  },
  {
   "cell_type": "markdown",
   "id": "6bc052c7",
   "metadata": {
    "id": "6bc052c7"
   },
   "source": [
    "### Show all the Duplicate rows from the dataframe"
   ]
  },
  {
   "cell_type": "code",
   "execution_count": 682,
   "id": "1ae3c7e4",
   "metadata": {
    "colab": {
     "base_uri": "https://localhost:8080/"
    },
    "id": "1ae3c7e4",
    "outputId": "71763897-4cf0-482e-cfed-ae2147470b77"
   },
   "outputs": [
    {
     "name": "stdout",
     "output_type": "stream",
     "text": [
      "      business_code cust_number  ... baseline_create_date cust_payment_terms\n",
      "1041           U001  0200769623  ...           20190228.0               NAH4\n",
      "2400           U001  0200769623  ...           20190818.0               NAH4\n",
      "2584           U001  0200769623  ...           20191204.0               NAH4\n",
      "3755           U001  0200769623  ...           20191112.0               NAH4\n",
      "3873           CA02  0140104409  ...           20200415.0               CA10\n",
      "...             ...         ...  ...                  ...                ...\n",
      "49928          U001  0200915438  ...           20190725.0               NAA8\n",
      "49963          U001  0200759878  ...           20190113.0               NAH4\n",
      "49986          U001  0200772670  ...           20190529.0               NAU5\n",
      "49990          U001  0200765011  ...           20190522.0               NAA8\n",
      "49991          U001  0200704045  ...           20191010.0               NAA8\n",
      "\n",
      "[1161 rows x 12 columns]\n"
     ]
    }
   ],
   "source": [
    "duplicates = data[data.duplicated()]\n",
    "print(duplicates)"
   ]
  },
  {
   "cell_type": "markdown",
   "id": "464fab09",
   "metadata": {
    "id": "464fab09"
   },
   "source": [
    "### Display the Number of Duplicate Rows"
   ]
  },
  {
   "cell_type": "code",
   "execution_count": 683,
   "id": "b1ea2397",
   "metadata": {
    "colab": {
     "base_uri": "https://localhost:8080/"
    },
    "id": "b1ea2397",
    "outputId": "d00b26bc-9237-4766-c066-e832b06bc7ea"
   },
   "outputs": [
    {
     "name": "stdout",
     "output_type": "stream",
     "text": [
      "1161\n"
     ]
    }
   ],
   "source": [
    "print(len(duplicates))"
   ]
  },
  {
   "cell_type": "markdown",
   "id": "827a6718",
   "metadata": {
    "id": "827a6718"
   },
   "source": [
    "### Drop all the Duplicate Rows"
   ]
  },
  {
   "cell_type": "code",
   "execution_count": 684,
   "id": "5d10151c",
   "metadata": {
    "colab": {
     "base_uri": "https://localhost:8080/",
     "height": 626
    },
    "id": "5d10151c",
    "outputId": "1dca3dfe-a6c9-49a1-d32c-8bb801b1ffee"
   },
   "outputs": [
    {
     "data": {
      "text/html": [
       "\n",
       "  <div id=\"df-911a7d5f-62b3-48ea-bd81-8f8494a6f422\">\n",
       "    <div class=\"colab-df-container\">\n",
       "      <div>\n",
       "<style scoped>\n",
       "    .dataframe tbody tr th:only-of-type {\n",
       "        vertical-align: middle;\n",
       "    }\n",
       "\n",
       "    .dataframe tbody tr th {\n",
       "        vertical-align: top;\n",
       "    }\n",
       "\n",
       "    .dataframe thead th {\n",
       "        text-align: right;\n",
       "    }\n",
       "</style>\n",
       "<table border=\"1\" class=\"dataframe\">\n",
       "  <thead>\n",
       "    <tr style=\"text-align: right;\">\n",
       "      <th></th>\n",
       "      <th>business_code</th>\n",
       "      <th>cust_number</th>\n",
       "      <th>name_customer</th>\n",
       "      <th>clear_date</th>\n",
       "      <th>buisness_year</th>\n",
       "      <th>doc_id</th>\n",
       "      <th>posting_date</th>\n",
       "      <th>due_in_date</th>\n",
       "      <th>invoice_currency</th>\n",
       "      <th>total_open_amount</th>\n",
       "      <th>baseline_create_date</th>\n",
       "      <th>cust_payment_terms</th>\n",
       "    </tr>\n",
       "  </thead>\n",
       "  <tbody>\n",
       "    <tr>\n",
       "      <th>0</th>\n",
       "      <td>U001</td>\n",
       "      <td>0200769623</td>\n",
       "      <td>WAL-MAR corp</td>\n",
       "      <td>2020-02-11 00:00:00</td>\n",
       "      <td>2020.0</td>\n",
       "      <td>1.930438e+09</td>\n",
       "      <td>2020-01-26</td>\n",
       "      <td>20200210.0</td>\n",
       "      <td>USD</td>\n",
       "      <td>54273.28</td>\n",
       "      <td>20200126.0</td>\n",
       "      <td>NAH4</td>\n",
       "    </tr>\n",
       "    <tr>\n",
       "      <th>1</th>\n",
       "      <td>U001</td>\n",
       "      <td>0200980828</td>\n",
       "      <td>BEN E</td>\n",
       "      <td>2019-08-08 00:00:00</td>\n",
       "      <td>2019.0</td>\n",
       "      <td>1.929646e+09</td>\n",
       "      <td>2019-07-22</td>\n",
       "      <td>20190811.0</td>\n",
       "      <td>USD</td>\n",
       "      <td>79656.60</td>\n",
       "      <td>20190722.0</td>\n",
       "      <td>NAD1</td>\n",
       "    </tr>\n",
       "    <tr>\n",
       "      <th>2</th>\n",
       "      <td>U001</td>\n",
       "      <td>0200792734</td>\n",
       "      <td>MDV/ trust</td>\n",
       "      <td>2019-12-30 00:00:00</td>\n",
       "      <td>2019.0</td>\n",
       "      <td>1.929874e+09</td>\n",
       "      <td>2019-09-14</td>\n",
       "      <td>20190929.0</td>\n",
       "      <td>USD</td>\n",
       "      <td>2253.86</td>\n",
       "      <td>20190914.0</td>\n",
       "      <td>NAA8</td>\n",
       "    </tr>\n",
       "    <tr>\n",
       "      <th>3</th>\n",
       "      <td>CA02</td>\n",
       "      <td>0140105686</td>\n",
       "      <td>SYSC llc</td>\n",
       "      <td>NaN</td>\n",
       "      <td>2020.0</td>\n",
       "      <td>2.960623e+09</td>\n",
       "      <td>2020-03-30</td>\n",
       "      <td>20200410.0</td>\n",
       "      <td>CAD</td>\n",
       "      <td>3299.70</td>\n",
       "      <td>20200331.0</td>\n",
       "      <td>CA10</td>\n",
       "    </tr>\n",
       "    <tr>\n",
       "      <th>4</th>\n",
       "      <td>U001</td>\n",
       "      <td>0200769623</td>\n",
       "      <td>WAL-MAR foundation</td>\n",
       "      <td>2019-11-25 00:00:00</td>\n",
       "      <td>2019.0</td>\n",
       "      <td>1.930148e+09</td>\n",
       "      <td>2019-11-13</td>\n",
       "      <td>20191128.0</td>\n",
       "      <td>USD</td>\n",
       "      <td>33133.29</td>\n",
       "      <td>20191113.0</td>\n",
       "      <td>NAH4</td>\n",
       "    </tr>\n",
       "    <tr>\n",
       "      <th>...</th>\n",
       "      <td>...</td>\n",
       "      <td>...</td>\n",
       "      <td>...</td>\n",
       "      <td>...</td>\n",
       "      <td>...</td>\n",
       "      <td>...</td>\n",
       "      <td>...</td>\n",
       "      <td>...</td>\n",
       "      <td>...</td>\n",
       "      <td>...</td>\n",
       "      <td>...</td>\n",
       "      <td>...</td>\n",
       "    </tr>\n",
       "    <tr>\n",
       "      <th>49995</th>\n",
       "      <td>U001</td>\n",
       "      <td>0200561861</td>\n",
       "      <td>CO corporation</td>\n",
       "      <td>NaN</td>\n",
       "      <td>2020.0</td>\n",
       "      <td>1.930797e+09</td>\n",
       "      <td>2020-04-21</td>\n",
       "      <td>20200506.0</td>\n",
       "      <td>USD</td>\n",
       "      <td>3187.86</td>\n",
       "      <td>20200421.0</td>\n",
       "      <td>NAA8</td>\n",
       "    </tr>\n",
       "    <tr>\n",
       "      <th>49996</th>\n",
       "      <td>U001</td>\n",
       "      <td>0200769623</td>\n",
       "      <td>WAL-MAR co</td>\n",
       "      <td>2019-09-03 00:00:00</td>\n",
       "      <td>2019.0</td>\n",
       "      <td>1.929744e+09</td>\n",
       "      <td>2019-08-15</td>\n",
       "      <td>20190830.0</td>\n",
       "      <td>USD</td>\n",
       "      <td>6766.54</td>\n",
       "      <td>20190815.0</td>\n",
       "      <td>NAH4</td>\n",
       "    </tr>\n",
       "    <tr>\n",
       "      <th>49997</th>\n",
       "      <td>U001</td>\n",
       "      <td>0200772595</td>\n",
       "      <td>SAFEW associates</td>\n",
       "      <td>2020-03-05 00:00:00</td>\n",
       "      <td>2020.0</td>\n",
       "      <td>1.930537e+09</td>\n",
       "      <td>2020-02-19</td>\n",
       "      <td>20200305.0</td>\n",
       "      <td>USD</td>\n",
       "      <td>6120.86</td>\n",
       "      <td>20200219.0</td>\n",
       "      <td>NAA8</td>\n",
       "    </tr>\n",
       "    <tr>\n",
       "      <th>49998</th>\n",
       "      <td>U001</td>\n",
       "      <td>0200726979</td>\n",
       "      <td>BJ'S  llc</td>\n",
       "      <td>2019-12-12 00:00:00</td>\n",
       "      <td>2019.0</td>\n",
       "      <td>1.930199e+09</td>\n",
       "      <td>2019-11-27</td>\n",
       "      <td>20191212.0</td>\n",
       "      <td>USD</td>\n",
       "      <td>63.48</td>\n",
       "      <td>20191127.0</td>\n",
       "      <td>NAA8</td>\n",
       "    </tr>\n",
       "    <tr>\n",
       "      <th>49999</th>\n",
       "      <td>U001</td>\n",
       "      <td>0200020431</td>\n",
       "      <td>DEC corp</td>\n",
       "      <td>2019-01-15 00:00:00</td>\n",
       "      <td>2019.0</td>\n",
       "      <td>1.928576e+09</td>\n",
       "      <td>2019-01-05</td>\n",
       "      <td>20190124.0</td>\n",
       "      <td>USD</td>\n",
       "      <td>1790.30</td>\n",
       "      <td>20190101.0</td>\n",
       "      <td>NAM4</td>\n",
       "    </tr>\n",
       "  </tbody>\n",
       "</table>\n",
       "<p>48839 rows × 12 columns</p>\n",
       "</div>\n",
       "      <button class=\"colab-df-convert\" onclick=\"convertToInteractive('df-911a7d5f-62b3-48ea-bd81-8f8494a6f422')\"\n",
       "              title=\"Convert this dataframe to an interactive table.\"\n",
       "              style=\"display:none;\">\n",
       "        \n",
       "  <svg xmlns=\"http://www.w3.org/2000/svg\" height=\"24px\"viewBox=\"0 0 24 24\"\n",
       "       width=\"24px\">\n",
       "    <path d=\"M0 0h24v24H0V0z\" fill=\"none\"/>\n",
       "    <path d=\"M18.56 5.44l.94 2.06.94-2.06 2.06-.94-2.06-.94-.94-2.06-.94 2.06-2.06.94zm-11 1L8.5 8.5l.94-2.06 2.06-.94-2.06-.94L8.5 2.5l-.94 2.06-2.06.94zm10 10l.94 2.06.94-2.06 2.06-.94-2.06-.94-.94-2.06-.94 2.06-2.06.94z\"/><path d=\"M17.41 7.96l-1.37-1.37c-.4-.4-.92-.59-1.43-.59-.52 0-1.04.2-1.43.59L10.3 9.45l-7.72 7.72c-.78.78-.78 2.05 0 2.83L4 21.41c.39.39.9.59 1.41.59.51 0 1.02-.2 1.41-.59l7.78-7.78 2.81-2.81c.8-.78.8-2.07 0-2.86zM5.41 20L4 18.59l7.72-7.72 1.47 1.35L5.41 20z\"/>\n",
       "  </svg>\n",
       "      </button>\n",
       "      \n",
       "  <style>\n",
       "    .colab-df-container {\n",
       "      display:flex;\n",
       "      flex-wrap:wrap;\n",
       "      gap: 12px;\n",
       "    }\n",
       "\n",
       "    .colab-df-convert {\n",
       "      background-color: #E8F0FE;\n",
       "      border: none;\n",
       "      border-radius: 50%;\n",
       "      cursor: pointer;\n",
       "      display: none;\n",
       "      fill: #1967D2;\n",
       "      height: 32px;\n",
       "      padding: 0 0 0 0;\n",
       "      width: 32px;\n",
       "    }\n",
       "\n",
       "    .colab-df-convert:hover {\n",
       "      background-color: #E2EBFA;\n",
       "      box-shadow: 0px 1px 2px rgba(60, 64, 67, 0.3), 0px 1px 3px 1px rgba(60, 64, 67, 0.15);\n",
       "      fill: #174EA6;\n",
       "    }\n",
       "\n",
       "    [theme=dark] .colab-df-convert {\n",
       "      background-color: #3B4455;\n",
       "      fill: #D2E3FC;\n",
       "    }\n",
       "\n",
       "    [theme=dark] .colab-df-convert:hover {\n",
       "      background-color: #434B5C;\n",
       "      box-shadow: 0px 1px 3px 1px rgba(0, 0, 0, 0.15);\n",
       "      filter: drop-shadow(0px 1px 2px rgba(0, 0, 0, 0.3));\n",
       "      fill: #FFFFFF;\n",
       "    }\n",
       "  </style>\n",
       "\n",
       "      <script>\n",
       "        const buttonEl =\n",
       "          document.querySelector('#df-911a7d5f-62b3-48ea-bd81-8f8494a6f422 button.colab-df-convert');\n",
       "        buttonEl.style.display =\n",
       "          google.colab.kernel.accessAllowed ? 'block' : 'none';\n",
       "\n",
       "        async function convertToInteractive(key) {\n",
       "          const element = document.querySelector('#df-911a7d5f-62b3-48ea-bd81-8f8494a6f422');\n",
       "          const dataTable =\n",
       "            await google.colab.kernel.invokeFunction('convertToInteractive',\n",
       "                                                     [key], {});\n",
       "          if (!dataTable) return;\n",
       "\n",
       "          const docLinkHtml = 'Like what you see? Visit the ' +\n",
       "            '<a target=\"_blank\" href=https://colab.research.google.com/notebooks/data_table.ipynb>data table notebook</a>'\n",
       "            + ' to learn more about interactive tables.';\n",
       "          element.innerHTML = '';\n",
       "          dataTable['output_type'] = 'display_data';\n",
       "          await google.colab.output.renderOutput(dataTable, element);\n",
       "          const docLink = document.createElement('div');\n",
       "          docLink.innerHTML = docLinkHtml;\n",
       "          element.appendChild(docLink);\n",
       "        }\n",
       "      </script>\n",
       "    </div>\n",
       "  </div>\n",
       "  "
      ],
      "text/plain": [
       "      business_code cust_number  ... baseline_create_date cust_payment_terms\n",
       "0              U001  0200769623  ...           20200126.0               NAH4\n",
       "1              U001  0200980828  ...           20190722.0               NAD1\n",
       "2              U001  0200792734  ...           20190914.0               NAA8\n",
       "3              CA02  0140105686  ...           20200331.0               CA10\n",
       "4              U001  0200769623  ...           20191113.0               NAH4\n",
       "...             ...         ...  ...                  ...                ...\n",
       "49995          U001  0200561861  ...           20200421.0               NAA8\n",
       "49996          U001  0200769623  ...           20190815.0               NAH4\n",
       "49997          U001  0200772595  ...           20200219.0               NAA8\n",
       "49998          U001  0200726979  ...           20191127.0               NAA8\n",
       "49999          U001  0200020431  ...           20190101.0               NAM4\n",
       "\n",
       "[48839 rows x 12 columns]"
      ]
     },
     "execution_count": 684,
     "metadata": {},
     "output_type": "execute_result"
    }
   ],
   "source": [
    "data = data.drop_duplicates()\n",
    "data"
   ]
  },
  {
   "cell_type": "markdown",
   "id": "7e5d1f9b",
   "metadata": {
    "id": "7e5d1f9b"
   },
   "source": [
    "#### Now check for all duplicate rows now\n",
    "\n",
    "- Note - It must be 0 by now"
   ]
  },
  {
   "cell_type": "code",
   "execution_count": 685,
   "id": "9accc9fc",
   "metadata": {
    "colab": {
     "base_uri": "https://localhost:8080/"
    },
    "id": "9accc9fc",
    "outputId": "0353c18d-a188-4b5a-abb1-c0d9c48eeded"
   },
   "outputs": [
    {
     "name": "stdout",
     "output_type": "stream",
     "text": [
      "0\n"
     ]
    }
   ],
   "source": [
    "duplicates = data[data.duplicated()]\n",
    "print(len(duplicates))"
   ]
  },
  {
   "cell_type": "markdown",
   "id": "d0704898",
   "metadata": {
    "id": "d0704898"
   },
   "source": [
    "### Check for the number of Rows and Columns in your dataset"
   ]
  },
  {
   "cell_type": "code",
   "execution_count": 686,
   "id": "582748a8",
   "metadata": {
    "colab": {
     "base_uri": "https://localhost:8080/"
    },
    "id": "582748a8",
    "outputId": "dc20109d-1ba2-424b-a7e7-83b742393a90"
   },
   "outputs": [
    {
     "name": "stdout",
     "output_type": "stream",
     "text": [
      "ROWS :  48839\n",
      "Colums :  12\n"
     ]
    }
   ],
   "source": [
    "shape = data.shape\n",
    "print(\"ROWS : \", shape[0])\n",
    "print(\"Colums : \", shape[1])\n"
   ]
  },
  {
   "cell_type": "markdown",
   "id": "4o9c5UodWRtl",
   "metadata": {
    "id": "4o9c5UodWRtl"
   },
   "source": [
    "### Find out the total count of null values in each columns"
   ]
  },
  {
   "cell_type": "code",
   "execution_count": 687,
   "id": "b0612cb5",
   "metadata": {
    "colab": {
     "base_uri": "https://localhost:8080/"
    },
    "id": "b0612cb5",
    "outputId": "ec40f994-8c32-4916-9b5e-26b6b55a6878"
   },
   "outputs": [
    {
     "data": {
      "text/plain": [
       "business_code              0\n",
       "cust_number                0\n",
       "name_customer              0\n",
       "clear_date              9681\n",
       "buisness_year              0\n",
       "doc_id                     0\n",
       "posting_date               0\n",
       "due_in_date                0\n",
       "invoice_currency           0\n",
       "total_open_amount          0\n",
       "baseline_create_date       0\n",
       "cust_payment_terms         0\n",
       "dtype: int64"
      ]
     },
     "execution_count": 687,
     "metadata": {},
     "output_type": "execute_result"
    }
   ],
   "source": [
    "data.isna().sum()"
   ]
  },
  {
   "cell_type": "markdown",
   "id": "7abdb98b",
   "metadata": {
    "id": "7abdb98b"
   },
   "source": [
    "#Data type Conversion "
   ]
  },
  {
   "cell_type": "markdown",
   "id": "LPfSUSp-WpPj",
   "metadata": {
    "id": "LPfSUSp-WpPj"
   },
   "source": [
    "### Please check the data type of each column of the dataframe"
   ]
  },
  {
   "cell_type": "code",
   "execution_count": 688,
   "id": "689c8592",
   "metadata": {
    "colab": {
     "base_uri": "https://localhost:8080/"
    },
    "id": "689c8592",
    "outputId": "d72cc45c-3fd1-4d7b-ed65-b0cc54424775"
   },
   "outputs": [
    {
     "data": {
      "text/plain": [
       "business_code            object\n",
       "cust_number              object\n",
       "name_customer            object\n",
       "clear_date               object\n",
       "buisness_year           float64\n",
       "doc_id                  float64\n",
       "posting_date             object\n",
       "due_in_date             float64\n",
       "invoice_currency         object\n",
       "total_open_amount       float64\n",
       "baseline_create_date    float64\n",
       "cust_payment_terms       object\n",
       "dtype: object"
      ]
     },
     "execution_count": 688,
     "metadata": {},
     "output_type": "execute_result"
    }
   ],
   "source": [
    "data.dtypes"
   ]
  },
  {
   "cell_type": "markdown",
   "id": "0nsem0_3XzOt",
   "metadata": {
    "id": "0nsem0_3XzOt"
   },
   "source": [
    "### Check the datatype format of below columns\n",
    "\n",
    "- clear_date  \n",
    "- posting_date\n",
    "- due_in_date \n",
    "- baseline_create_date"
   ]
  },
  {
   "cell_type": "code",
   "execution_count": 689,
   "id": "-yyODyW3X6pL",
   "metadata": {
    "colab": {
     "base_uri": "https://localhost:8080/"
    },
    "id": "-yyODyW3X6pL",
    "outputId": "0debc670-c686-4d61-b543-1592fc3e69ee"
   },
   "outputs": [
    {
     "data": {
      "text/plain": [
       "clear_date               object\n",
       "posting_date             object\n",
       "due_in_date             float64\n",
       "baseline_create_date    float64\n",
       "dtype: object"
      ]
     },
     "execution_count": 689,
     "metadata": {},
     "output_type": "execute_result"
    }
   ],
   "source": [
    "data[['clear_date',\n",
    "'posting_date',\n",
    "'due_in_date',\n",
    "'baseline_create_date']].dtypes"
   ]
  },
  {
   "cell_type": "markdown",
   "id": "11cf9478",
   "metadata": {
    "id": "11cf9478"
   },
   "source": [
    "### converting date columns into date time formats\n",
    "\n",
    "- clear_date  \n",
    "- posting_date\n",
    "- due_in_date \n",
    "- baseline_create_date\n",
    "\n",
    "\n",
    "- **Note - You have to convert all these above columns into \"%Y%m%d\" format**"
   ]
  },
  {
   "cell_type": "code",
   "execution_count": 690,
   "id": "9a8c6c71",
   "metadata": {
    "id": "9a8c6c71"
   },
   "outputs": [],
   "source": [
    "data['clear_date'] = pd.to_datetime(data['clear_date'])\n",
    "data['posting_date'] = pd.to_datetime(data['posting_date'])\n",
    "data['due_in_date'] = pd.to_datetime(data['due_in_date'], format='%Y%m%d')\n",
    "data['baseline_create_date'] = pd.to_datetime(data['baseline_create_date'], format='%Y%m%d')\n"
   ]
  },
  {
   "cell_type": "markdown",
   "id": "7adq0wSIYSCS",
   "metadata": {
    "id": "7adq0wSIYSCS"
   },
   "source": [
    "### Please check the datatype of all the columns after conversion of the above 4 columns"
   ]
  },
  {
   "cell_type": "code",
   "execution_count": 691,
   "id": "fd028c61",
   "metadata": {
    "colab": {
     "base_uri": "https://localhost:8080/"
    },
    "id": "fd028c61",
    "outputId": "793d62fb-cc24-410d-f562-0268d606875a"
   },
   "outputs": [
    {
     "data": {
      "text/plain": [
       "clear_date              datetime64[ns]\n",
       "posting_date            datetime64[ns]\n",
       "due_in_date             datetime64[ns]\n",
       "baseline_create_date    datetime64[ns]\n",
       "dtype: object"
      ]
     },
     "execution_count": 691,
     "metadata": {},
     "output_type": "execute_result"
    }
   ],
   "source": [
    "data[['clear_date',\n",
    "'posting_date',\n",
    "'due_in_date',\n",
    "'baseline_create_date']].dtypes"
   ]
  },
  {
   "cell_type": "markdown",
   "id": "8c9882fa",
   "metadata": {
    "id": "8c9882fa"
   },
   "source": [
    "#### the invoice_currency column contains two different categories, USD and CAD\n",
    "\n",
    "- Please do a count of each currency "
   ]
  },
  {
   "cell_type": "code",
   "execution_count": 692,
   "id": "72085397",
   "metadata": {
    "colab": {
     "base_uri": "https://localhost:8080/"
    },
    "id": "72085397",
    "outputId": "9137830c-b16f-4aa9-c6d4-aca64c56da8d"
   },
   "outputs": [
    {
     "data": {
      "text/plain": [
       "USD    45011\n",
       "CAD     3828\n",
       "Name: invoice_currency, dtype: int64"
      ]
     },
     "execution_count": 692,
     "metadata": {},
     "output_type": "execute_result"
    }
   ],
   "source": [
    "data['invoice_currency'].value_counts()"
   ]
  },
  {
   "cell_type": "markdown",
   "id": "6cbe26ee",
   "metadata": {
    "id": "6cbe26ee"
   },
   "source": [
    "#### display the \"total_open_amount\" column value"
   ]
  },
  {
   "cell_type": "code",
   "execution_count": 693,
   "id": "6c49f2ab",
   "metadata": {
    "colab": {
     "base_uri": "https://localhost:8080/"
    },
    "id": "6c49f2ab",
    "outputId": "3f2d22d1-6f3b-4058-9343-f313f941d699"
   },
   "outputs": [
    {
     "name": "stdout",
     "output_type": "stream",
     "text": [
      "[54273.28, 79656.6, 2253.86, 3299.7, 33133.29, 22225.84, 7358.49, 11173.02, 15995.04, 28.63, 3525.59, 103147.37, 16381.45, 19581.57, 121105.65, 3726.06, 5181.51, 19082.14, 12819.5, 53349.54, 5683.5, 11845.19, 5893.01, 20079.58, 11307.78, 92832.27, 36188.11, 11380.83, 412.09, 48413.28, 6023.53, 17307.51, 341.14, 365.87, 32751.88, 3863.93, 39221.31, 74453.01, 46961.92, 51641.33, 52187.72, 4953.83, 54714.07, 3228.13, 31715.46, 138.6, 34565.51, 65353.0, 49723.89, 353.96, 3435.96, 32715.47, 174.72, 21418.85, 12606.72, 25580.96, 20360.19, 767.78, 322.48, 91102.25, 73077.72, 2827.8, 3285.62, 6912.0, 24351.25, 22491.08, 981.31, 71008.69, 8445.33, 79935.8, 2829.6, 13636.19, 71047.42, 3748.84, 74898.29, 6300.98, 14514.68, 55400.31, 26520.18, 174766.36, 75138.42, 78043.58, 51234.16, 31512.75, 19701.55, 42362.3, 6347.86, 48129.8, 132.72, 5957.04, 423.47, 32415.05, 1328.25, 116300.54, 1121.15, 11394.84, 20306.46, 17243.1, 22993.63, 18939.75, 13872.48, 937.68, 3685.2, 1170.27, 23976.32, 18828.87, 720.78, 13091.11, 28.32, 19665.2, 52123.3, 67034.28, 14994.01, 36.06, 13112.14, 19997.78, 124047.42, 99386.3, 2211.63, 2588.65, 99608.36, 16982.59, 1721.07, 13533.21, 3225.75, 1172.53, 32944.47, 11443.14, 4884.0, 38182.86, 24960.0, 25836.19, 17710.21, 7790.06, 48577.93, 4309.05, 316.8, 70181.07, 3403.8, 1867.12, 1715.7, 31309.71, 94490.93, 6663.09, 16245.14, 46665.92, 20463.04, 26097.25, 10665.53, 19190.96, 7642.71, 22759.63, 1683.46, 320.06, 33523.0, 7040.6, 45235.58, 13873.43, 61001.54, 17479.1, 28649.56, 46474.49, 14516.79, 16101.13, 15258.5, 69527.13, 15026.34, 83081.83, 38.22, 20557.14, 37071.97, 13683.15, 9481.83, 344.27, 2254.37, 820.4, 17231.53, 1591.96, 7280.51, 38899.31, 4819.24, 95073.2, 13859.37, 20857.19, 13768.73, 82605.09, 6377.39, 42383.25, 13681.7, 1735.16, 475.69, 58990.76, 12591.43, 33947.85, 48398.85, 14752.57, 8972.99, 4537.14, 1686.74, 14355.96, 367.71, 22096.07, 14278.48, 56284.77, 7000.45, 48806.26, 29929.01, 6681.26, 19170.69, 98321.98, 89474.22, 1244.9, 19496.39, 136.08, 50493.86, 15489.43, 20367.5, 58.08, 24643.72, 20557.14, 9536.62, 8301.45, 15823.03, 134457.26, 3476.52, 495.86, 642.24, 16907.57, 51147.1, 133113.36, 6733.93, 44952.8, 49.44, 72721.08, 54073.74, 3329.23, 2416.07, 360.33, 3703.19, 39293.61, 56042.28, 26666.4, 3826.03, 24209.83, 11523.97, 92913.93, 7884.97, 30162.79, 2155.28, 20217.6, 23150.75, 43371.16, 17336.04, 53750.69, 96674.05, 113.47, 74819.57, 22990.16, 61757.57, 5595.12, 14382.22, 1264.16, 3195.37, 15804.65, 25468.67, 35509.95, 17520.12, 3490.87, 13512.61, 67110.85, 96922.79, 2407.15, 24421.33, 1897.5, 14232.21, 11217.33, 15925.12, 12554.13, 15725.29, 7224.52, 510.06, 36211.47, 16793.1, 2974.01, 61646.9, 52396.08, 16912.8, 245.54, 126919.03, 16930.48, 14949.55, 29880.86, 2960.57, 18126.73, 72955.78, 40768.12, 20211.37, 58082.83, 59.16, 28812.25, 55286.67, 24834.9, 110103.7, 4698.17, 73644.11, 17741.14, 73283.45, 15872.12, 44874.28, 13.65, 54614.3, 50202.83, 8299.7, 39409.42, 51602.13, 18913.86, 68.91, 535045.04, 20695.38, 18900.99, 19020.02, 383.64, 464.08, 49467.7, 10187.66, 27497.1, 3795.7, 61470.32, 62.7, 117771.0, 237.4, 59953.23, 71580.0, 11532.84, 785.26, 6127.08, 6156.93, 69976.62, 66520.4, 955.72, 20017.92, 51733.48, 27350.39, 53200.16, 47825.79, 14793.88, 65476.71, 45346.85, 20557.14, 131654.89, 48098.93, 49160.75, 294.66, 22348.78, 34035.71, 81427.89, 148653.48, 881.08, 23707.2, 167.97, 326.39, 26663.52, 5320.85, 30900.83, 263908.02, 15608.85, 64523.68, 981.17, 23669.98, 133941.99, 43342.59, 52633.36, 18335.4, 30.18, 126.24, 17457.22, 74006.39, 709.01, 3098.03, 64575.56, 141.6, 934.82, 36365.76, 65843.26, 2067.18, 59731.06, 7787.1, 2175.46, 5417.93, 21953.66, 660.04, 25093.71, 1583.54, 186.72, 41744.71, 44117.6, 359.44, 62936.98, 22644.2, 1427.36, 10210.46, 6293.46, 99091.71, 6543.44, 43759.47, 58744.01, 18583.57, 13437.26, 39259.33, 35428.53, 2213.68, 7035.0, 576.88, 18033.31, 92275.72, 1898.2, 3762.15, 10129.32, 28760.55, 106394.18, 31956.18, 81703.39, 3566.36, 801.1, 33.12, 36833.34, 42383.25, 62776.37, 3566.69, 28136.25, 210.96, 26530.93, 9949.04, 8885.57, 33163.97, 1023.37, 90731.43, 304528.77, 79535.97, 14634.32, 15893.27, 45768.31, 70180.8, 83046.76, 6475.55, 119384.36, 11852.54, 11225.42, 47344.96, 167.97, 66176.65, 151372.68, 118272.16, 21592.15, 5456.75, 57185.76, 1092.51, 24049.99, 81500.86, 795.63, 61673.46, 87020.67, 50939.87, 18312.28, 267.3, 86698.97, 33418.94, 235.24, 749.14, 3429.83, 2219.89, 15489.78, 22635.54, 126107.91, 54671.37, 35615.31, 239.42, 7411.86, 1898.2, 2160.29, 30377.47, 7992.72, 3612.39, 2931.16, 1195.4, 22041.56, 11545.38, 17719.73, 21273.77, 1730.7, 17851.5, 37029.64, 28108.5, 47646.57, 13689.19, 9165.0, 48970.0, 2254.43, 5932.51, 43829.94, 9886.67, 9222.81, 1635.76, 15539.03, 512.0, 261811.32, 73309.01, 1915.56, 28175.07, 4200.0, 15549.86, 1286.3, 96075.67, 206.36, 48849.17, 37124.42, 99568.42, 12707.34, 4699.2, 3612.63, 102276.04, 14757.7, 12307.79, 265.5, 1690.11, 43007.61, 1717.53, 14744.33, 79706.18, 64370.78, 24130.19, 5767.83, 110271.34, 72903.12, 12194.52, 14073.81, 33475.3, 103040.02, 21332.5, 11530.3, 50732.36, 17464.0, 15132.2, 67686.57, 13370.36, 42379.83, 2156.16, 31798.83, 3795.7, 766.53, 58685.57, 1714.14, 15810.45, 9907.2, 41616.57, 44460.03, 5625.41, 640.81, 17375.6, 1761.84, 13665.79, 374.32, 713.84, 5621.11, 71693.24, 778.4, 72624.23, 4735.92, 51.66, 42391.3, 33778.35, 94612.03, 16935.86, 753.87, 1687.37, 10795.15, 26104.88, 32527.63, 70163.54, 139.52, 13108.5, 12005.99, 43121.23, 22226.35, 1715.75, 8666.06, 1200.99, 88502.01, 47004.5, 14743.96, 10295.37, 51669.22, 21555.55, 113631.54, 12806.7, 4702.73, 1982.06, 3193.13, 117723.35, 565.17, 2326.08, 9822.38, 149033.4, 38476.57, 140453.73, 8942.17, 1473.29, 32135.44, 4612.56, 114429.2, 14780.25, 1235.26, 20388.61, 4871.52, 43191.66, 14879.66, 6779.1, 29592.42, 2279.05, 47903.76, 1898.9, 80350.75, 16091.15, 1191.92, 1897.5, 7524.17, 871.01, 2428.04, 47291.41, 1176.59, 10302.08, 38294.27, 43056.57, 10978.51, 113594.29, 1355.27, 76933.62, 2714.35, 544.42, 170156.62, 1584.8, 18495.86, 19557.41, 3711.48, 45127.79, 398.16, 135078.23, 12731.68, 28860.44, 58726.21, 588.49, 50578.05, 16282.38, 70142.76, 48.74, 5323.59, 10203.2, 728.01, 25685.07, 20282.98, 9222.81, 15839.46, 10020.14, 158.23, 88433.88, 48022.97, 159967.24, 39664.91, 36623.03, 22644.53, 822.03, 38128.47, 7212.0, 15797.23, 93149.86, 2018.45, 2779.34, 86572.76, 471.56, 113248.8, 23699.69, 14706.98, 115494.14, 44409.01, 14135.58, 1898.9, 70114.05, 37684.36, 19961.05, 46316.04, 48057.12, 83492.85, 3466.86, 28327.91, 995.02, 8587.2, 12028.76, 7837.29, 11826.09, 32198.4, 83318.45, 24843.48, 47009.34, 32224.05, 9937.06, 35525.25, 7414.98, 9031.16, 74804.43, 18145.19, 14029.84, 43441.4, 4302.64, 37441.9, 12417.47, 567.96, 63.33, 42169.82, 124813.55, 61733.75, 68612.73, 16907.37, 4301.57, 22549.83, 83649.87, 93120.58, 11148.0, 9117.6, 18145.19, 75652.09, 123571.55, 97776.0, 50574.77, 10374.15, 43105.4, 53246.58, 233.63, 85745.12, 7235.42, 31599.18, 13044.44, 8931.94, 868.89, 3075.3, 37050.19, 52645.42, 1084.89, 21113.92, 14864.04, 2342.0, 6648.18, 16286.18, 18250.2, 137768.6, 1481.01, 13720.16, 35052.83, 54315.94, 13548.66, 35898.48, 11990.8, 36360.46, 109248.63, 33.18, 24.13, 9506.24, 6891.47, 19606.32, 356.13, 40865.79, 5600.41, 1074.15, 57990.49, 1055.0, 14776.32, 60843.47, 17521.53, 7465.1, 36161.66, 31376.61, 1066.04, 51951.41, 3895.98, 17817.7, 2813.28, 100889.17, 1596.91, 47397.91, 813.21, 136.51, 93656.42, 151747.67, 26660.05, 15363.53, 15975.71, 38842.72, 57816.02, 20465.05, 9316.78, 471.56, 106995.64, 21239.7, 66918.46, 120252.05, 23137.12, 728.02, 4729.18, 1412.26, 7704.0, 107.72, 10700.11, 22952.87, 15477.22, 2274.48, 61618.82, 7214.57, 11797.98, 18025.63, 14194.81, 46232.17, 2351.5, 19195.56, 42399.7, 19164.44, 27.0, 374.54, 2378.02, 136843.3, 62843.85, 66230.48, 47393.05, 8001.57, 142732.08, 17940.4, 2184.2, 889.68, 77915.7, 46934.33, 155.68, 3629.22, 43176.81, 8273.55, 7943.13, 11859.28, 10162.97, 91756.55, 22732.45, 263.31, 48583.18, 44840.54, 36180.8, 24282.42, 15.42, 134134.07, 10903.6, 33032.12, 739.19, 6803.07, 25729.19, 136578.08, 7921.21, 74648.08, 71480.75, 67907.14, 1572.26, 15505.86, 51516.27, 5887.21, 205.09, 14149.02, 5164.92, 31428.83, 38905.5, 165.03, 9836.64, 46150.68, 7625.11, 2440.08, 19440.0, 52290.82, 32652.69, 1143.91, 10153.85, 13905.36, 33132.17, 14486.57, 14448.41, 33795.12, 40101.2, 1011.24, 59586.06, 29604.62, 38105.19, 1109.22, 124605.44, 7927.73, 16487.57, 11337.31, 32039.34, 50054.82, 37209.64, 3652.34, 727.71, 16254.84, 467.72, 134095.09, 13664.07, 90635.92, 334.3, 4329.96, 41395.2, 292.94, 33450.91, 30673.55, 6836.12, 245007.78, 92271.69, 53858.83, 35023.47, 85213.51, 60353.2, 13691.52, 35352.17, 2082.1, 4551.58, 13512.08, 27839.82, 25499.04, 8917.91, 86200.93, 29541.96, 43.08, 55611.36, 261.84, 52804.65, 4098.25, 10104.04, 43253.5, 452.82, 179330.62, 71128.23, 17662.12, 6112.99, 30875.1, 33837.66, 33520.3, 32260.93, 39165.33, 16156.49, 3118.63, 16465.98, 60538.4, 11696.53, 21760.18, 57558.02, 19047.56, 8115.04, 152067.79, 1897.5, 106.56, 38160.69, 14368.86, 15791.12, 2725.63, 640.0, 298.33, 683.91, 50383.76, 30927.52, 1129.29, 159076.46, 15842.4, 1367.02, 3117.84, 138997.94, 1273.44, 40127.37, 16962.09, 17745.75, 1643.11, 1898.2, 18759.49, 7723.2, 7251.5, 420.0, 17060.17, 65037.69, 7622.26, 771.62, 28743.91, 3745.49, 9163.34, 524.31, 286.7, 5123.95, 133776.12, 238420.36, 8528.63, 49946.74, 1183.45, 5137.63, 8401.19, 12738.78, 14800.28, 17818.3, 103125.0, 4994.95, 30457.27, 98913.14, 28232.05, 17701.5, 53859.97, 32441.12, 38179.67, 3804.56, 10040.94, 2704.53, 13524.16, 376.35, 40960.18, 24862.11, 51855.63, 28220.4, 77867.24, 195583.64, 6786.5, 71108.88, 9838.08, 60594.08, 1222.75, 18493.2, 27030.55, 51770.21, 18144.8, 45750.52, 89814.73, 13586.4, 41397.26, 22387.37, 61394.52, 14964.9, 73216.23, 68419.98, 66682.52, 8126.8, 23298.58, 13730.84, 23897.25, 191999.14, 26518.68, 54420.22, 9182.4, 22466.36, 3010.12, 12430.45, 4041.99, 82206.66, 14666.28, 15609.19, 61849.57, 94895.77, 108570.13, 16196.66, 23448.25, 19945.76, 199.53, 3754.34, 173755.57, 67417.08, 20391.92, 83095.78, 186.17, 5801.67, 11515.66, 149467.35, 50767.6, 44782.11, 42151.56, 16829.23, 42647.01, 810.96, 6811.24, 3712.99, 1328.25, 7466.94, 22456.09, 111507.2, 43343.91, 2944.97, 24504.26, 3092.4, 889.08, 44748.0, 11462.19, 56602.67, 19002.25, 15673.51, 53616.34, 5701.62, 40783.56, 14890.27, 173239.52, 9387.87, 5678.23, 38758.41, 45144.4, 66504.51, 232.08, 25585.94, 16151.2, 7873.55, 30316.62, 17408.37, 42202.32, 14395.17, 1180.07, 2871.65, 3828.71, 840.67, 56261.98, 3479.04, 1655.46, 5344.32, 41629.12, 421.78, 102080.18, 54651.53, 46068.37, 42117.17, 10662.94, 38991.71, 25837.8, 140.81, 27377.29, 20664.37, 116998.97, 485.06, 22704.0, 5231.91, 31116.42, 17733.56, 44531.53, 174.72, 4334.4, 53327.32, 12322.77, 70726.38, 41962.03, 13876.93, 10648.32, 41785.45, 38169.79, 3939.0, 53812.94, 114464.24, 29972.7, 61595.55, 14661.88, 58168.39, 51407.61, 42013.63, 4355.07, 9369.27, 19290.65, 67944.33, 347.23, 518.6, 3124.7, 34862.79, 56076.31, 7549.32, 17770.01, 58607.34, 19561.32, 195.0, 35961.87, 16674.74, 143326.89, 1268.4, 21060.54, 35.73, 32553.0, 35219.37, 169676.34, 14627.23, 1897.5, 5233.56, 4129.98, 47697.3, 50578.26, 2646.37, 84059.72, 82015.03, 52621.77, 108.58, 6766.67, 76444.16, 22278.76, 32840.52, 22182.23, 88919.61, 103975.5, 105489.86, 4527.35, 94017.25, 15719.48, 25380.35, 6020.45, 1677.91, 41628.67, 134841.94, 3527.53, 5875.15, 6832.47, 96538.11, 16764.17, 46305.0, 30512.76, 14776.31, 1050.16, 15259.08, 1356.55, 7156.0, 30368.48, 120098.69, 16496.44, 21311.0, 4627.72, 38494.47, 7730.59, 63999.45, 25835.82, 3785.4, 18353.82, 3213.18, 12970.77, 5645.7, 52669.7, 15284.38, 32623.1, 11606.87, 2788.62, 56058.8, 8347.97, 126754.41, 89737.26, 114097.36, 905.78, 72792.75, 1741.24, 12153.05, 39519.03, 16874.59, 86.77, 55299.01, 20757.8, 60387.42, 4133.18, 15560.5, 3909.22, 145240.7, 42613.0, 9987.73, 65087.89, 72952.69, 37824.22, 10921.35, 9785.88, 60886.44, 3356.3, 2349.18, 66602.49, 787.85, 8095.79, 13148.26, 140434.12, 546.63, 16163.09, 8267.53, 43411.14, 106.67, 37970.55, 49150.97, 45236.35, 300.71, 1537.65, 853.29, 225.65, 1695.68, 7370.19, 26548.09, 39763.66, 42137.24, 35.73, 147708.92, 156200.58, 529.4, 43184.27, 12741.85, 51361.63, 16521.86, 83196.42, 48427.3, 1189.72, 32011.03, 12244.9, 303.62, 2454.22, 20116.49, 24444.01, 19208.4, 1833.51, 42993.7, 4155.22, 34476.7, 16817.42, 5726.24, 5980.95, 21957.41, 36241.11, 66.37, 471.56, 85886.38, 19891.56, 32715.47, 2800.46, 35255.44, 14135.59, 54922.44, 35804.49, 21494.08, 213772.08, 33064.08, 14540.13, 69341.89, 11499.31, 5582.97, 3339.87, 41840.55, 5101.91, 9460.66, 4721.65, 35222.06, 4496.4, 8041.59, 11979.6, 5184.78, 49386.37, 153837.57, 1788.13, 34301.32, 149.2, 10144.51, 38590.84, 2573.68, 306.04, 13886.0, 1782.59, 3018.22, 13762.47, 38295.0, 8190.97, 3821.05, 7790.23, 3155.12, 11082.87, 3307.62, 31423.58, 12385.2, 12016.8, 68376.88, 65559.4, 66570.03, 69231.13, 15408.15, 41038.99, 31216.52, 5149.88, 892.44, 1490.22, 8510.4, 12249.22, 21345.17, 859.9, 35985.6, 20383.5, 7137.3, 159214.77, 3759.53, 3431.71, 43700.26, 63523.2, 76908.16, 17301.63, 47755.62, 3502.45, 11085.9, 12102.0, 11770.15, 32390.73, 47749.29, 1176.93, 35963.23, 249.18, 10520.32, 76933.84, 103612.06, 39004.59, 48758.46, 45278.44, 28083.78, 157642.85, 5359.2, 6558.68, 60142.37, 29330.4, 6059.08, 15819.77, 471.56, 68862.13, 8077.18, 1565.26, 35922.05, 32391.9, 4364.16, 264.6, 5956.68, 3477.98, 117280.9, 17881.44, 3547.64, 16738.45, 27605.12, 44485.3, 8041.59, 100870.17, 40501.96, 20651.54, 14029.97, 115205.16, 19485.5, 19493.35, 41981.62, 12297.6, 423.72, 16378.25, 20783.29, 36658.53, 1695.68, 17815.08, 4061.53, 24731.52, 38963.09, 14574.91, 25140.36, 1370.13, 21572.65, 97038.17, 11069.13, 2373.96, 68350.38, 64368.44, 147675.24, 14005.69, 1674.37, 112816.17, 14897.97, 184.52, 63147.83, 6663.73, 64387.52, 26207.87, 2071.46, 88256.45, 468.76, 83383.24, 130336.0, 69671.25, 1059.65, 282.36, 77091.75, 688.15, 67799.6, 28286.29, 37624.91, 36007.65, 6681.6, 32578.22, 33967.5, 20934.36, 38456.92, 1897.5, 1216.8, 8330.57, 89823.13, 43854.81, 295.1, 39683.57, 28805.59, 54559.79, 3407.75, 59545.2, 20260.5, 15925.0, 37194.71, 30601.36, 28193.32, 132928.92, 52540.93, 17.76, 2753.74, 3605.7, 18657.6, 38559.54, 15145.7, 7992.0, 42283.87, 2500.1, 6785.94, 48763.95, 82838.06, 2141.57, 2163.99, 92631.04, 160.0, 82433.27, 530.59, 10359.88, 3200.48, 183.16, 19248.11, 9777.44, 15.42, 12723.7, 5754.28, 10310.02, 28668.4, 6382.82, 15953.32, 1355.28, 24031.95, 7697.12, 301.68, 2982.64, 58506.0, 918.03, 37932.66, 32990.46, 4062.0, 50280.87, 30064.29, 66.48, 20750.3, 5917.77, 2396.03, 63045.43, 6956.23, 77.07, 21160.01, 6713.52, 8294.4, 70306.33, 118.34, 5749.64, 604.34, 16657.69, 446.61, 3551.8, 47118.53, 35.73, 10658.4, 165.12, 69142.89, 13326.85, 121.93, 12599.3, 16954.88, 21909.41, 16050.1, 122.5, 95869.02, 13420.03, 70215.87, 1601.95, 42463.85, 27741.31, 21082.44, 39611.63, 49212.08, 6192.15, 15724.32, 20870.27, 47540.39, 76958.7, 30065.62, 4514.16, 41377.0, 33583.2, 57405.42, 13208.3, 39358.28, 8005.76, 74654.08, 513.16, 18113.45, 11466.29, 15047.41, 385.37, 96615.7, 7965.69, 14658.87, 1127.12, 33740.6, 13727.95, 7685.73, 113196.06, 9472.32, 253.1, 206.22, 13849.12, 17314.34, 159216.75, 6803.69, 3134.72, 41262.43, 234808.89, 7018.45, 2999.22, 25075.14, 22667.4, 1403.69, 111724.19, 197963.27, 17812.07, 13300.47, 54205.47, 81322.99, 19031.53, 22202.35, 97025.26, 13271.03, 15481.15, 100878.92, 9802.61, 6607.21, 26937.35, 6604.0, 76124.34, 10162.16, 37759.08, 4529.38, 1027.66, 311.84, 308.95, 32461.45, 30894.36, 62764.71, 10133.87, 53953.28, 69742.24, 6686.4, 6551.39, 8510.4, 61344.76, 23917.06, 1180.78, 8210.86, 17224.98, 2456.06, 29713.28, 10335.97, 33580.87, 20598.84, 10486.86, 55452.17, 31001.5, 126834.71, 31290.05, 14696.73, 2789.92, 78109.83, 19506.96, 73139.2, 58858.51, 30869.44, 21395.58, 8222.0, 1106.1, 20175.8, 3061.5, 9294.08, 1014.79, 1328.25, 150660.19, 79770.33, 455.64, 107700.16, 120123.41, 5001.64, 1560.05, 139795.63, 14179.9, 2250.23, 24330.67, 1977.62, 15331.43, 22404.9, 14764.19, 3955.35, 53346.62, 12106.7, 4474.39, 15893.81, 18227.4, 123740.56, 9196.32, 46945.8, 100406.14, 20064.14, 9084.78, 134331.05, 20606.01, 19912.32, 10488.8, 50840.33, 30710.74, 134.95, 21329.31, 21702.35, 59462.27, 1550.04, 18349.17, 31707.39, 15562.97, 23746.97, 2138.55, 41426.89, 1788.02, 9117.16, 9252.58, 23406.49, 125425.94, 64440.87, 66356.43, 13252.31, 45773.88, 28778.75, 19432.03, 13347.31, 8449.26, 70038.11, 131.58, 75004.47, 9805.03, 28295.59, 222818.74, 90986.66, 7708.45, 2352.97, 4093.57, 142.22, 53397.29, 22661.11, 59895.09, 66442.88, 29793.97, 19617.0, 12975.23, 162.19, 101.17, 52161.15, 160558.42, 9186.91, 36102.76, 29121.25, 56938.07, 84847.36, 7470.33, 121592.86, 126.67, 59883.94, 12636.0, 61160.46, 49124.1, 88786.66, 106542.9, 4088.45, 8641.1, 6768.47, 53993.63, 67338.12, 55399.42, 21890.1, 65485.74, 14022.8, 10329.8, 99363.76, 110997.68, 45235.94, 18900.98, 27131.85, 14989.57, 7405.23, 668593.36, 699.38, 33869.0, 1898.2, 17537.4, 181.64, 26731.81, 9210.56, 151474.39, 15797.76, 2607.01, 2335.75, 2569.72, 30060.69, 2466.91, 21557.75, 50490.21, 40668.39, 1849.65, 58519.77, 58662.99, 5310.44, 54176.74, 23649.95, 2374.48, 10928.8, 99248.74, 16458.0, 79262.64, 32481.88, 3786.18, 14329.35, 29819.83, 13891.01, 79604.8, 80754.63, 71790.5, 63699.62, 52193.28, 52354.61, 3593.18, 661.11, 58558.95, 15920.18, 87204.38, 33057.66, 35464.06, 1800.63, 12811.43, 78907.05, 54404.97, 57010.96, 121505.31, 1041.04, 103852.17, 3478.25, 2392.26, 46818.59, 13915.87, 96825.11, 9609.73, 1897.39, 91714.82, 773.93, 2290.85, 5363.16, 47481.61, 122135.91, 18795.08, 20335.19, 7949.69, 1812.31, 18287.41, 10680.83, 143197.54, 66875.02, 13371.75, 20353.6, 10306.39, 17168.9, 1764.66, 56548.55, 137380.8, 4214.8, 9237.57, 140850.03, 5473.77, 3487.74, 7230.78, 119816.03, 11936.28, 35773.7, 4239.82, 121674.26, 67778.84, 1120.13, 728.78, 18278.7, 2657.95, 78650.78, 481.45, 86484.49, 17617.15, 13033.64, 42959.02, 53201.11, 4194.02, 7380.72, 2973.53, 25881.02, 16833.28, 3099.28, 4726.27, 2091.12, 19797.4, 44549.57, 602.9, 12198.17, 66499.97, 35793.31, 19666.18, 204.43, 3572.03, 9037.35, 17177.37, 23265.81, 17342.93, 94567.46, 30713.73, 1084.86, 13728.16, 38678.22, 2372.01, 18120.0, 39285.35, 15434.81, 13416.33, 15562.99, 10361.88, 9099.16, 12151.1, 106209.43, 17712.97, 10472.25, 44934.75, 1235.36, 31126.57, 1235.26, 54312.68, 52280.52, 104769.48, 25940.3, 14348.62, 12635.1, 103453.61, 10856.04, 39036.98, 13904.21, 61180.56, 30754.42, 12.96, 33197.89, 6532.6, 35290.26, 6955.63, 2556.3, 47975.78, 50169.6, 40783.24, 4283.04, 13956.09, 186.9, 6348.75, 27808.15, 171726.01, 53462.53, 39143.19, 61646.9, 7039.55, 5376.0, 19436.3, 22637.2, 45327.91, 24699.91, 25703.83, 16480.41, 23054.66, 13864.19, 26582.4, 5481.24, 6254.36, 66843.71, 42089.37, 31794.87, 83217.24, 54726.67, 100980.4, 13439.44, 36479.01, 5316.26, 58014.2, 3735.63, 1037.77, 174215.57, 103971.58, 558.0, 22451.3, 6532.6, 14016.25, 15021.34, 48142.75, 14541.98, 11657.35, 1970.13, 242.28, 84250.05, 55024.2, 116009.73, 16344.81, 728.78, 15652.14, 23794.84, 943.12, 10852.2, 4145.23, 18547.21, 113924.2, 66555.03, 5037.44, 87712.88, 119035.35, 2952.77, 2451.6, 26042.65, 54373.36, 11976.8, 18008.27, 1764.66, 64267.14, 7717.07, 11317.67, 3493.0, 246.6, 4643.4, 14045.93, 40508.35, 28171.24, 14257.87, 1191.28, 11701.27, 14352.21, 72370.86, 161304.9, 64516.05, 90792.15, 67324.92, 1658.69, 52710.85, 97869.24, 24628.84, 88756.08, 34757.57, 32502.94, 26146.14, 23727.69, 3270.04, 15681.3, 17840.75, 96314.44, 19135.81, 23427.02, 11533.34, 436.75, 8078.75, 118425.54, 10347.32, 41433.11, 95747.25, 661.11, 502.92, 183.03, 31220.28, 14926.68, 58603.01, 15742.73, 13761.08, 63413.12, 2247.39, 26875.36, 2049.76, 12022.15, 13599.06, 6621.57, 109815.79, 20651.55, 512.76, 1063.8, 109.43, 133873.15, 24860.27, 813.81, 61481.55, 6417.51, 798.66, 705.86, 18883.12, 107364.78, 13914.46, 1845.18, 19597.81, 12213.85, 134292.79, 25120.75, 316.32, 6016.13, 64784.21, 14645.77, 6857.99, 149072.74, 22.97, 108354.15, 7254.43, 83679.13, 17841.45, 33833.77, 9827.56, 9998.97, 12948.62, 336.8, 26220.31, 77230.33, 6216.92, 54806.4, 41302.57, 41334.15, 2069.38, 33942.0, 46781.46, 54447.86, 83746.87, 10513.51, 929.93, 115983.4, 88876.0, 4194.02, 33624.03, 1857.52, 6071.89, 91923.26, 137057.75, 646.83, 3270.04, 67951.52, 68864.12, 2851.17, 63461.24, 1944.0, 3233.28, 32147.44, 61227.08, 29806.04, 6094.99, 58391.96, 18147.6, 48042.26, 78867.08, 16420.49, 40507.69, 427.72, 19558.16, 1572.26, 58999.64, 1781.24, 134.16, 34293.38, 5039.5, 15237.81, 11442.85, 56243.88, 118752.08, 52995.61, 112905.52, 12967.1, 12765.6, 2307.81, 16053.12, 33092.84, 1897.5, 98660.91, 6881.68, 85168.18, 14555.87, 4872.22, 39438.88, 11418.94, 10797.37, 106882.83, 15347.78, 53719.88, 31608.83, 134547.21, 56744.81, 49872.43, 74460.6, 370.02, 47122.95, 683.6, 754.83, 21125.04, 2647.58, 15913.01, 64260.37, 55943.64, 49011.41, 26067.5, 1898.9, 274.86, 2860.37, 5126.33, 27588.98, 15893.8, 18858.07, 3617.82, 42370.68, 25281.2, 10437.61, 74878.14, 14705.86, 9210.33, 19703.3, 14179.55, 1640.01, 12291.24, 16171.12, 26059.95, 24995.43, 49175.63, 837.1, 12418.05, 84463.94, 7464.6, 72094.8, 16779.0, 23753.76, 14380.16, 34934.61, 14135.59, 8041.59, 1481.01, 14280.93, 60876.69, 205.85, 21097.89, 44964.0, 85767.25, 2746.3, 91.93, 2822.53, 10923.4, 42868.05, 47114.12, 12377.5, 105096.63, 64675.59, 37273.35, 29400.0, 69837.62, 19271.14, 91658.63, 2442.0, 63587.42, 19005.04, 24823.57, 14942.24, 147786.35, 14697.0, 12677.02, 8096.2, 15568.08, 133603.68, 13298.6, 10585.27, 32501.88, 128324.33, 44465.87, 4338.29, 51017.84, 36901.68, 4388.75, 73927.53, 3233.91, 36343.43, 1633.65, 56727.48, 22789.63, 2580.12, 36476.07, 54527.75, 2053.01, 5868.24, 88205.52, 63966.61, 16046.92, 133.64, 33002.39, 23894.47, 59476.33, 22123.32, 47336.54, 79869.23, 8681.66, 19296.8, 29077.36, 572.53, 471.56, 22408.14, 7803.4, 5158.68, 48943.84, 332.21, 15.76, 27035.87, 59194.43, 3943.72, 67126.62, 29478.05, 11471.32, 77627.0, 126.6, 45944.78, 4219.56, 629.67, 52089.66, 29415.26, 50356.2, 157082.83, 16343.51, 50976.68, 25931.86, 3194.15, 21148.95, 41024.52, 9825.2, 14204.38, 10863.97, 3725.4, 15517.71, 4200.3, 1313.67, 10570.97, 10113.69, 71278.25, 79725.36, 22846.23, 13450.26, 12700.0, 60813.93, 16119.8, 897.7, 691.9, 42189.45, 18997.07, 763.2, 548.78, 40171.49, 28340.31, 19846.19, 8532.56, 269.56, 130.62, 63895.05, 6428.4, 39135.35, 97058.25, 248504.04, 29690.13, 14852.36, 65939.22, 12098.9, 725.99, 9194.39, 16491.37, 731.11, 6287.37, 51940.83, 9466.79, 83486.77, 3454.65, 47642.0, 58671.31, 23436.19, 6259.7, 11874.2, 557.34, 35505.39, 21978.57, 9039.47, 63597.48, 61098.03, 44538.17, 34805.08, 106.67, 806.8, 5258.14, 82159.45, 14182.64, 6915.86, 6684.25, 20293.01, 13552.3, 6137.81, 29316.0, 13104.73, 71956.92, 41032.24, 2691.38, 23975.28, 46126.96, 1325.08, 688.15, 20282.4, 2403.46, 17280.61, 11824.32, 19800.11, 236.86, 84487.09, 14813.31, 370.18, 1798.12, 49568.98, 40729.7, 165.9, 28211.0, 241.49, 31542.23, 8265.6, 122637.55, 1235.26, 18680.5, 471.56, 943.12, 48530.3, 88579.0, 9059.41, 66202.32, 23644.24, 58.22, 13839.36, 178.63, 29191.47, 283.27, 59354.49, 3018.93, 43627.49, 1703.61, 22249.44, 36839.94, 12169.07, 6158.08, 1328.25, 91490.42, 394.12, 52043.49, 18867.45, 22077.75, 15618.95, 16592.16, 212749.14, 29076.52, 7748.33, 10556.17, 56809.01, 39381.12, 49526.42, 43148.25, 10908.55, 50476.6, 27923.78, 49745.74, 16360.33, 37402.01, 37586.66, 19651.88, 17457.14, 75619.22, 3629.22, 119808.51, 69866.81, 39211.94, 97305.3, 25250.84, 30101.31, 119.95, 54093.8, 108293.13, 8413.8, 52115.24, 33781.24, 57988.92, 243.96, 41662.61, 13768.73, 2531.61, 12491.86, 29511.22, 45431.89, 39989.92, 14329.4, 6361.65, 33798.09, 112036.98, 1180.2, 827.66, 55779.31, 65168.42, 5193.24, 30220.01, 24897.6, 24132.72, 165549.82, 3985.06, 34473.59, 7933.74, 67343.64, 47.28, 1897.5, 32794.67, 40700.8, 71.11, 1282.6, 39698.2, 453.64, 99656.15, 106.67, 48585.25, 56020.82, 48859.2, 25042.63, 1897.5, 6066.82, 6527.42, 126.92, 36194.6, 24300.88, 18476.01, 10162.98, 39728.62, 8175.21, 9211.04, 56843.9, 66294.13, 11612.38, 37030.2, 4221.63, 4497.97, 4429.93, 142930.9, 46014.22, 1012.02, 54369.65, 5771.62, 95135.76, 28533.28, 158987.57, 27108.55, 2213.53, 1322.22, 47931.17, 211.2, 1191.28, 44050.36, 35291.94, 31490.97, 22279.32, 268.8, 211.08, 16603.43, 11800.57, 27591.41, 22388.8, 15526.7, 60024.61, 7006.54, 12582.57, 6786.47, 20511.85, 14983.75, 57733.19, 85879.89, 5394.93, 109179.51, 19815.73, 23835.76, 171.84, 147593.64, 19250.61, 980.44, 21058.1, 65299.0, 124469.48, 15188.26, 33945.8, 16739.21, 23231.67, 90857.4, 2406.71, 1340.0, 60143.25, 44914.26, 119434.8, 11652.34, 84151.25, 27918.52, 49580.87, 20079.58, 68732.34, 180.72, 17244.86, 54750.86, 30020.66, 102.7, 1330.88, 11635.85, 6450.38, 63536.2, 46166.63, 8393.12, 307.62, 50245.65, 53385.94, 23373.09, 63899.13, 21126.47, 16384.13, 2863.94, 5625.41, 1375.76, 66946.99, 23561.45, 33174.36, 35580.98, 16510.24, 38608.22, 5884.11, 15482.3, 18193.91, 7319.55, 12068.03, 34835.56, 44377.79, 18208.64, 73.3, 3255.25, 9733.21, 16939.28, 311.88, 20939.38, 20670.3, 68339.72, 29337.67, 78315.68, 249269.4, 88757.31, 61383.55, 73523.34, 63049.32, 44638.58, 3818.49, 62789.14, 5051.79, 27514.02, 44117.57, 53992.8, 27051.73, 1513.73, 2001.59, 2206.95, 83034.6, 21107.79, 181.2, 67516.34, 471.56, 18764.66, 39246.11, 46002.24, 40380.18, 37760.67, 7933.09, 548.39, 83121.54, 42575.19, 20282.4, 6532.6, 8719.5, 75207.48, 49437.07, 19124.37, 15591.58, 34313.45, 22586.93, 206.39, 39077.56, 27217.31, 15284.38, 35426.05, 128617.23, 14653.42, 552.15, 113395.7, 1651.98, 33607.75, 13703.4, 396.68, 3864.9, 12965.4, 3795.0, 647.89, 16237.15, 26851.5, 176.8, 39935.25, 43131.78, 75154.85, 2213.53, 16836.25, 109.85, 381.98, 90544.5, 46.22, 33196.92, 68341.72, 44628.75, 5615.04, 844.06, 772.19, 5804.44, 47826.13, 2003.63, 334.44, 34691.99, 601.68, 78878.42, 28432.0, 9059.7, 424.63, 8577.55, 13401.88, 4015.68, 15193.25, 313637.12, 19576.66, 16876.94, 2319.5, 96838.78, 14366.06, 105552.29, 8793.09, 49828.62, 56692.0, 28712.55, 67920.15, 94718.97, 50136.03, 3041.3, 42350.23, 115411.93, 13948.2, 317.1, 3401.96, 35756.9, 3360.48, 9630.0, 112124.87, 53753.64, 11690.22, 167202.17, 131693.37, 661.11, 34505.9, 97834.91, 4257.75, 26739.35, 33326.41, 3007.45, 58019.57, 36487.82, 1448.77, 1030.23, 11415.99, 9232.66, 221542.46, 74276.44, 598.86, 6230.12, 718.81, 2115.21, 18063.72, 123208.8, 48817.76, 47572.49, 7733.29, 1537.55, 134172.91, 69249.35, 471.56, 1789.37, 9622.07, 85800.02, 94584.0, 8895.07, 14539.35, 38.88, 15126.41, 18872.49, 8612.83, 1898.9, 94613.09, 2424.67, 7704.0, 25735.3, 533.34, 87237.25, 7225.77, 28968.8, 8985.43, 513.0, 43299.8, 22194.09, 18564.69, 222.74, 229803.29, 43167.94, 11017.94, 18369.4, 1937.82, 450.98, 3621.64, 24822.9, 103416.93, 9802.64, 39805.89, 1001.47, 6663.09, 22742.85, 634.61, 14049.57, 35325.33, 4765.73, 17602.56, 99608.13, 21295.9, 23546.07, 51045.4, 17989.53, 101711.63, 1232.93, 20087.12, 52079.48, 44076.02, 3561.06, 93884.54, 83069.15, 869.93, 1898.2, 45726.36, 36924.74, 2373.96, 10349.36, 17773.16, 19672.15, 884.4, 71198.13, 109574.25, 4255.2, 33645.74, 23511.97, 90893.37, 57414.63, 30575.96, 1796.95, 51126.88, 65158.49, 10865.33, 1783.21, 5767.69, 1898.2, 22269.23, 102147.02, 15640.0, 38988.25, 1180.22, 23119.23, 3556.71, 90769.38, 19815.75, 5254.07, 55975.8, 162322.04, 56066.6, 35278.89, 7529.51, 273.19, 15794.59, 15437.59, 2298.74, 63600.0, 18442.8, 83835.08, 3796.22, 1898.2, 87273.49, 1282.56, 1328.25, 25341.75, 19867.17, 42614.76, 1897.39, 19809.48, 10663.1, 25058.96, 14737.2, 65284.36, 20409.61, 23797.55, 38620.18, 21583.11, 392.92, 55239.0, 76297.86, 10733.79, 27274.2, 92130.9, 15088.0, 131911.44, 88729.74, 34347.26, 10085.59, 65760.62, 341.63, 117610.59, 68245.25, 40891.63, 3713.83, 141310.41, 21516.7, 77350.85, 14128.7, 44162.0, 85760.48, 63122.0, 23273.17, 169.6, 7686.0, 4129.0, 9424.32, 35062.82, 49612.2, 9335.6, 47834.17, 2485.35, 72010.07, 9717.39, 52071.99, 82975.82, 10503.26, 3930.42, 135724.24, 26401.08, 15725.29, 38350.51, 13533.0, 118528.92, 69946.54, 42073.5, 14788.44, 65148.6, 14713.27, 88686.68, 104.4, 15459.97, 158629.91, 104254.2, 408.59, 9293.11, 120764.52, 3593.18, 3019.32, 34993.81, 40567.27, 86673.29, 271.17, 38591.14, 35289.64, 2174.78, 57462.84, 53038.64, 88600.17, 5411.84, 30055.8, 8457.23, 407.2, 508.34, 10047.45, 13736.4, 95277.94, 51395.2, 21502.19, 3283.93, 22866.93, 661.11, 27090.77, 47232.13, 42643.1, 112863.14, 56095.26, 32816.01, 1657.18, 22415.9, 39115.65, 64638.77, 71.72, 14581.71, 284.44, 685.52, 12482.38, 19822.72, 255.78, 252.48, 570.72, 42825.77, 53800.03, 23345.13, 59966.73, 4080.32, 8122.39, 43.02, 45274.22, 41864.19, 2540.51, 111506.64, 86925.77, 940.8, 3240.58, 4611.86, 2488.98, 110107.59, 36906.81, 2509.64, 13938.4, 15174.93, 49323.74, 27709.69, 14796.51, 136895.74, 11159.21, 37979.44, 2913.49, 231.84, 80864.5, 39819.11, 369.61, 31814.32, 35.76, 1792.47, 46696.51, 693.47, 6256.94, 74819.57, 12031.38, 45464.41, 3308.16, 69504.77, 1007.98, 15020.26, 54353.08, 492.53, 40085.68, 60710.04, 55983.51, 11704.14, 33177.43, 31787.09, 272.08, 99451.38, 52098.4, 174.93, 1575.9, 9838.44, 39201.51, 780.86, 22124.65, 42886.12, 15323.2, 36617.33, 1897.5, 25653.74, 62021.93, 15162.43, 32881.4, 26115.4, 29960.1, 32152.15, 30015.42, 26241.34, 3459.15, 4507.11, 1138.16, 33537.45, 17286.5, 18994.07, 145216.02, 112147.42, 38202.66, 189523.77, 28036.54, 34844.95, 6644.11, 66880.87, 5848.04, 13646.45, 10124.55, 8485.91, 40045.35, 14149.93, 35.6, 171269.39, 686.35, 26249.07, 42200.04, 504.19, 84129.25, 41044.52, 159697.52, 57405.24, 370.75, 3903.02, 307.08, 5217.68, 26512.32, 12795.0, 13456.8, 52987.13, 14164.61, 138.02, 38546.09, 43291.74, 26255.7, 9608.47, 133217.84, 16360.32, 6313.51, 2021.75, 407.16, 1500.87, 6500.55, 96.67, 633.23, 10329.6, 14672.56, 103.02, 135.0, 25240.89, 65891.25, 15789.32, 11962.58, 51234.94, 15022.48, 82444.83, 4129.98, 35450.72, 113927.03, 5141.11, 6939.52, 36708.63, 42587.37, 39365.46, 43195.47, 20248.09, 3227.43, 25018.92, 364.61, 48980.38, 119181.89, 19753.3, 33373.04, 12635.76, 343.04, 1435.6, 3451.56, 19208.42, 24955.0, 7664.54, 24604.2, 1897.5, 142535.75, 1098.23, 10312.73, 24846.28, 32965.67, 877.25, 24848.31, 49125.58, 74060.28, 9429.58, 14016.98, 18628.6, 884.52, 14240.22, 41293.97, 54773.55, 55213.11, 9783.48, 2579.69, 15557.51, 14585.3, 15169.81, 22175.08, 33592.03, 21647.01, 14140.03, 27185.15, 2444.18, 31615.98, 21300.0, 3975.84, 28537.69, 50881.14, 2588.55, 420.52, 67.48, 4272.16, 29622.18, 2169.37, 33065.59, 1161.99, 20066.12, 39577.95, 117683.65, 62621.06, 212.4, 991.22, 36542.63, 48286.99, 3436.87, 17800.68, 120466.9, 427.72, 52205.87, 71624.22, 31817.41, 12461.31, 3982.89, 108132.0, 60704.15, 9013.0, 62168.09, 115918.54, 35140.92, 52697.79, 156860.45, 43269.45, 32280.24, 287.91, 17507.07, 288818.46, 2646.47, 43235.75, 276.88, 59090.58, 12871.38, 7839.0, 39645.89, 66.21, 65783.71, 2284.2, 66855.82, 66860.4, 8400.86, 13948.2, 61677.87, 73353.07, 96315.02, 1758.32, 36412.57, 866.8, 26358.12, 14517.62, 471.56, 84756.01, 5122.57, 110635.22, 19741.36, 18296.24, 85025.28, 19401.59, 28350.17, 97464.28, 49851.11, 27526.7, 30402.86, 20467.43, 8034.94, 1750.73, 47023.83, 67798.76, 210.74, 34431.66, 16808.41, 12136.33, 16549.84, 5947.3, 52560.37, 47856.89, 34084.37, 14832.73, 242497.33, 14588.46, 54673.41, 7909.76, 214.36, 54730.15, 48057.85, 2251.42, 122718.87, 13371.75, 1825.41, 1898.9, 83616.59, 961.32, 2535.95, 57569.28, 24155.51, 40673.35, 51046.2, 9314.63, 14875.2, 3521.92, 8984.79, 5697.56, 147185.23, 15053.52, 1523.71, 104490.46, 59848.33, 24740.65, 11420.48, 9594.45, 36004.12, 14809.97, 77525.41, 74985.99, 977.0, 44453.5, 17264.02, 55919.48, 27387.82, 81817.2, 99902.8, 8885.57, 412.97, 4139.4, 17473.0, 2268.15, 39865.08, 79904.71, 492.54, 27116.26, 8174.55, 114221.25, 12179.97, 16238.2, 421.81, 152584.44, 16815.21, 783.52, 30.64, 6121.12, 23820.75, 83569.09, 73688.25, 16656.9, 71826.75, 42485.32, 3408.73, 69801.2, 9502.84, 16043.28, 30894.36, 66902.95, 26743.14, 128.07, 18781.88, 9080.68, 15225.33, 16325.04, 78377.99, 42542.52, 25641.09, 6347.19, 50859.73, 4315.73, 97324.41, 27224.48, 101566.58, 5665.53, 40185.23, 15797.12, 131533.43, 51210.96, 60645.93, 24290.69, 3123.59, 545.85, 91849.3, 67981.41, 33324.02, 1008.38, 5714.28, 98554.44, 67137.64, 29712.08, 13132.01, 22542.06, 4203.16, 64560.41, 82955.85, 17973.3, 5525.0, 29840.02, 538.26, 157.43, 11518.4, 11261.74, 896.33, 349.63, 659.96, 132.36, 35334.03, 39031.02, 67725.35, 3448.58, 65.72, 32164.52, 22050.3, 813.21, 20058.0, 4551.12, 86.19, 15380.15, 250.1, 29994.32, 80024.18, 14033.74, 14954.52, 10468.76, 22168.8, 73022.98, 97827.93, 63820.9, 83031.86, 117141.37, 91810.17, 3946.13, 7018.04, 162.65, 29582.92, 20652.02, 22280.58, 17232.81, 1949.06, 10258.1, 134957.87, 47982.0, 19043.5, 76188.54, 2113.2, 1021.15, 267.3, 59237.59, 70273.85, 51161.38, 5841.36, 20623.52, 10160.64, 23214.5, 1572.91, 1989.4, 5890.39, 11206.48, 26558.52, 3678.43, 5040.72, 6571.26, 125717.34, 345.68, 15319.07, 67371.43, 26582.4, 15177.89, 42580.61, 4473.21, 159089.86, 17020.8, 35.56, 15527.75, 349944.54, 47042.45, 81799.57, 16350.88, 57164.66, 10575.36, 7589.29, 19436.31, 13867.0, 5074.34, 84121.42, 18723.82, 68865.87, 54694.32, 27430.17, 141767.4, 62523.69, 6985.28, 30875.02, 42647.66, 10582.1, 43090.59, 16114.44, 84615.71, 132.55, 16421.32, 4166.76, 17487.96, 83513.9, 56844.03, 379.86, 65952.41, 6552.42, 35259.14, 29914.53, 14502.44, 73213.4, 8864.38, 23035.76, 16254.23, 10229.26, 20632.17, 48311.18, 56935.73, 19301.97, 38234.93, 40802.81, 9229.55, 14385.07, 11610.28, 51053.3, 88492.88, 90496.61, 49956.01, 7704.0, 72897.34, 12314.49, 6625.34, 104157.22, 16655.53, 5729.22, 37760.54, 67.29, 50129.2, 19491.03, 14630.84, 13891.03, 4725.92, 11779.17, 9349.95, 21914.03, 30042.42, 62580.49, 4434.51, 44486.47, 13053.3, 6254.92, 12740.94, 19090.48, 131110.98, 138211.85, 28307.6, 54729.46, 42961.84, 8363.59, 6169.66, 189.19, 916.34, 36894.64, 132627.13, 6810.31, 33896.43, 39669.38, 33.24, 787.85, 2531.3, 3072.57, 23920.13, 19160.01, 88450.96, 41922.66, 1093.19, 33777.74, 17975.24, 48485.05, 14483.27, 17755.68, 8407.71, 41677.53, 14149.93, 27516.98, 42228.18, 40847.86, 11998.45, 16097.61, 18734.86, 57013.43, 596.47, 75654.67, 2756.26, 19100.61, 7612.14, 2730.74, 160872.75, 12053.66, 26257.53, 52091.51, 6609.83, 2982.64, 564.24, 50553.16, 52199.13, 721.85, 50463.25, 67643.1, 141887.53, 82841.49, 48837.6, 11085.86, 17572.1, 10161.48, 11003.52, 17834.03, 90128.97, 21690.18, 64657.03, 21617.07, 11563.2, 26098.28, 125395.73, 38992.25, 89273.13, 717.43, 5400.0, 70033.96, 8644.53, 15749.51, 15874.46, 59173.48, 2570.7, 28149.14, 59623.48, 14503.27, 52282.5, 72921.06, 19320.51, 4411.07, 10257.8, 5369.12, 19912.32, 176.85, 45909.33, 18557.2, 46551.0, 50025.91, 3479.04, 7162.27, 9238.62, 45717.16, 959.61, 14700.51, 53844.45, 9943.9, 15419.25, 29752.32, 14772.55, 29613.85, 31313.77, 51897.65, 5997.41, 122058.05, 87893.11, 13375.2, 138712.96, 92.28, 44042.08, 63282.04, 1864.03, 57157.2, 3576.04, 14770.7, 122480.4, 23663.52, 50569.42, 2036.77, 49819.68, 1067.17, 4425.53, 6759.29, 22976.97, 18008.47, 55260.91, 104036.49, 26363.75, 23023.99, 47703.61, 106708.84, 73.87, 1984.27, 83301.99, 12414.16, 7380.28, 13215.09, 20919.62, 51382.92, 210129.37, 18357.54, 124884.11, 1447.85, 66883.31, 46469.53, 50102.02, 3136.76, 138399.32, 69726.47, 29938.58, 20598.13, 235.39, 2715.67, 22661.12, 54922.16, 59646.59, 13278.6, 40419.7, 28899.98, 161.26, 83859.93, 4374.16, 5252.43, 6247.14, 40215.41, 85799.26, 3077.38, 45866.33, 12387.09, 285.81, 15035.3, 38684.99, 2691.8, 49690.48, 11629.56, 67734.04, 1645.5, 35.4, 84355.4, 35369.51, 37129.95, 25057.55, 23211.6, 117407.66, 912.48, 13485.75, 6473.55, 14612.4, 680.83, 127617.81, 110926.69, 7885.17, 29136.72, 16342.71, 50400.0, 7000.0, 78871.74, 4076.9, 27661.98, 2116.51, 2914.91, 5176.21, 4276.56, 59512.4, 15482.3, 35.76, 41974.14, 58954.96, 15692.15, 35409.65, 35103.39, 4834.47, 9141.76, 62899.26, 77579.03, 29684.74, 17280.53, 1628.68, 14371.6, 2574.36, 191.41, 261.01, 56692.67, 30363.56, 20296.65, 47044.8, 12818.04, 280.52, 21995.39, 60049.52, 379.65, 21609.64, 165.9, 977.05, 16132.79, 389.53, 22803.72, 3472.99, 851.6, 35.52, 24843.73, 10325.91, 1533.09, 91351.96, 80281.5, 2516.93, 42185.38, 10492.49, 28934.04, 112223.78, 14223.6, 274.2, 91.93, 18615.14, 31835.39, 10903.94, 54984.63, 24254.0, 97705.07, 58394.22, 22122.88, 50135.92, 44270.97, 2318.44, 50055.85, 5884.7, 7446.63, 24653.47, 133870.1, 12868.12, 110576.96, 943.12, 25595.49, 21920.5, 1599.88, 19233.24, 8177.5, 4388.75, 64915.2, 3585.9, 4757.82, 9407.44, 28611.64, 42489.38, 943.12, 21552.0, 144510.42, 20425.99, 51034.09, 94812.07, 13018.72, 31363.2, 136902.91, 74565.39, 16008.2, 8457.17, 16437.37, 20282.4, 228.72, 19597.81, 33591.88, 16503.88, 116386.69, 451.96, 28534.5, 14204.38, 243.37, 5843.45, 14882.6, 23506.46, 70586.11, 50725.22, 2381.52, 18864.41, 108030.53, 4930.01, 13693.54, 13823.96, 19291.68, 23442.83, 360.44, 4092.1, 21654.16, 287.56, 118635.82, 5986.77, 688.96, 16546.83, 396.37, 298.08, 5669.4, 14151.51, 49851.02, 66879.58, 64049.6, 30501.57, 30329.42, 1178.35, 11832.39, 2026.83, 98826.55, 75088.41, 2705.59, 10071.29, 637.07, 6462.27, 22386.87, 15391.48, 82948.69, 16968.94, 283.99, 7794.0, 11590.42, 9621.34, 24915.55, 80130.85, 46643.9, 56383.74, 45268.59, 56089.49, 75111.77, 16265.33, 8291.46, 9179.61, 708.26, 66.49, 221.11, 29098.71, 111101.14, 1084.28, 5071.14, 4528.2, 96.51, 421.18, 26727.41, 52692.1, 55677.47, 32075.79, 113658.92, 9173.14, 87926.48, 47686.48, 261.35, 66.37, 61143.09, 1202.66, 65040.81, 13831.2, 283536.34, 11827.16, 110.98, 374.48, 17869.8, 71501.98, 23103.36, 122614.3, 28546.82, 91299.16, 39301.37, 12668.17, 31632.77, 100624.97, 47894.11, 5729.59, 20665.84, 4302.8, 16402.36, 5856.3, 84286.71, 72035.03, 4341.39, 45693.31, 40598.21, 35756.64, 27205.66, 15307.95, 18069.72, 48329.6, 136436.45, 1931.62, 68631.57, 12010.16, 58.41, 15232.14, 8949.7, 3848.08, 55477.78, 14951.11, 10625.95, 564.08, 4435.22, 151823.96, 7516.16, 482.59, 23702.58, 3504.74, 22019.0, 3636.55, 584.49, 20615.14, 19972.12, 66467.55, 631.25, 60331.15, 94914.68, 28415.89, 11855.03, 41709.5, 84817.35, 43652.87, 9162.81, 15171.49, 7931.48, 13521.5, 77342.28, 13142.18, 512.05, 130178.93, 15585.3, 20015.52, 25539.3, 6366.6, 30315.73, 24868.77, 11264.39, 48184.42, 62469.56, 21169.23, 11703.99, 25205.81, 628.08, 14604.66, 2653.76, 25692.77, 324.58, 91147.05, 788.09, 67948.22, 186562.69, 121663.25, 9960.12, 3702.42, 1898.2, 14864.85, 67.29, 30864.14, 28365.48, 375.8, 56493.35, 15489.78, 21346.48, 24628.49, 76228.63, 10424.68, 58344.3, 73316.88, 19534.13, 17670.34, 571.15, 90387.33, 29605.72, 6541.48, 7997.77, 39113.0, 31.56, 59949.17, 627.61, 18923.17, 59.19, 263.6, 27146.91, 152389.87, 9328.85, 79654.26, 997.65, 49918.92, 7150.86, 166666.4, 1.17, 3361.18, 4958.98, 581.13, 289.9, 3885.89, 1217.3, 29722.75, 4045.5, 9328.3, 3031.17, 57999.85, 25356.44, 6737.22, 162271.41, 17196.21, 4071.7, 8543.62, 63455.26, 58125.82, 22001.88, 964.72, 7495.0, 4906.36, 1805.79, 13656.0, 22993.63, 52314.82, 26932.41, 14286.39, 16320.0, 3238.57, 14932.24, 74281.89, 25667.99, 27934.2, 86016.84, 110240.37, 63168.05, 49303.3, 1763.96, 12542.13, 1620.28, 15459.0, 57124.16, 6537.59, 3732.38, 22825.1, 28565.51, 12751.57, 14029.0, 131268.83, 8549.47, 32631.16, 71640.38, 11286.27, 2485.46, 44233.86, 56637.85, 143247.5, 463.29, 6363.52, 954.72, 12738.75, 1322.24, 69787.51, 68499.99, 47027.72, 57711.56, 42342.87, 56786.8, 44374.34, 1088.76, 2352.99, 25667.08, 3814.5, 51962.28, 24843.0, 93872.2, 15924.76, 19700.8, 75469.89, 15248.52, 9606.21, 6092.98, 6929.33, 3045.14, 18440.48, 7464.14, 40863.2, 39971.5, 49093.94, 40384.73, 54498.2, 73220.53, 13342.49, 8949.7, 7217.08, 20759.04, 14567.65, 30399.6, 47904.35, 28891.27, 49712.85, 61630.05, 14001.92, 41209.58, 20852.58, 193.95, 17954.28, 236.71, 73266.06, 42403.76, 23770.7, 21450.5, 28098.0, 7647.94, 42404.41, 18142.64, 427.75, 33089.48, 8427.47, 56.48, 52877.06, 12301.5, 97499.54, 25075.12, 1991.84, 3276.07, 18716.22, 91306.05, 32481.88, 103.14, 1387.33, 15345.55, 30382.09, 16680.61, 23330.82, 132531.84, 15403.5, 22912.44, 73688.55, 44859.38, 16650.09, 2903.37, 7030.96, 130.62, 11842.47, 10081.44, 729.6, 771.3, 102624.55, 17469.84, 264.96, 437.95, 43900.68, 15101.35, 1669.19, 75067.54, 38893.46, 7479.2, 101368.83, 9282.13, 2373.96, 111083.72, 941.33, 3422.65, 64908.85, 16628.37, 125927.18, 324.59, 2440.78, 75179.04, 37644.19, 13533.11, 74982.14, 15983.61, 3639.14, 72366.77, 25662.86, 102.08, 629.67, 848.26, 6576.6, 22706.51, 1594.32, 276.12, 4683.18, 55102.15, 77434.44, 20493.75, 5612.16, 176.88, 2373.96, 73846.49, 4862.82, 336.04, 137646.57, 19527.3, 24552.5, 46782.49, 367.9, 111.0, 10292.67, 35480.48, 7417.2, 20629.4, 15382.43, 7732.3, 512.03, 6225.3, 54954.14, 7001.27, 39701.32, 67496.71, 70891.2, 25929.6, 32040.14, 45943.26, 75405.93, 9585.82, 62064.45, 530.41, 75374.15, 55297.38, 11383.13, 333.31, 4458.0, 7594.04, 6774.99, 4821.77, 35927.3, 3646.5, 21036.06, 49618.06, 216.96, 1991.84, 677.66, 64657.36, 29963.18, 7463.23, 45529.77, 88091.7, 7862.78, 5830.2, 9594.73, 16178.17, 783.71, 3147.38, 158.23, 8798.66, 1411.43, 46961.56, 1213.53, 14085.97, 63244.93, 65519.22, 163078.27, 59081.44, 21109.35, 56657.31, 124381.38, 2807.84, 73105.73, 16934.4, 162269.48, 14840.16, 1713.54, 406.98, 34611.2, 7149.14, 9994.28, 14189.05, 17403.69, 16335.0, 32994.42, 32262.89, 1047.63, 9483.94, 14230.4, 742.23, 113911.56, 1355.36, 2053.31, 51340.44, 8664.5, 15629.83, 3382.64, 28426.8, 7442.34, 171.92, 58195.32, 8122.8, 5824.36, 35475.81, 11159.2, 31972.57, 1897.39, 14773.28, 64259.62, 59024.69, 16871.67, 1021.72, 129012.1, 14929.88, 58020.77, 121719.39, 25704.91, 69183.69, 148135.81, 1068.19, 34432.11, 5743.2, 8840.06, 5341.08, 21957.45, 140584.31, 141180.27, 46849.22, 2296.21, 30600.15, 23682.73, 36344.93, 41810.36, 68353.43, 15318.11, 2399.06, 163.8, 35473.71, 58724.05, 96213.66, 16102.61, 8388.04, 430.87, 47817.03, 99247.2, 46428.81, 22758.67, 103125.0, 591.4, 648.72, 14812.16, 625.0, 284.44, 34546.18, 7734.31, 18596.71, 16244.37, 1227.25, 74911.11, 26785.97, 31536.46, 21830.49, 567.0, 296.04, 24902.61, 67301.02, 47319.45, 40353.72, 1138.95, 6532.6, 40.08, 47997.92, 13761.11, 59573.15, 18145.19, 10775.04, 11589.9, 135.54, 69630.49, 1051.13, 16921.67, 154608.97, 505.89, 14067.42, 59660.34, 88098.66, 58528.58, 59010.07, 13344.65, 30784.7, 672.1, 7561.08, 12428.82, 54659.16, 14238.67, 131115.3, 12298.92, 5029.31, 554.96, 10253.19, 26883.48, 1255.17, 71.11, 1626.73, 55273.3, 13976.96, 15345.97, 15652.25, 8189.54, 59813.0, 1880.05, 67245.48, 77313.41, 90869.47, 501.11, 33499.03, 116164.02, 80318.25, 34841.89, 22882.21, 126051.77, 86385.42, 64882.9, 3302.07, 104521.65, 105396.23, 23462.64, 63383.04, 17184.98, 29728.0, 261.26, 60455.7, 2300.14, 59918.1, 6408.15, 14308.59, 112430.05, 35296.5, 2080.58, 2579.09, 904.56, 58119.66, 45756.21, 22473.63, 20913.79, 11372.28, 82057.05, 430.13, 14106.64, 1897.5, 57206.27, 55669.62, 90601.61, 54700.74, 15032.19, 5108.85, 44189.18, 6027.85, 308.11, 6211.18, 25098.48, 16734.88, 17920.57, 15386.64, 3471.68, 63942.18, 37567.64, 30061.76, 114848.05, 13872.0, 97783.91, 991.44, 7635.67, 174.34, 5795.0, 73033.34, 238348.53, 5002.07, 16645.96, 46067.79, 1770.3, 3252.6, 49646.02, 96857.1, 225.51, 44.0, 23343.87, 18214.0, 401.74, 56273.52, 7516.79, 19776.4, 11061.98, 92209.96, 4341.39, 1438.94, 50782.27, 13229.16, 11176.12, 45392.41, 5444.16, 18743.44, 1111.45, 104360.23, 676.66, 95222.31, 33220.74, 20650.36, 493.88, 50931.84, 109824.29, 5123.95, 53935.59, 9222.81, 45747.27, 68336.82, 118691.68, 3252.0, 18844.8, 54750.96, 26923.72, 53387.42, 58542.47, 10044.03, 3797.1, 710.4, 70325.9, 66600.51, 155.87, 15010.4, 24519.66, 338.26, 1626.12, 39066.91, 15410.27, 217661.7, 26975.93, 75477.09, 14605.86, 10944.3, 40126.55, 7337.81, 29468.64, 14614.82, 87171.88, 57749.07, 66843.46, 87058.49, 80282.8, 4723.06, 4543.5, 4883.74, 13610.82, 7326.58, 46082.25, 1160.69, 3290.0, 319.93, 725.42, 7383.04, 49972.84, 16851.34, 24778.43, 7592.8, 481.75, 15291.05, 44722.08, 31723.93, 24925.53, 59815.8, 29600.48, 114036.42, 15113.86, 47720.82, 8056.45, 30701.85, 63.46, 1027.76, 39020.87, 737.67, 73485.51, 32279.86, 46347.74, 7243.24, 48879.52, 11827.66, 14880.14, 8012.0, 31149.42, 34311.32, 1084.22, 26975.61, 11249.72, 2924.67, 53173.71, 5623.01, 54701.95, 18106.08, 77222.68, 4338.1, 63319.4, 2214.45, 49832.59, 1957.44, 92270.98, 2636.79, 41.4, 755.1, 37442.96, 11064.0, 43322.18, 26400.2, 118758.16, 63111.52, 11783.87, 369.46, 2162.6, 55015.63, 6452.68, 43011.28, 155602.59, 17507.51, 7705.04, 13208.3, 30330.47, 88126.88, 14157.61, 167980.46, 29408.2, 4560.53, 100034.12, 74948.17, 2036.84, 8261.83, 5.38, 50847.36, 21318.92, 2219.32, 14694.68, 78773.64, 246.77, 3445.36, 5412.48, 222.05, 35.56, 87824.0, 10793.91, 15060.74, 19208.47, 39869.37, 20964.98, 17260.82, 93560.68, 32315.45, 153.14, 114052.52, 2059.9, 11477.6, 40373.0, 31990.58, 27268.81, 11357.05, 54890.68, 495.68, 90039.82, 13001.53, 100023.15, 54891.48, 34.95, 50372.7, 16537.69, 908.54, 8030.45, 78016.05, 434.96, 40233.82, 6036.45, 21739.28, 676.96, 19859.22, 76480.98, 3315.46, 39292.05, 16372.86, 2976.38, 5095.27, 17603.29, 12877.49, 79447.76, 142275.14, 4975.79, 517.95, 17813.13, 64354.5, 35.73, 64759.81, 15452.65, 8736.17, 40184.36, 70274.9, 28366.02, 824.92, 13296.57, 10935.76, 24733.3, 96049.94, 137959.88, 27715.56, 805.14, 4953.34, 45951.01, 2384.54, 32520.67, 10477.91, 32126.78, 3741.3, 12542.29, 7994.2, 3392.64, 19420.8, 47870.83, 21775.55, 79145.55, 273627.24, 1973.57, 77917.95, 13807.91, 55960.0, 11747.7, 24657.07, 69634.9, 81328.9, 82354.33, 1898.2, 131.5, 21652.02, 3371.2, 34283.92, 4575.13, 62365.29, 13705.39, 430.84, 114838.38, 34409.88, 210222.42, 7964.37, 53991.66, 10229.05, 65348.73, 59799.72, 58896.74, 6813.05, 24662.34, 42077.35, 65588.19, 123573.56, 3008.08, 6532.6, 37077.27, 662.82, 75373.04, 515.82, 54514.68, 4852.98, 21708.83, 17368.56, 1898.2, 3471.68, 102072.01, 55405.39, 2796.9, 68196.69, 174.58, 7922.88, 84614.95, 7724.71, 118620.37, 48002.56, 1166.74, 4257.4, 70342.84, 53326.6, 19863.29, 13311.76, 10396.93, 718.16, 7755.66, 174769.75, 57961.61, 27750.95, 47580.25, 54532.74, 38790.38, 18089.02, 118594.94, 18127.2, 16943.11, 6663.73, 41844.79, 153.14, 3482.88, 50810.77, 5310.29, 51170.65, 4330.0, 1247.12, 47665.31, 1328.25, 18714.24, 3744.1, 68975.74, 46190.82, 17275.0, 31016.57, 27168.75, 107600.84, 14944.02, 280.92, 37488.97, 14724.04, 8793.09, 15099.88, 46505.42, 1164.08, 16014.09, 13088.88, 182589.41, 44289.44, 71472.78, 6847.04, 15303.86, 21300.0, 19752.44, 3075.3, 12368.35, 878.49, 129708.06, 4156.82, 4939.67, 34326.72, 661.11, 42655.8, 8041.59, 11513.48, 18800.22, 23095.4, 51265.82, 70952.0, 20011.3, 50839.38, 11066.85, 72762.84, 15529.88, 39353.94, 15206.41, 111298.75, 21279.52, 411.6, 39551.52, 49.56, 80941.51, 51214.65, 254566.37, 26130.42, 1237.33, 3182.42, 10126.03, 8136.94, 13060.5, 15267.46, 81023.52, 22994.96, 89335.01, 23254.22, 238.51, 12893.36, 749.68, 505.78, 3276.62, 46007.5, 16534.91, 38867.74, 28068.32, 1940.24, 259.7, 9859.12, 8041.59, 16895.18, 58935.67, 139197.98, 61706.01, 51407.61, 2373.96, 7492.25, 31138.97, 8905.5, 7127.46, 44584.27, 72472.98, 10454.4, 84786.8, 15923.61, 22450.7, 1205.34, 21041.34, 37810.07, 73518.68, 2688.86, 46908.41, 7135.5, 119514.75, 26125.73, 8464.05, 91874.26, 4283.6, 9041.32, 57421.89, 30095.4, 3957.18, 29090.22, 661.11, 18941.51, 2130.99, 11868.33, 4022.09, 78308.69, 62695.84, 15735.72, 23467.5, 18151.76, 6101.89, 125055.56, 25045.62, 41911.06, 62248.0, 10672.33, 136544.85, 71007.87, 71609.51, 8525.32, 28693.03, 3129.67, 1177.05, 5771.83, 58838.4, 24960.0, 40895.94, 13293.72, 16368.58, 90791.47, 3107.78, 75499.54, 110946.69, 66907.76, 82920.8, 4764.75, 193.26, 60071.05, 123640.17, 42314.34, 4895.99, 63301.92, 236.25, 25624.67, 15039.16, 15276.81, 20153.0, 45522.75, 6685.77, 22313.63, 663.75, 8216.39, 22938.03, 54791.31, 113818.15, 7255.25, 40851.05, 68333.96, 32481.88, 32123.11, 7479.14, 1570.59, 9253.7, 9218.94, 2978.72, 171.06, 1953.26, 1232.6, 4516.8, 33254.08, 34656.99, 13961.49, 44399.48, 1493.62, 31571.05, 17891.22, 85086.29, 46630.08, 20162.88, 177.82, 1868.59, 100370.77, 1478.1, 53847.74, 14135.59, 1161.96, 3677.94, 17281.07, 54800.07, 3471.83, 319.42, 97083.3, 9838.63, 160916.53, 112489.6, 623.68, 5770.16, 19999.2, 13137.59, 45400.0, 54913.41, 57085.53, 44544.18, 5918.44, 3982.28, 100920.97, 87281.73, 55654.02, 49547.7, 15990.2, 115637.36, 54578.65, 21665.75, 57622.01, 22460.89, 11975.07, 516.63, 97848.23, 62835.41, 7691.85, 2577.82, 1712.18, 35595.66, 34201.6, 2789.35, 1349.6, 73542.9, 11703.38, 15807.13, 55.21, 199.53, 1384.72, 1414.69, 22298.4, 84691.93, 4534.72, 49398.68, 55154.36, 7850.87, 14394.5, 28091.37, 1084.22, 42527.3, 10258.5, 3486.1, 15733.38, 36016.97, 24170.08, 20512.67, 9099.58, 51827.19, 48399.53, 33615.88, 345.24, 1282.6, 1898.9, 93056.9, 40698.2, 57498.84, 14815.31, 23535.89, 63596.57, 407.93, 64839.8, 9049.76, 14953.44, 27242.54, 17815.31, 31947.28, 7269.52, 430.24, 4402.77, 9528.85, 87257.98, 123800.0, 6146.82, 7947.88, 54113.99, 30051.43, 102517.12, 84847.08, 38507.7, 934.34, 6289.4, 2126.34, 52156.29, 40387.76, 23215.16, 46343.06, 9111.81, 42075.26, 51222.99, 2921.11, 117457.43, 1328.25, 63385.21, 17181.45, 12111.84, 14476.69, 66258.51, 25502.1, 12592.59, 38835.14, 71239.73, 79861.77, 29376.0, 35239.94, 22459.26, 319.99, 8451.46, 83743.35, 7821.0, 24617.5, 2278.42, 737.42, 396.55, 17360.64, 1898.2, 12812.94, 10395.61, 115867.81, 21970.64, 4041.58, 1898.2, 43619.81, 14659.57, 25507.61, 13997.79, 1159.77, 3536.0, 38.19, 6532.6, 26271.65, 9129.26, 13174.62, 748.72, 9134.4, 3797.1, 13891.01, 17078.79, 14039.98, 15696.06, 8977.85, 258.32, 14261.13, 51175.43, 461.0, 2401.01, 4867.55, 91618.27, 48165.2, 33673.04, 16068.0, 15161.25, 98895.42, 30778.88, 29556.09, 442.06, 3157.94, 83021.5, 4022.7, 12634.41, 2156.09, 25279.06, 886.67, 1010.97, 14940.54, 59320.51, 133554.21, 7452.65, 23141.81, 76.2, 41402.43, 48615.66, 11429.64, 475.83, 12640.05, 76590.34, 28838.54, 146833.28, 38294.22, 25909.45, 84358.55, 132324.36, 15123.08, 13646.45, 42151.57, 24698.09, 62915.49, 12124.07, 10904.7, 386.91, 65326.03, 49600.74, 12676.92, 10229.26, 213.34, 146268.95, 40823.45, 7992.0, 50024.52, 21121.11, 28573.21, 24096.04, 1103.71, 9558.82, 8714.33, 29929.99, 1898.2, 104586.31, 124116.13, 471.56, 10679.85, 28121.12, 11122.19, 281.53, 12057.27, 10222.2, 1468.8, 21251.41, 147890.14, 2268.85, 16466.96, 8877.76, 21345.44, 87.39, 40780.5, 50146.62, 17509.76, 5802.37, 61566.66, 73569.99, 2929.3, 24368.9, 63389.62, 47672.4, 36869.7, 1898.2, 51643.3, 20241.03, 91115.65, 15526.7, 37187.61, 294.0, 53720.97, 25077.57, 4535.1, 2613.82, 4378.51, 3464.67, 33458.74, 59226.77, 9208.77, 47998.99, 1990.1, 16823.55, 9433.15, 22496.93, 49650.21, 2750.78, 5047.45, 13765.6, 2438.05, 47408.16, 50213.12, 24792.7, 62078.1, 19351.79, 98363.22, 46190.79, 51042.05, 89962.87, 1510.28, 127612.56, 66231.23, 23642.0, 10860.4, 54966.76, 1897.5, 8086.31, 81984.03, 66415.22, 14101.7, 1328.25, 32069.17, 16348.34, 77663.3, 67429.17, 123032.48, 253.26, 25194.62, 2606.32, 1135.71, 299.04, 8479.47, 36457.34, 50106.76, 24408.37, 73978.99, 78279.52, 16692.64, 54041.52, 61744.25, 524.44, 81602.4, 7210.01, 15043.3, 50714.24, 787.81, 28224.39, 57717.94, 51482.72, 76634.03, 2583.36, 26323.2, 50050.48, 6532.6, 64684.47, 3112.41, 44541.72, 5109.47, 13594.35, 17491.42, 1328.25, 32741.84, 23717.37, 2833.04, 4034.95, 506.31, 29774.1, 5151.33, 41523.81, 11062.59, 63.13, 8510.28, 7361.61, 7059.42, 35677.44, 106.67, 139028.07, 51014.88, 26904.62, 6570.32, 90088.29, 146228.13, 29485.02, 18501.15, 17403.99, 15905.1, 10254.66, 31219.2, 164351.7, 7592.1, 1011.54, 1930.05, 11101.01, 84312.63, 1168.82, 47413.14, 29659.51, 19799.16, 137090.36, 40589.47, 381.56, 3795.7, 87886.18, 4169.67, 130.09, 2106.03, 1716.18, 4828.96, 557.41, 114672.82, 31371.95, 238811.7, 3270.04, 7909.57, 1266.49, 56700.4, 15868.3, 46827.79, 132537.78, 123536.0, 10173.62, 17660.16, 1356.55, 86.97, 14535.58, 280.92, 344631.9, 5023.0, 25186.39, 18487.53, 88099.61, 489.5, 21626.27, 14883.63, 78216.97, 22309.15, 6688.9, 347176.67, 50692.9, 869.91, 9750.22, 4460.42, 65597.27, 23815.86, 55072.05, 29039.68, 53534.46, 43428.71, 1328.25, 94022.12, 1458.07, 5440.38, 54851.08, 37744.54, 34182.15, 74439.62, 79337.82, 6594.19, 15462.02, 18919.63, 167.92, 45339.62, 658.86, 5376.0, 25621.1, 15383.85, 33533.44, 21300.0, 21195.66, 18241.89, 65551.19, 4722.04, 1012.15, 1084.28, 14776.47, 40199.99, 18634.83, 15651.48, 1071.1, 939.27, 1380.74, 12240.48, 11264.0, 15143.56, 2744.3, 58999.84, 145785.75, 12462.5, 10044.0, 40455.53, 41215.24, 943.12, 4971.45, 17936.22, 76764.72, 51756.11, 10542.2, 57465.38, 132912.86, 49154.56, 8152.56, 184883.41, 21618.5, 2801.47, 6460.66, 32462.47, 18375.89, 13953.18, 10305.3, 25206.25, 4008.05, 871.4, 34989.9, 5429.19, 38315.63, 26676.21, 113792.61, 9243.47, 46235.63, 15891.48, 8122.8, 115205.49, 24455.79, 1729.03, 4549.46, 4544.96, 70662.62, 17615.52, 33150.26, 124.24, 2375.98, 5506.88, 5002.36, 2373.96, 14824.32, 720.41, 15814.54, 13511.16, 2804.5, 29936.69, 79438.28, 165.65, 17532.4, 59826.22, 60049.72, 3476.39, 106356.71, 152845.48, 59166.07, 49226.33, 25703.04, 4717.92, 26748.59, 606.09, 167671.0, 15030.72, 11997.08, 16416.6, 369.04, 1759.76, 149093.2, 4555.68, 60462.88, 1065.44, 48975.58, 3581.94, 30843.74, 29643.43, 41500.8, 1897.5, 38260.94, 2269.85, 8822.06, 10938.58, 67322.33, 1139.16, 462.63, 22011.97, 22265.18, 54392.24, 1367.82, 2237.1, 504.19, 97865.63, 5625.41, 39165.88, 598.78, 2322.96, 10274.24, 20225.69, 120318.71, 18271.61, 24904.24, 111.37, 3172.87, 4249.07, 13378.47, 1897.5, 13825.41, 10495.35, 162.65, 45199.39, 137973.14, 46269.87, 47392.8, 645.72, 529.4, 60727.3, 37141.5, 3907.09, 8791.53, 6474.19, 34901.17, 126237.22, 24031.68, 134364.65, 40409.41, 1110.16, 82640.09, 54135.31, 12383.81, 55532.36, 154.92, 60386.63, 58.41, 16864.06, 63.46, 2844.1, 195.51, 5364.0, 139420.17, 14204.38, 39768.15, 6141.5, 17950.3, 627.61, 8361.83, 24537.53, 8255.52, 59389.27, 89669.36, 38271.08, 14830.01, 86483.06, 15196.27, 42736.36, 56612.37, 78182.68, 9097.6, 854.28, 34299.56, 142779.69, 41273.61, 3839.38, 19964.1, 58568.48, 75566.39, 2549.63, 26338.93, 4957.0, 88407.36, 15442.55, 1605.89, 174211.37, 50748.46, 54296.45, 339.02, 64565.93, 15456.66, 38482.3, 36546.5, 15026.33, 20925.92, 85984.03, 14891.55, 1253.32, 54954.91, 16228.8, 52167.66, 21869.05, 337.56, 13004.2, 71522.44, 2856.4, 31417.51, 1032.76, 13664.0, 444.74, 47839.68, 301.79, 72259.11, 91328.75, 59853.09, 679.41, 88130.07, 56260.75, 35808.59, 56419.3, 109112.04, 2231.45, 15890.4, 110.32, 32388.99, 56310.46, 215.04, 4651.75, 7388.5, 26066.56, 52499.91, 70193.47, 20557.14, 48064.79, 44362.95, 3608.44, 62719.79, 49337.44, 18780.28, 1539.18, 8622.04, 82249.85, 57148.26, 99686.33, 18932.44, 7480.06, 1317.0, 47462.34, 20127.6, 9901.35, 49384.06, 20130.0, 21089.23, 47181.96, 32422.32, 4343.04, 81335.02, 82714.72, 57274.72, 49618.67, 62692.75, 16575.3, 82506.18, 1897.5, 17785.81, 68525.54, 7827.96, 65847.51, 11164.85, 776.58, 18887.04, 82547.14, 1644.95, 60134.34, 244.41, 61693.94, 16434.32, 3760.8, 70834.48, 267.14, 15320.83, 1293.12, 11695.08, 47753.09, 93477.48, 1310.21, 46305.5, 2692.39, 54909.3, 2612.48, 5393.74, 20762.47, 22684.3, 4088.45, 14853.36, 15718.29, 13135.59, 348.94, 113905.39, 10318.0, 23168.52, 58440.23, 34288.29, 82736.15, 101053.42, 139131.58, 54651.72, 34996.35, 733.16, 122509.67, 118376.07, 6957.3, 41562.8, 20077.68, 48622.24, 13068.48, 165251.35, 18903.51, 29199.91, 943.12, 7586.56, 14966.72, 21146.53, 131228.12, 15282.21, 2548.6, 22444.97, 3734.44, 46781.76, 60628.26, 19748.15, 25369.42, 14893.58, 4967.29, 44516.07, 25464.83, 1997.2, 17767.94, 17781.8, 37191.17, 69546.96, 256.91, 71020.42, 25912.3, 129932.0, 18413.69, 66691.31, 20635.35, 10166.76, 256.49, 27571.25, 9590.99, 135288.83, 6982.69, 54519.85, 4531.71, 17135.03, 13034.77, 197513.59, 101895.87, 23863.72, 12558.68, 16728.75, 45437.79, 58475.0, 16099.22, 384.4, 2539.67, 1495.3, 3201.28, 38638.08, 35.75, 15226.19, 39151.65, 48525.3, 15113.86, 6965.1, 99.2, 533.18, 4707.69, 10408.61, 929.48, 36994.59, 692.58, 30828.09, 5285.67, 10104.04, 892.64, 8607.37, 95475.32, 39334.46, 9769.05, 36955.98, 2215.86, 9949.08, 17283.5, 12814.73, 73718.33, 21485.74, 61951.33, 16639.62, 96.51, 1845.06, 82662.35, 11178.56, 7301.48, 36845.7, 23643.9, 1290.43, 12153.84, 6325.88, 1441.99, 48558.01, 15440.59, 32214.41, 11411.1, 153.21, 6477.84, 131448.1, 16472.79, 46872.32, 14791.46, 26363.75, 2474.37, 23477.92, 4777.34, 4903.03, 100744.45, 21832.5, 42192.1, 49220.53, 75204.45, 39426.52, 97817.27, 48083.84, 110493.12, 13724.03, 537.69, 16166.33, 29163.84, 2996.91, 144990.55, 20960.13, 19504.4, 48765.72, 82358.4, 3257.56, 21094.8, 13148.33, 17507.35, 125578.72, 38801.21, 35772.53, 42869.45, 6513.5, 3916.89, 19202.95, 20434.2, 1054.28, 706.01, 14285.83, 18732.58, 4884.0, 32715.47, 43520.56, 42974.64, 41384.96, 4325.83, 143.61, 70306.33, 62276.85, 14135.59, 50590.51, 3893.91, 119399.82, 14502.44, 12291.83, 2507.96, 7664.54, 1328.25, 16729.3, 2352.97, 160180.09, 74401.59, 29282.81, 77162.33, 2493.35, 15615.48, 18529.5, 5764.54, 4303.88, 15911.99, 2221.6, 25865.81, 3403.8, 116.81, 10562.21, 19927.52, 193331.58, 7144.61, 78222.07, 14891.68, 5903.19, 14653.41, 271.22, 290.93, 7417.48, 1956.28, 1621.1, 139.03, 90968.04, 47027.63, 116702.35, 4676.44, 66051.93, 13350.75, 34784.11, 113755.8, 508.09, 76479.6, 46625.04, 13948.2, 51586.5, 3555.46, 48206.96, 14097.7, 101547.44, 52291.74, 615.97, 65179.62, 431.74, 45279.86, 25700.9, 172164.76, 7105.7, 44285.78, 7178.9, 41948.97, 13281.06, 2373.96, 1322.22, 36851.29, 28173.45, 3030.39, 56431.48, 130414.76, 1371.31, 70657.02, 6582.26, 7763.52, 9111.0, 344.9, 70891.2, 56329.42, 12965.4, 4233.53, 53423.96, 5111.87, 135103.34, 83641.29, 77889.07, 7272.2, 81093.97, 25735.64, 61.29, 24650.92, 23934.14, 36896.98, 62489.16, 8949.7, 11688.3, 13948.2, 70576.71, 1305.38, 26300.26, 80739.82, 14980.74, 22277.13, 15993.68, 8645.44, 43621.79, 35887.93, 813.21, 13250.13, 149.71, 15783.48, 2801.98, 72647.02, 17321.3, 15676.63, 1603.07, 14425.47, 45001.42, 3819.2, 31609.65, 9011.26, 5456.92, 81755.42, 27887.9, 70067.87, 66277.2, 380.77, 12984.39, 42410.93, 11847.96, 95487.4, 9054.72, 22511.69, 6082.0, 661.11, 31269.65, 30938.95, 63528.53, 5987.13, 25101.04, 5582.54, 39469.29, 25462.85, 731.08, 23704.71, 65539.89, 41042.75, 7477.38, 97312.01, 16687.2, 90640.58, 35833.58, 119644.26, 61725.98, 166099.69, 10115.81, 17531.49, 108268.09, 2033.86, 62347.02, 969.61, 21579.94, 11051.64, 45929.99, 163.44, 50875.07, 1749.38, 4379.42, 52918.68, 4783.97, 8122.14, 5704.91, 6008.64, 371.95, 297.86, 5433.68, 909.69, 35688.01, 49300.59, 336.85, 746.04, 15111.51, 22084.87, 42727.71, 1326.28, 5991.27, 3632.58, 14223.44, 6531.29, 136508.84, 58724.05, 39117.77, 14411.58, 17990.11, 74248.47, 3874.74, 46897.2, 7962.12, 87786.85, 24341.31, 77623.58, 37925.78, 50716.78, 11047.27, 324.58, 47955.0, 550.2, 9664.87, 17385.33, 12297.6, 57310.19, 22809.22, 4686.9, 20333.82, 11007.29, 16257.55, 66270.28, 13065.2, 127908.3, 558.45, 21407.71, 40432.64, 49660.27, 36337.74, 57241.34, 29482.79, 18424.59, 24639.2, 88846.56, 71609.64, 61807.13, 5062.3, 16198.17, 97375.73, 5356.26, 50529.38, 26411.07, 17393.48, 6037.8, 24591.23, 14030.28, 40367.23, 7213.69, 35738.33, 29796.41, 40153.59, 37372.19, 38892.74, 53798.54, 7473.7, 4867.55, 103587.23, 1630.7, 8041.59, 12825.19, 24368.9, 78502.37, 56122.06, 7740.7, 2045.04, 17251.2, 42799.94, 49837.41, 2655.1, 26869.95, 14547.29, 74164.07, 149626.7, 103238.52, 31591.07, 40878.43, 324.16, 16585.74, 5273.07, 132229.97, 13472.4, 11186.5, 3689.0, 31157.17, 10085.8, 60160.64, 83481.17, 40137.44, 49570.37, 25562.42, 142.22, 4073.28, 63.13, 19142.09, 1991.84, 115376.68, 2168.44, 89899.14, 5589.98, 25414.37, 19060.72, 15250.06, 33725.69, 32287.51, 40865.41, 2405.45, 23213.66, 2055.44, 201.5, 39822.15, 13097.34, 12908.14, 1432.02, 655.66, 6117.29, 272.45, 12728.51, 3519.92, 1457.47, 18961.06, 67335.25, 36820.79, 16465.59, 8404.47, 30.85, 13418.36, 9049.7, 31887.79, 23018.1, 31610.43, 102502.11, 647.01, 30290.27, 16491.13, 180.16, 5661.09, 1231.37, 667.96, 15243.61, 40663.49, 33834.08, 36.9, 8161.5, 103985.27, 23295.69, 3118.2, 93241.29, 6182.86, 4006.38, 4088.45, 14675.64, 40022.96, 2498.27, 37608.63, 1071.38, 21564.21, 37634.22, 88093.28, 324.4, 13418.06, 119.11, 10164.82, 15235.13, 42714.41, 18667.82, 49176.63, 19979.46, 16127.19, 165896.13, 35064.0, 15728.13, 22642.68, 48424.83, 36395.69, 109.13, 183.41, 214935.3, 7671.48, 35016.61, 1511.6, 4139.5, 4644.04, 23350.13, 74153.07, 933.62, 14699.77, 22602.24, 14473.62, 11928.28, 23624.99, 58590.56, 9722.35, 15953.57, 44025.01, 21883.4, 5559.39, 43256.78, 7214.57, 12147.05, 94393.8, 785.99, 36369.05, 14862.88, 412.4, 31383.78, 1955.32, 106.67, 19722.62, 71842.97, 2113.32, 19794.9, 2982.64, 42911.06, 9802.64, 104470.82, 133818.72, 984.14, 80662.01, 78473.33, 13713.39, 374.64, 62127.69, 15833.52, 933.62, 51766.01, 67318.67, 28061.11, 16942.73, 96302.56, 39222.02, 21814.89, 30195.25, 19231.14, 21593.33, 281.88, 1978.47, 5646.39, 1311.87, 75305.74, 80774.44, 10577.87, 3329.79, 8836.58, 13490.86, 11547.94, 54518.4, 81653.8, 6472.16, 32135.53, 14230.4, 20415.62, 28568.06, 3361.96, 28.32, 49600.9, 8406.47, 4325.77, 32373.76, 19800.0, 22340.36, 40859.0, 21827.01, 51678.01, 7604.2, 14508.56, 102223.6, 5431.68, 740.49, 81.0, 19019.0, 15951.28, 1899.76, 943.12, 11357.01, 30394.35, 134024.48, 14267.08, 48337.42, 1328.25, 24918.62, 20445.58, 39989.59, 16545.6, 7493.39, 19175.38, 30669.26, 382.36, 51625.93, 6532.6, 14831.2, 920.31, 2499.79, 14950.82, 941.14, 66473.96, 99234.86, 431.85, 51112.93, 1984.52, 24691.93, 18754.85, 114637.52, 1476.89, 4877.97, 16761.76, 18439.46, 19134.36, 11428.19, 1628.93, 4912.7, 27642.91, 21126.6, 57350.08, 34573.47, 16751.31, 25243.61, 12020.94, 194618.45, 8334.54, 74156.03, 43286.07, 20457.48, 132203.35, 10464.67, 41741.47, 142229.56, 121.11, 867.49, 2093.45, 15038.06, 8923.2, 1038.13, 10208.0, 16291.22, 316.93, 44583.72, 14516.79, 1583.54, 125044.57, 471.56, 42061.25, 5810.99, 33288.05, 36001.59, 5524.35, 14824.32, 36152.94, 1950.63, 17976.73, 67991.4, 14990.9, 10537.8, 22369.48, 1799.9, 813.21, 20886.3, 21776.82, 53787.5, 611.37, 33064.89, 5577.92, 26544.75, 116381.54, 43836.34, 55590.42, 5535.54, 56725.42, 20836.91, 81329.61, 8386.68, 10307.68, 62137.27, 29963.51, 81.0, 6242.34, 150810.74, 104919.05, 23856.13, 25257.6, 267.3, 42067.56, 1238.28, 15345.21, 22321.02, 18215.64, 101503.41, 38889.56, 11988.29, 1322.22, 25195.88, 1745.3, 25370.05, 312.06, 32509.79, 47704.9, 1897.5, 88400.25, 18701.48, 21190.4, 2249.32, 57336.97, 35081.78, 3797.1, 1898.9, 27238.34, 18429.11, 12003.84, 2111.61, 149782.41, 117672.2, 24686.59, 14957.51, 9048.11, 81698.93, 75276.54, 68859.75, 638.88, 828.84, 121267.1, 50116.5, 49638.72, 21784.4, 29129.31, 16718.59, 551.85, 13889.9, 19019.0, 12120.31, 53915.87, 1897.5, 16370.27, 88533.99, 32262.09, 55806.82, 368.43, 625.45, 36374.0, 1111.32, 35381.25, 1045.09, 40398.44, 79545.76, 22087.97, 81742.69, 819.64, 61246.99, 198.38, 17752.2, 110019.73, 117050.73, 33378.0, 4967.69, 30544.8, 89266.42, 8775.0, 5748.7, 55252.06, 55259.53, 17631.81, 55345.54, 101491.05, 23478.14, 794.16, 16210.56, 7589.38, 6532.92, 13111.12, 62655.25, 37993.36, 11076.23, 5153.79, 3730.5, 4272.16, 285.8, 173796.91, 40306.88, 76506.43, 31209.43, 15528.95, 32684.37, 32965.68, 12146.96, 16362.7, 8622.24, 5376.9, 845.91, 46889.88, 5529.11, 85375.11, 21526.21, 2547.62, 37744.91, 94.89, 1309.66, 6230.99, 1039.78, 1151.14, 141205.69, 106.27, 77897.64, 392.66, 48825.79, 82190.07, 4747.91, 59601.35, 7783.39, 102686.95, 613.81, 19909.04, 484.51, 11608.88, 83329.01, 29419.25, 23599.59, 62730.22, 10301.52, 34854.89, 22366.89, 108990.2, 19581.58, 9205.65, 14196.83, 18246.13, 106322.09, 45812.61, 26622.57, 10505.59, 18752.34, 1987.65, 12765.66, 56941.06, 1238.4, 20471.65, 41282.06, 1199.02, 661.11, 148984.7, 14894.14, 36140.28, 13279.6, 147763.0, 19300.46, 48678.65, 1720.93, 17301.37, 2307.05, 14001.29, 12668.17, 29723.09, 96609.06, 27454.1, 15817.6, 14204.38, 100925.18, 13797.33, 13066.96, 107531.3, 194.08, 139279.73, 1355.27, 245.35, 31177.06, 9206.42, 17428.17, 496.8, 9586.54, 16272.46, 7615.8, 138051.06, 59.16, 6187.14, 13496.32, 14056.84, 112320.55, 16495.4, 56080.34, 20788.19, 48451.41, 4925.63, 5444.0, 3596.71, 611.58, 46081.46, 47293.18, 58730.67, 57508.29, 10153.25, 25410.17, 19332.29, 374.0, 15691.38, 82523.77, 106.67, 95075.76, 14003.25, 36319.29, 21486.73, 16423.71, 23910.08, 61450.62, 5594.39, 943.12, 35264.51, 8410.17, 63880.14, 8580.3, 81321.35, 27159.3, 20164.81, 28603.04, 15691.5, 4951.83, 8250.0, 1613.46, 14836.36, 25221.81, 101562.27, 6927.42, 5725.9, 204.31, 38219.36, 12170.67, 42159.22, 19257.33, 31717.0, 11834.16, 8030.0, 10158.6, 34499.15, 618.85, 46006.85, 10886.6, 632134.24, 2160.0, 13744.88, 20290.56, 40873.09, 87133.47, 105.94, 33496.48, 46231.02, 52070.48, 4336.88, 7265.81, 10543.17, 116534.95, 38029.32, 46869.77, 19211.14, 44009.9, 30143.08, 36450.09, 104176.8, 139.65, 1860.18, 68452.81, 14455.35, 40378.8, 19687.99, 41753.0, 53819.93, 49552.6, 3105.75, 15098.86, 1410.41, 6813.61, 21413.0, 66948.59, 32.64, 8933.76, 29162.0, 86713.48, 15829.56, 1834.12, 95.38, 17591.04, 5453.6, 7231.54, 50918.09, 41233.26, 74242.32, 5254.7, 18172.21, 2725.63, 124584.45, 31312.32, 42492.48, 7196.79, 918.46, 44384.37, 76462.37, 34836.01, 89024.93, 38698.3, 6814.06, 1619.54, 33099.46, 117862.28, 8181.05, 142.22, 21911.62, 52533.71, 4790.42, 92102.78, 16538.27, 595.09, 5241.52, 17515.53, 760.75, 22657.15, 221.76, 75566.98, 110147.33, 54356.57, 19402.63, 536.29, 1753.4, 41012.55, 47575.52, 80914.18, 6726.16, 19634.24, 2019.69, 219339.04, 47550.41, 595.35, 8044.26, 42161.12, 42528.39, 471.56, 34908.78, 3909.97, 1059.09, 7860.14, 6454.22, 68685.78, 94859.12, 3748.84, 165.65, 8063.37, 13662.0, 1266.84, 138730.56, 30166.04, 61297.3, 46515.89, 10446.95, 3923.88, 48157.28, 2560.29, 9942.43, 4088.45, 11681.15, 57107.65, 15663.61, 13789.99, 85886.7, 3667.34, 4324.64, 23884.98, 23539.17, 21738.17, 9986.09, 964.8, 810.99, 20375.18, 15434.08, 6983.09, 42583.43, 16232.63, 2373.96, 1277.84, 4721.21, 1588.06, 44297.85, 17157.25, 1428.94, 6203.27, 19704.59, 18216.88, 42544.69, 21183.32, 584.06, 22192.35, 11376.28, 14049.28, 22574.79, 3023.21, 26700.04, 53501.89, 47703.27, 353.8, 21291.5, 82.82, 17526.86, 42892.22, 535.88, 10498.89, 11022.34, 13624.8, 1992.45, 13071.03, 15798.14, 6286.6, 32715.47, 33003.98, 314.88, 4729.72, 632.21, 15410.67, 232.94, 104099.4, 50770.97, 28872.97, 61582.99, 630.4, 241674.61, 2082.04, 11838.9, 11680.2, 5862.13, 81430.28, 57462.84, 9210.55, 1415.68, 12187.65, 39754.19, 17374.78, 12420.43, 28.25, 8422.14, 87215.56, 14516.33, 33273.83, 1716.13, 15389.74, 24681.11, 9925.69, 39005.21, 16796.71, 2497.76, 21417.31, 19413.42, 36129.77, 65230.18, 4887.5, 8705.28, 98438.93, 943.12, 1898.2, 4765.1, 22646.31, 44836.11, 28828.89, 250.09, 3829.0, 16391.09, 10937.3, 111441.34, 7576.3, 32202.0, 3065.82, 7343.96, 512.05, 15283.8, 9856.2, 14824.32, 1279.3, 53557.78, 2908.79, 1583.18, 1437.2, 29156.3, 2350.08, 72650.55, 10321.42, 43669.42, 4654.5, 20251.65, 3225.75, 507.77, 84564.42, 54934.98, 20175.8, 54393.55, 25239.7, 75097.91, 1261.99, 15742.58, 8726.06, 40776.12, 21880.0, 16732.19, 47157.02, 7804.79, 28822.61, 9123.44, 112456.47, 8079.5, 100649.64, 30649.38, 90205.67, 19351.67, 61733.07, 14289.91, 132032.53, 19358.3, 8496.29, 43806.16, 494.0, 53645.92, 37984.41, 8775.17, 43636.42, 36748.37, 23609.72, 1084.28, 13019.08, 119231.31, 542.12, 12219.74, 34242.87, 45952.29, 27107.08, 7202.59, 43118.0, 1063.8, 16366.84, 13305.55, 83808.49, 4129.02, 5600.41, 42917.52, 4047.68, 44994.88, 22054.2, 109596.07, 25225.45, 24039.36, 9019.8, 65596.56, 38124.63, 14191.2, 69465.6, 734.54, 48057.38, 25026.96, 30220.01, 25606.44, 3846.48, 484.42, 142.22, 79817.87, 5500.36, 17273.46, 8793.09, 12138.72, 35438.65, 6199.46, 4806.45, 479.3, 16497.0, 8015.04, 11701.8, 17798.04, 46841.05, 90048.91, 880.36, 29752.32, 36625.0, 76925.19, 1897.5, 7231.34, 123363.1, 6277.21, 779.92, 38897.09, 77990.32, 10621.8, 15120.21, 24462.81, 39323.85, 57848.17, 14025.68, 17590.55, 10818.65, 12583.34, 22171.08, 15147.0, 1487.69, 3966.72, 77772.51, 101296.78, 25183.59, 383.21, 10440.9, 1920.8, 24186.82, 58873.5, 43246.69, 33942.0, 50565.21, 420.24, 14494.88, 6444.9, 21747.24, 32481.88, 126915.14, 5501.06, 117867.53, 10231.19, 105035.05, 683.91, 3910.65, 3185.41, 21195.35, 107091.28, 77181.97, 60788.85, 534.17, 12668.17, 6021.81, 26969.94, 8885.57, 74721.27, 351.09, 1893.09, 111510.37, 9101.77, 28759.18, 56578.36, 47759.05, 9965.24, 19487.21, 44464.91, 3207.34, 1953.33, 3075.3, 62063.76, 16404.24, 166.34, 49345.83, 18161.81, 10574.74, 25444.3, 51765.55, 6954.39, 7439.67, 5291.05, 14966.48, 23827.49, 64281.47, 5321.84, 2030.0, 1887.0, 41546.0, 2215.51, 5805.29, 37436.23, 3756.96, 14884.41, 27086.17, 13810.8, 1231.03, 10763.3, 1898.9, 13159.5, 19624.22, 6517.98, 53252.65, 84126.23, 24413.85, 8525.28, 41416.35, 29763.54, 67997.89, 25462.8, 15593.24, 6374.55, 24561.54, 4378.51, 3208.36, 38093.99, 304.2, 59863.42, 9232.97, 1956.76, 28377.76, 18358.0, 11531.94, 52501.5, 156945.2, 8696.5, 35812.05, 21038.04, 4932.3, 4309.2, 11007.29, 1358.52, 12917.75, 21879.19, 8380.76, 165.65, 15409.68, 20754.92, 53848.87, 17009.41, 1356.95, 12205.67, 21446.76, 82621.84, 114093.18, 14883.63, 8197.03, 1090.74, 31.56, 1365.0, 101170.42, 217.62, 24346.19, 11110.97, 18777.0, 5446.81, 1282.71, 7664.54, 67208.4, 26037.27, 31227.99, 491.04, 29178.45, 11899.21, 97808.57, 3011.19, 361.38, 17.46, 14777.43, 14090.17, 17045.25, 121085.52, 278.08, 12613.84, 6558.06, 52695.72, 158339.83, 3039.04, 55604.37, 6405.97, 30400.0, 6532.6, 265.4, 41672.17, 9164.16, 99910.97, 85299.7, 44081.13, 21064.46, 18.37, 59290.84, 23557.58, 36744.46, 26727.94, 5036.54, 50185.5, 42087.82, 13621.62, 39258.4, 12965.4, 3703.19, 1897.5, 54539.49, 15232.1, 6505.2, 60475.46, 22582.87, 13500.9, 28856.53, 2240.6, 37904.66, 7081.42, 17986.66, 14177.31, 1140.92, 4538.94, 43484.02, 11792.5, 115721.16, 2373.96, 39489.5, 67421.88, 110814.48, 19097.22, 54750.01, 664.59, 91510.27, 12668.17, 25944.13, 5045.62, 681.61, 9622.01, 1762.48, 156839.49, 54189.11, 15455.5, 120010.94, 15300.11, 7529.72, 30466.47, 8041.59, 15137.53, 65957.65, 14150.23, 14013.3, 21820.9, 99512.2, 3839.75, 4666.06, 2295.0, 49436.82, 140321.81, 754.03, 19307.22, 3811.18, 30462.94, 22173.32, 46195.94, 432.39, 3980.14, 1898.9, 22481.22, 3510.72, 72795.86, 3400.18, 16037.46, 23974.76, 33114.21, 1115.24, 2816.0, 7061.11, 21352.6, 53245.27, 441.45, 83653.8, 15642.11, 26758.28, 10327.81, 25758.72, 27125.56, 23474.55, 18.51, 99544.02, 23915.67, 65458.44, 13761.21, 47732.65, 103264.53, 39209.94, 9228.0, 1112.37, 103446.5, 26796.0, 7204.56, 61885.03, 30646.49, 217.94, 15089.56, 2561.68, 2691.45, 22835.5, 17852.8, 1898.9, 7018.07, 7177.54, 56408.65, 18268.95, 41411.32, 15497.12, 56246.28, 19485.0, 242.28, 11855.65, 9815.89, 71451.03, 7324.04, 34761.5, 85435.31, 46853.68, 9144.88, 72567.52, 27519.47, 12849.41, 41621.06, 328.32, 311.0, 20460.85, 2268.41, 25649.54, 86033.06, 42651.58, 53871.84, 39471.59, 108353.88, 25262.72, 3593.88, 62168.1, 447.77, 261.45, 3332.78, 52964.57, 16381.68, 19597.8, 118524.14, 12033.98, 1898.9, 29037.97, 789.04, 41704.95, 5442.15, 2152.98, 1198.44, 58102.5, 20689.66, 18325.81, 167.28, 52286.66, 20557.14, 101169.15, 9808.79, 1893.09, 21770.15, 1912.82, 115436.37, 3461.42, 14001.15, 115586.12, 221.51, 30498.98, 6032.97, 69809.89, 17509.24, 9473.69, 69233.06, 365.87, 2191.95, 78548.29, 32439.41, 61651.2, 58953.47, 58.18, 4210.81, 4375.86, 7851.28, 11263.37, 29223.8, 21060.0, 1961.27, 65149.73, 31581.04, 4887.63, 14384.43, 88043.01, 69771.37, 3776.83, 34941.55, 1406.1, 1064.96, 15720.84, 4312.6, 109621.75, 14502.44, 369.23, 52418.44, 64032.75, 43428.99, 102051.84, 12807.38, 36685.05, 3646.18, 16438.08, 557.58, 7619.84, 2333.56, 546.0, 728.67, 15541.99, 318.21, 2510.71, 8400.45, 16561.69, 12336.48, 4382.98, 87326.95, 15639.46, 31867.51, 4088.45, 20625.57, 45141.68, 2439.5, 3988.83, 2585.69, 2385.6, 54807.09, 471.56, 6387.65, 1898.2, 38652.11, 40537.86, 7967.75, 67116.07, 41283.48, 5844.48, 5015.67, 3084.76, 51843.91, 5171.93, 2440.09, 1191.28, 139976.21, 53049.08, 83503.25, 43123.33, 14306.95, 3762.03, 51813.07, 18256.84, 3504.0, 22939.97, 13678.56, 65179.35, 13061.67, 25146.24, 89699.99, 2808.46, 1616.34, 376.9, 67303.8, 2570.64, 294.18, 1188.48, 1131.2, 229166.54, 342.56, 55496.74, 38.88, 61964.35, 197061.79, 86733.97, 114169.6, 590.47, 1388.94, 29155.56, 62728.86, 75982.77, 94064.6, 6988.77, 104838.29, 14049.72, 66995.1, 52619.39, 49110.35, 13646.45, 121384.47, 8531.4, 5728.48, 1796.73, 31643.24, 1991.84, 551.05, 38971.27, 13776.49, 48186.45, 3311.91, 16650.16, 209.38, 267.3, 261871.45, 6765.13, 7297.7, 70651.34, 114748.19, 52894.72, 10114.55, 20131.46, 22706.41, 2531.58, 18421.11, 86847.89, 36432.0, 97770.6, 74206.44, 62508.47, 21490.83, 12331.4, 2814.76, 54893.24, 669.34, 29877.74, 9377.5, 18014.98, 2951.38, 21422.93, 13167.54, 72972.53, 1267.65, 12850.06, 5140.8, 109165.06, 8159.48, 195.37, 736.26, 22454.81, 23956.55, 37200.95, 1237.96, 16693.5, 43737.52, 61246.26, 130387.99, 30407.83, 18650.87, 60550.95, 33136.38, 3916.88, 14514.38, 40250.66, 7185.81, 57546.45, 14642.9, 7329.16, 114273.33, 50186.53, 31570.4, 185.84, 7534.24, 54788.56, 28400.12, 70642.96, 14824.32, 12668.17, 1328.25, 13069.55, 48623.97, 19595.15, 4912.09, 37212.42, 25090.33, 22772.39, 16346.4, 3525.92, 1071.71, 9545.87, 64805.31, 1570.55, 13727.05, 28893.24, 23089.39, 13282.7, 13867.0, 385.87, 72424.67, 41645.33, 12886.48, 597.98, 55374.51, 19432.03, 2654.58, 69352.48, 2395.97, 14013.3, 4496.32, 12562.58, 9815.64, 352.09, 35933.6, 1084.22, 1292.78, 4180.84, 27910.7, 22465.5, 129135.93, 64241.03, 4970.6, 50268.31, 19201.75, 8269.06, 54349.47, 4173.78, 1380.4, 35982.37, 47951.05, 61646.9, 42076.99, 70974.77, 665.43, 21809.28, 72940.67, 57232.87, 13475.26, 51221.19, 4557.57, 22532.34, 16589.65, 9443.5, 8041.59, 7094.6, 133259.67, 24595.7, 94801.57, 7980.38, 69997.77, 53169.79, 22479.66, 13136.61, 15355.4, 13901.35, 23230.0, 79502.51, 29454.29, 15048.85, 35566.0, 85455.01, 2121.88, 76973.11, 2009.9, 6532.6, 16586.96, 1898.9, 2419.76, 18900.99, 6296.72, 23094.05, 90382.72, 19219.41, 67794.77, 7235.2, 943.12, 19937.8, 6872.1, 105711.27, 69819.43, 53677.6, 4331.51, 12.96, 126649.31, 37419.61, 1700.49, 119346.85, 25340.34, 11680.25, 21045.35, 74600.78, 102239.67, 59615.5, 3409.05, 1631.27, 11481.2, 20125.55, 3795.7, 51469.61, 34965.01, 3983.22, 10674.7, 2453.04, 353.16, 7593.74, 51715.23, 73557.47, 76753.06, 14667.6, 8682.77, 2646.76, 35907.6, 318.34, 21649.33, 16983.39, 11600.76, 27856.24, 5256.34, 52635.88, 66444.3, 8949.7, 3948.7, 39048.8, 841.67, 21896.25, 12138.32, 9.8, 33075.55, 12301.88, 15.27, 987.14, 13123.66, 50499.49, 56363.92, 39880.04, 55028.48, 368.61, 20285.72, 1729.88, 47793.31, 5110.13, 27588.5, 4635.15, 83190.62, 109359.66, 39820.52, 20867.48, 63289.57, 15304.73, 4650.2, 85719.18, 29395.9, 58041.37, 2352.97, 48712.27, 586.44, 7039.98, 81314.78, 686.43, 120232.34, 2357.81, 15220.5, 15661.11, 5408.8, 5679.19, 64288.77, 14488.9, 34417.49, 32103.99, 5445.51, 43949.18, 69739.25, 46139.66, 4484.05, 35022.46, 5682.24, 13398.68, 2000.52, 39136.29, 8642.65, 2400.57, 18617.28, 69885.16, 40998.83, 52167.3, 8164.35, 16280.11, 1838.97, 1329.23, 29988.0, 52684.76, 8101.45, 8425.31, 7543.63, 28994.41, 122.28, 767.7, 17410.82, 471.56, 1279.83, 15433.44, 17700.0, 56399.79, 25438.76, 54632.31, 11908.39, 70420.93, 58135.45, 2382.92, 22911.29, 5013.75, 26342.4, 3795.7, 60789.43, 8914.53, 525.02, 176.56, 29475.28, 37286.08, 56104.86, 45309.58, 15088.0, 26062.31, 29236.8, 26665.96, 259.96, 23297.05, 31500.15, 71665.78, 35571.75, 2101.49, 13584.96, 30357.81, 4466.52, 12975.96, 90404.74, 54987.82, 52932.1, 270.84, 58025.56, 110383.65, 11146.29, 2092.83, 25635.43, 82880.68, 32633.65, 114893.98, 46147.05, 84082.61, 24131.61, 18134.33, 21033.39, 24339.95, 103810.67, 3838.04, 123.23, 3227.93, 31539.47, 7996.35, 340.95, 24037.99, 3466.55, 30220.01, 92942.37, 71030.83, 7713.07, 20120.24, 29074.56, 22977.48, 25700.63, 12139.14, 1130.86, 20282.4, 106396.04, 5476.25, 74235.08, 159680.94, 12935.51, 1736.13, 14378.9, 43973.38, 181761.9, 35935.9, 14135.59, 58703.94, 16164.82, 60008.1, 4576.78, 44020.68, 6315.25, 18667.2, 31382.78, 66450.66, 31164.66, 70323.65, 93191.63, 50146.62, 2996.33, 24984.54, 1798.65, 2997.52, 19737.38, 2922.7, 85633.24, 58130.45, 569.67, 53785.77, 8682.78, 193.96, 48259.43, 1905.2, 50078.34, 83.38, 8353.86, 314.84, 600.0, 50270.82, 74678.23, 4272.16, 83016.28, 26578.97, 12003.84, 745.33, 17894.42, 15525.05, 1832.41, 216.0, 2373.96, 23473.0, 41800.08, 3908.12, 61972.15, 85002.69, 20560.54, 60350.24, 82.63, 44179.14, 16258.4, 91046.01, 17083.27, 34373.9, 53075.11, 634.77, 36507.28, 4607.93, 2352.97, 45612.3, 25774.13, 2828.7, 42994.18, 483.48, 185254.28, 9799.46, 6441.42, 14581.54, 52761.81, 16378.76, 3795.97, 11688.0, 54846.16, 19894.33, 14096.59, 54148.37, 73028.56, 111248.57, 30533.1, 840.0, 1555.35, 4284.6, 13821.85, 14013.3, 33714.84, 23400.62, 10993.86, 37619.77, 48669.2, 280.92, 16959.99, 20178.64, 5126.0, 18026.21, 103.47, 94445.85, 245.52, 5129.49, 48926.87, 19730.06, 396.24, 6330.63, 4008.73, 49836.06, 9659.52, 195.84, 112120.07, 6832.82, 53211.29, 85950.96, 55550.03, 16096.65, 16452.58, 424.48, 11041.14, 27778.76, 58553.79, 8059.0, 15010.9, 1160.0, 98752.47, 44087.97, 128013.76, 18900.98, 3341.6, 117359.2, 14450.0, 793.48, 18336.95, 1130.24, 23017.46, 68457.38, 20612.45, 19889.52, 64636.39, 14537.86, 456.11, 18069.08, 7239.07, 25731.22, 41501.46, 41379.66, 316377.48, 3118.64, 39188.06, 61710.81, 52166.4, 71670.67, 38705.76, 4584.7, 3625.8, 15935.21, 52110.89, 10290.6, 78120.93, 36655.64, 60558.59, 47467.83, 892.53, 86023.98, 49899.7, 14886.94, 23244.72, 43516.8, 7537.49, 12738.24, 13503.1, 2304.9, 44851.35, 143.15, 16084.56, 150575.24, 994.47, 19751.31, 39014.53, 21127.45, 481.9, 417.43, 84131.29, 2000.99, 59534.85, 52786.42, 21511.57, 2159.43, 297.38, 45958.73, 40772.35, 12589.18, 19802.57, 25937.32, 28166.17, 87204.37, 52065.17, 4073.62, 29990.87, 16557.4, 27832.76, 13325.74, 1535.17, 25733.99, 20591.59, 15278.43, 1488.38, 42616.05, 1747.9, 4408.59, 9594.26, 79664.43, 6451.5, 40419.0, 23981.82, 2218.2, 40627.19, 14539.96, 70934.39, 144047.09, 727.15, 21070.46, 10263.8, 4698.17, 7565.11, 2237.43, 21950.77, 1867.86, 1786.07, 51041.9, 23076.86, 34423.93, 23.04, 84048.13, 4928.66, 587.04, 14380.15, 9862.64, 36649.29, 13047.93, 643.47, 2214.74, 14523.88, 44587.83, 63.33, 21150.98, 32556.45, 92023.8, 7022.76, 186672.23, 67.67, 4616.54, 146483.64, 21011.32, 3606.47, 16941.22, 36840.22, 88455.01, 120153.67, 2000.0, 90013.25, 84548.88, 30014.69, 5595.04, 6192.06, 41907.85, 1584.93, 14408.2, 53754.03, 2473.72, 849.48, 11060.0, 8905.0, 61448.65, 5431.79, 933.4, 36077.56, 4029.89, 4271.46, 123243.3, 29600.93, 9667.02, 6668.64, 22179.38, 18749.57, 40362.53, 358.35, 14824.32, 1590.78, 59257.02, 278.78, 29008.43, 57456.57, 12399.25, 69136.99, 62829.77, 46682.61, 15947.86, 45845.71, 8969.56, 1355.36, 3650.67, 17429.2, 20516.62, 99301.47, 16383.26, 71941.89, 16762.08, 17788.49, 16581.6, 13945.68, 5612.9, 4449.63, 46658.16, 9419.33, 585.54, 48684.79, 8336.59, 42156.43, 51784.6, 70797.71, 27921.27, 3649.67, 2081.53, 19919.09, 61021.93, 14962.4, 38021.09, 290.56, 10834.0, 17368.0, 38321.58, 844.5, 102250.36, 53520.17, 16670.48, 47626.78, 13898.55, 26582.4, 105127.28, 53934.6, 48503.95, 60325.27, 45359.76, 53523.41, 48994.28, 20598.33, 56171.48, 16135.58, 15418.17, 39382.58, 37920.42, 57284.04, 3748.84, 8815.1, 34002.23, 15632.23, 238.36, 14167.07, 86377.45, 2582.96, 2806.88, 5730.5, 38645.04, 65500.83, 9972.2, 433.09, 28643.31, 8972.85, 518.66, 26595.48, 15386.64, 798.66, 28341.86, 3976.56, 8793.84, 83427.55, 6532.6, 1940.24, 17446.94, 28778.75, 7014.0, 542.14, 9348.8, 22779.88, 18034.04, 15596.05, 27868.45, 16324.94, 112645.31, 523.04, 11623.51, 5787.64, 71344.1, 11570.28, 45562.23, 42910.04, 37248.54, 2101.53, 40296.91, 78217.96, 1898.2, 8277.1, 16584.96, 15047.9, 24591.45, 54656.6, 31760.16, 12456.78, 2093.81, 44746.37, 6885.01, 1620.29, 6039.41, 713.39, 17251.43, 53041.21, 88176.69, 688.96, 78711.94, 4287.53, 8984.8, 1783.58, 297.65, 14843.93, 15.42, 69636.06, 14584.3, 8180.4, 17755.74, 3592.05, 739.74, 10945.33, 134454.81, 11740.59, 265.26, 61674.04, 754.46, 12256.76, 6902.87, 5836.51, 39334.0, 318.35, 2646.76, 1898.2, 32642.21, 25205.17, 67026.84, 8717.79, 163947.11, 15.88, 40537.33, 3759.0, 102808.23, 27898.64, 1824.47, 20557.14, 813.17, 6006.0, 368.41, 22602.24, 34162.83, 50053.63, 26803.83, 11188.25, 13274.88, 86339.74, 94148.87, 601.78, 35784.89, 176150.28, 366.6, 42762.16, 31034.68, 52871.45, 207.9, 67892.12, 18641.65, 22993.63, 175.18, 420.59, 5157.12, 16221.02, 21868.93, 13354.24, 71412.91, 40833.09, 480.46, 6664.38, 12363.07, 12921.48, 3225.8, 24990.46, 1715.52, 1653.77, 12073.47, 106699.48, 3105.18, 12.96, 1414.68, 4606.9, 371.56, 57122.6, 47874.96, 28258.22, 22313.86, 24594.04, 498.61, 2979.98, 11985.48, 88609.01, 6444.57, 5273.26, 16184.23, 22122.04, 29400.0, 14439.82, 21621.6, 32715.47, 20391.26, 25749.62, 91654.72, 1832.41, 6793.12, 1077.02, 139344.93, 90088.15, 604.92, 38827.49, 364.61, 357.26, 759.0, 15113.86, 81918.17, 54266.25, 25962.87, 27548.39, 3287.17, 11416.56, 32430.66, 3445.43, 21436.93, 15755.28, 16360.32, 164000.2, 63912.05, 3940.72, 2115.76, 43027.26, 23758.19, 15941.58, 39123.88, 66432.09, 58723.94, 2582.92, 43689.05, 8208.23, 1898.2, 53771.3, 89668.04, 7975.76, 30875.2, 116390.86, 96006.68, 6579.41, 35330.56, 77186.86, 19056.94, 229254.43, 7957.49, 88085.77, 6604.15, 681.6, 22683.81, 7235.88, 560.5, 3226.45, 1875.23, 132727.7, 104114.73, 92045.46, 40589.67, 62875.77, 18323.74, 103883.32, 63814.3, 6714.65, 14292.02, 57695.27, 3408.2, 1337.71, 29007.31, 1121.1, 86466.48, 422.72, 1695.68, 344.15, 75942.6, 20.04, 217.48, 90853.76, 5764.89, 60384.31, 1296.44, 2641.15, 14032.96, 42432.71, 23377.99, 328.73, 110807.05, 11943.39, 33433.02, 82950.15, 189.8, 4816.15, 3166.86, 50129.75, 8845.43, 5382.9, 104695.92, 21672.0, 64640.46, 15432.95, 44144.03, 18.51, 34684.59, 14776.32, 26470.41, 16247.87, 186427.66, 2971.08, 99.19, 36866.62, 19787.18, 46305.0, 31389.22, 110.09, 9742.92, 5649.61, 4946.3, 55177.2, 67035.3, 53836.3, 35908.58, 24174.04, 20994.3, 170.94, 4851.0, 3785.4, 96283.05, 130621.01, 7724.5, 421.56, 49122.95, 29347.3, 70262.23, 15063.05, 207.82, 50458.28, 4088.45, 14687.6, 6094.32, 18160.8, 24111.57, 341.28, 107657.69, 21764.22, 16215.0, 5599.71, 62202.4, 683.91, 45144.87, 135408.62, 20441.03, 71968.96, 33532.56, 24589.4, 135713.41, 48796.43, 116230.85, 39085.82, 78.72, 1697.92, 433.66, 53391.83, 25347.18, 1235.26, 467.67, 2964.93, 135504.91, 14331.74, 3057.42, 4123.94, 3225.75, 40720.37, 13883.47, 10214.38, 2015.0, 5114.77, 57444.0, 234.09, 47707.78, 1414.68, 14627.61, 1898.2, 1748.38, 129259.22, 14635.86, 1328.25, 114682.49, 72422.14, 10026.05, 4281.01, 12893.2, 4739.88, 100507.84, 23053.48, 9522.65, 91330.73, 161.69, 51105.07, 135.24, 4168.92, 93352.52, 25.92, 74309.81, 18843.87, 7486.24, 2223.88, 21433.61, 677.34, 25469.44, 113070.19, 51631.51, 1339.91, 15735.46, 240.25, 14987.18, 59066.28, 6902.88, 27347.89, 6416.66, 18212.0, 32678.6, 4272.16, 24526.23, 125597.14, 35.4, 793.35, 51695.74, 8165.56, 17324.84, 67314.85, 22080.0, 784.01, 27319.18, 14869.3, 86822.44, 46352.44, 9149.81, 40249.39, 3795.7, 16335.24, 3531.6, 17224.98, 122004.32, 9764.02, 6121.92, 9474.56, 116841.91, 1329.23, 7704.0, 5092.38, 18000.12, 21043.62, 79660.67, 43530.69, 20008.02, 33312.72, 97652.49, 39814.98, 325.87, 55022.77, 106.2, 68269.65, 4937.32, 1897.5, 1961.74, 177757.82, 3292.04, 14775.24, 5607.19, 3221.36, 50208.33, 6153.34, 2932.09, 86848.59, 17527.8, 30051.43, 396.68, 65250.78, 103103.37, 3987.56, 841.09, 19454.4, 20312.45, 3207.0, 53341.24, 41736.04, 11777.76, 40941.56, 3518.83, 28327.54, 25158.82, 11922.87, 13713.83, 74370.82, 23201.52, 19625.09, 161.84, 721.12, 12038.09, 43601.46, 3553.2, 40328.36, 48.33, 6035.26, 1339.91, 52625.92, 547.62, 17316.0, 2225.25, 887.81, 114312.44, 391.84, 16578.78, 3934.86, 646.47, 171850.68, 67769.36, 5396.01, 14316.57, 1913.44, 12097.03, 21976.01, 9140.88, 17346.0, 15769.96, 4398.12, 83767.72, 8114.71, 38612.65, 77840.92, 23116.36, 8210.41, 134242.2, 38921.12, 7928.28, 9620.25, 92284.76, 17950.26, 37869.38, 11603.92, 19210.63, 23296.87, 121902.77, 1517.38, 19250.55, 15559.96, 77604.19, 14066.84, 78686.86, 86954.11, 109546.06, 40416.98, 2373.96, 15064.35, 14653.54, 729.88, 12243.84, 7664.54, 10838.7, 27.67, 1151.93, 16653.78, 71.11, 77507.33, 7564.03, 18694.04, 65580.06, 20557.14, 11402.93, 198067.49, 1251.02, 12944.43, 41124.59, 28265.4, 143817.19, 13503.47, 253.84, 17070.0, 40831.56, 3269.13, 4155.87, 6532.6, 8976.54, 8164.8, 4557.16, 8812.48, 67149.45, 3260.4, 21190.62, 13281.14, 9582.29, 30175.08, 55273.24, 13583.25, 186.66, 1299.93, 179125.74, 55346.34, 23317.73, 8517.13, 21125.04, 76310.08, 7274.76, 30489.96, 2261.88, 57697.69, 38045.64, 2951.59, 167077.92, 48049.25, 77530.05, 57450.13, 9315.95, 6384.09, 58355.02, 6760.44, 5126.33, 73930.93, 55626.12, 17519.05, 60705.11, 10017.22, 38095.33, 41380.01, 65867.1, 26355.09, 32715.47, 22764.45, 271.06, 5880.0, 30817.83, 12868.75, 14443.34, 35.4, 18786.0, 42537.43, 42614.36, 99686.61, 58414.95, 928.27, 12316.96, 12713.79, 95886.33, 28464.53, 45989.65, 15098.38, 23351.92, 37987.25, 15133.66, 1604.05, 2441.08, 54188.64, 14412.45, 30065.53, 1357.88, 43221.52, 21966.55, 5634.09, 19800.0, 14244.47, 3655.53, 20147.4, 1887.24, 27438.92, 90829.39, 25696.19, 64350.74, 53053.68, 18289.22, 2865.42, 5167.5, 18544.76, 59320.0, 17036.1, 80745.35, 19267.2, 41019.56, 195917.52, 14639.79, 3505.95, 1683.25, 70622.2, 146786.75, 47141.18, 4589.62, 141048.64, 5793.8, 986.79, 208368.46, 20709.99, 52172.4, 6163.92, 24128.15, 13861.92, 3225.75, 11086.83, 3474.97, 17743.62, 53846.1, 59024.31, 46557.83, 28446.27, 14916.0, 247375.44, 59511.3, 12413.01, 92353.52, 25906.44, 47628.39, 6406.44, 637.33, 13635.52, 41660.35, 74173.71, 471.56, 30563.75, 227066.43, 114893.5, 12525.12, 141528.18, 3449.96, 21413.49, 7340.39, 64295.62, 60491.34, 65539.44, 79999.83, 96940.46, 6043.2, 2741.39, 7054.08, 9279.35, 533.2, 54308.98, 2440.09, 89041.51, 59919.04, 18680.24, 28821.0, 11822.67, 8733.12, 86400.0, 2878.01, 11696.34, 1630.22, 41531.35, 15358.44, 57296.01, 94240.45, 18877.32, 1743.88, 471.56, 64283.6, 77413.66, 20294.51, 70661.02, 87853.16, 57374.91, 75947.52, 8189.58, 1428.56, 13632.0, 114759.78, 15156.4, 19891.07, 73789.18, 38723.58, 6577.54, 5229.86, 31639.92, 18673.61, 1242.67, 42061.25, 146.64, 14381.13, 12716.79, 44868.56, 22419.13, 21169.02, 545.77, 78668.09, 36573.28, 52453.84, 149605.06, 115736.76, 18135.88, 18015.92, 8496.0, 25616.3, 12929.48, 12912.73, 15551.04, 2487.78, 6290.14, 66337.86, 47804.76, 8221.44, 101617.92, 45204.8, 1581.2, 12653.66, 15264.48, 2545.52, 2050.89, 109045.45, 173906.84, 5002.15, 57490.0, 6135.65, 45864.0, 36697.08, 2658.31, 2451.06, 14039.44, 72903.12, 142359.23, 30882.47, 49849.8, 35193.44, 686.78, 38392.38, 123.21, 170.31, 8561.67, 21118.73, 14497.09, 16798.68, 134855.84, 2780.92, 179.13, 19343.77, 18864.35, 5489.53, 23008.95, 49042.8, 4870.87, 41819.75, 5397.26, 5636.6, 18089.46, 4911.89, 1501.52, 18703.82, 66914.9, 19434.17, 43928.79, 131937.44, 58708.22, 100875.0, 4527.15, 15712.44, 101724.67, 45198.4, 661.11, 433.09, 2878.46, 90.73, 7480.44, 1298.73, 83510.52, 10045.38, 83494.71, 15382.29, 27728.28, 2495.88, 16120.08, 1897.5, 57783.23, 316.49, 40450.0, 66996.2, 42672.32, 14018.7, 17386.06, 1100.73, 8109.32, 13384.29, 38092.46, 16208.02, 4624.34, 20723.48, 2902.64, 141429.45, 46131.46, 731.54, 75306.4, 38397.64, 146.08, 45642.02, 61303.77, 56132.89, 34038.81, 26666.79, 12871.58, 7751.29, 20858.79, 9896.18, 23719.31, 21424.4, 58503.55, 162901.44, 28108.73, 15607.08, 27199.2, 10824.76, 14557.53, 1328.25, 15423.04, 711.12, 6532.6, 58258.61, 3270.04, 1648.4, 86581.89, 50787.1, 60217.24, 39241.94, 14204.38, 7948.89, 77253.74, 826.01, 62363.74, 45911.96, 69598.52, 8041.59, 54883.14, 109513.06, 4620.35, 16068.0, 84425.71, 98530.55, 32036.69, 46051.03, 41819.98, 388.29, 16541.87, 661.02, 63094.16, 847.36, 19111.37, 3169.6, 50631.12, 3616.08, 56755.44, 38483.02, 14302.39, 61561.77, 6117.56, 7523.04, 2769.43, 70658.92, 47540.04, 25490.98, 661.11, 2480.28, 18868.35, 16313.19, 11075.15, 2053.05, 15294.39, 5692.98, 1407.42, 338.48, 8548.83, 500.16, 76347.49, 105376.43, 66341.63, 16790.04, 627.33, 27947.96, 16306.95, 51660.38, 91314.12, 21811.83, 46205.21, 22955.47, 72519.01, 53429.76, 23806.26, 15571.16, 2369.28, 32715.47, 21035.23, 14294.78, 6303.0, 23395.95, 41292.0, 65535.87, 22065.84, 34760.76, 3449.51, 45264.25, 107862.94, 943.12, 8863.6, 2186.85, 9331.61, 106517.9, 50062.77, 41336.03, 959.61, 74838.96, 3310.38, 52901.64, 27417.6, 93114.3, 62119.47, 128500.38, 18448.95, 52490.69, 15428.16, 119715.9, 107071.77, 54741.15, 17100.17, 54481.44, 1567.76, 16703.22, 211.44, 258.46, 396.78, 49853.75, 52224.27, 3596.62, 5991.29, 16227.01, 3748.84, 43964.93, 15534.64, 943.12, 3297.99, 62170.21, 257.17, 24627.3, 1123.24, 325.02, 858.73, 55781.49, 63035.4, 1012.5, 5630.76, 23804.35, 1898.2, 44342.31, 461.13, 2834.9, 88629.15, 17305.96, 3307.02, 3506.02, 13518.89, 33336.75, 15588.9, 19396.97, 9155.26, 147.28, 706.29, 55.47, 46010.05, 94283.78, 59945.27, 5853.31, 5588.8, 73632.68, 13595.91, 53797.87, 1575.72, 42580.61, 16813.42, 17283.51, 18841.2, 29730.62, 50992.43, 3236.64, 17854.08, 18432.0, 68233.3, 17044.03, 38166.64, 1434.75, 7805.58, 4280.44, 3227.5, 43721.64, 132566.33, 1573.38, 17589.49, 18569.71, 33055.16, 14047.08, 99385.35, 31649.6, 3202.72, 3048.19, 771.64, 28911.46, 49864.0, 109728.21, 33177.97, 1070.33, 65109.42, 6059.06, 39980.57, 1328.25, 124102.79, 6169.66, 172.84, 26956.8, 3906.58, 23115.59, 82527.34, 39598.81, 44395.23, 524.66, 29146.92, 3993.8, 6272.27, 16142.02, 14257.87, 127783.52, 15393.24, 113374.0, 2926.19, 1422.4, 123292.51, 12267.17, 350.77, 57509.65, 19322.67, 446.22, 1319.16, 56546.01, 16188.92, 19609.14, 100908.62, 25681.89, 761.44, 59090.21, 25902.49, 70508.95, 2508.28, 25747.27, 91654.96, 31025.23, 10602.38, 43601.72, 16452.79, 165.53, 15228.3, 75495.65, 2846.25, 46419.27, 23989.64, 286.4, 6732.9, 11721.97, 21403.88, 1588.06, 298242.7, 12268.72, 26582.4, 3440.84, 2374.15, 10281.44, 50826.49, 3408.0, 967.87, 48081.78, 13852.17, 32302.4, 3031.94, 108144.05, 26888.76, 756.82, 19145.09, 18034.56, 21568.53, 178722.68, 76993.6, 620.11, 45098.62, 6295.68, 114285.48, 63.33, 2984.09, 16644.84, 16076.55, 16439.88, 414.12, 70483.35, 3188.72, 1708.56, 1022.76, 47556.5, 5910.45, 2941.86, 73409.45, 1897.5, 355.93, 53655.83, 164912.46, 4714.55, 171172.41, 8041.59, 3399.75, 13283.41, 14775.7, 6586.68, 12855.72, 18514.59, 37178.54, 18589.89, 16642.71, 69237.34, 1457.06, 103496.36, 46566.12, 42988.18, 16118.48, 71428.37, 19324.19, 73942.42, 83267.79, 226833.68, 13242.28, 753.55, 41543.75, 4572.97, 4585.55, 59022.05, 1327.57, 15547.6, 13884.98, 23413.92, 28520.36, 7901.99, 60547.64, 7825.0, 24363.35, 32167.82, 94.56, 44686.42, 21190.4, 15905.03, 16274.78, 46432.89, 47579.98, 16935.65, 39557.51, 25237.89, 2672.36, 90048.91, 1513.3, 5445.6, 15568.24, 14644.87, 18912.6, 36479.79, 78105.13, 3742.61, 5159.14, 50857.3, 21302.49, 907.2, 105219.75, 47303.63, 60821.6, 56576.11, 4563.0, 37329.07, 100564.6, 1422.21, 3835.48, 14095.22, 31429.76, 1164.87, 105178.68, 71248.8, 35178.44, 56565.37, 285.88, 92548.25, 4298.16, 22388.21, 227.52, 18247.97, 44853.8, 1334.06, 7098.49, 30731.01, 62903.17, 3025.46, 46994.53, 16448.95, 15072.45, 3984.48, 15935.74, 193.84, 385.26, 33581.86, 2065.55, 30317.76, 521.52, 49025.82, 66082.99, 17969.28, 633.93, 42077.35, 1355.36, 1414.69, 63011.75, 87262.92, 33101.38, 234557.98, 46212.91, 30044.51, 103904.43, 103950.63, 11656.58, 74010.86, 229.44, 2372.05, 598.91, 18550.34, 8232.0, 1277.82, 359.69, 50390.3, 15993.39, 61621.4, 2903.47, 89412.52, 31148.67, 109910.36, 3191.4, 7587.35, 31624.41, 788.84, 63.33, 13460.58, 7704.0, 4478.38, 100568.91, 131751.56, 81354.5, 19640.82, 220.92, 6319.41, 24166.22, 70103.53, 18644.84, 19166.87, 13867.0, 13586.73, 17661.07, 57421.82, 15351.24, 14149.92, 3861.72, 49613.52, 32698.8, 5.68, 15145.01, 45230.14, 9436.8, 8224.26, 19440.0, 1960.94, 476.92, 20653.16, 37033.93, 2142.04, 20039.91, 78960.17, 3773.84, 125908.33, 2267.39, 13206.44, 65594.97, 24960.0, 247.09, 95075.47, 27735.6, 3478.16, 5132.13, 1549.0, 106390.27, 15185.16, 9657.78, 190.38, 54610.37, 13807.81, 29806.56, 18733.72, 45024.55, 98012.6, 16115.69, 81.0, 46660.46, 47967.25, 61.29, 20358.14, 65689.46, 16814.04, 64293.29, 12307.3, 24231.26, 154565.53, 69717.63, 14360.96, 91211.6, 13276.01, 5147.45, 74794.5, 119039.25, 54285.46, 15167.22, 7749.38, 4970.2, 37995.86, 442.2, 4274.4, 534.59, 56876.2, 225628.39, 59601.9, 4766.39, 22469.27, 45075.63, 3228.13, 5786.54, 13824.0, 8793.09, 10623.84, 32585.73, 106.63, 13768.72, 41992.36, 7500.17, 1640.82, 229.35, 24965.16, 80483.28, 332.8, 96021.62, 5290.8, 47951.22, 361.7, 10068.48, 227905.45, 1655.55, 18220.36, 2758.84, 50692.55, 533.84, 1016.76, 28793.02, 34355.81, 298.62, 14247.22, 83772.44, 507.19, 292.79, 107.19, 91817.84, 98118.31, 23362.19, 3665.2, 45979.97, 9207.1, 15859.11, 154972.96, 50953.12, 433.09, 44179.27, 4069.05, 26220.31, 56252.76, 40798.62, 37394.96, 12305.4, 41923.97, 55501.77, 486.46, 609.42, 11398.8, 427.72, 46874.06, 271.06, 9295.29, 32336.32, 11430.18, 1897.5, 33456.08, 16272.72, 24700.23, 142.92, 243.47, 133656.31, 45565.6, 1119.21, 12071.26, 41202.0, 11478.06, 24673.49, 10368.0, 37481.07, 10834.28, 49134.73, 94689.99, 18107.65, 157.07, 130.62, 5901.36, 47950.85, 12983.41, 25718.28, 106498.36, 16578.27, 161589.07, 18810.65, 57249.4, 5273.57, 3432.67, 2194.51, 43565.06, 10190.26, 6591.39, 45387.06, 119389.32, 36407.41, 78050.64, 60114.95, 1686.68, 9222.81, 3487.9, 14673.83, 34339.98, 1612.57, 44079.57, 16818.28, 34843.6, 27173.48, 10068.41, 2340.13, 16445.17, 28485.01, 8418.44, 41504.77, 27753.69, 14121.6, 11998.0, 53300.35, 21520.88, 10641.6, 42607.76, 2983.9, 683.91, 43092.16, 11556.91, 2451.6, 1084.22, 3221.94, 10599.63, 6143.37, 1042.94, 48735.45, 3193.86, 5140.92, 7656.0, 20221.8, 615.03, 57172.52, 11988.61, 80917.71, 63819.72, 24067.27, 186.75, 4751.04, 20161.87, 35782.12, 12218.4, 20050.72, 63518.4, 99870.8, 186894.7, 40456.46, 14162.95, 11675.33, 55038.05, 2532.23, 5200.53, 1126.41, 6829.74, 206.48, 4001.4, 3368.28, 1878.4, 23986.61, 14623.95, 13340.16, 63.46, 1991.84, 11353.75, 478.73, 13760.55, 1384.72, 15451.77, 71345.88, 3523.72, 60351.08, 31795.18, 35235.8, 1792.66, 89400.31, 19284.28, 25225.2, 3005.74, 32715.47, 43340.95, 123.3, 17109.62, 767.69, 48893.58, 7053.29, 58616.15, 19919.09, 59.16, 12727.78, 11620.41, 98034.27, 9222.81, 14141.39, 9270.44, 2462.5, 57108.27, 18902.06, 13498.72, 14120.48, 8740.07, 3681.02, 77723.06, 136112.6, 1600.89, 67049.7, 11932.34, 23954.17, 14190.56, 4644.04, 124720.6, 65758.75, 168.25, 63964.58, 24891.81, 28778.75, 49030.38, 96741.97, 75446.88, 9451.33, 9222.81, 12215.58, 3535.53, 466.8, 61746.54, 5186.83, 80425.67, 58724.05, 960.63, 94647.64, 890.66, 45459.95, 6832.71, 5672.59, 27503.22, 28126.58, 26178.61, 4258.48, 936.68, 104384.76, 223.06, 13105.06, 504.81, 178.63, 9735.16, 60733.7, 40095.2, 3258.0, 28266.38, 437.76, 17408.44, 289.13, 39224.97, 27508.08, 998.07, 513.44, 2351.96, 400.33, 17407.05, 23852.53, 32352.32, 17160.63, 11554.92, 7053.94, 15700.4, 60535.86, 9805.11, 15380.91, 6357.44, 853.31, 43007.59, 22716.95, 6929.91, 72973.14, 115360.0, 114045.93, 6697.14, 46179.65, 2485.85, 54191.45, 9444.0, 943.12, 29044.99, 262.65, 1826.92, 71938.17, 1882.86, 40057.91, 36169.61, 3983.36, 9314.75, 769.53, 3571.84, 78261.26, 6609.93, 8949.7, 16868.28, 20789.29, 7032.23, 57598.45, 16770.36, 27944.37, 103401.12, 53877.02, 2545.09, 51721.63, 954.91, 16101.4, 51868.51, 22717.24, 1654.71, 17548.95, 823.68, 96411.0, 19372.26, 5801.29, 12892.8, 26035.22, 5946.45, 10990.08, 5793.84, 11201.71, 30351.13, 74005.1, 3994.98, 87511.94, 15522.71, 64654.84, 16461.47, 33.24, 51350.49, 68181.67, 4490.07, 56898.14, 69130.53, 386.5, 20250.1, 36439.43, 14914.11, 37374.39, 7817.04, 61538.31, 17927.18, 2783.57, 3573.83, 40704.21, 3001.11, 51173.52, 18294.18, 91305.7, 62957.18, 128584.97, 4279.62, 36476.59, 23.76, 18097.39, 77187.61, 26229.83, 14736.38, 2812.5, 28584.14, 3500.24, 94907.26, 851.59, 10550.12, 9011.81, 9436.8, 7741.44, 86962.06, 47716.68, 145668.58, 183658.23, 32266.79, 17000.97, 44260.21, 4223.28, 18041.58, 26827.54, 13704.26, 505.78, 15634.64, 8383.36, 47971.48, 928.4, 1101.92, 20557.14, 13070.01, 99204.37, 1898.2, 16643.08, 16292.68, 11720.5, 91011.48, 28343.81, 39038.43, 679.69, 115324.75, 7664.54, 156275.52, 17593.43, 5628.23, 10068.96, 34771.76, 5260.77, 69271.37, 514.92, 9222.81, 859.02, 60187.33, 15532.72, 63401.74, 89379.7, 49390.87, 39214.84, 12297.6, 29632.48, 894.21, 97436.68, 1328.25, 4015.17, 923.0, 15384.39, 1010.4, 8277.85, 5756.77, 73169.55, 9889.76, 5536.0, 36015.08, 6690.56, 100714.95, 7308.06, 13298.6, 78607.19, 801.54, 31085.56, 1962.98, 49287.25, 74881.86, 433.09, 424.45, 12421.19, 11342.75, 60.78, 68454.74, 8421.65, 46319.81, 6017.71, 5693.07, 77638.0, 68780.79, 18790.88, 20117.02, 6677.76, 115629.38, 64560.0, 809.92, 60496.72, 14467.83, 40899.41, 103498.19, 47321.45, 3785.4, 503.45, 33942.0, 11300.46, 31683.43, 11870.54, 105849.21, 24051.31, 14248.99, 6020.92, 77860.24, 14189.05, 7818.45, 94922.63, 13041.27, 36704.57, 12439.02, 15086.75, 3094.16, 14658.77, 53520.2, 1897.5, 22901.8, 81933.33, 19244.4, 8185.34, 8041.59, 92138.32, 91775.48, 20581.76, 14824.47, 1356.55, 94264.42, 8349.4, 114679.54, 28372.95, 8246.05, 39631.74, 5248.02, 1088.51, 294.3, 19436.31, 81552.62, 6430.05, 41.91, 43443.84, 16298.57, 23038.25, 75177.25, 20916.17, 30275.66, 7664.54, 35876.13, 56129.05, 26499.88, 59.19, 19393.48, 80148.9, 10787.8, 86668.37, 12836.92, 29256.83, 23047.85, 4617.63, 3623.92, 62035.89, 57293.12, 173875.55, 55790.01, 2129.14, 250.07, 152433.4, 59748.78, 1527.3, 12409.38, 42459.29, 81.8, 28569.49, 281.24, 12129.62, 9335.85, 863.77, 74699.82, 16338.93, 34122.82, 27060.7, 69.44, 16498.24, 82.82, 99534.92, 24277.05, 38499.2, 250.74, 16919.14, 15587.4, 4906.74, 53384.22, 58861.9, 11578.76, 8996.87, 111150.12, 302774.08, 25264.61, 33238.31, 179.22, 42897.86, 152199.29, 3942.08, 28818.5, 61585.17, 749.96, 26976.05, 42563.05, 6683.22, 14958.16, 79367.25, 78278.26, 71935.98, 91564.62, 13065.2, 43.61, 154.19, 1647.36, 717.76, 49989.34, 139070.61, 103444.06, 36054.39, 40244.08, 14873.84, 5346.0, 35508.1, 5594.75, 15319.82, 5454.87, 37169.0, 628.53, 50874.47, 1830.23, 15928.84, 174.72, 75726.2, 19529.44, 260161.33, 99972.78, 300.94, 36323.43, 476.0, 26316.62, 31071.0, 141024.32, 75663.9, 45674.05, 155160.53, 2283.93, 70253.8, 251971.17, 32397.73, 7403.73, 14204.38, 14773.3, 2019.69, 13065.2, 892.9, 72876.45, 73207.39, 39182.55, 23348.91, 2552.26, 45871.21, 65856.72, 8123.57, 104526.92, 66797.16, 45887.24, 70699.75, 4937.73, 39552.62, 58881.99, 63114.62, 71969.9, 22564.19, 12154.78, 73303.24, 20031.82, 47412.55, 1365.93, 1898.2, 13115.92, 56241.78, 12860.0, 52083.16, 50913.18, 16029.87, 3037.8, 136.2, 128801.95, 26521.96, 33.12, 14012.36, 3102.7, 56553.98, 21363.69, 15005.29, 40459.81, 23868.0, 23760.39, 4032.0, 17776.5, 27713.53, 2172.24, 16624.36, 83229.36, 15415.8, 179956.49, 40899.87, 7100.79, 45380.22, 3795.7, 20557.14, 54603.71, 40409.45, 48346.81, 13118.13, 1232.62, 42874.83, 9666.36, 23276.22, 40469.12, 86746.81, 1825.59, 29742.33, 21576.8, 152170.28, 12999.85, 1728.0, 23602.41, 34497.0, 3602.22, 107982.76, 15519.47, 324.06, 29081.55, 58449.39, 1897.5, 27810.76, 60079.89, 1898.9, 62309.25, 49191.07, 47954.02, 1298.27, 17478.33, 1698.07, 3564.14, 8580.92, 15663.41, 6685.61, 60135.82, 906.41, 36650.32, 65087.44, 14888.16, 1147.58, 5352.55, 78970.95, 625.3, 143325.48, 9098.53, 2488.13, 16600.77, 3893.73, 39853.56, 22844.09, 15900.42, 88938.08, 8361.26, 6860.63, 3444.9, 39997.61, 51745.56, 10410.45, 32269.67, 29525.12, 4506.18, 778.81, 23322.88, 9802.64, 14189.05, 2370.45, 69220.3, 23136.25, 16005.6, 86591.21, 143254.82, 16702.51, 237199.42, 4358.94, 107690.18, 26162.78, 31062.15, 22864.11, 117256.11, 43631.14, 32112.0, 7749.31, 54470.76, 8423.01, 12823.65, 15264.84, 25487.34, 11859.71, 48841.2, 36575.17, 4542.5, 9027.14, 15268.72, 17477.07, 64917.82, 30856.78, 35080.14, 9134.08, 40289.83, 17255.95, 6382.8, 22755.14, 72431.97, 26383.34, 41634.08, 23409.08, 31533.26, 7725.02, 79880.36, 8949.7, 778.45, 40236.55, 15090.34, 11064.41, 70182.88, 66914.9, 25318.82, 75620.63, 34735.78, 896.24, 18492.88, 1765.44, 9207.28, 52101.79, 12653.74, 66707.98, 1859.28, 446.22, 2945.45, 13490.34, 38900.68, 14407.36, 327.84, 59660.9, 16157.62, 60008.06, 43590.25, 16096.77, 37235.37, 1614.16, 725.86, 5436.98, 73017.1, 10484.93, 122045.45, 2650.95, 49592.92, 13175.3, 524.3, 98936.85, 103118.08, 309.69, 71996.62, 16199.41, 164114.22, 3226.45, 25182.72, 30025.74, 4498.2, 14520.03, 40070.03, 68823.69, 25086.9, 47315.07, 3650.01, 18927.0, 16205.87, 10074.42, 36006.63, 99.36, 139091.95, 48954.11, 26974.73, 29186.38, 165890.05, 29345.05, 41163.03, 4074.42, 4404.01, 33654.32, 56003.57, 238.44, 63850.8, 44910.4, 2119.61, 86114.22, 70810.05, 63557.09, 46966.46, 37596.36, 15965.1, 63680.24, 48259.97, 20287.0, 23871.03, 26390.45, 54.0, 44706.8, 24099.72, 6532.63, 19490.8, 568.94, 180.38, 16275.6, 39959.38, 50925.88, 18805.96, 62867.93, 22485.68, 6530.64, 529.4, 43.02, 54743.89, 35443.44, 35993.77, 3689.0, 22209.6, 15208.86, 56513.05, 1965.61, 6138.37, 943.12, 128177.92, 16767.48, 48075.17, 356.85, 34418.23, 23944.54, 376.05, 5585.4, 12668.17, 53777.52, 6804.59, 131879.62, 17962.53, 2245.62, 4407.18, 6942.32, 61376.33, 89549.28, 55.21, 2633.58, 10993.27, 1900.25, 5424.6, 16221.53, 16642.65, 5952.59, 16226.3, 5818.97, 95661.27, 67849.57, 16240.73, 89122.35, 123903.36, 15894.24, 1897.5, 1898.2, 4176.71, 943.12, 1210.31, 17316.65, 54943.09, 20031.44, 12356.64, 11186.53, 79173.45, 14868.0, 30581.33, 19903.07, 49236.88, 11125.02, 13275.16, 186.12, 64442.95, 176912.87, 37849.66, 17078.17, 15102.0, 855.87, 82306.43, 99436.26, 7259.56, 84399.19, 15783.5, 1691.92, 17797.88, 19886.79, 1533.54, 2005.5, 18658.94, 20254.22, 67226.79, 5601.67, 284.67, 35963.35, 38586.43, 13065.2, 15297.55, 81.0, 86906.77, 55095.16, 6890.15, 358.66, 13854.54, 696.24, 103.92, 153827.01, 4145.27, 92161.26, 55115.19, 17057.48, 1940.93, 17004.3, 2520.08, 6532.6, 102253.95, 1106.98, 9574.2, 70532.28, 135223.6, 2691.3, 78084.84, 3795.7, 1466.8, 146050.47, 46061.42, 11381.9, 48358.23, 20857.55, 2840.83, 9972.54, 70575.65, 94185.21, 24813.18, 1098.5, 2713.05, 543.45, 3469.92, 62165.85, 70468.28, 46940.32, 41907.12, 20513.16, 12874.26, 45546.75, 4367.28, 137942.63, 32876.16, 16916.89, 81273.24, 10651.45, 53546.71, 940.65, 13940.28, 456.59, 59282.99, 56258.86, 39874.2, 118960.83, 99.06, 4162.69, 2388.3, 38510.43, 35808.73, 884.14, 4354.71, 13465.64, 16922.88, 46196.05, 109220.96, 39395.42, 12855.67, 93421.66, 978.81, 943.12, 2568.68, 44678.56, 21463.69, 65594.99, 80920.0, 35177.12, 39263.15, 16053.61, 82.82, 44455.52, 1239.88, 14761.36, 26941.79, 14972.36, 27708.29, 11700.0, 226.5, 17235.85, 5604.06, 15409.59, 16484.62, 63877.38, 24918.72, 26326.08, 68830.83, 18375.42, 47812.5, 71361.0, 3544.82, 74555.63, 13384.62, 27340.41, 59392.64, 25752.18, 45463.3, 67619.19, 230.26, 16636.07, 1162.74, 4781.32, 41162.18, 32430.76, 8642.28, 78699.76, 13813.24, 14041.4, 3627.46, 14044.52, 36129.64, 45611.8, 83884.44, 4849.77, 444.37, 83041.39, 651.88, 18900.99, 81723.11, 60968.36, 34233.21, 16112.33, 102026.07, 296.31, 72304.87, 45182.43, 16830.58, 73329.84, 45765.76, 17754.5, 243.24, 106817.76, 39345.25, 1746.92, 598.03, 5970.78, 2382.55, 15586.08, 58050.28, 4916.35, 94906.61, 4486.27, 385.32, 41974.36, 6738.53, 46761.7, 96842.87, 27860.74, 77792.37, 1303.74, 50985.46, 76218.17, 2382.55, 113705.76, 6238.92, 71052.21, 6800.43, 2750.14, 23550.88, 16732.21, 29819.83, 19912.32, 59603.1, 1324.19, 15043.55, 42232.84, 39624.65, 85964.17, 16673.37, 8969.22, 49203.07, 648.48, 12589.48, 69812.95, 16212.05, 4153.9, 50823.75, 1007.94, 18993.0, 20919.56, 33240.56, 52370.99, 21963.6, 65.09, 16700.2, 38919.84, 22406.21, 12916.65, 33884.21, 19822.72, 18337.54, 19532.43, 2247.82, 1664.17, 183.29, 4290.0, 19167.33, 55782.61, 46360.6, 10323.24, 51819.73, 15915.49, 36208.78, 1991.84, 58162.56, 1596.24, 2425.6, 13135.6, 34261.57, 40083.24, 8603.59, 129.91, 14408.85, 13087.49, 762.84, 221.26, 3304.62, 39320.46, 22457.54, 1259.05, 15245.32, 25582.36, 78503.44, 32481.88, 22024.17, 14613.93, 5224.87, 28464.61, 114988.11, 69280.95, 13651.85, 9653.81, 14808.92, 73362.89, 14967.15, 25194.0, 12127.99, 114549.22, 20976.53, 22627.6, 53741.83, 11307.78, 33729.82, 54188.47, 80524.35, 125077.78, 83401.91, 37955.27, 8866.77, 122.57, 35604.45, 14612.4, 21570.36, 67783.73, 28140.03, 1997.12, 17258.4, 5523.74, 112516.43, 1872.16, 40624.88, 16522.17, 19436.28, 363.64, 20768.4, 13904.4, 49650.21, 82214.74, 5957.75, 61128.41, 22881.6, 32.36, 339.62, 2876.66, 67986.73, 246.0, 4925.06, 34606.55, 2702.04, 44778.32, 36195.5, 43952.0, 2688.61, 21730.91, 29490.27, 8437.14, 32288.12, 28255.35, 584.0, 926.15, 23059.57, 661.11, 23721.79, 178304.93, 5021.84, 3333.96, 1895.6, 8801.79, 9643.75, 14257.84, 6953.34, 26404.93, 19163.58, 21976.64, 131.76, 29234.42, 76055.02, 4536.9, 38343.98, 6060.0, 13653.38, 132092.3, 29277.0, 736.34, 12261.27, 2242.82, 8020.88, 2625.82, 228493.37, 10650.42, 47656.8, 108.0, 21289.79, 41699.44, 4919.29, 1478.44, 15302.17, 31433.44, 6532.6, 17042.33, 532.5, 87520.8, 4200.3, 113834.53, 58394.98, 147.56, 45235.65, 23580.0, 41637.86, 281.15, 84787.78, 97.93, 113807.62, 14145.81, 933.62, 2027.99, 49756.71, 43803.66, 36820.66, 45285.21, 6710.86, 76303.96, 51638.04, 44226.65, 22416.59, 99268.38, 370.02, 14694.68, 22265.92, 58304.75, 8937.24, 48451.41, 93460.65, 40303.4, 35962.14, 14165.84, 60088.9, 163835.16, 14366.96, 3270.04, 31912.95, 22268.88, 25447.97, 52333.75, 2678.19, 87537.97, 4234.82, 22590.0, 11046.63, 355.38, 126783.12, 37848.8, 152526.78, 39376.27, 12138.99, 1197.86, 20497.52, 174.46, 99979.9, 19272.02, 16077.23, 2035.24, 29649.02, 26635.03, 54662.83, 20620.89, 14922.85, 38023.24, 1343.94, 33697.49, 3875.98, 16271.6, 85861.86, 34470.88, 20557.14, 14714.74, 31567.7, 275055.0, 39311.5, 70076.33, 53969.78, 33.18, 36650.96, 547.56, 301.5, 105612.5, 14448.41, 14248.66, 2160.34, 1235.26, 71562.99, 3796.94, 16386.84, 38130.27, 57214.69, 372.59, 157620.47, 35388.78, 105163.74, 72613.6, 43350.03, 4662.92, 602.76, 97982.58, 6220.25, 4974.12, 48340.49, 690.5, 4674.23, 943.12, 5164.72, 45577.15, 50734.86, 1914.75, 10195.04, 16884.52, 107634.97, 25514.62, 29154.54, 48813.55, 47779.1, 6720.96, 3126.34, 14835.49, 34819.51, 58336.88, 41536.31, 9866.42, 5672.46, 1098.34, 48954.63, 8316.0, 70413.5, 7163.94, 84138.75, 17516.65, 87879.31, 132.55, 12428.16, 3362.09, 5119.18, 27636.0, 199.53, 9479.2, 658.56, 2630.56, 45119.53, 853.31, 88202.34, 51423.44, 8957.0, 19298.22, 484.92, 1060.33, 35866.25, 35.17, 113608.68, 16172.35, 542.11, 15704.64, 12419.85, 146.75, 34945.56, 3189.63, 2373.96, 14710.7, 30908.75, 395.23, 4838.38, 14494.03, 545.13, 60050.93, 51686.12, 57182.64, 53563.22, 1103.09, 38217.74, 15840.82, 40423.9, 79113.24, 12043.48, 13148.0, 93657.75, 27685.57, 1706.2, 21500.09, 15051.34, 143738.28, 94356.03, 18402.97, 21115.29, 2598.3, 31269.5, 113067.19, 217.75, 18900.99, 13275.37, 47603.44, 42041.5, 12507.12, 11536.56, 14469.4, 1414.68, 123268.0, 879.0, 63787.36, 2800.43, 56108.32, 24346.08, 76812.44, 33451.48, 5778.73, 13771.56, 65104.65, 10651.2, 146.16, 18728.58, 1647.36, 7642.84, 7280.52, 26817.92, 4772.75, 924.16, 13322.56, 63536.2, 21990.8, 40293.21, 42057.26, 14639.06, 2257.35, 23175.51, 16417.33, 36857.31, 642.0, 2161.0, 3169.6, 117.84, 99320.32, 58812.0, 9249.72, 27040.48, 8701.04, 4195.58, 40211.47, 632.32, 8536.68, 5118.08, 16668.91, 26856.81, 44014.35, 80246.61, 7604.12, 46628.37, 844.95, 52365.86, 16480.05, 6881.53, 153954.6, 7334.13, 711.24, 85841.02, 458.45, 44944.34, 12263.65, 13102.73, 32487.57, 25583.9, 23073.45, 55583.39, 18172.02, 2622.52, 36307.31, 11395.24, 26825.84, 17358.11, 57918.36, 17476.67, 30618.63, 4333.75, 22835.23, 19188.75, 1017.41, 8953.25, 27653.21, 50597.22, 29638.21, 2575.81, 15565.86, 1570.32, 973.15, 19713.64, 31735.24, 47270.71, 16137.98, 40477.41, 80712.97, 15284.38, 1323.12, 2800.84, 19984.56, 6898.02, 7050.32, 49.44, 1298.6, 18239.12, 104706.9, 68.25, 68692.3, 70229.23, 1897.5, 64580.22, 2362.3, 2547.62, 6356.83, 109882.26, 15987.49, 53966.4, 24587.03, 16751.8, 1729.36, 8296.58, 64884.16, 556.0, 14332.56, 14772.55, 490.32, 2631.01, 147.74, 32688.0, 7656.0, 48402.62, 10960.8, 349.27, 3573.19, 1723.8, 24166.69, 144359.14, 5970.32, 6999.95, 150675.98, 74510.9, 4166.38, 63745.22, 4330.35, 23715.24, 15831.27, 19545.51, 20295.9, 669.23, 11689.35, 1535.38, 63994.88, 3248.27, 26591.9, 85779.86, 76279.79, 267.02, 89.91, 8389.69, 132125.85, 14780.25, 86236.05, 17696.0, 725.85, 15524.07, 93500.79, 604.04, 102958.78, 3127.5, 9904.64, 8132.7, 51171.84, 15757.53, 381.66, 132665.21, 12290.6, 19823.48, 1898.2, 20647.55, 2350.09, 2032.44, 27335.91, 29617.79, 26863.52, 2208.58, 26130.42, 22545.33, 6532.6, 77175.78, 164.05, 5649.83, 24013.89, 7682.52, 17294.89, 12965.4, 49950.14, 137824.79, 4439.84, 72768.22, 1601.28, 30961.44, 20024.72, 79222.28, 139044.75, 111508.56, 420.24, 16048.09, 15929.01, 4042.99, 20.88, 74346.37, 5578.84, 5069.38, 364.32, 25257.91, 2825.6, 20573.02, 32585.28, 2047.27, 483.61, 10259.25, 33648.09, 12982.73, 44966.58, 856.09, 7590.76, 5496.44, 6303.0, 61751.19, 29419.74, 61993.75, 12.56, 40579.99, 9302.66, 44453.36, 51947.05, 21499.32, 43420.38, 23751.06, 11960.77, 7910.55, 14591.93, 59818.72, 3476.92, 89709.7, 58506.0, 29061.8, 4041.39, 37734.52, 65518.37, 85602.0, 16118.41, 4923.94, 316.46, 784.0, 33827.84, 19336.58, 14029.19, 56355.32, 59736.69, 16438.01, 20866.9, 27.6, 18688.04, 6580.74, 15712.76, 10313.08, 22286.68, 14563.98, 73350.71, 12290.34, 20058.34, 21700.78, 333.54, 33137.35, 4619.59, 6532.6, 4299.63, 63054.76, 4164.99, 997.63, 47807.12, 14327.4, 116629.58, 89016.9, 106620.72, 350.44, 47947.69, 15005.29, 1905.07, 51306.7, 24206.42, 23.99, 154717.03, 44473.01, 95785.04, 18003.1, 16.13, 54285.23, 70290.27, 103125.0, 13175.3, 6988.91, 15462.05, 45529.92, 22358.15, 11507.0, 62386.21, 7747.27, 100434.4, 459.99, 15337.66, 85125.73, 13104.69, 49892.6, 9604.27, 62011.37, 66618.64, 6888.95, 3383.78, 132.24, 11415.47, 88238.04, 2183.88, 8177.37, 72803.09, 61704.09, 6741.75, 297.81, 18023.19, 88394.08, 33323.42, 26048.88, 23066.77, 2668.26, 12059.08, 7743.52, 48770.64, 47376.89, 103.02, 33.24, 50883.95, 12621.75, 37538.2, 38597.5, 43325.73, 1897.5, 33504.45, 1610.57, 3480.92, 15020.27, 32625.32, 237.92, 15301.64, 13696.44, 15478.19, 45879.42, 8041.59, 40285.0, 21507.55, 3228.13, 59960.91, 24159.39, 4115.82, 370.8, 1247.76, 9072.83, 11119.5, 11455.29, 43717.36, 1009.72, 1358.69, 19957.57, 22222.01, 52747.2, 36018.2, 9062.47, 23091.6, 159166.86, 16979.62, 959.61, 20568.96, 42048.11, 580.08, 1763.63, 3002.37, 88008.71, 10128.37, 54541.49, 699.22, 71568.38, 46598.63, 26402.47, 16008.2, 23036.74, 30687.8, 2388.54, 27667.92, 90885.45, 14824.32, 80226.66, 74774.31, 5030.57, 3304.6, 44416.21, 36414.05, 21167.12, 13574.4, 7896.0, 991.17, 15538.5, 10301.78, 97387.77, 61733.68, 12025.55, 76393.12, 42523.93, 324.75, 10052.49, 471.56, 68454.18, 23094.54, 46814.54, 14092.7, 17581.76, 57036.73, 70855.62, 25091.26, 15589.6, 67159.37, 1063.8, 29572.25, 7568.0, 46190.08, 18971.83, 11262.8, 19683.9, 13664.51, 789.1, 53519.19, 66925.5, 17197.37, 89975.94, 11022.86, 4677.97, 9996.43, 14068.52, 782.73, 553.68, 11505.33, 42228.9, 7500.29, 22405.88, 4000.25, 14877.73, 759.0, 977.28, 2173.2, 23803.3, 43375.73, 20165.72, 65.56, 66215.62, 82097.08, 72094.05, 30062.12, 45708.6, 20742.01, 68783.98, 53119.53, 324.78, 6921.85, 67729.81, 18362.53, 11860.48, 6532.6, 11456.83, 10027.05, 321.53, 57546.21, 17283.5, 24848.73, 618.52, 91490.97, 60090.97, 82780.47, 71855.03, 76013.09, 1313.67, 13332.08, 13671.38, 4622.15, 27908.52, 25584.08, 1675.9, 22586.44, 63688.28, 13173.48, 7664.54, 103127.74, 6611.63, 17884.04, 15640.68, 471.56, 96.4, 48336.58, 16626.38, 48325.49, 100130.11, 40425.0, 221.05, 132434.88, 1190.23, 14663.0, 6745.5, 34756.88, 119813.2, 16869.3, 2746.8, 23794.89, 16427.07, 57581.17, 17035.25, 23657.93, 1646.08, 1617.34, 140204.4, 37681.58, 35291.89, 471.56, 47417.36, 1655.15, 20913.79, 1981.76, 64272.34, 15932.3, 12154.27, 16594.48, 43171.1, 72884.57, 1777.53, 52944.76, 206.23, 9524.49, 39708.47, 42765.24, 8212.41, 33713.2, 2173.16, 39811.05, 45095.73, 54795.17, 48442.7, 55558.8, 33268.5, 2514.37, 52860.01, 72868.05, 3580.88, 169443.48, 185341.87, 17982.36, 51648.23, 60515.12, 100386.57, 34084.51, 343.07, 61617.64, 21052.68, 7656.0, 1626.33, 10832.7, 24552.92, 40179.8, 37150.87, 86736.84, 144.41, 63637.69, 22899.96, 9876.49, 366.39, 400.32, 86965.76, 25031.82, 1842.0, 83525.64, 22695.88, 38455.67, 393.4, 15826.41, 147029.47, 124840.42, 427.44, 2272.68, 24824.68, 28754.32, 58321.68, 140122.85, 50399.6, 119422.09, 44157.75, 790.25, 4627.82, 39482.92, 2352.97, 62753.34, 127564.58, 22406.09, 71261.55, 3740.16, 35000.81, 7923.27, 44033.76, 61631.49, 1286.73, 65813.7, 22754.56, 166.14, 57.92, 207609.94, 5167.81, 21465.03, 19977.98, 55693.92, 64684.17, 47094.97, 3921.2, 64048.08, 36601.22, 50595.84, 5353.61, 25647.45, 17178.54, 39314.03, 943.12, 2638.29, 87516.96, 178078.61, 31466.74, 120.0, 67218.06, 12166.08, 17528.16, 72423.57, 73073.94, 19848.78, 20217.1, 1674.02, 147127.12, 63179.57, 15802.34, 695.19, 15571.16, 49428.9, 83413.35, 50414.0, 673.89, 6981.32, 2709.51, 3022.14, 6702.17, 21807.65, 16020.75, 63066.03, 33558.64, 176.87, 62902.25, 490.32, 929.0, 9777.0, 14027.26, 76444.68, 130506.15, 1897.5, 5625.41, 181.77, 1010.25, 54431.05, 60963.11, 18929.01, 30174.41, 239.41, 112300.06, 83569.74, 4867.55, 299500.16, 13998.25, 6309.34, 3473.64, 13768.72, 1452.94, 731.42, 43603.27, 8094.49, 436.71, 54789.39, 24594.24, 15265.13, 35272.53, 1364.09, 139522.06, 61930.81, 16279.4, 7739.11, 87220.69, 64396.98, 30906.53, 97925.61, 157.44, 72138.07, 8371.51, 41093.72, 516.11, 3019.78, 7405.98, 537.06, 5327.68, 39353.37, 45784.72, 50739.21, 17906.19, 3332.02, 89627.58, 19425.4, 10629.18, 234.15, 2363.27, 51534.16, 48346.55, 8646.02, 9875.0, 20046.0, 2213.53, 1160.13, 17172.83, 44204.29, 50592.59, 56096.47, 4039.44, 34504.53, 45431.78, 4106.36, 11860.96, 38208.28, 10684.29, 7771.08, 9695.52, 54451.36, 6834.0, 90756.04, 21162.43, 66793.65, 54468.34, 7010.85, 43781.81, 4408.52, 114022.52, 49929.65, 35830.5, 27744.53, 30574.26, 58883.51, 17243.64, 13371.75, 57446.68, 9778.91, 356.61, 23701.85, 75417.07, 12715.92, 14780.25, 2788.1, 16391.2, 52148.41, 65585.34, 17283.5, 40957.52, 15648.46, 1426.81, 3730.5, 64684.39, 81241.56, 23011.36, 1590.0, 23152.24, 27619.27, 100946.08, 8171.92, 50212.0, 41371.19, 97037.6, 17107.2, 41315.24, 6848.03, 33.18, 7245.51, 7589.72, 471.56, 2059.8, 45838.57, 4337.9, 19436.3, 4606.09, 28646.75, 6386.68, 160708.83, 15055.61, 366.73, 15170.72, 13275.7, 14298.9, 26420.82, 22635.28, 53361.03, 2620.6, 12701.42, 65994.64, 1872.16, 51236.98, 17787.31, 4921.74, 22580.82, 7162.27, 43544.62, 81872.18, 36127.22, 393.05, 14858.51, 42338.87, 144498.43, 2315.82, 26714.0, 12040.2, 46688.15, 199.53, 5694.64, 385.5, 42197.87, 41103.84, 82354.33, 18089.91, 304.04, 380.51, 11222.69, 17879.66, 46357.3, 24264.14, 4185.84, 14393.9, 943.12, 15685.38, 161.79, 38097.35, 14585.3, 490.32, 13190.97, 1695.68, 127073.39, 39736.55, 14838.48, 1230.68, 8556.72, 1910.24, 14010.08, 12591.36, 20021.52, 15559.25, 16415.9, 451.86, 8929.14, 28030.44, 23264.05, 31519.75, 8254.72, 3797.1, 14037.78, 69760.16, 71684.34, 23321.78, 228.74, 16096.09, 46652.69, 420.0, 46011.36, 130205.84, 62479.82, 64419.93, 15228.78, 16218.52, 17980.67, 40999.7, 1651.98, 1872.0, 67466.45, 40106.67, 39627.19, 2257.69, 2506.99, 21133.48, 6349.53, 10566.13, 16429.01, 3356.27, 651.0, 6607.36, 219.94, 24693.85, 4504.59, 72046.91, 20380.59, 11969.24, 1134.86, 32235.72, 14942.34, 64.86, 104767.97, 15482.2, 13758.34, 50242.82, 22705.93, 34517.52, 15016.4, 24130.24, 36948.76, 4312.51, 127664.53, 673.29, 14747.0, 20853.32, 15681.87, 74256.35, 120323.11, 28060.8, 18219.86, 115417.74, 21410.66, 45802.34, 41981.25, 692.3, 75237.47, 8614.56, 71305.72, 44830.48, 11675.12, 26154.4, 37884.32, 6940.42, 6169.66, 2640.37, 287.41, 3287.27, 29380.12, 12704.7, 130982.58, 6791.04, 15284.38, 7536.45, 45833.62, 45019.73, 11774.61, 11534.46, 63929.1, 12585.62, 153290.14, 55921.87, 3730.8, 11919.66, 33253.8, 6910.84, 44313.59, 1058.8, 14048.9, 30133.41, 157797.86, 27604.58, 95669.58, 26.64, 57024.77, 16508.0, 43964.9, 102023.84, 703.2, 32048.16, 32147.98, 14380.16, 1481.04, 35338.36, 59653.5, 15343.76, 35857.53, 39504.72, 1719.65, 29046.97, 2446.26, 101156.35, 4738.53, 27428.53, 27636.0, 29296.58, 2986.6, 70544.71, 21040.72, 1409.59, 62606.96, 4353.85, 1216.53, 36683.11, 31452.59, 53452.97, 4681.34, 3068.1, 26121.36, 33783.64, 36953.08, 40708.42, 11116.02, 35995.89, 2578.77, 30583.99, 41531.79, 35.73, 32764.68, 1463.37, 52609.5, 65881.75, 12187.5, 89943.55, 11973.08, 49327.14, 859.84, 276.05, 139089.37, 78248.68, 83921.38, 47905.83, 3357.8, 28295.27, 65023.01, 63854.41, 17850.08, 587.44, 1770.01, 6303.36, 6531.73, 1542.64, 16256.23, 66577.28, 23456.6, 9986.22, 35199.1, 4910.12, 4756.24, 33859.92, 1193.56, 61376.71, 22082.9, 51815.38, 110645.6, 13503.6, 50592.31, 122559.39, 54611.28, 22120.76, 12278.6, 6370.59, 96538.11, 1318.8, 21363.03, 17262.86, 12228.92, 42097.41, 160240.27, 35867.22, 18198.19, 45844.11, 136253.58, 52978.25, 15533.94, 21152.96, 33718.49, 22375.06, 28403.61, 15767.76, 104798.8, 3429.32, 1335.94, 78282.5, 15730.34, 45827.67, 14204.38, 114141.69, 35408.46, 52256.87, 13636.91, 12173.97, 84655.43, 24318.7, 6114.68, 28184.57, 2555.5, 46954.83, 153167.36, 6676.79, 30040.31, 84742.69, 9717.87, 17001.76, 49917.89, 940.01, 738.6, 30584.14, 1252.3, 9996.43, 45013.86, 30839.56, 3424.07, 4922.13, 1501.27, 6483.89, 46994.02, 416.15, 25057.2, 59617.65, 66830.81, 31363.2, 44431.96, 60532.64, 127331.57, 12268.73, 48746.83, 12963.38, 74925.44, 2880.86, 5.54, 42438.27, 4053.24, 50050.8, 5514.9, 81840.3, 139309.86, 32400.07, 5402.6, 24722.17, 29445.98, 117376.9, 47.91, 37627.36, 669.34, 1363.08, 2884.62, 194.08, 16548.36, 9479.86, 459.5, 59603.15, 45583.44, 56383.84, 51018.8, 1004.0, 17351.14, 65.28, 44028.59, 6055.46, 18225.96, 26051.05, 1714.59, 47406.44, 3888.0, 103747.65, 111041.11, 12219.74, 23529.8, 67166.66, 36745.83, 75.27, 948.77, 34787.6, 12675.78, 181348.43, 2494.66, 49196.56, 32799.98, 458.71, 59593.8, 1898.2, 559.92, 147.56, 41487.89, 932.02, 60.78, 24380.32, 31332.91, 1321.31, 49995.36, 149544.07, 1329.23, 97155.34, 37.3, 50965.2, 2063.32, 4045.44, 95.0, 43971.16, 19752.55, 39862.37, 1074.13, 62321.81, 53555.91, 205.9, 275458.2, 943.12, 2709.5, 575.3, 26793.03, 642.66, 14204.38, 16223.52, 3044.86, 92199.77, 65974.0, 64679.1, 863.89, 31313.93, 43296.6, 4632.85, 84177.37, 41185.7, 27602.03, 12245.94, 100044.26, 7230.42, 40.08, 58467.58, 84013.36, 58611.77, 2460.24, 1898.2, 57350.64, 2254.0, 1069.99, 14707.59, 7153.51, 28010.02, 33.24, 18532.45, 21395.4, 11934.61, 112708.29, 1898.2, 64699.59, 37872.95, 15452.7, 4821.77, 18671.24, 14085.97, 16402.21, 67133.75, 213843.58, 1191.28, 1536.12, 5391.23, 117.62, 4445.93, 34858.23, 27343.98, 40106.39, 32013.22, 12259.23, 499.08, 65698.21, 135656.63, 1017.41, 2557.25, 1163.34, 1676.66, 70802.4, 1514.08, 271.06, 471.56, 11711.6, 25819.7, 54683.97, 26624.96, 18569.51, 11811.62, 641.9, 2165.41, 5621.38, 47535.81, 58434.63, 78541.64, 10059.9, 21006.74, 16630.96, 5285.21, 14908.78, 112631.3, 33355.12, 12261.7, 98.86, 121.58, 24266.73, 53495.44, 288668.8, 108912.96, 29185.23, 107905.21, 21300.0, 104432.16, 43356.26, 11261.9, 127066.33, 107303.42, 7887.36, 5038.92, 2170.59, 56279.67, 16844.27, 37769.54, 1675.66, 109950.35, 16182.6, 6194.3, 12697.25, 24.91, 34581.09, 43275.54, 4202.24, 23180.68, 58506.0, 953.63, 6712.59, 2188.8, 46975.99, 77146.94, 16511.9, 21392.84, 303.45, 16644.4, 5703.67, 20264.0, 62824.12, 100126.3, 3007.94, 70849.53, 34984.53, 2127.6, 20247.87, 5986.27, 384.72, 17020.81, 36890.33, 1519.55, 14050.5, 92684.09, 4629.2, 874.09, 33.18, 5299.5, 49644.08, 943.12, 4907.12, 471.56, 41021.52, 38230.32, 1093.2, 10605.81, 7219.17, 2373.96, 60823.05, 35990.68, 82616.97, 13482.85, 6927.96, 1897.5, 67589.28, 27982.12, 190.08, 40951.88, 6603.24, 36851.37, 19115.03, 11586.98, 56908.79, 11615.57, 21636.81, 5716.08, 20151.94, 5234.28, 153192.61, 4216.04, 4342.01, 10322.31, 22526.27, 10215.09, 1626.33, 19136.61, 58418.54, 111153.5, 25065.82, 15726.41, 119064.61, 81268.23, 15798.14, 17112.45, 18246.93, 52512.16, 16178.96, 76476.28, 94310.47, 6983.27, 79.92, 19465.71, 1193.18, 8413.8, 16942.22, 3403.8, 34454.6, 109690.86, 359.64, 2073.73, 23227.51, 125686.26, 18436.21, 82579.8, 73304.47, 44698.5, 1288.86, 5203.94, 36226.77, 11123.78, 471.56, 813.17, 64364.08, 11203.37, 14223.6, 7051.09, 31114.85, 95.02, 2248.5, 148.36, 124586.61, 123029.05, 1481.01, 1135.98, 16971.66, 68209.1, 3682.56, 495.06, 1547.29, 36085.3, 56170.01, 1528.04, 11738.48, 45900.01, 52442.0, 7024.32, 6210.68, 112968.1, 14967.62, 17578.59, 17044.27, 1066.4, 5641.66, 16271.43, 6651.29, 127649.9, 105891.21, 39500.66, 105100.72, 1100.69, 49550.12, 20852.2, 7479.28, 3609.02, 1695.68, 45228.08, 40741.78, 413.4, 767.38, 2391.3, 54053.84, 46013.07, 189.8, 70205.13, 12620.16, 157642.85, 29404.2, 44241.65, 10218.96, 51473.49, 5613.84, 82135.17, 13169.78, 17833.51, 17099.59, 74063.09, 4678.12, 50571.11, 18555.06, 13092.66, 109441.29, 38647.94, 7664.54, 152814.09, 18740.94, 30191.79, 54173.33, 25548.15, 51462.76, 53970.11, 1714.66, 59894.96, 277033.03, 4263.49, 11975.7, 117271.28, 162660.37, 20557.14, 66095.68, 21543.74, 49807.65, 22912.71, 334.31, 2609.0, 45148.12, 31456.62, 13111.43, 6879.89, 331.0, 28003.97, 14250.72, 106986.81, 15823.16, 2576.49, 10393.02, 14573.25, 32.36, 15633.57, 226.11, 103344.24, 27440.55, 40969.78, 11585.13, 113.52, 13074.0, 11306.5, 13806.49, 5194.54, 7407.0, 9260.8, 56420.84, 17654.33, 888.33, 2759.24, 63632.83, 142176.7, 24940.43, 5401.17, 29956.1, 120252.53, 66966.04, 213.75, 64412.96, 88142.62, 26956.8, 74646.36, 42333.2, 21931.11, 40999.22, 129336.2, 3267.69, 54519.41, 1007.25, 10389.59, 152792.58, 6931.21, 341.0, 57676.7, 56751.06, 157.1, 43504.41, 123003.93, 2063.32, 2268.94, 16657.58, 85745.53, 16307.51, 20.93, 4676.58, 43375.0, 8832.63, 32988.04, 15983.15, 4715.05, 1125.27, 2951.38, 10437.34, 20970.92, 5055.81, 82.1, 29272.74, 14242.46, 13092.51, 634.12, 1695.68, 58612.69, 45842.86, 34520.62, 58080.39, 1375.3, 16016.0, 140723.11, 88708.01, 30612.3, 667.32, 14735.98, 117778.68, 21008.0, 1466.17, 15444.45, 1586.4, 40455.53, 60255.43, 17140.86, 324.58, 42387.88, 15291.66, 3949.97, 459.38, 79718.0, 6532.6, 92092.57, 28831.61, 661.11, 52027.68, 1126.28, 19437.37, 1731.7, 105922.59, 3875.04, 13027.07, 109165.47, 37843.02, 6201.44, 4643.4, 14711.0, 45844.26, 8680.06, 155100.71, 48174.0, 11439.93, 35178.76, 75618.04, 20729.13, 1401.65, 123953.05, 29593.71, 20258.34, 30210.51, 1012.65, 5810.45, 173.77, 33337.22, 153104.67, 2213.68, 15765.66, 7448.63, 88172.71, 134163.51, 76305.54, 5312.55, 1349.59, 15501.15, 123635.42, 76183.76, 2161.2, 2081.36, 2047.54, 13261.33, 17608.52, 43444.63, 22551.43, 13086.05, 2261.91, 65576.61, 7308.8, 15760.56, 36592.0, 33052.0, 5425.36, 542.11, 36601.46, 20858.79, 44292.65, 219.02, 4771.36, 3899.95, 63597.18, 147728.12, 52899.39, 111351.13, 75865.67, 36590.53, 4607.93, 14285.2, 9500.6, 13482.13, 17283.5, 910.64, 16556.2, 16926.11, 22016.26, 16771.61, 980.22, 371.72, 601.41, 69814.25, 5473.86, 10280.55, 5689.1, 721.02, 25623.45, 7318.52, 8996.57, 27492.7, 71226.5, 4333.84, 51713.27, 7484.23, 109995.44, 87684.79, 531.35, 7740.7, 104911.64, 988.53, 66431.38, 40106.4, 494.96, 14939.4, 1898.2, 54306.4, 14562.86, 561.96, 45570.43, 82989.75, 110896.88, 4291.14, 126.92, 55969.01, 29345.85, 42826.3, 30209.93, 90212.22, 22657.6, 71428.11, 54131.66, 2176.63, 13316.55, 48563.17, 19030.52, 17.88, 16421.4, 18507.96, 15090.34, 42369.93, 9337.85, 197.79, 265387.36, 114.38, 86986.35, 68059.96, 12907.2, 2830.2, 62852.22, 21612.85, 80760.39, 19984.47, 32673.84, 2502.14, 63773.29, 6840.97, 47847.35, 7546.35, 11566.8, 4042.72, 2555.06, 124649.36, 32838.13, 30673.2, 14230.4, 124492.5, 31343.2, 471.7, 21488.29, 7584.23, 46632.79, 10644.99, 160837.37, 4696.19, 7990.16, 94.89, 22967.8, 435.72, 92441.44, 22628.44, 146.28, 63028.0, 9379.27, 26729.98, 135014.48, 17534.5, 59911.18, 943.12, 47664.81, 12612.03, 1971.46, 59883.02, 6907.1, 54044.24, 7142.2, 20374.93, 94123.32, 33920.64, 59731.67, 13750.88, 39862.37, 45809.76, 102.19, 5128.48, 15578.76, 21055.21, 166573.07, 28278.18, 506.79, 39402.66, 33706.44, 180142.67, 37215.13, 37354.09, 15280.76, 4398.06, 229.34, 22005.42, 105078.47, 24086.61, 2439.5, 388.69, 8604.28, 56176.4, 91676.62, 2408.32, 31180.44, 78347.95, 8491.23, 10127.96, 32386.46, 5517.01, 15581.07, 33932.69, 31.56, 35536.96, 110079.95, 42013.63, 102423.66, 48129.18, 17319.8, 99808.7, 3227.2, 16289.37, 34915.51, 55262.54, 17541.5, 269.81, 81728.39, 1374.12, 57352.27, 64.73, 81423.8, 53319.65, 3082.8, 17374.0, 12603.58, 18301.79, 7336.72, 667.15, 4568.92, 24713.33, 13498.75, 16241.37, 9717.39, 57177.27, 10281.44, 36629.31, 18927.0, 778.26, 7584.0, 188865.79, 48990.67, 19907.14, 1446.96, 14834.19, 7087.03, 31016.78, 25284.7, 60660.86, 43759.6, 58976.74, 32768.2, 12409.92, 34261.84, 14.34, 3037.8, 838.16, 12178.24, 220.86, 15919.29, 878.88, 14747.01, 57796.6, 18130.16, 114635.37, 101491.92, 26848.01, 61168.75, 39754.79, 471.56, 64127.64, 17028.78, 27931.88, 129830.65, 2373.96, 3820.09, 66286.11, 51211.17, 88026.61, 73388.0, 49960.93, 95354.0, 103910.05, 15143.39, 258768.69, 43016.21, 52496.04, 7261.87, 943.12, 65591.25, 2736.64, 133249.19, 28281.97, 103053.37, 426.44, 61883.61, 16684.75, 37890.99, 100540.08, 21173.31, 2352.97, 1222.76, 38987.25, 13711.24, 33798.43, 35648.1, 26208.0, 174.72, 32845.3, 5906.78, 38310.54, 61188.84, 31250.49, 49723.18, 12896.57, 77.88, 74625.05, 12614.59, 6265.73, 284.44, 25502.14, 77917.39, 1898.9, 369.13, 20541.67, 10104.04, 32647.54, 2620.97, 96395.91, 2898.2, 5495.4, 102626.4, 172.44, 5967.84, 3866.76, 52426.59, 9147.96, 63647.93, 51718.67, 617.13, 14091.55, 155397.46, 100.23, 9300.0, 18906.02, 4555.4, 328.8, 2523.61, 114613.21, 14673.07, 17627.3, 22486.13, 7664.54, 97076.3, 2.4, 24959.63, 39814.22, 1328.25, 3748.84, 38647.68, 16403.67, 1038.37, 10005.08, 28056.02, 17079.54, 21379.43, 176642.0, 48465.08, 70662.84, 14597.49, 28809.9, 12964.42, 12477.67, 10756.82, 52194.5, 71032.15, 40674.98, 10973.66, 205.97, 63801.31, 88769.96, 22472.99, 8584.44, 14724.04, 1197.54, 257.54, 14029.18, 852.16, 2920.78, 3456.77, 70248.53, 925.12, 35.73, 165378.9, 1439.85, 103.92, 5211.6, 24563.56, 31592.75, 153.84, 30386.4, 663.98, 43535.58, 42551.13, 53403.87, 616.2, 1844.77, 3203.96, 2289.6, 51663.6, 38006.41, 4607.19, 5786.46, 9845.22, 113593.06, 18404.25, 54527.0, 15651.65, 10279.16, 9577.27, 80194.51, 13131.0, 17059.19, 1455.45, 8362.52, 779.66, 3827.33, 7871.97, 14624.72, 69959.49, 16293.87, 95699.45, 8041.59, 733.57, 16024.82, 5824.36, 36144.96, 81641.0, 74294.98, 388.11, 2372.77, 471.56, 16463.62, 8298.16, 101130.43, 1641.3, 76553.92, 34478.12, 40719.16, 180.16, 20800.7, 17313.65, 910.25, 16751.51, 27571.25, 10021.56, 611.23, 39247.89, 32715.47, 13298.6, 1648.36, 77019.97, 206629.74, 9654.81, 1874.41, 10080.0, 414.68, 3816.0, 15256.99, 13874.87, 107762.23, 49368.76, 70626.15, 10638.0, 4490.37, 85795.45, 22510.04, 9535.88, 50987.62, 194.25, 2839.98, 6532.6, 37200.01, 525.95, 19554.96, 8997.7, 1897.5, 46549.59, 126247.09, 672.81, 121616.77, 711.24, 17497.01, 20355.41, 21060.3, 11572.0, 14647.94, 45.18, 16926.73, 1565.02, 10386.14, 46800.67, 2784.28, 103876.18, 5520.08, 147708.05, 52489.72, 64524.77, 7534.24, 15672.19, 20186.94, 960.27, 162187.38, 178.81, 216.48, 4353.29, 1124.0, 16412.63, 44129.68, 1409.3, 18794.87, 125344.7, 61357.25, 102093.75, 60630.33, 14737.02, 47334.33, 607.92, 1403.69, 32556.75, 59140.25, 78880.66, 2289.99, 7303.46, 38436.57, 43416.2, 70955.7, 398.04, 1501.52, 10679.81, 2594.25, 1132.96, 130855.26, 19928.42, 35526.42, 3978.34, 9354.15, 4932.42, 24186.82, 28767.52, 3768.6, 943.12, 9427.01, 2345.66, 5206.28, 21758.73, 1027.73, 12455.96, 61452.98, 7392.94, 62355.91, 6532.6, 10443.2, 86245.25, 3523.71, 2221.98, 35996.23, 25300.05, 12856.16, 12966.18, 8413.33, 17336.16, 9420.0, 213.34, 33654.32, 1445.54, 1168.79, 3006.8, 63601.6, 3125.23, 26341.64, 3593.18, 40453.99, 81846.74, 1497.53, 37596.58, 120597.4, 16159.91, 15513.95, 45346.95, 28260.58, 61003.03, 682.57, 7231.7, 5711.68, 68790.89, 10007.95, 1991.84, 1383.65, 45230.47, 77971.48, 42621.76, 1240.69, 3709.82, 54339.22, 359.17, 80211.4, 164879.84, 30978.6, 3034.5, 62124.18, 96200.08, 65662.84, 8808.82, 14175.37, 65482.97, 16528.79, 33638.02, 14703.97, 97727.49, 12375.37, 41428.58, 9637.2, 500.45, 13887.08, 112025.53, 3175.21, 2596.41, 23317.77, 3507.28, 15970.51, 44692.92, 47690.99, 70898.33, 34712.27, 45554.01, 22571.9, 71188.21, 16541.89, 55891.44, 91.15, 9765.5, 42759.92, 7626.99, 21649.01, 68638.97, 1940.36, 140763.24, 211.02, 3869.78, 81.01, 53586.78, 12385.7, 271.06, 775.02, 15441.33, 5665.71, 9778.31, 3225.75, 14257.87, 20846.37, 19103.8, 757.08, 65007.77, 684.65, 408.12, 2071.72, 25082.41, 22775.83, 5954.09, 100314.14, 14595.87, 23370.86, 2772.01, 91078.82, 14780.25, 36554.68, 78587.48, 18724.89, 46035.06, 23437.69, 35208.76, 30390.72, 52989.15, 7528.96, 92621.36, 50134.93, 46852.72, 4334.4, 41822.92, 15214.66, 5526.0, 15284.38, 18973.81, 14257.87, 15424.41, 22179.44, 95962.41, 2892.24, 14135.59, 1894.55, 4059.53, 8770.03, 43606.79, 939.0, 17890.26, 1878.89, 1890.0, 56937.52, 17514.98, 11618.07, 17410.12, 48534.4, 7975.55, 122063.75, 6060.78, 2676.29, 14780.25, 1477.56, 21340.79, 36728.67, 12651.8, 11242.22, 12417.14, 7889.32, 18115.97, 70314.76, 8984.8, 15396.03, 8022.47, 826.01, 44777.63, 54306.06, 45602.35, 8499.35, 115.89, 9415.96, 15440.18, 1249.61, 3317.7, 52592.54, 14728.56, 1534.68, 17070.0, 4580.12, 4230.07, 3520.2, 50667.82, 3427.6, 59003.4, 388.82, 14284.03, 47716.4, 8204.08, 14911.58, 91280.07, 6151.02, 1256.85, 172.38, 12041.15, 18975.87, 625.96, 23747.29, 14883.63, 343.86, 43624.81, 85873.99, 524.66, 337.9, 116203.8, 464.92, 108414.53, 19476.87, 4551.64, 15907.75, 14851.65, 2674.68, 5387.61, 8236.05, 3090.13, 11418.96, 25433.08, 7789.64, 18400.61, 74954.2, 13872.0, 16039.9, 47551.3, 284.72, 44941.08, 348.84, 105.9, 85886.38, 86938.7, 994.61, 27.0, 54382.41, 47859.14, 9119.16, 64659.96, 6067.76, 60557.39, 3747.0, 5789.19, 56405.07, 84454.7, 30111.76, 2477.69, 19254.12, 2373.96, 39800.43, 42318.87, 20853.91, 28027.84, 11848.39, 20481.4, 106067.5, 38879.96, 73923.06, 9592.45, 18448.78, 63795.24, 12900.75, 3418.63, 6157.2, 92349.2, 18673.74, 56920.27, 49279.42, 1898.2, 73334.43, 47471.52, 115209.4, 5226.82, 42234.22, 95998.65, 4658.14, 171513.51, 46084.92, 37666.96, 15005.29, 66047.84, 30522.42, 23717.5, 678.98, 8328.0, 34172.87, 340063.6, 47285.23, 9934.62, 8871.71, 10364.23, 8089.2, 1185.74, 20096.84, 44121.32, 17940.4, 55670.99, 101.39, 9028.27, 7617.25, 84998.58, 58.92, 1414.69, 75953.74, 13321.73, 78493.27, 19730.75, 7720.03, 239.16, 17264.36, 3376.68, 44635.12, 35913.34, 15965.8, 35601.36, 14468.83, 14728.32, 48059.15, 904.4, 19512.18, 39009.09, 101057.11, 64023.24, 26560.87, 13971.58, 32637.6, 68412.39, 32441.48, 112277.85, 47868.73, 28538.4, 37662.94, 37547.34, 14842.41, 16017.29, 14442.19, 155726.53, 288.94, 24131.48, 1123.2, 4992.68, 253.02, 15915.02, 51782.71, 26162.5, 64853.21, 125673.29, 59298.44, 9939.6, 45280.37, 67991.4, 16794.0, 19554.12, 10583.89, 140760.0, 48663.92, 79709.92, 11840.88, 54595.7, 44962.35, 61139.83, 27450.99, 12177.05, 20836.58, 53474.9, 21442.99, 177.72, 110081.03, 6163.88, 237.79, 27759.39, 62.04, 7774.21, 85261.62, 43371.8, 106089.73, 23021.05, 4785.93, 1100.69, 65018.08, 7018.88, 21107.8, 72710.07, 135353.15, 45223.53, 122033.62, 31789.74, 66434.01, 17216.25, 456.02, 1377.18, 12031.14, 19012.04, 92.44, 268576.27, 9658.46, 2363.61, 62361.45, 194.4, 409.71, 18279.86, 236713.1, 5126.33, 33655.56, 70873.47, 5571.94, 7154.49, 115376.57, 10408.62, 13227.6, 14283.58, 6305.99, 63755.49, 15482.3, 48589.16, 93287.68, 42544.24, 355.75, 73489.67, 18035.45, 9577.29, 20934.36, 2646.76, 6451.89, 40667.32, 4299.1, 3809.59, 6026.2, 71.11, 4272.16, 64992.96, 2039.09, 63192.79, 119254.6, 9917.45, 213.57, 5634.76, 21521.09, 1651.86, 15604.87, 15382.08, 10991.42, 1983.35, 15038.43, 62650.73, 42380.76, 2129.69, 44533.12, 23604.86, 1043.52, 87751.66, 363.35, 63.72, 36041.13, 13968.02, 90710.28, 42662.04, 7664.12, 5514.22, 38698.68, 61769.04, 180.77, 73927.28, 14711.76, 18560.6, 101849.53, 39209.94, 31115.79, 812.68, 25736.59, 31061.4, 21736.2, 13046.92, 8429.39, 3058.43, 11243.52, 35680.77, 1290.17, 9787.28, 113117.12, 32928.5, 56639.09, 41134.99, 37908.66, 15508.8, 78430.04, 22471.38, 17559.64, 9134.13, 14680.88, 58930.49, 4290.83, 10507.69, 1184.7, 2747.42, 371.46, 1265.39, 69234.29, 5083.25, 39435.7, 36308.73, 4708.35, 8662.3, 17376.46, 1783.71, 93144.13, 722.59, 22032.85, 33738.27, 31126.01, 935.7, 51939.86, 26892.73, 98914.87, 30164.61, 109342.36, 14817.73, 33687.69, 629.67, 84807.52, 3090.39, 18358.72, 1114.49, 16633.95, 18312.54, 178.19, 61376.71, 14849.1, 816.6, 14223.32, 6418.08, 106021.09, 1116.72, 48348.18, 125948.87, 84038.75, 28547.47, 42557.85, 19739.03, 14832.71, 27279.9, 141675.38, 2083.22, 14273.74, 72278.05, 9732.51, 61764.37, 39765.23, 16549.04, 1706.6, 15310.59, 2617.05, 13219.2, 13134.28, 93720.29, 50633.96, 10607.02, 2741.06, 11041.92, 49815.0, 42526.72, 117833.86, 17912.96, 16624.67, 5401.64, 7716.55, 2871.87, 550.35, 3704.47, 55221.98, 24305.21, 52097.53, 819.81, 137224.38, 43131.77, 88503.36, 1937.71, 7087.54, 14239.22, 27853.74, 27160.93, 46505.26, 3748.84, 964.74, 1505.46, 50299.35, 26577.99, 14329.44, 74427.64, 15619.99, 32004.36, 31.56, 4261.4, 1223.89, 10437.2, 212889.61, 41770.45, 4899.33, 71906.19, 42967.49, 12067.49, 16068.0, 23930.64, 52889.28, 29931.45, 59624.53, 70908.24, 14872.47, 104244.92, 59853.21, 68357.55, 10136.88, 41922.49, 108611.6, 34254.96, 12530.78, 20274.36, 9669.67, 86730.79, 69795.0, 38463.68, 18900.98, 16098.15, 32100.1, 3748.84, 145266.0, 1050.01, 17089.92, 2013.13, 12965.4, 53624.46, 90146.67, 1752.63, 26963.67, 813.17, 8525.26, 132444.91, 21351.59, 577.57, 12227.5, 203.68, 4272.16, 14324.0, 2575.55, 150537.75, 21068.94, 53787.05, 66664.75, 14148.22, 130.04, 139058.99, 803.58, 34402.01, 35593.39, 11488.52, 24065.45, 12697.45, 4251.48, 35214.47, 54355.51, 70957.29, 1259.34, 41260.42, 83796.18, 6034.85, 35139.42, 7094.03, 2899.4, 287.93, 27332.31, 41668.16, 8041.59, 153595.72, 5291.05, 813.17, 58394.16, 56673.77, 193577.13, 43129.35, 139381.63, 4117.21, 14809.62, 8849.76, 18749.89, 117376.9, 74047.07, 45457.77, 38460.66, 29683.5, 19203.19, 6621.84, 18262.62, 119567.55, 3523.65, 20733.21, 8949.7, 39581.41, 14424.91, 94819.08, 22607.48, 51637.05, 124457.76, 63804.87, 31560.53, 57833.84, 39.76, 1757.86, 47912.83, 58979.43, 11571.09, 1802.5, 941.46, 29996.18, 3795.7, 8313.6, 293144.64, 9576.77, 48328.37, 770.23, 49301.97, 1058.72, 49478.4, 61010.02, 66055.08, 83046.91, 23818.63, 15284.38, 34929.1, 175.17, 19563.28, 87326.03, 15295.4, 25306.59, 4318.8, 8994.84, 30877.88, 31375.28, 4015.04, 199.08, 37092.39, 2684.8, 75128.48, 49209.72, 15600.45, 140986.82, 83332.51, 52727.91, 20954.33, 16610.79, 3078.4, 59436.19, 141796.33, 23965.99, 44434.61, 39334.64, 8002.83, 48795.6, 33224.0, 215.04, 28073.77, 3592.2, 23304.42, 49220.46, 1764.66, 18567.79, 49964.26, 1223.73, 11149.41, 54535.15, 5911.22, 104576.02, 58840.73, 12927.08, 4109.56, 150772.26, 8341.93, 12219.41, 66550.98, 705.86, 13688.84, 23105.58, 40347.73, 29403.12, 59846.18, 56324.52, 22787.52, 10244.55, 86724.9, 21001.33, 1320.0, 37458.39, 33182.92, 29562.38, 43737.31, 8886.31, 50387.63, 5228.8, 1914.08, 13235.97, 294.63, 521.04, 81755.61, 1365.0, 102037.41, 1475.88, 2121.61, 50575.03, 18174.79, 943.12, 8787.87, 20302.91, 85226.6, 952.26, 13548.78, 73625.73, 6742.67, 43583.38, 10763.55, 12638.82, 15946.04, 5024.81, 24227.89, 29763.67, 111407.01, 30667.28, 14502.44, 130.62, 7945.6, 32715.47, 20.04, 86004.95, 35354.95, 27784.44, 19892.56, 14902.51, 7782.52, 3976.52, 112898.32, 15329.58, 149699.98, 54997.98, 44728.3, 54466.44, 66548.23, 105818.31, 62858.31, 62933.72, 18030.31, 43791.73, 32870.23, 984.22, 38526.25, 29795.35, 53537.48, 108196.91, 4007.5, 71458.72, 7180.39, 34352.18, 6251.42, 813.21, 16687.28, 71636.1, 467.53, 73550.91, 132.85, 56448.14, 16360.32, 100963.99, 1998.26, 45744.91, 48201.81, 10714.97, 16323.47, 3706.64, 280.92, 67723.48, 45263.59, 786.69, 9287.96, 22014.9, 8889.77, 499.68, 44629.53, 14228.67, 32737.08, 48935.7, 252.48, 120200.39, 18135.88, 152359.6, 245.02, 21412.79, 40842.24, 11993.75, 3403.8, 55016.0, 182.23, 58892.36, 34219.28, 14394.5, 8233.95, 9060.89, 158199.66, 67638.82, 16367.56, 88650.69, 53902.05, 77962.47, 79308.0, 101078.06, 32115.56, 8718.8, 19430.62, 14869.29, 63410.66, 41675.4, 32832.0, 15164.87, 151.73, 13389.6, 60930.12, 51805.51, 5402.5, 12163.64, 36003.27, 361.92, 25321.0, 11955.94, 46694.25, 119966.2, 4341.39, 6623.16, 49603.15, 91627.7, 19307.62, 2121.87, 22693.09, 64094.15, 8939.61, 21960.0, 83070.11, 84898.87, 1242.09, 26441.77, 9066.6, 13694.87, 12250.0, 18446.22, 1845.18, 103157.9, 36385.34, 22976.4, 67624.92, 48.48, 19454.36, 78494.52, 1111.64, 58245.71, 59815.8, 15197.57, 42580.61, 3377.1, 132263.79, 705.99, 11728.98, 52275.74, 5440.95, 31315.2, 3819.26, 23170.17, 6481.15, 18153.94, 252736.87, 12482.77, 108731.18, 14916.35, 4096.45, 1074.44, 286.02, 1131.84, 70130.9, 10281.44, 2369.79, 19157.2, 39140.66, 71763.25, 1624.24, 15966.23, 13822.86, 4592.55, 5764.8, 471.56, 30866.63, 130.43, 2645.58, 106637.21, 12533.16, 89793.0, 516.18, 18598.93, 517.33, 2375.97, 963.5, 26159.43, 115281.6, 44297.9, 90.73, 44322.58, 6880.63, 80903.41, 9805.69, 14790.21, 12201.45, 56923.93, 31655.93, 6223.92, 58260.15, 804.76, 12315.52, 26830.81, 46.98, 174914.51, 678.35, 60251.69, 57568.66, 114290.58, 40292.77, 14951.59, 42077.35, 13822.79, 57000.19, 69020.9, 77440.23, 67774.13, 32687.51, 5492.08, 60493.6, 15632.24, 1423.06, 51514.07, 2526.19, 10897.62, 18178.62, 5988.98, 38552.71, 141808.52, 52928.46, 15070.82, 1671.57, 29796.63, 1384.62, 33933.78, 173070.52, 1355.28, 886.25, 15480.72, 91732.97, 11007.29, 1054.86, 31.56, 1358.89, 34080.88, 14902.13, 15901.39, 58725.12, 686.33, 8678.28, 66594.51, 91081.8, 33816.01, 9286.83, 4936.6, 1801.92, 14399.11, 51985.86, 1638.37, 528.9, 90552.16, 13866.12, 651.19, 140574.69, 41276.91, 30664.74, 49972.71, 3499.03, 11053.44, 29955.73, 107.19, 25148.15, 125339.88, 17021.77, 29734.33, 35251.67, 10049.28, 26720.47, 471.56, 143178.18, 46422.87, 212088.15, 96048.28, 6006.4, 51545.03, 73577.06, 4272.16, 7448.0, 736.55, 15512.01, 83486.95, 6223.39, 905.77, 61095.65, 63524.23, 73324.1, 8510.4, 58048.32, 104114.62, 71768.47, 45073.32, 73564.8, 10782.24, 20808.0, 76614.24, 92709.3, 76299.55, 75686.16, 21851.91, 68264.72, 18921.89, 2305.17, 350.69, 33886.08, 35553.88, 7011.21, 11222.27, 59420.28, 971.62, 48.6, 16611.37, 193076.23, 274.56, 41712.36, 4032.0, 41369.66, 15579.53, 70453.27, 627753.59, 52359.83, 1688.04, 21544.33, 22558.34, 118.2, 1328.25, 38607.45, 44512.48, 21746.65, 43532.97, 101203.53, 2168.44, 3797.1, 1488.0, 163389.93, 91460.16, 223.49, 2148.86, 7187.31, 19000.87, 43440.2, 63572.08, 45360.91, 8714.81, 304.17, 59424.75, 29222.69, 312.07, 51555.02, 14877.63, 41906.54, 38206.93, 11099.81, 72082.92, 84034.54, 9216.89, 160832.67, 93973.19, 18799.45, 9191.22, 40107.63, 629.67, 36699.37, 12264.24, 48924.39, 85108.71, 7990.39, 88748.3, 13435.4, 3704.64, 506.72, 14668.84, 99756.05, 28971.15, 3431.42, 102157.2, 48571.55, 6106.83, 23939.67, 15231.47, 42570.8, 12457.7, 7360.24, 16966.92, 8401.26, 71815.54, 74788.59, 52859.31, 9627.81, 2471.04, 144948.3, 12042.02, 1275.19, 13788.0, 79129.62, 76551.14, 13231.74, 31329.2, 29.77, 26938.55, 787.85, 14194.36, 6864.0, 18840.32, 57191.54, 328.68, 1677.99, 2490.89, 133098.04, 70817.84, 43301.13, 115645.83, 40378.8, 69308.97, 62151.56, 57087.76, 2706.64, 7283.82, 26260.36, 110.04, 22007.4, 23580.0, 16071.32, 12911.57, 87827.11, 116848.79, 10452.22, 5824.36, 18627.55, 27162.13, 131531.87, 3901.32, 12289.14, 21464.82, 22867.84, 6625.3, 13340.23, 21346.46, 31819.27, 3525.7, 5410.5, 13711.71, 1630.7, 538.55, 45197.6, 35489.29, 2019.69, 65617.93, 66815.81, 5745.6, 24129.22, 30220.01, 8187.15, 13340.16, 50161.33, 82527.18, 97040.68, 2611.41, 7357.63, 150444.59, 2538.03, 1838.78, 33312.97, 105637.31, 11193.0, 48086.72, 70806.65, 18273.65, 43345.2, 9317.74, 427.2, 973.23, 3520.0, 1017.41, 11845.45, 52961.67, 30547.88, 61894.4, 1185.42, 69260.81, 17833.13, 5673.7, 27069.48, 56608.45, 36500.22, 359.74, 2272.2, 380.64, 60403.9, 80210.76, 12040.07, 31427.89, 163.08, 32009.57, 21346.46, 66519.39, 12730.44, 16441.95, 16505.86, 12707.6, 2539.72, 30782.15, 51602.88, 21860.5, 1740.0, 88946.81, 24006.55, 104631.76, 65031.25, 804.21, 19155.75, 245.3, 2722.44, 2646.76, 4270.29, 48349.41, 963.28, 27213.8, 2251.02, 42616.46, 11793.6, 110600.06, 17283.5, 33773.06, 32663.02, 50554.29, 83963.46, 1274.0, 103577.82, 516.6, 53364.96, 5466.66, 136987.08, 1474.24, 44825.85, 56493.62, 1343.54, 15949.65, 887.17, 99567.88, 49217.93, 21056.35, 119469.7, 14694.59, 6512.1, 45244.12, 464.94, 380.77, 78376.03, 32715.47, 131925.13, 39084.55, 31182.61, 8784.86, 21649.2, 661.21, 4162.19, 4927.27, 25375.77, 13176.65, 18932.45, 5481.81, 26145.66, 8689.83, 421.16, 24955.0, 72070.63, 15578.88, 22249.11, 107030.26, 7969.08, 66525.77, 24511.96, 15955.81, 4662.15, 80839.0, 109746.55, 14894.96, 61649.75, 19840.95, 19436.32, 9615.89, 14347.2, 68572.47, 62763.66, 696.54, 36114.1, 78328.39, 6465.46, 13391.13, 153836.74, 75950.04, 2796.0, 15721.35, 47222.98, 2373.96, 24348.4, 7788.88, 28404.23, 31538.0, 15565.31, 9207.28, 54122.58, 15501.15, 23239.86, 25278.51, 7594.02, 64.74, 16378.3, 10958.74, 286.09, 14256.33, 11515.84, 33462.4, 5473.27, 521.18, 14013.3, 4698.5, 163.8, 31461.2, 18087.95, 1328.25, 11793.67, 6780.73, 140606.84, 373.43, 70007.79, 64696.57, 63.46, 16169.39, 42580.61, 33635.14, 18387.69, 37253.21, 33323.4, 17541.76, 724.8, 2042.56, 179559.72, 63.33, 205.13, 16437.07, 29677.79, 80737.85, 86428.33, 15821.45, 17610.62, 65820.82, 107163.63, 27740.21, 280.75, 126.92, 70386.16, 2458.44, 71219.53, 496.0, 5453.66, 43815.84, 22492.99, 19226.15, 17163.88, 174981.56, 85463.25, 19950.06, 119940.04, 22211.08, 126696.55, 22677.65, 37270.12, 46542.81, 100389.15, 13181.32, 12900.0, 19019.0, 70795.3, 713.64, 15351.61, 596.77, 97327.34, 1343.58, 1548.39, 32293.7, 18543.6, 27571.25, 88850.04, 18183.74, 39561.72, 13090.52, 3471.68, 2802.31, 42159.48, 12066.87, 5730.99, 14498.86, 34860.42, 43399.84, 101057.74, 4727.48, 882.33, 67944.25, 4704.76, 2937.99, 60715.46, 16008.42, 567.26, 3587.62, 1814.41, 58886.51, 8638.92, 9793.06, 1824.43, 136282.64, 70304.34, 122411.6, 5888.03, 12335.65, 4770.14, 130976.53, 11328.88, 886.16, 4101.43, 115652.18, 5171.65, 1426.81, 16168.97, 67607.08, 87276.81, 80365.97, 5557.5, 15431.31, 26660.34, 36354.05, 913.1, 87135.72, 69510.0, 27375.68, 14644.8, 14027.66, 89728.52, 16306.5, 13880.17, 12699.08, 129192.97, 55455.84, 3009.74, 933.18, 47.46, 123689.58, 13929.49, 3434.16, 1278.26, 7692.63, 3796.38, 11835.98, 23610.52, 16014.12, 5848.15, 10447.69, 1843.86, 1197.36, 53049.89, 9351.37, 1356.55, 131411.98, 13750.12, 19557.95, 52168.31, 52550.01, 7535.03, 779.39, 82617.6, 18586.04, 52973.57, 54683.4, 10770.76, 286.44, 32.36, 1898.2, 669.37, 16851.16, 21190.4, 75409.12, 55585.5, 41692.98, 66618.52, 55.35, 14719.07, 24865.27, 3905.6, 1898.2, 13401.88, 10871.21, 446.6, 86850.16, 2080.2, 147.56, 57954.37, 1994.02, 3270.04, 86724.93, 7845.01, 504.86, 1344.33, 13718.52, 22846.1, 90113.78, 1064.58, 67.29, 65692.97, 69397.21, 45234.86, 14751.82, 17493.87, 14177.2, 33406.59, 242.28, 17614.25, 110.43, 10148.92, 2929.76, 15981.25, 8510.44, 27.6, 18561.59, 6467.37, 53317.44, 9433.56, 67391.78, 145445.61, 119778.34, 48776.69, 7548.14, 44618.82, 2887.97, 99973.84, 36901.23, 60.12, 3748.21, 1854.46, 19802.41, 93441.15, 1462.83, 813.17, 16013.23, 41431.07, 124047.6, 1394.99, 9227.94, 67875.46, 15064.23, 1641.94, 42507.16, 137304.66, 44055.61, 230.07, 3203.64, 36317.28, 53498.78, 6281.08, 18879.45, 57633.92, 1667.39, 2949.41, 80856.68, 141699.28, 10042.6, 8510.4, 5599.71, 3591.5, 54270.87, 2547.34, 5527.46, 29804.54, 102333.29, 4165.0, 20383.65, 23385.13, 14617.13, 41463.72, 49617.56, 1328.25, 13369.09, 297946.92, 36983.47, 7275.81, 56956.38, 31178.4, 80448.41, 14024.42, 175012.22, 50090.8, 7518.16, 382.56, 56129.04, 55891.44, 23411.3, 80143.13, 49589.31, 118865.43, 429.47, 68940.0, 2675.24, 23795.29, 33633.99, 30772.99, 51786.0, 41635.38, 5262.6, 38586.39, 1559.04, 18315.48, 7668.56, 17766.26, 1118.71, 4938.77, 111.37, 8380.76, 21480.07, 6200.84, 227.17, 289.34, 67333.51, 8949.7, 185919.57, 58184.75, 52421.17, 2177.54, 94.31, 310588.42, 1237.47, 54.58, 117531.29, 64355.64, 14056.47, 97521.8, 6743.57, 1445.54, 178.63, 26196.25, 68499.74, 3220.76, 164351.3, 35712.85, 34713.36, 45400.0, 1163.52, 855.6, 46202.68, 222.74, 20619.31, 16245.61, 155.97, 97094.2, 3593.18, 146.16, 49267.08, 81114.33, 35859.21, 10691.61, 1647.45, 94538.26, 252086.64, 1308.66, 12398.4, 10072.4, 42298.42, 7264.97, 114.38, 2322.34, 1322.22, 2322.71, 70811.16, 24094.8, 54976.38, 18661.99, 33548.96, 14824.32, 4890.99, 4272.16, 1451.69, 14274.05, 19695.43, 49922.31, 13769.31, 44335.89, 423.82, 107306.83, 36862.6, 14257.87, 61968.26, 36171.93, 1209.26, 30576.0, 61267.69, 58167.86, 43505.52, 142934.91, 6645.34, 14395.03, 133922.54, 546.48, 75228.05, 14278.48, 2961.3, 13583.64, 4086.72, 41406.77, 65580.06, 11799.74, 33276.95, 46587.58, 24183.56, 113248.8, 43981.79, 47387.82, 13269.25, 18739.8, 6813.61, 738.45, 81258.1, 35.56, 67272.24, 3225.75, 52360.2, 1787.45, 86.39, 31827.97, 44831.92, 63607.84, 5621.0, 17322.9, 6073.43, 5026.39, 34499.22, 23049.58, 15885.8, 76880.66, 41167.6, 74042.15, 18885.26, 62919.11, 1355.28, 17439.21, 5227.43, 4757.26, 9043.47, 191278.0, 216.71, 15787.89, 14182.71, 14148.33, 35084.0, 99.96, 42649.45, 40934.04, 3485.08, 6498.04, 195.36, 426.66, 54404.09, 19370.98, 7066.8, 3147.71, 179.13, 16171.35, 10977.4, 40.08, 22725.0, 17916.03, 111603.56, 33669.52, 14049.28, 550.41, 57304.3, 11854.37, 18406.09, 74569.0, 50600.73, 2410.94, 13065.36, 51557.44, 1271.91, 102619.53, 8388.23, 26496.0, 490.04, 5531.59, 7908.45, 52106.16, 29238.65, 1514.16, 64292.36, 25420.29, 1140.96, 74488.86, 2127.41, 73623.0, 58506.0, 103799.55, 90147.34, 53058.2, 18135.88, 15605.03, 739.37, 41720.07, 53235.72, 8329.4, 2585.06, 1546.61, 21684.21, 482.56, 255.0, 173700.7, 111511.73, 48768.21, 117.13, 106371.93, 8167.77, 23306.2, 37261.43, 427.2, 964.62, 61584.25, 250693.63, 5041.16, 11318.88, 123.79, 504.19, 7636.75, 111055.12, 63828.64, 12411.0, 131100.76, 568.5, 47707.16, 19812.45, 1328.25, 52514.51, 28528.97, 48001.2, 18069.49, 8041.59, 29300.66, 25292.05, 17810.12, 1160.51, 292.56, 2237.43, 11326.0, 718.29, 371.32, 70940.26, 3559.89, 1375.39, 504.41, 46049.87, 13891.02, 23298.55, 3227.43, 44672.41, 16134.99, 56268.69, 775.56, 5248.24, 40.8, 16996.59, 17888.06, 114664.23, 32481.88, 55274.69, 17114.82, 13.16, 80029.11, 25161.33, 5439.5, 191.68, 13707.51, 21197.11, 13583.4, 13836.18, 22378.2, 30783.42, 14163.35, 12003.84, 201.12, 14135.59, 30879.31, 1313.38, 14363.21, 113694.86, 60419.27, 52992.99, 34841.13, 50702.69, 1534.12, 15484.91, 2168.44, 16397.53, 67771.65, 89541.27, 27244.68, 24515.81, 57425.52, 6808.98, 4990.73, 64690.87, 35276.75, 2688.54, 144418.72, 63369.5, 359.52, 4002.28, 21310.14, 99238.29, 4941.5, 9813.67, 142852.22, 36781.31, 467.7, 37057.52, 15370.03, 21391.69, 49017.93, 2442.5, 11884.87, 25025.65, 7731.02, 2373.96, 243.32, 123543.83, 1898.2, 1085.08, 132864.47, 23527.77, 235.26, 23976.84, 41611.94, 28144.98, 23796.18, 29554.76, 28100.82, 148053.34, 292.6, 35263.21, 6060.08, 20282.4, 5115.77, 60165.07, 61803.12, 943.12, 9183.24, 2174.78, 10604.38, 97489.07, 108397.85, 22770.63, 20603.14, 87806.22, 2595.74, 431.95, 8797.74, 63998.83, 3935.52, 11346.26, 13294.86, 184.56, 102616.76, 1656.37, 45808.43, 7783.86, 6382.72, 33571.98, 15466.0, 14863.37, 81080.99, 95586.89, 642.04, 4884.72, 20448.75, 50550.28, 1477.56, 22019.66, 4000.42, 2841.96, 95968.65, 8682.77, 127126.74, 16095.36, 1327.53, 75409.9, 14539.38, 68146.11, 4604.4, 170703.22, 11893.65, 14378.47, 11498.11, 53318.83, 51936.92, 13976.95, 41507.74, 13791.32, 58457.25, 17283.5, 88161.7, 14688.96, 14876.55, 30457.31, 47797.9, 15546.68, 332.47, 4297.03, 11498.4, 35233.79, 153159.31, 18275.0, 10518.91, 22217.93, 26241.68, 802.01, 149295.01, 13977.68, 17332.53, 11522.14, 34831.25, 209.5, 10281.44, 42775.37, 17384.64, 2959.64, 48826.24, 10043.32, 27694.56, 19250.34, 93116.58, 51674.02, 446.41, 126857.02, 43511.93, 54374.48, 57247.22, 19349.89, 30563.03, 69894.57, 47712.67, 11401.29, 2001.44, 977.55, 15596.28, 1945.78, 21000.72, 168.18, 18521.54, 17232.81, 13959.42, 32715.47, 46543.67, 18429.98, 41281.94, 114.38, 1898.2, 39202.86, 32203.73, 3302.07, 96300.07, 13340.16, 1349.78, 53214.0, 38548.46, 61215.61, 213.34, 661.11, 41631.64, 57256.05, 64305.66, 32715.47, 7408.91, 2506.25, 1886.25, 72676.52, 10506.47, 15872.69, 11136.36, 22114.26, 21403.91, 22602.24, 57822.98, 10988.58, 220099.48, 11711.26, 18224.88, 482.72, 16543.84, 26636.58, 6013.98, 3995.06, 25317.22, 35017.5, 584.3, 19549.09, 11398.8, 50180.34, 15546.68, 91634.24, 6667.27, 633.42, 66274.65, 101979.36, 6285.81, 285599.73, 18297.9, 4323.24, 197.76, 27102.2, 61631.29, 49832.64, 34740.81, 6604.15, 15725.29, 1466.39, 32203.99, 99768.44, 96073.09, 6518.9, 7073.99, 65100.42, 17173.76, 27051.2, 15632.33, 54889.43, 5728.95, 9017.36, 118300.93, 1534.93, 10511.1, 92257.42, 54.0, 42310.0, 4341.39, 42533.8, 40416.09, 3451.25, 18521.5, 1779.23, 25690.99, 51861.58, 26044.2, 22459.04, 47664.16, 994.43, 47301.17, 10316.96, 1026.1, 12471.5, 18265.07, 1209.6, 15145.99, 60589.82, 27219.58, 128008.88, 14197.02, 17373.05, 9091.62, 7656.0, 1236.6, 7556.71, 25794.24, 120418.5, 51339.34, 962.22, 4714.04, 103.47, 34395.88, 3972.18, 53161.76, 556.13, 2350.6, 29269.29, 94251.65, 92375.28, 33627.85, 9201.3, 9847.88, 71376.07, 135561.66, 16377.82, 52895.71, 26085.67, 14832.8, 5812.57, 15536.49, 17108.22, 28308.97, 8041.59, 42827.54, 141.99, 19976.97, 6361.07, 20669.64, 30220.01, 18889.84, 10308.94, 55009.22, 53614.09, 734.16, 11136.72, 8041.59, 70299.93, 3401.62, 151770.16, 82024.88, 949.45, 816.49, 2819.49, 65660.97, 858.62, 91396.87, 458.79, 559.6, 14420.0, 1769.96, 16392.2, 221.51, 3989.37, 7446.53, 7954.07, 2701.21, 201.25, 168746.82, 76441.77, 532.58, 25828.39, 188407.3, 1657.15, 46607.63, 6349.0, 2798.32, 8791.75, 86888.14, 52759.19, 122.57, 7247.58, 11280.56, 45519.83, 41468.13, 92.34, 576.53, 10039.72, 96854.86, 79847.59, 13009.7, 8680.58, 1382.02, 19402.01, 4151.87, 59815.8, 10745.64, 35512.7, 4381.57, 14740.61, 527.27, 35309.06, 542.57, 22842.8, 33755.16, 31656.25, 44934.64, 60969.23, 17099.78, 37033.5, 45400.0, 3191.4, 50222.5, 8536.14, 6025.82, 17525.75, 45894.56, 15265.96, 50402.29, 63905.94, 18573.83, 23219.66, 11000.02, 61683.75, 52949.5, 60281.13, 54084.64, 50837.14, 14314.47, 19912.32, 507.68, 42997.14, 1703.28, 12005.29, 1207.2, 35867.0, 39094.6, 25449.68, 13327.19, 22.0, 411.4, 6505.9, 39234.36, 42128.99, 39630.4, 59739.13, 59748.53, 7487.53, 5182.85, 19322.82, 59880.09, 160024.18, 414.69, 46638.49, 43739.62, 141079.01, 417.96, 131634.99, 152665.06, 54686.24, 15298.86, 190.44, 39636.27, 9428.15, 292.44, 16378.79, 65675.42, 41352.83, 2897.1, 36281.03, 6428.99, 8820.52, 9945.65, 89306.09, 12965.4, 22146.36, 95933.92, 60906.76, 93524.21, 60096.96, 14750.4, 2478.95, 177806.67, 95009.12, 866.17, 271.92, 240.42, 32647.3, 25186.66, 16577.11, 4341.39, 5341.62, 80422.97, 42632.07, 142755.55, 22523.4, 943.12, 2740.5, 405185.64, 51745.51, 1754.71, 58316.9, 26634.24, 16884.05, 473.06, 72409.79, 72841.02, 173268.27, 44726.75, 13699.26, 20732.54, 78453.96, 1121.31, 29244.82, 7037.49, 6423.74, 66036.68, 9211.26, 21424.92, 577.08, 79983.38, 2151.73, 12085.76, 58178.4, 15442.02, 75451.2, 13160.35, 54299.34, 20639.63, 18120.0, 78877.83, 128496.78, 10373.75, 28962.75, 13926.74, 158937.67, 34861.44, 28.48, 62807.85, 40831.21, 14080.44, 32981.7, 18710.43, 113383.55, 55485.17, 752.19, 13921.18, 68140.95, 62457.85, 15479.37, 40046.42, 15709.14, 11616.64, 261.59, 396.84, 12328.46, 29462.4, 114155.47, 8241.4, 14671.34, 51420.18, 15234.23, 2881.49, 1451.69, 16374.63, 12417.63, 21168.0, 23806.75, 125438.15, 43449.76, 4726.57, 41032.11, 73661.06, 3225.75, 243788.71, 53465.49, 10195.87, 267.54, 12813.75, 115607.08, 84709.19, 52677.2, 16114.29, 27427.9, 1378.6, 75554.22, 8984.79, 17283.5, 55652.92, 21809.97, 80754.76, 126840.43, 104167.19, 253.59, 343.07, 272.25, 1328.25, 302.2, 29069.8, 13230.65, 3191.4, 471.56, 8253.66, 15448.93, 4821.77, 3698.2, 61196.83, 12572.11, 759.89, 61668.25, 10494.2, 76235.04, 6435.21, 149761.33, 31142.44, 9253.7, 70114.84, 170658.3, 35100.66, 101376.93, 378.87, 4997.98, 13298.6, 9338.15, 18749.28, 15774.33, 94522.99, 8692.77, 6500.01, 38632.22, 816.75, 1936.38, 136.2, 17324.57, 93052.66, 6498.05, 8742.94, 72558.36, 1893.09, 48558.27, 17287.15, 40558.34, 60.78, 15344.87, 7642.76, 44001.83, 8539.83, 14005.67, 14911.45, 24593.37, 15985.08, 157696.57, 15136.8, 30869.44, 14772.55, 3304.0, 20865.23, 42442.02, 7770.52, 22613.24, 27217.08, 992.16, 17283.51, 83.64, 3254.05, 18195.32, 17123.5, 39791.51, 11447.08, 14372.45, 15725.29, 64336.21, 22481.3, 173611.15, 3983.68, 220.92, 2646.76, 2177.53, 142.41, 36291.33, 77134.5, 1191.99, 145558.06, 2365.26, 1125.53, 64212.75, 2643.4, 25543.91, 28599.45, 2851.2, 6460.94, 12489.05, 48505.52, 10346.73, 67832.61, 6361.07, 141853.66, 18070.28, 10246.14, 14968.34, 11776.12, 7149.79, 29942.14, 45137.54, 28650.87, 5886.02, 82776.17, 215.19, 9888.58, 20210.72, 110885.26, 4674.13, 11110.98, 5935.65, 1874.99, 107961.24, 7003.98, 34578.79, 40104.53, 23298.58, 34836.09, 39053.36, 749.47, 73025.42, 1328.11, 46305.0, 43018.54, 24570.0, 5435.7, 129548.21, 112721.41, 9263.04, 34700.92, 22405.88, 98058.52, 19927.15, 7503.12, 4516.66, 248.75, 1145.51, 493.85, 934.34, 66736.02, 3149.76, 23847.8, 16558.43, 339.24, 21733.01, 55347.92, 15267.5, 71779.8, 36596.71, 72219.83, 40071.32, 20336.41, 40466.18, 26309.28, 89275.09, 150368.19, 265502.04, 11799.97, 6532.6, 24738.58, 2788.32, 69175.68, 41127.39, 32349.25, 25174.21, 52373.66, 689.61, 305.89, 14210.17, 7904.88, 29276.13, 16964.52, 256.91, 85748.27, 27925.36, 97200.92, 4341.39, 11688.0, 164105.9, 9377.84, 150005.36, 364143.7, 72.12, 1322.22, 62035.06, 201301.46, 63397.93, 97894.71, 95865.36, 7651.31, 115368.84, 2901.64, 103.02, 101747.35, 8041.59, 91728.52, 1741.01, 1149.19, 92447.85, 1075.24, 234.68, 1190.7, 69803.58, 21558.53, 7986.61, 37788.14, 80828.44, 4969.26, 6349.04, 44315.73, 25077.38, 55323.03, 3494.61, 2612.5, 4893.21, 585.91, 20493.12, 222.48, 67.29, 23935.64, 13889.7, 97916.83, 49762.14, 26456.37, 19659.35, 1822.7, 20557.14, 41923.58, 10921.75, 1646.09, 14974.07, 2265.9, 46951.52, 587.66, 66874.27, 1463.85, 35104.88, 4005.32, 16662.11, 20046.61, 281.58, 88985.36, 1714.24, 35352.38, 10621.05, 15223.05, 48445.1, 227.12, 241.4, 13138.4, 62671.68, 5838.0, 2373.96, 23792.09, 2448.84, 93001.78, 11578.99, 99512.57, 776.06, 30866.85, 19784.22, 136664.82, 13143.29, 65094.98, 16530.01, 29264.34, 31263.24, 10037.61, 147902.26, 4407.79, 82805.21, 30910.08, 34875.92, 30014.33, 18997.0, 21077.5, 46161.61, 882.38, 77435.85, 32.36, 1512.56, 20093.41, 2031.35, 58159.76, 15154.2, 83263.09, 34365.24, 158.94, 2883.32, 14121.12, 22402.84, 8984.79, 149311.71, 61711.1, 70480.97, 24242.4, 623.68, 4516.54, 115850.54, 397.68, 52416.0, 5734.95, 8740.24, 89836.75, 3225.75, 2854.18, 1328.25, 62154.94, 16036.03, 13332.27, 83082.27, 32806.72, 90797.62, 21430.23, 68653.84, 39832.63, 16127.2, 57329.31, 349.52, 50890.75, 28911.96, 74168.16, 1897.5, 47513.85, 15704.68, 14380.16, 69430.33, 44049.18, 1322.22, 55276.67, 3577.51, 2024.17, 14380.16, 15075.58, 24578.28, 179.01, 47332.45, 15800.64, 29682.7, 38363.15, 34374.95, 14852.15, 661.2, 17771.85, 45079.89, 1377.22, 10892.32, 67463.23, 103640.97, 77517.35, 26459.53, 9970.11, 126.67, 31328.56, 2313.06, 25369.95, 226.69, 37551.95, 27241.21, 1783.6, 51536.02, 99661.2, 127868.89, 5285.83, 14612.4, 22149.95, 68753.72, 25536.35, 14043.94, 46919.8, 28128.78, 433.09, 81396.96, 22218.73, 59948.87, 23295.79, 15015.4, 5695.82, 22193.16, 71231.97, 4957.61, 73821.94, 14280.05, 1126.67, 1017.41, 32647.69, 129464.94, 7088.23, 122697.0, 9754.17, 15995.54, 33075.38, 31452.89, 3672.65, 61510.43, 28793.51, 6582.04, 435.36, 5957.0, 130464.61, 60772.0, 16378.65, 93843.39, 6425.83, 39941.62, 22124.31, 17401.8, 125093.78, 1718.0, 9964.88, 15828.96, 50851.26, 3381.85, 60269.16, 152779.01, 20770.29, 41786.41, 35163.07, 45155.96, 85553.27, 15314.5, 17951.5, 23478.62, 549.68, 6178.52, 1572.46, 12192.3, 3649.21, 15039.72, 1092.1, 22204.26, 12891.64, 49706.03, 111161.36, 45048.82, 295.44, 20872.0, 312.56, 25824.23, 49840.78, 416.2, 20667.41, 71766.8, 134108.21, 47421.13, 70811.97, 9482.3, 201.17, 4871.5, 38738.32, 3900.95, 49649.3, 126255.57, 85746.78, 1381.1, 12447.54, 14016.34, 76160.85, 2405.17, 41208.63, 6267.0, 13445.49, 81305.21, 24966.5, 42818.89, 6453.72, 69309.44, 14675.8, 15834.19, 6143.89, 89279.49, 14194.43, 2728.24, 25821.49, 3702.52, 6161.36, 7154.49, 1370.37, 599.52, 2684.18, 38092.53, 21688.12, 5092.83, 905.22, 30999.14, 14571.97, 15800.14, 34665.16, 2389.17, 118883.63, 269897.95, 599.37, 7083.67, 49116.36, 16072.4, 49616.27, 1126.59, 4313.46, 14272.22, 61696.48, 1695.68, 140760.0, 6029.31, 19132.26, 10385.6, 85784.14, 250.75, 452.14, 1916.3, 14205.08, 12590.51, 104135.15, 10002.34, 23090.11, 15574.44, 1991.84, 609.66, 33564.34, 85791.89, 15877.21, 8467.46, 13277.26, 11099.81, 5600.41, 61041.26, 11127.23, 1898.2, 1367.34, 49612.81, 88846.68, 3512.16, 421.97, 14829.67, 12183.38, 35100.39, 9777.96, 72737.44, 2279.2, 2213.53, 629.67, 15662.77, 46036.1, 63730.77, 1606.99, 14890.73, 10102.2, 246.24, 2019.69, 18542.2, 3264.82, 90889.75, 18931.83, 5003.56, 2110.81, 16722.48, 79297.97, 46729.73, 20365.87, 122998.72, 79432.46, 33269.23, 16723.45, 10946.55, 987.26, 1349.23, 47784.14, 12013.34, 1275.69, 220.74, 52054.33, 1886.37, 1084.22, 60809.0, 15438.1, 50591.58, 359.13, 50476.6, 32446.02, 115272.39, 5992.62, 16155.31, 8706.4, 78474.11, 8235.93, 53308.21, 22910.42, 161796.72, 43069.02, 77232.18, 14516.79, 137.04, 321.54, 14702.62, 414.71, 37642.0, 4821.77, 4896.33, 6156.46, 4380.73, 170.31, 57420.0, 32604.37, 52469.18, 944.06, 31446.24, 158014.51, 26198.84, 1160.69, 59542.8, 24736.14, 591.34, 243.97, 12755.6, 54609.17, 1897.5, 49998.02, 48890.15, 8871.71, 21353.71, 129872.75, 28452.83, 8019.84, 8041.59, 49046.48, 14991.58, 10973.04, 169504.14, 1076.24, 506.6, 76381.7, 14204.38, 7912.32, 34177.88, 759.24, 3785.4, 30466.9, 5592.44, 7800.3, 45154.62, 13338.14, 74012.56, 14761.86, 76714.54, 49290.19, 26426.22, 16424.54, 28779.44, 59879.49, 5479.1, 191.49, 32011.75, 42785.25, 1965.82, 3364.64, 964.42, 22655.74, 12155.61, 3310.2, 49027.52, 22164.21, 43899.57, 97584.32, 15749.13, 20555.43, 2569.13, 59397.88, 24614.15, 4125.67, 66696.76, 17157.25, 1143.94, 14780.25, 148.25, 65529.92, 1579.2, 427.22, 25431.84, 4660.08, 688.41, 10170.97, 16228.56, 17033.43, 42458.71, 14768.42, 2350.32, 17783.32, 53899.48, 120293.28, 7111.29, 44801.59, 14516.79, 9742.29, 39050.28, 31466.7, 8122.87, 574.94, 607.85, 10113.42, 55952.26, 44282.76, 17133.5, 17031.75, 3045.84, 832.31, 7492.45, 45090.71, 15867.18, 34505.56, 8398.8, 31797.93, 25217.48, 15399.18, 30159.17, 67179.91, 201572.52, 34543.92, 96698.47, 462.0, 119930.78, 9509.08, 29016.76, 48750.66, 100889.81, 39376.51, 36234.83, 28606.43, 26129.33, 222.66, 11675.85, 21002.24, 33900.0, 126315.49, 20172.66, 20680.75, 75678.32, 2373.96, 53528.39, 1516.57, 3979.82, 3879.82, 716.66, 27593.48, 84718.83, 618.83, 805.54, 40229.32, 44959.27, 19138.56, 51956.64, 16398.7, 51682.51, 13765.6, 1143.06, 4255.2, 14750.19, 125100.41, 257.37, 1867.22, 14389.09, 52734.58, 134.79, 697.82, 95044.52, 13502.46, 14457.17, 29659.67, 8298.72, 7068.12, 9792.69, 35367.9, 5178.83, 8854.79, 20205.03, 34807.92, 38665.15, 77.86, 1880.25, 45124.22, 181974.14, 47126.76, 11043.03, 59265.58, 22069.1, 2352.97, 43401.18, 48238.8, 20056.04, 14052.84, 305.36, 39220.57, 5072.99, 324.18, 72979.17, 41039.59, 48485.56, 189.12, 4496.34, 116700.04, 85744.81, 125568.29, 60638.12, 34059.8, 1425.96, 11965.21, 40020.89, 44648.72, 53277.0, 5315.41, 813.17, 4855.58, 7975.55, 14189.05, 97004.7, 32380.19, 32036.59, 32982.75, 4341.39, 24596.6, 16760.75, 9278.88, 32715.47, 1355.36, 397.44, 115386.16, 20824.81, 23592.76, 93.55, 76087.2, 83364.82, 8175.48, 25689.12, 73992.84, 46399.32, 80175.09, 73267.85, 8279.1, 13649.39, 8949.7, 21300.0, 12874.77, 46836.22, 72309.11, 11538.15, 5177.35, 62683.47, 13021.62, 14257.87, 596.6, 3785.4, 520.26, 813.86, 4064.54, 44344.85, 52481.25, 21631.07, 100244.07, 71688.9, 112470.16, 161796.72, 37521.47, 15318.15, 15039.94, 8112.74, 70231.62, 67227.59, 61045.16, 88099.74, 43695.92, 196.25, 19168.1, 597.86, 5126.33, 122220.28, 4088.45, 7838.94, 3758.2, 29381.54, 45552.43, 39969.92, 34381.04, 12823.02, 2058.0, 16477.14, 528.28, 7349.53, 8766.38, 29990.53, 33189.72, 13713.63, 33352.02, 72255.15, 688.98, 33084.21, 65692.16, 13689.37, 48727.25, 15575.94, 45443.29, 30819.88, 57461.95, 24437.71, 955.08, 25552.38, 14443.35, 3280.68, 15827.87, 4384.08, 3852.42, 48904.3, 87262.08, 1666.73, 1868.66, 2436.78, 3935.12, 6456.02, 16680.88, 38718.18, 27536.28, 9072.44, 13005.08, 33967.5, 9894.43, 14650.61, 31123.24, 78751.91, 43790.16, 3225.75, 64889.77, 317.48, 56370.12, 13383.99, 35528.05, 16343.6, 2142.19, 29882.11, 20193.69, 27772.24, 64480.45, 44469.9, 1897.5, 47280.2, 1880.22, 14229.72, 22377.5, 14297.73, 55081.72, 950.49, 15501.54, 215.94, 88589.72, 283542.48, 1329.19, 26690.25, 48451.58, 2053.01, 9941.96, 16112.69, 25.92, 67648.24, 1864.8, 95713.75, 3300.93, 1428.1, 44124.11, 16900.32, 14769.0, 2578.89, 50433.33, 7292.64, 7165.61, 38288.26, 27267.94, 22807.05, 153485.08, 9338.4, 56732.95, 7277.19, 21080.75, 15217.94, 18421.62, 17076.28, 13817.37, 8697.24, 23336.5, 18161.71, 35797.73, 378.72, 15437.39, 9260.97, 17618.17, 4402.77, 41205.36, 11622.69, 21874.1, 427.72, 73022.38, 51707.97, 6759.28, 145287.85, 13606.75, 358.96, 20774.66, 4931.24, 15639.95, 69275.21, 14135.58, 12243.57, 127524.74, 101042.84, 108700.18, 14394.5, 4262.02, 23256.25, 12775.05, 13431.31, 78615.58, 104316.95, 79393.08, 13383.84, 77694.75, 103.92, 19436.3, 1118.71, 8380.3, 382.6, 43753.56, 6169.66, 143385.58, 66.48, 17258.3, 7983.65, 23430.83, 3690.96, 17157.25, 17172.0, 1503.27, 63890.68, 314.82, 119903.42, 53340.21, 4638.14, 214434.89, 82291.95, 319165.07, 62993.64, 7054.08, 13695.66, 7534.24, 316.32, 6594.48, 3043.25, 18886.37, 2283.02, 5026.93, 542.11, 9820.65, 90013.68, 883.1, 39238.61, 124621.52, 40999.13, 71300.71, 14286.39, 27246.2, 57563.94, 9220.54, 310.24, 14537.86, 20286.0, 10188.08, 16093.28, 40208.6, 35508.32, 31503.67, 39269.23, 36570.0, 89923.27, 99074.02, 1539.47, 658.5, 3680.22, 20623.17, 7184.26, 43504.39, 4027.29, 12145.86, 79878.62, 8063.75, 29712.41, 16363.96, 26057.99, 13164.25, 50120.32, 4001.96, 62734.96, 122684.39, 26948.85, 2679.78, 1886.52, 5715.52, 818.4, 38711.6, 3831.13, 297.11, 15699.0, 5216.24, 19195.15, 32922.51, 1434.06, 308462.35, 29060.59, 786.67, 177.78, 15974.35, 12353.5, 114144.41, 4438.22, 2556.96, 2108.16, 68498.78, 25595.02, 71252.75, 44958.23, 1038.13, 36534.31, 149501.94, 47625.81, 14532.17, 10234.33, 22104.1, 27521.93, 1034.58, 87385.24, 3593.18, 44052.4, 15165.0, 292.45, 5992.43, 14824.32, 4164.47, 33717.04, 39798.86, 93792.84, 45400.0, 22078.27, 18034.22, 210.16, 2180.34, 113092.1, 58506.0, 35.73, 11326.64, 32715.47, 10374.05, 348.25, 16746.21, 73915.36, 45695.09, 27167.22, 5930.33, 8091.47, 25378.66, 15847.61, 8684.25, 161.97, 57393.07, 15411.21, 8198.4, 58954.96, 897.01, 1824.43, 31284.6, 128431.85, 40597.7, 981.48, 87715.24, 98338.05, 844.64, 26715.67, 128895.62, 1328.25, 19306.2, 22988.64, 14204.38, 12161.8, 110889.79, 13130.42, 464.26, 13454.8, 693.24, 26153.54, 7868.62, 12630.06, 686.49, 55262.09, 78889.03, 294.17, 5591.31, 57225.41, 3011.94, 17233.92, 45694.85, 2475.29, 271.07, 14553.4, 288.12, 207.07, 13654.53, 10944.89, 25689.6, 46630.08, 11744.36, 97066.03, 39487.26, 28827.02, 9038.76, 13616.26, 8793.09, 47187.4, 11693.76, 24312.98, 64829.32, 19938.15, 160136.26, 187328.02, 1554.12, 7827.11, 3785.4, 56188.78, 283.55, 19820.79, 121121.57, 31178.72, 18731.63, 1794.84, 1842.47, 18579.92, 33615.72, 151038.98, 913.91, 98499.53, 43050.3, 13614.19, 18768.77, 6732.84, 4457.65, 3309.31, 324.97, 498.03, 26946.19, 543.79, 2654.28, 5510.57, 12668.17, 3318.61, 49073.0, 1359.9, 137948.69, 17627.3, 15739.63, 37457.49, 1685.7, 26557.65, 42176.77, 14204.38, 27081.53, 5514.9, 471.56, 3226.45, 11991.14, 129580.82, 283.5, 23031.28, 37648.8, 5031.67, 89468.81, 1220.9, 75201.8, 3481.18, 4528.7, 37140.11, 688.15, 3231.7, 8116.26, 14779.76, 256.41, 90152.76, 22243.58, 52218.93, 1898.2, 21458.89, 43749.72, 32286.39, 7642.47, 15494.93, 33149.21, 34237.4, 1997.33, 39093.22, 28538.4, 65812.61, 13807.29, 20408.08, 149771.32, 67204.04, 854.97, 13789.98, 24000.0, 66541.14, 4780.57, 49378.51, 5139.66, 11443.57, 133993.91, 132190.85, 19497.84, 1824.0, 40146.93, 126.24, 1674.28, 92865.08, 34912.73, 1897.69, 471.56, 3435.63, 15846.98, 1584.2, 2852.0, 45159.9, 28156.8, 74181.37, 318.2, 9729.23, 18434.16, 3984.25, 92015.65, 3759.53, 1624.16, 16274.65, 28008.31, 133567.53, 20157.11, 1990.93, 507.0, 38148.74, 120062.18, 16264.58, 39315.2, 206.24, 37898.36, 59174.25, 116879.32, 26499.88, 16949.82, 2034.33, 3748.84, 34808.82, 194.69, 15314.6, 15837.52, 30177.54, 29340.22, 14027.14, 19126.61, 12225.1, 50399.6, 4378.25, 52969.17, 81392.22, 14242.77, 6188.18, 48241.52, 453.58, 1800.22, 14944.02, 42623.9, 63698.84, 1482.42, 140636.3, 124012.54, 19815.17, 46916.75, 30261.86, 81124.33, 57648.76, 73845.89, 53914.09, 3270.04, 3403.8, 7854.93, 796.4, 8798.4, 12668.17, 14815.22, 1637.0, 43573.35, 78906.4, 348394.54, 18353.62, 2957.58, 75417.07, 65474.28, 16550.3, 21038.7, 7266.95, 10953.25, 54981.19, 1157.0, 7303.83, 298.98, 18650.45, 66342.58, 116.04, 44854.63, 56853.6, 5830.64, 19565.42, 126229.21, 68658.02, 22180.14, 117081.83, 79255.26, 10800.0, 3062.65, 13036.1, 17181.7, 372.78, 34963.74, 21431.09, 1842.22, 6243.02, 2089.34, 393.3, 73533.61, 434.96, 33906.55, 4997.7, 1897.5, 1122.24, 11756.9, 5288.39, 549.14, 4930.92, 3972.5, 21276.86, 12290.24, 1231.61, 46411.9, 54486.17, 14728.18, 91232.75, 120492.95, 8655.53, 5263.94, 129449.14, 5147.45, 1516.55, 60771.76, 2033.71, 96409.08, 668.2, 14847.56, 15300.0, 30088.3, 50701.61, 159.72, 94829.03, 5016.29, 20303.88, 15820.8, 5322.36, 36559.35, 4089.04, 111.05, 58825.06, 6864.78, 14013.98, 9923.14, 37405.2, 5600.41, 48437.8, 14248.5, 24483.45, 535.53, 6848.49, 4464.11, 64192.14, 48110.46, 97145.51, 565.61, 78482.94, 542.88, 79831.36, 5603.98, 39353.51, 70349.39, 89855.47, 12155.61, 17064.57, 50589.33, 3882.9, 35786.26, 552.99, 30620.3, 60463.23, 8375.3, 53217.06, 54347.18, 62338.09, 1897.5, 66736.97, 45400.0, 3030.0, 46426.48, 1898.2, 14869.29, 35990.68, 2656.41, 47194.86, 13436.85, 50935.5, 6401.2, 12453.28, 10450.76, 13914.56, 15686.81, 3165.3, 6316.31, 29686.31, 55048.79, 1187.97, 3748.84, 140896.35, 48581.1, 1927.9, 58292.03, 40363.34, 20557.14, 9210.06, 25687.8, 8316.68, 6865.68, 70245.36, 3369.5, 66136.02, 25487.12, 79499.56, 4412.2, 3376.06, 36716.98, 10294.63, 53058.6, 137827.39, 20244.27, 52070.9, 364.17, 143073.92, 3964.33, 122546.16, 1323.46, 558.0, 19569.6, 122483.27, 62079.55, 81876.74, 420.24, 29999.8, 24212.11, 29666.36, 75583.16, 50656.51, 3390.18, 1776.49, 36484.57, 46907.14, 5012.06, 533.35, 13451.0, 140.3, 25633.44, 117724.84, 17460.3, 7014.89, 1832.41, 72609.55, 274.24, 55134.59, 3080.56, 24351.25, 94289.72, 45975.89, 87291.35, 935.48, 2043.26, 29630.39, 10727.75, 943.75, 3075.3, 77945.78, 60086.42, 5871.89, 13790.01, 73340.07, 81798.08, 25070.37, 15368.43, 2507.37, 4022.08, 394.74, 55972.95, 35641.26, 82860.24, 12518.87, 15603.0, 542.11, 13909.76, 111532.03, 12959.36, 10638.06, 46869.58, 2911.66, 813.17, 45288.0, 10113.24, 37346.1, 32911.54, 3195.19, 43256.21, 62080.44, 102263.71, 3147.62, 61646.9, 1414.68, 73826.92, 49660.95, 83819.73, 1158.17, 137408.4, 6349.27, 46545.14, 19272.32, 5992.4, 73171.54, 1322.22, 60079.32, 374.0, 103910.32, 676.96, 6169.66, 6169.66, 12438.16, 53186.76, 3504.02, 344.91, 550.76, 129.83, 30593.16, 46142.53, 20557.14, 6532.6, 1066.83, 102859.71, 35116.9, 7664.54, 58812.0, 12675.78, 49194.54, 46783.98, 94306.98, 11099.81, 30595.3, 33901.45, 35725.5, 17889.08, 27546.81, 33242.6, 53463.59, 29162.0, 36484.04, 81520.51, 111303.08, 20170.8, 47898.07, 92096.23, 1433.66, 35053.7, 6165.83, 740.5, 9488.81, 37711.99, 12185.26, 62219.56, 4651.95, 5329.46, 14682.13, 22232.52, 1461.25, 283218.16, 26871.88, 224581.41, 135.49, 18900.98, 96005.72, 9341.32, 2165.41, 7465.2, 26163.98, 1368.4, 23804.37, 307.49, 16676.74, 154.28, 13768.73, 13948.2, 51938.7, 86503.79, 21379.43, 35657.44, 72471.83, 24967.76, 20557.14, 100288.01, 10717.11, 29689.66, 943.12, 30077.32, 2480.54, 10699.17, 20441.5, 25273.83, 6465.26, 4787.15, 250.65, 2547.62, 384.19, 40125.72, 26174.21, 2475.92, 982.23, 245.52, 101911.06, 437.03, 80712.97, 91698.03, 58250.96, 52222.45, 138.0, 26016.6, 16419.81, 138855.79, 129.98, 3588.66, 75857.87, 353.0, 35083.6, 90471.22, 8401.94, 4271.46, 15749.77, 63493.14, 5076.47, 8325.28, 3677.94, 1908.66, 17781.95, 5297.74, 4622.77, 16770.2, 65524.03, 22380.84, 13775.24, 24383.19, 4624.12, 3216.22, 3349.04, 44401.73, 37664.35, 1373.74, 304544.13, 26796.0, 185925.6, 1854.79, 56252.7, 6266.08, 34634.58, 14780.25, 246804.43, 20301.25, 10848.34, 1898.9, 809.08, 99679.37, 10651.32, 104521.65, 934.04, 59067.0, 154514.62, 840.81, 47444.42, 111789.07, 2699.57, 683.03, 443.54, 14639.08, 123738.49, 52495.25, 1256.18, 40953.58, 590.07, 11048.5, 2641.77, 65475.39, 17705.7, 953.76, 8331.72, 8543.6, 99614.29, 36778.76, 9592.86, 36255.2, 6080.9, 20947.72, 4994.54, 1514.13, 11088.0, 40709.2, 8399.82, 11098.1, 49051.14, 4483.77, 56387.93, 196.5, 12844.8, 19912.32, 21949.59, 27410.36, 43830.0, 58830.66, 22319.91, 14872.66, 34096.29, 22975.32, 1162.8, 21384.12, 41029.73, 88888.4, 3025.46, 4649.37, 94961.12, 5256.34, 17312.48, 1668.26, 929.63, 4545.13, 56056.51, 221.78, 54240.63, 73316.34, 82139.36, 37028.16, 29981.12, 1898.2, 1663.2, 4854.5, 21960.16, 17969.28, 46251.5, 20109.17, 27195.56, 1210.67, 58705.97, 59908.27, 61204.45, 118663.57, 20726.05, 5932.48, 4612.95, 59819.69, 156985.69, 13780.56, 879.94, 27604.75, 2858.49, 4332.93, 26136.5, 6423.9, 84906.65, 375.47, 80910.53, 45973.14, 71758.83, 41441.61, 26457.46, 18705.96, 21133.86, 339.14, 146976.21, 22258.31, 20219.53, 16360.32, 50565.09, 9194.85, 19898.5, 2270.41, 70799.81, 18212.4, 18726.81, 39711.81, 346.98, 16745.48, 1938.4, 10449.54, 44705.56, 85137.55, 15367.2, 42083.86, 18480.89, 43115.76, 2156.37, 8856.33, 187.1, 52588.8, 4881.55, 1.72, 109803.49, 21382.72, 103585.98, 9054.14, 2058.4, 25412.53, 13331.48, 269.37, 667.08, 17079.75, 96124.4, 138509.11, 4496.28, 23686.25, 28409.71, 1189.23, 4555.21, 77.38, 784.0, 85293.81, 48180.58, 96442.59, 17882.92, 490.32, 442.37, 309.23, 16772.34, 787.85, 1420.92, 67104.0, 3758.82, 6244.64, 27566.66, 70786.95, 6016.06, 14947.32, 17622.81, 91028.57, 56013.48, 71279.12, 418.77, 3601.71, 63442.8, 37943.78, 289749.0, 13165.85, 4258.8, 1375.39, 9986.67, 9234.87, 32481.88, 6341.2, 51330.08, 42420.67, 106230.82, 31485.19, 7530.95, 9043.17, 21607.01, 12321.3, 808.47, 15725.29, 32421.9, 3989.88, 825.6, 19882.84, 1329.23, 1898.9, 14512.05, 3525.23, 837.1, 48979.93, 44494.84, 90781.74, 13653.86, 81793.84, 71087.16, 33036.48, 2388.04, 78446.63, 1284.66, 38064.69, 16444.8, 20018.28, 31029.84, 49295.52, 119.95, 72869.67, 58195.58, 15958.8, 2833.9, 71963.24, 58894.97, 9357.92, 29971.61, 31300.66, 13249.81, 3960.32, 4020.03, 12244.5, 8949.7, 15370.73, 76891.35, 10162.65, 433.09, 26664.9, 111710.89, 30624.23, 10856.38, 189.89, 14350.9, 16260.34, 433.16, 82755.14, 8949.7, 479.22, 67893.79, 126448.89, 25992.84, 658.38, 5273.66, 19.47, 27149.01, 72080.64, 20738.24, 3444.47, 25007.49, 3731.07, 52663.69, 27314.13, 1216.66, 42498.82, 20729.98, 50223.78, 54176.26, 61768.33, 39481.6, 114629.56, 55306.98, 4945.18, 5982.13, 136634.06, 19568.34, 11164.29, 37856.85, 83388.13, 36023.92, 17799.0, 28803.5, 210.2, 24759.23, 13406.91, 15539.04, 587.76, 28461.16, 93049.85, 3103.67, 22059.09, 17968.32, 1053.99, 44845.06, 44955.54, 7473.74, 111421.78, 78159.25, 9730.2, 77857.78, 18217.6, 7951.33, 12720.49, 5589.61, 145734.04, 63727.48, 9490.33, 74333.52, 78.95, 34165.66, 14213.88, 7075.23, 18444.24, 48605.29, 33654.41, 4756.05, 54119.54, 115.8, 12577.07, 9870.73, 7222.1, 1327.5, 6052.84, 2118.96, 13234.68, 1109.46, 2806.47, 4120.76, 4461.84, 6507.93, 13471.5, 3609.6, 19019.0, 22134.76, 2090.86, 5903.19, 92655.48, 3458.11, 3510.72, 2006.5, 7589.15, 8510.44, 914.22, 47210.06, 2375.73, 67282.02, 95394.06, 52478.14, 3320.21, 16051.78, 30860.91, 7261.09, 49330.8, 44713.09, 941.37, 242.78, 549.7, 59715.08, 62212.76, 19041.6, 44892.56, 368.88, 813.17, 1283.28, 18705.19, 36012.49, 14902.17, 70920.3, 1782.19, 18373.82, 47181.81, 16332.18, 25754.05, 2359.4, 12382.3, 94223.2, 1897.5, 36576.02, 1435.06, 87519.02, 7025.11, 19974.27, 13237.44, 132.72, 10958.04, 42605.34, 556.77, 535.83, 3309.78, 51628.12, 2352.97, 24955.0, 17032.24, 20535.45, 9497.45, 10997.18, 24652.62, 94.68, 18980.89, 4681.5, 44007.08, 16533.86, 14624.72, 2216.0, 14546.49, 6933.16, 78405.23, 55239.77, 36006.63, 60621.57, 15636.25, 51407.61, 43600.98, 13171.65, 73062.37, 46128.42, 41440.26, 1927.83, 40427.81, 26038.76, 7505.49, 16769.15, 63002.45, 11753.16, 126229.88, 1293.27, 16815.72, 7352.98, 128717.77, 6038.2, 8114.5, 99179.89, 112016.81, 1410.1, 23346.64, 52168.28, 1094.28, 73736.62, 68705.74, 1221.52, 1246.82, 3497.58, 1620.29, 74349.59, 25961.25, 8178.0, 2178.24, 45388.79, 4962.42, 2322.73, 8865.18, 2271.37, 3032.34, 50040.93, 1075.14, 1104.13, 36347.71, 59390.59, 1555.11, 3141.47, 13953.97, 1897.5, 15409.68, 90253.78, 73882.2, 16528.77, 37212.44, 432.55, 65714.21, 12967.81, 102766.75, 65379.0, 3021.88, 729.6, 33036.2, 7774.26, 32621.41, 53531.85, 12658.3, 69953.2, 19410.26, 10377.6, 235.26, 16333.63, 52272.33, 20564.4, 19732.21, 113651.12, 5262.11, 102835.78, 70974.89, 10653.11, 13657.2, 9222.81, 18163.2, 13603.02, 54994.88, 32337.0, 26130.41, 30211.58, 15260.54, 110640.53, 14023.24, 31890.04, 84649.31, 1044.28, 137982.89, 139037.45, 28883.69, 21098.23, 104893.38, 14661.68, 37116.01, 31783.05, 16469.98, 2366.95, 30252.18, 2798.96, 34257.63, 177180.84, 10151.21, 3515.71, 7913.79, 4039.37, 106191.93, 4646.28, 201126.92, 37320.0, 13823.78, 6717.78, 110964.09, 27860.09, 16561.97, 36533.15, 55776.24, 4076.79, 1633.32, 19856.07, 2045.5, 882.33, 17055.03, 1086.0, 284.32, 49203.84, 60528.38, 43345.67, 4785.84, 64.73, 24905.49, 3310.15, 1392.8, 66617.91, 14718.86, 138.92, 7487.96, 1757.95, 34187.64, 12583.02, 170.51, 40739.65, 63425.86, 43498.28, 13993.49, 2826.43, 17098.11, 108063.0, 10896.41, 6248.53, 1771.98, 53514.76, 14896.25, 2752.67, 7454.24, 2792.34, 11236.3, 1780.0, 127547.22, 655.11, 1897.5, 85475.25, 1251.07, 10279.5, 108823.58, 12498.97, 71021.87, 3067.53, 9218.5, 99548.84, 2225.58, 866.98, 6061.98, 7054.08, 83731.41, 5482.88, 3880.79, 30536.52, 23916.21, 102019.59, 3661.4, 143.49, 69915.13, 43940.75, 660.64, 105806.29, 7499.13, 83079.09, 147530.17, 119756.86, 5792.84, 38991.31, 35954.58, 26724.49, 96944.29, 22786.47, 105060.54, 11445.45, 46118.73, 7717.82, 46060.95, 11458.35, 24710.0, 23310.39, 2620.0, 7986.91, 1344.84, 36407.41, 16417.05, 3702.21, 733.09, 14043.48, 3500.9, 42052.61, 52336.97, 2730.92, 8949.7, 1329.23, 80217.83, 53828.38, 6243.32, 261.48, 13304.6, 92905.15, 163140.62, 59565.0, 234.1, 15052.6, 19594.52, 109230.15, 1329.23, 62.49, 168567.74, 35.73, 27865.74, 127724.65, 5020.66, 5495.8, 11150.18, 2851.2, 15780.16, 18280.61, 413.52, 1563.0, 21483.04, 2352.97, 68059.68, 62233.76, 9451.2, 8422.14, 15333.8, 4675.5, 13269.93, 2167.93, 42657.33, 8187.84, 2652.04, 27903.05, 45123.51, 1757.16, 17445.87, 8766.72, 30823.65, 132802.02, 282.44, 10770.76, 6558.01, 72265.1, 243.67, 20527.02, 432154.68, 45648.68, 85995.71, 8501.55, 58158.86, 5208.86, 1426.81, 15132.0, 17827.11, 3324.72, 9381.8, 4843.09, 8632.17, 45345.65, 5534.3, 116507.5, 13372.52, 11654.71, 17841.56, 55125.89, 15949.91, 33907.13, 41904.41, 387.9, 39596.51, 11701.8, 78341.19, 130158.8, 6532.6, 5907.53, 16317.84, 3742.8, 10614.26, 166.35, 1118.71, 38164.22, 12668.17, 137769.41, 9410.0, 15834.78, 17502.65, 125881.39, 166906.79, 114293.89, 54774.34, 12925.6, 9421.8, 53537.2, 29537.32, 12779.16, 10168.0, 9625.6, 128416.53, 10412.4, 244.89, 3797.1, 754.7, 129450.65, 40030.18, 4613.2, 12531.46, 34162.83, 5899.5, 51988.89, 766.6, 26188.17, 14656.5, 49885.92, 12620.42, 107380.96, 7285.51, 29306.14, 134051.95, 1056.51, 27.6, 21220.48, 10889.91, 23149.71, 30063.58, 16293.87, 18171.98, 152.97, 1618.62, 73664.82, 157147.11, 13672.96, 813.17, 28274.4, 1355.36, 39675.03, 9866.81, 8457.15, 24705.53, 22297.98, 77002.43, 14590.57, 8542.17, 2128.48, 515.4, 4971.55, 5094.27, 260.61, 14531.13, 6472.88, 334.12, 3589.4, 3542.37, 19528.45, 21732.48, 661.11, 35845.77, 4161.64, 8040.03, 13451.54, 2807.37, 1897.5, 6371.76, 126.24, 9903.23, 10960.81, 80481.74, 37675.68, 50512.66, 2310.97, 86395.16, 20596.88, 9522.58, 6532.6, 459.85, 58710.94, 23549.72, 15499.3, 153.13, 7608.62, 45924.09, 31541.4, 3732.99, 3804.97, 8460.71, 49113.14, 458.29, 32715.47, 23625.65, 166747.05, 82704.0, 270354.99, 109011.15, 1105.94, 241.08, 78644.18, 41436.9, 32931.61, 5089.84, 35.76, 6017.84, 37367.07, 14954.97, 48826.13, 102.7, 12.96, 38935.75, 14739.47, 2916.31, 4353.16, 4127.95, 85165.25, 60203.21, 413.87, 3599.15, 42891.94, 69907.29, 44801.95, 112348.49, 32477.86, 3744.42, 701.57, 15482.3, 54531.65, 16638.06, 5565.44, 15382.43, 113014.43, 52800.0, 443.55, 15242.27, 2646.76, 2033.86, 3150.45, 99661.96, 9204.8, 104321.11, 85587.54, 15057.5, 17088.18, 24915.55, 2509.88, 535.27, 8328.0, 6302.75, 1513.74, 3549.19, 42386.36, 359.83, 720.96, 92.91, 2722.42, 16293.9, 18218.04, 14465.38, 20727.51, 7311.25, 3498.16, 13696.3, 65383.58, 3315.46, 36866.85, 53066.1, 35116.59, 515.49, 4470.87, 18886.93, 2405.93, 35606.16, 547.06, 126857.77, 13243.75, 6357.15, 79030.97, 12215.16, 97697.72, 13205.64, 228786.67, 342.44, 12888.66, 46008.56, 3296.79, 121117.98, 80772.61, 82637.66, 133579.35, 1459.3, 44103.62, 12132.7, 35613.0, 49999.32, 763.63, 54272.57, 4071.6, 40089.27, 93811.22, 8437.22, 41654.32, 35733.19, 18615.02, 42389.07, 100106.36, 69073.93, 8766.66, 24140.99, 112022.43, 7114.33, 65049.57, 15347.47, 294.62, 318.6, 12430.0, 34070.19, 8816.48, 70478.87, 30690.62, 142.22, 2753.58, 1621.85, 24429.31, 26637.58, 920.91, 28404.74, 16603.78, 369.35, 24523.78, 55941.35, 97261.46, 1617.89, 35842.13, 48296.45, 27675.76, 71768.63, 17085.44, 81217.93, 655.18, 162800.66, 20597.59, 8522.78, 113905.28, 6844.96, 23589.56, 64677.84, 19752.0, 5999.3, 13889.7, 5809.84, 8770.03, 50770.53, 82132.51, 19506.99, 9906.31, 11435.85, 18222.89, 83731.04, 7093.08, 5374.22, 715.88, 19021.81, 12668.17, 22223.54, 77685.22, 1129.02, 203688.17, 12326.24, 13683.07, 24639.4, 79722.78, 139683.04, 23559.18, 24664.8, 6405.97, 17271.26, 30344.84, 9545.76, 46623.07, 35389.45, 442.82, 9912.82, 15590.55, 94816.96, 83238.69, 17806.64, 40239.97, 15619.74, 5580.08, 12769.16, 34581.03, 38183.95, 270.66, 7547.42, 63535.81, 6267.18, 86.29, 2959.05, 19481.34, 81082.01, 14061.21, 36987.12, 13783.08, 118.34, 21656.15, 471.56, 45947.34, 40498.27, 68162.0, 6140.37, 129502.27, 32842.81, 16134.61, 5603.98, 11268.29, 62709.03, 46619.6, 105.4, 11882.01, 1168.1, 44453.0, 2323.47, 24950.24, 19464.8, 14380.26, 625.51, 65804.43, 7704.87, 3493.13, 54165.47, 9758.0, 11731.77, 40004.98, 13088.88, 19958.34, 56278.12, 21621.6, 24435.75, 8299.48, 37550.0, 54405.52, 44734.09, 12442.39, 126.92, 10991.57, 762.41, 34657.38, 3414.88, 933.62, 9973.17, 43173.17, 39121.69, 27571.25, 1306.98, 22688.39, 25812.48, 770.25, 41467.67, 19122.77, 25254.36, 111135.02, 6386.68, 307.12, 13787.41, 55212.74, 13634.5, 50912.12, 46607.68, 19073.13, 71786.27, 6835.99, 1222.75, 1084.22, 2090.76, 136511.25, 52590.61, 356.39, 15094.6, 44743.8, 13890.08, 1410.69, 64181.9, 20754.91, 53454.66, 1414.68, 9736.21, 1526.66, 61.14, 42261.97, 4167.24, 18930.21, 78094.37, 107235.0, 8538.56, 422.49, 14700.77, 5450.76, 44894.85, 39063.41, 18145.33, 28038.18, 9958.67, 1344.49, 11806.4, 1769.61, 22366.8, 3496.77, 1055.17, 24286.71, 18747.4, 4668.76, 7328.08, 550.41, 41345.06, 36923.69, 14588.79, 89303.46, 69795.0, 45199.57, 21950.78, 160368.24, 471.56, 30109.98, 10617.16, 11657.49, 1441.66, 55834.44, 60304.27, 13603.02, 30667.07, 32752.83, 8157.75, 380.0, 71277.94, 3409.9, 41932.8, 54757.67, 569.25, 81657.87, 24686.59, 25143.02, 460.8, 2352.97, 325.86, 22320.85, 70864.76, 39498.16, 289379.21, 24618.16, 37778.68, 46894.68, 5950.27, 47493.9, 1579.98, 14565.6, 11930.0, 139.32, 59398.6, 81004.38, 609.47, 34263.55, 39241.94, 28833.81, 99266.95, 61151.27, 491.64, 67665.75, 13065.2, 64651.33, 46377.28, 16382.03, 1858.45, 26244.57, 27242.54, 9211.98, 19375.78, 1111.32, 46664.02, 8885.57, 56250.06, 26936.97, 58602.35, 9552.22, 110164.51, 39758.48, 2845.56, 50496.41, 22982.62, 27240.15, 35.4, 4180.0, 4087.71, 125382.53, 1180.55, 33546.33, 101794.05, 124.1, 16442.88, 45749.11, 5039.25, 101567.35, 10371.24, 31518.55, 2373.96, 47964.7, 38929.92, 46412.8, 137438.47, 8001.34, 27016.89, 111060.42, 325.38, 75955.89, 16060.91, 71322.26, 6532.6, 436.53, 16858.4, 13370.04, 33000.0, 10328.19, 50178.61, 48431.27, 2142.72, 32595.28, 34552.69, 8742.96, 30888.35, 21016.82, 1587.06, 27205.52, 53307.56, 186.17, 2479.7, 1084.22, 5047.18, 6140.37, 19842.6, 37838.95, 193.74, 5246.24, 6133.08, 31632.94, 2579.84, 41767.29, 10025.8, 84939.21, 31040.68, 131131.68, 8352.67, 38809.38, 1355.36, 38252.05, 30615.0, 45539.38, 932.91, 12141.36, 52383.74, 101.89, 5086.83, 2751.14, 4209.82, 3912.25, 18171.52, 123613.84, 32308.05, 5964.0, 47408.14, 14838.04, 32130.38, 9480.23, 6455.36, 17680.91, 34309.41, 2298.17, 30614.03, 32056.14, 83271.53, 33637.74, 103351.34, 13498.25, 12247.69, 210.9, 30253.79, 9142.32, 430.32, 1081.19, 43712.67, 11826.66, 38346.73, 25257.05, 1403.69, 2147.22, 15309.0, 1897.5, 18930.87, 5642.68, 152541.24, 106995.04, 61205.39, 489.31, 15803.85, 30360.36, 93830.28, 33975.94, 38565.98, 37231.3, 23383.49, 3667.55, 439.17, 172944.41, 69712.26, 40154.82, 6202.0, 17762.9, 18529.8, 15490.05, 7559.17, 119924.96, 116221.47, 55293.34, 10226.24, 33952.5, 54358.84, 55828.11, 102543.01, 1063.26, 16500.0, 46370.57, 736.25, 3288.69, 41373.26, 130730.19, 14502.44, 17858.52, 50641.66, 1495.52, 56167.73, 18847.45, 21142.67, 10598.96, 14529.92, 227.23, 16971.78, 61960.8, 7236.9, 120414.88, 55661.7, 8352.69, 437.03, 13260.73, 38245.68, 6920.93, 16348.78, 68793.96, 109.07, 406.2, 53356.07, 2336.23, 25766.53, 1898.2, 8582.07, 227.85, 6090.35, 44233.83, 556.22, 30494.03, 3797.1, 54092.72, 42191.1, 90691.85, 60238.02, 39620.47, 22259.92, 46059.1, 1301.69, 8219.95, 35588.36, 15101.46, 43984.51, 7317.86, 50425.44, 28347.0, 24.96, 705.85, 29685.65, 9653.81, 292.91, 80626.47, 197.76, 22498.07, 7033.02, 804.56, 13229.5, 4271.46, 2006.08, 83990.78, 77875.29, 55075.21, 4982.96, 48594.72, 130822.4, 1793.91, 128090.96, 20761.64, 125442.02, 1613.58, 8300.58, 13837.16, 16373.84, 1792.37, 102513.66, 111533.54, 94837.74, 18269.44, 14189.05, 45.12, 17577.96, 414.68, 22919.12, 88793.84, 74504.59, 90338.9, 57465.19, 46013.64, 63829.79, 14569.4, 773.94, 78.72, 16789.88, 3607.83, 26633.93, 11380.79, 120453.29, 14427.49, 17416.78, 12601.8, 16238.98, 17377.81, 9384.29, 13822.71, 4057.17, 24072.67, 2036.45, 45946.92, 74465.57, 42821.74, 3075.86, 33789.06, 36770.54, 39714.0, 118402.37, 625.62, 39823.68, 16768.02, 10521.19, 61982.89, 48554.98, 238.7, 53345.23, 12129.19, 1021.21, 14043.58, 50008.52, 2460.24, 23521.95, 11382.07, 82828.12, 12297.6, 13257.6, 84302.44, 92684.44, 19584.29, 6076.17, 4943.22, 22501.18, 13401.88, 1443.4, 33629.53, 24774.65, 40967.93, 13891.04, 41552.78, 39293.23, 18016.4, 18683.08, 3629.22, 73583.32, 76795.59, 20917.63, 63798.89, 2071.11, 7398.84, 8808.14, 285.12, 46113.68, 1898.2, 7239.75, 8557.75, 23599.75, 64822.19, 18048.0, 48971.05, 68535.82, 61643.68, 960.86, 39839.96, 49005.48, 11773.05, 136.2, 12291.12, 125633.35, 38429.58, 7824.0, 84609.56, 70392.21, 4662.35, 8461.4, 1665.11, 134928.23, 10648.32, 618.28, 63411.88, 915.02, 48918.68, 2952.21, 1083.68, 1328.25, 2647.28, 3034.63, 21695.31, 44925.67, 60652.1, 10711.47, 56.76, 93774.16, 237716.41, 10353.48, 20605.46, 77482.4, 65136.87, 22313.12, 60873.94, 3101.18, 80201.66, 42444.54, 45957.07, 146387.21, 86550.11, 18290.23, 48589.01, 4140.45, 118995.61, 34438.87, 280689.27, 1537.65, 33446.12, 58020.72, 1518.56, 3886.51, 80771.71, 29543.32, 20057.36, 5505.36, 64.86, 51.02, 622.82, 3790.55, 53754.33, 82903.74, 12991.82, 63.46, 1845.18, 19397.06, 2161.92, 82.82, 33647.19, 2839.97, 11250.8, 811.42, 12017.76, 2563.63, 33.18, 55266.29, 32405.64, 52919.08, 67208.65, 119860.32, 19136.55, 2122.59, 49105.03, 4326.54, 40112.18, 16947.03, 14556.97, 58981.12, 2127.6, 4524.65, 889.63, 542.54, 265.41, 22814.77, 61166.57, 5759.43, 61232.4, 46530.42, 215.07, 13383.52, 13502.51, 36033.03, 60181.49, 1414.68, 10177.19, 94.89, 52276.48, 10552.14, 17219.24, 318.37, 14394.49, 31722.0, 3467.04, 23178.29, 25838.76, 826.01, 9516.62, 15436.48, 10870.4, 132.24, 1823.7, 2956.05, 1355.36, 1511.17, 56560.44, 9686.61, 177.78, 7330.27, 27409.15, 55292.35, 16451.15, 11241.9, 42219.63, 99.54, 35.73, 13618.48, 8650.37, 110201.79, 38586.43, 22048.31, 121430.15, 17502.01, 35661.43, 97544.65, 69517.76, 33965.52, 91306.98, 6220.68, 1234.12, 2329.43, 83127.34, 47259.53, 20425.99, 54731.96, 38253.41, 39235.54, 10581.18, 334830.7, 52502.72, 9498.0, 2373.96, 49457.43, 65801.38, 47967.59, 16935.99, 10171.52, 9027.33, 581.27, 667.72, 35438.26, 3840.34, 4492.38, 175.22, 28858.92, 8864.2, 66472.18, 87298.22, 123403.26, 50539.81, 9371.21, 19436.33, 228120.84, 260.4, 22730.97, 5219.4, 25450.4, 149302.12, 63691.42, 39528.7, 98961.42, 19632.6, 3715.34, 4781.32, 66867.28, 53090.85, 2007.5, 230268.3, 15963.0, 82835.42, 9909.62, 8588.13, 1890.23, 56034.0, 5141.86, 18392.3, 31296.75, 10898.27, 2669.09, 32961.51, 109.43, 871.01, 95132.57, 785.64, 44947.02, 11008.19, 14524.8, 165.48, 37353.06, 23723.78, 8157.24, 49638.33, 161.84, 42610.44, 25894.98, 101359.71, 43328.38, 2096.81, 15391.38, 871.2, 14420.73, 37444.32, 21329.89, 14457.03, 5358.08, 66581.42, 244.79, 40672.48, 43792.05, 42837.66, 6141.63, 435.22, 1537.65, 763.91, 696.05, 4458.39, 52168.94, 2173.16, 14978.33, 27797.15, 10516.77, 44547.54, 27.6, 3953.34, 94691.89, 43550.29, 471.56, 15124.91, 3761.64, 16529.46, 149849.51, 41828.52, 89662.76, 591.44, 214.36, 20671.17, 3430.19, 36870.25, 12161.8, 30011.18, 95002.11, 28200.33, 2657.95, 78619.15, 66990.01, 42136.54, 15264.84, 14359.44, 7024.64, 50686.08, 30658.18, 81998.48, 352.52, 1749.94, 56300.33, 38043.33, 43464.57, 3676.91, 100490.22, 7791.94, 5631.46, 97696.06, 16545.79, 123298.44, 48579.36, 4460.35, 68481.23, 17850.32, 90483.16, 23272.0, 11384.49, 24612.17, 24695.38, 8580.14, 4705.93, 48873.52, 15214.2, 702.24, 66867.8, 699.98, 5174.33, 21190.4, 8249.76, 55860.8, 3386.43, 57420.0, 49761.46, 91506.61, 42852.3, 2778.67, 357.07, 21346.46, 52181.18, 33725.27, 116060.76, 106553.45, 31256.0, 5784.14, 7826.0, 40916.7, 79571.61, 72239.76, 186.72, 119834.97, 345.48, 76912.74, 34322.69, 34939.66, 1849.24, 1999.62, 46265.47, 74624.98, 23249.71, 7984.32, 50871.7, 78370.02, 995.62, 57881.85, 3747.83, 11162.54, 65189.72, 1808.36, 3631.34, 22726.45, 2836.76, 46385.53, 86965.6, 2094.14, 2183.88, 20113.73, 47398.29, 16156.14, 14380.15, 815.51, 310253.45, 6788.56, 1644.43, 326.7, 18216.71, 46147.9, 166765.01, 17627.3, 70211.63, 9883.94, 67764.41, 19125.0, 2311.88, 2356.31, 20116.12, 1545.56, 69922.95, 813.17, 43050.88, 29382.3, 2441.92, 19674.38, 46948.16, 3212.29, 19528.33, 8296.68, 2352.97, 41765.93, 4965.71, 62056.26, 234008.44, 18398.17, 110327.44, 6504.62, 46363.48, 14483.45, 492.04, 85272.59, 42.66, 20587.9, 13093.12, 25150.63, 16416.83, 11158.09, 1897.5, 567.23, 17580.82, 43410.62, 49747.75, 2093.45, 10886.18, 803.34, 34700.71, 16833.92, 3255.45, 4414.79, 53377.69, 25336.85, 471.56, 23036.74, 7470.08, 65127.55, 923.16, 60492.96, 45582.44, 349.44, 17202.4, 15487.6, 28225.48, 53461.99, 8526.99, 17902.19, 16751.53, 15868.47, 47092.14, 1328.25, 463.98, 367.55, 62583.77, 16645.99, 2353.75, 2804.35, 24797.42, 15264.07, 39736.39, 37720.24, 9656.75, 10403.85, 2750.69, 15725.29, 102229.01, 377.49, 45553.81, 41949.66, 49738.75, 150800.12, 17014.73, 88663.87, 21751.2, 73205.9, 53005.38, 14312.56, 1698.85, 15105.02, 104857.97, 133135.45, 35838.06, 59409.45, 3421.92, 24186.8, 107.17, 79846.21, 533.43, 69671.04, 7168.96, 6669.62, 6797.12, 1184.41, 94.68, 14901.75, 59424.75, 14869.29, 184.56, 27348.56, 2944.05, 26909.67, 8533.84, 106404.13, 16526.94, 52763.23, 601.26, 1192.0, 15692.96, 5758.0, 182756.72, 13355.19, 6663.09, 2469.82, 1741.0, 38778.32, 128274.89, 20885.24, 63352.62, 9264.32, 23152.21, 656.08, 31977.16, 48947.16, 1185.24, 2135.05, 13267.56, 65917.2, 9977.39, 89840.88, 14403.81, 24753.75, 14196.58, 15875.48, 65745.07, 25335.15, 15597.36, 2555.59, 471.56, 15113.31, 36120.04, 19026.01, 777.41, 3729.6, 561.67, 2017.0, 9472.05, 6591.51, 60221.39, 5969.82, 575.87, 310.44, 51635.12, 84.33, 39626.17, 11223.35, 95929.02, 45180.04, 9069.45, 147743.03, 2110.71, 12707.57, 17446.94, 49.74, 85587.55, 120097.45, 35140.68, 37064.15, 262.52, 5208.7, 5158.08, 7996.25, 52798.67, 2626.41, 1329.23, 13678.14, 37635.09, 1759.92, 324.38, 53881.62, 2616.48, 300.0, 123579.01, 551.88, 170657.62, 102021.48, 14242.77, 460.85, 19233.77, 63558.17, 5226.67, 3642.82, 4837.32, 75599.56, 70349.16, 34649.92, 5113.32, 210.12, 21251.43, 352.33, 23708.88, 11857.0, 28537.63, 5561.29, 9655.98, 12382.3, 76971.57, 38785.2, 33778.13, 37532.26, 5736.5, 14020.17, 15959.65, 30462.3, 5101.86, 20287.15, 64678.65, 47280.2, 96513.21, 39388.06, 589.22, 15059.7, 29415.6, 2058.46, 5331.34, 7903.22, 1477.56, 20433.33, 18344.72, 4823.4, 20091.8, 210.9, 33454.95, 31281.39, 7726.52, 2443.75, 14429.19, 112290.73, 11989.36, 13494.55, 7614.85, 232.7, 54801.2, 18058.57, 38705.48, 121289.72, 89416.59, 15013.96, 59847.48, 361.11, 15232.14, 1898.2, 49638.73, 33230.24, 1695.68, 265.2, 6010.5, 489.48, 11946.19, 14954.72, 2197.06, 2312.57, 18425.96, 48185.66, 68867.64, 1147.72, 9696.11, 8688.31, 9254.2, 42736.75, 50476.14, 24045.38, 850.09, 510.6, 3526.91, 1356.55, 13050.99, 49534.89, 17707.02, 494.66, 7067.59, 28712.9, 62056.52, 33046.12, 16741.17, 32481.88, 142.92, 11065.77, 33516.27, 46665.94, 56.09, 153595.76, 44345.19, 8370.37, 41801.63, 47566.69, 1140.52, 4088.18, 21259.76, 16970.92, 118137.54, 9516.13, 11865.87, 36445.61, 140760.0, 48482.67, 21700.76, 27.18, 12297.6, 9615.6, 40362.26, 19438.42, 16221.22, 35943.38, 2833.92, 58.2, 61.89, 510.19, 53254.58, 4396.09, 1897.5, 3520.0, 8745.22, 18514.05, 129473.83, 24150.0, 193.92, 18393.22, 1948.16, 68406.09, 13377.0, 92056.41, 20470.42, 16366.52, 23890.16, 3719.69, 1988.44, 1940.24, 12439.56, 20516.5, 59424.75, 507.94, 72771.89, 92474.45, 21231.56, 16287.29, 4418.36, 44360.78, 7210.0, 105003.67, 93871.72, 14781.6, 56616.84, 13957.06, 29485.66, 3713.35, 141486.29, 27260.56, 40291.5, 15008.5, 432.96, 16635.4, 39912.63, 100237.53, 69784.81, 4971.18, 3748.84, 4851.25, 238559.98, 16114.2, 771.72, 9351.41, 28906.1, 65990.57, 35800.17, 21985.4, 4046.9, 763.23, 25379.88, 154.97, 1535.31, 48794.51, 71241.25, 71092.85, 155024.59, 25259.51, 43019.56, 319.69, 2326.9, 16461.64, 17052.37, 43453.56, 38370.4, 50502.8, 57682.64, 27787.1, 79477.88, 10852.2, 19114.33, 28002.6, 29768.24, 1021.29, 66861.41, 14200.28, 667.18, 55825.02, 90541.1, 1949.06, 48244.65, 14820.05, 2430.92, 25357.83, 46458.87, 23.64, 79509.95, 94799.95, 30.54, 1644.43, 13835.15, 19888.41, 8595.95, 3105.34, 8041.59, 14380.16, 15759.15, 18828.0, 17415.38, 1748.38, 72517.35, 12290.45, 1898.2, 15284.38, 109798.93, 28387.85, 1212.33, 47659.49, 12007.64, 36446.5, 15287.59, 1430.89, 48666.11, 109632.99, 14677.55, 45448.06, 2547.62, 258.7, 187.2, 225590.46, 30843.3, 41687.03, 8706.48, 36753.26, 67198.5, 10589.51, 94.89, 52030.44, 1052.3, 9495.49, 11760.0, 440.77, 8170.41, 6302.51, 41040.63, 17401.39, 16135.51, 28780.76, 16704.0, 6984.25, 40015.33, 92288.44, 39695.19, 44103.32, 898.04, 20647.11, 126702.14, 258.71, 36793.58, 36069.03, 63422.7, 46358.25, 75395.06, 74310.86, 52209.94, 21585.55, 6558.01, 1571.04, 4316.48, 53233.98, 3225.75, 11398.8, 5533.92, 160464.29, 2546.12, 14975.08, 38375.71, 60699.5, 13222.07, 11907.42, 3356.14, 57747.33, 14891.73, 20.01, 34233.17, 7963.09, 43528.47, 35003.55, 17766.7, 113387.43, 80406.54, 23007.32, 1087.2, 58666.27, 40139.37, 12379.24, 18035.99, 8912.23, 1158.01, 8280.42, 9634.51, 8122.87, 18973.22, 87005.13, 106988.92, 17178.84, 5908.36, 59892.9, 25927.08, 11240.68, 40876.79, 28318.71, 18900.99, 78745.43, 17157.25, 456.97, 9065.04, 52750.17, 52022.86, 142479.6, 24173.35, 34707.61, 1758.97, 11433.43, 47131.12, 25102.81, 15513.67, 88876.45, 101008.09, 17519.05, 25977.41, 11483.44, 1213.08, 50088.12, 25346.58, 1768.5, 2932.99, 51803.86, 183023.56, 135963.17, 49199.12, 17727.6, 318.88, 30656.47, 50381.63, 52107.86, 62957.94, 61.29, 9013.0, 79061.67, 65573.44, 19088.59, 85975.85, 694.3, 1118.71, 47225.71, 35064.0, 520.21, 91113.72, 15176.64, 8758.45, 159803.67, 133.76, 15124.06, 60716.81, 17286.51, 23622.72, 54390.84, 12637.19, 13443.99, 9444.0, 16111.97, 2860.86, 43644.87, 404.28, 33338.23, 90755.73, 21379.01, 23121.32, 9758.34, 4255.2, 14460.0, 718.74, 498.68, 11627.97, 99377.04, 2355.48, 14430.56, 139160.14, 166.6, 418.93, 72920.53, 5607.69, 1172.53, 42446.38, 117035.29, 55261.99, 14088.65, 35182.29, 34930.09, 49849.8, 16665.15, 87232.4, 25491.67, 56218.71, 524.93, 1110.31, 1898.2, 49301.03, 4577.22, 16968.31, 61610.45, 861.77, 1207.63, 68669.37, 19825.35, 26747.66, 15161.25, 30583.99, 39793.0, 40903.2, 16325.23, 17609.92, 44750.81, 10783.72, 8052.22, 51029.61, 21204.0, 267.3, 4059.96, 134258.35, 7024.45, 277.82, 7246.2, 34930.23, 1898.9, 4411.89, 26416.61, 7543.94, 6373.67, 19282.34, 10693.56, 5047.45, 943.12, 27846.02, 1898.9, 173.0, 35.56, 55914.33, 6277.98, 15335.04, 22096.8, 72407.37, 89541.11, 31455.64, 13176.3, 3975.35, 35271.92, 51859.22, 5963.78, 853.4, 1244.38, 156230.32, 7704.0, 609.59, 587.04, 2567.95, 14189.05, 20805.02, 8984.79, 5175.57, 33467.52, 3182.15, 26821.31, 83057.8, 14222.91, 2698.84, 1227.86, 64562.76, 3210.82, 17283.5, 37149.64, 42404.97, 18374.55, 34143.36, 87511.99, 1064.34, 4622.15, 60505.2, 22049.58, 9432.6, 99.54, 344.3, 22747.55, 471.39, 14309.92, 25091.14, 20733.06, 88681.9, 27073.34, 1805.95, 15029.38, 20102.37, 12927.27, 1996.47, 180777.45, 7795.89, 6142.12, 145868.22, 37838.75, 18403.42, 1900.6, 31277.94, 2379.22, 113613.32, 23541.76, 28.25, 59908.0, 117271.29, 323.57, 10323.24, 22310.51, 14230.4, 741.6, 1414.68, 34811.85, 60508.46, 63812.55, 1552.78, 22684.52, 48741.27, 8885.57, 5966.23, 14433.41, 18451.4, 102254.13, 14780.25, 13733.86, 50648.8, 10696.82, 14482.58, 2209.43, 1284.57, 12973.97, 31171.21, 4904.11, 8428.21, 120495.02, 165.6, 141942.94, 50169.85, 18180.45, 149189.39, 87594.58, 1823.11, 56.17, 16004.41, 15175.57, 13040.85, 4972.32, 9444.0, 10119.22, 53560.23, 8171.32, 5727.39, 31343.38, 24318.7, 79506.15, 24954.39, 911.55, 7344.84, 2034.82, 276.12, 17858.09, 44200.71, 6367.4, 39678.08, 47006.51, 8039.4, 60304.0, 27870.82, 16368.94, 3592.44, 202.06, 13265.43, 3744.51, 13347.22, 31948.96, 361.91, 1176.22, 13074.13, 107.17, 78.72, 18884.23, 52399.03, 17729.72, 1991.05, 37124.59, 46238.85, 44527.2, 21672.0, 21644.94, 22390.39, 5630.47, 59621.24, 8050.64, 710.9, 1871.82, 34149.16, 407.9, 15111.65, 106764.43, 15323.73, 1800.0, 214806.93, 4727.04, 29604.94, 71612.84, 4439.47, 7042.04, 14575.02, 1511.3, 26229.85, 22614.6, 27793.93, 7824.0, 95817.59, 23147.77, 380.77, 6649.13, 18433.34, 23476.98, 9485.46, 8552.89, 3874.24, 3434.93, 20102.93, 19934.15, 980.64, 88231.0, 40795.68, 17478.5, 24669.34, 27765.11, 57052.75, 44242.64, 8640.39, 4103.1, 35342.78, 331.08, 1153.32, 23422.39, 311.84, 990.86, 33.18, 56866.71, 75728.61, 1235.26, 18352.23, 107575.36, 4110.61, 36309.1, 64415.58, 326.19, 14076.38, 7939.84, 51885.88, 5775.24, 49072.62, 68469.27, 66866.07, 138.04, 12159.93, 42839.04, 2519.37, 10740.6, 7180.2, 178.56, 743.07, 38598.32, 84709.19, 13427.8, 261.33, 44341.2, 7468.88, 48577.34, 4289.02, 12566.18, 56257.4, 2027.47, 6615.67, 6414.0, 89585.89, 2606.32, 17053.85, 15564.86, 11428.98, 36753.18, 64499.55, 23322.31, 8301.66, 18112.5, 106572.08, 38898.99, 18462.71, 1640.06, 52235.03, 105141.5, 12252.23, 2025.11, 32566.97, 248.36, 24131.44, 9683.1, 81.0, 10174.64, 6179.61, 1291.05, 121.46, 36341.68, 51099.83, 83490.43, 4714.08, 54911.68, 25705.9, 36167.92, 38928.67, 22013.84, 893.14, 934.34, 16222.0, 1027.66, 7938.49, 13.55, 16128.31, 21833.67, 8704.75, 23152.7, 142183.46, 124198.31, 25986.51, 10514.77, 1876.43, 5611.23, 1338.66, 32761.97, 55191.6, 49942.81, 4412.71, 131080.37, 11637.72, 13693.2, 20690.78, 78879.93, 17003.33, 6891.47, 14539.2, 50340.82, 18791.4, 768.99, 6231.34, 35917.39, 38384.34, 1923.79, 21884.22, 15284.38, 35643.2, 24397.98, 27907.73, 94775.73, 13717.6, 132438.5, 1825.67, 80235.73, 9515.15, 36520.64, 41448.38, 257.3, 405.5, 39310.4, 508.09, 232.68, 7765.64, 45478.36, 133044.69, 105814.93, 102439.69, 671.04, 105179.42, 16334.67, 23727.79, 60389.08, 29307.34, 1233.19, 14156.41, 2382.55, 14139.2, 18420.49, 13878.4, 813.17, 13768.73, 11991.86, 72607.66, 8940.75, 65304.57, 3852.16, 49781.46, 9694.65, 5012.11, 1106.11, 48786.7, 53511.98, 105179.61, 604.58, 38287.62, 17401.71, 2487.11, 89041.02, 49153.2, 14207.76, 17191.0, 52617.76, 90576.95, 18635.51, 78561.4, 84016.09, 57589.02, 6730.0, 61262.53, 47232.45, 14349.3, 12134.27, 8982.76, 52226.29, 32534.81, 532.6, 33812.4, 22133.66, 271.61, 185245.63, 154826.31, 533.28, 6190.64, 21294.35, 96.13, 8041.59, 15192.31, 146906.38, 11243.22, 2916.42, 60076.26, 29241.71, 29861.15, 33787.55, 11597.09, 14803.72, 26832.03, 9790.2, 1733.06, 30039.56, 6706.69, 377.1, 86455.62, 34678.79, 8563.84, 63258.33, 36903.2, 93567.85, 16226.89, 2486.25, 35630.62, 1482.19, 202994.47, 55040.19, 6685.51, 12691.99, 20680.69, 43445.51, 345.26, 9302.98, 34243.8, 43374.53, 15546.68, 50487.06, 68417.91, 553.56, 15039.2, 2169.19, 15499.45, 10229.27, 2285.48, 4762.44, 555.77, 25546.15, 46028.72, 1348.58, 54586.95, 17.51, 15169.96, 21114.18, 3407.88, 38879.48, 23416.21, 55326.94, 1286.25, 136556.75, 10221.06, 55741.43, 594.22, 16186.7, 29501.4, 14276.8, 11423.69, 113320.31, 1176.19, 50849.75, 8874.3, 1086.06, 72314.46, 32489.53, 19812.45, 8421.88, 62254.53, 153943.19, 355.76, 2332.4, 8993.03, 30088.54, 50809.09, 1897.5, 6085.14, 90494.92, 11506.39, 90238.79, 126784.67, 13404.66, 40678.81, 42872.52, 45134.55, 63928.69, 53829.59, 1774.01, 14650.68, 76095.77, 70590.06, 2977.2, 30291.18, 45633.61, 130.68, 11938.6, 96728.3, 542.14, 2237.43, 323.26, 2382.55, 19630.12, 90922.96, 14785.04, 426.69, 70324.72, 128.07, 6330.14, 3075.3, 10322.5, 12017.08, 82859.81, 15623.54, 95091.48, 4583.76, 2726.63, 76021.01, 107788.83, 1582.28, 5517.02, 19894.37, 144798.3, 227.57, 13631.69, 33173.76, 1115.78, 47170.66, 3182.84, 165.65, 699.38, 69919.55, 27534.35, 19834.17, 1897.5, 82362.75, 16269.12, 20558.16, 71520.15, 51264.34, 485.06, 17951.98, 20276.38, 60469.79, 75417.07, 282.84, 20557.14, 49709.59, 297.84, 14070.44, 19896.81, 5524.02, 34175.96, 27712.8, 96841.41, 48959.18, 18058.51, 28368.15, 954.09, 71668.9, 705.29, 1919.23, 256.91, 17934.41, 28056.55, 470.4, 44608.2, 77579.39, 70825.46, 1349.68, 3796.13, 27146.25, 46292.65, 2246.27, 43.67, 13840.72, 18747.19, 4839.91, 16063.35, 13419.32, 126220.22, 37393.72, 43494.11, 54371.76, 8880.18, 3665.86, 87302.68, 3803.38, 84521.74, 28842.1, 1768.72, 629.67, 19546.51, 46264.17, 73246.28, 4737.46, 39099.55, 15622.04, 88890.62, 50246.05, 18591.15, 20462.99, 813.21, 1246.5, 23808.94, 2964.21, 41740.03, 3607.48, 29629.22, 21042.94, 28716.03, 23417.75, 22449.68, 54523.64, 102201.73, 52254.32, 1686.52, 4186.44, 561.81, 43109.75, 37428.28, 3287.27, 1315.89, 5477.52, 20045.38, 3040.3, 27343.33, 65695.08, 2056.67, 67689.7, 22085.14, 16823.04, 7385.25, 7667.47, 19278.98, 69483.33, 372616.5, 3007.12, 30383.36, 34745.62, 49.0, 132879.94, 2699.01, 10092.6, 72467.31, 14204.16, 567.13, 8959.08, 11782.62, 1898.2, 32293.85, 47081.49, 2392.83, 34466.4, 237974.76, 2692.78, 12762.14, 2762.46, 11270.9, 9802.64, 5348.82, 18626.37, 1925.89, 37538.2, 25657.27, 292.05, 68328.2, 22763.45, 1538.27, 209547.33, 18927.1, 81800.02, 101821.82, 12761.12, 100593.53, 33564.05, 74201.97, 690.84, 1276.1, 15283.67, 16706.69, 84596.94, 3254.05, 58573.47, 913.38, 26202.7, 92.04, 4633.46, 31468.74, 19934.56, 3058.94, 6882.32, 183.52, 35888.33, 16257.51, 14908.25, 57573.02, 89424.0, 57895.52, 9051.6, 14729.23, 23482.91, 6237.03, 40794.57, 8620.54, 162781.4, 14856.77, 51478.05, 53383.81, 60947.04, 25279.84, 8488.26, 64212.75, 11921.11, 91953.56, 21473.59, 52449.14, 4065.82, 14404.24, 16690.96, 25959.21, 6892.64, 6503.29, 83471.67, 4469.7, 14706.54, 15437.26, 12674.07, 6801.9, 36694.78, 12500.33, 17661.07, 56693.71, 141295.84, 43395.47, 175913.7, 543.87, 44675.23, 22947.87, 96134.79, 19064.32, 28862.07, 18007.0, 50284.45, 67801.59, 72729.43, 3496.82, 26523.01, 22228.47, 448.37, 17898.66, 52211.1, 55406.21, 3403.8, 2201.38, 10274.43, 72594.59, 19424.0, 7824.0, 14772.55, 9117.96, 19378.45, 26572.18, 1329.23, 22882.66, 110094.73, 7425.68, 6646.82, 34224.37, 24183.56, 34244.74, 48283.17, 159.42, 134439.02, 19559.58, 311.84, 580.48, 13961.34, 22351.2, 61147.09, 45985.22, 9062.72, 1897.5, 35754.3, 39693.36, 9073.06, 61779.17, 533.1, 39878.38, 36294.02, 118436.63, 37722.27, 14013.31, 11641.68, 23105.68, 9564.33, 194.22, 130507.17, 9331.39, 2586.64, 57820.28, 23029.15, 49428.24, 74873.42, 71088.71, 62031.68, 84762.01, 2373.96, 990.34, 28811.88, 308.58, 13065.2, 21718.34, 85630.9, 20707.94, 64790.47, 48051.64, 4107.55, 4140.87, 161754.48, 289.28, 38400.15, 5712.93, 1997.0, 3319.94, 60245.09, 55406.31, 14112.4, 159353.94, 490.17, 466.99, 10655.31, 14135.58, 7304.88, 31672.39, 1403.69, 13925.99, 19287.66, 110313.69, 24678.84, 1056.58, 58326.58, 17283.51, 63.48, 2062.03, 7276.24, 25233.46, 81981.02, 68567.42, 28312.78, 112744.13, 102758.21, 3650.3, 81990.01, 1606.64, 3526.22, 45229.1, 68156.06, 12078.65, 63414.59, 25865.87, 23955.12, 20237.52, 44543.22, 32181.63, 19358.32, 18151.19, 162553.62, 80233.31, 20989.8, 75867.84, 498.3, 5200.79, 27051.05, 84713.1, 5625.41, 326.2, 43924.28, 51129.87, 151758.79, 59545.2, 26940.47, 47618.52, 43142.4, 10262.45, 8793.09, 66659.31, 10027.52, 168.82, 22923.95, 3548.14, 27082.27, 4940.69, 47669.75, 3756.2, 25904.68, 15870.25, 21052.0, 27.0, 46551.46, 16776.0, 52034.52, 2536.36, 271.07, 37299.06, 3661.68, 16143.31, 19247.38, 8944.92, 61868.37, 1206.6, 3739.31, 16288.34, 14611.05, 7792.66, 12116.04, 8984.8, 5684.58, 5911.88, 18260.37, 42594.28, 564.97, 49881.8, 13599.15, 51516.4, 760.33, 119544.81, 96.92, 58128.87, 18230.74, 1604.53, 17114.2, 9926.85, 14355.37, 5762.86, 6254.49, 21335.27, 32715.47, 14850.94, 67476.22, 757.83, 11637.84, 15732.49, 34364.44, 23913.6, 17021.54, 26607.14, 119701.51, 60688.18, 9161.76, 7496.78, 16138.96, 13696.51, 9103.31, 1329.23, 30906.29, 65387.6, 1696.79, 106962.6, 18185.6, 19308.48, 6883.72, 6358.04, 6504.13, 471.04, 27801.95, 582.44, 1339.91, 125.72, 11333.84, 53721.42, 46237.82, 13258.8, 1161.36, 67057.49, 5099.32, 7837.31, 377.46, 2169.37, 15820.8, 6540.38, 99394.73, 2181.1, 19953.37, 1328.25, 52261.3, 13734.98, 16814.04, 17739.34, 39921.41, 11354.18, 7387.34, 12016.34, 136923.15, 32975.13, 53111.19, 43257.07, 36496.62, 73711.95, 10977.44, 47908.66, 1375.51, 17854.08, 14928.99, 136633.19, 115494.9, 1565.13, 267.54, 110150.24, 6275.11, 33553.82, 9747.39, 6144.28, 253.14, 37237.74, 58741.37, 16012.92, 13870.56, 41735.64, 173.19, 31598.79, 62256.85, 37143.75, 8788.72, 31077.04, 7035.19, 305.04, 119912.33, 21305.25, 60395.17, 19463.64, 56407.39, 418.79, 28068.86, 2602.43, 1170.04, 16546.68, 22410.91, 59718.7, 13770.35, 122.62, 4052.04, 683.28, 579.56, 39010.03, 7359.4, 20651.55, 19304.01, 55479.07, 46637.62, 488.48, 23036.75, 8121.28, 50869.89, 446.16, 54792.63, 46379.09, 14741.72, 70804.56, 15972.46, 41379.3, 960.0, 13483.35, 426.66, 13020.94, 78346.78, 15284.38, 47072.24, 45842.26, 72007.0, 27300.69, 30782.51, 13637.99, 32715.47, 166567.66, 2012.7, 72699.0, 2487.18, 10389.82, 2213.17, 4972.08, 55.21, 26127.36, 22826.89, 76702.33, 14321.78, 8814.4, 151400.73, 1898.2, 16968.03, 15284.38, 16420.57, 35123.21, 13999.71, 17240.58, 13433.7, 3635.41, 8771.31, 18952.21, 62147.18, 4471.68, 4437.79, 20505.61, 4025.0, 37607.4, 10204.89, 31.32, 33979.35, 25569.45, 44664.0, 130744.79, 38782.64, 13941.95, 173200.67, 38457.48, 67838.74, 20625.14, 20809.25, 68649.81, 13432.58, 141663.52, 5638.82, 59897.98, 47709.73, 91784.71, 1897.5, 78330.65, 4218.82, 14912.29, 26381.25, 59422.4, 7630.17, 598.08, 147859.04, 12247.44, 5950.56, 9334.3, 40638.01, 13629.49, 1544.6, 21744.2, 60713.89, 4474.44, 22744.8, 590.11, 20026.12, 30610.94, 17842.83, 10957.94, 9804.6, 7014.98, 7415.34, 632.16, 7697.2, 2911.66, 31067.49, 3593.88, 15009.75, 9233.8, 130059.08, 27116.64, 10447.18, 267.53, 2984.84, 640.62, 482.56, 8902.09, 21585.7, 7793.91, 2169.75, 77807.01, 14027.64, 68032.73, 4162.26, 300.92, 3748.63, 102855.6, 250.47, 29198.6, 75054.6, 38371.0, 3367.11, 12405.81, 140382.04, 331.09, 1897.5, 651.72, 4204.5, 3980.14, 5276.15, 50651.52, 157636.91, 3702.77, 20574.03, 61483.08, 8680.3, 1383.79, 54396.6, 2853.63, 31488.57, 61174.1, 91.06, 93389.97, 37941.3, 9032.42, 88941.94, 10713.98, 15848.12, 91332.02, 40370.06, 1686.2, 22637.83, 9900.59, 9782.85, 8996.17, 77357.73, 31283.17, 26836.43, 25749.33, 11477.64, 15926.52, 196.83, 4485.6, 86589.13, 8916.58, 70863.22, 14545.47, 36988.96, 16503.74, 40100.18, 128948.33, 20720.4, 24575.88, 106201.07, 1555.38, 13928.53, 2039.01, 823.4, 3958.76, 51548.31, 1542.91, 7440.64, 12.27, 24915.12, 15049.14, 136154.06, 67643.86, 943.12, 79586.27, 59807.7, 14296.46, 3462.95, 56135.82, 18883.96, 32246.25, 8419.57, 1084.22, 2409.88, 24224.64, 15039.16, 29372.11, 67504.41, 21622.03, 20770.57, 16992.28, 10780.9, 38356.41, 20.89, 75866.79, 21439.16, 46240.1, 661.11, 264.72, 58428.91, 39137.38, 20567.31, 471.56, 14824.32, 1792.66, 151443.79, 5616.05, 14780.25, 5401.64, 35071.31, 19440.0, 47458.63, 5045.25, 21235.33, 627.68, 847.52, 10933.74, 2584.39, 136416.19, 8301.29, 29780.07, 123621.2, 7978.78, 1935.12, 62515.18, 502.45, 100696.28, 32701.89, 258.24, 19146.36, 144055.07, 1791.42, 2981.6, 27095.99, 10483.01, 6268.91, 13753.58, 1017.17, 26496.0, 36950.92, 37515.26, 11982.22, 200.47, 49569.86, 61272.22, 14521.93, 60937.84, 277.69, 11006.63, 2501.78, 35317.77, 356.96, 50870.02, 6631.28, 21746.36, 55649.96, 16531.2, 111.37, 7887.0, 9910.65, 8011.02, 16370.93, 471.34, 1430.4, 32340.08, 40440.19, 2693.18, 24750.72, 34632.82, 19408.87, 21767.29, 47926.15, 1951.4, 59935.2, 102228.2, 3336.74, 18662.09, 13279.59, 1014.79, 12180.8, 230.39, 17283.5, 135408.0, 111142.93, 33422.48, 12543.05, 116679.9, 39184.32, 7265.26, 2403.46, 33268.01, 67061.87, 40.78, 23232.0, 39282.91, 6981.23, 4457.22, 16006.84, 18922.8, 16860.31, 6441.42, 64110.23, 4662.29, 803.74, 12676.0, 1681.4, 8041.59, 32730.33, 96.8, 19154.67, 24724.05, 153423.35, 1031.97, 52681.8, 952.8, 14607.94, 135024.35, 17916.0, 12310.34, 7536.5, 64551.44, 68606.52, 5547.1, 16450.17, 1898.2, 4931.28, 2373.96, 1201.72, 3427.2, 15576.04, 22441.44, 16418.96, 131739.92, 76611.69, 10873.92, 29534.23, 3125.13, 25333.87, 9448.48, 16905.41, 19686.1, 62233.04, 21088.3, 27240.11, 86840.55, 67288.2, 28071.31, 27033.45, 21049.8, 926.42, 88605.01, 12867.79, 283.68, 53186.76, 3884.03, 43914.21, 2478.0, 112735.3, 40328.12, 152350.1, 6249.47, 142392.2, 12750.57, 12350.94, 111981.99, 73410.3, 31990.76, 2820.7, 195.37, 64759.39, 31818.94, 43445.42, 375.66, 25694.09, 103715.41, 10119.61, 31391.94, 12187.27, 17803.97, 11777.65, 36870.24, 9210.56, 56489.43, 214395.69, 349.18, 8424.0, 41695.45, 2479.06, 57170.04, 40122.83, 4345.88, 14135.59, 11403.65, 92380.18, 15521.24, 1007.52, 16207.68, 48178.09, 68300.12, 79995.39, 13084.96, 151169.6, 711.9, 72266.81, 3344.76, 189370.37, 30894.36, 40624.16, 1504.87, 89036.0, 44663.08, 471.56, 3206.0, 56563.51, 81956.3, 16329.53, 58063.29, 5396.22, 82542.94, 36748.22, 4956.15, 45552.9, 249.58, 2800.84, 48063.36, 1897.5, 55528.69, 86692.06, 16574.34, 52435.98, 4034.52, 1823.2, 86845.86, 13474.84, 20557.14, 8923.4, 2137.45, 3052.23, 537.75, 14926.39, 111185.49, 33023.12, 14943.02, 15467.14, 20723.72, 5275.72, 20526.53, 30103.81, 11780.98, 24277.15, 44046.97, 34667.29, 28476.58, 210114.12, 74651.85, 197370.14, 110861.17, 6864.64, 6640.59, 78488.53, 24399.05, 65099.88, 22442.57, 1451.69, 54388.49, 50372.07, 73427.82, 142642.22, 17157.25, 97574.11, 12577.41, 120826.31, 34893.75, 21206.57, 38919.94, 32150.78, 49763.45, 95851.0, 49642.91, 37918.19, 56053.07, 31762.56, 136281.23, 904.24, 14131.35, 813.81, 52898.48, 71136.24, 127320.2, 2179.94, 44409.67, 15031.26, 6361.83, 17283.51, 6532.6, 20307.45, 15185.06, 63806.32, 17361.8, 51204.13, 1319.14, 122105.64, 20815.54, 142.22, 1646.1, 7837.29, 127395.84, 512.94, 32884.18, 68093.84, 27459.08, 51927.33, 1452.0, 12733.2, 8351.46, 110182.1, 1983.35, 44681.69, 154992.09, 1127.39, 34011.5, 3621.71, 419.17, 118558.61, 16476.19, 33936.99, 523.68, 1084.0, 3975.4, 162264.09, 2890.84, 11209.07, 8067.73, 121.92, 11517.82, 1103.33, 30313.12, 524.0, 34205.58, 6091.58, 12356.33, 87474.36, 15359.86, 19325.29, 3540.6, 72.96, 12194.13, 15266.18, 5840.28, 50720.07, 3778.24, 121380.93, 7647.82, 17147.05, 5611.14, 32740.22, 3153.22, 21334.1, 15478.72, 21592.99, 30567.49, 411.6, 14832.72, 8164.91, 131224.6, 1520.66, 38964.14, 113739.37, 11521.42, 87898.12, 1725.22, 75013.13, 66007.84, 1456.08, 2440.16, 48319.9, 11986.68, 14341.36, 1825.32, 264.09, 93290.29, 28028.7, 8585.3, 80458.73, 49565.85, 813.21, 119927.91, 28572.89, 45290.72, 42257.21, 70957.36, 2982.64, 133261.78, 51291.07, 574.43, 1668.01, 100442.98, 26250.96, 3978.07, 152612.55, 99106.34, 95.13, 7696.3, 1044.75, 3023.93, 18294.64, 543.42, 106700.47, 58204.46, 2777.32, 3995.95, 33812.02, 20361.94, 412.84, 68592.51, 562.73, 66942.85, 23480.21, 17900.61, 831.72, 25193.7, 47028.02, 7994.24, 165235.31, 101403.39, 31039.61, 81193.52, 31565.19, 60245.21, 683.91, 80663.29, 19139.0, 68082.29, 2478.0, 58239.2, 2758.17, 47237.21, 861.54, 160950.0, 115934.3, 18278.1, 80641.2, 81972.0, 8560.89, 14102.94, 47.28, 9108.0, 13178.79, 900.29, 32012.62, 722.42, 73633.62, 14100.24, 8527.68, 112160.86, 6290.67, 13867.0, 1557.26, 360.48, 22944.71, 8889.94, 3929.72, 52573.63, 13976.95, 69930.8, 90176.31, 68964.07, 51915.6, 536.11, 1306.48, 2373.96, 93981.51, 6474.89, 921.49, 1504.11, 139833.73, 97702.8, 32699.65, 23356.62, 95452.86, 46661.63, 6338.85, 14525.74, 17634.29, 94373.82, 23625.47, 1544.66, 28003.87, 8050.18, 19221.41, 21996.86, 85756.34, 5616.23, 19250.04, 56301.39, 53944.79, 32975.2, 51789.05, 6083.79, 3849.08, 227.14, 16949.49, 56.48, 4952.07, 7391.31, 20063.42, 20856.51, 21952.86, 5364.09, 97759.21, 141.6, 13619.2, 68589.7, 3494.61, 74743.59, 10476.93, 27946.64, 471.56, 24935.97, 3418.19, 49071.81, 12181.61, 71518.89, 375.85, 5941.08, 88389.51, 15876.02, 3780.95, 739.08, 21496.19, 15033.74, 273.43, 37242.01, 8710.25, 21881.04, 37825.46, 24162.76, 107.26, 32357.19, 11300.19, 263.7, 58891.87, 9139.06, 29214.33, 437.03, 15140.32, 47501.42, 6718.95, 6761.88, 25729.62, 10228.8, 3199.76, 270.22, 32773.58, 6805.17, 52662.88, 3096.28, 1338.34, 27429.64, 25277.92, 126750.53, 126787.32, 2295.53, 13861.06, 6881.7, 140450.42, 84919.69, 2869.92, 45710.7, 623.68, 19612.12, 10229.13, 2461.72, 6749.1, 21471.51, 15304.27, 73275.3, 27081.6, 43977.55, 47030.52, 48807.43, 43911.96, 67439.61, 45123.51, 211.44, 5123.45, 5654.58, 44500.0, 34879.25, 1435.06, 54319.32, 2537.5, 14624.72, 5360.6, 884.52, 11246.51, 24793.44, 55751.8, 81941.96, 4967.36, 58491.28, 14257.65, 3703.19, 32215.96, 69174.26, 4744.92, 35781.9, 25298.59, 21990.8, 85395.35, 14437.42, 15280.78, 34090.99, 7532.37, 65103.19, 9454.24, 30770.87, 43134.23, 629.05, 25294.01, 105580.66, 6382.0, 115.2, 224.68, 26408.91, 40141.37, 64718.76, 29403.27, 1849.47, 137390.97, 6027.41, 54187.81, 45663.48, 3690.13, 53041.6, 16381.68, 13185.28, 17319.8, 3160.29, 320807.55, 36407.41, 3147.84, 13038.64, 165.65, 4804.67, 17011.51, 5630.89, 126246.86, 12965.4, 8774.0, 6604.15, 40180.92, 1959.21, 17611.07, 26948.34, 60876.19, 5058.62, 72180.63, 42737.21, 19639.94, 4395.33, 29596.42, 14397.95, 16734.4, 458.36, 63997.57, 26863.27, 45765.88, 756.28, 1897.5, 15129.36, 23811.51, 5434.91, 88718.53, 1245.32, 2970.73, 4277.1, 54290.04, 3155.47, 3701.28, 72353.98, 1991.84, 64605.53, 74575.29, 29681.81, 67973.03, 11501.0, 1915.22, 47504.19, 53229.18, 7074.72, 9115.65, 107958.94, 104245.36, 76974.71, 11920.48, 40643.0, 7635.81, 5721.66, 54859.81, 3807.07, 9515.24, 19751.0, 18986.14, 92154.41, 11553.71, 2169.37, 100810.18, 144890.98, 10010.41, 334.78, 559.08, 19400.16, 162.19, 25874.98, 5981.06, 20463.72, 14257.92, 29107.2, 56579.17, 81819.29, 24221.96, 1938.18, 291.69, 84062.61, 127621.85, 4355.07, 67643.36, 1623.59, 57726.41, 12281.14, 47946.87, 1383.34, 9211.12, 50757.44, 14235.87, 957.85, 3611.88, 99254.52, 113962.89, 22382.3, 23677.99, 734.15, 11704.32, 52676.33, 2734.71, 100671.78, 33686.06, 56202.42, 50810.74, 6187.99, 2426.52, 47115.9, 21418.78, 1106.16, 1414.68, 7834.03, 12055.14, 750.24, 27865.26, 152072.07, 15068.04, 125628.64, 51342.05, 37205.54, 11036.94, 721.01, 17464.47, 266.57, 69505.05, 10053.91, 3833.2, 17083.94, 162089.66, 51953.28, 433.25, 20557.14, 5797.15, 111054.25, 3591.79, 63185.27, 78880.85, 30533.1, 2962.02, 28073.94, 27014.31, 632.64, 2352.97, 6394.96, 15878.12, 4086.31, 1712.71, 7040.71, 14013.3, 467.4, 88886.96, 5498.36, 14167.26, 3270.04, 16660.35, 16342.04, 3088.18, 5797.93, 30013.56, 476.54, 11969.3, 21236.5, 20384.66, 3947.94, 387.9, 14257.41, 10323.24, 2329.46, 54396.99, 5024.54, 120599.76, 17530.53, 1636.3, 18598.13, 11289.4, 5516.91, 25240.75, 5590.2, 46079.04, 15929.25, 11425.98, 69139.45, 12832.43, 1319.78, 103874.96, 2281.45, 889.88, 38589.69, 239.19, 44030.97, 1057.79, 2352.97, 60082.22, 90412.21, 16278.34, 39022.44, 965.04, 62235.98, 7212.97, 1193.42, 37136.03, 20830.47, 280.25, 1531.33, 36885.0, 14114.83, 97538.51, 15365.28, 17924.38, 14922.36, 98969.54, 55367.7, 1897.5, 59857.62, 93570.22, 5383.72, 29268.46, 34732.9, 163235.29, 45567.65, 21312.36, 449.43, 22925.4, 17025.11, 1897.5, 864.94, 51700.88, 5625.41, 95801.16, 1547.09, 589.11, 42391.3, 3631.58, 10859.54, 3010.21, 3294.0, 13017.44, 148.44, 120876.06, 19933.35, 15805.63, 119192.93, 26756.71, 6612.07, 63374.54, 11753.68, 76764.66, 17103.77, 49607.7, 10148.18, 9805.94, 20771.57, 3064.01, 30841.74, 20836.17, 59749.9, 286.37, 63815.05, 2172.77, 14751.81, 1898.2, 1184.83, 66032.57, 43600.4, 30711.58, 25947.95, 3925.81, 57658.91, 616.2, 108345.51, 26049.96, 25520.63, 28404.13, 201.24, 883.03, 47837.38, 1452.94, 22018.46, 3856.07, 5455.44, 38720.45, 92339.92, 4718.14, 8610.11, 49131.4, 67505.61, 21653.45, 14991.58, 1898.9, 32793.73, 3270.04, 174243.65, 6967.65, 7214.47, 8951.22, 13795.18, 42406.67, 331.77, 13529.54, 65213.46, 36845.0, 40322.63, 30737.71, 48412.21, 321.48, 3225.75, 14653.42, 12693.1, 23935.0, 1080.9, 98697.85, 4674.0, 25163.92, 9113.88, 353.77, 47954.59, 10779.22, 964.24, 76641.0, 59114.88, 64397.46, 31.56, 4022.09, 2646.76, 7745.5, 22747.37, 198.75, 14744.13, 80150.38, 171572.23, 4200.6, 31536.0, 14109.7, 44165.17, 1746.92, 44591.76, 75252.72, 22134.99, 55647.82, 847.72, 341.88, 53826.32, 5104.36, 103603.05, 43946.05, 46960.0, 164383.2, 65422.93, 14163.92, 15090.0, 57349.58, 184.11, 61015.8, 4872.6, 55289.12, 43024.32, 9744.33, 9222.81, 8878.61, 124.09, 17627.25, 28904.8, 41957.04, 6969.0, 60920.63, 176.56, 18489.84, 1406.08, 10194.24, 7618.32, 51232.56, 10289.28, 81.0, 37871.95, 174.04, 13103.07, 18143.02, 134713.82, 13810.21, 19627.35, 52853.43, 875.9, 8422.61, 157.42, 37544.94, 58226.4, 130.62, 1919.23, 81806.61, 943.12, 43007.61, 9081.08, 27301.69, 63203.38, 50032.03, 38881.23, 6807.61, 199.37, 6256.0, 24872.39, 13347.14, 107808.26, 32234.7, 2149.54, 45570.17, 87038.49, 74590.57, 19635.65, 1173.67, 10462.05, 53926.58, 20191.93, 12067.52, 78028.37, 15507.88, 9117.16, 64481.81, 20014.4, 10267.61, 17760.5, 24045.38, 55310.42, 17128.26, 4011.76, 20984.9, 125930.35, 5832.37, 1457.7, 99798.79, 83348.04, 20478.61, 91891.32, 119577.34, 44509.36, 698.09, 1897.5, 4628.68, 119506.36, 93682.93, 12216.7, 316.32, 12757.71, 768.48, 158765.5, 553.84, 90601.02, 1748.14, 82771.65, 407.56, 12830.43, 91265.95, 472.36, 48795.81, 23973.87, 14747.52, 34595.78, 34063.19, 118437.88, 3298.51, 722.22, 4363.7, 39653.36, 24928.63, 24522.98, 22868.44, 65104.65, 992.44, 12386.5, 5090.0, 14441.44, 84520.44, 111480.69, 54656.34, 4057.61, 1008.38, 27391.84, 8883.2, 34539.16, 86514.48, 48250.95, 83756.45, 23413.75, 6794.85, 6900.82, 22993.12, 169.7, 705.86, 9969.14, 54794.5, 14849.9, 39408.91, 38128.5, 14906.65, 8405.09, 24383.09, 1932.08, 8749.62, 3134.04, 42132.21, 245.14, 338.28, 101876.13, 960.83, 2557.56, 54.22, 11508.99, 73489.44, 22093.2, 70602.34, 276583.76, 70372.96, 38324.93, 29925.51, 54670.59, 46436.19, 9826.92, 91130.57, 25467.58, 1898.2, 8259.98, 35.4, 4104.0, 2613.8, 103.14, 39756.88, 13217.76, 46438.63, 48101.12, 65731.1, 51267.45, 19167.01, 22465.13, 7563.75, 40892.15, 43703.2, 107356.77, 178608.89, 1744.45, 164134.7, 15493.7, 6946.32, 5783.45, 63369.57, 23374.65, 20102.37, 5640.39, 66666.07, 20756.25, 2798.3, 258.5, 24160.29, 19436.31, 1715.7, 16360.32, 52201.77, 124071.36, 6386.68, 7707.43, 38747.61, 131758.04, 68599.47, 13888.27, 5726.44, 1275.6, 16682.04, 19284.12, 569.61, 1768.27, 6890.87, 147614.55, 6976.6, 943.12, 14918.0, 104459.73, 28216.12, 6532.6, 101124.29, 15236.06, 8096.0, 105304.29, 56590.26, 163871.43, 2373.96, 288.75, 18003.84, 383.74, 11701.8, 24046.0, 506.55, 33153.48, 8805.54, 32937.98, 39779.08, 48242.59, 2972.62, 1695.68, 11276.67, 1900.19, 20937.51, 41419.73, 7513.35, 100567.98, 49142.17, 13459.88, 32041.64, 1626.33, 19937.12, 73107.45, 16549.84, 117023.69, 4978.6, 31454.09, 17509.74, 16415.87, 5744.8, 4610.6, 17308.28, 156.12, 21334.1, 82247.19, 15780.26, 24300.0, 31123.95, 27918.85, 18530.67, 6280.01, 98299.21, 9245.77, 84503.89, 7230.3, 36994.59, 78370.79, 14384.37, 44029.28, 29764.05, 17151.54, 26571.2, 69357.34, 292.06, 821.38, 95005.2, 39117.9, 38345.98, 51057.99, 61379.78, 1983.35, 55064.12, 10164.51, 4137.42, 13789.99, 6623.09, 14431.52, 14250.69, 4918.81, 88447.18, 353.4, 7004.48, 13610.71, 243.37, 132960.22, 25686.93, 40916.45, 13572.32, 1742.01, 7922.83, 29237.83, 104.64, 308.43, 54.0, 46988.0, 11034.17, 17845.36, 58683.92, 12313.34, 117683.6, 13340.16, 34203.1, 48675.91, 47709.64, 14436.43, 8614.56, 57566.63, 75067.42, 396.97, 678.27, 573.98, 378.99, 66778.61, 78.55, 749.88, 22548.55, 21414.16, 2177.53, 684.26, 157053.42, 20009.83, 66868.68, 58695.38, 51684.13, 42615.54, 3130.13, 109492.76, 24776.65, 766.07, 1102.55, 182.22, 38000.23, 10227.05, 143486.43, 111799.29, 30079.73, 46641.8, 33484.37, 240944.64, 1322.22, 963.69, 7074.42, 67882.83, 51138.82, 7985.13, 70048.06, 150015.36, 43202.98, 3790.9, 46411.74, 45212.55, 8655.52, 24086.74, 45696.0, 7925.68, 78962.89, 15345.0, 70434.39, 51992.88, 15437.77, 66759.88, 24547.12, 93053.59, 10482.45, 1312.56, 1485.85, 24168.43, 695.22, 1182.24, 18046.38, 38533.71, 350.2, 2439.5, 31716.81, 81.0, 11856.45, 1898.9, 22889.87, 83403.37, 15137.27, 98283.09, 4272.16, 24912.0, 2918.59, 60882.77, 14380.15, 10679.85, 18764.45, 813.21, 61095.65, 103757.35, 100535.91, 3273.09, 18781.6, 276.39, 48190.63, 6965.79, 57986.86, 7379.0, 6395.18, 63189.0, 18340.53, 14649.84, 14775.4, 13090.04, 1328.25, 6096.83, 55827.71, 6169.66, 439.32, 8273.04, 60412.12, 41297.38, 6319.4, 226.27, 6289.34, 9248.88, 424.32, 82696.39, 77701.07, 72980.37, 99308.88, 5011.76, 1897.5, 15038.26, 15261.58, 85728.1, 32116.88, 1555.98, 48853.63, 5996.98, 6433.2, 425.4, 24854.73, 139.32, 21408.22, 35132.5, 4757.59, 14223.6, 40764.63, 4598.98, 10123.48, 783.92, 110.43, 11011.06, 6059.73, 89453.08, 19940.65, 1593.97, 268.92, 25536.0, 40348.75, 37994.23, 26956.8, 49154.2, 28432.0, 42340.24, 9668.34, 19775.53, 1467.28, 31675.66, 17812.37, 61.29, 85460.85, 21319.95, 75535.5, 13910.71, 20951.1, 22166.6, 7016.35, 20450.04, 149892.57, 10204.74, 34354.8, 36325.13, 28783.58, 4599.51, 52918.67, 61280.51, 77518.23, 10519.2, 42938.71, 6638.99, 911.91, 15264.84, 16169.63, 51491.88, 709.06, 24508.26, 45025.88, 56592.32, 2258.49, 10706.62, 71100.8, 17812.59, 27212.09, 8926.4, 3694.76, 10766.13, 17141.79, 25819.62, 63596.99, 19301.47, 335.77, 45547.62, 38336.94, 13688.58, 46960.37, 4817.14, 15009.17, 79492.25, 369.01, 19028.89, 42904.21, 17210.24, 19084.3, 6749.32, 4390.44, 85528.41, 3796.37, 7515.25, 8474.37, 111585.36, 145246.92, 15701.68, 16551.36, 40652.5, 4504.5, 14999.45, 107570.04, 5331.98, 50803.8, 6390.09, 1811.32, 40849.58, 6895.4, 10971.62, 75181.99, 13286.89, 12727.78, 20175.99, 33.18, 17746.47, 4204.47, 58086.76, 14799.65, 8439.53, 528.48, 11.88, 19565.81, 30692.38, 5649.36, 22189.76, 691.56, 18195.69, 43924.38, 93267.04, 47321.39, 14780.25, 19377.43, 78209.32, 41068.81, 196257.61, 908.55, 19262.82, 32191.08, 132673.97, 88393.6, 33934.24, 4474.85, 231.1, 144845.78, 8926.4, 11837.34, 3308.87, 33559.22, 24783.63, 54911.31, 99160.53, 10492.02, 50919.34, 22963.52, 7053.17, 39.73, 70.8, 43115.69, 2336.0, 201202.34, 30821.89, 4622.76, 561.34, 40563.84, 1558.14, 949.45, 1478.4, 19553.08, 48646.07, 79973.35, 24189.93, 59.61, 7508.52, 608.85, 3409.99, 140688.19, 14577.19, 17474.03, 5672.61, 52901.64, 750.32, 24823.34, 284.01, 16175.3, 41472.23, 14780.25, 74076.3, 7206.39, 14479.51, 8510.4, 168767.12, 179956.49, 360.78, 20752.7, 9129.89, 98.88, 64547.71, 35997.44, 9779.85, 15090.34, 17448.33, 1248.29, 58636.49, 8138.34, 5257.96, 53106.52, 50781.98, 23927.35, 724.95, 8949.7, 40758.47, 6230.92, 41105.8, 471.56, 1991.84, 49251.76, 99850.45, 23570.57, 44020.59, 65713.08, 106.2, 2469.61, 60599.25, 55023.14, 15180.73, 99601.96, 8327.49, 12489.97, 2817.5, 539.67, 233360.37, 24237.22, 43098.46, 15681.89, 55909.06, 364.83, 36148.73, 54951.82, 1263.65, 15561.0, 1898.2, 95329.03, 3307.41, 6181.75, 1477.45, 17497.75, 699.36, 2889.43, 2429.51, 45684.24, 13416.53, 775.38, 46209.73, 58001.29, 25078.85, 17748.44, 39447.29, 20293.01, 1472.5, 1414.68, 47265.39, 1328.25, 5962.93, 597.52, 4443.7, 13621.3, 5837.45, 7597.16, 16755.0, 18817.78, 19335.02, 100.8, 57919.48, 25946.56, 4088.45, 143700.65, 8481.2, 109745.95, 41.45, 39603.13, 18122.84, 1898.9, 5749.38, 94265.46, 2805.52, 3197.46, 14261.76, 12438.82, 149814.77, 13316.91, 80040.39, 142285.04, 110904.03, 207.66, 26205.39, 6982.37, 62609.9, 82371.26, 128537.32, 57809.49, 17607.27, 46223.57, 46369.73, 43564.09, 21500.78, 75527.55, 3008.7, 49157.77, 44527.22, 23362.38, 12241.99, 66206.62, 65882.47, 178.7, 6530.36, 27555.44, 2804.07, 31657.77, 16065.18, 2214.45, 24942.41, 13170.52, 87182.7, 4917.41, 23995.32, 46040.66, 34165.6, 19520.3, 3105.77, 1898.2, 22289.31, 32637.6, 28915.44, 126.24, 74615.81, 9167.0, 837.42, 37016.34, 56057.6, 18098.65, 56786.02, 11274.05, 28222.28, 71384.67, 40198.44, 77.86, 1952.03, 144210.15, 1063.8, 53987.07, 11898.93, 877.83, 262.05, 18697.11, 80435.64, 77683.91, 843.66, 4486.86, 3193.32, 33167.36, 56316.22, 76412.62, 38186.66, 7719.0, 1888.01, 19429.13, 23888.12, 20168.57, 20605.93, 31098.8, 39576.8, 85758.86, 149904.8, 168118.31, 57510.08, 41839.06, 17665.17, 14624.18, 6532.6, 5499.98, 68478.0, 1646.77, 277.49, 50664.15, 41888.68, 88125.11, 65168.73, 53191.01, 17074.19, 37732.48, 55078.01, 3529.44, 44336.04, 16707.61, 32195.53, 39218.4, 14328.88, 61752.5, 666.1, 125339.03, 22551.78, 4821.77, 1322.22, 37310.72, 490.32, 7982.7, 52629.36, 9436.25, 14420.4, 15027.72, 40445.01, 27609.36, 6648.48, 3992.84, 47387.76, 3402.65, 243.96, 15856.21, 46353.52, 2193.44, 46054.38, 107482.28, 14157.54, 1897.5, 44798.28, 88812.16, 6051.6, 26634.78, 34663.94, 19927.69, 112887.9, 4272.86, 32257.81, 20557.14, 22405.73, 46662.93, 209.82, 14624.72, 61463.16, 44569.08, 2207.98, 105890.67, 8212.37, 18012.33, 20480.7, 12433.33, 54821.67, 19912.32, 15043.35, 3208.52, 3868.54, 46020.25, 15736.91, 14624.72, 1894.87, 17508.23, 52600.88, 40740.24, 37287.69, 73372.02, 311.39, 41842.51, 71897.75, 151703.12, 132317.7, 12941.74, 62449.85, 45024.84, 153.87, 7862.66, 705.04, 105908.52, 3041.59, 25902.73, 18.68, 39407.11, 758.44, 38018.82, 18900.99, 26178.78, 1897.5, 9583.85, 157.8, 26062.28, 100294.08, 24753.75, 143460.02, 60078.85, 1322.22, 66091.21, 59967.39, 48142.71, 15020.01, 2414.79, 22405.12, 28378.95, 35351.44, 3357.42, 218478.18, 60899.81, 5265.98, 18141.03, 58838.15, 57674.24, 17286.51, 63376.19, 51663.6, 22180.18, 9157.76, 12095.74, 6114.43, 9541.94, 33.18, 15016.32, 10039.87, 36132.05, 53428.0, 102236.22, 64225.5, 15468.38, 3119.04, 1788.97, 15748.87, 32798.18, 29376.0, 39646.73, 4866.43, 48799.8, 8075.48, 11401.28, 47047.64, 15945.52, 15329.36, 146.18, 3037.12, 44577.48, 27615.13, 1584.8, 29711.04, 8793.09, 13868.25, 101798.8, 2373.96, 1037.59, 629.67, 5989.97, 90262.67, 2127.6, 3658.62, 3609.42, 12568.48, 3693.28, 11945.17, 72937.32, 120324.34, 4591.2, 19436.32, 375.6, 122043.84, 4826.72, 29152.27, 10380.24, 145155.81, 31671.35, 34040.62, 1462.78, 22524.48, 67889.48, 22914.45, 1215.3, 33370.39, 727.3, 11712.96, 38119.09, 35148.97, 20844.75, 28776.15, 2082.79, 6569.86, 62254.37, 30240.55, 454.7, 12969.6, 6528.66, 30213.25, 66443.64, 3240.96, 29502.62, 10087.19, 70558.43, 1450.26, 1109.91, 56246.44, 635.3, 4632.61, 32429.3, 10970.22, 12909.32, 23158.37, 25459.36, 13726.64, 59686.42, 14719.15, 661.11, 826.01, 72282.25, 44276.86, 73050.98, 14719.35, 59.19, 1250.01, 43806.81, 1976.36, 104076.26, 36121.0, 665.62, 8422.14, 26434.73, 711.24, 1087.49, 650.68, 21078.93, 677.33, 16566.8, 65801.68, 10424.7, 589.98, 55928.44, 47394.9, 967.14, 12048.38, 3710.58, 19688.89, 1753.45, 24704.91, 14542.44, 8162.45, 1066.42, 70702.88, 85305.0, 11625.12, 23641.8, 118666.29, 15.6, 7617.25, 2695.43, 370.02, 34439.21, 51.72, 4378.51, 7504.13, 36834.31, 24718.91, 68262.06, 127959.07, 68844.01, 247.88, 10380.28, 23408.15, 1346.79, 92687.71, 19854.65, 23847.3, 188.28, 18625.27, 1950.03, 20496.27, 17902.79, 426.66, 28009.11, 23249.18, 30220.01, 1386.72, 4677.0, 14399.41, 11598.24, 36968.07, 28774.25, 30865.61, 6173.41, 81015.85, 165009.26, 16516.6, 52818.96, 1328.25, 27914.44, 30930.0, 104650.59, 64414.57, 57574.36, 72310.17, 16928.99, 45585.45, 705.86, 2277.48, 152793.0, 19559.11, 52737.17, 7784.32, 14934.1, 6465.7, 138516.11, 3439.4, 14248.89, 12353.5, 8074.26, 64687.37, 43.14, 20557.14, 50467.1, 2067.52, 47605.08, 150.23, 23228.46, 15271.2, 31989.84, 2684.18, 1820.55, 853.86, 20740.04, 177.84, 753.17, 47889.42, 65423.9, 3975.4, 501.66, 23151.1, 18135.88, 12745.46, 3053.27, 3137.57, 18434.43, 297.56, 22481.28, 20035.3, 77943.05, 52320.0, 678.27, 84209.47, 13655.08, 124467.44, 92823.08, 15026.9, 8447.78, 1898.2, 98927.36, 15152.92, 9054.72, 29470.32, 32442.94, 20752.8, 18376.32, 6159.44, 518.9, 58223.58, 11208.93, 22328.99, 12334.03, 31104.0, 1898.2, 1414.69, 35.73, 103681.02, 933.62, 55994.45, 33574.54, 59700.4, 24614.54, 450.4, 14636.92, 16541.96, 7532.41, 17421.41, 18655.98, 2051.68, 41508.82, 53868.68, 20373.95, 60.78, 146165.06, 61410.19, 11084.77, 44871.42, 62593.6, 2888.04, 456.69, 336.97, 66.82, 5061.74, 1458.68, 6532.6, 96001.26, 95237.33, 981.56, 75465.58, 56161.56, 97860.34, 33298.2, 51005.66, 49906.85, 85959.35, 6839.51, 128810.23, 19885.76, 8319.08, 99634.63, 36199.1, 32132.8, 859.59, 545359.56, 4546.93, 32693.73, 13410.03, 33925.1, 3721.95, 17312.07, 12162.5, 29218.92, 1776.95, 25.32, 153312.44, 13686.24, 74.71, 23903.38, 689.91, 229.68, 89060.77, 86111.1, 104.52, 4659.26, 1898.2, 32993.86, 15779.2, 24559.72, 48198.18, 71299.85, 45887.81, 16541.14, 60868.8, 19299.73, 681.41, 51724.2, 902.59, 278.68, 799.56, 53213.25, 5143.7, 96649.0, 59620.05, 134059.46, 9167.16, 32996.27, 20787.26, 101391.69, 31528.42, 64936.97, 82815.58, 26987.74, 24017.78, 12735.1, 421.54, 22951.06, 14159.4, 48648.86, 48984.31, 12413.01, 40495.68, 42064.49, 16329.31, 7921.83, 60627.84, 9173.78, 2744.28, 68641.5, 9533.66, 8226.15, 40724.05, 69343.47, 15501.15, 2199.59, 74363.68, 120952.86, 2774.08, 167.97, 47809.68, 5701.62, 125.28, 325.27, 23015.25, 14189.05, 471.56, 3191.4, 26157.86, 21975.14, 4732.73, 1510.88, 216.36, 102914.31, 51662.57, 28538.4, 29734.0, 50854.56, 25255.76, 33094.69, 714.6, 15554.05, 2565.3, 10962.99, 123.91, 5149.69, 23785.83, 60627.84, 41409.7, 90329.19, 19528.34, 12145.83, 64.74, 106593.14, 1560.83, 88943.42, 116890.03, 23117.02, 32715.47, 56921.75, 25324.25, 24967.01, 96313.1, 51639.65, 485.06, 1487.58, 1886.24, 6517.96, 31845.25, 23362.8, 99249.19, 819.0, 142138.1, 17846.5, 13641.25, 60949.64, 4153.27, 8186.33, 62154.31, 661.11, 15482.3, 1898.2, 11767.16, 48146.51, 22179.82, 84670.38, 17080.45, 125327.39, 3020.72, 45382.84, 33631.11, 943.12, 24358.12, 24191.57, 7848.56, 12828.89, 2891.67, 4476.95, 5790.19, 110492.3, 6916.66, 2382.55, 512.73, 43794.17, 130863.61, 2533.66, 55.21, 51790.34, 2596.5, 14728.33, 15541.24, 15293.51, 822.0, 13715.26, 3470.2, 2977.23, 76581.6, 30843.24, 10240.72, 15703.37, 107538.85, 45493.05, 253.84, 53859.31, 13891.02, 81608.03, 2237.43, 17594.15, 35126.78, 30494.85, 8419.1, 14598.54, 426.66, 75007.74, 4396.46, 7455.0, 142.22, 17587.99, 672.25, 661.11, 49100.09, 49524.34, 17916.0, 4342.03, 88421.73, 21698.73, 1747.8, 13883.15, 17667.33, 1897.5, 19348.39, 128.07, 13820.43, 11400.15, 14001.15, 31.56, 67238.76, 59509.83, 1133.82, 7099.2, 90390.01, 1615.88, 37654.68, 53928.49, 304.82, 26007.26, 152505.29, 14207.61, 9458.61, 25375.0, 76569.74, 19671.76, 9074.22, 950.47, 34049.07, 7260.88, 2312.22, 368.8, 63.48, 41860.03, 7446.75, 24005.83, 1864.09, 117554.94, 3275.82, 2373.96, 63097.08, 177.96, 98938.35, 27465.95, 97848.7, 15928.43, 42106.22, 5824.36, 37646.28, 5124.65, 847.24, 11309.19, 53994.46, 471.56, 4573.25, 14508.51, 5520.37, 38862.67, 16269.82, 5317.42, 55135.08, 70193.6, 92074.34, 103.92, 2547.62, 2426.82, 9975.4, 238408.94, 85278.97, 6247.95, 137.04, 4157.8, 1897.5, 151366.99, 121837.31, 41308.21, 15125.36, 117821.92, 49473.78, 14716.54, 12866.84, 87422.31, 242.56, 13206.78, 12513.86, 1695.68, 167038.86, 60875.73, 641.52, 4026.45, 14162.9, 38622.93, 33093.29, 348.82, 12503.63, 75667.68, 250.59, 76234.16, 40408.81, 110.64, 153454.39, 45985.3, 1867.2, 64961.82, 15645.99, 9854.21, 59231.17, 182.48, 17947.4, 4228.63, 729.6, 139764.96, 43674.75, 8195.84, 17889.08, 18084.61, 4207.94, 64.8, 18294.64, 61037.78, 16045.99, 22708.21, 4754.1, 14994.46, 22555.21, 108475.31, 3586.84, 99333.55, 991.22, 25150.23, 23117.71, 5739.24, 46116.53, 2603.9, 18535.9, 28050.27, 36243.42, 29389.92, 1654.32, 16381.68, 5194.51, 75917.94, 56129.85, 70088.68, 37025.08, 6749.31, 1863.13, 51.25, 786.66, 157009.92, 471.56, 133.01, 37438.39, 56148.14, 23094.54, 3748.84, 5805.44, 146946.31, 4680.38, 16508.0, 7934.3, 4944.97, 87.4, 95349.39, 1695.68, 60.78, 31023.16, 137514.45, 6387.64, 18429.5, 120597.05, 21001.37, 12264.13, 16047.68, 85503.6, 43255.67, 29389.95, 472.81, 70630.5, 50854.87, 1329.23, 355.31, 81297.32, 36.0, 16360.32, 95437.07, 87908.94, 44255.72, 99492.1, 9842.7, 8347.97, 40570.11, 32525.73, 24701.92, 48498.04, 165.9, 97376.83, 36600.84, 21541.5, 8984.8, 36098.34, 11606.61, 13690.88, 7510.74, 63620.49, 15916.28, 3354.75, 33082.0, 65075.03, 32715.47, 58080.39, 73.32, 10520.51, 1183.13, 70784.6, 4584.22, 1.66, 1542.24, 1400.27, 7436.28, 67997.6, 18412.3, 3786.04, 57892.0, 423.54, 117.4, 1991.84, 77624.65, 105959.58, 16337.39, 21183.27, 2400.56, 8487.05, 15168.42, 2246.69, 21769.9, 4153.1, 623.68, 10928.44, 2658.05, 49149.55, 102949.28, 4578.98, 29602.63, 906.79, 16937.41, 44632.42, 138.23, 9144.48, 5556.55, 124203.31, 380.98, 5091.04, 111263.73, 17754.13, 4703.5, 34497.04, 4999.2, 41575.99, 36325.26, 146318.49, 12829.26, 16109.35, 117287.14, 15907.75, 96517.18, 39330.03, 14100.79, 50123.75, 100757.07, 141964.73, 438.55, 1536.43, 303.84, 2634.43, 52950.95, 13455.34, 10937.77, 251683.78, 28232.78, 2092.93, 189.93, 3450.18, 66760.41, 87546.6, 21820.77, 13126.12, 27718.25, 23792.58, 17519.05, 14981.98, 3153.36, 2219.11, 214.0, 2803.15, 3287.17, 407.05, 21926.82, 19744.19, 49743.51, 31202.2, 71.11, 224.09, 14451.39, 26345.09, 119980.72, 200851.25, 41668.13, 1350.6, 15569.69, 48071.46, 153476.09, 24549.92, 38916.22, 14824.32, 3162.92, 47610.99, 45260.26, 17319.56, 30043.11, 113692.01, 17916.0, 33640.19, 19343.1, 135001.81, 4847.59, 5713.29, 133475.25, 3224.18, 165.63, 25066.09, 2645.75, 28769.57, 64566.02, 1077.54, 84723.89, 1176.55, 13524.16, 79007.38, 18606.7, 8528.76, 28983.52, 22254.91, 31308.68, 51859.12, 15724.54, 7197.42, 2038.56, 802.8, 47266.43, 34779.6, 31744.24, 15666.89, 18833.95, 14904.33, 9401.22, 373.98, 21070.02, 775.64, 7257.68, 25359.93, 15301.18, 4116.71, 1972.42, 52889.07, 388144.3, 3238.11, 1549.86, 4582.06, 53757.34, 19148.88, 83319.33, 17740.8, 13598.23, 6022.39, 15380.66, 8206.79, 311387.0, 181488.98, 26995.87, 245.52, 22502.78, 33336.32, 28132.25, 38135.13, 73439.72, 862.26, 132.72, 20424.55, 4821.77, 42382.65, 24783.42, 31838.22, 5141.72, 53098.83, 69758.27, 22480.23, 95298.16, 12745.98, 24181.55, 57790.02, 3795.7, 928.4, 7943.44, 10606.91, 37712.64, 98507.63, 23436.13, 278.32, 13260.08, 100923.91, 12080.73, 21195.64, 5098.59, 128210.95, 69300.0, 146446.52, 17149.88, 407.33, 94556.58, 471.56, 138768.95, 245.14, 35975.1, 14779.92, 769.24, 49510.82, 27111.63, 24017.33, 55.21, 1704.27, 2575.95, 1573.91, 103432.72, 40693.23, 2478.9, 36161.69, 193.05, 129002.18, 8304.68, 7464.67, 3193.82, 36236.52, 233.64, 6892.2, 80926.18, 31172.17, 1382.98, 512.64, 4809.85, 23001.84, 21357.56, 2920.95, 87361.76, 64485.34, 23950.52, 4119.82, 6612.0, 9209.82, 47733.43, 6573.15, 38124.2, 89382.66, 36932.13, 10663.0, 37540.26, 2702.95, 7572.84, 67617.5, 43355.71, 1898.9, 18723.86, 27347.76, 96542.27, 29009.02, 4349.45, 1415.77, 65440.23, 1390.46, 62114.92, 94563.67, 45368.96, 1302.48, 15346.83, 5184.7, 44644.89, 11018.82, 14427.49, 88107.08, 80.28, 14613.12, 13937.84, 4333.82, 4272.16, 2209.18, 61393.52, 5469.12, 1898.2, 1242.68, 21968.44, 11079.7, 68689.41, 13298.6, 27055.14, 46632.89, 7618.05, 2144.6, 39239.42, 665.08, 2142.0, 137383.07, 51218.73, 24218.34, 349.64, 11928.26, 2350.09, 30600.36, 1216.79, 15142.71, 1424.7, 29060.16, 109947.31, 6626.61, 14795.15, 22002.46, 48.6, 6997.57, 21984.52, 5119.56, 24974.53, 41957.6, 38563.92, 2098.14, 8753.75, 130.62, 8091.47, 3792.9, 70195.51, 1078.84, 15141.83, 1435.56, 118.34, 50917.68, 27752.41, 46794.37, 205787.95, 5932.07, 23142.12, 35048.78, 2448.0, 15975.0, 2403.46, 1328.89, 2357.81, 5712.61, 19722.96, 21650.33, 122509.97, 4532.77, 27527.4, 416.42, 14816.29, 20404.05, 7135.03, 32110.91, 123517.36, 15743.67, 32822.76, 17157.25, 99476.95, 24571.16, 146369.22, 52201.92, 70413.29, 1933.53, 7649.88, 127.83, 19045.6, 27168.04, 79244.88, 3983.68, 116027.62, 90079.92, 9539.73, 52547.75, 17960.3, 15955.34, 23227.06, 756.91, 34906.0, 56411.04, 23719.16, 323.57, 12969.03, 1202.6, 1030.26, 2066.63, 2646.76, 1645.21, 120396.83, 6884.97, 3748.84, 4051.5, 152343.61, 10235.12, 18532.12, 18542.17, 47755.05, 1897.5, 46622.45, 12500.26, 176848.36, 9281.65, 109401.7, 1572.73, 13298.6, 67553.43, 10535.24, 54352.82, 7647.74, 3949.69, 13639.27, 4272.14, 232.26, 5086.81, 8553.63, 19436.31, 51314.88, 2195.24, 1207.72, 12705.49, 1470.96, 7179.67, 14048.57, 910.25, 39603.5, 79077.93, 142884.69, 107.52, 2373.96, 6492.52, 9215.87, 29504.99, 4908.46, 391.11, 1519.0, 37738.45, 7198.74, 12508.29, 14485.73, 73850.16, 5473.27, 73421.54, 8348.7, 77948.06, 15072.0, 856.29, 19811.0, 56030.9, 12726.41, 768.97, 133875.47, 19267.7, 44621.36, 98638.95, 978.04, 19436.31, 19349.4, 52078.89, 21952.56, 14631.35, 1427.9, 13584.26, 58642.9, 23328.0, 12523.1, 1081.4, 26588.68, 13124.08, 15424.42, 13883.47, 22329.05, 165184.46, 1227.67, 5409.06, 14225.51, 52158.05, 253.92, 11730.75, 21013.99, 1250.99, 130483.17, 88657.02, 344.73, 16687.74, 102054.2, 15170.56, 67525.12, 28856.06, 171665.33, 6543.38, 30965.69, 18905.1, 22321.48, 101229.2, 99603.97, 42975.17, 16406.02, 789.01, 14825.25, 22746.31, 31043.09, 38822.79, 6295.68, 48326.75, 11700.76, 5387.74, 32898.99, 32511.64, 7246.32, 44110.98, 29994.8, 2987.12, 1493.1, 23248.65, 7513.56, 7617.25, 19961.06, 943.12, 67837.96, 15674.87, 83993.97, 14544.98, 58106.16, 12661.16, 10704.89, 447.56, 23199.16, 1220.15, 101676.81, 44882.86, 64968.02, 21178.41, 28547.51, 1425.56, 40639.32, 13448.27, 1606.42, 1681.8, 35927.6, 6757.18, 48050.13, 33619.1, 16987.32, 32711.91, 26182.78, 10739.55, 9175.39, 517.27, 56718.74, 45588.01, 40222.39, 61647.42, 160.74, 14424.17, 100.47, 13278.71, 17319.8, 49093.01, 27358.81, 32561.16, 11623.68, 25221.6, 17376.48, 27.67, 77343.33, 34094.1, 25534.7, 21738.15, 49360.28, 12592.99, 24791.57, 70101.1, 58483.89, 25415.96, 39116.51, 59646.96, 33239.51, 8994.97, 4524.66, 18254.03, 12277.74, 73992.6, 50098.07, 7935.36, 8510.42, 2019.69, 16556.75, 892.44, 43736.18, 16981.23, 10480.44, 70059.55, 391.54, 18896.07, 49863.39, 22985.58, 20293.01, 340.6, 18098.9, 391.98, 12052.51, 97283.03, 8192.13, 49505.71, 2542.14, 73632.09, 2789.0, 119021.7, 98247.85, 92473.42, 17007.58, 10707.94, 19561.59, 2511.1, 36247.16, 464.9, 17711.6, 1748.38, 59209.67, 70532.68, 68.76, 101471.46, 12635.12, 83813.9, 1889.0, 964.5, 92175.0, 5126.33, 51711.74, 7054.08, 103472.56, 87068.21, 50761.36, 11788.28, 5047.26, 9676.8, 17180.66, 19950.58, 47121.24, 6190.46, 16862.5, 9953.8, 8380.76, 16016.0, 30123.19, 38441.57, 30778.16, 7557.55, 4570.9, 39381.95, 10941.68, 26588.24, 31802.03, 30869.33, 619.08, 73137.59, 15149.29, 3403.8, 28609.2, 58949.34, 14319.56, 3984.88, 33824.77, 14492.98, 68021.74, 14224.25, 30220.01, 407.66, 70079.67, 16611.85, 27887.92, 92233.17, 1563.46, 311.76, 52280.54, 8795.75, 1898.2, 254.34, 6585.4, 122461.54, 440.37, 5881.52, 47614.82, 10994.5, 46119.93, 15376.04, 15629.31, 53646.12, 71815.63, 10236.01, 6059.52, 31085.09, 8049.6, 42710.59, 2985.84, 40160.78, 2791.1, 127595.25, 13870.11, 6454.82, 17996.88, 12325.1, 49792.9, 590.94, 16148.05, 5618.48, 959.61, 109574.24, 3231.45, 3509.56, 13205.65, 59515.85, 1009.51, 53291.82, 32062.16, 92592.34, 11839.69, 909.43, 90958.69, 222574.61, 53980.13, 64479.5, 3839.89, 39373.12, 23151.6, 23323.08, 86343.56, 130.81, 13296.57, 24384.61, 55242.61, 39990.26, 11645.56, 15310.61, 4678.62, 19571.14, 18509.4, 18870.0, 1823.68, 49063.68, 6929.84, 2079.73, 18833.42, 9590.25, 2828.92, 46480.46, 11449.31, 89717.88, 11302.67, 35761.25, 53287.94, 1674.02, 105210.01, 1409.49, 10657.35, 7257.4, 16952.45, 34945.24, 68742.38, 24244.54, 24.72, 32945.89, 43798.14, 218.04, 251.93, 113126.3, 27481.87, 13901.0, 124823.76, 1071.1, 53236.41, 59627.11, 10531.72, 84144.0, 49521.94, 179051.36, 67669.46, 292.09, 39770.21, 134538.02, 10641.23, 17026.56, 854.1, 63414.23, 72843.85, 47679.98, 14183.03, 109300.15, 2278.58, 8537.96, 59310.99, 30673.53, 25015.14, 147022.46, 101455.92, 6424.27, 28330.12, 57407.62, 245.7, 4490.98, 13990.24, 996.04, 4605.27, 13967.1, 1195.81, 56292.85, 95280.97, 86427.85, 1897.5, 109018.5, 20930.16, 51870.68, 9027.14, 42241.46, 3441.86, 2767.77, 31353.28, 6306.31, 25548.06, 41037.98, 164603.47, 23856.8, 121690.47, 1886.24, 7014.24, 15798.25, 15158.78, 42410.15, 1083.85, 25.23, 18739.13, 17870.4, 2949.96, 872.36, 9801.92, 13638.72, 19624.68, 11839.23, 4466.22, 97921.91, 7450.08, 32450.65, 88525.41, 10393.08, 103994.48, 15095.12, 11388.15, 3766.19, 64095.15, 38302.2, 43796.0, 77836.25, 16031.25, 354.49, 28521.8, 14880.43, 188.67, 41578.28, 4617.88, 2356.2, 33811.5, 60128.99, 3508.86, 21605.49, 2640.0, 661.11, 3197.27, 16890.86, 3573.83, 26029.93, 414.37, 58812.84, 83086.04, 33335.45, 52003.22, 74257.59, 215.38, 23536.91, 9440.27, 155.93, 43652.52, 34759.93, 23129.59, 25704.74, 104571.03, 10134.54, 158501.06, 30026.35, 60216.08, 420.4, 6987.79, 46910.94, 11370.58, 38256.62, 30643.63, 2480.53, 34766.63, 89731.64, 27668.2, 73879.07, 12166.88, 67524.34, 3771.14, 44206.85, 115988.85, 7636.45, 1017.41, 25337.62, 4820.84, 16294.57, 2881.0, 41596.02, 2089.3, 19007.21, 17612.34, 68558.53, 22155.33, 55474.8, 18445.59, 321.48, 20758.63, 326989.08, 68677.67, 6072.75, 5949.67, 62499.52, 11670.89, 1283.11, 25400.36, 85384.62, 45162.28, 82880.05, 68294.1, 113966.78, 55228.96, 17286.55, 222.98, 667.4, 26365.22, 1898.9, 13222.93, 14329.4, 134510.99, 519.25, 3254.05, 134178.39, 3817.09, 34881.41, 282121.01, 14303.37, 105005.96, 18096.0, 85557.07, 147.56, 530.61, 33198.69, 54072.56, 65029.47, 8202.02, 126824.49, 5824.36, 147400.53, 5030.57, 5269.69, 18630.44, 14062.5, 23145.25, 2466.86, 76161.83, 20763.38, 4089.6, 10165.2, 40924.56, 19648.08, 3146.76, 13308.0, 35227.37, 74426.38, 73242.94, 4732.47, 39637.1, 1351.58, 56.48, 3609.06, 52193.15, 51548.27, 6532.6, 38974.59, 8495.66, 5623.44, 2019.53, 474.1, 79000.96, 34384.2, 65100.8, 45475.78, 2324.79, 20913.79, 14957.42, 266144.01, 14404.49, 45973.25, 39187.87, 85922.51, 79703.67, 19357.5, 6824.86, 34170.76, 7573.02, 5423.58, 45174.77, 26159.05, 12972.24, 31331.88, 1355.36, 2226.12, 19002.5, 50099.42, 77642.95, 27581.74, 18569.81, 40540.93, 90005.46, 31793.75, 1579.08, 15103.52, 32905.65, 342.41, 527.22, 54865.34, 3268.61, 5580.28, 87835.69, 15456.23, 49719.84, 4975.59, 53143.39, 162006.09, 85289.67, 7239.97, 12238.39, 26205.46, 1059.0, 54807.08, 46704.57, 951.1, 84002.85, 180.54, 3689.0, 3159.0, 24426.19, 34899.19, 397.76, 17854.08, 33230.77, 4272.86, 1071.1, 6712.2, 20681.55, 101027.12, 12798.9, 8278.03, 88737.33, 283.27, 107.19, 3489.64, 60646.61, 361.24, 210.12, 22453.35, 40469.63, 50544.99, 91810.02, 18794.88, 17316.18, 10590.91, 9350.7, 1326.78, 101021.1, 3179.79, 36268.02, 27285.43, 8366.3, 261.89, 48.48, 46635.86, 447.61, 4233.6, 75529.8, 99.66, 85856.52, 1176.68, 8624.81, 242.09, 322.83, 3232.63, 24093.11, 25674.14, 3950.81, 31079.31, 3083.39, 42548.15, 24071.99, 48556.81, 102065.79, 6123.61, 21752.64, 14977.66, 11979.94, 48782.31, 38564.05, 121816.21, 140285.37, 67218.06, 25610.51, 74572.57, 5352.48, 85317.81, 13872.0, 377.91, 11518.08, 50478.62, 19339.38, 82154.72, 1535.38, 35605.7, 37706.25, 598.23, 8374.52, 40257.0, 1630.85, 165.5, 650.89, 3401.86, 34584.35, 3254.75, 20757.38, 132139.87, 22122.0, 292.29, 24020.19, 96406.16, 5299.76, 486.39, 10256.54, 2702.77, 18618.72, 5045.81, 40461.71, 1625.94, 28018.02, 1729.4, 18655.36, 7228.8, 306.43, 57074.39, 36029.25, 8793.09, 4644.04, 65524.82, 13768.73, 53564.8, 4783.36, 15690.59, 19436.32, 2766.96, 68003.49, 5245.83, 89709.54, 6080.9, 9864.37, 11188.38, 62083.18, 333377.81, 56230.1, 97522.28, 136451.71, 39033.4, 75631.78, 71846.89, 13387.04, 31190.36, 50308.54, 32886.06, 37637.66, 16226.59, 395.88, 49738.98, 28956.59, 40085.5, 40105.75, 23220.31, 105607.93, 17968.32, 35064.0, 54559.15, 84347.75, 40452.56, 93315.23, 151784.48, 26540.68, 240129.52, 28324.32, 408.08, 81165.88, 2382.55, 13886.0, 334.55, 129701.28, 11254.02, 80328.75, 97256.71, 34740.97, 46885.21, 52239.31, 2099.87, 38897.09, 29750.78, 7358.49, 483.66, 15833.65, 114423.16, 262.29, 59380.51, 67878.01, 122028.33, 39976.94, 50751.12, 6790.56, 68290.54, 948.75, 568.88, 681.08, 46949.71, 58150.87, 12363.26, 3141.2, 45644.03, 13407.5, 471.56, 1076.66, 232.94, 12382.3, 38737.78, 3296.25, 5539.32, 30639.79, 76938.7, 750.54, 407.54, 9464.34, 2958.44, 62393.33, 22797.74, 1090.32, 21232.06, 1376.48, 116798.59, 167678.0, 21346.59, 21588.94, 31775.78, 15500.45, 54562.53, 738.36, 1371.17, 79082.08, 96027.1, 5622.38, 29556.9, 48268.71, 26029.92, 44616.21, 3978.34, 19798.25, 48892.33, 22552.75, 15777.7, 29636.31, 68388.29, 168204.31, 23317.36, 15848.23, 61750.08, 21072.46, 1422.7, 15353.6, 1318.0, 44468.9, 17478.01, 19224.07, 109065.11, 25488.92, 51577.11, 1817.09, 15480.72, 20282.4, 14196.63, 12876.5, 140496.06, 23943.04, 6024.12, 56173.16, 54524.55, 59456.05, 58261.8, 2332.08, 510.63, 321.63, 47486.76, 7614.75, 8263.2, 13866.82, 26221.97, 1164.47, 13259.67, 12573.2, 22306.45, 738.86, 90.73, 8772.02, 15833.6, 65985.58, 2360.0, 14175.0, 13847.43, 11989.23, 3449.63, 32278.45, 2031.89, 10069.06, 24533.31, 63716.25, 219.02, 2032.37, 16991.53, 41428.87, 1356.15, 14883.64, 51723.12, 15496.49, 17263.21, 66318.81, 41079.15, 13337.03, 9790.2, 666.51, 80551.84, 41423.34, 15323.31, 1951.64, 7140.96, 1793.32, 15580.13, 52236.46, 21376.53, 122287.15, 31274.62, 28788.12, 109073.67, 4408.8, 499.33, 87308.24, 4837.04, 9168.06, 15351.15, 10015.69, 459.32, 60893.05, 17283.5, 34365.84, 59431.32, 18918.08, 11388.88, 11231.22, 35983.93, 16430.89, 31761.97, 10829.23, 62691.21, 507.74, 1481.24, 12398.0, 150839.7, 151535.58, 7534.24, 15194.75, 54514.92, 33151.66, 15179.53, 93405.25, 16321.87, 42096.08, 111676.08, 433.09, 15638.78, 16360.32, 14820.54, 15233.03, 56612.11, 15797.33, 9264.13, 7852.88, 8431.65, 11957.76, 38173.44, 27817.2, 3008.21, 120553.94, 13225.39, 14677.1, 9815.71, 108146.88, 44852.23, 3180.14, 36373.85, 54538.28, 406.48, 977.79, 37260.0, 3099.79, 1651.98, 1032.14, 153242.14, 87287.98, 44054.38, 121358.99, 14780.25, 545.14, 29933.74, 8518.13, 11163.46, 8949.7, 27659.54, 50901.32, 114573.03, 45791.55, 18680.5, 5250.65, 22723.58, 55549.35, 40241.31, 125754.59, 7576.29, 64045.94, 154.44, 384.35, 3795.37, 2903.37, 14437.6, 1433.66, 4830.68, 54294.95, 30665.44, 53985.27, 176792.99, 17119.67, 16008.2, 63769.32, 39144.37, 36642.7, 32122.23, 13950.68, 240.72, 127090.89, 3202.56, 6873.85, 7783.49, 15316.25, 6868.99, 934.34, 60035.96, 54439.86, 53277.43, 73958.76, 9821.71, 23061.79, 25962.95, 6815.36, 919.72, 59019.74, 20919.27, 10695.22, 190.38, 42151.2, 5102.0, 42126.99, 453.12, 8521.03, 92895.68, 1322.22, 5168.44, 2889.13, 19581.2, 73242.23, 4936.0, 12276.32, 32188.15, 388.11, 15872.92, 19930.72, 52319.52, 4967.17, 32725.73, 80768.27, 85660.59, 19238.44, 14208.6, 1622.0, 26005.74, 120345.7, 31880.16, 45529.2, 15843.88, 28860.43, 37386.06, 48726.75, 40859.98, 9872.56, 103995.46, 1915.21, 7497.21, 10318.0, 208.4, 7990.16, 143.28, 11203.23, 16231.08, 47558.52, 47875.75, 22760.31, 15332.8, 24967.0, 11112.57, 2701.86, 15394.29, 5315.49, 82145.21, 39102.78, 17283.5, 8850.67, 471.56, 49404.46, 1897.39, 20840.16, 32715.47, 13047.52, 47974.64, 12947.65, 9849.53, 36750.0, 29358.62, 4073.16, 135889.91, 8898.37, 16275.14, 176.1, 146.96, 47335.25, 380.16, 49427.22, 203.28, 22399.4, 8333.0, 659.43, 48002.38, 35888.18, 62.64, 42961.5, 18879.84, 137521.64, 58363.7, 19007.97, 121526.46, 52892.91, 49580.54, 17781.34, 10421.34, 23640.08, 16933.61, 94.89, 53581.56, 154608.0, 10990.08, 471.56, 179207.19, 27215.63, 37999.97, 81211.65, 180594.96, 15358.43, 661.11, 8949.7, 10996.39, 26039.22, 50965.2, 43108.98, 7608.06, 61.29, 30862.04, 18909.1, 17058.41, 21190.4, 9470.92, 15484.66, 22985.49, 23686.57, 18932.09, 28954.8, 18745.49, 212.4, 3169.91, 127719.68, 110143.51, 1393.22, 7076.8, 276.52, 4980.87, 82969.9, 813.21, 38116.54, 17625.83, 177004.96, 34837.47, 56362.61, 123388.47, 46890.85, 69089.05, 18689.26, 78325.8, 3738.93, 6664.28, 16901.78, 11681.43, 124399.92, 40065.82, 11295.39, 19367.7, 28891.79, 20802.86, 15600.55, 75887.18, 8949.7, 26927.72, 37200.0, 47988.76, 29544.52, 14428.16, 50407.57, 427.72, 2646.76, 39887.46, 13165.7, 63347.01, 200661.87, 43979.68, 32923.05, 22254.33, 13173.98, 24020.0, 557.88, 1937.91, 19986.24, 45135.77, 420.55, 4744.69, 5278.67, 3380.4, 43925.94, 2321.7, 64006.95, 114181.77, 1185.45, 9758.95, 17687.02, 260.16, 15627.36, 25614.97, 177.78, 10957.36, 653.12, 15475.74, 10282.42, 66464.05, 4939.52, 2289.6, 12384.9, 3858.0, 756.28, 79339.5, 198.72, 101459.22, 3440.61, 444.98, 58718.52, 30319.46, 22795.82, 25823.19, 12966.67, 115.14, 63389.79, 65786.89, 3075.41, 29814.52, 4631.68, 71428.26, 60953.19, 8501.69, 30166.31, 3748.84, 4460.1, 757.58, 11216.02, 37883.64, 59309.69, 24675.17, 84.79, 19812.45, 274.7, 17553.8, 17950.6, 13201.12, 75302.95, 33485.42, 60031.09, 13580.93, 1583.43, 52821.59, 12724.48, 65249.14, 100709.66, 6357.33, 52992.99, 8889.79, 37291.95, 460.28, 10022.4, 7514.63, 28947.35, 23861.06, 969.68, 10314.92, 30521.12, 1641.97, 59869.58, 536.76, 122.28, 49885.92, 89956.45, 15979.45, 54139.57, 12071.75, 47253.69, 31338.55, 32831.97, 1414.69, 95558.53, 14575.02, 42940.81, 100660.89, 20905.34, 1120.37, 712.79, 97906.87, 35505.58, 1334.98, 6237.79, 6577.35, 1260.47, 26.74, 24885.75, 17688.72, 471.56, 45650.81, 132515.18, 38314.93, 39544.22, 9874.88, 3270.04, 18728.92, 104109.99, 93177.92, 17078.9, 1309.06, 5807.96, 43349.92, 57106.35, 17472.32, 18026.21, 23327.42, 56121.83, 91402.89, 651.91, 26130.42, 14639.08, 16125.54, 40193.83, 138172.87, 26068.81, 17968.32, 10128.3, 13856.63, 3671.45, 2999.22, 11288.16, 100.47, 37534.07, 21392.91, 97787.87, 34368.12, 35478.33, 16873.94, 8368.02, 68647.46, 78.24, 93667.34, 25067.27, 99009.29, 11053.44, 32304.0, 1230.12, 4211.07, 943.12, 2966.97, 7896.0, 5541.0, 16601.01, 120782.26, 59745.33, 2527.74, 18244.53, 316.32, 54253.25, 68484.37, 3531.45, 6140.85, 22516.99, 150.72, 27790.43, 50946.39, 47839.68, 10043.04, 3795.7, 36342.89, 25427.65, 3594.58, 14156.53, 7500.0, 13024.49, 77637.6, 1886.25, 28288.62, 39518.98, 14036.45, 63620.93, 285.8, 316.32, 71914.07, 5151.25, 15693.78, 36798.82, 55434.53, 98592.67, 74931.22, 4827.34, 3793.69, 60903.19, 90331.5, 76882.01, 13744.93, 609.1, 4419.2, 29988.44, 3078.46, 13885.21, 107356.56, 7824.0, 813.17, 102723.1, 41244.78, 28270.53, 7847.55, 20885.6, 60759.33, 355.55, 53493.35, 238.63, 11231.4, 18560.43, 8109.73, 15888.46, 51251.92, 6125.84, 9955.2, 43968.75, 2807.37, 120620.75, 8093.65, 6960.02, 553.46, 840.07, 62339.5, 13605.58, 9526.84, 13080.14, 55493.86, 146032.7, 2549.17, 36086.73, 10329.31, 18342.0, 74071.87, 103.92, 3266.7, 17267.23, 48160.62, 44515.43, 1144.27, 30781.52, 6270.37, 32950.51, 74368.57, 86643.25, 22055.99, 65445.21, 90048.75, 36768.38, 58437.72, 71236.57, 800.81, 25360.86, 7823.94, 55215.98, 34650.79, 42362.89, 16720.83, 36625.47, 3146.4, 3930.83, 26431.29, 73000.46, 25899.53, 144.0, 100.47, 6480.3, 36864.94, 2321.7, 31814.74, 2551.41, 56893.76, 7512.76, 6474.47, 14065.03, 158.35, 702.3, 74927.62, 44266.2, 6560.13, 17987.04, 10887.67, 48651.44, 132372.48, 9032.0, 1625.05, 60973.32, 69662.73, 2014.19, 940.68, 85091.79, 146227.99, 15814.26, 48467.63, 720.1, 74624.01, 66.37, 2867.13, 53058.81, 11142.18, 51407.61, 34551.1, 3133.33, 305.55, 50000.85, 20899.56, 291.31, 556.86, 30614.4, 1221.62, 25100.52, 14013.29, 1322.22, 12179.7, 9045.14, 10437.22, 150.5, 39621.0, 11216.44, 247017.86, 5101.12, 5342.0, 24535.06, 14301.13, 3426.42, 6453.38, 17017.4, 943.12, 24733.85, 34744.32, 14070.44, 26582.4, 224.53, 17871.6, 116.81, 23583.78, 7346.16, 312.13, 109088.98, 10460.59, 61239.56, 9222.81, 1537.65, 19436.31, 11520.39, 26796.0, 49835.02, 1764.66, 18653.81, 24898.4, 31889.62, 152219.89, 125790.69, 263750.34, 9579.49, 93180.5, 3496.5, 5230.7, 37827.84, 1898.9, 2960.96, 58333.52, 15983.15, 10844.25, 35247.64, 9725.4, 42306.4, 46040.65, 1171.58, 24918.62, 9908.04, 57420.0, 32.36, 41807.86, 46433.11, 12675.78, 95182.4, 24074.85, 175291.96, 9151.68, 75740.36, 162.19, 17339.52, 45089.23, 213.28, 14256.66, 63729.06, 3254.75, 84253.18, 162.36, 226.5, 30857.59, 24967.0, 33553.3, 5495.54, 967.5, 21019.43, 38.15, 4527.34, 17380.8, 26775.79, 1898.9, 31361.52, 12620.88, 39894.37, 5211.94, 552.61, 4333.03, 141253.29, 71023.77, 140.09, 7583.14, 18645.12, 43749.0, 2314.44, 7623.6, 9906.23, 19416.98, 17335.31, 3458.52, 4502.57, 45646.43, 112482.31, 97172.59, 32663.02, 20213.77, 18995.65, 160911.83, 1081.05, 58743.32, 22901.88, 36480.83, 109949.35, 9125.05, 1067.57, 6961.38, 20563.98, 45579.83, 21609.8, 349.44, 52889.76, 1015.2, 8041.59, 346679.82, 8365.07, 52153.01, 2147.3, 96792.04, 6795.92, 50374.08, 44721.87, 18854.97, 16710.72, 1811.4, 16243.76, 32891.45, 163842.9, 43139.64, 11549.27, 46340.45, 5006.8, 5690.36, 1898.2, 78291.84, 6532.6, 607.62, 2321.78, 20930.07, 10412.64, 3028.91, 37687.7, 23750.82, 6267.34, 3629.22, 105275.36, 18639.0, 5388.87, 983.0, 41290.5, 7039.64, 48730.61, 16114.29, 61816.59, 220.02, 56629.13, 2657.14, 1209.26, 51014.03, 5340.56, 224.92, 21691.39, 45150.39, 69748.49, 45623.98, 9656.9, 38359.46, 38633.32, 32506.73, 176.56, 14145.69, 785.93, 204.75, 125.53, 14648.23, 1478.85, 26964.99, 44321.63, 38742.72, 7566.6, 14564.5, 59499.27, 18110.28, 24426.73, 513.83, 58320.72, 10240.8, 26633.0, 5546.74, 152452.87, 126.92, 37609.66, 49443.69, 225.53, 31703.33, 41610.3, 156625.08, 4766.61, 44578.14, 1961.27, 19162.97, 58540.68, 80497.59, 11342.96, 5495.38, 36049.11, 674.08, 3828.07, 23847.8, 81897.71, 23162.94, 54690.35, 16830.0, 17283.5, 84125.7, 6869.42, 38583.48, 15159.46, 14070.52, 17313.17, 21199.1, 3209.65, 2424.47, 4971.07, 26851.5, 2476.92, 8949.6, 1834.86, 50042.27, 46502.97, 20923.15, 11099.81, 38290.84, 10510.78, 6027.24, 64180.98, 199.53, 1495.54, 20026.12, 49260.62, 17444.19, 14403.11, 51773.04, 67726.06, 9436.8, 80222.6, 82.82, 83819.2, 156204.13, 60150.53, 119373.99, 26494.61, 38473.31, 77038.86, 8433.97, 20522.31, 135289.09, 70955.18, 31450.29, 64.73, 1771.0, 156.95, 325.17, 27293.04, 58779.47, 3642.03, 93635.83, 9659.62, 1898.9, 609.84, 33503.7, 54418.32, 20710.05, 11545.63, 15064.56, 64166.64, 7067.08, 96288.5, 84539.38, 30040.11, 21292.05, 51423.11, 49060.29, 5126.33, 163306.78, 10127.04, 2061.0, 1238.86, 471.56, 14853.33, 2382.55, 56695.91, 372.68, 47636.41, 40209.89, 168894.82, 12967.54, 66033.26, 6583.69, 17858.88, 62760.93, 31283.42, 11516.77, 12362.9, 56245.7, 5648.06, 24134.27, 15113.64, 48488.44, 30377.47, 69050.68, 38222.6, 67672.54, 4129.0, 7446.63, 18658.57, 20695.81, 25586.4, 20824.45, 13407.73, 40436.99, 4781.32, 45250.17, 72015.53, 18644.24, 107.19, 109018.29, 31005.26, 805.08, 20651.54, 11854.08, 45238.61, 21909.72, 23613.18, 2841.64, 16563.11, 4862.78, 540.04, 40819.53, 14867.8, 15566.4, 130623.68, 25092.55, 3719.31, 24355.2, 98703.67, 92507.99, 80430.52, 88821.51, 526.56, 11257.58, 6171.62, 32899.88, 9148.05, 87359.89, 58727.48, 61843.17, 292.44, 99165.14, 40925.4, 9392.0, 2294.21, 284289.04, 1943.24, 24372.48, 63658.2, 34835.07, 17193.7, 1090.77, 38657.41, 49704.91, 9479.49, 85699.32, 49615.16, 17208.99, 42024.83, 6629.2, 75741.34, 12457.05, 5752.42, 60679.84, 71136.24, 3232.65, 27753.3, 67636.39, 138343.58, 9491.64, 11555.76, 295.74, 7363.78, 45086.23, 449.64, 20309.32, 132393.38, 32755.95, 12855.13, 72443.08, 27070.85, 52510.23, 44712.47, 9961.09, 12892.8, 4434.05, 58056.88, 3315.46, 8949.7, 1898.2, 106903.52, 44913.37, 8089.2, 12787.36, 2719.01, 43685.72, 1378.55, 280.92, 14763.82, 1706.2, 49401.0, 32673.93, 12060.87, 258.8, 45901.48, 3225.75, 14425.22, 77676.34, 3072.97, 3481.24, 38067.8, 188.72, 12410.96, 791.98, 10096.8, 59197.07, 55473.42, 66.21, 13170.33, 66446.69, 1088.58, 2234.85, 17611.07, 1469.09, 55147.99, 52195.95, 2130.83, 57256.0, 45676.17, 15602.99, 1466.35, 10062.5, 124.31, 17708.35, 3064.32, 16105.25, 12925.94, 22202.27, 40555.93, 13413.7, 4924.46, 16248.08, 72003.66, 69757.78, 15796.42, 14329.35, 23311.53, 40229.13, 92286.11, 40086.23, 3053.3, 629.67, 112392.11, 93174.49, 31136.62, 7208.51, 56325.97, 41792.73, 1581.28, 52446.88, 99.36, 1990.27, 10072.0, 7776.0, 36001.76, 124482.14, 3797.1, 10126.68, 4689.78, 155763.81, 3774.98, 67165.2, 3139.56, 37141.05, 52861.93, 40629.01, 22166.05, 20190.56, 10631.8, 115.74, 63569.5, 19768.7, 61729.05, 62633.71, 7589.38, 41141.99, 22031.12, 30129.72, 960.35, 19468.47, 84356.18, 18980.04, 12764.6, 25892.6, 388.29, 578.81, 111938.15, 23848.82, 3834.74, 15091.63, 1328.25, 20841.34, 70951.22, 3907.2, 8117.57, 34811.55, 1632.98, 59610.43, 15725.29, 86314.96, 22494.0, 20600.11, 4299.68, 33618.28, 1110.53, 1226.02, 39025.2, 48729.04, 61071.98, 66923.26, 107728.84, 26630.4, 4626.7, 340.6, 54.6, 38232.58, 53597.03, 6064.11, 63750.71, 19167.84, 49436.64, 6720.04, 97727.95, 4715.48, 171703.7, 2958.7, 8284.91, 28698.52, 1514.16, 76092.88, 853.31, 31815.21, 152574.45, 63812.81, 14091.16, 713.04, 32784.18, 58150.64, 5402.42, 8510.4, 4309.57, 27534.85, 33536.1, 15512.01, 51004.29, 41811.1, 46063.99, 13650.53, 73066.57, 3135.05, 130097.46, 16587.45, 45507.24, 70268.25, 77366.99, 12934.54, 19912.32, 20644.88, 9444.83, 81113.37, 7338.62, 6057.7, 3391.2, 19999.73, 7214.57, 13793.36, 19940.72, 3044.7, 3846.02, 48758.74, 90600.18, 22118.4, 130.62, 11130.87, 17391.1, 16059.7, 27380.65, 6405.12, 9936.4, 666.0, 16913.02, 4210.09, 34429.28, 7514.04, 4222.2, 27606.57, 45944.81, 85658.6, 1399.86, 10914.23, 5812.35, 43727.64, 48045.66, 26098.24, 55223.92, 19108.73, 90370.82, 3254.75, 1023.78, 14151.51, 487.69, 65170.42, 82735.3, 7674.04, 43958.81, 23936.44, 12278.61, 71626.93, 295.6, 57166.25, 3474.91, 352.27, 1126.36, 14724.04, 130683.98, 6296.25, 13424.42, 14242.77, 86055.5, 13628.6, 10132.52, 15417.92, 7190.47, 58248.23, 50180.75, 271.06, 178.62, 3795.7, 1566.26, 39093.45, 9351.71, 55172.72, 63101.4, 15692.15, 5382.55, 17051.85, 87730.21, 346.8, 5123.95, 397.63, 8960.85, 1052.32, 4088.45, 3170.4, 103.92, 76529.72, 11817.44, 32855.61, 69954.3, 17591.04, 6877.88, 683.91, 4937.65, 943.12, 2819.64, 14272.55, 38566.23, 28198.23, 8735.6, 145.67, 129.72, 108.0, 94890.92, 11284.33, 46694.95, 10411.54, 3744.51, 49673.11, 20475.05, 22188.45, 1740.4, 168432.33, 13285.7, 21647.83, 15137.94, 49275.75, 5427.0, 22825.99, 70645.54, 15510.82, 60245.49, 29422.38, 19427.0, 34573.37, 5718.33, 27146.4, 202.06, 17033.43, 113871.63, 888.8, 54385.03, 264572.91, 7153.71, 39551.31, 3883.62, 7096.55, 11985.8, 63.76, 90473.16, 43851.14, 28109.83, 316.71, 12670.97, 22673.72, 2030.7, 28550.94, 1708.21, 952.37, 38369.91, 11159.95, 4271.46, 899.06, 1534.34, 1427.9, 22263.52, 35013.39, 43266.65, 14587.54, 2488.32, 51966.7, 7827.14, 58615.47, 300.91, 81234.4, 20651.54, 8157.46, 32661.06, 1898.9, 26672.0, 1891.45, 19317.84, 13887.08, 3270.04, 1202.43, 21030.39, 6698.72, 18726.75, 186.96, 18460.8, 22894.98, 24839.9, 30068.6, 18397.93, 35541.9, 822.29, 38758.01, 6731.04, 20024.53, 22552.63, 1389.74, 40636.59, 65787.79, 98213.06, 1027.66, 74571.19, 787.85, 41091.77, 12411.55, 39501.6, 16656.0, 32144.07, 9267.64, 39103.94, 16733.76, 46987.99, 18041.6, 6904.1, 10816.15, 49401.0, 307.99, 55430.09, 16253.6, 55336.11, 28259.04, 18138.89, 15602.03, 14223.6, 317.03, 68990.47, 51968.25, 92652.26, 46675.3, 35584.94, 5919.67, 108478.72, 128762.76, 18354.56, 18900.99, 54199.6, 15235.54, 59390.07, 75247.94, 542.11, 45309.58, 100859.28, 6077.77, 1209.45, 13340.16, 152921.32, 125618.0, 13155.98, 63567.67, 57748.15, 279271.86, 2717.28, 19495.77, 10899.62, 7514.25, 68741.86, 3456.0, 16178.73, 1479.41, 102959.66, 21488.78, 50265.98, 531.87, 51675.5, 50597.66, 26972.74, 26970.22, 344.53, 138.73, 3026.4, 540.54, 45505.89, 47147.02, 51464.12, 29899.21, 5911.89, 3990.38, 2300.17, 198.71, 6315.33, 3033.6, 10192.27, 45069.88, 404.3, 870.65, 18953.09, 131792.04, 1897.5, 15209.57, 166135.54, 15797.76, 18147.67, 210.19, 40455.53, 9551.34, 32916.6, 1596.91, 37726.52, 28565.48, 39004.82, 747.44, 16517.15, 2340.18, 14747.01, 3429.73, 12422.04, 18779.95, 6117.15, 41464.84, 47549.15, 33618.15, 563.65, 14170.9, 626.41, 8543.91, 90430.68, 383.96, 21365.09, 4424.53, 81.0, 7329.23, 19491.57, 4744.45, 15157.81, 29023.01, 63.13, 1286.4, 26081.6, 42991.05, 7406.24, 17716.93, 76069.72, 31616.31, 15271.01, 56399.6, 6532.6, 61752.86, 13481.6, 17609.5, 16051.68, 22221.6, 73275.3, 11163.9, 14558.4, 74353.41, 35970.04, 12557.6, 12353.47, 45285.22, 38865.5, 19460.31, 48319.9, 79400.83, 9332.4, 2684.18, 43440.96, 151412.12, 858.24, 9438.91, 1168.2, 17989.15, 14930.74, 10420.58, 121094.25, 55644.98, 5111.18, 24033.25, 66576.93, 1172.96, 1468.51, 2479.9, 3550.41, 102.31, 4692.04, 30220.01, 40164.52, 116207.27, 34691.99, 166071.23, 94.89, 48348.08, 54980.96, 745.61, 83057.35, 10071.62, 65919.5, 352.93, 6522.12, 6665.43, 10364.23, 1118.71, 48118.96, 31273.55, 74820.52, 8882.22, 12078.5, 22019.48, 958.56, 38602.86, 22730.58, 5465.7, 24544.48, 8107.71, 53711.66, 26337.9, 10824.89, 1559.18, 704.59, 65035.98, 70951.99, 2458.38, 25030.11, 411.31, 35185.88, 16427.01, 6445.21, 22997.57, 14135.59, 56129.05, 1940.24, 22885.33, 43108.72, 107880.11, 62797.15, 8724.6, 20475.26, 3287.17, 28788.0, 126308.9, 13295.01, 14690.51, 17336.04, 36690.6, 9222.81, 105246.54, 15906.05, 597.66, 230.49, 5916.0, 36912.0, 107615.23, 12588.75, 81606.37, 71646.65, 62979.2, 4326.99, 129607.52, 385.43, 36479.79, 44443.74, 32713.58, 4280.43, 67409.02, 6051.94, 110835.68, 428.61, 33306.59, 55190.03, 25097.02, 48941.1, 24457.71, 57388.38, 36249.88, 118271.01, 10083.93, 25189.15, 53903.44, 43777.19, 14759.36, 51472.42, 14776.32, 345.36, 51245.81, 59916.06, 9850.59, 15302.58, 17829.2, 15043.83, 28863.78, 7040.18, 40117.13, 1952.35, 9935.39, 54779.92, 3314.91, 36325.38, 1891.77, 46086.34, 10447.18, 762.72, 9558.51, 66646.6, 174.72, 35.73, 45074.53, 1355.52, 90214.85, 2537.29, 2741.9, 162.0, 416.34, 5390.61, 38787.12, 23667.65, 48086.98, 20016.11, 89458.77, 444.4, 10538.55, 25241.15, 1898.2, 4908.37, 34551.11, 454.09, 350.08, 805.84, 52373.48, 5270.59, 291.5, 42020.73, 28843.24, 73179.46, 413.36, 13752.0, 8706.53, 45542.99, 5381.72, 17469.54, 19762.88, 12366.83, 54762.9, 37035.1, 14229.48, 738.14, 58171.9, 357.76, 18099.51, 321.32, 52671.6, 15333.17, 7476.28, 1628.84, 119334.85, 12435.32, 8342.06, 13815.34, 250.09, 30020.34, 54119.63, 73316.88, 13690.49, 46255.47, 21962.39, 1191.99, 2048.85, 44369.28, 24221.44, 10219.67, 30924.08, 29476.7, 15056.31, 3435.02, 6604.15, 91698.61, 52478.15, 57937.99, 2369.18, 14493.07, 55723.54, 3422.72, 14653.42, 40097.31, 61096.66, 12602.83, 9290.93, 13631.95, 278.33, 258.66, 25577.38, 51852.56, 6853.28, 18424.0, 1716.08, 19738.42, 47323.93, 90197.55, 32586.85, 891.34, 16267.9, 991.23, 3051.72, 40072.04, 25205.74, 95283.84, 30220.01, 10779.55, 26916.33, 58241.36, 66486.76, 4063.24, 7713.07, 22057.53, 7912.78, 40.94, 5758.86, 28321.39, 56.95, 22602.24, 134414.23, 49258.53, 16963.68, 1416.08, 35080.12, 34949.05, 125240.04, 5435.65, 4711.33, 16489.99, 1976.76, 16132.73, 189.08, 74888.77, 5971.9, 13497.0, 61004.11, 115882.29, 30796.0, 71606.99, 82493.73, 46585.88, 51551.73, 5655.27, 7898.9, 3002.55, 2883.65, 19823.83, 6502.94, 6731.04, 23861.98, 20384.06, 23311.53, 15353.52, 5731.85, 1301.99, 40841.1, 79042.57, 265.31, 17969.28, 21120.47, 104936.17, 55898.19, 1764.31, 9718.35, 43043.27, 106.67, 384.84, 15248.59, 15925.23, 351.7, 841.72, 18360.58, 118249.07, 10182.07, 62606.24, 12795.22, 2493.51, 2530.07, 13867.15, 14727.99, 22547.24, 32060.81, 45345.09, 84064.34, 27.6, 725.64, 17414.14, 389.64, 10078.56, 476.28, 10327.31, 3805.6, 122538.65, 6526.17, 1526.74, 13861.93, 16490.32, 54303.48, 7516.79, 519.24, 12965.4, 63985.41, 160125.27, 5311.28, 107464.8, 3675.16, 20123.5, 308.94, 15001.14, 105968.51, 18867.92, 15514.77, 734.68, 84800.62, 5917.79, 4272.16, 19151.44, 33747.42, 45974.48, 39589.28, 4539.98, 47001.69, 105165.47, 13681.44, 144127.2, 595.72, 6424.2, 636.73, 4359.06, 1898.9, 10192.01, 32948.62, 95115.26, 15669.36, 40164.98, 43623.18, 131032.67, 5961.45, 13311.35, 74562.74, 5040.06, 127621.48, 97128.38, 128103.19, 387.52, 20448.73, 316.32, 44886.47, 21374.75, 29717.48, 82074.22, 6923.03, 142976.83, 8407.91, 171762.89, 41708.06, 67585.76, 61021.98, 1057.37, 49448.86, 120.93, 41423.53, 770.0, 108577.05, 68177.22, 13786.04, 92271.11, 661.11, 1082.82, 136550.22, 10078.67, 17319.8, 6224.46, 16469.0, 2518.11, 26461.88, 89665.6, 2792.4, 4206.82, 647.06, 18123.64, 80092.67, 29949.38, 14029.46, 309.86, 53035.15, 2550.8, 15253.74, 29063.9, 35368.99, 11106.51, 30204.75, 46992.44, 110990.78, 10887.67, 12502.56, 21594.68, 44914.21, 27.6, 32848.42, 19762.15, 41.76, 15465.38, 53675.78, 18606.2, 8640.0, 11462.36, 5170.28, 63843.53, 2211.98, 70787.26, 20202.25, 75151.94, 2352.97, 16049.55, 119632.58, 19054.32, 51310.08, 137.04, 12532.97, 4379.85, 46245.13, 245.02, 44119.23, 39588.4, 5616.95, 21122.4, 33361.86, 8793.09, 123336.89, 63.43, 2338.29, 85287.12, 51663.6, 39587.0, 1150.71, 35637.84, 12213.47, 1897.5, 60873.75, 49332.2, 792.6, 88365.58, 22179.83, 35064.0, 38986.8, 60020.49, 37729.12, 234.35, 3270.04, 14435.9, 4903.48, 14130.65, 13113.6, 13377.0, 120447.46, 100493.07, 17180.65, 7713.78, 65800.98, 4084.22, 62448.98, 191878.36, 25107.23, 27242.54, 65431.59, 59057.4, 26406.72, 1716.41, 60294.03, 122.52, 143168.71, 10481.73, 44918.67, 28262.75, 2851.17, 101952.34, 10791.49, 61461.23, 44383.48, 16786.49, 103232.51, 30118.83, 1328.25, 9595.08, 20665.5, 13426.76, 57603.71, 486.18, 14081.8, 55614.31, 19140.0, 10384.52, 4272.16, 39696.29, 81198.21, 72951.93, 10323.24, 136.2, 95932.84, 11179.4, 16861.2, 59035.78, 2769.79, 20106.15, 33139.51, 5907.42, 8609.25, 1535.98, 42387.68, 5514.95, 183499.97, 15368.72, 6795.23, 14466.84, 82331.29, 6954.21, 1045.33, 14.24, 3025.36, 9300.3, 66727.21, 34563.84, 57420.0, 5277.61, 103637.92, 617.63, 7306.48, 15098.41, 903.84, 17986.0, 389.39, 5508.6, 75074.16, 16939.04, 45012.54, 143395.41, 3600.62, 15685.09, 29059.09, 43305.05, 112809.49, 6243.35, 497.47, 13699.92, 1999.64, 20364.47, 4583.04, 20170.12, 17842.74, 52992.99, 2182.88, 64878.6, 42451.2, 17936.1, 7375.22, 2091.1, 40028.22, 141291.89, 612.24, 4388.75, 55404.61, 69775.59, 104046.94, 24543.24, 99133.56, 20904.81, 77305.68, 3497.48, 33080.15, 30055.92, 15500.54, 5648.28, 13855.15, 122927.91, 524.43, 46476.54, 12787.35, 63393.06, 85815.53, 8022.5, 59585.01, 122.5, 2977.23, 514.5, 82122.63, 14925.66, 51508.43, 2921.71, 12188.67, 14456.43, 166228.9, 116413.88, 48151.97, 45064.84, 777.32, 34471.71, 32433.43, 32715.47, 35752.49, 980.64, 20267.16, 16755.91, 42078.4, 1656.4, 23122.45, 15971.8, 57882.94, 15333.63, 89975.78, 249.18, 190600.31, 4961.27, 829.76, 12443.68, 2093.58, 3504.85, 132303.52, 51809.29, 49247.85, 12219.74, 38075.35, 344.78, 63355.4, 9109.54, 23992.66, 11404.15, 10739.58, 66707.51, 42367.96, 27857.12, 95099.36, 55013.31, 143.04, 133482.04, 5602.27, 84574.12, 9277.3, 17093.34, 50367.79, 22949.13, 108027.38, 799.44, 29535.45, 13783.08, 19616.36, 35161.39, 21843.9, 42194.14, 4920.87, 17929.3, 5056.87, 403.44, 1167.66, 86308.7, 105520.63, 47041.27, 24877.56, 87840.49, 63891.14, 374.93, 528.99, 18472.03, 7067.59, 52967.78, 31648.28, 707.54, 15277.01, 10901.3, 1804.08, 46116.85, 111066.25, 49689.1, 69924.08, 19162.2, 29865.82, 3464.82, 3758.3, 1055.35, 6619.71, 1244.16, 119476.13, 7713.72, 43183.21, 5298.55, 48900.47, 24215.22, 59585.92, 20557.14, 78970.95, 4872.0, 65337.63, 41574.3, 34932.15, 13086.13, 29246.65, 283.5, 21130.2, 36777.5, 91806.7, 713.19, 12036.01, 9911.24, 94008.58, 5882.0, 39924.07, 46736.64, 734.27, 181608.95, 12696.68, 37673.54, 141462.36, 1638.05, 121821.6, 8559.6, 23096.91, 9667.1, 46496.27, 116825.95, 14810.88, 7232.83, 5768.09, 71.21, 11203.66, 504.19, 4184.4, 24227.11, 25261.5, 51522.96, 554.27, 47552.62, 21851.19, 1578.9, 57365.32, 324.42, 82961.5, 4074.14, 16497.87, 886.46, 49435.63, 7918.39, 1507.69, 693.93, 23305.35, 14470.94, 8537.88, 106192.72, 65218.04, 67643.1, 426.66, 13984.19, 5704.17, 19850.66, 16270.59, 26322.8, 9547.48, 20661.51, 3759.53, 41687.95, 103198.68, 16320.0, 47283.39, 15693.98, 50864.22, 79184.39, 54356.4, 1251.2, 70.8, 19524.4, 330.36, 54931.06, 22187.45, 14395.03, 35509.08, 6193.73, 14272.22, 775.0, 13826.39, 14953.58, 59734.46, 58121.28, 49195.92, 21292.89, 7267.42, 11627.1, 17703.85, 9555.32, 9517.7, 8328.09, 73215.5, 37092.08, 14408.85, 85004.14, 35064.0, 15177.42, 17319.8, 61989.57, 160708.82, 10624.27, 14159.15, 16500.0, 8260.09, 3312.32, 37311.21, 183.61, 4209.6, 1898.2, 21194.95, 2336.06, 20365.76, 65484.19, 7664.54, 6219.6, 16410.62, 36392.35, 15745.46, 8921.55, 4520.36, 16207.68, 65340.39, 19753.39, 1660.5, 47209.8, 26247.2, 46673.02, 394.51, 32593.05, 1164.87, 0.72, 36923.43, 9181.19, 16650.0, 887.24, 1478.33, 21787.75, 8732.3, 57270.55, 62931.07, 36407.41, 15215.79, 18744.65, 39402.16, 17295.39, 22814.5, 1213.44, 9971.0, 104122.25, 66995.36, 4549.7, 15489.59, 31246.61, 21144.58, 111289.18, 124682.72, 54391.59, 20872.32, 44453.22, 214.86, 605.61, 42564.17, 9231.16, 43668.82, 14204.38, 23311.84, 1006.74, 5977.45, 24134.7, 2192.5, 31877.68, 48802.93, 18654.74, 15737.76, 25559.26, 35141.57, 44876.65, 162915.01, 28719.62, 23395.96, 4431.0, 3291.02, 1132.26, 555.64, 10105.48, 4207.15, 275.13, 24616.3, 14891.24, 2345.07, 44529.9, 2218.21, 4331.52, 14869.3, 486.84, 15634.87, 97229.28, 195.17, 80684.49, 206.36, 21811.36, 214.15, 7680.03, 29909.25, 8.8, 13585.49, 2245.0, 106.92, 3180.8, 37918.03, 38041.1, 113248.8, 39395.05, 68028.16, 943.12, 44643.16, 2905.06, 82447.84, 884.38, 33812.01, 50655.88, 11457.23, 776.58, 31977.49, 410.53, 11699.02, 12068.6, 54952.65, 26434.76, 127511.93, 11394.9, 84468.4, 18526.27, 114.38, 48025.49, 66.37, 13060.79, 1718.84, 35.76, 52414.66, 45871.71, 907.91, 31196.08, 65827.45, 29042.99, 22009.39, 29069.9, 85260.58, 387.91, 14408.83, 128967.85, 6819.63, 11896.79, 137177.56, 36932.8, 115187.43, 32380.59, 886.16, 67.29, 15702.57, 138467.32, 66443.08, 48541.68, 24473.97, 48971.1, 331.41, 54588.91, 115045.62, 65970.41, 49596.5, 1162.63, 17255.39, 42102.57, 416.29, 49581.3, 1110.53, 1723.17, 15350.58, 16571.15, 2646.76, 6815.23, 20180.06, 250924.14, 1346.79, 173.89, 37400.99, 42767.66, 5092.66, 718.74, 194.69, 47861.5, 5601.39, 367.8, 26670.09, 10322.5, 54758.64, 162685.2, 19717.08, 50575.08, 5482.45, 4846.31, 68445.97, 352.93, 1564.08, 11398.13, 44445.55, 67461.24, 12689.53, 83030.34, 28871.42, 25314.46, 13291.13, 41796.49, 943.12, 52656.5, 31485.89, 125061.58, 278.29, 50.52, 48259.91, 16416.0, 16607.46, 63399.54, 120046.75, 24323.05, 12347.16, 4752.96, 47115.3, 9334.65, 10075.16, 978.73, 80489.13, 19312.62, 4272.16, 11733.23, 15364.34, 24120.89, 1083.12, 111499.2, 47368.8, 9767.19, 76293.03, 52671.1, 345.43, 25849.01, 3840.44, 37393.27, 76799.48, 15520.31, 70578.64, 1313.65, 60341.73, 21495.84, 9665.13, 29150.21, 52275.96, 43500.0, 3770.52, 1559.16, 3748.91, 15219.23, 30727.34, 22395.74, 2382.55, 293604.13, 92508.87, 47559.5, 13421.08, 137900.2, 35661.78, 22258.49, 25286.03, 6925.11, 25741.55, 16131.42, 25718.28, 18717.31, 1898.2, 61175.82, 44806.42, 20678.15, 4862.93, 16754.9, 89.3, 5415.83, 87881.49, 50697.83, 4844.99, 33273.78, 8604.7, 5525.0, 19339.8, 24815.7, 35.64, 191.4, 13146.7, 173620.83, 59.16, 73410.77, 20619.32, 82025.19, 20822.44, 695.79, 5237.57, 9447.11, 9878.61, 28313.0, 38551.83, 46957.08, 7448.63, 753.81, 2368.24, 13900.32, 80006.96, 3226.45, 49561.2, 1479.69, 7664.54, 59183.56, 57469.43, 43380.0, 56288.79, 12100.73, 95488.62, 127660.52, 17570.1, 1897.5, 42938.89, 5890.52, 14744.67, 38847.84, 15663.61, 51187.93, 64810.74, 93324.25, 72918.83, 121496.46, 27194.5, 50757.56, 69985.87, 14881.01, 166.57, 2309.45, 4957.45, 113103.81, 67142.52, 569.25, 144155.57, 14698.12, 271.06, 7829.57, 7425.68, 4536.0, 32290.34, 11809.22, 8170.8, 19067.99, 5857.6, 42953.37, 32263.99, 17313.14, 13899.43, 79417.28, 2590.58, 19098.24, 47689.44, 32991.51, 7262.08, 4991.44, 3289.84, 46509.22, 184068.3, 92827.84, 14933.79, 287.56, 79075.38, 26660.96, 18145.19, 48881.53, 83271.64, 34492.76, 25240.89, 53290.04, 22396.67, 62427.23, 6753.14, 4407.8, 1208.38, 7490.42, 9211.2, 87531.67, 129857.32, 341958.96, 127.76, 12965.4, 1897.5, 85147.2, 51480.59, 242.83, 52319.42, 639.62, 28240.15, 1403.69, 542.12, 59114.88, 2532.2, 58292.7, 6481.91, 15345.87, 33219.76, 49382.94, 499.34, 11757.06, 2474.87, 51176.54, 27842.94, 40266.94, 2357.52, 26248.32, 2714.26, 18616.01, 44120.32, 117207.31, 26929.83, 6097.12, 97182.77, 71756.81, 2824.1, 24983.6, 53203.99, 27581.4, 12470.89, 5321.25, 15573.97, 91923.59, 18967.51, 160212.41, 26301.89, 338.27, 15544.63, 86605.56, 28826.73, 13541.46, 20048.92, 5864.96, 6010.41, 37827.7, 29869.62, 129868.47, 69228.75, 10761.81, 34433.51, 47326.61, 4975.6, 6207.42, 14308.03, 23120.0, 231462.12, 1398.16, 78803.71, 15381.97, 42013.63, 47766.55, 28696.73, 7151.4, 1847.31, 40032.6, 15819.38, 9314.29, 1886.75, 42067.23, 16308.48, 25762.32, 8056.91, 79526.17, 65233.41, 17180.65, 57901.84, 1328.25, 1414.69, 5824.36, 151781.44, 136.47, 7198.08, 169981.78, 66375.7, 38834.75, 1370.96, 79467.19, 44113.92, 73403.11, 32531.51, 12658.57, 85097.42, 343.6, 16947.03, 58542.16, 964.62, 19436.32, 33741.22, 56861.66, 21371.99, 17197.08, 434.55, 31471.66, 38753.08, 37327.68, 1748.38, 90925.16, 39432.21, 40835.45, 339.17, 1984.86, 98.86, 194.55, 2479.59, 23471.99, 15020.27, 3437.0, 9156.13, 141993.68, 84571.83, 11484.82, 5239.9, 1029.65, 107666.22, 4267.56, 6904.8, 407.33, 155910.32, 25038.96, 35482.59, 1066.53, 15367.71, 18476.06, 32466.26, 41391.19, 2126.33, 9445.8, 231.31, 6689.88, 12288.4, 1825.24, 12293.41, 13152.34, 211376.81, 25280.64, 16239.77, 15523.19, 40074.66, 10191.09, 2989.25, 98850.74, 5434.56, 15090.34, 2515.1, 63247.61, 2856.8, 66409.35, 15936.38, 197.82, 57967.12, 25857.71, 82.82, 26571.57, 91805.23, 19165.89, 335.98, 31130.01, 66710.11, 151784.77, 113984.65, 97.38, 22762.9, 347167.95, 60455.59, 81109.45, 46809.53, 7973.6, 20078.61, 40994.56, 41872.66, 9464.49, 13974.96, 10187.0, 104315.92, 14563.47, 44450.82, 1619.08, 12882.6, 1371.3, 296.54, 21006.38, 3012.43, 98305.65, 91097.36, 61842.4, 5826.25, 152705.46, 27848.82, 58232.12, 3034.52, 15860.08, 1414.68, 12846.74, 36958.64, 131.32, 57431.35, 76354.92, 4821.77, 1139.41, 11484.36, 9872.07, 24360.16, 39113.44, 13081.41, 24853.22, 46226.9, 8911.33, 31566.68, 57551.19, 6435.09, 60634.78, 36258.33, 26296.02, 48338.28, 1328.25, 1897.5, 4151.4, 44610.01, 26077.94, 58817.28, 5639.73, 22847.93, 66356.56, 1715.7, 13891.01, 55926.19, 24411.9, 18036.47, 116535.59, 78273.36, 384.78, 14419.37, 11489.93, 15613.52, 56837.17, 43171.9, 27316.76, 18483.61, 11973.05, 3062.88, 57224.98, 33390.29, 90123.58, 75214.34, 10764.99, 73631.8, 53351.46, 5322.6, 32666.81, 36799.5, 14265.08, 1497.48, 23910.48, 1031.17, 98808.0, 8793.09, 10879.2, 4227.49, 50181.44, 16392.14, 7296.97, 4770.99, 23593.66, 3752.83, 11351.12, 14198.03, 1527.22, 65333.38, 98128.73, 48149.15, 7986.68, 121968.5, 210.18, 1568.0, 15262.25, 2459.11, 14922.63, 6532.6, 304.29, 66301.47, 10764.33, 52884.0, 16300.67, 63870.77, 14304.4, 59245.14, 111101.1, 128448.34, 23451.54, 11595.62, 194.69, 63360.65, 17063.5, 54891.76, 7073.88, 13704.72, 14204.38, 3223.14, 7715.52, 77238.25, 5718.25, 840.06, 15284.38, 17308.33, 141073.97, 16888.32, 122715.58, 71801.27, 5437.3, 203913.92, 26906.54, 76379.12, 18537.37, 2210.78, 2128.05, 5743.94, 82539.07, 14601.29, 63441.87, 1544.58, 30609.15, 2840.76, 3401.78, 36551.48, 36633.78, 1793.9, 145.44, 274.85, 57950.5, 12652.76, 219.24, 24538.99, 1164.8, 1645.65, 9036.68, 5193.93, 11818.44, 19677.23, 9222.81, 599.04, 31039.61, 30155.74, 27428.68, 87377.99, 10947.95, 13966.87, 21735.82, 96266.17, 7678.93, 661.11, 14977.73, 144179.67, 16094.8, 75161.3, 77400.99, 38105.45, 44154.38, 18396.75, 94802.4, 60329.11, 5104.1, 37551.49, 24219.59, 48075.76, 31126.08, 4504.17, 96421.33, 254.76, 63913.88, 2442.51, 16130.62, 28091.06, 57640.9, 23920.05, 1915.02, 63325.14, 24990.29, 27073.4, 66157.97, 37864.59, 42920.24, 40433.38, 2373.96, 3554.27, 6010.36, 1496.89, 2520.94, 30051.43, 117328.48, 58915.63, 15438.35, 18453.41, 471.56, 1272.84, 231242.57, 15177.42, 27641.22, 19861.05, 4624.04, 68525.75, 101652.01, 73388.96, 47225.36, 1000.0, 12933.46, 5090.24, 15670.18, 34893.73, 71502.76, 1784.79, 12336.88, 7931.62, 49910.67, 5084.27, 24028.72, 15284.1, 46021.64, 53817.96, 1991.84, 67770.52, 7982.4, 2352.97, 18150.54, 13170.36, 152055.22, 154.02, 1061.62, 3754.88, 13707.63, 2987.09, 12738.45, 28589.86, 45812.13, 40656.66, 2553.6, 155010.63, 5040.09, 16006.45, 471.56, 119474.16, 88513.63, 469.69, 14972.53, 471.56, 31.56, 177.62, 58718.16, 2373.96, 16929.92, 50438.26, 884.34, 58322.55, 66251.93, 29752.32, 3781.92, 33031.83, 83436.86, 3667.9, 94839.51, 16887.5, 9856.68, 15610.79, 18338.28, 8881.92, 526.53, 16338.93, 14013.29, 13409.73, 84062.61, 19769.7, 52490.39, 24060.37, 29461.67, 48383.37, 45782.82, 1268.4, 79.88, 916.12, 217.18, 14013.3, 11664.88, 21683.32, 6869.27, 49363.07, 24470.31, 5753.54, 29794.81, 113428.39, 42580.61, 15418.58, 19772.23, 32927.6, 24004.07, 15640.8, 21862.74, 763.64, 58664.15, 59220.65, 61477.0, 154.55, 21215.53, 59.19, 23211.6, 14617.51, 3768.43, 13835.93, 30220.01, 22.0, 23027.96, 4220.64, 129334.62, 15401.15, 54230.18, 47501.22, 9455.66, 126.66, 111.36, 228229.18, 1082.2, 105154.04, 1235.26, 17486.46, 97822.34, 113676.06, 665.62, 73275.3, 79160.72, 22534.28, 23030.81, 68853.77, 495.99, 6475.94, 2275.59, 46281.9, 119078.92, 167.64, 39426.41, 17854.08, 1897.5, 58310.51, 83480.3, 37805.25, 62370.16, 132.04, 41737.92, 102252.41, 78161.53, 104866.59, 50010.56, 4080.95, 21290.51, 1991.84, 25807.44, 2029.3, 281.68, 1004.9, 99262.11, 17737.19, 8424.38, 2829.18, 62408.16, 20265.15, 4962.34, 8041.59, 5126.33, 63557.31, 15451.74, 2450.94, 49501.09, 16016.0, 12836.88, 34069.78, 1064.79, 569.82, 29369.99, 24487.02, 27171.95, 173.38, 1329.23, 39133.96, 33813.37, 83591.92, 3088.8, 15008.99, 139641.96, 369.91, 17506.13, 17720.98, 3915.55, 36584.78, 2999.92, 96560.3, 3735.81, 8391.95, 57127.66, 36859.97, 5540.31, 21435.56, 11749.13, 9715.68, 70409.95, 16498.62, 7753.05, 87999.45, 27705.14, 1133.74, 31283.39, 294.59, 96032.56, 10637.89, 25376.66, 3280.34, 24962.92, 12046.82, 20909.22, 361.69, 18214.53, 6916.42, 33733.68, 45884.1, 27119.49, 33003.07, 6532.6, 102917.13, 598.1, 452.64, 63953.56, 36306.55, 46357.89, 58934.03, 123877.32, 15988.15, 747.15, 117326.93, 30079.4, 37881.97, 8219.62, 14242.47, 91.07, 55410.23, 87878.8, 59161.19, 10561.55, 40490.9, 10638.09, 23156.08, 5806.02, 75812.88, 9514.27, 9212.97, 2408.09, 972.76, 1160.69, 4272.86, 49116.55, 140467.86, 47292.57, 3273.14, 129395.35, 1514.64, 16538.92, 14272.22, 49211.26, 22259.22, 5210.78, 58481.15, 2037.58, 1646.4, 8826.68, 5903.19, 43327.29, 10902.32, 46564.78, 6056.4, 10251.68, 62858.72, 7596.74, 3522.36, 82468.3, 16992.76, 2584.35, 21125.04, 64612.16, 10275.07, 1032.9, 9420.0, 1260.47, 49146.14, 26934.8, 4212.76, 28600.62, 5255.26, 3191.41, 2609.33, 22926.97, 4931.11, 45527.85, 2301.6, 5955.76, 106516.92, 2388.14, 50934.2, 23636.04, 45751.5, 176864.32, 23468.92, 11636.6, 4282.01, 13714.18, 48601.93, 7609.18, 7697.86, 452.9, 6595.02, 17867.44, 23834.31, 56436.94, 45133.08, 55723.68, 320.64, 14390.4, 25354.04, 106.67, 128970.52, 3785.2, 67863.37, 100627.5, 82.82, 29787.27, 62559.09, 4474.85, 95459.23, 1785.92, 23855.49, 16068.0, 53399.91, 7512.31, 5115.17, 642.1, 132641.68, 34138.25, 25647.72, 15821.8, 13250.79, 55672.73, 28097.54, 2067.04, 8770.03, 73531.6, 11537.9, 9517.02, 233.65, 14287.2, 10390.5, 6006.78, 6496.69, 2916.0, 1587.98, 39.15, 11018.28, 19725.46, 5448.2, 17067.96, 15554.58, 31277.0, 126609.6, 3612.91, 83991.45, 63196.9, 85743.32, 3774.86, 31596.25, 116037.15, 44492.26, 22689.4, 103858.2, 6808.6, 13619.6, 896.53, 52781.03, 1704.33, 8041.59, 23898.15, 41721.6, 16992.76, 96983.84, 13699.41, 69300.01, 45963.54, 84253.72, 15745.95, 29299.88, 43774.7, 3699.75, 364.61, 21577.53, 27.48, 20571.89, 33.18, 118678.22, 7934.92, 68376.55, 59900.08, 71635.49, 142.22, 63319.1, 2125.56, 16157.02, 54781.23, 11468.17, 231.29, 133813.19, 1540.78, 15549.01, 5840.29, 26731.82, 15473.3, 18129.15, 102303.99, 23720.53, 31869.82, 32888.11, 102015.16, 15113.01, 10675.81, 14423.21, 135797.21, 73225.02, 13993.2, 15855.84, 29863.01, 15278.07, 1524.66, 80021.88, 22656.86, 16047.84, 27.6, 41455.95, 28641.07, 49323.3, 17916.0, 158149.11, 8652.11, 300.1, 12923.42, 47943.25, 62961.69, 157174.55, 14071.69, 128006.44, 1480.7, 64087.2, 943.12, 13504.5, 16203.45, 20557.14, 10838.1, 96060.76, 10579.75, 49560.03, 4959.16, 66098.74, 50510.02, 105205.07, 40074.48, 41514.65, 4696.04, 2545.8, 487.17, 7351.77, 677.38, 65219.82, 23583.65, 1891.01, 9903.98, 34746.06, 17912.45, 84343.77, 16949.38, 12765.66, 2169.37, 367.98, 148311.95, 36006.34, 82690.06, 5814.57, 20936.85, 38293.41, 130740.62, 510.62, 71.46, 18956.21, 956.03, 108404.42, 12028.52, 12720.12, 8810.83, 15134.13, 6879.86, 445.44, 3105.8, 5193.08, 7419.93, 74497.11, 15842.4, 11080.77, 2494.68, 2127.62, 16209.32, 6589.64, 42288.54, 39569.91, 31085.04, 2494.99, 20766.79, 625.11, 114176.09, 661.11, 16164.25, 76833.36, 198.72, 190.48, 6575.76, 4079.12, 5137.85, 26896.17, 18963.02, 13557.43, 14941.21, 6378.75, 371.83, 50290.1, 380.21, 7066.74, 17902.44, 525663.66, 13133.03, 94.89, 66885.31, 10962.5, 109228.22, 848.27, 14234.38, 80920.24, 84027.27, 31739.22, 25542.56, 32951.25, 27165.63, 36.0, 13378.46, 27168.75, 5903.67, 40709.29, 93667.76, 29285.15, 21249.83, 4981.62, 30663.6, 91339.62, 4150.92, 2831.58, 59.88, 5507.47, 8820.46, 112311.07, 8327.49, 134879.46, 134.01, 7788.85, 18594.26, 47796.16, 21834.8, 71779.05, 21365.96, 12294.32, 35815.14, 20383.79, 9023.81, 53689.58, 13829.76, 31675.44, 67011.27, 22833.0, 3787.22, 9726.6, 50486.62, 1355.36, 19037.62, 21992.55, 8157.32, 125013.35, 28856.06, 2526.13, 7885.82, 183.85, 1721.73, 111239.08, 2587.2, 1692.75, 25759.73, 3816.38, 74917.53, 1432.75, 15340.95, 53452.92, 2252.97, 7379.31, 14569.56, 7428.21, 81876.77, 1539.72, 3795.7, 1320.76, 11367.14, 17608.04, 57602.16, 127298.24, 2451.24, 276529.03, 15284.99, 13466.13, 77284.82, 28193.78, 149466.16, 115733.51, 18135.88, 69266.25, 19046.8, 14222.7, 18765.6, 7896.07, 56986.76, 2477.27, 25847.65, 49297.35, 23510.24, 712.05, 31093.14, 63866.64, 39428.11, 34252.05, 1811.0, 3785.4, 49368.47, 44.55, 1764.66, 58247.84, 38605.12, 12228.67, 21565.98, 1367.82, 73596.2, 1108.2, 21300.0, 21663.81, 70455.83, 25613.35, 3603.77, 80727.06, 4088.45, 127872.79, 21352.0, 33248.09, 4858.24, 130321.11, 8041.59, 4626.68, 10887.46, 26342.62, 11841.94, 8874.17, 33932.87, 122392.92, 29087.75, 130131.28, 74873.5, 90747.71, 76259.93, 125661.4, 71858.63, 12881.36, 26270.7, 8328.0, 58625.86, 20578.43, 4336.87, 11563.76, 44970.07, 96085.04, 5438.93, 78920.54, 64402.63, 413.83, 27269.06, 23934.07, 85152.15, 18662.0, 62434.27, 1081.68, 92896.61, 14502.45, 47652.41, 24396.75, 22273.96, 23312.92, 14028.42, 54762.28, 14761.35, 2501.5, 15887.01, 14982.05, 1094.4, 14380.16, 471.56, 14824.32, 335.2, 22734.7, 22316.84, 1287.83, 11025.11, 16990.55, 2984.09, 2373.96, 192495.32, 151.1, 571.08, 782.04, 33553.39, 144884.75, 3267.3, 826.01, 74853.8, 43080.19, 4011.78, 3835.12, 29565.17, 33631.81, 10504.59, 15313.46, 57602.16, 54613.8, 39409.04, 4642.29, 26677.71, 58675.5, 4008.6, 78149.68, 23220.17, 3120.02, 1563.0, 5188.45, 2901.03, 70700.12, 13453.04, 59872.93, 522.62, 21499.31, 3874.54, 27677.93, 53849.76, 10885.49, 79554.05, 565.7, 542.66, 37854.62, 16546.11, 20550.91, 1447.74, 1356.55, 25.92, 17361.56, 15038.4, 2595.74, 15659.01, 88169.63, 20448.96, 21535.84, 1563.29, 21084.08, 20245.1, 3525.53, 112059.36, 8222.93, 2356.19, 9305.87, 39417.33, 79008.61, 5553.7, 19436.32, 2166.15, 6847.43, 50086.6, 34795.2, 7543.41, 67306.95, 13456.47, 88123.95, 13678.51, 4372.0, 103751.14, 16831.95, 35293.97, 5353.2, 8028.0, 270.97, 19004.8, 79835.36, 3678.63, 54760.42, 657.06, 1672.0, 359.12, 64985.94, 49146.41, 51432.95, 4260.67, 37070.91, 54382.79, 127.49, 15198.56, 28652.4, 151820.55, 2237.43, 934.95, 3283.77, 5435.03, 6640.6, 6647.07, 12208.29, 70091.27, 70084.66, 6796.18, 14502.44, 106.48, 21615.25, 683.91, 92370.2, 85906.19, 40594.09, 58948.06, 3701.23, 10740.9, 49289.38, 5536.99, 4672.26, 1898.2, 12836.61, 182351.48, 35674.35, 10056.63, 24670.52, 13011.59, 66405.55, 578.11, 1824.48, 3012.87, 5528.9, 1967.34, 21541.42, 133352.68, 58506.0, 9869.52, 11339.48, 16162.48, 43697.31, 48834.58, 84555.48, 13098.88, 38913.18, 579.89, 26955.26, 515.2, 97240.47, 1695.68, 21555.32, 35.4, 830.77, 42523.56, 39029.77, 26127.36, 3849.57, 8399.82, 20001.35, 106.67, 32595.02, 11049.35, 51893.12, 38789.63, 10546.55, 4094.38, 57643.75, 16378.3, 70291.21, 1404.59, 15076.87, 24317.36, 1456.2, 8189.38, 19275.26, 59524.72, 50278.31, 110853.17, 84285.61, 23137.14, 15110.43, 89480.92, 66352.72, 29020.16, 48412.68, 46194.24, 37678.69, 953.6, 28358.45, 1008.38, 4899.33, 21708.32, 31729.26, 282.38, 38921.63, 9574.23, 36621.5, 15482.3, 8173.06, 2161.75, 108197.91, 26582.4, 127973.61, 16458.4, 242.55, 30936.47, 49452.46, 725.85, 11232.98, 11975.94, 58007.07, 20571.6, 21336.41, 39575.59, 971.67, 14802.88, 13477.3, 20804.78, 1322.22, 31559.56, 10644.04, 12715.27, 99039.55, 15544.8, 41640.99, 35484.08, 29272.32, 19597.81, 360.32, 19606.46, 10362.61, 47848.54, 471.56, 61414.02, 23346.84, 82933.91, 5738.33, 13449.63, 140073.76, 13119.31, 66679.1, 102434.57, 29854.25, 6510.94, 3648.32, 588.35, 3636.72, 1383.92, 49126.44, 2684.6, 98890.95, 123.91, 45202.43, 667.88, 45742.11, 33.18, 20391.28, 71747.58, 3877.12, 365.88, 404.52, 42448.32, 20962.98, 24912.79, 12449.4, 50701.55, 41674.29, 13470.66, 14624.73, 71183.6, 61089.45, 3571.05, 2467.22, 14747.01, 238.21, 5091.64, 80366.05, 20240.16, 44994.65, 50197.45, 14453.86, 21058.43, 21770.78, 525.03, 3748.82, 14563.56, 10790.4, 9998.72, 61858.43, 9021.23, 3429.8, 99524.95, 19467.42, 34793.25, 39401.42, 113425.15, 5643.51, 30122.4, 32433.28, 2168.44, 17544.0, 9190.18, 174.48, 118843.4, 6658.04, 73106.33, 25961.25, 30482.78, 18145.19, 56126.31, 27333.04, 15644.7, 1196.04, 32009.91, 2059.49, 68347.45, 8671.68, 16598.07, 119237.11, 11856.59, 8041.59, 50765.59, 47757.38, 59282.31, 133566.34, 320.76, 4664.14, 15747.72, 121160.09, 223335.06, 14098.56, 936.4, 1639.53, 20618.89, 58757.79, 8636.43, 105116.18, 7384.8, 25647.83, 2412.66, 6078.56, 15548.93, 1898.9, 42047.28, 129771.57, 58.45, 2851.92, 6663.73, 433.09, 59075.93, 3386.66, 65116.64, 38774.34, 5067.74, 21608.99, 62461.52, 188595.11, 72083.39, 13692.82, 142144.82, 13356.75, 4162.18, 4272.16, 12929.27, 840.13, 60010.61, 357.61, 4612.95, 1038.9, 22531.6, 11136.28, 114606.53, 29489.34, 120987.86, 1259.34, 60027.28, 1995.84, 1584.8, 19782.81, 109043.1, 42239.24, 91710.66, 12491.62, 12533.72, 48037.61, 17045.04, 48278.41, 5638.55, 16499.49, 66146.28, 2343.25, 361.02, 20857.2, 11359.54, 27.6, 30084.2, 2169.16, 110657.79, 38626.73, 3025.73, 1191.28, 714.78, 1614.16, 79593.75, 23797.24, 357.15, 729.52, 1898.85, 11834.67, 19420.8, 356.46, 45102.92, 54712.93, 635.47, 82377.49, 73328.86, 6189.6, 30.85, 5306.15, 16421.04, 69168.58, 30960.78, 22756.81, 20516.83, 1698.4, 7515.8, 14736.94, 1476.99, 427.72, 16296.61, 219.0, 84062.61, 2920.14, 16656.0, 46170.85, 155866.56, 38166.53, 941.54, 71760.63, 26371.84, 20972.36, 37713.24, 15485.86, 136620.97, 25440.83, 1156.28, 173604.36, 141.99, 87959.22, 4405.57, 22688.83, 6335.89, 42310.22, 17121.04, 1743.21, 5730.15, 4571.58, 40468.62, 2169.37, 8875.86, 11121.69, 629.67, 89559.93, 26528.62, 21257.54, 20676.82, 44862.26, 54504.09, 9073.06, 11044.45, 19607.07, 1593.77, 17575.66, 32318.5, 19424.0, 59360.47, 11615.01, 200.47, 25376.88, 3416.61, 91769.85, 16008.2, 10217.66, 38283.12, 427.44, 27399.39, 44508.29, 56659.55, 93877.27, 43628.35, 16938.05, 107708.79, 35155.72, 61794.9, 2123.99, 67783.72, 115986.37, 17231.18, 471.56, 33164.58, 2086.56, 14823.12, 497.43, 131278.31, 826.01, 240.31, 15707.98, 104826.09, 17294.89, 3038.69, 53651.15, 16360.32, 14990.17, 55711.2, 6624.7, 284.69, 62191.41, 130641.46, 207.69, 165681.28, 16967.98, 8424.09, 75097.91, 16169.45, 5717.56, 37139.4, 60082.93, 7723.67, 124208.66, 106438.78, 4860.67, 13329.25, 10827.72, 4420.8, 23009.03, 54934.69, 2803.9, 12312.0, 78677.98, 21331.06, 20244.01, 12001.12, 17220.0, 1701.36, 28787.21, 129826.0, 21523.94, 16406.67, 33426.89, 46429.8, 2476.76, 493.04, 7768.22, 14537.86, 58411.56, 49.44, 2991.84, 16001.06, 3024.0, 4452.63, 25377.26, 7140.0, 31542.39, 5194.04, 15334.8, 4416.39, 3232.16, 78175.4, 78227.06, 729.45, 108866.06, 36672.4, 186029.21, 23847.8, 75483.87, 330646.64, 21535.98, 470.4, 11142.27, 112349.08, 122645.43, 71416.79, 371.67, 12816.03, 1555.28, 80917.71, 2290.51, 8041.59, 492.48, 81126.61, 12549.4, 125660.73, 20651.54, 42675.24, 35532.96, 38584.3, 34403.53, 10323.24, 50933.29, 62017.24, 5303.88, 30146.29, 6813.61, 151177.1, 97651.16, 47386.5, 44148.68, 9978.23, 623.88, 355.3, 49102.47, 764.71, 121.58, 2646.76, 53586.0, 54274.55, 14286.91, 59100.39, 26653.17, 109943.63, 14624.73, 90527.26, 10433.91, 2714.67, 963.7, 45129.29, 49520.02, 14786.27, 15120.26, 62834.48, 30.97, 93968.58, 4111.48, 3270.04, 35328.42, 1017.41, 11420.14, 4140.0, 92064.92, 8905.19, 73990.49, 99710.93, 6739.2, 585.14, 42200.7, 7071.53, 106379.51, 47407.87, 17916.75, 13877.13, 7581.76, 19540.76, 44965.42, 17475.39, 13580.0, 1302.99, 65636.4, 131798.72, 1590.5, 44269.93, 1451.69, 31.56, 6565.35, 36926.71, 16839.52, 16106.56, 32232.5, 56759.23, 107338.08, 51427.48, 2779.32, 23781.78, 75348.83, 109908.21, 21399.13, 31112.1, 98604.37, 72879.01, 23976.22, 16554.09, 48074.35, 1590.04, 51161.28, 13214.14, 16177.0, 55555.16, 102552.91, 2790.76, 49458.85, 2175.99, 15378.26, 427.72, 12322.16, 132283.94, 5030.15, 57402.56, 18530.0, 79562.2, 13079.11, 50316.37, 2096.02, 1288.99, 93967.0, 23659.76, 3185.0, 20536.11, 37957.9, 20406.44, 3284.3, 37469.52, 94653.07, 14989.27, 16018.07, 15559.41, 11677.74, 24612.02, 64412.49, 16018.07, 34623.48, 17319.8, 79694.85, 7953.6, 22034.88, 32715.47, 29819.54, 4598.11, 15726.74, 163.43, 37651.31, 53419.81, 12419.83, 16220.29, 4815.0, 5132.22, 35223.43, 75244.34, 43225.69, 37575.2, 1898.2, 50122.18, 14906.34, 19050.25, 16084.99, 36646.01, 669.64, 30627.03, 938.43, 13696.5, 33220.87, 135651.34, 90794.5, 28964.99, 12521.81, 2292.56, 39398.99, 13761.5, 43585.07, 38210.72, 14380.16, 1085.08, 1518.19, 15095.82, 187897.38, 3320.98, 84433.57, 638.4, 830.97, 227.05, 15231.29, 54941.65, 53489.86, 100792.75, 29929.53, 5946.45, 14702.65, 24983.1, 28266.11, 120730.05, 12089.02, 41102.67, 725.85, 5190.51, 63965.22, 4751.05, 943.12, 44330.03, 16709.1, 24215.63, 37972.22, 1041.27, 41846.06, 423.4, 477.62, 14826.1, 11155.37, 50702.84, 24218.08, 123863.06, 555.77, 15186.49, 16378.86, 13867.39, 17228.89, 70887.63, 53611.47, 39326.54, 39928.67, 1466.17, 39173.04, 214924.67, 68477.68, 1550.98, 57721.52, 143319.11, 23960.32, 33558.41, 9499.4, 699.5, 5489.13, 191.68, 15094.14, 1560.07, 87400.46, 264.96, 14863.12, 1998.65, 6940.87, 61205.25, 32204.46, 3101.92, 73061.04, 92.34, 25329.07, 98229.89, 4925.38, 33606.93, 32251.8, 1581.74, 2206.42, 1875.36, 41118.31, 83069.55, 122776.04, 142818.56, 58481.48, 19158.91, 21005.03, 7481.05, 19775.53, 44303.46, 25211.59, 1656.7, 31731.5, 6914.29, 50719.51, 61.69, 690.91, 6773.76, 5952.8, 47556.64, 10170.0, 42363.02, 16680.97, 26553.87, 1547.55, 58794.12, 26943.59, 15005.29, 15949.29, 50616.0, 172525.32, 53697.39, 18105.06, 5955.46, 9191.99, 7593.6, 2074.16, 21713.84, 13170.07, 48099.55, 6863.74, 1417.8, 9102.34, 2533.0, 101608.86, 50207.64, 76138.89, 196838.6, 10640.0, 54888.96, 21933.93, 8562.38, 4093.57, 327081.87, 1010.18, 2363.2, 113745.5, 128571.13, 19024.19, 45737.92, 68779.31, 8688.32, 600.26, 47081.84, 5524.14, 144143.43, 505.55, 9489.94, 31796.96, 82292.71, 2696.85, 25872.67, 190379.98, 256.91, 25712.16, 786.12, 4182.5, 1064.05, 27243.25, 7531.12, 1879.6, 13560.89, 201927.84, 66782.73, 15371.38, 14897.59, 506.23, 12073.07, 49498.47, 53920.7, 11873.32, 138819.26, 57713.52, 2811.01, 34932.73, 44187.79, 45545.18, 41061.16, 12842.7, 23177.32, 3478.64, 14616.61, 24618.18, 7014.88, 2336.33, 236.9, 1198.79, 70819.75, 79098.81, 12253.71, 3795.7, 5963.56, 2224.8, 22143.74, 3148.52, 61936.0, 5357.14, 3216.16, 8390.99, 1121.51, 16771.23, 63592.18, 107.19, 62636.36, 15105.23, 12746.45, 6234.96, 28070.0, 39377.38, 15319.04, 22489.75, 16549.81, 53086.32, 1400.24, 22018.94, 13534.4, 4505.1, 76774.88, 17283.51, 23128.97, 54435.69, 16663.08, 14713.2, 8461.83, 42066.88, 53861.51, 15893.75, 32679.17, 49332.93, 87470.06, 104844.88, 684.97, 134055.11, 3232.63, 84383.38, 301.4, 96365.44, 9787.51, 67999.77, 58147.19, 12965.4, 31362.91, 42754.51, 17708.35, 6142.54, 8880.54, 19005.36, 58345.44, 50616.0, 13807.67, 3730.08, 14979.2, 1999.2, 25367.62, 1355.58, 80021.67, 7814.71, 14874.53, 10920.35, 2372.78, 13702.76, 41598.13, 1255.03, 1145.77, 74620.54, 84752.35, 78499.01, 7771.2, 943.12, 3513.99, 426.66, 52676.04, 1131.56, 18263.34, 47837.29, 15467.14, 42880.57, 37885.99, 20817.4, 7551.0, 5669.64, 48576.82, 60337.47, 29106.37, 11388.84, 37977.88, 3053.88, 7360.19, 50869.24, 9967.89, 25697.8, 164102.41, 70694.4, 17319.8, 39884.42, 1050.34, 331.76, 661.11, 49095.81, 52512.67, 7900.88, 36417.64, 7239.15, 41734.18, 51896.1, 4041.77, 1897.5, 14944.02, 3830.0, 6345.65, 17627.3, 63486.15, 24039.23, 14581.06, 3226.45, 15604.52, 50128.4, 61857.14, 20193.69, 7322.05, 4271.46, 246098.2, 5500.0, 851.91, 119500.69, 80711.79, 91.93, 66853.98, 3240.59, 45582.53, 75387.97, 48967.87, 69348.37, 14787.89, 14342.0, 858.84, 1752.54, 1897.39, 178.77, 7258.53, 4586.89, 128706.56, 21586.54, 8559.25, 74097.29, 50039.92, 3213.69, 578.4, 24973.06, 129211.05, 19842.69, 25590.1, 73403.57, 43852.01, 43530.89, 963.17, 24133.72, 3075.3, 13832.5, 30485.49, 72105.76, 3387.74, 3748.84, 20198.65, 8727.76, 5291.05, 1390.0, 76672.11, 15533.64, 47419.41, 10437.72, 1173.44, 12578.4, 61193.78, 26078.57, 57638.14, 74979.02, 23135.43, 4242.4, 5480.48, 5730.55, 6003.18, 19933.22, 70943.95, 5409.03, 1583.54, 41754.24, 123002.6, 45296.08, 64505.17, 36885.18, 73358.61, 4514.93, 12751.08, 540.42, 46468.21, 27242.54, 4889.59, 31357.06, 16437.96, 24708.73, 90206.06, 12029.46, 52134.58, 542.59, 5930.6, 15056.86, 39091.9, 7442.86, 542.11, 26632.74, 29469.99, 15120.01, 777.56, 13166.35, 14243.89, 2169.37, 518.84, 79861.67, 14869.3, 77719.06, 50036.63, 30978.51, 19576.63, 69710.41, 598.47, 45925.2, 6948.0, 765.9, 7842.68, 106925.94, 1405.16, 29791.44, 460.88, 58844.74, 22861.33, 9.22, 6240.67, 179338.33, 18825.05, 14394.5, 57904.98, 15803.81, 177.0, 50854.84, 13313.67, 130101.93, 49237.98, 5091.83, 13536.01, 39916.18, 10323.24, 14906.55, 10311.0, 32764.08, 62.16, 4956.0, 80467.28, 14754.04, 21464.82, 4820.55, 77432.94, 38790.05, 14571.93, 3780.49, 2363.8, 8174.45, 3748.84, 28370.75, 26542.64, 18235.02, 2773.39, 400.93, 10520.75, 710.25, 21300.0, 8873.08, 49765.71, 104306.05, 106620.12, 2101.98, 12830.49, 44261.07, 17859.58, 77130.66, 128717.49, 4427.68, 168191.6, 31792.6, 74584.3, 2353.86, 25996.89, 59709.79, 58869.85, 141692.4, 59746.4, 4099.5, 23098.52, 7024.89, 33164.44, 4059.96, 152970.23, 36412.82, 40266.55, 81278.66, 34279.55, 44041.9, 100264.17, 923.54, 15360.62, 17125.38, 36629.91, 15450.56, 1897.5, 101857.43, 1329.23, 81773.01, 129578.8, 55381.59, 33.18, 9389.95, 162597.04, 121833.57, 7813.94, 19185.48, 14877.72, 7609.67, 90419.71, 83568.66, 6345.43, 47100.68, 115.84, 174860.4, 1328.25, 14257.87, 36395.72, 72406.08, 57826.95, 50034.69, 12011.2, 93530.6, 12871.79, 63.33, 45335.07, 56746.8, 7414.68, 6036.23, 19693.27, 30712.64, 47296.3, 1898.2, 30552.91, 17014.2, 4844.64, 76411.05, 29791.31, 52655.21, 90931.61, 71856.04, 2364.4, 3973.28, 189.36, 16934.4, 3606.14, 95.13, 99147.0, 10646.86, 14768.64, 2577.5, 24627.3, 25668.46, 16338.93, 1023.7, 42109.09, 145751.54, 2839.46, 391.25, 4291.02, 105917.01, 43346.14, 41663.04, 4275.26, 8864.38, 18838.32, 357.25, 68856.51, 28776.38, 36407.41, 10363.37, 14825.73, 47358.78, 479.78, 40142.12, 70312.21, 9086.04, 55587.48, 51918.06, 36712.95, 57060.13, 14533.56, 3244.0, 16936.48, 2652.04, 34969.17, 42047.83, 54159.38, 56353.75, 150.11, 62214.99, 49801.88, 1579.2, 10831.34, 8798.4, 87592.85, 13528.7, 23371.26, 1789.56, 7060.0, 46585.44, 13814.24, 1853.72, 12023.55, 41818.23, 21404.36, 110562.49, 44245.67, 608.25, 32633.28, 629.67, 80007.13, 296.93, 21300.0, 145608.96, 625.5, 7664.54, 1940.24, 67.29, 1041.22, 59727.78, 36884.35, 41669.14, 50794.63, 22193.7, 7401.59, 24716.23, 34827.83, 74213.19, 16191.83, 7837.29, 17139.71, 21420.31, 46304.87, 16902.21, 11741.59, 29662.19, 54863.27, 7487.84, 104712.83, 11558.59, 221.57, 14310.43, 20976.56, 8475.45, 5973.9, 115622.7, 71826.75, 49537.16, 24612.71, 41468.6, 48139.95, 21726.66, 37287.6, 1897.5, 42257.11, 43317.14, 21492.23, 36191.66, 68232.21, 4612.95, 19312.37, 6111.06, 41076.89, 13340.21, 83103.03, 19376.4, 22583.92, 39351.5, 292.2, 21.93, 87076.04, 45712.77, 73846.97, 127465.69, 12573.3, 291.15, 32116.08, 79608.54, 8793.09, 902.1, 23059.85, 15497.32, 36327.68, 293.05, 15024.96, 10884.76, 89583.33, 3373.05, 8949.7, 9962.22, 15522.3, 15482.3, 111316.67, 97476.35, 53287.19, 1944.36, 41309.29, 1752.56, 44398.07, 81553.06, 1355.24, 67.2, 5988.0, 4494.55, 4149.91, 31508.26, 26157.54, 12096.07, 10976.97, 9513.97, 3977.81, 22167.07, 18877.74, 130239.85, 10378.0, 116846.58, 289.18, 17475.36, 75805.97, 4878.99, 28298.87, 35960.65, 2200.0, 12751.35, 54341.98, 20706.08, 105164.59, 2173.16, 917.81, 14694.36, 39061.29, 21446.78, 37914.34, 6058.78, 80.41, 1695.68, 7920.0, 100875.0, 21469.07, 70769.43, 11341.62, 55936.04, 13872.48, 9218.68, 382.31, 17818.85, 32562.87, 105762.05, 986.15, 1084.28, 71938.39, 16669.4, 13945.38, 123554.72, 20593.91, 25448.42, 728.78, 4084.25, 35821.96, 102378.47, 13765.6, 123094.7, 35858.31, 20557.36, 89668.41, 39673.27, 28897.07, 1507.0, 499.87, 16071.26, 18900.99, 49770.31, 20015.94, 74295.37, 2546.95, 15701.36, 24050.74, 40688.95, 41631.66, 125616.14, 282.45, 269.96, 58411.94, 61481.56, 71427.44, 2462.26, 1832.41, 27801.17, 92454.48, 18900.99, 1264.23, 15178.08, 334.01, 27179.53, 38568.28, 45980.47, 61120.42, 22983.35, 32132.8, 11903.23, 32189.14, 6065.04, 21060.3, 9068.94, 4862.2, 14330.23, 77200.1, 31954.57, 19067.09, 162542.11, 2597.72, 1651.98, 1305.28, 837.12, 40773.25, 12838.8, 15713.38, 16603.05, 28309.15, 54483.27, 2988.52, 97974.01, 144118.88, 1867.3, 135915.39, 51687.19, 1843.36, 22987.38, 31686.05, 9617.49, 1744.82, 20993.37, 45597.82, 4211.43, 2845.32, 42515.28, 3667.01, 1934.34, 29828.16, 170033.42, 11728.17, 11755.37, 9222.81, 93679.51, 14135.59, 15807.2, 96847.69, 24447.24, 5638.53, 45739.45, 13646.45, 38845.02, 1898.2, 591.69, 99060.12, 57186.1, 26951.32, 19521.75, 1180.96, 40552.33, 2261.91, 66637.52, 70201.03, 155436.17, 14653.41, 2288.59, 29627.13, 10688.15, 17283.51, 58410.5, 15397.28, 42403.11, 3689.0, 60172.46, 1376.32, 462.72, 22203.01, 17163.31, 43615.58, 57577.01, 59229.34, 2254.32, 20557.14, 9654.56, 133121.66, 20919.26, 63229.14, 113013.0, 870.66, 119539.18, 42710.49, 15910.17, 50007.73, 17009.94, 29894.78, 630.36, 29928.28, 14630.04, 1898.9, 68943.81, 813.17, 8476.6, 39525.7, 4337.22, 174.47, 355.7, 937.19, 990.66, 33775.7, 16589.33, 307.2, 142.9, 9444.0, 124.24, 63195.71, 7698.6, 210.12, 52208.43, 630.08, 75444.37, 68880.46, 5590.36, 35249.67, 13720.7, 35652.14, 51167.52, 38763.23, 2230.57, 15950.55, 6321.84, 25179.54, 74213.92, 59075.48, 10052.82, 683.28, 1948.57, 293.69, 1288.75, 12599.21, 105114.74, 15293.63, 4474.69, 6181.65, 3426.09, 469.69, 2111.33, 8686.64, 242.09, 902.2, 14773.88, 3753.77, 17148.18, 8152.74, 19498.12, 14076.79, 122167.91, 3354.34, 957.31, 11235.75, 17701.32, 6803.72, 62956.96, 14912.44, 9618.68, 17989.62, 37145.15, 41420.65, 21099.64, 20378.25, 78750.22, 29163.73, 31941.26, 19706.5, 3787.91, 32669.4, 45245.28, 35128.66, 1666.73, 6196.87, 471.56, 25857.59, 66747.21, 59417.82, 54155.03, 883.26, 4227.47, 7119.78, 432.39, 83690.86, 7152.3, 44454.5, 88367.67, 12447.51, 18593.76, 40520.42, 55698.54, 88820.79, 2172.91, 6741.33, 11089.44, 17584.53, 2480.0, 65356.82, 57526.76, 16029.89, 1228.24, 39241.94, 68552.83, 40164.04, 12456.6, 26904.06, 3797.1, 61305.6, 9694.08, 11881.88, 30447.15, 14296.18, 8806.56, 8902.68, 24409.35, 97058.25, 10017.34, 1374.0, 456.59, 43261.87, 42110.57, 67326.15, 42420.67, 64994.03, 73031.37, 76309.21, 123.19, 5448.72, 36350.8, 77249.45, 14635.27, 31410.23, 102072.29, 101989.12, 35753.66, 14160.85, 13580.73, 58539.14, 72688.7, 8576.92, 40949.92, 19597.5, 16378.31, 14749.6, 8104.1, 41125.74, 5435.7, 1898.2, 314.76, 4624.12, 244.44, 98635.05, 66328.71, 57438.8, 122047.93, 4228.25, 170.63, 20615.64, 280.08, 2386.66, 30824.06, 4268.38, 77110.43, 15119.41, 41.76, 16296.52, 972.07, 74241.66, 403.66, 125131.24, 797.13, 3815.05, 40579.96, 1693.67, 121933.52, 14328.83, 62489.68, 5015.29, 59390.99, 15640.53, 5920.9, 49124.32, 5413.53, 8041.59, 16996.16, 27835.65, 61.29, 1016.06, 674.52, 12307.58, 2652.04, 2204.98, 6053.36, 29272.08, 471.56, 4206.7, 14594.58, 23842.91, 28439.52, 714.96, 14157.77, 3215.22, 40272.09, 59062.7, 438.58, 3048.85, 50057.64, 121994.47, 15482.3, 43290.88, 49454.91, 3897.36, 109283.74, 54467.1, 25731.01, 7860.59, 49762.73, 32217.27, 2694.87, 943.12, 1322.22, 139542.8, 4859.4, 87302.77, 18273.41, 19066.02, 36606.78, 58115.71, 87347.24, 15004.28, 10471.68, 75476.0, 62046.05, 47560.18, 32969.37, 1329.58, 383.52, 58986.71, 31617.81, 352.12, 15879.87, 32782.92, 90343.68, 4880.18, 10447.81, 4122.1, 44356.26, 53924.25, 838.16, 46399.62, 68.24, 11124.52, 10966.11, 66427.55, 17749.43, 47387.47, 3371.82, 7902.5, 13275.59, 5081.7, 64848.03, 3470.04, 4712.23, 402.8, 15088.0, 23050.15, 2237.2, 1145.86, 5314.4, 89575.0, 12067.25, 11252.66, 63.13, 8833.66, 38857.05, 41735.45, 19108.38, 3115.2, 16034.02, 60249.29, 31038.56, 18937.83, 6532.6, 94877.93, 970.12, 72815.91, 1898.2, 9910.28, 12787.25, 1236.34, 5114.55, 16235.12, 52901.64, 358.66, 7622.84, 12770.5, 73976.72, 22808.11, 4370.06, 11985.23, 404.87, 33961.39, 24249.65, 13797.43, 13767.92, 4821.77, 23654.87, 1145.34, 20906.26, 3962.64, 28904.39, 21533.12, 56952.73, 127820.19, 2561.19, 10937.88, 66441.69, 58292.7, 1027.0, 41767.22, 44992.87, 567.84, 1339.91, 3444.01, 124408.22, 28.24, 17266.35, 44064.99, 27593.87, 903.18, 9830.57, 9221.46, 8492.32, 45002.74, 138.75, 4815.16, 31.56, 2568.36, 17864.15, 285.8, 102675.42, 8078.47, 52354.98, 22555.91, 42395.83, 45445.78, 12560.87, 14516.61, 46865.36, 1326.7, 73166.06, 33422.07, 68122.07, 63545.66, 1746.92, 7651.31, 96404.0, 34715.93, 9639.12, 4341.39, 34545.67, 15513.09, 48651.09, 20935.25, 28940.28, 629.67, 290.32, 382.97, 3542.5, 40414.78, 31202.03, 22835.74, 181689.1, 88423.23, 12670.97, 135947.01, 3927.67, 18395.35, 5319.0, 1565.61, 892.84, 15436.03, 4688.71, 14013.3, 9712.11, 35811.2, 5461.04, 4204.3, 35752.8, 29374.02, 64788.7, 75253.29, 97.34, 3402.12, 41604.15, 51104.15, 44858.0, 7323.22, 1898.2, 56139.67, 9044.55, 30462.79, 2702.78, 8034.94, 972.3, 3037.8, 49064.56, 66020.22, 25191.36, 16697.35, 131067.07, 59929.66, 120.36, 9181.29, 12794.57, 13371.75, 65883.6, 99.54, 51163.2, 2740.28, 119382.04, 190.19, 59042.02, 364.8, 47563.73, 37714.1, 38428.96, 22750.07, 5928.55, 6957.67, 5790.5, 4833.12, 47517.62, 51978.02, 64512.89, 218.76, 67153.15, 38258.51, 44641.12, 20211.94, 82562.61, 5352.42, 8721.26, 3927.26, 53950.48, 42664.57, 3282.91, 190.27, 64181.45, 55.16, 14780.25, 98597.42, 80621.84, 36130.46, 32121.23, 24952.33, 70528.76, 175303.77, 3593.18, 31187.89, 82893.02, 4260.24, 6803.3, 47445.66, 14800.24, 9722.02, 51871.05, 78951.51, 20298.27, 59619.98, 3547.0, 3541.31, 42461.23, 7561.32, 38645.14, 45726.17, 123580.76, 15931.04, 30625.98, 75195.99, 8395.59, 5819.93, 1927.42, 83920.47, 66389.9, 61893.92, 92019.29, 55.02, 6532.6, 87732.63, 22913.2, 26665.71, 124894.52, 33826.03, 3459.08, 19769.4, 60767.36, 18619.32, 5091.81, 58300.59, 412.47, 2373.96, 15266.33, 43470.0, 81179.12, 67375.59, 58981.17, 120087.8, 3852.07, 19173.2, 34108.95, 13730.04, 356.39, 5673.23, 15583.41, 1896.0, 47699.22, 26576.3, 10368.43, 32605.39, 23806.34, 24607.54, 3191.41, 8817.58, 159463.72, 2642.24, 104415.93, 47617.78, 5168.35, 12539.31, 254.75, 10447.18, 3918.06, 10056.62, 255.6, 1886.25, 107.17, 97140.8, 51107.53, 63536.2, 891.0, 7315.26, 531.66, 35790.1, 12487.16, 5379.08, 8793.09, 1328.25, 36102.96, 754.95, 673.42, 33952.5, 54613.8, 32743.85, 87912.03, 21.5, 24952.13, 3003.07, 13689.78, 1299.21, 1677.2, 68633.73, 41965.14, 122172.17, 170.28, 130264.99, 1191.99, 22503.62, 57700.18, 34963.62, 120052.5, 43861.32, 61804.15, 11485.11, 9273.86, 1556.8, 29146.38, 24294.84, 94.86, 4554.0, 15850.93, 1040.05, 20786.14, 52168.55, 45408.32, 506.76, 11827.31, 13371.75, 42589.68, 89074.92, 35644.62, 5413.39, 13038.15, 70159.74, 46253.04, 37556.55, 9524.7, 10385.41, 13069.75, 16450.1, 1015.24, 37762.2, 1940.24, 4024.29, 2127.0, 134426.65, 2568.34, 29414.76, 79208.41, 21576.54, 61188.84, 13088.88, 2522.96, 5501.57, 23292.22, 4210.42, 13737.54, 15236.3, 4491.33, 24354.1, 7840.92, 106535.84, 13474.56, 14069.1, 113248.8, 24183.27, 113657.71, 3023.93, 46692.24, 43572.72, 5026.61, 18426.49, 20158.08, 22163.84, 14264.84, 37678.83, 100902.33, 22688.07, 11869.26, 3322.71, 8654.46, 31648.0, 1013.18, 3208.81, 52992.76, 45040.1, 155837.53, 97536.85, 74012.75, 88196.97, 12648.19, 8392.28, 21063.05, 27272.71, 24433.01, 84983.03, 53206.43, 1649.57, 37649.52, 15284.38, 14502.44, 54235.43, 7027.38, 41572.9, 68273.44, 7258.44, 36534.65, 7555.14, 40694.64, 116951.0, 3031.38, 46649.8, 12211.2, 388.29, 58682.73, 128.07, 2318.96, 33617.49, 2373.96, 38371.73, 2105.05, 18135.88, 13976.96, 20738.04, 2713.2, 11860.56, 11135.27, 20936.07, 17550.52, 172731.64, 17848.96, 119467.48, 17606.06, 119182.9, 91024.77, 6897.99, 82066.25, 536.68, 5050.8, 11287.9, 1035.73, 5095.68, 10058.37, 12034.92, 25756.69, 14228.41, 33572.0, 397.25, 61322.19, 40189.3, 26956.8, 212.4, 30515.4, 64013.34, 1465.16, 16337.89, 24959.21, 5409.1, 18979.52, 573.75, 51623.82, 96895.36, 54284.4, 2352.97, 81849.59, 39444.64, 9536.63, 26531.8, 140123.06, 52682.71, 33246.49, 1812.83, 2009.13, 106110.94, 8536.72, 49885.92, 59073.46, 5851.47, 14094.64, 23397.22, 77909.41, 4093.57, 110.0, 94480.6, 12974.57, 25451.97, 19756.1, 10928.87, 9801.57, 116395.69, 35897.31, 235.25, 11134.99, 99.06, 8949.7, 779.47, 120331.88, 77937.46, 2138.17, 13318.27, 19301.99, 37196.99, 4972.25, 26019.68, 64120.17, 12668.17, 15915.12, 2482.55, 31671.03, 13851.12, 4737.56, 44286.91, 15440.59, 444.87, 2619.43, 167846.73, 26538.12, 1933.07, 64824.9, 45339.24, 661.11, 106722.43, 10113.88, 8510.82, 14485.53, 23787.1, 39167.08, 68080.62, 130933.44, 144568.28, 3703.19, 1355.36, 9927.64, 15917.12, 382.92, 48665.1, 1136.7, 18429.12, 253.84, 102240.42, 31051.04, 37961.49, 17282.84, 11096.31, 39419.35, 71679.81, 1355.36, 53076.11, 23781.84, 7253.34, 110324.6, 12513.08, 1045.51, 8099.86, 16563.55, 51188.02, 5892.45, 25749.68, 18722.49, 14857.35, 16201.12, 268.7, 297.04, 72922.34, 9200.51, 46556.37, 319432.07, 16180.8, 14350.9, 52003.19, 13848.1, 382.32, 9879.36, 80199.79, 17580.56, 36464.9, 18020.25, 38262.16, 117879.18, 8649.76, 42701.91, 7347.12, 554.25, 47259.98, 7103.04, 200.65, 12878.09, 11602.12, 46764.08, 680.21, 48318.9, 21732.62, 99.54, 28697.27, 1764.82, 134769.22, 14069.82, 17969.58, 579.13, 15520.52, 471.56, 49525.7, 85836.26, 42601.09, 15482.3, 24303.64, 472.79, 318.36, 45874.2, 534.34, 61395.24, 1322.22, 24012.0, 10864.13, 45044.7, 83976.23, 66572.88, 3390.06, 132062.94, 1640.23, 6266.13, 2682.78, 5976.52, 96705.21, 22061.29, 66208.91, 39954.94, 8041.59, 32157.92, 56662.78, 28549.16, 14201.45, 57247.26, 91367.8, 11823.67, 3911.51, 12155.5, 3689.22, 20107.64, 11848.39, 9062.25, 9739.77, 11761.92, 45118.38, 5887.86, 110752.13, 1764.66, 39313.39, 7894.26, 138715.45, 14742.39, 16437.55, 23982.58, 8160.95, 30851.34, 67270.28, 10317.76, 11213.3, 16823.17, 52970.41, 777.37, 27286.82, 55194.75, 5166.8, 83683.67, 6722.51, 4797.0, 34316.38, 87527.6, 75982.82, 40582.68, 393.58, 4610.82, 42581.93, 15384.18, 93620.02, 59634.16, 21986.4, 15395.25, 33169.81, 1362.46, 130733.13, 63193.41, 13625.13, 6503.83, 13780.31, 1322.22, 40507.0, 43635.28, 688.15, 83025.0, 68299.7, 15563.75, 1698.4, 792.05, 72974.13, 53989.92, 69919.81, 56866.24, 6139.36, 78304.6, 293.83, 104447.49, 2911.23, 1030.97, 66872.68, 171331.65, 671.76, 552.77, 7057.06, 13141.5, 723.86, 98890.85, 471.56, 78154.22, 38278.03, 67245.73, 148038.92, 95862.76, 6713.91, 30204.8, 1764.3, 9802.64, 43472.15, 54455.72, 3797.1, 2337.3, 355.55, 11923.44, 427.72, 31936.95, 2175.81, 742.79, 102.19, 103478.66, 16397.25, 169.0, 9302.04, 7941.37, 11314.0, 9884.97, 51351.47, 110264.11, 18313.04, 19993.04, 18057.77, 362.11, 84930.7, 30236.16, 945.31, 3451.29, 130824.51, 10920.38, 943.13, 16723.88, 31958.08, 3593.18, 110642.0, 4633.0, 608.62, 40046.68, 1171.92, 23935.62, 12178.82, 506.61, 125569.44, 35236.01, 74755.78, 2187.9, 30870.19, 9828.01, 756.28, 6361.07, 50000.47, 66266.57, 5632.74, 52633.04, 8453.48, 18264.04, 14747.01, 87973.08, 22079.96, 264.49, 49766.57, 155864.21, 1574.18, 1952.24, 12092.32, 52625.4, 16948.5, 134823.44, 593.6, 23288.0, 67307.13, 807.01, 16820.19, 69694.98, 111278.22, 46410.39, 43079.42, 52969.42, 11942.4, 13556.41, 45277.43, 452.24, 20161.44, 96372.71, 64055.61, 26683.09, 100072.54, 215579.36, 5692.0, 8041.59, 11223.28, 89108.98, 37675.88, 117963.64, 17185.18, 806.91, 14199.07, 107442.12, 13961.05, 42926.0, 60589.8, 35936.15, 88998.53, 48591.23, 1579.2, 6294.05, 14502.45, 43855.65, 24589.04, 90909.45, 17038.93, 279.82, 53332.5, 130108.69, 92901.33, 1017.41, 537.79, 27000.86, 29007.23, 32602.44, 661.11, 17735.98, 4212.99, 44123.87, 66764.92, 56308.68, 32798.95, 30910.16, 16074.24, 34490.85, 7736.6, 75625.84, 37331.34, 1601.83, 1143.02, 6345.63, 32886.71, 119.34, 5681.06, 97697.73, 459.32, 373.44, 1807.46, 16746.66, 1477.56, 2257.18, 2448.12, 43642.23, 18353.59, 64176.3, 17256.8, 39186.88, 11443.16, 6855.17, 6865.63, 15676.62, 10194.1, 9250.05, 5546.43, 27915.44, 9653.84, 8003.11, 40282.76, 70257.31, 27998.15, 9612.72, 56230.75, 39863.16, 21293.97, 1414.68, 41272.31, 11639.46, 834.09, 18927.0, 41964.88, 68483.34, 367.49, 20919.29, 13114.9, 75998.55, 56738.87, 60345.01, 20546.01, 338.3, 11103.56, 14767.5, 2512.15, 34152.7, 47613.18, 17426.0, 39527.94, 13506.6, 9855.04, 1078.06, 8600.74, 2080.62, 13771.06, 110123.98, 55509.1, 2048.99, 11666.3, 12499.02, 12238.2, 2497.5, 4970.44, 12668.17, 85306.36, 40288.97, 1457.07, 52558.64, 57596.93, 33072.48, 74238.14, 4726.63, 6422.96, 158412.64, 18640.01, 84037.48, 40497.33, 35573.14, 2356.54, 39139.6, 20475.8, 13649.53, 17160.93, 18900.99, 100257.72, 201.25, 56003.75, 14694.59, 1501.52, 46280.1, 23934.31, 9139.2, 62899.35, 19126.61, 3360.58, 59570.53, 2196.94, 42554.52, 2012.16, 88643.35, 4860.87, 145.33, 60573.41, 6552.44, 19343.71, 27084.46, 97334.37, 821.68, 30965.08, 259891.02, 513.16, 65515.18, 9024.12, 36152.34, 50320.66, 5818.34, 10038.17, 37731.54, 16795.18, 11344.09, 35064.0, 245601.48, 661.11, 20760.1, 13214.83, 42865.57, 30163.75, 34692.21, 44910.36, 41532.04, 36137.68, 38175.25, 134511.41, 148049.61, 15391.48, 51814.73, 17386.98, 36672.21, 19524.37, 33110.2, 40576.16, 68025.92, 1328.25, 69990.34, 1535.3, 84115.08, 8717.33, 61523.29, 57178.43, 17159.69, 30884.06, 90486.55, 8417.92, 2736.63, 165.9, 38120.82, 3431.41, 1355.36, 153646.9, 5855.33, 66602.8, 58739.95, 7852.86, 66687.58, 6577.91, 13881.54, 6674.66, 64262.82, 38480.82, 46720.48, 23843.63, 7656.0, 24033.26, 46064.25, 413.04, 144316.8, 59114.88, 10861.77, 80350.31, 60010.03, 11578.4, 39499.0, 15867.1, 19437.33, 312.96, 1092.1, 7445.94, 15609.89, 1039.64, 35033.18, 9105.59, 8492.26, 145849.64, 32528.85, 62519.98, 14149.92, 16719.36, 9052.12, 54013.78, 3534.18, 16557.77, 31660.5, 17091.1, 73077.2, 905.18, 429.86, 1757.09, 24899.74, 10491.22, 14242.77, 17209.3, 5652.34, 94770.81, 87901.8, 86061.69, 80884.9, 18893.01, 4658.01, 44662.75, 6184.95, 111899.82, 55922.6, 28099.7, 41521.77, 53063.06, 107906.64, 330248.41, 34210.98, 20062.74, 2340.22, 980.66, 28704.0, 39734.51, 22897.41, 2965.15, 26584.62, 26241.8, 14076.95, 166268.92, 8587.28, 112044.61, 88547.77, 26615.72, 18092.1, 44691.34, 9720.99, 38355.63, 19210.31, 31769.44, 8816.81, 4943.74, 138732.45, 50500.72, 129049.43, 32466.42, 88533.0, 99384.98, 9609.09, 14077.51, 14887.93, 3254.75, 199698.87, 17544.24, 57682.29, 3898.44, 510.53, 90054.13, 5692.58, 81767.88, 13684.67, 30769.75, 48063.61, 47702.72, 47899.13, 11536.55, 33832.89, 118374.1, 5624.12, 374.76, 52392.89, 126799.14, 902.98, 31057.37, 5248.56, 63474.24, 50000.79, 10202.55, 29950.78, 471.56, 12984.19, 5837.4, 114.38, 1085.08, 47664.23, 883.45, 19750.08, 20178.87, 6478.51, 68866.51, 5034.45, 24423.61, 16394.4, 28050.44, 7108.16, 21621.12, 29421.67, 64258.4, 384.97, 4084.22, 1688.85, 8057.72, 86960.69, 81613.7, 15228.28, 15300.63, 41853.82, 74721.74, 20188.78, 29639.36, 33942.0, 2741.83, 19332.57, 35242.56, 92441.27, 4402.11, 17157.25, 81783.39, 55081.99, 13015.12, 1227.85, 43887.11, 19237.39, 41668.2, 50935.92, 420.71, 9966.4, 58358.66, 17602.16, 3778.44, 8656.32, 7465.2, 24.72, 13614.7, 100003.37, 26670.1, 27683.43, 1781.78, 22018.11, 121024.73, 67565.72, 37720.69, 24876.05, 63.13, 10146.58, 2340.9, 34281.28, 14034.25, 83952.56, 30727.77, 29585.71, 9294.27, 53706.6, 353.8, 15492.02, 1392.52, 100442.58, 12634.07, 1452.18, 2925.89, 36236.73, 427.72, 13008.14, 8399.32, 179872.2, 72376.07, 18588.18, 108475.9, 1752.6, 9216.24, 1082.48, 6788.68, 1118.71, 286.32, 8096.2, 9127.32, 8685.62, 148222.9, 115592.97, 99702.88, 76495.3, 12010.85, 3797.1, 2656.5, 29922.07, 128953.42, 9401.25, 112695.56, 23637.16, 178.01, 757.08, 305.98, 17400.67, 11321.22, 23410.86, 11181.19, 4855.27, 2091.11, 2349.9, 63719.03, 1635.44, 2045.11, 1444.08, 24157.09, 2286.24, 27890.46, 9728.99, 42288.74, 44951.14, 129.96, 65993.29, 77939.52, 49359.04, 58202.61, 22544.58, 153.3, 1460.04, 88441.4, 7186.7, 19480.48, 137298.27, 32715.47, 61404.06, 14869.29, 528.58, 6532.6, 1404.68, 11737.83, 132775.77, 565.62, 190.08, 115928.78, 9340.25, 20152.83, 7162.27, 119696.22, 44754.94, 22860.18, 9983.56, 91824.94, 13334.31, 15113.51, 5058.13, 26667.82, 1373.96, 1898.9, 98527.07, 98029.58, 700.0, 27696.53, 364.8, 95521.62, 143229.14, 16585.19, 54667.66, 113248.8, 76998.95, 823.2, 36857.42, 1486.43, 49839.99, 587.71, 1549.09, 14502.45, 16707.6, 943.12, 570.14, 8364.7, 36161.02, 25488.16, 6378.8, 13452.5, 84616.01, 44662.78, 471.56, 73316.88, 10975.65, 4664.15, 33637.59, 47862.71, 16733.12, 108689.81, 27807.75, 63157.84, 1350.03, 19899.6, 57981.21, 110338.38, 78971.64, 21046.36, 3446.32, 28448.14, 17372.08, 15908.4, 17090.01, 270332.6, 47370.4, 20572.82, 9495.88, 37866.31, 52747.2, 89741.62, 6384.73, 45710.72, 59424.75, 13339.2, 41604.48, 68450.39, 26919.65, 63748.0, 17527.39, 31535.57, 3627.78, 9222.81, 75576.73, 1021.7, 7096.58, 14920.45, 28906.1, 20408.99, 24533.45, 63984.03, 15642.72, 70480.65, 38276.86, 581.49, 798.15, 61326.34, 11410.22, 42270.77, 14877.29, 37161.54, 15729.35, 20344.2, 15814.4, 25668.37, 705.05, 56258.84, 227086.53, 1490.84, 73057.53, 28024.39, 3795.7, 15162.43, 90997.29, 3254.05, 77.88, 14485.94, 100228.3, 59.16, 28459.83, 7672.48, 90563.84, 167002.44, 57151.56, 18477.18, 35566.65, 52658.3, 317.21, 27571.25, 64340.24, 31961.15, 60894.46, 3226.45, 28616.05, 59673.58, 3149.55, 82974.12, 5824.36, 229689.95, 40142.44, 27644.08, 1697.76, 188722.73, 2352.97, 46018.12, 478.14, 4177.41, 39315.53, 661.11, 15802.02, 15367.37, 42188.06, 21653.99, 1249.2, 69190.11, 1588.06, 14772.55, 1426.61, 4788.44, 52635.09, 46469.95, 6663.09, 286.39, 22879.83, 38493.98, 92501.93, 16752.11, 58380.0, 6532.6, 12437.4, 2214.45, 17841.45, 3012.45, 280.5, 60702.02, 1898.2, 6675.01, 84392.34, 12448.2, 580.67, 668.17, 43048.79, 396.49, 22004.41, 7177.86, 245.59, 8322.0, 1283.97, 15085.59, 32852.56, 32744.65, 142.9, 818.86, 110357.56, 4368.64, 10019.0, 13476.96, 35137.97, 56329.24, 79568.43, 19999.2, 4053.09, 691.92, 64512.54, 37840.0, 8737.58, 19264.08, 120764.69, 15551.72, 44446.07, 12100.57, 193076.23, 11257.34, 3702.21, 4472.46, 67309.73, 54849.73, 1559.49, 33803.58, 215.64, 30509.95, 50615.37, 17930.13, 35883.47, 1245.75, 32757.92, 22856.3, 483.2, 805.59, 4343.09, 4159.35, 3227.43, 355.49, 13296.28, 2810.88, 4494.44, 16474.1, 144162.56, 25678.04, 444.74, 177471.65, 5041.08, 99169.39, 15417.98, 6092.32, 7664.54, 17775.42, 4088.45, 27783.84, 48319.9, 20883.14, 122.84, 13768.13, 63456.29, 20122.14, 55425.54, 66405.56, 252.89, 7310.12, 68008.33, 199.5, 72907.48, 47484.34, 106509.48, 2829.37, 17033.96, 18773.66, 25439.19, 36478.64, 9861.15, 41301.85, 31887.23, 68537.34, 14982.62, 30689.44, 83687.8, 22696.7, 553.98, 5581.18, 145864.08, 2273.42, 2373.96, 8182.04, 1801.18, 2412.85, 43154.84, 44057.52, 46489.61, 9614.96, 27972.04, 18900.99, 4053.19, 48993.15, 2208.0, 194159.41, 33544.9, 2331.13, 776.01, 120.9, 3940.53, 33601.57, 1064.14, 33834.96, 12991.56, 59992.0, 78609.44, 55799.63, 47098.95, 51317.16, 26620.42, 67814.24, 15455.61, 107223.22, 66034.71, 26615.05, 1298.66, 11429.19, 328.76, 58322.88, 10810.26, 108087.4, 16832.57, 7631.03, 32749.31, 86.77, 4643.4, 110360.91, 152841.65, 63734.86, 43760.0, 124570.69, 57452.85, 14187.22, 1014.2, 24417.34, 17655.56, 17283.5, 13630.02, 3462.3, 16789.09, 62056.53, 1833.51, 36575.33, 29577.6, 17483.09, 9354.09, 490.04, 16279.4, 8314.52, 37033.57, 16381.68, 41583.22, 3210.0, 39455.76, 3114.58, 18143.67, 81424.4, 4476.33, 433.09, 4924.08, 133243.13, 7896.57, 8174.82, 284411.13, 1604.27, 60028.39, 248.88, 16437.55, 55869.07, 142848.62, 2098.35, 6122.72, 17064.59, 48630.35, 66403.5, 86485.99, 43745.8, 16228.3, 739.12, 15204.29, 14120.59, 52920.2, 41417.43, 88898.81, 67051.08, 6006.21, 14906.35, 18996.19, 16378.86, 5535.54, 85408.21, 20.54, 77156.14, 21097.82, 111232.11, 10678.71, 1816.07, 57655.42, 924.61, 124948.69, 56150.92, 54571.93, 6646.5, 4460.8, 3849.35, 18813.37, 32690.19, 172635.79, 4293.24, 14845.9, 21621.6, 15449.73, 201.86, 56007.58, 17053.22, 1692.21, 29741.3, 464.63, 75974.03, 9954.33, 74531.41, 17605.87, 33124.97, 5609.21, 75478.18, 5679.6, 1897.0, 41980.32, 128542.18, 628.84, 15942.8, 2575.87, 432.06, 45839.81, 10573.98, 10613.75, 39165.33, 3761.63, 3371.8, 13141.96, 30519.74, 12330.18, 91971.44, 45998.73, 50989.83, 43289.11, 56688.43, 6094.44, 5029.31, 88042.43, 55224.2, 48548.42, 41078.7, 49021.95, 53694.46, 14075.24, 124203.32, 17779.61, 5565.25, 12539.81, 20825.64, 2382.55, 41098.23, 116066.56, 35637.1, 57999.29, 12541.39, 97394.3, 32577.47, 10615.11, 15716.94, 60798.12, 45751.51, 123150.85, 71765.61, 128880.25, 68011.59, 15849.93, 35.76, 118391.34, 27134.6, 4511.08, 22944.08, 35969.87, 13153.43, 119766.36, 163078.27, 7686.4, 78274.19, 20260.0, 409.74, 21621.11, 25226.51, 16195.74, 13998.25, 38695.15, 1128.57, 16750.12, 41004.14, 45182.22, 6967.79, 88042.28, 65652.28, 247.8, 4821.77, 22082.02, 3044.48, 8042.68, 9077.46, 1542.84, 23434.74, 21408.9, 49682.04, 29006.64, 4316.6, 5534.66, 76241.35, 7414.0, 58358.84, 678.27, 5601.39, 95932.05, 40854.7, 49472.22, 12474.59, 13733.12, 3300.43, 1652.21, 60816.6, 80502.37, 26628.76, 629.67, 13829.76, 64375.07, 744.68, 3387.48, 19134.95, 71193.88, 39492.86, 17473.9, 23031.26, 56042.07, 1024.53, 87143.76, 34044.7, 74015.06, 5514.83, 41808.22, 8245.59, 22968.53, 9255.13, 15096.76, 8613.53, 778.05, 71054.63, 11452.38, 4422.78, 24794.87, 84880.1, 67351.73, 26119.18, 15893.45, 54524.76, 461.04, 14876.0, 19775.21, 644.64, 74697.48, 13900.37, 471.56, 292.79, 5021.96, 31618.42, 8827.0, 24594.29, 3195.74, 17983.09, 38430.56, 13818.72, 131360.61, 24676.96, 13277.52, 1012.78, 53752.75, 50750.26, 61646.9, 400.44, 859.63, 6720.0, 61432.59, 100648.35, 9513.62, 7404.14, 56986.6, 28853.37, 53.6, 1898.2, 49228.82, 16714.77, 44597.6, 14161.53, 91.93, 5886.14, 116141.42, 19445.27, 10271.35, 34435.81, 46808.58, 34224.2, 125050.92, 52883.99, 244.36, 48241.56, 83491.02, 14278.48, 86500.85, 21670.66, 17232.0, 8237.84, 129653.95, 2621.8, 19453.62, 1224.36, 171.93, 3531.49, 7033.02, 25025.48, 96335.99, 5688.43, 1703.61, 108257.92, 158.23, 139272.81, 60696.42, 15960.34, 68436.08, 1898.2, 1529.75, 64021.25, 2231.12, 240.84, 3351.6, 5903.55, 13194.13, 68155.11, 4832.13, 44655.18, 10334.77, 32210.12, 3585.31, 1003.99, 147717.49, 25010.7, 6296.8, 2829.38, 471.56, 21881.59, 15520.71, 634.29, 45504.56, 13065.2, 304.97, 32343.99, 444.96, 629.67, 3226.5, 219.46, 51844.17, 15229.3, 14877.98, 775.81, 4770.22, 130172.88, 109996.19, 19823.83, 20739.24, 1945.69, 77919.64, 13827.2, 1454.78, 36940.82, 2914.91, 41505.6, 1542.91, 3797.1, 3247.8, 54602.4, 33721.12, 17440.85, 29954.6, 13331.76, 23062.91, 58506.0, 19502.59, 937.99, 3969.04, 379.94, 2282.78, 10973.69, 17648.76, 131834.56, 1084.28, 100613.83, 36712.95, 113438.0, 97628.99, 12989.32, 4186.31, 11944.8, 6554.11, 10970.0, 24967.75, 615.16, 62588.23, 101588.24, 1491.2, 4352.88, 79634.98, 11404.58, 11558.26, 4783.54, 519.66, 63889.9, 19215.17, 28128.75, 51834.69, 48819.16, 63548.3, 10389.86, 32726.79, 530.88, 150130.47, 67068.1, 5281.92, 23898.73, 1834.12, 1328.25, 95766.86, 19139.58, 33415.8, 12683.05, 57.92, 21215.76, 21398.66, 19264.07, 66298.93, 17411.01, 55577.54, 13273.38, 3406.0, 71930.43, 8887.62, 15573.49, 24304.66, 498.03, 15559.76, 51083.07, 13658.43, 3892.7, 15704.64, 9027.88, 13005.7, 38426.84, 23034.3, 5436.63, 41880.17, 13488.96, 18437.79, 163.43, 1277.18, 89652.78, 23722.74, 51442.05, 22488.26, 18403.42, 26076.36, 5048.76, 66553.24, 24186.82, 52407.11, 45572.74, 170.88, 41534.87, 171395.81, 63847.92, 22746.55, 15457.76, 32629.6, 15260.11, 65453.74, 16267.49, 23044.84, 319.99, 83585.51, 2807.37, 62320.65, 346.36, 21574.07, 30938.22, 1615.87, 16807.96, 15638.84, 224.88, 58902.43, 111623.85, 702.4, 101384.96, 1209.65, 98.86, 166.35, 117015.44, 14926.94, 93640.73, 3403.8, 168.78, 108114.65, 74102.4, 7513.47, 53186.76, 6111.72, 20366.58, 21300.0, 1129.58, 78383.35, 1329.23, 73207.76, 3045.2, 3191.4, 2793.5, 49289.8, 8683.19, 9647.04, 7519.21, 1971.99, 76585.31, 12970.78, 15236.15, 240.95, 54168.11, 2530.97, 9864.6, 105033.23, 7059.86, 10145.81, 63452.77, 2736.4, 120797.52, 401.72, 11253.43, 20773.36, 12683.47, 826.01, 291.3, 20098.39, 3969.81, 28895.57, 1275.09, 151258.99, 6403.9, 878.83, 13753.97, 649.27, 23418.81, 19005.75, 13138.98, 9171.89, 12878.89, 67903.92, 67055.21, 38411.56, 3556.98, 135.27, 31989.82, 47481.18, 23649.86, 72934.61, 19912.32, 2637.45, 4560.41, 80832.36, 10641.6, 68791.49, 25644.12, 1675.03, 84685.48, 1627.03, 11578.67, 18170.2, 21751.32, 29667.83, 48051.36, 1904.7, 138.04, 32175.93, 33031.83, 102771.35, 111817.81, 29029.31, 12878.21, 57861.81, 35135.73, 5172.14, 59950.82, 24187.52, 51322.77, 20682.56, 21532.66, 20557.14, 15905.8, 15044.59, 4569.6, 24004.2, 30585.66, 43238.92, 15548.55, 21339.23, 406.12, 7992.39, 1861.06, 1425.96, 47333.95, 10919.74, 502.54, 471.56, 27.0, 39770.65, 15238.85, 19823.83, 9949.59, 882.33, 471.56, 833.98, 91652.41, 14132.16, 60564.67, 6327.43, 53085.84, 51498.6, 13836.43, 766.56, 13538.49, 8683.16, 10064.18, 9020.49, 4506.64, 12965.4, 13.43, 20856.34, 1374.35, 64906.66, 104971.88, 1273.07, 18792.0, 767.43, 11199.02, 9389.26, 993.96, 10569.6, 60012.84, 52767.0, 88813.81, 284.44, 65081.5, 60625.18, 117264.41, 15627.63, 28255.76, 35217.49, 1887.74, 3488.13, 399.31, 47421.26, 59543.61, 50784.03, 41176.78, 47592.35, 42526.79, 34428.17, 1897.5, 106001.82, 41515.64, 4472.79, 1430.4, 22149.7, 28827.44, 42063.85, 4614.62, 6411.97, 11760.79, 18989.0, 73985.22, 34621.19, 121625.21, 586.21, 63912.46, 96.31, 31581.63, 80586.63, 1235.26, 18071.54, 44117.49, 67990.97, 798.25, 97386.61, 13266.97, 134031.44, 153374.78, 72974.21, 8041.59, 1328.25, 14542.7, 91687.38, 119903.16, 41553.68, 10378.17, 1062.1, 4109.28, 18785.8, 69581.57, 3436.65, 2310.21, 109160.21, 6817.58, 678.27, 4242.44, 82476.47, 116993.72, 32661.01, 92345.03, 173.04, 28128.74, 2999.22, 57462.84, 28775.11, 15096.09, 61523.06, 7664.14, 2328.77, 20557.14, 943.12, 59141.1, 11688.0, 81455.76, 2377.1, 176.01, 13658.21, 4698.46, 2918.92, 1892.5, 36925.7, 77155.63, 12109.36, 380.48, 4165.05, 486.05, 887.33, 48669.78, 12820.78, 3242.76, 446.26, 125511.74, 69319.21, 97.93, 3152.24, 66519.35, 15263.76, 73261.78, 21179.44, 17973.34, 64292.72, 51929.04, 10387.6, 118943.26, 12174.6, 22457.22, 121.41, 42440.06, 75356.51, 19745.62, 42088.86, 66914.9, 78285.1, 16360.32, 36010.38, 84533.88, 49590.99, 231.31, 16272.11, 74242.83, 18178.04, 1457.54, 15150.73, 58380.0, 319.99, 23386.08, 6380.0, 671.04, 36408.9, 89914.97, 44084.27, 4647.0, 83.16, 3798.09, 21129.5, 9606.21, 41.76, 1397.36, 25644.16, 4695.88, 170.88, 39096.94, 36075.69, 25831.29, 67068.71, 3748.84, 51904.47, 18622.72, 109839.77, 5226.67, 155924.87, 59006.64, 59442.86, 1952.22, 4195.79, 723.47, 5472.0, 254.75, 425.84, 696.91, 5328.2, 15131.75, 22080.1, 977.18, 9322.91, 42786.23, 39102.44, 471.56, 2680.5, 16413.72, 11760.0, 3369.78, 8122.8, 60052.11, 1988.4, 23547.07, 3723.08, 3163.04, 6532.6, 15044.1, 33509.34, 354.0, 1076.16, 9630.62, 1027.66, 27667.4, 99131.24, 25068.02, 67321.54, 5481.0, 22990.03, 7453.11, 22122.4, 37310.03, 465.12, 18178.09, 48353.72, 5859.69, 376.63, 17301.12, 225801.75, 5140.8, 119109.72, 1670.85, 5908.82, 21893.41, 69725.22, 14039.16, 19497.05, 66805.6, 83.5, 2189.81, 16089.82, 141.84, 346.42, 706.28, 3105.06, 534.6, 3252.0, 14071.35, 6004.31, 1277.53, 699.22, 61194.08, 56778.85, 135939.48, 32043.03, 28583.41, 67275.15, 632.17, 79696.25, 21444.48, 1829.91, 705.84, 13646.45, 6110.36, 7672.5, 40258.96, 31500.7, 144621.83, 26582.4, 158336.6, 67416.13, 14015.46, 14196.19, 41038.8, 10287.16, 187.91, 14900.96, 12761.41, 20437.5, 8064.0, 943.12, 5760.61, 4060.46, 34600.7, 61423.71, 2396.03, 20179.41, 22925.96, 25435.0, 59.16, 676.04, 88868.46, 33816.3, 1695.68, 13996.14, 1107.17, 539.64, 6856.27, 88867.9, 12704.32, 405.75, 6620.1, 6142.56, 63.48, 90599.56, 14426.49, 13984.21, 3061.52, 38763.25, 20026.05, 50637.18, 65667.94, 330.9, 6764.4, 1344.38, 1083.4, 46163.42, 6854.68, 1259.05, 566.01, 26174.79, 20402.08, 5116.91, 63560.03, 69219.34, 41213.99, 1375.68, 144489.17, 110.43, 80357.74, 18355.89, 54612.0, 71.52, 24988.99, 4303.55, 592.14, 16336.1, 13922.49, 16964.44, 74013.11, 15821.8, 20424.59, 887.18, 7119.64, 35872.71, 108809.56, 661.11, 892.04, 72363.75, 294.0, 103632.56, 64456.44, 14315.6, 232.2, 30185.62, 7456.16, 2686.99, 50186.34, 13134.44, 25936.78, 43455.85, 60461.11, 2764.77, 256.91, 29677.79, 15853.34, 49758.71, 12157.36, 3735.17, 122330.58, 41219.52, 16301.69, 9758.68, 22704.0, 63846.03, 83441.84, 15172.08, 194.16, 107065.2, 20673.09, 10980.85, 8135.44, 3689.0, 13594.51, 18292.24, 27545.86, 28272.76, 853.31, 68606.85, 28901.18, 3056.76, 5156.94, 19971.96, 17089.8, 18037.89, 15176.53, 42952.2, 14386.42, 64809.98, 1544.04, 17478.94, 6686.98, 17174.08, 103559.6, 45.89, 49664.27, 3152.34, 70803.36, 14136.67, 1414.68, 17446.94, 19098.48, 48206.63, 285167.16, 52711.71, 18262.2, 26408.74, 2576.47, 141024.9, 99197.7, 12965.4, 8041.59, 19701.72, 268.56, 6746.53, 4567.04, 42649.36, 6501.98, 35515.82, 56394.54, 59912.28, 8755.35, 12026.91, 7934.3, 8879.44, 11677.53, 132863.99, 5047.22, 79286.51, 6466.27, 44760.21, 110534.0, 63275.37, 77645.99, 881.48, 15391.47, 56772.25, 3567.31, 977.58, 175463.69, 88017.03, 6956.1, 57297.24, 426.66, 2442.88, 63677.06, 23522.92, 11551.68, 3443.5, 1100.82, 14722.65, 550.41, 15088.0, 49299.42, 12785.93, 15567.61, 735.8, 1130.06, 138550.4, 556.98, 20930.88, 16163.49, 52746.49, 586.53, 90426.31, 21354.86, 14966.93, 2431.06, 315.7, 39027.16, 99066.43, 5266.32, 18621.0, 638.03, 1897.5, 5942.87, 135614.75, 88218.13, 142.22, 31696.24, 32837.47, 20703.76, 33172.7, 116307.18, 17631.64, 119878.66, 405.48, 46023.95, 14545.64, 433.09, 441.88, 56314.75, 10604.67, 9518.72, 13538.39, 827.55, 144800.11, 15100.0, 1870.46, 18953.03, 10352.98, 19661.32, 111741.38, 11451.08, 7097.65, 9965.76, 31704.81, 8682.87, 3224.8, 21715.2, 61227.28, 56561.33, 29950.98, 14133.34, 1784.79, 96428.93, 64211.65, 123437.52, 1094.4, 171.22, 16237.11, 2663.98, 96783.27, 57937.16, 12733.88, 40696.17, 35324.14, 43208.92, 17390.06, 92289.02, 4811.25, 2594.42, 32971.98, 68352.97, 13188.91, 3380.38, 4528.98, 21.72, 111.37, 65648.28, 97654.26, 360.32, 48351.08, 684.55, 27973.78, 85268.29, 51474.0, 1120.1, 2835.52, 21716.07, 524.61, 78568.93, 21102.41, 13384.03, 427.72, 10672.23, 150.11, 31026.0, 3460.77, 11258.48, 4810.32, 21802.52, 26971.96, 18350.82, 24576.66, 36849.81, 7861.57, 17911.92, 44031.49, 206.24, 47234.0, 2282.36, 106557.32, 1898.59, 7257.04, 64669.3, 89711.6, 82889.67, 34840.75, 65040.35, 1543.07, 6943.0, 46947.42, 99543.82, 22135.63, 24255.59, 12365.21, 20236.09, 37134.53, 2019.69, 7164.1, 98957.95, 14586.7, 1956.74, 48314.21, 8340.06, 1286.64, 8719.58, 1792.66, 48657.29, 50593.32, 1117.0, 41111.02, 29402.44, 14793.45, 86562.68, 235083.55, 16644.79, 39006.45, 8936.32, 61271.85, 43536.47, 19992.24, 8522.24, 121802.81, 79884.91, 19723.12, 73062.36, 206.23, 1776.94, 23046.31, 4314.39, 4070.43, 16783.78, 57042.47, 67251.87, 55091.49, 3431.41, 24630.53, 13504.28, 66521.23, 1896.16, 162152.42, 9.18, 35531.46, 4271.46, 15088.0, 15577.53, 15804.96, 43904.31, 357.76, 3882.04, 65454.0, 45302.3, 776.08, 105406.92, 33687.91, 232280.52, 15199.36, 1816.76, 6596.38, 27489.41, 58096.6, 3576.04, 28342.28, 236.77, 18927.3, 42236.91, 152784.67, 18751.32, 37836.28, 10462.6, 64869.28, 2807.37, 603.54, 112786.77, 128.07, 465.07, 12743.77, 26482.23, 4177.74, 11768.32, 14188.96, 1340.58, 37144.62, 104080.99, 73913.44, 500.25, 15026.34, 313.13, 54328.56, 56190.79, 133996.09, 47646.99, 83764.37, 4511.91, 5337.45, 35952.0, 28116.71, 699.38, 2655.9, 39055.88, 552.95, 57080.48, 8162.2, 5231.65, 111924.75, 126.92, 491.6, 43.5, 63968.48, 26455.01, 3706.56, 2097.3, 32378.44, 7392.38, 4228.0, 59.16, 33059.35, 106408.86, 23232.18, 33102.24, 1023.4, 47612.62, 8616.38, 6829.98, 17091.07, 859.02, 3310.14, 52324.08, 3780.0, 44687.92, 2637.39, 15248.95, 123.23, 3227.43, 317.52, 81080.85, 2424.76, 12187.91, 124141.04, 9512.79, 33942.0, 130230.06, 105.72, 15846.54, 8904.15, 74920.29, 36.07, 34091.29, 7664.54, 13792.89, 1415.08, 52264.45, 84297.46, 55629.77, 41173.97, 108811.98, 16487.57, 2304.75, 19186.62, 107144.05, 93132.33, 9673.92, 190.38, 15351.03, 28409.73, 37444.95, 3563.0, 31717.0, 48110.33, 57783.27, 79772.51, 41258.73, 7885.69, 68813.03, 12259.24, 2271.31, 33023.34, 45903.56, 50612.44, 1311.75, 38735.73, 56623.18, 15624.84, 68407.31, 6079.65, 109900.19, 5121.87, 12387.59, 20131.42, 19950.23, 52749.32, 62536.66, 53194.24, 5231.14, 928.28, 10384.56, 49952.22, 62164.95, 1510.88, 19592.72, 6144.03, 84480.5, 8980.7, 22638.02, 14999.56, 2301.39, 13941.57, 15782.42, 5333.19, 8062.84, 84864.5, 85886.38, 1388.68, 420.65, 113629.88, 58530.73, 3839.38, 8491.61, 20422.99, 283.2, 9785.02, 147.56, 70139.13, 14956.8, 11038.11, 23255.79, 113724.33, 12829.26, 2965.41, 511.68, 496.14, 25038.92, 37087.75, 30930.42, 108726.71, 22957.64, 15610.35, 60981.12, 14904.0, 15716.58, 2373.96, 9213.88, 49651.11, 43183.93, 21051.19, 76627.4, 39900.1, 6255.6, 62368.97, 36096.29, 35401.97, 16392.96, 12801.11, 22914.63, 16018.07, 15040.68, 23752.65, 1107.07, 1991.84, 35427.78, 23636.04, 24548.18, 24996.5, 50968.76, 11502.64, 6767.13, 13891.02, 65350.62, 40863.2, 6852.0, 8424.83, 12315.37, 848.37, 42083.15, 62486.43, 216932.34, 21605.49, 7810.86, 10710.0, 4894.39, 68846.94, 13781.17, 214.46, 13656.2, 21890.77, 13879.16, 30377.47, 58.26, 6875.41, 9146.72, 15050.86, 768.2, 6363.27, 4699.36, 36198.51, 22444.14, 7387.22, 91.06, 1496.87, 64823.45, 7542.33, 46912.1, 126311.27, 1518.12, 40033.15, 28711.62, 10501.2, 4612.95, 88900.96, 95568.89, 16972.21, 80712.97, 119423.27, 2819.5, 28527.04, 48658.48, 13883.47, 41874.31, 28550.76, 75815.11, 14824.32, 66690.41, 17795.99, 678.25, 24340.42, 1392.16, 13500.46, 8601.03, 570.68, 1242.65, 1606.85, 3145.4, 767.65, 34575.02, 20755.56, 3025.79, 73109.65, 50364.28, 5420.45, 87381.11, 5970.0, 15312.26, 72160.01, 10190.95, 14212.33, 41405.16, 69286.33, 19404.17, 25357.5, 40538.46, 8798.4, 54308.55, 6532.6, 1501.46, 5824.36, 19012.08, 18416.55, 7081.2, 10519.22, 383.85, 54941.45, 51376.96, 3729.31, 7794.58, 21662.12, 78487.83, 76017.68, 30591.5, 21418.78, 3785.4, 3226.45, 9390.43, 105075.43, 68006.18, 99681.85, 132.42, 426.66, 22816.33, 14780.25, 603.61, 309.0, 4037.2, 53260.16, 41.76, 107582.01, 52697.09, 167705.34, 40536.0, 22276.35, 15712.41, 4332.48, 23510.53, 15091.68, 10831.45, 127438.0, 204.81, 58146.24, 2006.56, 1995.3, 5872.95, 1666.73, 72080.17, 1897.5, 4271.46, 12529.87, 8837.94, 1942.0, 46712.43, 677.24, 45715.68, 41433.08, 91119.19, 13948.2, 17425.0, 9009.74, 120805.63, 2507.48, 2599.23, 45864.7, 29382.41, 7927.92, 9297.84, 45459.36, 1244.4, 134054.93, 5574.95, 20816.32, 68135.48, 34373.95, 51525.61, 8985.43, 9899.36, 92.84, 12418.14, 124255.38, 20515.86, 3792.0, 60311.84, 49920.37, 18538.4, 150268.15, 47888.89, 386.49, 11839.95, 20639.36, 8839.4, 13371.75, 49749.82, 42889.87, 7287.15, 86701.5, 59586.06, 1990.99, 1898.9, 5468.13, 34648.0, 7721.65, 44549.79, 13084.84, 26735.49, 15512.72, 59105.44, 43009.65, 165.6, 9241.32, 3075.3, 13748.13, 16191.89, 17336.57, 1968.6, 8159.69, 27306.04, 17275.6, 25565.66, 1017.41, 15330.21, 72927.51, 1898.9, 6080.9, 41362.12, 7836.78, 110377.23, 1897.5, 25143.44, 6431.22, 24694.8, 15503.05, 8370.48, 170772.4, 23894.84, 16823.17, 133316.05, 7371.39, 10780.03, 20101.35, 76602.94, 191.41, 15057.98, 91841.57, 25487.12, 27908.1, 3717.86, 27813.66, 67301.79, 13388.51, 22581.96, 140778.3, 111465.08, 7373.58, 19436.32, 100801.21, 160169.5, 63128.26, 30994.76, 36707.71, 36802.22, 29625.31, 1444.84, 10635.12, 1002.55, 44251.76, 16156.52, 23997.89, 12360.29, 14780.25, 71.11, 13118.76, 53145.3, 13787.16, 1077.54, 8041.59, 40409.24, 5870.89, 11409.66, 5167.23, 15667.91, 25030.3, 199.53, 2362.95, 12582.47, 12707.63, 45935.35, 25067.72, 3112.21, 6433.66, 163.6, 21923.59, 43426.11, 5164.85, 211520.19, 26115.26, 95020.47, 15894.63, 79195.64, 1238.32, 13377.0, 32537.63, 407.34, 76038.2, 81558.76, 14317.03, 3053.1, 83667.6, 5599.71, 287198.25, 43714.62, 4412.88, 14480.71, 114.38, 70075.27, 64352.06, 1246.63, 2373.96, 34174.57, 36073.48, 58102.5, 25088.28, 28400.6, 4063.83, 65867.77, 27648.0, 11703.43, 18587.66, 353.81, 59727.99, 6870.9, 15085.98, 22021.88, 12838.3, 90932.42, 16896.0, 39366.34, 111.37, 98208.53, 585.9, 249.92, 6259.76, 39950.38, 67554.23, 62683.74, 21523.94, 61646.9, 6171.06, 27784.44, 33580.31, 54798.15, 53694.86, 142.22, 58596.17, 31655.14, 13012.92, 3421.42, 1677.96, 67722.86, 2217.83, 976.02, 3653.44, 2299.03, 471.56, 42706.11, 46657.23, 53249.19, 1504.87, 62471.34, 24298.9, 3795.7, 76931.97, 33988.59, 67173.87, 13229.08, 17279.3, 1898.2, 30979.66, 58090.33, 14403.91, 86626.55, 11078.02, 1193.4, 65732.4, 62353.96, 14035.83, 7349.25, 42228.02, 33267.0, 82881.4, 33949.9, 6820.0, 8087.76, 356.13, 90458.95, 4271.46, 27177.34, 85143.65, 23010.44, 19305.14, 14546.21, 6652.4, 24863.55, 13859.38, 268.96, 36481.66, 3446.39, 41822.76, 59154.24, 505.29, 145147.51, 60253.6, 18856.53, 188791.37, 9989.37, 15056.43, 56350.89, 43152.46, 245.55, 42005.3, 23463.71, 27238.88, 1931.37, 18734.94, 42580.61, 20822.4, 44047.38, 52989.78, 39020.38, 60421.9, 24097.49, 1886.25, 22751.95, 11330.0, 5718.1, 753.34, 54565.26, 74763.68, 47407.15, 61295.31, 75193.04, 925.63, 10379.1, 248.88, 81055.59, 27995.37, 20492.6, 39675.59, 43511.61, 14320.86, 14916.82, 8433.98, 12773.38, 87560.11, 52362.83, 124781.65, 5369.08, 42067.55, 40605.6, 3042.36, 15150.97, 72441.46, 542.11, 20538.32, 85455.09, 3702.21, 18654.23, 12297.6, 16068.65, 6419.51, 750.26, 61832.0, 27980.86, 7195.24, 30082.16, 5158.08, 61371.69, 9203.1, 14151.51, 6575.05, 132666.82, 75635.43, 2257.86, 33659.66, 197.7, 30758.85, 3465.5, 61974.93, 18826.27, 998.81, 48109.14, 1674.94, 61739.49, 17294.2, 34937.45, 47309.11, 672.57, 1592.2, 30152.42, 16319.95, 35468.32, 26931.55, 13620.19, 5689.18, 123239.79, 83433.46, 18709.32, 36464.92, 657.67, 97023.02, 50329.51, 21668.78, 43848.99, 9512.3, 32715.47, 10315.26, 14567.73, 148629.33, 31836.13, 165.65, 31071.6, 25321.75, 10722.13, 30337.29, 14675.64, 19823.24, 16925.09, 2373.96, 108305.88, 36528.3, 39527.32, 7597.16, 106831.28, 61188.77, 16439.88, 125298.53, 341.18, 11468.32, 7705.56, 27454.16, 17921.71, 72257.83, 29924.33, 30708.48, 6061.5, 25023.63, 8882.88, 19017.5, 74453.42, 665.98, 9455.76, 12777.05, 10896.53, 41419.58, 68006.82, 38651.3, 24084.0, 734.6, 7824.0, 18907.81, 181318.97, 15666.12, 29006.35, 12544.05, 13563.71, 18209.86, 7710.05, 34703.07, 1644.48, 92553.05, 5143.38, 1897.5, 6349.76, 18209.21, 41231.67, 19018.74, 8793.09, 13065.2, 33766.27, 4215.46, 168723.19, 1880.68, 5784.02, 8212.3, 5535.54, 51418.29, 20.1, 106239.58, 30708.35, 26796.0, 9308.88, 4322.63, 11366.3, 86641.12, 3403.8, 355.24, 139188.86, 1898.2, 50991.79, 2329.0, 14624.72, 58506.0, 5483.03, 70018.86, 22009.88, 58409.56, 153320.07, 86494.66, 75334.45, 34607.84, 70421.11, 56472.79, 933.62, 5070.91, 80.23, 49514.65, 3243.6, 3354.39, 44674.61, 42402.39, 1898.2, 6252.72, 50145.27, 14191.17, 16893.5, 159759.28, 3564.37, 67.29, 1324.34, 3377.09, 20735.94, 168426.14, 37958.14, 1084.68, 1758.34, 45913.98, 81023.41, 464.33, 15328.41, 24166.84, 43459.97, 25477.97, 48687.8, 48904.76, 53505.0, 35456.0, 10893.51, 13139.34, 3169.6, 48552.99, 39953.78, 34113.92, 29265.73, 15248.65, 1355.36, 45770.28, 42621.58, 12322.46, 6747.65, 151403.25, 57530.03, 65927.56, 28778.75, 13427.56, 15428.24, 21503.22, 4952.74, 2859.84, 819.0, 15005.29, 106120.85, 12428.82, 50146.62, 7274.37, 16644.77, 1871.76, 67639.74, 40365.16, 96455.07, 146098.06, 43821.25, 9347.16, 79324.83, 1571.43, 19157.52, 15043.84, 4272.16, 11157.0, 1451.69, 22481.28, 10098.43, 29484.65, 4732.33, 125951.03, 49312.17, 3612.31, 1022.1, 47497.8, 122841.3, 2046.96, 22808.82, 55412.25, 76762.51, 20777.32, 209.29, 61871.89, 8429.49, 123652.92, 557.17, 1612.87, 70750.21, 34482.97, 49575.97, 9128.52, 4339.68, 2758.36, 455.46, 160084.68, 33280.88, 31181.54, 28704.0, 16258.47, 31678.62, 25780.0, 471.56, 16224.96, 10388.4, 1938.46, 7798.08, 22072.36, 46063.78, 42.22, 433.35, 130983.54, 64358.75, 14015.24, 9470.47, 10174.61, 3204.34, 29832.0, 133712.86, 14612.4, 51795.0, 106461.89, 15537.41, 801.56, 40440.44, 1715.04, 61679.19, 15232.32, 11460.87, 442.89, 125.28, 19255.49, 5232.04, 46021.77, 15695.18, 35206.03, 46395.84, 14224.47, 1533.61, 7929.76, 99359.09, 78944.4, 1591.46, 135473.7, 4067.65, 78121.37, 56642.03, 78257.96, 32148.77, 11066.02, 220.66, 37851.23, 910.32, 265.44, 7886.75, 52468.61, 850.06, 1109.91, 1023.38, 6139.24, 9522.82, 992.46, 188038.24, 17491.13, 134547.21, 50085.61, 81240.91, 683.91, 4586.43, 62327.12, 106783.99, 1897.5, 7646.96, 313.44, 15353.96, 680.14, 11595.48, 16950.1, 15247.36, 7395.36, 12977.85, 58278.7, 100941.74, 48936.66, 43329.6, 64963.66, 2915.61, 18384.11, 6403.66, 1825.25, 471.56, 23803.93, 19937.11, 99.36, 53948.67, 2321.66, 46744.67, 93787.44, 66722.14, 17088.0, 286.5, 48783.69, 160818.32, 6035.12, 510.62, 32715.47, 43798.89, 11607.0, 48799.07, 15.12, 501.4, 3302.62, 1343.94, 424.8, 38425.77, 56485.39, 21011.32, 26509.4, 51663.6, 2147.92, 60049.1, 4367.85, 59958.42, 471.56, 2936.79, 5522.58, 70697.14, 2245.96, 407.6, 48608.88, 50798.86, 10841.42, 12298.48, 52640.28, 29325.66, 13816.04, 132.72, 3298.16, 26130.4, 3679.29, 7261.86, 89099.38, 11541.46, 21851.12, 48523.91, 16345.39, 7680.3, 18373.47, 63869.35, 61.54, 8841.6, 40307.89, 89026.61, 2646.76, 3104.61, 9825.82, 19096.95, 117143.84, 17895.36, 2259.39, 364.94, 10826.13, 42930.99, 14774.06, 65216.88, 42293.89, 72572.27, 1684.44, 661.11, 2373.96, 11318.4, 42411.6, 15018.01, 2254.79, 16933.76, 965.08, 52464.16, 1286.64, 3501.66, 11752.7, 137.58, 355.55, 6746.4, 2373.96, 125122.34, 14489.15, 147107.34, 6158.07, 30717.09, 44246.83, 19622.87, 30341.32, 23764.56, 18250.89, 71002.38, 41810.16, 35070.4, 19506.68, 281.06, 49007.18, 7545.62, 738.92, 13872.0, 22098.76, 1898.2, 57127.36, 77650.17, 513.89, 245.52, 78834.09, 26035.4, 19722.96, 6966.5, 37690.54, 6493.37, 62256.53, 8030.65, 69810.65, 29127.71, 82419.9, 6658.47, 1898.2, 278.64, 14406.81, 82144.32, 13908.88, 59878.46, 19783.03, 28679.33, 33082.01, 9955.26, 58715.71, 15059.51, 19264.0, 29925.51, 904.88, 5191.22, 8115.08, 50431.16, 5372.0, 65149.21, 2572.64, 156535.37, 2307.78, 56.32, 6714.77, 19312.11, 150075.4, 6808.51, 57169.62, 3764.06, 1548.0, 4797.54, 50776.69, 77826.87, 40840.8, 5400.31, 12862.73, 1043.21, 60252.97, 30521.12, 25176.35, 308.28, 109639.98, 50961.56, 4272.16, 157148.07, 46136.01, 44014.3, 19606.32, 63781.97, 1260.47, 62650.45, 18658.0, 21136.76, 1112.97, 47415.53, 50089.59, 11288.12, 6216.0, 49375.87, 4069.64, 25868.79, 99977.91, 82194.72, 25308.22, 15666.32, 22027.6, 504.19, 2128.05, 19624.65, 16432.2, 333938.46, 2646.76, 882.33, 24362.93, 3761.0, 10123.23, 4722.35, 20343.26, 72316.05, 615.51, 74390.66, 1427.9, 18400.92, 44937.94, 4981.09, 16386.3, 8589.32, 14709.83, 447.61, 6101.57, 3527.3, 80148.15, 288281.35, 20132.86, 25649.77, 61492.15, 59444.78, 67489.21, 2156.01, 44730.86, 3022.1, 11618.17, 33403.57, 20356.61, 13100.91, 16381.68, 2173.16, 104.55, 1496.24, 12406.87, 3469.5, 14831.91, 19622.83, 25169.99, 95023.22, 24354.06, 26156.32, 103694.33, 59085.12, 49789.18, 12880.97, 729.6, 29747.2, 31096.66, 242.83, 87113.45, 5634.63, 26564.1, 331.04, 31362.26, 36372.54, 85948.83, 4106.09, 20865.47, 71274.92, 32715.47, 37422.36, 33141.16, 187.8, 15391.44, 28443.71, 15230.32, 140583.68, 71818.02, 13615.23, 9048.16, 61542.56, 43842.5, 15095.9, 80160.12, 1741.83, 17880.6, 1651.98, 59309.26, 15936.32, 79980.56, 2729.21, 22238.21, 270.51, 15891.2, 18353.57, 49968.61, 591.82, 895.16, 3321.03, 14974.51, 9320.54, 1940.24, 21186.0, 18634.34, 5445.95, 2195.39, 15209.57, 48128.18, 21768.75, 14962.81, 2741.91, 18099.38, 153012.36, 53712.63, 896.46, 29162.0, 64315.09, 102088.62, 4734.51, 2725.63, 71375.98, 22619.82, 241.76, 74263.5, 13065.2, 7789.5, 5513.69, 49885.92, 58028.0, 27.6, 50549.21, 24979.43, 4812.99, 8905.04, 162625.39, 110843.22, 2905.21, 404.46, 2247.92, 3566.03, 50291.29, 7317.94, 9525.6, 1498.9, 56510.6, 55256.37, 94540.02, 12126.98, 11759.6, 18827.28, 25910.57, 38693.79, 192.7, 5824.36, 6633.28, 18217.61, 155197.22, 2229.54, 53636.8, 57540.52, 1652.8, 19027.72, 40973.6, 145409.16, 3791.57, 3975.31, 54091.56, 33563.72, 73323.78, 203.69, 9568.44, 27920.93, 35918.18, 6629.41, 35456.32, 11029.37, 643.09, 1529.9, 7797.16, 6648.48, 26462.37, 37099.93, 13540.74, 45797.06, 36300.0, 55093.94, 33761.7, 17995.11, 123263.44, 2064.49, 7170.26, 36664.52, 262.87, 44.18, 101004.91, 170980.72, 11844.35, 14291.91, 68327.28, 5013.59, 2392.26, 11864.26, 23682.49, 561.45, 1923.5, 145074.26, 35332.01, 59822.42, 85180.81, 52725.92, 4372.27, 42222.52, 31417.83, 46861.64, 3934.14, 28577.14, 461.25, 80764.7, 22941.32, 1081.08, 38590.82, 136.8, 54992.14, 46304.34, 8734.21, 4440.87, 3528.57, 34979.1, 13248.01, 8161.38, 11516.5, 93939.77, 74532.6, 101062.25, 2248.45, 6165.05, 20337.95, 309.26, 12999.93, 35.52, 1898.2, 46133.09, 3000.04, 4395.22, 13312.88, 2167.23, 4193.35, 23841.3, 9502.0, 459.33, 59439.62, 1824.0, 14272.22, 44627.86, 71.52, 45904.46, 576.23, 725.85, 5082.81, 56923.71, 8911.93, 28458.45, 13578.12, 38749.75, 82539.07, 91410.39, 24482.19, 12593.88, 67018.26, 6677.21, 13747.75, 51552.91, 47711.74, 136082.81, 48063.69, 2374.28, 22128.92, 42776.43, 19934.92, 6360.77, 21987.28, 17706.86, 385042.34, 17187.56, 4152.53, 43031.97, 9494.52, 88.39, 1235.26, 144311.56, 1379.87, 822.54, 32656.09, 24748.5, 1414.69, 9352.24, 85934.2, 15024.34, 1646.04, 3509.71, 177.0, 14448.41, 18930.72, 7229.1, 682.8, 1766.3, 27025.38, 726.2, 847.52, 9625.38, 107539.0, 58763.52, 717.8, 49858.39, 52380.36, 5942.21, 12161.45, 23286.6, 26049.47, 57371.1, 8609.48, 74705.86, 46032.65, 24694.58, 35816.25, 49126.45, 4024.52, 37459.98, 9522.0, 56916.26, 25178.73, 87913.94, 18900.99, 264.71, 4481.17, 6272.47, 37795.97, 36989.49, 11880.88, 62103.64, 25773.96, 25498.73, 53261.01, 19.96, 301.86, 13149.34, 67095.39, 22634.67, 959.97, 15538.36, 2352.97, 153.39, 61574.77, 33891.65, 15850.49, 1494.09, 24491.21, 38528.0, 10593.45, 144.92, 20294.85, 16839.83, 106026.61, 23666.61, 208.56, 2651.68, 27.6, 43466.25, 45543.4, 40024.59, 303.63, 133294.23, 15199.68, 3172.41, 76444.16, 13976.76, 11616.33, 12872.33, 4060.2, 64231.79, 92057.55, 14131.84, 10476.57, 37872.79, 3137.55, 5491.38, 4542.1, 1911.8, 825.04, 74776.34, 31397.38, 43228.82, 32527.09, 2373.96, 20132.26, 3671.95, 6778.8, 82529.95, 20917.82, 11239.48, 433.37, 31850.36, 62483.28, 919.1, 25020.21, 8749.92, 18506.29, 18972.61, 17515.0, 64529.54, 1328.25, 36758.32, 26051.21, 24508.73, 17155.9, 111272.54, 4304.77, 10983.36, 45808.93, 2918.4, 35788.41, 86189.06, 398.9, 10781.12, 30204.29, 75903.79, 3091.75, 11043.71, 75746.36, 1072.58, 9251.89, 23134.8, 17044.57, 70040.99, 105696.88, 19660.12, 934.3, 60622.22, 12248.77, 1411.43, 90608.25, 184.78, 9660.7, 1850.87, 109732.89, 421.73, 30996.52, 2335.06, 7213.03, 147.47, 660.73, 250.09, 15632.73, 6167.76, 768.6, 97808.98, 50551.2, 33172.71, 99394.61, 45691.51, 622.24, 41455.04, 17267.66, 13385.78, 53565.85, 230036.95, 15284.38, 15409.33, 109206.94, 72768.15, 31240.8, 6470.5, 53614.07, 4870.56, 10285.65, 27.6, 13179.78, 32638.11, 943.12, 48756.64, 52916.18, 19949.52, 58562.54, 425.76, 30334.23, 64215.67, 8331.33, 6820.2, 77046.44, 11150.94, 8969.16, 34607.96, 58649.11, 1103.63, 4107.44, 39259.89, 3148.33, 204.58, 41088.9, 18156.97, 579.88, 87351.06, 121149.37, 9066.24, 73773.72, 1857.22, 124833.03, 321.54, 25961.25, 186.81, 2288.0, 25916.0, 33046.16, 943.12, 72712.32, 26647.64, 83969.12, 670.65, 45828.65, 2188.07, 39721.13, 11219.44, 108628.69, 34542.85, 101500.28, 342.1, 3766.77, 57904.58, 2208.0, 57816.27, 73574.2, 1709.94, 37723.42, 2713.1, 35701.8, 63075.15, 79566.49, 51133.77, 85978.01, 24045.42, 96313.21, 298.36, 55573.95, 18740.94, 1679.03, 103939.74, 8525.0, 2016.31, 102185.76, 26073.65, 10273.52, 35.4, 1568.14, 2924.99, 20033.81, 72903.12, 364.94, 40811.3, 29556.46, 8340.17, 11932.98, 127493.36, 6404.44, 17373.96, 22906.66, 9420.11, 984.54, 12471.71, 15019.07, 8903.54, 40578.04, 24071.65, 5532.02, 19267.07, 45397.26, 126.67, 18879.06, 37001.21, 56508.64, 379.5, 353.77, 68469.39, 30335.9, 15316.57, 31419.18, 2987.58, 94521.8, 21890.39, 15320.87, 31897.63, 48117.25, 21313.84, 21084.68, 42241.11, 1191.99, 102262.34, 22443.77, 92136.44, 95940.09, 5384.4, 25486.0, 15276.57, 109603.32, 96919.94, 113548.97, 28283.99, 9739.5, 6693.8, 144290.9, 5921.2, 3132.96, 43836.48, 52028.1, 176025.6, 36629.91, 343.07, 2151.26, 36225.34, 44373.02, 15691.19, 2112.58, 60687.54, 52056.1, 10281.44, 1202.88, 2400.24, 11600.0, 7033.02, 3497.7, 44089.27, 22594.04, 184187.77, 1742.72, 3293.83, 7896.0, 3416.4, 210.68, 116050.97, 12745.71, 91865.52, 52554.12, 9051.58, 11452.11, 28778.75, 58932.67, 3398.38, 77330.31, 72185.97, 14843.93, 54400.61, 13259.54, 13611.48, 1982.4, 117557.55, 130975.51, 447.07, 2582.4, 64201.13, 77135.14, 1200.42, 14829.86, 49111.11, 15329.09, 15234.21, 111093.32, 1029.2, 629.77, 46617.91, 471.56, 3830.43, 72763.97, 176135.74, 74343.6, 15739.2, 477.46, 16738.37, 6313.92, 15840.27, 7704.0, 21076.16, 42398.16, 23801.43, 61493.31, 879.31, 44788.72, 51258.03, 110373.27, 1898.2, 103452.01, 39525.32, 72550.51, 51034.66, 73495.86, 3414.42, 138006.14, 56728.05, 91425.81, 368.11, 171.09, 85982.53, 45157.12, 43186.84, 21809.02, 57679.78, 15352.85, 31920.33, 15179.54, 36301.05, 39700.8, 35600.56, 60297.4, 39901.03, 1057.82, 18781.82, 977.23, 61815.35, 16796.53, 86600.66, 3472.68, 19342.96, 785.85, 57604.61, 49347.48, 71212.71, 1898.2, 45467.19, 42811.24, 767.65, 3553.23, 60172.0, 7914.4, 324.59, 101280.14, 72669.59, 42061.25, 132131.07, 92716.49, 886.16, 39216.71, 6312.61, 5843.38, 75925.07, 8775.21, 1452.73, 15539.07, 3228.13, 56260.73, 35403.75, 176.06, 2167.44, 490.9, 1100.69, 20695.18, 107255.45, 23077.68, 25098.13, 582.79, 36517.14, 28165.84, 17173.57, 5181.6, 56285.96, 11227.06, 67093.48, 162920.98, 40411.89, 10286.1, 114935.36, 8917.44, 25404.66, 3685.12, 3992.69, 13736.66, 69029.65, 5687.03, 54005.08, 328.32, 775.44, 49091.56, 9067.68, 11749.21, 15125.02, 221.77, 3762.56, 114130.87, 28584.36, 111484.88, 98712.19, 1892.28, 134.92, 380.49, 1638.03, 471.56, 66614.09, 40110.28, 46170.5, 20768.4, 36480.6, 43728.19, 18736.07, 54690.54, 111799.75, 855.42, 107206.77, 130423.17, 64402.0, 39650.4, 57310.18, 43678.76, 23176.44, 31514.53, 1924.72, 49641.54, 1624.15, 15925.24, 3594.43, 2396.61, 16930.48, 4224.3, 21539.25, 16444.24, 15016.72, 55138.24, 27915.84, 16378.3, 10697.03, 46539.93, 101898.77, 2965.15, 50661.06, 15501.15, 49615.35, 31794.93, 13605.12, 403.21, 39601.28, 1626.33, 12957.28, 28467.59, 20774.43, 30139.04, 57094.73, 3316.77, 42229.16, 141815.0, 299.64, 57685.55, 85266.18, 11040.96, 35002.91, 94788.05, 14471.88, 10097.91, 7526.54, 92598.02, 4391.24, 84430.42, 7316.65, 6587.16, 1153.95, 149923.5, 4088.45, 14568.77, 53570.57, 11400.15, 60200.45, 95936.68, 15461.37, 14986.09, 24801.75, 299.8, 13431.2, 328135.62, 17891.33, 14329.4, 40348.76, 94.89, 887.31, 15271.63, 1898.2, 9288.35, 25046.38, 55565.74, 40698.6, 15341.53, 776.87, 40.38, 725.85, 106584.03, 4561.22, 27497.81, 26029.48, 16312.09, 7312.78, 134075.86, 178.63, 30508.8, 4576.13, 93.33, 10899.38, 57292.42, 94284.58, 5083.59, 39212.7, 27468.03, 2817.13, 829.5, 15388.33, 25036.26, 245.48, 72895.62, 15436.83, 44568.7, 133.44, 17402.08, 4878.99, 32797.24, 162861.14, 7157.01, 402.12, 525.73, 55726.7, 20325.0, 44592.95, 14893.21, 49236.07, 26937.27, 16459.21, 1303.43, 12297.45, 31454.59, 14577.5, 194466.12, 35235.4, 613.22, 35563.97, 9439.68, 5292.86, 14149.92, 245.14, 40661.17, 4766.26, 3528.57, 5789.65, 8678.84, 79227.65, 7704.0, 14215.2, 80137.59, 3117.3, 17195.47, 7920.0, 63026.76, 1898.2, 51919.35, 4788.7, 11190.07, 1296.24, 12250.71, 23236.72, 234.44, 87436.96, 209.72, 16771.8, 3534.77, 48106.77, 40676.27, 24307.03, 405.28, 1897.5, 12313.91, 17701.03, 5474.47, 421.28, 119685.57, 4511.91, 20192.64, 128897.9, 63501.83, 38728.11, 30961.03, 18879.84, 98584.37, 14522.47, 90422.06, 8845.08, 957.21, 62069.98, 52910.0, 47050.47, 1485.85, 18775.11, 5408.09, 44894.83, 9424.05, 482.16, 39732.73, 15892.23, 13074.55, 20412.5, 593.97, 61980.73, 34277.28, 91777.05, 3748.84, 306.46, 54223.51, 62854.92, 84744.21, 432.85, 1451.69, 1443.29, 15302.63, 258.71, 292.44, 28144.04, 7788.0, 1356.55, 43963.51, 13410.99, 17005.24, 5094.8, 31383.96, 6844.23, 42956.62, 8730.14, 59022.05, 38541.89, 6006.12, 67495.69, 14151.51, 10626.36, 7144.12, 15490.13, 67276.94, 28213.78, 17436.25, 13.16, 6646.58, 14223.6, 136148.82, 13697.42, 63492.02, 2587.62, 479.34, 27515.1, 7664.54, 134188.85, 48895.01, 12417.88, 20557.14, 39403.72, 80627.06, 49049.4, 4930.5, 4104.49, 35535.24, 31279.11, 6930.0, 6858.82, 13357.72, 88134.19, 503.69, 519.66, 10186.77, 15548.72, 15367.79, 9638.36, 159.64, 62576.28, 21432.66, 15495.3, 192252.91, 66848.33, 4554.36, 121.62, 11460.98, 6275.35, 570.94, 7483.8, 177.0, 13418.54, 3283.35, 18900.99, 5264.71, 94753.39, 4990.74, 3000.78, 3734.58, 58359.27, 1699.01, 1059.29, 1477.56, 103523.03, 484.0, 13435.65, 2528.14, 5502.37, 125549.78, 6884.28, 2962.02, 5726.37, 8101.5, 3541.96, 892.44, 58566.04, 77615.3, 37.44, 56933.18, 16813.16, 63898.18, 1845.33, 42270.71, 36248.68, 24072.51, 461.9, 114877.62, 38270.74, 69064.22, 319.5, 5683.13, 66670.59, 3309.31, 99332.53, 72239.21, 47457.3, 4481.17, 6212.3, 16540.18, 2801.99, 24352.06, 1328.25, 42616.04, 49188.1, 236.01, 448.51, 2417.2, 51140.14, 16056.0, 22095.36, 23056.19, 15405.13, 1474.41, 11709.63, 3890.12, 65688.42, 85081.91, 88644.81, 6000.05, 47356.15, 15521.41, 16070.17, 3797.73, 43689.83, 105322.18, 8313.32, 8850.6, 122026.3, 32154.79, 18623.99, 8041.59, 10745.04, 3108.0, 2950.16, 4272.16, 84836.18, 15010.46, 771.24, 14543.26, 19730.75, 20227.54, 410076.86, 5616.77, 4465.0, 355.92, 16441.81, 17646.13, 98360.53, 7878.62, 16379.08, 35100.34, 627.1, 134348.03, 22759.1, 40126.63, 33.18, 66751.36, 40739.83, 14296.13, 10044.51, 19912.32, 183.52, 34543.73, 19830.03, 14837.84, 15077.44, 4330.65, 9612.34, 2365.65, 54381.16, 5781.97, 14808.56, 248.36, 85304.95, 10298.29, 17940.4, 13695.88, 48902.78, 24215.22, 18247.14, 48700.8, 3816.75, 4661.96, 2101.3, 117716.49, 32441.4, 123089.91, 471.56, 32407.27, 43599.54, 623.68, 81704.75, 505.88, 9571.42, 13710.73, 32893.25, 7137.46, 254.75, 304167.84, 2585.63, 14830.88, 49550.76, 59.16, 31503.42, 35519.75, 30290.23, 26700.07, 17776.24, 1414.68, 9222.81, 987.75, 5268.25, 11638.8, 58.83, 3642.65, 3583.62, 55167.15, 652.27, 14276.7, 765.12, 206.08, 99598.61, 37795.48, 7097.26, 13440.0, 53989.19, 347.37, 53989.4, 4556.45, 492.56, 4699.8, 8816.76, 89091.77, 241377.78, 13883.47, 71829.82, 25631.08, 11099.58, 1160.0, 25650.3, 134.79, 137.7, 50277.81, 8267.87, 73857.15, 5514.9, 20798.75, 2828.8, 113144.4, 80736.62, 6890.82, 109430.85, 471.56, 7625.19, 7413.22, 10099.59, 1886.25, 61252.02, 896.33, 42958.3, 1767.76, 46652.02, 47905.83, 30140.95, 87926.54, 1896.05, 3301.42, 53790.72, 13464.22, 5108.4, 24629.74, 51932.45, 14313.66, 15657.28, 39594.93, 45084.96, 26032.41, 144116.0, 1873.57, 13141.17, 446.24, 142076.87, 86505.48, 6384.32, 99286.28, 13241.76, 3400.67, 4327.25, 25505.85, 15579.06, 13524.16, 55744.59, 9828.01, 1106.28, 180.68, 62499.41, 71834.54, 73270.63, 42422.39, 21346.49, 3524.47, 866.17, 8476.67, 14687.97, 18261.36, 47726.61, 1466.17, 4916.89, 246.26, 176.88, 5414.37, 16845.23, 70591.04, 100.94, 4452.04, 8400.0, 89137.75, 61580.97, 2016.28, 40325.56, 3147.38, 5600.06, 12482.28, 21013.33, 6646.12, 106830.47, 38008.88, 80712.97, 5737.21, 732.52, 22728.37, 471.56, 3058.41, 19400.27, 14673.66, 13311.79, 6084.2, 3119.51, 68573.23, 25989.55, 32.34, 5442.6, 445.49, 19169.78, 21186.0, 9037.13, 15335.47, 65768.24, 14297.49, 41142.78, 57373.12, 42618.34, 54126.63, 59174.26, 44478.29, 68193.47, 19475.95, 52922.96, 6773.28, 52611.54, 29139.42, 198.25, 53862.83, 46426.44, 2316.83, 45468.11, 10412.04, 43119.74, 143.61, 15020.07, 285.8, 46135.2, 34093.33, 1162.4, 19308.68, 82538.51, 305492.94, 18677.54, 71314.86, 45129.76, 15086.12, 15518.2, 48611.31, 140284.93, 15434.09, 46707.57, 7427.65, 16954.52, 9222.81, 2706.24, 23571.54, 136.08, 40169.5, 46470.87, 64351.06, 12892.52, 42313.42, 8049.88, 7752.0, 1430.4, 142537.79, 155875.66, 16074.24, 2664.09, 41269.55, 2095.18, 14242.47, 33530.87, 7867.54, 11176.7, 15027.12, 20898.0, 526.99, 34324.86, 4574.39, 57363.15, 3689.0, 2731.18, 46325.79, 98418.92, 14622.5, 73593.9, 71667.49, 87448.26, 23722.18, 29446.61, 80444.24, 11813.78, 2471.56, 17088.0, 10584.74, 29745.75, 3795.7, 10300.03, 21222.0, 2237.43, 112934.98, 31403.63, 6320.23, 63165.94, 49065.2, 19.32, 15141.52, 40423.35, 84637.97, 10288.14, 12887.87, 2489.09, 19868.81, 27488.19, 55160.41, 1587.98, 35568.6, 1711.81, 72624.13, 191.53, 96876.0, 2667.58, 224.82, 10534.45, 14185.26, 24142.96, 24910.1, 7694.64, 3542.89, 41901.44, 37994.99, 144303.83, 1517.92, 206.34, 58.18, 150553.87, 24698.39, 46237.26, 22323.99, 9359.03, 67085.58, 1784.35, 30682.79, 21400.09, 31046.53, 46238.85, 2070.36, 16196.73, 135824.45, 14988.44, 9099.42, 21659.37, 36476.56, 1180.9, 2708.06, 7496.7, 471.56, 35647.76, 29893.72, 53513.99, 125021.12, 26584.1, 40727.88, 5315.12, 65580.06, 228.42, 35619.47, 175.86, 59816.26, 37538.2, 13806.75, 6132.0, 33224.78, 12307.98, 380.77, 41696.45, 18840.23, 12031.49, 34888.8, 61751.6, 88365.18, 27168.75, 6532.6, 5599.71, 6427.93, 17906.55, 63475.54, 15683.66, 3417.88, 236.71, 2321.7, 939.09, 662.78, 8041.59, 15090.34, 25750.43, 5335.13, 5297.07, 3760.84, 17258.67, 49593.76, 1695.92, 70433.23, 86646.05, 7466.22, 7448.63, 8793.09, 14907.18, 1898.9, 1096.56, 1657.15, 314.03, 30826.65, 133.2, 7434.21, 7661.27, 92567.71, 34104.06, 14907.02, 15036.78, 15720.76, 108258.85, 56510.55, 661.11, 43719.39, 789.36, 63591.88, 25345.39, 38278.36, 1355.28, 10542.99, 142.61, 30083.0, 66331.93, 72630.46, 633.07, 34657.15, 115919.6, 28019.9, 345.35, 15489.77, 462.87, 61798.76, 3078.46, 70680.39, 11980.35, 26884.14, 72871.59, 58979.37, 13889.7, 11983.0, 14930.15, 17448.29, 17417.16, 1116.0, 683.91, 41421.2, 42128.71, 13366.53, 3437.28, 38677.72, 18900.98, 8577.1, 25614.99, 72471.44, 8866.3, 1480.17, 110787.45, 278.64, 36983.84, 106.67, 1898.2, 126152.56, 879.26, 14197.21, 3034.78, 27306.17, 12431.81, 20163.82, 8507.75, 95753.08, 22080.44, 150.98, 6873.28, 12884.82, 3795.7, 58522.58, 12461.63, 3475.69, 39238.52, 2588.36, 13948.99, 300502.18, 22136.84, 19515.08, 76121.54, 21732.49, 17519.05, 14365.44, 40408.8, 5035.69, 67924.1, 670.48, 5029.31, 93496.5, 4625.56, 935.93, 45603.36, 3245.15, 36783.82, 16330.08, 19260.4, 15140.01, 56587.07, 13011.34, 63591.59, 111807.79, 44256.94, 24393.0, 2684.26, 11989.9, 1700.64, 13612.28, 4556.03, 99.06, 62156.26, 43.02, 7339.15, 71587.01, 13416.04, 15633.38, 26049.96, 388.29, 133883.46, 13845.59, 6382.84, 388.83, 33770.38, 8967.97, 42968.09, 26582.4, 8467.2, 26628.66, 5291.05, 53120.9, 16249.68, 12143.65, 8041.59, 62012.86, 13281.63, 59612.08, 140812.83, 115308.03, 1001.87, 40680.38, 20981.61, 15026.34, 683.91, 1670.4, 34471.54, 14649.92, 59140.51, 42669.07, 7217.51, 1897.5, 13433.45, 14152.55, 1498.53, 4603.46, 2355.97, 85817.3, 18231.62, 11182.34, 1814.02, 32589.84, 14538.2, 461.46, 19487.87, 8868.06, 45278.89, 5482.27, 8937.23, 35302.04, 22799.37, 2128.37, 50364.46, 637.4, 16965.17, 8494.83, 96697.57, 22584.07, 10685.58, 15275.52, 1991.92, 14993.54, 80.48, 3539.0, 11.9, 1776.0, 30220.01, 8798.4, 16945.87, 7701.41, 2576.47, 42530.5, 15663.65, 74725.57, 17176.57, 51902.7, 11805.23, 4951.29, 53001.68, 868.83, 15093.86, 61290.75, 1790.25, 329.56, 206892.33, 5048.28, 75419.71, 41690.42, 609.87, 34800.72, 34732.77, 180.72, 14844.0, 4937.18, 16799.4, 93607.83, 45784.55, 39529.74, 59019.07, 4336.08, 774.01, 15104.02, 84384.37, 3488.21, 26163.17, 14780.25, 10636.19, 6810.5, 61228.26, 8247.88, 54190.09, 18579.5, 44935.87, 4817.07, 21333.65, 9083.25, 15114.26, 3703.19, 428.71, 19939.27, 55041.21, 26410.53, 956.79, 11157.36, 53192.64, 15367.37, 54346.36, 13208.3, 16953.2, 38090.47, 15220.56, 111.37, 1186.92, 21569.74, 98163.82, 32740.05, 31986.36, 36060.73, 501.24, 11922.35, 46470.17, 69.56, 38574.04, 6309.95, 14237.23, 290.46, 40038.43, 69135.62, 5326.14, 8091.47, 121060.7, 15773.07, 2122.74, 46278.59, 99542.34, 3619.63, 38592.4, 30220.01, 4553.86, 3339.69, 12798.58, 66936.02, 54807.45, 589.29, 5942.49, 3362.4, 32856.32, 2553.38, 4670.88, 24.0, 1084.28, 12636.0, 1299.32, 6223.22, 19375.59, 13948.2, 25749.54, 50382.94, 85588.56, 4398.53, 48793.56, 22055.85, 2237.43, 57506.49, 10172.24, 14190.83, 14663.1, 13002.0, 57754.35, 45961.81, 64871.11, 5869.55, 10010.0, 63124.0, 11633.55, 40547.15, 60965.02, 71267.04, 14967.43, 78751.71, 4041.34, 5849.99, 10181.86, 22096.3, 46711.25, 1844.59, 3750.88, 23200.03, 82004.86, 9464.19, 21614.94, 71203.02, 22678.73, 1403.69, 11662.08, 16101.66, 57525.73, 296.68, 9902.66, 35902.1, 238709.86, 41485.45, 13829.76, 40341.58, 38767.75, 18956.62, 59654.31, 87070.62, 57000.84, 9544.51, 1771.98, 471.56, 86344.22, 15284.38, 103062.37, 67629.97, 1697.78, 147.85, 3513.57, 17033.43, 9486.92, 673.11, 17174.05, 1286.37, 149564.52, 47565.25, 16391.78, 3360.0, 5480.25, 766.07, 16469.95, 25236.4, 45180.98, 14080.19, 26324.66, 25750.96, 10130.81, 73209.11, 146916.68, 19317.72, 17729.31, 63021.27, 77455.37, 604.65, 27340.51, 31981.52, 853.16, 980.64, 42932.85, 40796.09, 4142.86, 24148.46, 65234.61, 8984.71, 90562.05, 1302.48, 10328.55, 26226.85, 21827.82, 52022.69, 97974.36, 240.72, 3506.44, 24869.32, 10120.38, 1286.92, 82.03, 17783.97, 9027.34, 71064.02, 14998.74, 6366.54, 10041.31, 4495.34, 13027.0, 23597.8, 9827.03, 1991.84, 8707.39, 134.79, 2069.66, 16176.0, 5758.73, 12127.56, 98878.51, 6705.66, 62575.1, 24956.73, 85996.41, 55650.41, 67076.99, 91179.15, 44912.03, 26748.66, 8264.14, 85935.48, 295.42, 38031.52, 6842.84, 5553.03, 58354.39, 2004.6, 87780.75, 20865.77, 4970.43, 103.92, 117170.53, 14716.02, 59.16, 7119.91, 883.01, 9333.44, 15749.73, 63570.97, 157.88, 32663.02, 37774.91, 240.7, 13693.82, 18242.46, 51165.26, 25103.1, 60466.46, 21683.13, 29555.85, 2159.72, 62518.76, 21676.67, 3270.04, 9903.06, 7143.95, 139154.38, 19269.11, 6815.22, 73160.61, 14250.95, 117814.43, 68106.88, 76749.14, 58679.79, 44814.77, 1833.94, 50062.09, 1099.82, 13835.7, 1824.0, 14000.0, 20557.14, 14404.24, 10248.0, 10296.24, 34243.82, 44025.26, 35747.83, 1586.8, 39455.52, 17323.63, 20660.4, 19206.15, 67702.38, 8206.82, 46588.17, 2352.97, 119.9, 6154.2, 103.92, 2629.2, 234.44, 425.03, 49119.11, 499.96, 70778.64, 67108.81, 12668.17, 49837.46, 59602.63, 61632.64, 10517.41, 13656.0, 17283.51, 22161.78, 114002.77, 14285.43, 11661.92, 9400.58, 555.1, 55.21, 27943.91, 45886.53, 14135.59, 6263.69, 11173.41, 51436.51, 33904.72, 43652.2, 1568.0, 9861.41, 2153.02, 9492.47, 1191.28, 95459.47, 14315.88, 591.22, 55235.64, 2116.14, 8917.23, 2280.66, 16410.4, 102130.26, 14780.25, 96862.68, 49729.28, 6232.42, 2214.45, 45096.25, 32.27, 14683.18, 6594.49, 85415.57, 33379.29, 17060.24, 139.6, 5507.47, 34224.14, 5163.34, 70402.5, 46806.0, 21008.31, 22044.38, 2906.98, 23167.93, 3954.91, 5695.7, 81689.24, 11485.76, 13340.16, 28129.92, 16645.07, 9527.12, 45677.4, 3583.5, 849.72, 51267.54, 37085.61, 9636.77, 104567.26, 4265.89, 307.15, 11113.2, 437.03, 3016.9, 520.24, 24908.24, 93792.55, 9057.85, 17752.24, 30587.42, 3702.21, 102841.96, 113248.8, 25487.12, 26945.99, 49234.61, 5685.27, 3218.64, 36488.24, 11977.79, 18558.12, 14266.41, 6900.94, 49604.86, 71130.0, 67547.19, 28930.68, 133758.4, 10259.9, 58223.81, 22366.12, 22439.19, 37370.55, 9628.64, 11304.95, 20562.88, 63517.58, 57903.3, 3441.86, 24374.09, 86664.24, 7869.6, 940.4, 3393.84, 54562.54, 15756.03, 3000.1, 11775.14, 4157.56, 44515.69, 27163.49, 152911.98, 15005.29, 50850.71, 43588.06, 11621.71, 2704.66, 52987.36, 42065.79, 19556.02, 24148.62, 18501.56, 389.37, 11975.74, 25963.79, 161214.41, 7315.92, 462.87, 37575.1, 12167.91, 86.97, 99177.2, 53506.77, 4700.8, 22352.11, 44870.18, 14639.07, 14624.72, 191.41, 24686.76, 65289.12, 573.97, 5972.79, 58847.38, 496.92, 10676.5, 32075.79, 53686.71, 39165.33, 4069.42, 12576.03, 76017.4, 24381.0, 121116.95, 76017.82, 24959.54, 92306.03, 95345.78, 21075.22, 26278.27, 18056.37, 123373.91, 17803.0, 21249.28, 42835.1, 83876.45, 29859.92, 12311.1, 397.63, 70820.86, 35251.67, 1518.56, 33176.45, 4412.0, 15788.13, 40928.51, 8546.75, 46194.21, 67.29, 29512.71, 61500.93, 256.91, 937.99, 1322.22, 5354.98, 32715.47, 72841.58, 12207.8, 23997.0, 275.14, 56825.12, 18906.19, 191.41, 661.11, 18620.49, 16068.31, 1307.2, 13459.32, 99848.77, 99739.18, 8640.0, 122281.61, 2824.47, 20383.52, 21195.68, 31630.66, 3926.69, 1784.9, 1403.69, 10107.87, 41800.44, 21066.09, 184163.26, 25955.12, 6623.99, 2382.55, 15962.34, 7990.43, 33490.61, 11454.98, 31803.91, 897.27, 64749.18, 158441.31, 49467.7, 18864.57, 35697.79, 14516.79, 24201.27, 20073.15, 4548.06, 32715.47, 11572.22, 857.14, 27144.86, 65510.82, 157.2, 71390.4, 21305.37, 16505.45, 3813.07, 412.86, 497.85, 56120.89, 3361.48, 20017.27, 440.47, 471.56, 9309.0, 8071.46, 1897.5, 916.32, 38523.31, 55916.63, 8041.59, 64632.43, 24429.37, 17118.22, 72801.59, 19984.24, 256.91, 79006.28, 9897.45, 11688.0, 55172.83, 41341.87, 15667.46, 42608.09, 42449.8, 54989.85, 16516.61, 860.3, 14406.45, 14645.5, 5681.09, 25653.96, 16453.71, 7583.46, 2496.64, 7425.6, 6637.14, 55536.94, 4967.77, 53575.85, 24955.22, 378.77, 5904.82, 67031.18, 55332.97, 85623.81, 25431.9, 71880.06, 77261.34, 47366.01, 54485.68, 22673.25, 8089.13, 8515.88, 61966.51, 61646.9, 5356.32, 16308.02, 1898.9, 20220.2, 270.98, 1897.34, 20611.17, 33942.0, 1903.74, 35277.45, 13909.62, 67667.97, 30974.4, 54387.83, 196518.6, 14570.28, 5134.58, 134912.55, 12601.8, 40534.96, 62489.68, 67196.54, 25028.88, 173075.49, 33564.41, 6564.75, 5380.16, 48277.34, 49802.16, 59300.99, 7621.13, 25434.51, 10141.83, 55107.54, 1166.76, 15954.18, 246687.87, 72038.9, 15954.2, 400.52, 386.99, 40215.92, 3063.05, 15985.17, 5150.04, 8452.38, 16251.67, 37118.47, 44551.23, 287621.25, 11555.89, 135506.96, 21282.66, 111987.77, 13916.51, 14318.92, 5709.45, 119404.19, 25198.78, 9328.15, 15622.53, 14453.38, 61455.4, 38074.99, 13275.16, 14966.81, 8350.95, 56428.28, 2628.58, 6007.93, 30464.22, 12279.33, 46370.81, 52987.05, 764.71, 9828.01, 44258.11, 2511.83, 45414.48, 5684.96, 99900.51, 21801.55, 19182.49, 1459.2, 2586.94, 119462.96, 97803.32, 3270.04, 20161.12, 25930.55, 6214.19, 40269.62, 1326.78, 16224.97, 4860.0, 41741.62, 2394.8, 40197.38, 5751.0, 2281.56, 28396.3, 250.59, 174.35, 14926.31, 10604.96, 28520.23, 46460.85, 23820.52, 91.02, 6171.08, 1443.8, 34388.33, 1832.07, 1883.7, 48000.28, 856.9, 127138.5, 51663.6, 17416.13, 30792.7, 22551.84, 18991.59, 47589.06, 44227.17, 39745.9, 113132.93, 2403.46, 14070.44, 81089.8, 52402.4, 163148.28, 15127.24, 50572.34, 50584.18, 15453.12, 12973.73, 583.43, 35305.1, 60603.92, 7510.5, 1095.35, 744.68, 1595.23, 5904.16, 1645.6, 6962.79, 15089.0, 14492.83, 20107.64, 1914.61, 7688.15, 21350.77, 13702.71, 92328.92, 19799.84, 35398.58, 34830.81, 360.82, 32622.95, 49176.91, 5607.58, 13919.14, 9759.1, 2204.45, 178885.69, 6354.96, 136041.8, 29501.28, 81682.81, 8074.16, 26088.22, 4076.82, 83373.26, 52979.39, 58.41, 205630.88, 42003.31, 43205.88, 63435.27, 19396.48, 38599.39, 52992.99, 9214.17, 2518.22, 82969.92, 12573.33, 49321.49, 129521.89, 17472.7, 1686.56, 519.66, 654.14, 46314.53, 3391.37, 7263.78, 38453.36, 21285.46, 44666.8, 49757.02, 47771.89, 8949.7, 351.72, 121290.67, 17465.65, 8286.05, 956.04, 4111.07, 141937.08, 127152.06, 5619.22, 12970.5, 65459.26, 3035.49, 14639.07, 83021.49, 9961.58, 40650.31, 292.58, 18930.22, 12751.72, 14624.72, 53389.73, 144483.67, 7243.16, 129189.63, 661.11, 1322.22, 63533.28, 52555.5, 7048.23, 22110.81, 1898.2, 1898.2, 2031.32, 81688.83, 1870.83, 504.19, 1755.44, 28996.03, 15982.65, 161.26, 5752.44, 19460.58, 5083.87, 98366.65, 61608.56, 432.67, 5109.34, 38074.01, 157408.26, 210.19, 6475.09, 17977.71, 109.14, 105976.96, 15985.87, 54361.47, 34644.12, 21906.78, 2419.26, 39646.25, 69336.61, 18209.18, 65061.72, 42.72, 7109.12, 7639.91, 281.24, 8041.59, 54613.84, 130658.92, 45293.81, 14780.25, 46291.48, 11711.26, 11564.7, 1769.04, 12876.5, 5635.08, 12307.33, 50446.08, 163050.24, 19597.81, 136207.54, 83447.41, 2209.18, 210.89, 68403.14, 130035.54, 52485.42, 130697.82, 17791.02, 148736.23, 15605.1, 150339.67, 10966.79, 14601.76, 61297.39, 127289.44, 60322.69, 350.69, 132.37, 3782.52, 471.56, 60.12, 45756.79, 15830.4, 64112.14, 16610.46, 25161.59, 20386.48, 34649.91, 143.76, 83988.45, 87296.6, 16206.09, 5081.44, 10752.79, 51927.36, 76082.09, 35076.85, 383966.74, 1752.92, 10345.62, 82309.01, 5780.54, 389.53, 529.38, 45728.22, 893.14, 3012.47, 62254.14, 36587.03, 5792.92, 250.76, 11293.99, 44461.0, 152518.48, 15229.93, 669.42, 22738.8, 329.32, 95399.32, 620.87, 1509.49, 97953.12, 73235.87, 40716.13, 112402.01, 21687.09, 10751.45, 9522.69, 51.06, 5995.58, 78457.56, 56137.59, 16064.57, 92.54, 78214.44, 7769.0, 91491.82, 52273.75, 12668.17, 3227.43, 12055.64, 237.68, 11995.6, 6000.29, 31872.25, 20463.45, 6226.87, 26029.85, 9958.7, 121338.23, 71.46, 27560.14, 1259.34, 617.46, 63054.76, 34865.47, 17182.68, 55259.7, 18281.3, 31705.47, 19912.32, 567.0, 1328.25, 11542.71, 885.47, 3908.64, 14843.81, 23598.45, 1518.56, 13805.96, 6448.08, 12331.0, 391.16, 9561.87, 3841.24, 16360.32, 37744.54, 58443.4, 26440.34, 18061.93, 1297.04, 31857.88, 33652.02, 146.52, 61036.53, 21960.84, 157569.72, 16861.3, 65264.19, 182786.6, 104822.45, 4316.58, 20884.04, 83119.2, 18778.67, 15725.29, 39723.09, 551.08, 2794.79, 3648.85, 124251.59, 24018.14, 3396.2, 54584.76, 36410.74, 18365.0, 29564.64, 50141.95, 102507.26, 7905.5, 126157.16, 144162.13, 82821.1, 174801.23, 5131.57, 2796.25, 13823.96, 15854.97, 73664.66, 59686.46, 45939.47, 2352.97, 20313.6, 6891.01, 12394.95, 18633.4, 14628.6, 54695.66, 6821.61, 14446.65, 141940.22, 8984.79, 58463.02, 42112.0, 12439.77, 275.14, 113.44, 31647.42, 4771.84, 11611.6, 34452.67, 15558.89, 110979.65, 3738.74, 13801.06, 15090.34, 1328.25, 58751.05, 17219.6, 133945.27, 2886.26, 13434.65, 3569.8, 34107.26, 9573.79, 107.17, 15842.4, 98430.22, 119.06, 142854.11, 13046.4, 60976.29, 29276.28, 152948.01, 36822.1, 23301.31, 42.59, 81620.23, 4245.36, 58007.82, 16898.45, 27585.44, 2466.4, 7288.7, 88116.07, 16333.44, 425.96, 9732.56, 36340.61, 89588.52, 10315.02, 34170.77, 41348.93, 48810.35, 9316.54, 21278.68, 64610.86, 96326.64, 16469.0, 73046.35, 417.86, 66290.66, 147.09, 37554.38, 54461.62, 99.54, 77328.16, 59238.89, 99066.05, 102.31, 1085.08, 53289.6, 14631.34, 3833.28, 13065.2, 65779.37, 651.86, 2102.41, 40611.38, 114590.28, 731.9, 32557.01, 27552.88, 412.32, 7789.43, 61176.14, 933.13, 2925.04, 30017.33, 24643.4, 38321.87, 18093.52, 121253.46, 55303.23, 38778.36, 38584.45, 24530.29, 3204.82, 32712.8, 61770.49, 471.56, 85816.1, 4098.2, 71422.87, 14233.58, 7425.2, 13065.2, 18950.41, 13029.73, 5710.65, 3593.88, 15397.83, 656.69, 17883.11, 4368.0, 34739.01, 2111.84, 12967.56, 18513.14, 317.16, 73852.81, 81534.62, 8067.13, 19688.54, 21740.57, 1808.16, 30743.95, 23899.36, 97851.54, 63374.49, 46556.37, 13847.72, 10702.47, 356.29, 2485.59, 8467.39, 75287.88, 1641.56, 77764.6, 112187.27, 38657.41, 15817.06, 11495.64, 1446.42, 138326.15, 75143.55, 15548.93, 21854.0, 4516.92, 16960.85, 68442.18, 25003.4, 130250.5, 4334.28, 14577.36, 61951.82, 9227.29, 13576.9, 127044.98, 129352.18, 1362.46, 37273.56, 3002.55, 1319.7, 10636.86, 12593.18, 26188.79, 4367.66, 44931.08, 34374.75, 2352.97, 113579.03, 51346.28, 40862.36, 25032.26, 213.23, 2592.47, 180.75, 10077.65, 484.25, 1042.7, 15857.6, 7470.82, 14419.88, 127052.18, 9477.03, 17751.0, 13371.75, 126695.42, 189.8, 29395.84, 1667.09, 387.2, 4501.78, 4726.52, 79198.13, 9424.98, 14151.51, 2732.65, 231.09, 22497.7, 1626.33, 10768.02, 5479.53, 132181.96, 45070.55, 2143.6, 10119.0, 21687.85, 7594.44, 15161.25, 2909.18, 201.5, 13258.61, 77286.14, 49849.8, 39086.42, 31971.43, 15421.32, 40661.5, 4679.94, 5443.2, 53028.44, 2245.96, 158.01, 20322.33, 1277.87, 4556.92, 5230.8, 261.6, 4508.4, 47.98, 42580.61, 62792.63, 7073.8, 764.71, 70754.07, 63549.35, 65163.0, 108672.16, 109236.74, 117974.88, 12633.2, 20509.33, 107.09, 7679.62, 103324.61, 70240.8, 47689.35, 63160.75, 6277.64, 291.89, 5963.8, 37095.74, 17543.03, 33691.71, 6540.48, 4555.55, 80935.36, 9097.33, 39898.92, 6532.6, 5960.94, 55.21, 2335.01, 10381.59, 59651.34, 205898.87, 5158.08, 15733.32, 6685.1, 23769.89, 3391.19, 65.52, 21904.31, 56151.8, 11714.78, 572.66, 970.61, 46737.18, 16994.68, 8312.98, 32117.12, 3288.37, 77371.56, 41361.34, 23159.91, 5839.33, 27372.59, 433.09, 189.36, 5498.92, 12012.37, 6530.85, 16457.79, 339.57, 8793.09, 22082.28, 2681.07, 13527.35, 42.22, 17836.86, 454.8, 183699.79, 15797.0, 76.92, 380.7, 33657.19, 41872.25, 14223.6, 15365.29, 17882.92, 80371.77, 18002.15, 67122.17, 216619.42, 16160.51, 4360.38, 11673.67, 67449.2, 17422.72, 43216.22, 2226.41, 39371.19, 43680.66, 18798.69, 2201.38, 2233.4, 49572.22, 2790.27, 24826.58, 100237.43, 34650.21, 6667.05, 27301.46, 85585.73, 73674.08, 26756.95, 61.29, 46150.53, 15476.99, 17615.52, 57587.27, 63057.75, 141.6, 48430.43, 2587.51, 885.99, 50435.15, 5948.73, 918.0, 13387.28, 7064.56, 13894.84, 256.56, 54832.53, 4636.6, 13020.36, 32715.47, 6257.18, 471.56, 1876.33, 89002.9, 11322.98, 4307.12, 27205.2, 2667.55, 127673.99, 21190.4, 46001.1, 24943.68, 323.88, 147146.4, 9329.9, 57590.93, 38819.07, 52150.05, 38465.06, 8855.58, 15363.67, 146033.91, 3460.98, 13166.37, 32663.02, 65122.29, 115114.86, 13023.05, 4190.79, 24616.62, 282.85, 22265.18, 3431.31, 520.03, 31685.48, 34660.8, 402.28, 503.76, 300.13, 25180.89, 72936.61, 53286.27, 3315.39, 21935.17, 25965.57, 14341.65, 155700.17, 16950.96, 7704.0, 61643.51, 16760.75, 108048.73, 15051.11, 332.82, 31498.73, 2989.62, 1626.33, 38647.29, 4943.21, 42275.06, 95312.68, 20746.53, 51293.08, 286.32, 63528.42, 6317.56, 42118.01, 109352.21, 19111.38, 4529.38, 14061.63, 56608.2, 10484.0, 16793.73, 45121.64, 661.11, 121065.4, 14854.82, 38226.56, 17979.95, 3944.12, 36.98, 367830.04, 4129.98, 2132.9, 1518.56, 11022.22, 11457.75, 102436.77, 55147.99, 5602.09, 33658.69, 33640.79, 14199.12, 5480.0, 50534.22, 40440.58, 298.58, 21340.41, 152011.82, 649.02, 444.42, 93074.26, 35882.58, 35617.17, 24847.78, 161314.79, 86404.54, 44862.84, 11149.19, 11099.81, 5112.01, 123679.04, 4193.2, 40455.53, 48751.32, 233624.02, 10664.94, 2156.42, 12739.0, 13371.75, 73671.84, 2213.68, 156279.63, 11096.09, 388.29, 1900.26, 3270.04, 63595.81, 100457.89, 56903.91, 104925.43, 49871.58, 87380.3, 67.29, 235.39, 16136.39, 460.97, 64040.0, 76024.07, 19944.34, 85576.22, 3842.15, 20445.58, 33117.1, 9533.6, 35781.17, 429.28, 20264.46, 82607.69, 14209.44, 39880.93, 2241.95, 11333.52, 55955.55, 4306.4, 3671.98, 45543.59, 355.57, 25891.09, 83930.91, 75415.39, 3631.37, 10969.26, 111036.88, 86799.35, 3853.88, 10454.4, 44152.32, 52731.18, 11959.04, 88573.38, 63.46, 101104.36, 627.25, 102449.56, 57848.33, 786.24, 21621.6, 29794.85, 18837.0, 60157.88, 441.49, 1060.8, 19019.0, 63975.89, 1471.22, 55.53, 31234.44, 131830.26, 17020.86, 989.83, 34759.31, 64.88, 58682.85, 97612.77, 166.35, 102400.91, 108.48, 132083.41, 20258.19, 45252.76, 68541.23, 118516.6, 43711.33, 23152.85, 5209.04, 124989.93, 44388.12, 28392.6, 36830.92, 32032.36, 135235.2, 171116.62, 13504.16, 420.7, 54346.16, 36447.56, 49885.92, 19307.78, 45352.7, 16410.63, 44878.75, 9258.23, 26328.07, 61003.78, 14156.86, 31334.22, 15918.15, 15346.04, 345.16, 3748.84, 28048.0, 75000.03, 12264.98, 59237.93, 346.23, 16549.84, 57227.4, 39779.14, 104.76, 9792.6, 59535.28, 61144.75, 4696.17, 471.56, 210.68, 31.75, 28003.36, 20343.27, 7039.76, 15715.4, 3748.84, 101536.64, 67505.4, 6668.62, 1100.64, 82915.51, 89107.3, 69655.95, 490.32, 26351.44, 14675.64, 221.78, 57592.63, 1098.77, 75765.79, 2653.03, 14330.0, 1564.8, 4808.4, 1447.21, 65694.06, 14268.0, 73652.23, 41623.43, 44471.49, 4958.5, 17158.02, 2357.81, 24818.86, 74848.31, 26083.98, 55535.57, 117088.31, 27392.01, 67247.93, 26812.54, 48017.37, 9790.75, 9323.46, 5917.29, 3315.87, 15675.99, 1396.69, 5463.39, 45183.4, 15040.47, 23430.47, 1127.26, 14568.51, 113330.5, 35485.35, 45215.26, 1402.76, 259.6, 3740.29, 47917.99, 30220.01, 116758.89, 49990.23, 11992.64, 27.6, 49842.36, 143103.25, 24090.4, 26292.6, 17033.43, 7210.29, 5946.18, 46787.28, 17164.94, 138021.03, 96520.8, 4520.01, 48492.04, 13958.28, 1431.62, 98101.65, 40284.62, 67.38, 16173.36, 419.42, 18003.79, 16750.25, 23299.33, 15443.56, 36711.41, 2127.68, 31508.48, 1035.5, 16079.25, 28020.38, 20282.4, 5726.24, 29613.28, 50190.55, 29174.72, 6446.92, 73348.52, 24150.0, 324.81, 61985.03, 4590.37, 411.98, 49062.5, 109.66, 6378.04, 4675.49, 104326.49, 64212.75, 380.77, 17560.0, 21586.42, 5914.72, 18740.94, 161729.1, 71313.95, 6672.15, 11159.19, 1832.41, 5799.22, 113086.75, 11908.25, 306.69, 671.61, 29758.68, 30354.12, 16175.96, 1715.52, 2228.66, 1322.22, 31101.94, 13755.48, 14959.04, 33779.96, 107561.41, 8687.08, 126.59, 113.52, 5625.41, 42605.1, 566.07, 55.21, 31426.22, 1471.23, 6101.81, 3426.28, 1521.82, 20026.85, 380.21, 35793.57, 2796.82, 11417.14, 35795.81, 7534.24, 33712.18, 623.68, 3006.42, 137676.26, 7430.43, 5893.68, 37802.62, 8293.36, 23122.92, 14311.59, 9431.87, 76816.32, 7464.86, 894.31, 64002.07, 35639.73, 1402.76, 38789.32, 63.33, 158952.87, 21412.25, 40402.37, 9298.51, 24838.07, 15064.39, 332.91, 23819.98, 115342.08, 46594.27, 5776.34, 136355.25, 3320.63, 49736.25, 239.93, 41715.22, 11819.17, 122601.59, 5491.38, 16884.07, 39412.4, 18302.5, 84787.27, 40490.58, 35122.73, 7039.39, 25231.28, 3381.53, 114189.2, 25362.82, 14624.71, 14718.0, 28573.53, 39751.63, 3338.98, 821.56, 191593.89, 3528.62, 49796.81, 16336.24, 16993.8, 39220.56, 64366.32, 5124.65, 97013.38, 36365.02, 604.74, 150.6, 30341.61, 43443.69, 43142.8, 234.09, 61646.9, 21327.13, 9802.64, 22032.53, 524.82, 7942.88, 12930.57, 15438.08, 135460.45, 40664.0, 44083.5, 13467.28, 28443.01, 44279.12, 6306.77, 14096.21, 127391.27, 35493.59, 6392.8, 61504.08, 104782.11, 42504.73, 33747.06, 62600.1, 168943.54, 264667.98, 30195.99, 34680.51, 48373.44, 330932.75, 34347.56, 39005.24, 8124.78, 6453.67, 33118.29, 26517.56, 12036.31, 85776.8, 90461.02, 35598.78, 7013.09, 2018.39, 99306.55, 688.15, 36727.1, 45651.17, 397.33, 2808.04, 146041.35, 132.55, 6167.94, 104427.32, 18900.99, 5791.34, 8766.72, 90617.58, 13438.05, 45200.11, 16402.96, 16848.23, 22108.84, 102662.16, 21622.15, 2215.11, 24407.16, 27950.34, 13896.48, 80245.29, 14846.08, 15282.35, 18291.91, 89236.04, 607.74, 52403.02, 11147.99, 23646.26, 2251.06, 274.68, 92005.51, 29791.6, 1513.74, 42491.33, 865.47, 120911.39, 40148.0, 65195.57, 545.61, 13156.88, 1049.93, 52239.01, 50557.87, 31661.88, 7328.81, 55834.26, 55715.06, 3952.74, 53936.0, 10969.21, 2352.97, 1184.18, 15052.9, 26007.28, 10945.72, 48808.55, 8483.93, 33222.98, 16360.28, 122314.86, 1951.46, 38329.53, 51048.11, 67843.36, 74097.62, 644.37, 36066.54, 137899.84, 25941.51, 368.09, 8118.32, 18011.1, 98514.68, 7728.96, 140786.38, 86954.49, 23016.97, 19898.78, 2373.96, 393.48, 64841.11, 27121.17, 859.72, 4789.54, 4536.4, 12786.9, 10691.78, 22307.72, 22026.18, 7660.62, 1322.53, 39456.47, 20364.28, 24080.34, 8292.41, 51870.06, 14161.25, 4699.59, 14681.54, 8534.71, 25055.71, 11444.89, 67025.05, 2715.12, 117127.13, 78834.85, 8640.81, 53618.63, 797.48, 141723.27, 23041.49, 11459.1, 35787.91, 18871.4, 104314.8, 29758.93, 2156.19, 79444.88, 72593.88, 22897.05, 61020.8, 8872.92, 67142.84, 21485.89, 2810.95, 151.02, 9242.47, 14556.9, 76398.36, 16908.52, 1996.8, 37095.87, 19155.55, 17529.1, 1835.83, 6113.75, 557.61, 77059.51, 48047.16, 53561.48, 100693.71, 943.12, 51654.82, 2045.65, 12593.88, 59070.41, 30644.5, 91074.24, 11504.91, 809.93, 70240.8, 122.72, 1081.78, 4107.01, 16832.48, 50106.66, 11809.16, 88961.08, 12047.39, 267.02, 4594.48, 21331.17, 17996.88, 9968.8, 5123.95, 27205.28, 11564.76, 6169.93, 21508.33, 10594.72, 103300.56, 21042.21, 100.47, 50328.6, 3119.19, 24556.64, 26247.11, 15088.07, 1489.6, 13298.6, 15284.38, 18011.73, 66002.15, 36077.03, 49350.67, 709.08, 143808.77, 52805.8, 44379.52, 333.18, 90674.9, 2178.5, 78977.0, 2771.78, 8412.1, 16133.34, 20377.23, 14523.3, 8869.43, 2590.17, 825.3, 3024.91, 49427.88, 24802.97, 3930.83, 36052.0, 6818.4, 62397.49, 15399.97, 2401.98, 1975.5, 52417.87, 20072.42, 117396.27, 46885.52, 12600.84, 65801.73, 24707.14, 64537.64, 54262.54, 1714.24, 2592.0, 39836.12, 51992.25, 89286.36, 423.1, 1456.78, 810.57, 3227.43, 55895.94, 1695.68, 26037.33, 20259.49, 33257.8, 62882.86, 25651.76, 80643.8, 12141.59, 15399.43, 67935.23, 2521.46, 77198.9, 25347.51, 33544.26, 2767.03, 7490.23, 598.37, 161.28, 15891.62, 595.26, 60241.39, 16022.25, 145328.54, 25369.26, 83786.68, 276.08, 130902.41, 61737.01, 19997.66, 31847.85, 72213.4, 18392.58, 3653.25, 50155.35, 8573.46, 70138.13, 5870.36, 54847.97, 2373.96, 80721.0, 152.1, 7611.12, 11052.29, 763.06, 19258.26, 49215.98, 363308.22, 2132.08, 5838.32, 73428.3, 34342.51, 4902.25, 13568.41, 20763.21, 70175.68, 35872.43, 10223.82, 1898.9, 54267.13, 34019.67, 11100.56, 16271.79, 3465.85, 1537.78, 170.31, 45313.82, 10907.57, 8944.44, 2818.98, 9930.05, 3752.84, 13502.18, 10032.72, 26863.2, 46792.94, 9391.61, 4290.41, 14242.46, 31229.74, 471.56, 9679.04, 9802.64, 63050.75, 109386.94, 59129.68, 67375.35, 387.7, 17277.52, 118070.28, 15630.24, 24.24, 67970.95, 60289.21, 23840.77, 199.08, 1000.64, 24981.98, 10000.96, 44438.76, 1129.6, 8793.09, 23.64, 844.72, 115857.57, 15329.09, 14257.55, 471.56, 21203.59, 51513.39, 9838.08, 37560.32, 1815.97, 13490.58, 9767.6, 3063.3, 29693.74, 859.0, 24035.77, 35068.46, 107384.87, 3678.02, 1855.32, 18145.19, 264.45, 144068.94, 40806.17, 3434.53, 29541.16, 14436.67, 30391.3, 93465.25, 8915.52, 105.99, 2144.55, 17398.27, 4518.14, 95079.57, 20351.77, 52282.27, 8240.89, 72252.0, 2478.0, 83.88, 3356.65, 16135.6, 7400.43, 11445.71, 99810.83, 6313.2, 235.25, 163975.81, 34835.21, 2373.96, 1824.0, 53838.92, 67342.32, 66541.98, 40591.75, 9961.58, 943.12, 1259.34, 580.3, 163253.7, 30220.01, 341.01, 6286.62, 90.73, 29752.32, 46467.66, 13681.94, 33968.07, 46395.11, 16378.86, 44245.1, 32993.63, 10683.18, 29954.52, 14176.24, 12836.35, 32821.48, 9335.6, 22484.48, 34320.28, 19487.72, 1289.92, 7018.63, 1090.75, 54036.91, 119124.65, 17513.9, 3371.36, 318.17, 12083.63, 56763.28, 235440.89, 16148.7, 63572.86, 20023.96, 7080.92, 40379.57, 31378.98, 163059.74, 406.26, 54013.77, 9720.35, 350.69, 33934.71, 718.81, 579.13, 59161.19, 19959.09, 690.65, 47325.66, 49910.07, 20672.96, 18366.97, 41709.51, 75026.47, 105051.7, 16354.05, 16991.23, 193.04, 23380.28, 685.11, 30174.75, 9380.15, 47935.84, 15643.96, 2751.73, 6240.0, 38051.41, 26290.34, 25574.21, 192.0, 152190.88, 29852.22, 73924.81, 1439.93, 15409.68, 57788.43, 51696.69, 77340.94, 5221.98, 136326.01, 14225.01, 128025.63, 8032.04, 65383.58, 2800.91, 121.28, 13626.58, 2609.46, 10719.52, 3095.23, 48329.82, 13065.2, 52442.6, 58167.02, 4040.14, 70132.61, 110826.27, 1565.47, 108453.34, 123847.37, 56706.08, 62019.95, 38933.74, 55306.69, 36174.3, 145833.07, 53097.92, 6166.14, 1399.06, 19158.29, 15040.34, 344.16, 56502.76, 614.21, 49467.7, 68409.42, 133121.66, 53382.47, 2606.13, 25203.05, 35110.54, 8811.09, 36713.4, 450.14, 836.1, 277.8, 20349.71, 20426.0, 504.19, 26025.75, 5695.09, 17676.81, 3457.33, 2593.76, 27665.06, 96945.78, 26851.5, 56621.05, 55773.53, 50382.27, 3900.0, 868.58, 14347.1, 40516.2, 12466.15, 22615.48, 11772.44, 33389.74, 146035.84, 105155.17, 6474.97, 262.67, 18411.51, 35216.45, 3191.75, 32527.63, 122686.57, 28342.12, 12013.39, 15171.6, 234.44, 3901.18, 3284.87, 7726.0, 1328.25, 17960.31, 20992.32, 88760.6, 1560.42, 52013.24, 943.12, 27098.97, 79926.2, 541.14, 331.2, 37903.01, 36020.39, 18135.88, 24177.02, 14051.03, 1328.25, 21390.94, 605.03, 23176.5, 91050.17, 186899.89, 10347.28, 98779.33, 11697.45, 13371.75, 173514.39, 9166.19, 9981.98, 80579.62, 60639.48, 14387.15, 14403.89, 33654.32, 388.75, 86.77, 2821.29, 3648.12, 49935.69, 20913.79, 13883.29, 428.0, 323.57, 16353.82, 27804.8, 234.55, 90615.54, 68046.71, 97802.61, 276.56, 46556.37, 7599.46, 23754.42, 51597.11, 6919.12, 104.37, 156546.0, 57602.16, 148042.93, 129.6, 4821.77, 55418.66, 14194.84, 51269.25, 17439.72, 905.16, 1308.48, 78634.48, 85529.74, 25938.26, 2175.46, 5978.62, 17995.47, 8667.65, 25032.69, 12511.31, 25494.07, 24640.48, 68236.17, 3460.96, 4094.67, 168.52, 1471.19, 3468.12, 40467.99, 1191.99, 38518.23, 111643.59, 40911.51, 145.95, 36595.95, 81.79, 9410.0, 1431.2, 22289.73, 38777.08, 31147.14, 6068.11, 45818.94, 334.21, 63071.98, 233.52, 738.53, 45508.65, 47709.1, 15824.04, 71704.38, 493.94, 5593.85, 7207.51, 12948.62, 27621.33, 1852.37, 13931.51, 35001.3, 18478.08, 88506.57, 646.53, 29082.0, 15914.44, 20568.74, 3034.29, 41559.48, 353.36, 5398.11, 61569.15, 17182.57, 24900.14, 1328.25, 1897.5, 9990.24, 44511.61, 12079.43, 21021.63, 50889.48, 14586.66, 773.64, 163160.64, 15181.9, 13838.91, 74689.83, 44069.69, 60508.28, 3420.16, 19880.2, 3347.03, 753.02, 10573.87, 131.1, 13929.73, 1965.18, 112629.05, 27751.02, 16682.31, 75799.64, 67299.86, 36514.41, 45720.08, 18.68, 28761.25, 39633.78, 40229.43, 1463.24, 6367.63, 1084.28, 1119.67, 1390.68, 147426.78, 27683.7, 89989.93, 47589.41, 47926.11, 165536.58, 70634.45, 25022.41, 44237.77, 53253.39, 8728.01, 568.13, 24844.42, 39250.86, 26412.51, 14419.85, 26598.0, 27667.2, 7235.4, 3640.3, 4981.57, 21291.5, 112.47, 18618.61, 29759.9, 9840.56, 533.32, 10371.17, 33468.12, 11998.89, 26712.96, 24530.68, 26972.67, 40246.67, 5205.48, 92985.32, 16202.32, 677.84, 26244.59, 1429.73, 1897.5, 889.63, 19526.15, 623.68, 93987.87, 3070.61, 15423.6, 24425.88, 13891.02, 3472.08, 33104.39, 801.26, 8888.16, 12959.35, 36786.0, 31019.72, 36834.05, 7579.8, 8006.4, 3040.36, 50456.09, 81654.33, 57097.73, 723.31, 238.44, 18232.93, 15315.93, 15554.91, 18311.04, 7839.28, 1299.25, 28926.12, 19497.86, 11808.64, 31963.67, 59115.6, 25027.45, 63252.25, 27475.2, 24216.28, 26582.4, 8012.38, 12965.4, 9528.76, 37828.24, 52175.22, 65304.4, 22126.81, 21525.4, 9935.88, 58496.41, 3413.98, 64724.7, 19915.3, 43332.39, 29753.73, 94143.11, 81126.18, 21865.64, 19960.97, 7990.16, 51707.69, 20340.13, 32.81, 345.02, 1254.69, 134.59, 13146.91, 11117.83, 27068.46, 19406.29, 25968.48, 20076.74, 28571.37, 54211.95, 67301.3, 484.63, 24677.28, 13638.44, 43340.79, 34520.43, 30545.67, 70652.4, 66594.04, 18766.81, 60684.41, 98973.24, 15939.09, 110423.45, 10328.78, 47335.12, 649.03, 15451.48, 55005.18, 67204.41, 7972.78, 644.8, 3311.91, 119034.49, 4995.38, 17283.5, 25128.67, 316.37, 75459.28, 48810.1, 92669.63, 33.24, 71201.44, 10674.03, 90803.34, 68744.78, 430623.33, 120371.53, 4534.33, 7730.83, 908.25, 681.19, 133759.23, 1329.23, 27759.7, 12159.03, 991.2, 9222.81, 304208.68, 8710.13, 54310.67, 438.93, 4613.35, 54510.15, 4280.53, 9405.14, 111348.91, 756.28, 13298.14, 66047.79, 5128.97, 52711.53, 51555.73, 43089.82, 12284.33, 559.21, 417.01, 3435.93, 6704.33, 1383.23, 34124.12, 7100.15, 104218.52, 15509.23, 39373.14, 9533.64, 54473.96, 27158.28, 39560.1, 2904.62, 28901.69, 28814.14, 14147.32, 8641.27, 6667.26, 1453.04, 6532.6, 16800.0, 132833.1, 63388.07, 129653.95, 165.6, 5718.0, 22013.84, 16689.3, 357.54, 72803.95, 63206.58, 16360.32, 10621.05, 30628.6, 36851.27, 13987.37, 51591.78, 18251.53, 19493.49, 73002.24, 4417.28, 3043.67, 1757.86, 5793.16, 541.74, 29708.1, 29416.57, 1764.66, 53959.23, 38478.38, 90504.62, 5169.48, 37728.0, 160.63, 8405.97, 11379.2, 22876.88, 13247.76, 6856.94, 189528.0, 51522.24, 17.33, 84322.94, 43618.96, 1409.09, 20815.02, 28275.6, 56291.41, 52759.66, 42633.3, 54731.04, 15213.25, 115524.36, 13733.45, 2697.2, 15744.86, 45071.13, 21163.19, 37368.35, 15282.48, 2237.43, 1897.5, 83491.35, 44436.71, 1147.95, 240.72, 4057.53, 2215.68, 5675.14, 2614.48, 149803.12, 5746.68, 3339.98, 39380.01, 22368.0, 57.6, 745.61, 20312.6, 67737.56, 9791.33, 1329.19, 10797.03, 28120.06, 27073.18, 10916.97, 23112.56, 5422.84, 8805.54, 43468.52, 82905.47, 137738.81, 56141.82, 2972.96, 172049.59, 4980.14, 42254.08, 82671.25, 630.27, 31415.44, 6810.0, 123000.1, 12237.49, 8424.0, 42061.25, 721.77, 20562.88, 1323.38, 123400.2, 33854.64, 4389.8, 1089.67, 17313.65, 186730.86, 52290.87, 1477.97, 45356.47, 74767.08, 1396.32, 133095.1, 105922.81, 1639.85, 140853.69, 1612.34, 33319.15, 154808.64, 46838.15, 1145.6, 74620.44, 47277.29, 60680.1, 438.82, 153919.42, 14624.71, 19400.57, 284.88, 3786.3, 8755.48, 74520.0, 63161.28, 12905.12, 17531.9, 1282.86, 9216.1, 683.91, 8894.98, 4634.03, 15297.6, 16175.46, 13694.41, 99020.24, 41537.53, 45565.06, 16352.11, 4552.9, 24290.69, 13533.0, 1880.03, 16280.77, 5911.03, 14930.78, 89838.33, 34992.73, 578.96, 7986.4, 59129.08, 121085.52, 32561.01, 4518.42, 1485.0, 927.9, 47759.87, 18680.48, 25186.48, 4804.86, 14980.36, 78887.41, 39433.97, 943.12, 1519.6, 114681.79, 15824.07, 55305.17, 2850.4, 14896.66, 8969.1, 56833.96, 23632.52, 4880.9, 47745.51, 58491.41, 71317.28, 250.84, 33070.38, 141665.76, 15454.41, 63913.2, 35101.35, 45765.55, 15842.4, 32536.19, 413.08, 32593.7, 6896.72, 8444.34, 2388.04, 3793.02, 235.54, 204.75, 6532.6, 51608.0, 74510.15, 43588.86, 12320.5, 122.4, 15236.75, 126864.99, 41395.73, 40403.9, 5103.57, 10230.71, 133.83, 33454.89, 28051.84, 20243.85, 61059.43, 25272.36, 44352.56, 59473.77, 6586.43, 2211.98, 14264.68, 1100.73, 420.65, 7054.08, 605.74, 7448.63, 34676.16, 23800.71, 49500.02, 6661.71, 93097.13, 132817.1, 79784.76, 9901.56, 737.77, 102534.82, 17091.24, 97943.01, 1742.91, 26301.41, 99417.03, 91002.22, 11891.1, 10017.12, 6775.25, 7480.74, 17291.3, 111735.03, 2052.33, 33930.13, 14586.7, 63924.07, 27161.59, 55169.92, 23027.6, 45198.4, 14923.09, 36433.18, 65900.84, 50779.13, 32481.46, 69662.72, 59836.45, 171770.73, 126098.57, 59931.68, 27015.9, 91086.13, 16739.93, 6360.99, 14614.77, 42286.23, 147.89, 145.61, 6413.83, 94688.22, 1276.8, 4603.18, 1886.25, 16384.23, 26005.08, 29152.11, 18900.99, 5324.4, 32288.83, 153793.52, 4932.0, 85009.74, 362.65, 54741.78, 1611.69, 33544.03, 19180.73, 19297.85, 15021.88, 24099.7, 80040.11, 3932.34, 6603.9, 456.32, 12659.12, 21835.23, 12424.95, 94816.9, 55189.99, 15333.97, 25791.39, 14326.28, 132.23, 7799.78, 1497.17, 70576.7, 4964.4, 17986.59, 1606.64, 9879.5, 6884.7, 79331.62, 3484.06, 3083.13, 12153.73, 9206.64, 18395.66, 42355.67, 5186.77, 12173.72, 3225.75, 8972.07, 24636.9, 20919.26, 19720.5, 982.6, 15208.92, 2777.12, 41167.65, 943.12, 48628.61, 26499.52, 374.3, 80175.07, 27838.59, 114542.61, 7764.61, 18571.74, 84468.09, 159052.93, 36040.64, 99305.2, 13321.98, 58177.49, 57323.42, 47993.94, 93050.98, 4140.9, 18886.1, 10843.79, 976.88, 14624.72, 115318.87, 14024.57, 1768.27, 110686.64, 45971.05, 13187.13, 3563.8, 35753.65, 26946.39, 9726.99, 27714.31, 126923.28, 47846.72, 136054.6, 46562.29, 35010.47, 38009.23, 107771.02, 55872.29, 131040.56, 77048.52, 26894.49, 28610.08, 23701.5, 2281.56, 34339.51, 23011.15, 995.68, 74467.09, 4402.58, 10884.97, 1282.31, 5903.19, 68606.9, 58227.13, 637.4, 11195.74, 1897.5, 375.44, 31984.02, 125257.78, 141667.42, 3007.07, 16341.29, 9133.19, 20506.04, 17619.72, 35668.43, 215.67, 11652.39, 17020.8, 36819.65, 20.04, 15494.86, 3955.35, 15203.77, 10990.08, 99586.46, 898.23, 30220.01, 943.12, 8134.51, 57833.46, 23272.43, 21300.0, 239974.72, 69339.09, 1955.03, 27370.0, 34169.46, 33.18, 2403.14, 12874.06, 4980.01, 27.29, 14630.55, 95773.84, 33104.97, 1898.9, 47484.58, 11266.33, 7664.54, 5149.12, 10655.1, 4684.2, 4590.4, 17380.92, 27551.46, 30.64, 25415.85, 13942.5, 70966.35, 16293.17, 18175.91, 2016.48, 12871.75, 47403.0, 14896.4, 17337.88, 13272.0, 59.16, 2162.71, 62433.04, 813.21, 5625.41, 1991.84, 57295.89, 77.64, 26446.92, 19536.52, 8087.04, 1426.8, 42533.8, 150.3, 36242.77, 30176.72, 25552.8, 18864.9, 2469.82, 32715.47, 4331.5, 24138.7, 20942.81, 2725.63, 24173.35, 28189.8, 7084.71, 753.66, 126933.58, 12886.75, 13421.31, 10009.11, 1897.5, 16811.37, 47003.73, 8185.58, 34699.36, 11.58, 2082.04, 28846.15, 25692.64, 47752.64, 12283.05, 2839.42, 22221.11, 70102.65, 47165.79, 20702.38, 124547.11, 107585.27, 5332.64, 6986.87, 191.5, 521.2, 49630.72, 1245.39, 58019.13, 1408.4, 4378.51, 9670.96, 10190.35, 7525.59, 82315.5, 46715.88, 76993.43, 4697.27, 9998.05, 132581.25, 1895.4, 789.07, 29729.29, 6193.1, 8890.85, 74639.42, 8537.8, 29951.05, 142.89, 20522.49, 39451.2, 51.72, 61201.61, 17851.96, 32423.5, 59698.56, 1036.5, 58815.05, 227.14, 5918.57, 89708.85, 45445.46, 65318.4, 24703.42, 5665.26, 15393.92, 1578.54, 17564.93, 14675.89, 31.44, 66799.27, 7492.25, 21189.97, 15431.67, 1256.23, 61840.88, 13892.33, 18145.19, 776.58, 48419.44, 79769.09, 123019.59, 34034.64, 18472.7, 14775.24, 3466.48, 204205.34, 26582.4, 36343.27, 125584.17, 2212.39, 8434.27, 6565.52, 114216.81, 15617.35, 27483.31, 140824.65, 19077.8, 44409.7, 4087.57, 13377.0, 33135.07, 30469.25, 15909.62, 163900.87, 13110.2, 8885.57, 6843.2, 60488.77, 72194.35, 139.32, 38757.09, 7482.1, 3814.5, 11847.59, 51663.6, 23176.27, 109466.26, 39173.6, 2865.79, 9521.41, 530.24, 27525.64, 18375.36, 10621.05, 30705.47, 10395.61, 2926.68, 22682.9, 6407.72, 84585.18, 41318.64, 3225.75, 3074.44, 45837.26, 12668.17, 19118.95, 79075.79, 18308.0, 13891.36, 595.55, 10447.08, 43751.23, 1651.98, 990.86, 36118.95, 116277.12, 233.9, 14144.42, 165809.59, 23848.09, 52302.21, 109320.83, 194879.36, 22122.17, 1397.52, 166104.12, 13524.16, 49715.78, 6801.5, 1898.9, 661.11, 11288.45, 32741.19, 3698.2, 23546.13, 4112.13, 12367.6, 294757.09, 25275.6, 8793.09, 40088.11, 6795.71, 94948.05, 12926.21, 24161.48, 174576.68, 32715.47, 31167.68, 1328.25, 55027.61, 1194.39, 26882.69, 13550.01, 393.27, 47119.77, 69416.35, 10295.81, 277.96, 334.79, 10423.94, 23034.06, 11820.67, 105186.58, 64211.01, 50608.18, 13066.82, 81962.88, 48150.13, 2581.43, 35557.87, 123995.73, 56501.62, 1799.96, 15934.66, 45082.83, 17428.32, 1852.17, 17782.81, 24144.93, 61059.94, 4799.38, 110994.34, 22596.73, 1204.16, 3255.46, 19429.21, 3081.41, 1620.29, 2105.98, 68987.68, 716.0, 48191.78, 81414.0, 68333.08, 26286.57, 15984.08, 15532.99, 97373.51, 1441.59, 19168.18, 62507.02, 13830.04, 43721.55, 95450.9, 67433.35, 44675.42, 7426.49, 25803.77, 943.12, 58720.49, 4.38, 84176.54, 4252.32, 2800.84, 119821.86, 948.52, 145957.81, 12400.51, 69503.81, 16227.85, 882.33, 114539.31, 40857.56, 972.77, 14373.46, 494.02, 74421.01, 121821.83, 23708.9, 334.12, 94922.02, 14861.16, 266.01, 14113.11, 26444.7, 24755.82, 2460.24, 50172.48, 18134.79, 1091.28, 36244.49, 167.77, 117422.22, 13159.19, 118.55, 6558.61, 6382.8, 943.12, 340.26, 1770.7, 14537.37, 14596.68, 79189.0, 73936.98, 26642.26, 4474.85, 21805.65, 642.0, 10500.0, 471.56, 65404.91, 49885.92, 27419.79, 5376.0, 23592.44, 49970.21, 37550.38, 376.25, 22232.71, 59533.07, 113364.75, 457.92, 42580.61, 10330.16, 76168.53, 4860.58, 37206.31, 63774.13, 56365.24, 54741.41, 79847.98, 358.44, 72.36, 61351.06, 253.08, 74089.36, 90008.02, 1546.2, 3397.96, 12372.44, 28570.57, 28649.57, 23049.01, 561.98, 88815.23, 90239.47, 95636.42, 35697.74, 26280.21, 58715.93, 1546.25, 24923.31, 11585.06, 1549.31, 2981.61, 20371.77, 16139.93, 50836.24, 5386.87, 3218.57, 359.38, 1054.58, 63729.82, 1115.78, 21323.21, 7474.74, 69236.45, 6741.83, 56956.96, 4747.92, 57205.84, 349.43, 45217.04, 20553.31, 1855.02, 13786.05, 32536.75, 19329.84, 90643.88, 27019.11, 48451.41, 172125.88, 21775.63, 78994.21, 59106.86, 32881.41, 20009.72, 21459.27, 3879.0, 16874.35, 112148.28, 325.22, 25740.59, 16235.36, 46763.55, 29999.34, 34029.92, 15359.39, 53635.98, 2460.6, 92009.59, 7194.38, 805.33, 90059.81, 17488.65, 33365.96, 5349.3, 4272.16, 10044.44, 37311.84, 269.14, 49597.55, 4766.0, 15844.76, 4905.6, 15300.13, 592.3, 16105.04, 42275.77, 170.53, 21979.01, 47195.59, 25548.95, 69906.32, 39562.67, 373.4, 5307.12, 22325.53, 62786.11, 1322.22, 42816.72, 64961.72, 7835.99, 25881.02, 5516.12, 1115.66, 115845.74, 12891.05, 100907.69, 33043.47, 11547.9, 45098.71, 68739.31, 89262.97, 10106.06, 112984.43, 18887.04, 800.76, 15469.23, 4088.45, 125886.67, 95316.21, 5342.4, 37.4, 83812.37, 17369.55, 67676.86, 16549.17, 20684.45, 2863.65, 5776.34, 185.84, 20090.72, 132118.09, 119363.52, 15.27, 62451.39, 56500.55, 432.84, 5824.36, 357.91, 18352.8, 19362.89, 160.11, 111874.81, 1326.53, 31919.48, 10087.9, 55812.95, 24137.3, 5493.29, 38894.78, 14451.33, 15664.03, 24912.0, 64732.23, 7777.72, 6463.67, 7704.0, 370987.45, 15598.9, 72528.79, 72607.23, 439919.82, 264.28, 14322.15, 15239.78, 40654.88, 42975.18, 59712.88, 1478.4, 52819.92, 5613.04, 876.21, 11691.64, 340.94, 28704.0, 131010.33, 3226.45, 40545.68, 57616.85, 1898.2, 4625.59, 10965.5, 285856.06, 6014.29, 48450.99, 7744.86, 735.9, 33826.08, 55810.53, 22956.0, 18978.44, 12219.74, 27825.24, 233.84, 32782.12, 20757.3, 56308.56, 1343.88, 6217.2, 13557.06, 43778.66, 54487.78, 121482.25, 10973.67, 458.46, 86278.96, 138.75, 539.88, 1897.5, 11760.0, 13371.75, 126377.11, 20813.54, 82568.88, 2625.88, 8481.45, 24733.92, 3593.18, 15690.69, 13037.95, 65062.02, 5022.08, 2741.29, 1832.16, 13581.4, 22666.2, 5156.27, 872.99, 47966.36, 24959.68, 211.81, 880.44, 107053.26, 23672.7, 18890.65, 77941.22, 10041.32, 113714.46, 287.47, 14027.64, 20955.83, 2961.15, 5053.75, 14635.56, 57868.56, 14810.46, 594.0, 3499.85, 36934.96, 94586.39, 29335.56, 61545.16, 29386.92, 12679.94, 3516.07, 19501.51, 70519.28, 2679.78, 24183.93, 114258.12, 2169.37, 2526.2, 43819.0, 13846.08, 47019.34, 19906.02, 63.33, 8076.0, 158.49, 6790.77, 25844.81, 14776.32, 5863.12, 15307.2, 65730.06, 155677.5, 178.19, 32173.72, 22439.94, 556.45, 44513.48, 8237.96, 156523.72, 70369.33, 62512.63, 972.55, 9429.54, 47281.48, 1364.0, 683.67, 4271.46, 12261.93, 6414.29, 65691.74, 1077.54, 12479.16, 43060.89, 1836.12, 21490.18, 86263.31, 53348.86, 300.12, 22834.3, 10091.52, 792.05, 1897.5, 52738.86, 5030.58, 5425.62, 717.6, 152947.26, 16441.28, 8859.47, 20865.08, 76792.05, 48968.31, 41483.49, 86100.51, 7299.83, 9143.25, 20016.78, 514.5, 52848.04, 411.02, 48191.68, 107.16, 297.46, 4949.22, 19403.93, 93372.86, 9098.25, 8641.03, 278.64, 12232.55, 5888.89, 1644.04, 249772.14, 3475.69, 5933.01, 13432.44, 178432.43, 2804.22, 125.15, 15526.47, 2153.76, 28243.18, 29668.52, 663.6, 8205.15, 13765.5, 695.6, 24532.85, 5949.52, 15976.53, 2021.76, 4914.42, 20047.1, 5428.68, 83475.16, 17222.8, 68063.25, 471.56, 1355.36, 65918.26, 5755.11, 81704.81, 59604.86, 1840.3, 70715.38, 2147.96, 67562.6, 887.73, 79956.07, 317.96, 3233.28, 943.12, 41825.1, 113709.16, 5126.33, 17572.3, 12307.2, 4272.16, 6168.43, 20556.48, 108279.51, 41617.8, 83022.36, 3704.53, 63661.26, 6663.09, 623.68, 39733.49, 13645.3, 16477.86, 21219.62, 16238.75, 53536.41, 85654.6, 935.53, 156185.95, 63054.76, 14697.59, 27884.11, 17494.47, 59791.76, 47680.51, 25555.49, 40010.53, 5.96, 3620.35, 35664.59, 146814.38, 26457.47, 106723.65, 65885.76, 943.12, 32284.08, 133567.53, 49668.83, 344.76, 10016.23, 23689.06, 15059.02, 40195.57, 59274.41, 16275.53, 47175.61, 426.66, 46069.22, 15706.34, 67203.2, 12529.53, 96326.16, 3753.24, 1078.82, 55145.1, 1815.92, 18095.02, 25836.71, 17193.7, 70880.61, 2648.67, 7162.27, 101178.39, 12391.06, 56716.97, 76923.27, 39735.41, 42676.37, 59407.83, 13606.98, 85587.57, 16215.42, 22484.59, 40698.08, 23941.68, 8152.17, 28416.24, 320.76, 31764.81, 58405.32, 148.44, 51223.54, 44406.13, 27023.1, 8954.88, 35163.65, 156546.0, 606.83, 400.32, 79.48, 27382.91, 67738.56, 4149.48, 10281.44, 1317.78, 253.84, 72536.55, 169899.04, 172627.88, 1699.32, 45276.49, 10609.58, 117119.73, 39802.19, 2330.64, 65416.33, 52443.34, 47527.47, 72297.85, 107951.18, 168.11, 502.8, 55525.68, 20257.98, 47411.23, 7518.42, 106557.07, 37008.86, 22794.76, 6379.2, 6158.26, 108073.57, 67122.68, 69763.91, 21713.84, 42580.61, 96.02, 22093.74, 17952.0, 86360.15, 15360.0, 24358.96, 1897.5, 11087.72, 1447.68, 1388.54, 79959.0, 5149.12, 30.64, 9832.7, 10172.87, 78241.53, 31359.71, 12763.36, 2646.76, 4087.74, 181.89, 1651.68, 14885.34, 6621.41, 86382.62, 3358.02, 5714.29, 153.14, 8334.81, 21772.8, 32933.56, 46789.92, 84878.02, 91530.88, 52770.72, 6532.6, 22294.27, 6258.48, 7991.48, 6006.2, 14894.57, 39650.52, 111278.55, 392.04, 159.85, 35561.9, 51407.61, 114182.24, 146344.54, 46931.7, 15725.29, 35453.26, 77862.9, 18197.57, 8397.91, 27018.99, 15267.61, 23454.89, 45011.62, 27025.89, 17567.2, 18929.11, 1302.73, 53807.55, 4916.3, 6256.0, 126982.56, 34125.95, 10186.36, 4393.11, 285593.3, 513.83, 93240.06, 63279.05, 1109.91, 9947.43, 3603.03, 9717.77, 5435.02, 25961.25, 4591.95, 8876.65, 184295.41, 38586.43, 13204.36, 107284.72, 10854.47, 1266.46, 3287.17, 1732.34, 23547.27, 4871.4, 5495.52, 2021.24, 15516.0, 8967.08, 14274.56, 45858.36, 31058.19, 42620.58, 22803.29, 22550.38, 107023.85, 194959.36, 8698.1, 13793.48, 3749.45, 6220.37, 40258.38, 5465.91, 15509.26, 66491.16, 529.92, 12735.1, 15986.17, 621.43, 4776.64, 10219.46, 19235.84, 3657.52, 87412.71, 26231.26, 7295.96, 11884.88, 29138.66, 66258.65, 40433.28, 96828.43, 64531.35, 42.12, 61343.21, 3797.1, 117826.93, 2191.95, 27301.94, 29521.61, 15346.5, 1678.7, 103171.44, 50760.38, 9709.05, 63358.0, 43237.07, 18054.8, 7217.55, 8969.73, 3600.16, 15072.37, 6532.6, 124773.55, 14911.99, 198.13, 3094.4, 23227.25, 82276.41, 18828.0, 16002.12, 46816.78, 251.76, 209.59, 41579.42, 19238.89, 1066.4, 32705.86, 63940.22, 60028.86, 51438.27, 245955.89, 9344.8, 74966.4, 3944.15, 699.38, 1415.66, 80150.38, 12059.54, 95261.38, 16337.39, 4391.18, 58471.42, 34983.8, 19291.68, 24738.48, 14873.57, 29231.26, 29773.08, 6516.3, 6737.5, 4334.4, 42602.35, 14257.87, 75348.72, 162300.93, 58703.22, 25290.52, 5400.0, 4256.35, 7586.75, 36002.0, 25226.8, 9041.73, 12781.33, 434.2, 31553.49, 19845.77, 13133.3, 4750.14, 32348.57, 2377.8, 34881.58, 83075.32, 2849.5, 36963.47, 365.36, 657.71, 45032.05, 3923.92, 23769.89, 320.62, 39643.93, 27968.57, 12456.42, 439.22, 64613.9, 16717.4, 14840.16, 1792.03, 526.86, 46172.96, 44502.6, 96711.44, 650.5, 12072.12, 23980.55, 4181.9, 172646.64, 33250.92, 353.02, 133655.12, 15138.73, 2714.44, 80.41, 51358.53, 5015.03, 59225.31, 16337.2, 46151.36, 3346.93, 55832.64, 15307.65, 29252.43, 8082.61, 25176.7, 261057.36, 41926.27, 115489.17, 5306.89, 17917.37, 12931.11, 2700.13, 95700.48, 14115.66, 64168.5, 23809.14, 7112.34, 14272.21, 125337.44, 2754.14, 14162.0, 58383.95, 43161.79, 98478.09, 59424.75, 11511.18, 130975.45, 14071.5, 7319.82, 9723.94, 2488.1, 39655.63, 40061.68, 1252.8, 471.56, 23963.46, 1326.25, 49348.77, 7566.34, 51041.86, 81887.41, 26647.85, 54019.81, 55395.91, 2420.19, 384.84, 4526.61, 34013.32, 75233.7, 22752.98, 1788.87, 32282.42, 13253.79, 6295.68, 62020.39, 40462.7, 15943.73, 68638.11, 60111.55, 22841.13, 59519.99, 33298.47, 5065.01, 37416.41, 8353.49, 6090.85, 6066.68, 105849.97, 1342.09, 5087.27, 9671.58, 70402.69, 9598.99, 189.29, 13032.63, 39917.43, 546.0, 15560.34, 1897.5, 20054.12, 42812.32, 1660.82, 42292.33, 1535.38, 2259.19, 49424.93, 52995.34, 15597.28, 161766.71, 15116.69, 14007.48, 10798.56, 15508.92, 36944.78, 4795.38, 3743.98, 15107.12, 1048.1, 70124.77, 99761.51, 5457.03, 81066.89, 39899.99, 110983.93, 33997.18, 14559.0, 4255.22, 100706.46, 22773.68, 1487.88, 60392.25, 1329.23, 155376.16, 21090.82, 29737.01, 2221.18, 2505.47, 52260.0, 58668.79, 24411.47, 63188.53, 33066.44, 4222.26, 721.77, 1085.08, 18549.03, 12350.51, 96233.6, 23315.89, 51253.61, 20532.15, 29480.74, 7445.14, 71557.12, 96773.45, 923.07, 11375.82, 19265.8, 1466.17, 101287.79, 9160.75, 17233.27, 12527.99, 81393.18, 5171.06, 52023.43, 8451.44, 15795.2, 19871.55, 90170.38, 61253.18, 65897.35, 12583.92, 729.15, 436.38, 18610.87, 564.81, 2709.06, 19991.5, 16207.68, 103950.47, 4657.36, 96992.53, 47824.75, 37238.35, 55218.24, 62018.35, 68630.47, 1094.55, 4415.99, 10931.98, 54456.21, 18235.19, 4763.23, 586.53, 6033.42, 2940.64, 14537.43, 4096.68, 4183.34, 36278.35, 3468.59, 24497.07, 21488.0, 15981.26, 79800.13, 98034.27, 1166.75, 1190.0, 54350.05, 38765.71, 240.72, 206.08, 30928.86, 15667.98, 9653.81, 136747.59, 3076.72, 29036.83, 835.47, 1265.91, 1075.5, 24419.05, 89307.94, 14624.72, 90106.18, 72318.95, 1709.94, 18916.0, 2082.72, 72949.26, 142020.91, 14357.2, 19691.98, 135510.21, 3563.97, 42818.0, 1355.52, 179.04, 228.16, 27344.08, 120706.09, 7803.9, 1897.5, 15480.28, 103.02, 26988.2, 81855.97, 78279.02, 193.96, 63104.79, 17765.15, 562.55, 44320.82, 3201.82, 17672.0, 2994.95, 64594.77, 73275.3, 7492.25, 2469.66, 14760.8, 1447.06, 12256.31, 48027.88, 92876.69, 100750.25, 14942.03, 17227.91, 25935.58, 53307.1, 29319.04, 279096.72, 26281.61, 21988.71, 1563.29, 49560.22, 38079.22, 277679.8, 3208.77, 17319.71, 9450.74, 128722.76, 27991.35, 4365.5, 115170.64, 68035.95, 32608.22, 137557.54, 3470.97, 34447.75, 38426.49, 690.4, 38474.48, 17188.87, 55736.45, 5726.24, 41493.53, 14603.7, 2923.6, 131573.73, 1007.05, 17873.71, 33302.54, 7614.94, 2798.02, 1292.48, 22209.66, 47386.47, 106185.11, 15934.45, 4866.0, 10120.82, 10104.64, 32597.28, 52601.06, 4427.07, 14257.41, 23446.26, 26763.05, 47853.3, 124039.8, 18887.91, 14789.77, 98164.29, 5628.71, 17193.68, 49417.34, 3629.22, 54550.29, 72534.59, 351.72, 143451.19, 18565.59, 4056.14, 210.19, 2846.95, 20862.37, 2357.81, 346.38, 1898.2, 18314.99, 17969.9, 41129.59, 704.38, 47927.77, 11167.82, 23092.4, 1946.27, 9953.28, 97517.9, 10769.84, 31735.8, 41152.76, 103.02, 42543.45, 8934.78, 654.92, 11067.1, 71955.65, 11625.12, 1878.24, 342.12, 17661.07, 9802.64, 48705.16, 77317.35, 31149.97, 15284.38, 72.74, 16189.83, 260.55, 7139.58, 57042.46, 99391.74, 15180.74, 16378.3, 22065.75, 64324.5, 73168.29, 144017.15, 4402.77, 8755.61, 75513.24, 488.26, 838.37, 6827.66, 2373.96, 13312.69, 68867.2, 52293.12, 73277.59, 495.3, 664.25, 22597.59, 42806.31, 4684.82, 48098.1, 45836.42, 33009.92, 533.92, 11806.72, 18568.24, 1329.23, 24642.62, 46589.6, 19980.09, 96787.42, 115069.47, 139535.31, 15468.99, 45400.0, 149798.23, 10462.45, 60876.89, 21808.77, 27466.25, 60872.98, 3653.42, 19023.56, 16047.6, 179956.49, 4048.79, 16992.76, 7713.07, 25056.0, 13157.31, 68599.47, 5299.2, 6719.04, 99.06, 363.42, 775.05, 15595.63, 20666.88, 13396.53, 17433.68, 12462.03, 15302.63, 4269.6, 40343.24, 25713.77, 17152.45, 134.56, 56304.13, 4784.7, 39534.92, 38201.76, 58378.64, 8885.57, 30374.23, 12080.21, 122944.22, 5972.89, 13360.42, 17156.98, 20039.03, 344.32, 5472.38, 70012.88, 8887.46, 989.78, 4315.78, 545.13, 763.31, 36785.66, 74236.21, 6156.44, 16191.91, 87087.09, 661.11, 7088.43, 115899.42, 37119.3, 71963.49, 17283.5, 231.29, 41449.05, 7533.74, 57935.2, 34709.52, 9497.46, 34089.1, 80903.0, 17791.16, 68351.85, 11212.05, 3446.83, 53653.13, 6361.71, 34681.97, 6834.0, 1856.4, 55820.24, 5979.14, 120942.96, 3358.04, 22594.28, 8061.66, 29810.24, 153642.4, 3817.48, 141419.82, 66497.91, 136040.9, 61764.55, 40347.09, 12107.57, 25184.63, 7126.4, 15988.78, 12668.17, 2904.62, 201960.0, 5250.85, 6809.83, 126868.43, 11767.7, 34245.44, 7520.58, 42332.61, 33659.04, 6487.38, 41172.89, 31914.0, 49581.1, 3928.13, 23.76, 28617.99, 42111.96, 9292.56, 53352.07, 2298.0, 10493.6, 12207.52, 19170.72, 61462.19, 880.28, 1898.9, 5825.1, 21.28, 1818.91, 48735.52, 58506.0, 10594.51, 52942.97, 82771.74, 7185.24, 11236.95, 29948.14, 30693.28, 59350.96, 127068.39, 15218.59, 17117.93, 23173.22, 140807.42, 2373.96, 85176.05, 29677.71, 2932.75, 156477.34, 4037.5, 74012.56, 10382.9, 15036.11, 2807.2, 1131.6, 24960.79, 22953.76, 11998.33, 196.68, 25422.2, 4961.14, 18517.52, 15980.22, 14160.5, 33003.56, 3500.33, 5444.83, 30583.99, 10059.05, 23168.69, 60749.22, 34802.21, 325.82, 56163.33, 31478.16, 14448.41, 374.21, 8710.13, 20317.66, 17878.1, 3062.13, 7.51, 61092.57, 66303.14, 31076.74, 10484.52, 32322.84, 34248.95, 8163.3, 57692.25, 10875.1, 148801.61, 21156.78, 95152.43, 13642.32, 378.18, 64058.23, 8755.2, 55008.24, 8048.39, 27114.49, 17047.89, 76.44, 30674.38, 16379.01, 12668.17, 25134.91, 10543.54, 19811.87, 60782.26, 60408.61, 17425.0, 11744.64, 2575.98, 17012.73, 170577.95, 42032.52, 31335.69, 932.49, 1328.25, 18621.02, 6010.71, 4631.61, 18900.99, 59065.56, 810.14, 772.8, 17971.2, 18175.86, 8839.39, 46020.89, 22995.49, 551.97, 23521.95, 24418.23, 277.26, 261.73, 1878.74, 8040.6, 81076.37, 16905.6, 118817.85, 4532.21, 15169.36, 5939.4, 22327.71, 15501.15, 370.08, 24612.17, 15484.0, 46727.55, 3963.1, 45470.26, 7163.2, 17180.65, 1159.26, 57.46, 23467.87, 19919.09, 128439.97, 18071.11, 95.67, 47277.59, 60722.2, 12636.17, 86557.09, 29279.45, 72635.27, 38708.39, 12231.62, 118784.91, 13976.96, 1529.14, 25858.4, 24323.09, 451.32, 38319.45, 31392.08, 60342.28, 21077.98, 32360.52, 70707.22, 31348.19, 1898.9, 40334.44, 31438.6, 16145.68, 36864.0, 19816.15, 1502.6, 117196.25, 15472.12, 327.29, 4040.54, 10863.65, 565.72, 17032.93, 240.36, 4851.25, 71762.82, 10096.56, 33045.6, 12916.16, 10248.63, 3497.16, 7034.42, 61360.18, 6013.52, 20268.0, 765.0, 64414.8, 49715.76, 65515.04, 19909.64, 8351.51, 1620.12, 18900.98, 19103.86, 43764.56, 327.61, 50395.2, 16474.16, 72658.39, 27318.72, 116540.99, 593.93, 29634.87, 124129.04, 76987.52, 13131.1, 13636.54, 9078.87, 860.94, 47253.55, 5775.85, 27222.03, 43364.52, 58094.82, 1897.5, 13027.3, 3115.8, 84.72, 106748.02, 67879.19, 36630.28, 30.98, 28722.63, 46443.08, 63424.19, 66361.73, 28089.3, 1897.5, 124064.14, 899.87, 2444.0, 64173.24, 147497.74, 7574.52, 170.3, 16074.27, 4763.49, 54958.97, 8913.33, 3698.2, 22689.58, 40137.38, 1713.04, 6732.96, 47994.68, 30819.29, 164936.06, 22602.24, 26293.42, 4272.16, 3592.74, 476.82, 68275.96, 16416.31, 10329.33, 995.52, 604.58, 45619.51, 17854.08, 11264.41, 1256.46, 26094.07, 1994.99, 40827.97, 711.09, 1661.78, 5679.27, 1898.2, 1355.28, 16889.68, 11.09, 48706.24, 13340.31, 89072.19, 2576.47, 32750.47, 30896.86, 125968.72, 10990.16, 47716.91, 3144.24, 15274.61, 7535.63, 141452.03, 5680.9, 2342.9, 1029.03, 39772.97, 2915.14, 8669.14, 21247.84, 62044.58, 18873.22, 33892.27, 55612.86, 5858.81, 16537.69, 281.65, 42099.83, 39198.62, 3510.29, 12404.18, 10849.25, 65130.05, 2087.16, 34756.25, 23225.4, 57926.73, 27106.12, 13588.34, 471.56, 127.49, 111727.78, 337.65, 785.64, 14502.44, 20282.4, 59095.18, 12547.31, 15912.4, 30095.34, 18946.6, 10638.0, 69342.02, 389.99, 51438.24, 385.44, 14780.25, 4032.0, 23288.06, 5375.99, 10904.29, 51524.69, 37876.57, 20780.7, 446.26, 4766.01, 938.42, 23024.72, 4005.76, 62531.52, 37277.11, 93313.68, 1867.22, 98155.16, 51.72, 22481.28, 31414.95, 48254.59, 5181.5, 26487.45, 31730.33, 18718.96, 2940.01, 2826.05, 49792.89, 128030.83, 61160.49, 128128.52, 138626.77, 18190.07, 36863.08, 29888.5, 107684.27, 16890.69, 57770.75, 131426.31, 9515.24, 123187.14, 432.12, 1787.78, 25599.32, 62879.24, 101549.21, 4272.16, 44243.87, 25361.63, 55218.2, 1328.25, 1005.96, 3699.36, 14193.63, 6132.74, 18389.48, 1583.54, 19648.51, 98853.85, 3964.33, 70541.59, 165.65, 36914.55, 16418.83, 37739.44, 615.63, 56272.19, 210.12, 21964.49, 11518.8, 16563.84, 31488.29, 24742.72, 124489.33, 53443.13, 125481.79, 4451.87, 7503.28, 9665.33, 73061.16, 19238.61, 1898.2, 50474.22, 40461.55, 46463.92, 52909.95, 6119.24, 3879.7, 65664.6, 14659.19, 3824.25, 64696.57, 152608.82, 103317.94, 30228.28, 19693.15, 56360.79, 51944.98, 1218.25, 43708.74, 98005.25, 19475.96, 103.86, 10377.6, 629.67, 23675.18, 24414.72, 66290.03, 2199.26, 14002.95, 8280.98, 16864.02, 3757.14, 43852.16, 45071.23, 83128.23, 1873.11, 93162.46, 28553.57, 50311.4, 61944.37, 41222.43, 20429.93, 4867.77, 27695.11, 68299.93, 4792.66, 15481.9, 24684.45, 6769.09, 5012.06, 90719.75, 3062.94, 39.77, 45131.07, 8529.7, 630.6, 661.11, 10614.12, 1279.12, 4271.46, 20255.22, 22296.89, 14824.32, 57946.98, 19812.7, 15380.24, 46062.76, 47281.36, 19.47, 13875.45, 486.97, 16360.32, 20213.74, 37968.99, 11007.45, 34893.18, 3513.78, 51236.64, 12017.94, 898.1, 15931.28, 6620.08, 72255.16, 112332.7, 31194.7, 4402.77, 151895.8, 2958.33, 154005.54, 77899.71, 17962.03, 18809.38, 42762.05, 1991.55, 10429.73, 85746.32, 1998.6, 12156.41, 173372.92, 45835.88, 15161.89, 14072.83, 31350.27, 42252.01, 73565.58, 3158.54, 20253.6, 227.91, 152182.58, 78234.34, 40198.0, 1518.56, 7497.21, 21702.52, 9222.66, 5379.04, 14991.58, 23456.01, 22328.06, 47500.5, 935.48, 5126.5, 62024.53, 256.99, 880.34, 396.17, 30573.68, 7896.0, 80565.77, 413.21, 48890.24, 57788.8, 28563.08, 130344.2, 29380.94, 21298.82, 388.29, 1669.77, 23104.11, 16680.68, 9017.55, 30051.43, 23221.63, 35344.6, 39027.0, 10395.6, 14350.89, 31789.68, 2942.95, 9341.28, 21258.24, 8004.39, 50730.98, 20361.62, 12975.93, 50970.33, 40080.65, 20349.77, 1648.51, 79022.28, 15999.43, 13567.12, 17874.33, 56344.78, 6140.73, 52438.43, 21903.83, 65239.28, 268095.51, 15998.54, 27187.55, 3157.75, 60654.09, 130244.47, 5135.74, 85055.94, 9818.84, 71678.21, 95.53, 6688.12, 21427.01, 3596.6, 4272.91, 19097.3, 89011.19, 1355.28, 6822.27, 3983.42, 1350.49, 12612.96, 48777.75, 20592.7, 13458.35, 1356.55, 414.68, 6214.75, 16949.38, 57506.02, 62399.14, 56394.25, 47631.39, 82574.55, 49890.1, 1927.5, 12907.88, 18552.48, 43164.2, 32256.0, 41981.64, 6238.08, 38432.74, 623.68, 14608.48, 357.94, 1378.28, 17283.5, 12784.32, 6403.66, 91484.54, 40755.3, 39899.21, 18492.14, 1239.73, 9739.99, 23774.9, 170700.98, 22450.17, 2529.0, 91258.82, 556.82, 12700.28, 11417.65, 12353.5, 21164.06, 36114.94, 23008.79, 13829.76, 69309.0, 37181.42, 3309.82, 21207.33, 412.08, 16526.98, 19482.63, 16338.93, 47076.41, 6880.0, 61.29, 17969.28, 66175.85, 72637.89, 10850.2, 12520.36, 9045.97, 49605.52, 95886.25, 11758.86, 4050.0, 99746.8, 3300.94, 140.45, 34909.27, 302.16, 218.94, 45315.66, 154601.34, 9391.11, 16883.89, 32154.0, 7866.86, 14747.01, 490.32, 12796.51, 11625.12, 53814.2, 90834.73, 24199.14, 29986.1, 22127.86, 98955.27, 33.18, 29440.66, 43581.22, 32460.83, 7479.68, 1778.34, 20767.18, 69059.88, 3748.84, 19430.74, 35110.71, 205.44, 47.28, 49177.23, 45847.34, 30069.66, 15787.48, 6124.84, 71765.6, 2229.59, 15912.61, 253.84, 53627.57, 2567.72, 4382.35, 34315.67, 46498.47, 6865.6, 63806.05, 4137.9, 39311.86, 16788.48, 18966.15, 4647.82, 21203.17, 11808.96, 1584.2, 92764.59, 270.2, 1898.9, 20213.76, 868.21, 44838.53, 14709.5, 13047.43, 93024.35, 36035.91, 5735.19, 90740.3, 63298.1, 103350.34, 351.75, 51407.61, 12712.96, 1489.49, 36519.6, 3680.71, 81475.45, 41073.83, 9435.0, 25660.81, 1411.44, 20246.4, 67954.17, 1607.72, 14500.77, 39288.25, 175179.32, 22559.83, 5609.11, 55576.19, 42812.75, 15398.99, 20557.14, 1201.58, 24249.6, 10913.4, 986.21, 46061.37, 117.67, 3838.46, 50374.79, 943.12, 5167.4, 46952.67, 13610.4, 53005.44, 66349.94, 13768.73, 11932.77, 66732.93, 83519.04, 11179.33, 24670.98, 17199.72, 81096.19, 57452.49, 34812.52, 18289.15, 7692.11, 42691.69, 75427.6, 100312.67, 5042.69, 61646.9, 195.58, 13603.68, 481.69, 18175.16, 20488.62, 540.24, 158463.32, 118567.86, 66293.46, 46869.36, 3595.51, 99266.9, 27714.06, 5898.24, 55491.48, 1016.17, 16267.08, 50981.76, 5103.98, 28631.86, 158617.62, 49231.72, 5946.06, 36258.25, 13059.11, 78275.0, 43390.88, 1522.29, 19042.97, 1164.87, 3039.34, 31560.77, 4787.09, 64200.5, 348.64, 639.71, 59547.96, 95745.82, 3594.24, 146096.96, 57775.96, 338.46, 8057.51, 102118.74, 83005.38, 104573.03, 132.72, 2761.12, 27804.69, 96466.31, 25293.82, 263608.96, 6169.66, 108293.17, 58903.62, 87025.08, 40710.53, 1991.84, 5429.52, 8412.37, 3270.04, 49125.6, 6062.03, 13570.83, 319.56, 16493.87, 8197.8, 106216.23, 98181.41, 69108.48, 4066.48, 16968.77, 13441.92, 6277.98, 24279.0, 21133.01, 10381.26, 7082.81, 19557.45, 12494.33, 17649.36, 4606.16, 27024.36, 7704.0, 49595.07, 60354.74, 84290.94, 22265.12, 40378.3, 57978.98, 33432.7, 691.53, 71576.25, 42014.43, 27795.77, 4104.15, 128.97, 127258.17, 28959.42, 6105.77, 36629.44, 57831.07, 39993.16, 48686.43, 37042.39, 7070.17, 15047.49, 10200.82, 9737.06, 1275.09, 28874.7, 50916.45, 15342.47, 26447.46, 32175.38, 15443.8, 112294.59, 3664.82, 144329.44, 12058.29, 2873.11, 16426.66, 49773.03, 29033.82, 76874.19, 5565.46, 4036.93, 3137.2, 44199.68, 15665.62, 13208.3, 323.59, 2047.26, 442.31, 2867.1, 13340.16, 24109.9, 711.24, 507.68, 109917.26, 216.8, 14991.0, 2157.78, 1014.74, 44783.11, 50387.86, 22145.62, 63487.86, 27018.47, 16989.66, 7448.63, 153025.13, 32021.15, 51045.72, 63124.0, 332613.79, 40149.48, 7054.08, 64321.35, 15287.24, 7035.54, 61802.81, 1957.1, 14485.93, 29202.84, 17480.46, 313.17, 37058.41, 3748.84, 16054.82, 7015.45, 15770.82, 27180.81, 8614.32, 29927.45, 63866.81, 349.55, 2084.79, 45510.16, 19584.0, 11871.54, 23883.79, 7103.97, 8503.92, 12086.83, 124444.03, 51840.75, 951.81, 25593.57, 65824.37, 2858.79, 19369.52, 85344.03, 180682.61, 147254.06, 54315.1, 12872.67, 10349.45, 35381.99, 14518.44, 12823.99, 236.71, 77815.31, 72670.59, 20388.37, 24626.35, 9301.01, 16008.76, 93868.63, 104216.78, 12744.37, 16866.47, 1264.9, 34499.24, 12205.44, 4583.68, 15660.09, 63111.15, 129373.0, 70333.99, 30685.75, 37572.31, 31302.65, 25689.0, 107258.42, 6077.87, 1756.5, 50605.68, 14415.13, 20107.79, 18375.58, 122.57, 7014.5, 53202.13, 60824.03, 6720.96, 953.59, 37957.58, 20416.23, 75978.12, 88134.43, 17936.56, 348.35, 368.32, 149389.91, 560.72, 7771.29, 41560.43, 32853.58, 4703.43, 21552.0, 55075.52, 40696.57, 63607.17, 58.18, 168.56, 675.32, 89994.13, 3544.01, 45912.51, 115949.56, 75848.3, 45579.39, 15276.5, 8441.97, 10323.24, 60395.63, 16642.98, 18338.02, 30260.66, 32183.43, 56015.8, 9972.11, 9116.23, 99.54, 240.72, 474.24, 78333.64, 23862.78, 79285.35, 23728.9, 5245.37, 65781.55, 64952.85, 11477.04, 978.13, 75689.14, 54632.58, 249.87, 60451.27, 2080.1, 26254.05, 69813.38, 56644.81, 856.85, 15594.0, 128.07, 8980.95, 128831.15, 1517.28, 25431.69, 18047.31, 3193.15, 42615.55, 25676.84, 504.6, 779.74, 3087.15, 62264.59, 49943.6, 39228.54, 1570.51, 30580.68, 8753.93, 5147.11, 598.56, 67870.65, 23615.9, 8793.09, 56100.73, 43543.8, 43027.03, 1098.9, 1681.72, 82425.68, 40732.67, 32611.14, 227.14, 28612.52, 49092.75, 130300.16, 29779.66, 33234.09, 54597.27, 15099.99, 42650.38, 55865.92, 98420.4, 73392.46, 40292.9, 4015.12, 1052.07, 61365.69, 25778.48, 40125.39, 50833.23, 106132.75, 13742.94, 29020.89, 92324.56, 90.94, 1046.09, 138521.51, 14149.93, 50999.32, 4718.12, 132452.4, 16188.69, 40907.0, 93799.83, 126.92, 14071.24, 26994.72, 97961.47, 3702.52, 2734.9, 124184.6, 44696.7, 24225.04, 18318.98, 930.0, 19068.6, 60177.47, 38273.0, 24.72, 15692.82, 44055.6, 38427.02, 33073.8, 2373.96, 421.64, 14901.08, 1764.66, 6863.6, 7813.95, 104314.8, 44143.31, 8885.57, 26411.19, 27108.0, 9260.89, 7951.56, 174056.3, 270.98, 6663.09, 1638.84, 6254.64, 131556.55, 40035.44, 33086.07, 76337.26, 32399.64, 64191.92, 86242.04, 30.65, 166102.64, 477.34, 1355.36, 8734.3, 26636.41, 8626.44, 7185.36, 23978.5, 37387.89, 2212.44, 59.16, 129867.22, 17815.31, 9235.4, 4167.23, 26542.46, 13220.23, 4643.4, 34667.72, 128724.38, 55396.38, 173.29, 209.05, 7157.56, 471.56, 6602.54, 19583.93, 57396.24, 84062.61, 5517.71, 10259.11, 73689.09, 674.21, 78063.9, 473.5, 17200.55, 1118.71, 106601.62, 66297.16, 14317.0, 17254.82, 57941.31, 105.36, 7594.44, 5433.48, 107.96, 29508.89, 70214.51, 43198.72, 71.11, 137624.91, 70000.81, 10630.38, 120408.75, 58935.57, 56321.89, 72567.91, 2433.5, 5040.04, 18718.76, 19310.68, 41887.13, 48696.82, 1555.76, 143167.02, 42038.73, 86296.57, 23754.22, 245.52, 27806.45, 3921.84, 2985.53, 84002.59, 210140.94, 64490.57, 5481.0, 3646.58, 1055.33, 54046.08, 22176.0, 44970.69, 113873.75, 74939.46, 4206.09, 9481.8, 1176.12, 17889.08, 6547.96, 20790.58, 24816.74, 137580.27, 17245.18, 11752.61, 52848.82, 7938.4, 30834.02, 3453.94, 1309.48, 17820.93, 25802.18, 29855.31, 13349.24, 13368.82, 471.56, 1128.0, 779.99, 54332.43, 68472.46, 82220.67, 69119.97, 14384.89, 14857.2, 11599.3, 15765.21, 9307.2, 65159.56, 201.97, 2800.33, 56032.8, 63651.99, 9799.28, 16509.13, 3065.05, 22537.45, 31740.7, 173.67, 15938.96, 49145.3, 37529.56, 7848.63, 28103.23, 3733.28, 4517.35, 14068.48, 47665.0, 73044.49, 164.68, 446.25, 7550.92, 14468.0, 85700.19, 29611.14, 5844.23, 33622.82, 45265.32, 2373.96, 661.11, 549.68, 35471.65, 321.26, 50708.44, 4056.39, 15414.29, 471.56, 28258.15, 6169.66, 40749.0, 60677.85, 3503.66, 2673.14, 307.32, 3785.4, 1651.98, 63.13, 25650.0, 446.64, 285203.34, 6519.35, 12673.2, 58506.0, 17722.95, 810.0, 913.93, 53173.88, 43012.94, 11762.0, 38804.01, 12966.83, 13891.74, 73481.25, 11881.86, 7582.45, 7632.37, 8681.68, 12498.51, 58422.76, 74165.81, 9764.41, 68610.23, 6084.49, 7940.07, 42951.14, 28088.83, 34638.51, 156201.72, 23509.0, 868.67, 25269.92, 105871.92, 10734.8, 22734.98, 27232.49, 13524.58, 22313.42, 20017.44, 292496.26, 18275.28, 55352.0, 27556.35, 5979.92, 73705.71, 18135.88, 40648.02, 68072.03, 27306.07, 35392.89, 2409.93, 66269.49, 89786.64, 1119.72, 9810.11, 15944.97, 1880.73, 1303.63, 115870.63, 62368.76, 29775.16, 3797.1, 19212.59, 22388.8, 3177.18, 573.92, 66342.59, 28238.05, 7595.08, 60743.19, 44709.02, 25521.62, 16140.92, 281.5, 1265.28, 11603.67, 20627.48, 36235.66, 5243.13, 139522.81, 102209.41, 46663.44, 213.34, 25612.8, 75061.22, 8949.7, 813.18, 110321.88, 1350.1, 3159.0, 64.73, 52405.99, 5783.71, 38623.93, 23478.15, 22919.43, 6640.59, 16207.68, 404.72, 23588.67, 2373.96, 1659.98, 31356.2, 33001.81, 126531.28, 28474.32, 1593.19, 0.79, 375.4, 606.16, 11814.9, 35.05, 5517.0, 13602.38, 13450.07, 142724.46, 3668.25, 2482.35, 417.05, 101.61, 15843.72, 80259.18, 64223.43, 9913.2, 520.08, 13200.72, 56631.2, 4463.7, 650.09, 74243.1, 15500.75, 49740.08, 19944.86, 63918.29, 50856.44, 155.93, 26578.47, 967.26, 6318.9, 370.51, 9311.3, 89484.55, 40694.35, 46959.53, 3106.32, 33274.83, 14667.96, 14747.01, 93557.72, 9956.91, 9644.99, 35359.19, 1837.9, 19436.31, 258.16, 160720.21, 16161.94, 3871.36, 19213.93, 12475.0, 12157.34, 107.0, 811.76, 16464.0, 12754.3, 19955.41, 95909.38, 43771.35, 152595.67, 40321.78, 4966.63, 37964.63, 41589.94, 181.89, 4088.45, 33.12, 64135.8, 22719.54, 9436.8, 12351.2, 12872.32, 93188.41, 8712.59, 71110.36, 3183.17, 4088.45, 20468.77, 3377.09, 5726.24, 19339.71, 18975.58, 8553.6, 4769.31, 14761.35, 126006.03, 19158.91, 7988.82, 1977.3, 1190.27, 53442.21, 43803.05, 16360.32, 65326.03, 3641.0, 28735.61, 19560.83, 27052.56, 68699.6, 34627.76, 7869.6, 20779.35, 73004.54, 11804.25, 32.36, 14195.5, 21346.47, 433.09, 127191.93, 951.18, 7120.72, 1411.91, 53366.73, 16236.84, 26085.97, 25870.64, 21168.64, 22232.95, 580.23, 44974.83, 55179.67, 4272.86, 39762.0, 5160.78, 135228.05, 47186.39, 18060.65, 2308.49, 36181.74, 73815.44, 14864.0, 25604.2, 3977.42, 99960.36, 73550.97, 10283.16, 10074.09, 4643.08, 19111.16, 12519.77, 40713.0, 149911.53, 86230.75, 133420.88, 723.48, 3039.35, 39312.0, 147523.29, 13453.19, 46322.1, 998.63, 66654.2, 121909.7, 4027.4, 26396.14, 108168.7, 108568.11, 8805.54, 48802.05, 28293.43, 3677.94, 3683.53, 18.51, 16549.84, 2284.76, 25231.77, 13292.8, 268.57, 1130.73, 111390.6, 102.55, 3809.08, 9064.26, 25768.63, 23799.31, 36178.56, 1401.44, 31928.34, 1328.25, 12039.9, 138890.84, 7684.18, 13459.32, 103161.97, 3023.93, 2352.97, 363.96, 495.33, 19622.09, 15147.48, 4682.46, 1027.66, 14671.47, 123266.62, 49924.07, 30035.09, 654.64, 77642.95, 21937.66, 149506.77, 5514.9, 45714.48, 21961.68, 11427.37, 7416.32, 27645.77, 17650.6, 13524.16, 29646.46, 5359.6, 7214.59, 15333.42, 60480.49, 45829.47, 95342.15, 37138.24, 2938.28, 24828.24, 4748.4, 41512.1, 13350.04, 113611.59, 12773.31, 41737.01, 65450.59, 37623.54, 1119.02, 206189.53, 7013.12, 372.52, 15361.48, 61969.1, 68036.8, 74801.51, 21346.92, 30376.93, 78633.09, 19508.22, 1328.25, 79953.96, 108287.8, 6852.68, 85824.41, 6111.97, 60616.02, 5682.21, 77571.94, 21385.22, 498.03, 98805.25, 40784.11, 63641.66, 44443.16, 488.7, 16904.0, 1898.9, 198.05, 97624.12, 110003.37, 13458.05, 323.07, 46669.17, 57232.03, 125485.36, 15687.65, 6470.62, 41471.96, 511.91, 14623.38, 48597.47, 24357.58, 237.79, 129888.87, 212.54, 35794.84, 20695.42, 49608.6, 1120.08, 14562.06, 114662.51, 8969.3, 49443.01, 15069.19, 54324.57, 93345.43, 15484.6, 149420.35, 234564.59, 8398.8, 19964.13, 48192.73, 65598.6, 107.26, 150010.29, 13637.65, 886.61, 48715.2, 701.95, 12508.64, 3515.71, 6382.8, 79985.87, 6981.9, 2472.17, 73190.07, 3795.7, 2504.74, 12458.97, 108289.79, 34418.35, 61088.19, 18399.39, 1606.64, 534.2, 440.48, 21442.05, 73176.08, 21376.53, 145842.56, 16169.13, 75219.69, 39378.89, 53765.93, 9405.93, 6233.78, 61751.23, 3519.97, 9475.96, 95990.08, 13090.98, 38595.3, 6680.36, 29537.1, 25769.88, 9333.21, 112302.21, 73146.62, 106617.11, 28221.46, 33374.08, 26205.46, 40983.22, 14257.87, 20282.4, 46364.03, 52802.94, 8289.0, 74542.86, 13299.22, 69283.25, 41450.33, 1927.02, 19008.05, 38156.12, 705.05, 36952.05, 108636.61, 5194.4, 57535.81, 60542.86, 13377.0, 16384.52, 21736.57, 4220.19, 56588.22, 39648.44, 9086.04, 76921.52, 15407.65, 7664.54, 106.08, 14329.59, 13114.9, 1027.66, 22491.48, 75980.89, 53904.71, 7729.28, 14687.5, 45264.49, 24077.15, 17519.05, 55024.57, 13673.92, 6076.84, 1564.42, 673.4, 33527.72, 55719.4, 823.68, 62176.37, 7190.72, 4532.63, 102410.57, 8122.8, 13678.81, 134804.47, 34037.13, 2742.18, 4213.28, 108391.7, 6610.59, 23536.0, 83934.95, 51407.61, 17498.31, 15254.61, 2924.78, 712.23, 23518.23, 51095.74, 432.28, 155.77, 35508.54, 1898.9, 53192.33, 17167.39, 87921.54, 92126.39, 19275.04, 58657.99, 10480.16, 14878.89, 3005.22, 8639.99, 35426.12, 1361.62, 16458.46, 4683.18, 20233.12, 40579.67, 11747.23, 862.11, 51049.51, 4359.72, 157785.59, 1651.98, 53585.21, 76316.43, 428.2, 14967.42, 67505.4, 7696.21, 61334.91, 14050.77, 86268.97, 50543.38, 32356.54, 6361.71, 18325.3, 36252.78, 1908.78, 13920.0, 22530.4, 26007.26, 113597.57, 69156.94, 24206.01, 3599.39, 3568.14, 14309.84, 6962.28, 183932.13, 549.7, 2826.81, 2266.79, 678.15, 2137.22, 24664.61, 340230.86, 943.12, 5694.93, 78480.28, 32491.4, 28350.96, 82186.33, 30132.06, 44259.96, 15699.26, 462.87, 10720.47, 65062.98, 47608.81, 369.64, 19597.81, 30190.86, 78500.4, 36643.93, 3938.2, 108836.96, 55357.49, 431.96, 31885.6, 187.32, 14758.68, 10556.02, 33358.66, 70841.35, 28778.75, 10148.99, 20298.37, 30775.32, 111.02, 20237.47, 42114.71, 1897.5, 70878.87, 2501.82, 134522.32, 12787.09, 1384.58, 13031.59, 30806.25, 31602.48, 66737.32, 39902.72, 17194.62, 71575.2, 13731.84, 84750.13, 2127.35, 13299.33, 83496.46, 34828.89, 68.87, 20950.26, 38390.97, 11883.98, 88640.17, 30529.37, 7530.11, 2933.74, 44022.73, 3515.5, 23287.48, 3638.22, 113686.98, 47159.16, 4074.99, 14149.15, 36160.24, 2156.32, 44316.86, 28312.58, 945.65, 73275.3, 12215.1, 12682.71, 13604.46, 2213.68, 1447.5, 618.12, 56791.34, 13346.42, 60574.47, 122037.24, 11459.46, 51618.02, 2005.86, 21257.57, 35580.02, 1497.94, 109857.72, 210.55, 49431.6, 14893.06, 132.48, 32343.26, 14776.32, 61373.18, 64034.34, 5939.14, 49808.5, 219.02, 8707.63, 16077.27, 2588.37, 36023.23, 58230.17, 2918.16, 17459.26, 1182.93, 86052.03, 679.21, 20405.81, 75952.64, 5370.03, 144120.28, 32330.62, 112221.54, 380.77, 92835.7, 117581.14, 12244.15, 40742.75, 135112.08, 14262.71, 45374.74, 12233.55, 1940.68, 179.22, 10530.42, 1414.69, 9515.53, 128.07, 56941.89, 1329.23, 665.82, 53382.66, 15458.73, 18853.9, 17241.38, 80071.23, 33169.81, 30377.47, 244.92, 16598.56, 4149.92, 63598.2, 443.89, 122142.04, 106809.41, 7873.85, 80209.89, 132.55, 592.77, 2609.97, 36273.03, 113885.42, 85892.67, 10421.91, 57768.81, 316.32, 9107.81, 58293.7, 24084.3, 57160.46, 7079.72, 3805.64, 6714.77, 3528.62, 24378.62, 11823.7, 27654.54, 10424.23, 1180.06, 43731.37, 48286.13, 12536.37, 2410.94, 1897.5, 471.56, 80456.52, 58162.07, 119438.24, 72847.14, 8112.41, 23767.52, 57808.9, 11625.12, 173.04, 24733.76, 24905.72, 2512.23, 23386.08, 56384.53, 62057.77, 62441.79, 39467.47, 18344.1, 69029.23, 48548.33, 13125.1, 117376.9, 1898.2, 11765.06, 3227.44, 19242.5, 22287.59, 8731.59, 108946.41, 2352.97, 50452.02, 3464.14, 17449.67, 91.8, 134069.74, 77607.22, 711.24, 12028.79, 54532.83, 431.5, 22880.14, 36973.01, 19812.45, 71.95, 7448.63, 16965.28, 2455.63, 10980.41, 4372.8, 212.4, 76533.17, 57294.65, 12695.6, 82535.26, 162730.07, 41142.57, 1229.96, 201751.98, 35516.16, 261.46, 68219.66, 44442.27, 20557.14, 659.57, 26313.38, 8028.2, 926.11, 3302.07, 47324.76, 381.41, 1864.16, 14277.44, 5119.9, 4944.67, 1794.87, 13247.31, 22848.35, 39604.99, 683.91, 505.32, 17507.53, 43374.71, 31283.26, 9433.8, 1404.96, 88485.27, 72510.54, 38650.97, 134577.66, 4838.42, 66950.63, 99236.67, 9542.55, 30220.01, 75574.97, 15626.67, 46405.14, 67687.33, 867.43, 53026.79, 21300.0, 103707.46, 84879.2, 31412.22, 11325.35, 1355.36, 32715.47, 1699.98, 28720.18, 20053.2, 880.9, 33740.46, 697.78, 21403.44, 15384.68, 919.25, 56444.55, 59759.82, 1359.22, 27496.82, 2119.56, 20907.36, 22711.8, 24782.89, 65567.13, 34417.13, 47098.49, 24177.31, 48898.09, 32856.32, 709.71, 2636.39, 85680.05, 53654.86, 876.88, 24119.23, 124862.0, 2878.04, 8703.36, 5613.13, 10377.82, 6346.65, 13636.34, 1220.62, 1104.9, 13664.49, 17933.75, 10658.36, 21365.09, 32481.88, 8770.52, 15393.01, 42789.2, 6907.07, 15944.26, 403.9, 8582.04, 27219.0, 2164.59, 42709.72, 30468.92, 48180.87, 13726.63, 221.4, 28864.14, 14442.29, 7986.18, 12916.07, 12219.76, 4190.84, 467.88, 114104.02, 6532.66, 18966.6, 15560.43, 13340.16, 6344.67, 15162.68, 14709.65, 68412.77, 16815.2, 148003.52, 11189.89, 16188.08, 14502.45, 4326.83, 1695.68, 7752.0, 2894.48, 799.59, 144383.8, 45725.73, 12965.4, 23846.91, 391.45, 8546.81, 441.52, 14706.47, 141849.4, 41411.94, 642.35, 246.47, 1500.4, 850.06, 36663.51, 2322.34, 4250.03, 3315.1, 79729.46, 37426.67, 662.52, 3403.8, 13102.48, 15763.81, 363.15, 70459.6, 25759.06, 133.64, 122.04, 1279.47, 2127.16, 54487.78, 17256.56, 39474.36, 348.14, 49762.81, 135745.08, 10859.29, 100621.85, 4712.6, 36373.52, 35244.39, 422.42, 13871.27, 20760.25, 900.0, 51915.6, 716.5, 3540.0, 19765.19, 20113.25, 18900.47, 18688.48, 1898.9, 107607.54, 32378.44, 94939.84, 34975.81, 63004.17, 111322.14, 56033.32, 3744.73, 16848.4, 275.12, 62724.59, 153986.89, 2083.4, 12538.85, 37961.37, 17567.82, 557.52, 11139.88, 16495.03, 22786.46, 425.55, 19047.19, 32418.94, 16125.62, 202.89, 30243.65, 10886.4, 275.14, 53023.83, 80239.27, 37996.17, 2648.67, 9097.84, 33685.13, 313.27, 55749.55, 302.75, 892.29, 13715.5, 10089.36, 26225.77, 76330.96, 161053.92, 58793.43, 26533.49, 33.12, 318.22, 17984.6, 19527.69, 172968.73, 14587.91, 368.65, 47268.73, 3796.51, 56267.86, 43200.66, 867.75, 82755.65, 51082.39, 74346.56, 641.39, 27497.14, 95781.29, 29047.3, 150121.98, 73593.0, 84484.29, 4110.17, 465.15, 89.75, 79951.87, 6924.04, 66258.65, 47851.39, 101507.44, 50592.92, 140643.22, 4929.8, 15260.15, 15878.54, 602.89, 9115.8, 105660.46, 109515.03, 24359.71, 17104.32, 15210.1, 35649.36, 358.1, 12641.99, 33575.44, 951.21, 9936.4, 158.23, 52752.6, 58030.0, 4608.02, 15444.19, 7705.31, 42301.91, 19052.16, 68393.51, 26424.39, 85174.01, 17610.54, 22828.19, 9433.1, 7599.86, 6450.8, 911.61, 54167.68, 6095.8, 29343.52, 126.59, 27172.19, 3601.39, 45313.82, 29872.36, 28345.96, 2525.6, 101157.97, 1609.91, 7800.66, 41302.66, 19903.56, 2690.13, 66925.83, 30102.41, 3418.44, 943.12, 35013.12, 31877.68, 13706.61, 5368.18, 16306.35, 22759.74, 34051.6, 94595.67, 13526.8, 6743.26, 70915.42, 31.56, 29386.1, 7659.57, 13562.91, 22588.69, 31980.15, 1260.47, 13024.17, 46926.63, 55944.61, 42627.28, 59244.66, 62559.48, 446.01, 126882.86, 50428.17, 38059.18, 5368.52, 58089.31, 2403.56, 123536.4, 775.72, 72895.25, 10318.0, 30103.02, 94060.05, 17080.73, 421.64, 15498.4, 77797.68, 35.56, 146.15, 2421.58, 24294.0, 18100.12, 119075.57, 11581.35, 3468.23, 83677.86, 8780.68, 39833.04, 8449.95, 13133.05, 138477.61, 125810.13, 214.03, 57836.81, 14515.93, 20156.25, 49401.7, 1233.02, 129778.95, 74750.4, 13074.02, 40729.56, 7449.17, 11654.74, 1898.2, 11458.29, 25343.55, 149387.2, 95748.88, 1291.94, 22974.63, 24912.53, 64697.33, 14363.99, 1948.67, 28205.52, 13041.32, 55334.26, 91380.86, 45062.79, 32917.08, 139794.0, 3290.56, 14772.55, 5219.35, 24159.08, 13948.2, 12361.03, 27181.06, 116580.26, 29490.96, 3384.25, 58836.61, 17613.59, 34572.76, 90.73, 57545.72, 19840.72, 88.39, 58462.56, 8448.78, 3021.9, 16207.2, 13451.52, 18186.47, 1148.7, 18900.99, 8239.58, 1897.5, 66148.49, 89565.8, 4840.71, 5824.36, 47553.11, 8952.97, 3435.58, 23563.15, 51269.95, 9229.83, 3551.78, 80351.35, 528.68, 14464.71, 53371.85, 1886.52, 3787.51, 653644.8, 17210.97, 81196.76, 54559.61, 18227.29, 15224.72, 40029.4, 6682.64, 62694.72, 4402.77, 172.48, 18438.6, 15293.51, 19031.14, 23514.75, 52856.59, 17302.56, 49169.58, 121526.65, 10019.62, 8663.88, 13126.57, 97307.85, 15978.88, 116.0, 42471.48, 39935.35, 7656.0, 46513.93, 3063.31, 112548.39, 13365.58, 73328.44, 54840.85, 1888.56, 30220.01, 240.77, 419.08, 81604.15, 129.47, 120456.8, 56061.59, 95147.14, 15430.81, 16249.63, 34.02, 45142.24, 25055.97, 22399.16, 17625.75, 39562.41, 71469.83, 137954.91, 5078.41, 22016.26, 15908.11, 4505.8, 17275.62, 85130.32, 8065.38, 9269.46, 5384.83, 6663.09, 241.76, 15275.58, 133219.72, 93256.92, 1403.69, 11225.06, 17950.34, 322.44, 542.11, 25576.95, 47436.89, 101806.82, 449.74, 28444.51, 2645.35, 21427.28, 61049.9, 15033.59, 2647.71, 61180.18, 634.17, 41871.85, 757.46, 16360.32, 76055.62, 459.12, 22064.46, 4024.96, 29227.01, 471.56, 52747.63, 3576.04, 14707.75, 15992.26, 15029.64, 100.47, 29180.13, 9047.44, 1191.99, 100799.48, 37157.47, 148446.24, 13792.07, 4011.04, 721.06, 14101.32, 22833.7, 136.2, 1000.61, 6663.85, 71729.96, 10941.91, 8639.83, 119752.45, 19518.81, 59534.15, 661.11, 29607.46, 8239.1, 33899.66, 8936.05, 84489.24, 48264.96, 15057.3, 73485.31, 14013.3, 25605.33, 28343.59, 40698.02, 33032.98, 17328.62, 7359.38, 51200.08, 30982.24, 54652.16, 114311.71, 5399.38, 25961.74, 43820.44, 27011.78, 13438.61, 15142.41, 336.84, 82472.65, 43237.55, 1107.55, 18924.1, 7742.46, 69555.6, 13555.62, 25877.85, 20937.54, 17181.62, 21300.0, 4085.73, 36827.09, 2985.84, 141407.93, 16285.09, 11095.6, 19717.82, 17223.59, 26130.42, 40736.22, 57386.59, 14085.12, 2095.92, 80309.42, 822.08, 30906.53, 16110.65, 174.81, 49624.27, 155797.53, 76757.3, 6657.97, 62623.58, 25096.93, 13646.45, 136.2, 124822.69, 385.58, 3334.94, 16484.85, 2284.52, 43622.66, 12155.1, 42397.18, 6741.25, 16534.18, 20557.14, 16929.14, 2569.94, 50595.79, 502.02, 99779.19, 65329.46, 24027.13, 10406.28, 5376.74, 81667.3, 1764.51, 23197.18, 30435.93, 5100.24, 36924.95, 36200.81, 50036.0, 39888.63, 13377.33, 378.88, 696.4, 41135.94, 17283.5, 67553.22, 68027.25, 780.31, 26468.26, 9120.74, 94655.87, 6623.33, 20462.92, 1166.75, 6878.13, 1329.23, 73999.94, 67459.16, 15660.68, 15547.82, 20282.4, 6121.3, 116238.59, 239378.56, 13414.92, 30864.7, 10543.75, 28629.51, 1322.7, 93386.62, 7704.0, 388.72, 5803.43, 45610.74, 3842.93, 76466.28, 16659.53, 16049.89, 3614.18, 24618.24, 66329.71, 8110.23, 56457.25, 19471.89, 32810.72, 35479.72, 5123.62, 8261.54, 10782.51, 26825.69, 4029.07, 34543.04, 452.25, 46901.67, 27.48, 14502.45, 122.88, 16844.92, 52767.0, 12357.48, 16811.8, 483.44, 14581.42, 2374.54, 111.37, 105575.11, 50952.03, 20558.43, 28476.97, 54914.46, 9028.37, 239.46, 7690.08, 868.31, 28430.24, 118601.49, 2622.48, 504.54, 222.04, 15113.86, 106849.44, 25803.06, 18949.93, 2738.69, 13207.53, 59130.1, 5795.74, 10379.53, 30206.45, 30.64, 357.04, 15958.8, 393.37, 23177.6, 1897.5, 72502.42, 7918.97, 16301.91, 6311.06, 321.48, 50640.25, 52738.49, 19403.38, 5689.81, 13326.18, 2251.1, 60153.24, 79559.63, 13867.39, 3964.33, 6071.75, 14750.75, 25839.69, 69407.17, 480.75, 14269.54, 1128.91, 142141.55, 890.42, 15121.52, 47538.09, 1425.88, 99929.97, 42811.48, 53053.69, 3769.56, 115028.55, 308.58, 62398.47, 59094.71, 13577.5, 709.87, 599.48, 21669.35, 61369.23, 103953.15, 949.45, 34271.63, 7951.82, 1589.41, 14272.21, 72194.37, 6266.22, 1464.5, 2484.2, 55513.7, 13113.52, 69749.69, 103.92, 17412.55, 14294.25, 128872.8, 27757.7, 2624.03, 20734.45, 13837.7, 49401.54, 6441.42, 69018.65, 130205.14, 5896.14, 55035.47, 43486.59, 109140.03, 20379.34, 1224.7, 63222.32, 32768.82, 16999.42, 15501.15, 58799.57, 12777.34, 22820.46, 5838.84, 75376.15, 78774.53, 143729.2, 417.6, 1339.91, 48323.53, 10536.98, 6881.68, 31589.18, 1078.89, 11167.96, 10090.88, 555.66, 32313.96, 15179.46, 13737.67, 554.49, 931.21, 56834.83, 13088.75, 38439.45, 2153.27, 31549.35, 42580.61, 6920.0, 18927.0, 18577.56, 28093.89, 17299.24, 59402.49, 20457.63, 2517.5, 38155.71, 83685.69, 8531.74, 31379.93, 770.73, 3294.72, 1254.4, 19751.0, 16635.84, 85413.75, 14366.8, 742.29, 1367.82, 50250.26, 2472.53, 16719.82, 21815.21, 108539.11, 20553.72, 163153.98, 39313.44, 159.72, 4460.4, 141068.91, 51944.37, 26001.12, 24743.64, 781.49, 536.39, 2514.01, 80464.76, 2004.77, 8518.0, 84983.19, 42635.8, 1228.2, 12238.25, 15731.77, 5215.91, 13983.6, 18830.35, 12112.59, 7602.7, 23056.53, 3283.26, 62823.52, 63979.92, 1355.36, 20801.26, 3226.45, 71438.43, 6532.6, 33.18, 1273.16, 6166.01, 51073.18, 75330.92, 42626.64, 108570.57, 30317.86, 41472.37, 38062.92, 226222.58, 33312.19, 44971.92, 5126.33, 12825.45, 277132.58, 6282.99, 16178.63, 1035.96, 63185.46, 6043.89, 49682.05, 113.97, 53871.74, 24291.4, 3854.93, 16635.4, 33698.0, 16205.95, 91482.86, 81087.39, 11314.56, 74527.65, 39461.74, 24245.19, 72165.41, 55792.68, 40521.36, 60981.19, 56150.35, 16741.64, 16258.53, 10537.04, 26645.73, 87764.08, 7264.35, 102792.47, 553.6, 19446.43, 676.68, 33897.75, 5783.33, 67115.26, 37818.43, 14928.8, 40782.44, 100863.74, 16963.2, 25948.01, 8790.74, 23571.33, 31142.39, 10905.34, 40819.76, 16393.77, 8697.27, 15294.57, 2544.25, 46662.15, 1820.51, 137275.15, 19167.06, 10448.64, 15426.43, 3656.14, 156317.72, 12481.52, 45108.0, 36443.02, 51407.61, 118845.17, 69493.3, 154184.98, 101545.97, 139.52, 13888.82, 1591.0, 6710.12, 46677.68, 38701.14, 1352.55, 108921.99, 571.71, 28730.49, 15918.7, 15100.56, 100862.47, 15092.12, 6963.49, 6377.06, 282.12, 44164.16, 83.79, 7005.98, 4934.26, 31502.93, 17835.84, 31780.22, 20906.0, 3170.17, 25775.71, 69412.32, 19912.32, 615.36, 23649.06, 40462.23, 4088.45, 516.84, 3902.68, 63785.72, 1259.34, 13397.49, 76769.26, 100351.76, 15293.69, 14947.08, 25196.78, 38974.11, 1893.09, 53481.35, 3559.96, 767.1, 17736.03, 66839.08, 97015.44, 1051.72, 29061.0, 25482.9, 501.6, 1067.44, 7313.21, 5125.67, 1795.83, 28562.2, 4272.16, 73154.73, 1514.16, 75435.57, 11167.98, 9484.8, 90833.07, 44193.46, 334.54, 16409.83, 448.78, 16386.31, 7788.0, 10968.24, 6078.34, 85998.76, 47745.28, 20411.68, 16360.32, 16014.89, 26232.91, 43190.45, 17401.21, 28892.66, 25576.77, 1779.68, 14565.4, 178.19, 404.58, 15087.92, 5722.4, 53407.82, 197.21, 26669.15, 128544.54, 477.2, 90787.69, 148550.4, 46221.08, 7553.28, 23271.9, 1268.22, 27851.88, 14135.59, 7776.64, 7270.11, 6080.72, 57019.74, 2093.93, 1898.9, 35684.04, 58006.86, 31482.37, 4378.82, 15960.21, 20500.17, 18526.31, 61210.01, 866.79, 51.72, 883.45, 60832.81, 108316.38, 22034.77, 37874.92, 40020.4, 2894.11, 47315.38, 13154.82, 878.09, 55923.77, 38537.79, 115498.58, 83918.33, 16571.99, 1558.64, 118550.24, 65166.54, 20145.88, 159721.02, 22500.45, 104367.72, 10889.49, 7214.6, 19436.3, 8302.57, 12500.0, 15483.22, 32298.87, 32141.72, 13279.6, 85470.76, 17693.69, 4388.75, 56373.77, 569.58, 2014.04, 45097.74, 85547.99, 18064.81, 516.67, 5068.95, 24310.72, 35920.49, 50413.54, 59875.73, 25747.2, 80201.72, 3470.2, 12481.15, 26566.79, 8940.2, 21862.47, 14204.38, 1898.2, 1824.42, 14997.9, 61184.19, 10832.47, 3998.05, 1244.4, 15088.0, 61875.3, 10212.63, 1898.2, 8413.8, 10318.0, 23877.77, 172939.34, 50219.21, 2583.12, 1176.4, 94993.94, 6824.24, 5543.87, 757.79, 25993.96, 38808.0, 12703.86, 10558.75, 2240.0, 12604.69, 1898.2, 50811.28, 78666.24, 21379.43, 5920.3, 15227.04, 5838.01, 20451.65, 4177.32, 52622.33, 3785.4, 15556.47, 51663.6, 51750.83, 33389.2, 30855.15, 685.19, 20293.01, 14957.94, 11268.33, 2442.68, 4675.49, 16773.43, 48086.64, 1537.65, 2873.81, 5647.14, 365.16, 7083.88, 620.34, 28223.43, 14013.3, 81054.33, 36230.3, 60932.57, 6077.68, 98418.08, 46594.41, 18934.54, 11359.1, 4355.07, 6607.86, 114333.91, 40264.39, 13161.79, 12145.28, 26320.8, 647.18, 15485.67, 94740.47, 7491.01, 269908.59, 6764.55, 33099.65, 49415.64, 661.66, 9175.21, 14205.54, 540.73, 98940.71, 27540.9, 1469.09, 25055.57, 943.12, 71397.87, 24055.15, 26373.6, 154686.78, 15008.31, 105021.3, 19361.25, 32256.0, 14948.17, 15279.84, 319.99, 67643.73, 31202.25, 3486.17, 1602.16, 15768.19, 53818.67, 2281.67, 84871.96, 275829.28, 1238.0, 7018.45, 53984.83, 16862.0, 3272.26, 63510.37, 89697.07, 15405.26, 39705.64, 20719.36, 58015.01, 87973.43, 1658.14, 45973.02, 55967.01, 22716.98, 37457.35, 651.66, 1199.85, 97262.24, 28194.64, 15287.04, 25522.88, 15529.98, 75324.12, 21581.3, 356.4, 42827.47, 31779.87, 68933.91, 42854.4, 42444.41, 70802.8, 20956.4, 4084.25, 5081.57, 29556.0, 11466.55, 5388.86, 23571.9, 20328.48, 10170.66, 20761.65, 3712.81, 15184.5, 7651.31, 11988.73, 43045.02, 316.71, 39903.14, 36166.18, 16214.14, 147687.6, 144425.11, 25926.2, 49335.62, 10686.75, 1158.13, 75477.78, 17916.0, 2612.1, 64939.37, 1399.71, 883.74, 115219.4, 83896.59, 179.22, 49976.79, 4272.16, 13804.14, 29678.74, 13680.04, 115558.04, 18281.96, 40337.38, 19245.74, 356.39, 4683.02, 10250.49, 41889.39, 18057.0, 51452.59, 72733.84, 91472.24, 54183.29, 1727.56, 955.63, 2011.42, 51450.59, 602.47, 29214.13, 2079.19, 958.04, 9230.76, 2694.0, 12.44, 198.5, 83344.02, 12320.06, 14780.25, 37631.48, 7720.54, 24.72, 66339.62, 17593.75, 170503.18, 40829.37, 42537.6, 85093.02, 60589.44, 19376.05, 3748.84, 8040.01, 4554.05, 25614.22, 8888.87, 12727.78, 4011.01, 14193.63, 276682.65, 20383.87, 9754.12, 20802.21, 71593.29, 3066.75, 37744.01, 84318.41, 297.55, 127047.02, 14185.14, 25961.25, 17969.28, 46490.22, 76881.18, 105915.73, 154531.56, 23288.26, 77832.65, 40535.2, 38755.62, 81650.79, 55591.25, 86.77, 931.03, 24941.61, 1857.44, 11036.37, 31785.38, 5508.59, 131241.58, 17152.24, 476.49, 26157.54, 41661.88, 32787.29, 3691.4, 113310.85, 29123.9, 1328.25, 15962.99, 13118.56, 23511.58, 2209.18, 866.17, 8030.27, 19113.41, 1328.25, 84204.81, 34617.35, 64440.95, 155074.68, 48423.08, 14976.06, 25605.91, 9071.17, 12632.96, 16561.82, 7716.48, 4516.95, 12834.36, 12841.67, 44046.41, 2874.87, 65753.41, 18261.04, 48044.1, 14630.62, 18672.49, 93658.39, 31724.92, 106151.29, 89729.32, 30469.18, 30161.16, 120420.37, 52204.53, 36805.25, 9898.85, 22692.11, 5657.84, 17391.69, 24609.48, 9444.75, 124959.22, 70998.74, 21473.25, 327.82, 5644.8, 112441.18, 53737.27, 12686.52, 41479.39, 627.24, 13894.29, 10530.91, 19919.8, 20606.23, 7933.11, 22363.82, 13197.76, 1625.92, 1104.35, 30527.51, 67471.47, 43289.78, 4449.82, 524.66, 141105.1, 120694.49, 28709.82, 75955.8, 68080.5, 62994.8, 80772.45, 518.2, 8774.5, 17603.92, 107321.76, 1072.68, 104.64, 4272.16, 392.63, 64716.76, 53780.93, 2058.84, 31195.84, 118.34, 21924.56, 3075.92, 78753.01, 3881.52, 249.51, 74453.01, 5195.3, 124.5, 18526.83, 9108.0, 670.36, 1681.47, 99.06, 938.91, 53586.99, 53331.88, 174.72, 13822.58, 13248.58, 71077.79, 3541.54, 26331.68, 48310.91, 12043.45, 57072.78, 1054.02, 2335.18, 81419.99, 49907.14, 13824.0, 186777.6, 5534.06, 11439.93, 128418.46, 13224.61, 1541.08, 56.9, 17191.69, 27717.85, 28671.93, 5905.22, 2623.58, 25524.9, 7412.6, 54645.29, 165.6, 61744.0, 7488.72, 9840.96, 2047.03, 22971.49, 252.69, 46245.69, 14394.49, 13669.38, 3916.94, 1008.38, 16448.14, 57227.21, 26488.87, 3073.33, 62334.76, 82165.73, 4016.95, 23695.83, 243.37, 10563.28, 88085.77, 43867.58, 41390.8, 25309.66, 12341.23, 780.52, 1549.8, 55282.87, 1324.0, 16528.21, 67478.49, 137725.83, 4067.43, 314.71, 8110.17, 4498.12, 6660.0, 108399.89, 696.78, 3723.35, 4361.05, 20343.28, 537.27, 969.96, 32123.03, 6077.59, 20495.02, 9792.76, 116484.46, 59880.36, 4689.93, 131377.79, 20659.71, 19424.85, 52326.09, 18682.23, 5232.52, 14380.16, 49505.28, 10770.92, 45470.26, 21055.82, 625.0, 913.19, 17623.18, 6527.71, 131033.28, 66540.77, 52530.11, 16093.58, 48923.44, 13046.08, 10503.36, 2641.77, 65627.41, 21418.03, 88875.84, 5143.07, 148672.84, 104594.78, 1084.28, 515.28, 161007.9, 163015.96, 69111.13, 7504.12, 29144.09, 93501.04, 116589.36, 103745.02, 19127.9, 41535.68, 11337.97, 11439.27, 329.94, 37760.63, 116904.9, 1462.78, 8041.59, 13452.64, 1457.28, 32448.51, 1318.06, 20691.83, 59312.63, 180936.82, 29880.0, 120237.28, 32481.88, 13080.76, 15005.92, 100003.11, 14627.23, 22042.02, 8426.93, 14934.27, 52954.33, 22485.11, 72281.73, 63524.21, 46214.4, 41504.88, 578.45, 7399.95, 4923.45, 35440.14, 4132.47, 66925.05, 92467.49, 12150.95, 8452.06, 3494.61, 869.76, 60609.06, 8444.72, 17984.01, 21322.48, 1422.0, 15908.4, 11631.68, 60679.19, 112791.72, 2116.89, 42989.63, 248.12, 62601.29, 244.57, 2916.87, 136118.91, 9420.0, 52037.09, 468.96, 35350.58, 19091.4, 35599.89, 465.57, 466.56, 262.22, 40303.36, 8408.19, 31279.46, 52274.22, 349.44, 15793.12, 64220.74, 21940.43, 27507.59, 44878.75, 36098.55, 41680.15, 94428.37, 13543.61, 81593.0, 50787.57, 14201.85, 9909.3, 373.98, 2766.14, 1119.87, 32498.68, 5044.1, 36053.2, 77984.29, 64155.2, 32637.49, 4484.28, 14394.04, 37377.37, 9074.8, 1099.82, 13446.0, 42013.63, 5019.8, 3579.84, 68568.56, 6960.09, 122456.1, 3654.67, 400.07, 45012.9, 44019.48, 15666.45, 73321.65, 41330.78, 150713.95, 225382.07, 14257.87, 8041.59, 28028.22, 75171.02, 229.67, 45578.29, 12890.83, 1706.6, 149720.74, 123458.01, 78589.18, 1510.2, 13232.14, 17815.31, 72494.84, 45475.17, 400.68, 140.9, 61264.05, 17996.88, 2396.61, 326.19, 8372.27, 132.72, 95757.83, 8329.13, 388.29, 63298.34, 16264.8, 17314.59, 33916.65, 2656.41, 15061.27, 32715.47, 495.87, 57420.0, 3228.79, 51536.34, 18482.57, 1097.38, 66769.38, 5197.7, 60019.15, 227190.11, 84670.5, 38083.39, 93.6, 30051.43, 13214.98, 30422.66, 47414.02, 30160.53, 70320.16, 1326.7, 44147.49, 17033.43, 14995.63, 86449.04, 58703.71, 32580.31, 27228.34, 26208.55, 2558.05, 77804.55, 1066.65, 67002.19, 1897.5, 1983.35, 75469.55, 61690.42, 2896.9, 3702.21, 71398.51, 86648.57, 46301.56, 26686.27, 182.72, 9702.92, 63292.18, 45455.18, 828.8, 52269.27, 59472.7, 500.53, 33076.51, 13079.41, 668.5, 28534.36, 3106.03, 1939.98, 866.17, 5491.85, 47636.34, 44723.97, 24012.37, 54109.37, 35647.86, 1698.4, 1581.95, 3578.93, 63354.45, 661.11, 1597.38, 6663.09, 20900.57, 15127.44, 111948.28, 14572.71, 242.51, 15725.29, 4902.11, 14421.91, 14535.99, 6940.96, 210.12, 139731.78, 162355.06, 52755.12, 3364.63, 10791.59, 22998.6, 50960.4, 12717.84, 1414.68, 2961.63, 106.44, 15120.0, 12648.16, 6409.21, 6879.57, 487.96, 27061.09, 37224.07, 20253.6, 1580.78, 53218.0, 12271.53, 6398.97, 118322.94, 13300.75, 5089.41, 4638.76, 36315.32, 1280.18, 36726.96, 49118.13, 8041.59, 14368.4, 30949.48, 471.56, 33899.14, 18570.2, 55638.0, 136847.22, 2807.55, 33120.32, 1879.76, 14780.95, 996.0, 9921.32, 1598.29, 14467.39, 120624.47, 15480.61, 15539.9, 2237.66, 25048.7, 11879.33, 33809.8, 25685.17, 43492.09, 183.72, 7336.17, 74610.66, 23780.26, 99618.14, 49332.4, 15386.87, 55081.86, 51308.49, 31.56, 4608.21, 63522.89, 96857.04, 47474.2, 623.7, 92.34, 13270.56, 15725.29, 3293.68, 28865.71, 22256.8, 4856.76, 89068.54, 58.45, 134563.49, 150.21, 10047.0, 158861.42, 67609.35, 5000.24, 259.72, 17024.44, 12991.66, 159.12, 1719.12, 28267.39, 45195.38, 59935.2, 34330.89, 12184.91, 23379.88, 82876.53, 320.62, 27706.56, 57859.42, 75459.25, 26301.41, 417.24, 41696.75, 1787.38, 16046.48, 5616.23, 5887.65, 223.56, 22125.92, 15739.58, 1507.9, 36038.55, 7179.54, 26534.21, 953.13, 71758.97, 18680.5, 12545.33, 30096.46, 109072.29, 24060.0, 20612.25, 2160.26, 23636.04, 10914.53, 17709.29, 20282.4, 9270.44, 22398.98, 75546.98, 37996.0, 136732.88, 14700.08, 11852.15, 45121.55, 5641.23, 37979.7, 46481.32, 41094.28, 292.65, 32483.06, 31169.6, 26750.95, 36070.61, 7585.34, 16459.2, 7866.75, 66737.03, 4438.99, 136973.3, 12553.8, 12578.4, 79861.92, 1940.24, 4100.0, 24861.4, 60063.53, 34041.0, 59257.44, 2662.41, 46884.88, 66828.82, 61791.88, 16648.93, 63462.15, 2632.57, 58989.23, 1504.87, 60602.37, 21715.39, 575.46, 25417.52, 94784.62, 12765.66, 790.27, 43122.05, 41721.0, 7375.25, 33241.41, 55788.48, 48960.0, 4303.18, 6639.71, 19399.45, 1119.84, 14644.67, 31046.4, 20998.16, 27092.44, 16581.98, 142.91, 80939.21, 49507.92, 328.63, 14189.05, 4075.38, 7733.47, 14144.89, 2148.89, 42853.24, 2547.62, 2657.09, 22080.89, 100417.52, 50697.79, 2417.14, 67534.67, 31732.03, 24415.41, 60788.47, 68830.1, 8006.93, 2064.98, 15667.46, 54835.92, 2337.42, 84904.96, 9919.2, 1091.42, 129060.15, 13876.71, 51663.6, 11389.97, 24287.09, 44928.75, 15428.22, 70971.56, 33276.95, 70.8, 25260.62, 38087.7, 58212.29, 7903.68, 53646.32, 7469.28, 31042.89, 60578.69, 76630.06, 18701.26, 25282.91, 507.76, 6329.23, 57843.9, 4359.32, 6749.31, 7557.07, 3638.8, 42187.65, 14065.19, 132.48, 18819.17, 4701.94, 16509.16, 10182.67, 16415.42, 288.87, 5157.18, 13434.59, 16293.48, 47218.45, 3207.66, 2454.22, 37303.85, 886.08, 21932.46, 3047.94, 13840.43, 38857.17, 25127.45, 54753.03, 157642.85, 46742.47, 16480.82, 14788.66, 22753.31, 108815.97, 28993.44, 16168.16, 34534.5, 21739.41, 21848.43, 46157.58, 14217.0, 191475.79, 23140.03, 32569.94, 15493.05, 15531.29, 19912.32, 4908.79, 57146.43, 56.82, 2211.15, 515.58, 71699.73, 7894.01, 1328.25, 1872.06, 19844.26, 26303.27, 12776.45, 3191.95, 13167.54, 862.89, 22550.05, 68080.79, 7970.04, 34055.31, 14199.93, 22922.69, 34080.38, 9523.88, 38637.96, 345249.59, 73.91, 48615.73, 3627.47, 2706.19, 4472.78, 27466.41, 28622.65, 7947.72, 25881.54, 71248.8, 39366.26, 94750.37, 225233.11, 848.26, 36948.47, 18029.83, 33171.66, 6085.09, 47198.47, 302851.15, 13063.4, 11048.58, 5172.17, 103656.19, 16873.09, 8191.93, 30033.81, 24080.48, 6422.29, 14934.21, 17519.05, 3192.0, 2680.3, 302720.89, 72191.13, 611.04, 50297.39, 39135.0, 7948.8, 44878.75, 11783.5, 6836.57, 661.11, 113142.45, 5011.19, 23152.59, 2296.61, 22388.16, 6664.29, 47170.21, 1991.84, 43857.58, 706.23, 2850.88, 14898.64, 20993.27, 10049.12, 78508.73, 171.8, 23226.71, 31024.46, 84171.46, 6595.02, 36342.31, 14879.28, 4590.12, 55863.7, 84062.61, 4741.02, 55110.98, 61599.34, 1939.84, 529.4, 10363.84, 9802.64, 65328.82, 44444.12, 21634.9, 11793.12, 1612.0, 225151.01, 90.73, 57964.18, 89148.07, 1897.5, 13118.76, 5207.66, 18.51, 102972.79, 46914.4, 55102.87, 20678.28, 24785.71, 7997.51, 24824.39, 94.89, 67101.59, 20557.14, 80058.89, 63130.52, 122986.33, 9600.77, 93618.74, 1407.76, 4530.6, 71973.69, 135282.9, 55204.16, 74975.9, 37777.86, 143365.44, 11791.79, 75717.55, 1494.28, 100156.65, 9661.14, 1014.9, 1561.72, 75505.75, 8941.46, 1759.07, 15439.93, 29402.4, 132.97, 80911.61, 139540.43, 32858.25, 16020.47, 16602.95, 1229.52, 39504.05, 5887.8, 1898.2, 19935.07, 13833.51, 21819.82, 51978.4, 26977.14, 18194.0, 3750.14, 67317.33, 20866.48, 19756.96, 5756.47, 51197.05, 29632.39, 26.3, 34198.21, 88137.69, 40792.46, 40519.66, 65.76, 231.31, 587.73, 43605.59, 42355.15, 24726.63, 48275.01, 4634.81, 32707.48, 39408.34, 42737.44, 232.34, 27.6, 1232.0, 1872.9, 13768.88, 27699.68, 39573.44, 70853.09, 4165.2, 56863.05, 31854.82, 28155.64, 8675.2, 17656.64, 5184.32, 1815.84, 5147.73, 11460.64, 19536.15, 22453.23, 15117.79, 3379.97, 2388.78, 43268.0, 111443.91, 29701.14, 3438.09, 53622.92, 216.36, 20829.1, 471.56, 15825.49, 998.6, 39603.52, 116714.7, 1788.7, 26195.77, 1964.44, 27379.57, 7939.51, 78617.29, 63877.61, 9845.32, 41572.27, 76999.84, 43385.37, 5735.32, 1598.14, 28325.28, 472.25, 17157.25, 35954.58, 76543.17, 47013.97, 18171.95, 19820.91, 1575.87, 15947.02, 10585.34, 42843.68, 34551.71, 35825.53, 18596.54, 47905.83, 87895.98, 27350.12, 8322.68, 12517.73, 8434.37, 12026.98, 147320.54, 16941.6, 67.29, 104.65, 66246.81, 44774.7, 20379.6, 1858.37, 943.12, 264855.06, 10938.65, 15424.35, 9773.84, 5133.34, 42983.2, 109182.94, 696.42, 14038.41, 21298.3, 51654.6, 3840.75, 106.63, 1714.68, 20490.14, 42127.27, 12024.0, 11091.75, 1971.27, 5100.48, 75156.8, 864.53, 27577.25, 20166.38, 141209.38, 1118.71, 222812.83, 3596.25, 53400.6, 53871.84, 14629.47, 6693.48, 27861.26, 22256.61, 299724.84, 33603.27, 45880.98, 23857.67, 16180.8, 1569.27, 182.13, 16303.37, 50863.17, 60145.41, 14903.05, 87016.04, 22893.15, 14814.38, 5137.17, 3121.0, 30869.58, 8517.16, 83331.17, 7057.52, 146.64, 8347.4, 21479.79, 3273.98, 2302.24, 17287.2, 63393.81, 2326.58, 65961.0, 252.22, 63331.61, 3232.69, 12552.59, 68.91, 11068.85, 18882.14, 8376.76, 99265.19, 31020.92, 6704.02, 24282.3, 17919.97, 13225.21, 30814.35, 24446.6, 79072.13, 2393.87, 43602.1, 2492.62, 19214.19, 632.52, 34242.39, 100149.52, 8932.44, 10758.78, 27021.36, 5466.92, 35087.49, 374.79, 471.56, 54524.52, 36363.66, 3789.8, 93829.52, 1322.22, 334.31, 20175.8, 78601.22, 11764.73, 54785.69, 41016.45, 29760.91, 3593.03, 100134.51, 31448.76, 338.48, 20856.67, 49191.76, 14744.51, 19321.28, 17564.0, 13847.68, 21856.45, 38868.57, 15408.69, 16513.15, 27636.35, 6249.65, 32481.88, 4790.73, 19298.53, 21515.5, 43752.27, 14435.64, 23945.17, 93162.62, 74509.43, 2127.6, 53496.66, 13515.86, 1747.44, 74.15, 3624.2, 8628.28, 126035.18, 3324.46, 2314.07, 5995.91, 31974.98, 55928.89, 4338.29, 14189.05, 106196.93, 15543.97, 10101.4, 18762.04, 7718.28, 21866.79, 13323.85, 6450.8, 12182.46, 2655.1, 1223.76, 19658.57, 21705.79, 65100.93, 2226.0, 29400.0, 159256.17, 795.18, 161411.27, 9225.71, 76590.55, 89311.02, 34468.59, 59974.96, 3338.08, 54539.13, 1140.23, 81232.09, 3599.41, 50023.35, 7066.67, 39591.62, 6779.91, 1375.64, 4243.29, 32211.31, 357.9, 9696.11, 11667.18, 207.72, 1690.72, 15096.45, 3284.81, 70824.4, 90455.08, 37592.65, 140701.02, 7632.12, 27556.84, 96237.5, 119548.26, 10890.0, 116654.99, 1897.5, 22057.64, 3771.3, 11047.77, 368.32, 1284.15, 40047.74, 87065.15, 9954.34, 174679.96, 13068.68, 43149.29, 9811.2, 100767.67, 55.35, 883.2, 37771.48, 532.08, 84108.9, 29856.92, 14981.41, 15955.5, 31961.65, 17963.58, 28082.71, 66622.5, 13281.8, 6166.63, 471.51, 2339.8, 94.89, 2875.5, 5113.06, 9999.06, 61709.49, 46738.7, 26019.96, 23228.24, 64421.64, 11390.37, 62883.94, 409.73, 1938.16, 15866.36, 29205.58, 517.13, 9121.2, 86.77, 15946.82, 16547.2, 9607.68, 26626.35, 31378.89, 9802.64, 10899.07, 131.1, 491.28, 72181.59, 16952.27, 111158.21, 48006.5, 6724.89, 74621.52, 37.86, 19812.73, 7345.46, 145153.45, 560.02, 1201.58, 70550.67, 8919.72, 1201.58, 60253.33, 1510.62, 56282.22, 688.15, 19348.76, 29119.37, 14526.54, 41499.2, 1422.04, 36820.45, 16633.86, 251.19, 69364.37, 78256.67, 14542.57, 13065.2, 6802.29, 15409.68, 19969.02, 14444.52, 11864.11, 10990.08, 667.71, 74077.95, 13178.61, 2221.5, 15729.04, 40002.13, 39129.54, 922.45, 37885.03, 1334.29, 34188.26, 13280.95, 25520.74, 26582.4, 3702.21, 2442.0, 18225.82, 5375.45, 10007.2, 1134.37, 5127.14, 7959.5, 5778.92, 13158.78, 12320.44, 1879.76, 6663.73, 62289.3, 100447.26, 46145.65, 70.64, 28083.55, 2633.54, 40739.95, 326.29, 12429.13, 66008.93, 15805.44, 19059.04, 401.76, 31299.77, 17153.65, 991.22, 19612.07, 69901.22, 10307.52, 3677.94, 1897.5, 31190.58, 6185.93, 9769.11, 22153.31, 25639.63, 26347.17, 25528.93, 15603.0, 5018.66, 19174.73, 5614.76, 16113.71, 15257.77, 542.11, 10057.93, 25362.84, 30567.97, 63200.86, 4832.38, 39024.65, 21139.96, 50742.89, 41689.91, 76732.53, 49729.4, 91567.19, 98246.29, 235.63, 78994.92, 89897.09, 29584.36, 75560.65, 8635.97, 71298.51, 4233.6, 4558.04, 148.88, 85076.29, 12860.54, 1434.81, 1536.97, 1403.64, 4918.99, 94631.13, 432.86, 429.12, 53420.59, 249.18, 82042.7, 13646.45, 108202.08, 16621.51, 1846.08, 59641.04, 4118.59, 3677.94, 27645.71, 56.48, 3416.76, 396.31, 44480.39, 2606.87, 2413.37, 22500.3, 314.0, 22925.26, 14026.25, 300.0, 19519.37, 18799.31, 195.46, 37.36, 12259.09, 40099.95, 69151.77, 27715.11, 7694.37, 97820.18, 33909.04, 7647.29, 50747.53, 787.93, 7258.62, 5697.9, 1465.58, 42379.61, 7389.17, 19157.78, 22665.96, 25881.02, 88660.32, 20656.34, 1389.72, 21290.57, 2981.61, 15237.43, 14882.79, 4650.74, 54284.04, 16048.94, 6975.32, 15284.38, 28683.47, 64019.99, 411.69, 1898.9, 79036.35, 146036.45, 95.94, 90948.17, 6189.32, 41001.68, 96572.1, 17692.19, 34274.51, 3596.04, 45920.32, 54864.68, 18649.18, 1285.24, 36425.94, 49656.66, 119608.12, 13688.37, 10248.0, 59512.0, 13938.18, 88470.99, 292739.95, 18035.99, 67824.7, 43940.62, 19114.68, 58605.45, 5989.01, 20514.84, 21427.2, 54814.32, 61425.77, 61211.14, 8286.04, 22891.41, 15243.22, 104783.1, 7611.09, 35332.82, 7005.65, 214.63, 45108.78, 64478.88, 6023.14, 34938.58, 3167.08, 13502.75, 634.61, 59114.88, 7744.99, 37724.77, 139.54, 4321.73, 51893.12, 15669.81, 4071.96, 21451.36, 76.06, 8325.26, 56581.85, 1328.25, 17604.39, 24305.95, 14341.7, 159770.5, 43523.74, 76074.52, 72890.5, 36994.53, 32720.49, 24688.88, 75717.82, 12965.4, 565.28, 757.39, 12939.3, 1433.95, 53295.4, 41648.82, 4179.01, 1315.65, 35238.27, 36249.44, 6630.6, 679.25, 26376.18, 67185.06, 175212.69, 51509.54, 6390.53, 69396.86, 26760.2, 15438.33, 867.02, 28696.39, 10166.41, 11414.51, 8698.88, 5126.05, 69045.23, 31577.23, 16940.88, 102458.41, 576.16, 634.98, 12170.94, 12690.58, 530.23, 93343.28, 55110.05, 114301.61, 28280.21, 96.51, 17515.23, 658.97, 67765.35, 4677.94, 1619.03, 18460.75, 86913.94, 163.8, 15725.29, 48252.52, 7674.82, 24637.9, 16682.43, 6577.55, 261.22, 33357.21, 1764.66, 353.28, 3298.3, 14836.39, 37498.36, 21660.41, 17842.59, 1897.5, 4277.72, 70743.61, 77010.98, 11866.08, 1328.25, 9215.49, 8424.33, 28410.77, 705.86, 572.12, 6040.68, 58028.08, 66197.43, 900.0, 168421.62, 72672.26, 2931.89, 65908.12, 13077.44, 40381.72, 26726.19, 1411.91, 16810.15, 110502.46, 13762.79, 683.04, 21896.05, 1898.9, 1636.05, 8732.94, 86449.4, 64.73, 3797.1, 36015.05, 42962.39, 23712.92, 34858.24, 10514.1, 27654.8, 2548.77, 2203.83, 13282.8, 84814.62, 45703.27, 162.0, 5587.9, 57811.81, 15995.86, 2568.58, 2044.42, 19186.58, 34191.27, 25167.63, 81762.04, 66427.55, 3009.74, 2395.12, 23032.18, 7233.46, 7617.25, 7504.28, 1991.84, 28759.98, 1945.36, 7622.24, 153058.22, 39243.94, 18618.37, 27136.11, 16722.65, 56296.0, 11039.03, 42391.14, 426.09, 2708.28, 4781.98, 18672.41, 132.72, 20782.02, 95930.74, 31163.62, 862.9, 113925.89, 22331.37, 452.54, 9060.68, 16226.0, 51229.81, 48193.56, 81292.92, 28845.91, 1197.82, 14869.3, 5718.91, 33270.78, 60027.88, 8405.95, 567.0, 48027.68, 4255.2, 737.21, 3576.04, 10575.32, 85126.68, 4329.65, 32194.1, 140357.39, 32163.82, 34537.73, 60010.33, 21544.32, 8944.29, 19206.86, 52234.74, 74552.9, 76315.17, 59063.77, 60060.67, 12486.1, 14624.53, 131568.09, 2417.78, 3015.38, 22567.99, 49135.68, 6532.6, 19698.38, 13043.88, 5283.73, 18145.19, 17023.37, 35335.86, 5940.64, 36316.37, 122878.91, 1469.59, 78872.5, 11212.28, 21300.0, 3710.66, 50231.66, 75319.69, 9421.4, 11359.61, 1359.32, 8011.62, 10081.66, 99.36, 1745.01, 64036.99, 16154.87, 12068.04, 28905.88, 2474.31, 494.62, 257.94, 4209.82, 20901.18, 563.82, 590.4, 40194.0, 51177.04, 15726.39, 25200.54, 2866.26, 27765.91, 3374.25, 75483.4, 47384.71, 3748.84, 23710.18, 55990.43, 10367.35, 13885.86, 15257.6, 25322.48, 99827.04, 49305.17, 24272.51, 44872.95, 41214.9, 13744.61, 11665.8, 184248.42, 2530.0, 86972.05, 6795.39, 272.84, 39381.14, 18167.21, 5310.0, 3998.72, 122417.66, 9987.21, 98191.66, 48270.78, 28511.85, 1165.66, 87924.62, 27736.89, 5004.72, 33110.26, 74356.59, 54572.7, 10931.65, 1288.22, 15705.84, 5860.86, 13131.93, 133.8, 1271.5, 144018.35, 23757.94, 55387.81, 39793.55, 83121.6, 1324.98, 70062.58, 20390.94, 32933.8, 1991.11, 8678.53, 17433.6, 4511.25, 103616.17, 80006.02, 763.78, 9574.25, 35.4, 2694.19, 3866.24, 18864.95, 12563.56, 88152.38, 66096.0, 32352.95, 29515.99, 2802.21, 30131.89, 91195.35, 1050.34, 1084.23, 1376.32, 2668.38, 191.02, 28033.85, 15649.05, 3270.04, 148353.04, 19454.4, 661.11, 26799.78, 1415.44, 94320.2, 7785.6, 1872.06, 1898.2, 7711.71, 26210.33, 1451.89, 47292.24, 83449.35, 7618.05, 8954.33, 15491.23, 58642.62, 1260.47, 61977.96, 45261.79, 20684.85, 53102.28, 18340.86, 3783.48, 4272.16, 471.56, 7969.11, 60570.81, 19765.71, 7146.23, 51957.25, 61509.26, 34134.01, 8443.54, 7763.4, 4219.69, 114.38, 24863.45, 113564.63, 16047.84, 9216.2, 220053.96, 40455.53, 5982.01, 88732.97, 2057.52, 51605.08, 47456.22, 28580.96, 13568.52, 2554.78, 26080.89, 36297.22, 2113.3, 15660.68, 15359.86, 48693.34, 22049.91, 14267.24, 55883.47, 6797.81, 31166.81, 109721.11, 52644.38, 6886.3, 55962.25, 25206.2, 9932.02, 73667.12, 25155.21, 26447.39, 9059.41, 531.03, 182081.21, 3514.66, 5594.1, 10803.28, 56273.17, 4045.73, 8949.7, 53589.27, 9626.67, 23013.57, 13098.81, 15034.61, 32715.47, 74438.24, 55405.24, 3406.07, 34083.78, 36577.35, 15585.6, 15797.76, 712.54, 17156.52, 444.28, 82031.18, 49201.69, 16328.72, 97818.88, 19722.2, 74542.23, 434.4, 8485.72, 316.11, 63920.21, 1382.69, 41593.47, 12417.32, 16760.75, 2058.13, 38752.32, 6366.08, 17283.5, 56490.79, 32482.04, 8939.15, 56804.3, 1303.76, 134.59, 755.28, 21244.38, 2671.08, 21411.97, 20082.77, 820.56, 17323.75, 15945.03, 1896.95, 531.07, 6141.08, 27099.93, 29272.26, 3985.21, 15683.52, 20312.3, 18591.15, 329.54, 35988.54, 22071.39, 57926.86, 7664.54, 14415.81, 21031.5, 728.64, 2190.27, 15177.42, 34157.28, 17876.5, 2835.1, 2630.52, 4272.16, 26796.0, 1415.68, 14196.72, 16135.34, 20557.14, 77417.96, 35182.13, 3190.6, 20557.14, 65633.46, 48753.52, 82061.99, 10894.92, 1196.08, 16532.36, 53789.56, 26628.29, 2929.4, 1309.6, 68351.85, 55006.13, 2256.14, 24229.73, 47741.05, 31319.13, 7280.31, 46332.49, 19785.08, 84331.59, 15198.0, 8904.35, 97346.81, 26628.76, 39416.18, 1297.92, 95639.59, 2288.54, 4855.44, 1279.58, 36118.88, 68314.83, 54331.2, 165564.5, 52370.96, 124554.88, 25040.2, 39833.8, 17981.12, 3690.98, 76585.53, 70297.6, 193076.23, 39383.06, 7067.32, 39972.04, 6100.86, 38280.2, 38745.53, 14866.96, 4790.88, 12965.4, 12166.48, 2135.67, 1915.06, 49255.41, 15008.73, 1947.05, 2305.94, 20492.61, 13886.0, 20805.15, 516.72, 10405.86, 15741.46, 1354.46, 15007.06, 88135.4, 71235.1, 2208.1, 313.93, 110277.54, 1057.25, 4321.6, 19940.49, 2038.18, 44230.92, 35360.07, 14879.89, 64577.08, 4655.17, 9881.52, 56373.52, 8879.51, 24585.86, 83816.7, 27153.24, 12241.71, 10821.22, 65056.34, 6065.99, 57549.56, 30492.49, 80929.74, 26756.94, 22330.03, 27787.0, 52030.44, 46856.54, 2382.55, 21370.38, 14380.16, 3221.63, 3464.05, 173.19, 1451.69, 24322.47, 14302.98, 104845.44, 7362.99, 37378.39, 40043.48, 43182.38, 8798.4, 948.75, 100781.58, 2939.32, 13704.74, 5986.08, 60738.17, 10200.8, 736.47, 18791.24, 667.01, 18830.2, 73.79, 23062.3, 1897.5, 31947.5, 95176.27, 114437.0, 5625.41, 4174.78, 176020.51, 2199.77, 105856.08, 2134.76, 29994.0, 65475.18, 3585.7, 35.4, 4887.27, 2352.97, 58332.0, 65149.62, 9315.48, 32.36, 2570.18, 23999.7, 85418.16, 18471.9, 629.67, 113558.02, 5372.14, 99058.73, 30991.23, 76467.99, 63.46, 937.05, 64530.86, 26580.14, 24195.17, 69804.15, 3431.31, 2513.1, 14677.22, 93416.17, 67343.02, 52055.25, 35460.88, 162827.67, 1587.75, 1063.8, 13876.07, 2135.2, 18708.7, 8614.56, 6713.56, 33.18, 17713.75, 8518.44, 14667.75, 125.24, 18724.67, 14257.87, 2382.65, 2072.77, 599.76, 56711.24, 3702.21, 81428.97, 15547.59, 5765.88, 60673.33, 24329.41, 31101.12, 137475.25, 50368.96, 58495.5, 22914.71, 37501.56, 433.5, 56034.0, 14760.0, 49318.34, 12012.73, 50129.57, 69388.23, 52043.22, 37913.01, 62167.0, 39335.57, 15200.95, 11520.17, 65171.51, 17419.59, 872.4, 28596.09, 1250.73, 11704.32, 13690.11, 7277.85, 56175.29, 63016.03, 18353.93, 11053.44, 3396.77, 19436.3, 11117.15, 6143.46, 2840.83, 42177.83, 74276.35, 1696.16, 24343.38, 1907.34, 77758.26, 110902.08, 57176.5, 11276.73, 33878.43, 131829.25, 11004.48, 17396.27, 23676.42, 103.04, 495.68, 12008.64, 15467.81, 2373.96, 47921.81, 18900.99, 32317.26, 4734.53, 58796.23, 15300.17, 5226.67, 489.17, 23.04, 77265.17, 66316.67, 32052.12, 12595.33, 71762.97, 5560.46, 7067.35, 12710.61, 1980.56, 143649.72, 2534.01, 126538.4, 811.48, 17157.25, 4948.81, 230.01, 45408.02, 18669.24, 17033.43, 49877.56, 71681.95, 2212.74, 10436.4, 1481.6, 54128.57, 14516.78, 20699.17, 74725.0, 2094.27, 2822.69, 16333.42, 56856.0, 48299.43, 6099.81, 310.85, 51351.23, 33452.98, 42159.19, 87265.66, 26452.62, 67404.43, 1059.9, 57.66, 37854.83, 7914.01, 8950.59, 58849.07, 54741.96, 42115.71, 71.46, 13200.47, 19873.45, 244235.58, 1459.2, 47579.26, 98766.48, 3527.92, 17246.93, 16049.75, 16008.17, 1640.5, 7207.84, 887.19, 30213.0, 50673.56, 112403.0, 42928.1, 43582.16, 6405.59, 1077.13, 56817.5, 1914.96, 50359.99, 12948.62, 14235.25, 18810.52, 3406.45, 55905.51, 27241.83, 71.52, 58396.08, 5822.9, 9145.03, 38724.73, 89601.19, 2127.6, 167220.96, 4143.51, 4328.17, 2812.48, 2733.86, 4871.65, 104586.08, 31040.83, 30894.36, 1007.06, 99126.64, 32196.81, 43644.09, 6540.11, 104398.4, 8540.38, 70610.42, 21328.0, 41595.62, 44757.24, 2213.68, 391.85, 1038.13, 52111.14, 113177.95, 48896.1, 5727.74, 69729.99, 14500.94, 1695.68, 6728.51, 1136.16, 958.0, 26896.49, 334.5, 1459.94, 1949.38, 24411.13, 13371.24, 102.47, 14502.44, 59.16, 20927.32, 119778.88, 7398.84, 67.29, 28526.32, 103055.59, 45368.42, 59124.97, 36674.8, 79051.39, 18248.96, 21795.65, 7692.48, 95711.6, 10612.78, 336.74, 56105.25, 422.87, 37475.89, 6818.42, 76693.51, 45.08, 22938.4, 7534.24, 51450.72, 8667.52, 54713.89, 283.33, 113248.8, 12344.94, 145885.81, 2307.31, 145787.82, 42330.96, 25959.9, 9290.63, 13646.71, 3606.31, 6130.04, 104.94, 57649.02, 81536.26, 19276.26, 16437.25, 66925.46, 9450.81, 16736.84, 65718.03, 11701.8, 48740.07, 65058.99, 8934.27, 459.51, 1647.36, 5514.9, 9192.34, 2259.06, 138243.94, 30404.54, 2108.69, 9346.86, 72025.16, 59444.24, 98171.14, 145520.79, 41887.4, 3149.96, 46696.5, 35939.37, 66195.45, 31522.05, 33166.11, 65781.48, 151.85, 76555.83, 25858.0, 62859.46, 170.32, 21675.64, 13815.21, 7071.53, 13534.4, 56763.9, 30891.64, 14406.45, 151.56, 13356.06, 14650.0, 25487.55, 1610.37, 20866.48, 1443.4, 27072.15, 21517.19, 86175.1, 13182.92, 13037.68, 64.77, 1764.66, 19469.69, 2268.5, 14752.94, 1142.12, 15090.34, 3593.88, 4102.43, 7012.62, 1853.49, 600.55, 2293.96, 5727.3, 47049.78, 48923.52, 1302.4, 3561.9, 31243.32, 15643.64, 20028.31, 54151.66, 33656.56, 56176.05, 82194.9, 133.76, 76332.25, 866.17, 3270.44, 14096.71, 32550.59, 7026.8, 1412.58, 1718.07, 3087.5, 93386.81, 38732.07, 4056.77, 58308.34, 3329.51, 27.6, 1082.69, 18607.68, 348.35, 18680.5, 13624.09, 29502.18, 7656.0, 14946.21, 519.66, 187135.77, 15611.62, 36200.26, 79025.34, 130845.71, 6507.31, 7134.19, 120.14, 63424.6, 45659.18, 13114.99, 106708.7, 65168.74, 3273.31, 1897.5, 8899.71, 7009.28, 4967.06, 66128.25, 50903.37, 542.11, 132041.22, 544.82, 33729.79, 1998.64, 31.62, 84780.4, 3187.86, 6766.54, 6120.86, 63.48, 1790.3]\n"
     ]
    }
   ],
   "source": [
    "amt_list = data['total_open_amount'].tolist()\n",
    "print(amt_list)"
   ]
  },
  {
   "cell_type": "markdown",
   "id": "df899966",
   "metadata": {
    "id": "df899966"
   },
   "source": [
    "### Convert all CAD into USD currency of \"total_open_amount\" column\n",
    "\n",
    "- 1 CAD = 0.7 USD\n",
    "- Create a new column i.e \"converted_usd\" and store USD and convered CAD to USD"
   ]
  },
  {
   "cell_type": "code",
   "execution_count": 694,
   "id": "8eb2f1c5",
   "metadata": {
    "id": "8eb2f1c5"
   },
   "outputs": [],
   "source": [
    "data.loc[data[\"invoice_currency\"] == \"CAD\", \"invoice_currency\"] = 0.7\n",
    "data.loc[data[\"invoice_currency\"] == \"USD\", \"invoice_currency\"] = 1\n",
    "data[\"converted_usd\"] = data[\"invoice_currency\"] * data[\"total_open_amount\"]\n"
   ]
  },
  {
   "cell_type": "markdown",
   "id": "f9f6ef1d",
   "metadata": {
    "id": "f9f6ef1d"
   },
   "source": [
    "### Display the new \"converted_usd\" column values"
   ]
  },
  {
   "cell_type": "code",
   "execution_count": 695,
   "id": "1fc1a178",
   "metadata": {
    "id": "1fc1a178"
   },
   "outputs": [],
   "source": [
    "data['converted_usd']= data['converted_usd'].astype('float64')"
   ]
  },
  {
   "cell_type": "markdown",
   "id": "6XLXX17kayuy",
   "metadata": {
    "id": "6XLXX17kayuy"
   },
   "source": [
    "### Display year wise total number of record \n",
    "\n",
    "- Note -  use \"buisness_year\" column for this "
   ]
  },
  {
   "cell_type": "code",
   "execution_count": 696,
   "id": "00c9f6ee",
   "metadata": {
    "colab": {
     "base_uri": "https://localhost:8080/"
    },
    "id": "00c9f6ee",
    "outputId": "1e8fc272-994c-4abf-e612-48ebae2d75dd"
   },
   "outputs": [
    {
     "data": {
      "text/plain": [
       "buisness_year\n",
       "2019.0    33975\n",
       "2020.0    14864\n",
       "Name: buisness_year, dtype: int64"
      ]
     },
     "execution_count": 696,
     "metadata": {},
     "output_type": "execute_result"
    }
   ],
   "source": [
    "data['buisness_year'].groupby([data.buisness_year]).agg('count')"
   ]
  },
  {
   "cell_type": "markdown",
   "id": "05c35904",
   "metadata": {
    "id": "05c35904"
   },
   "source": [
    "### Write the code to delete the following columns \n",
    "\n",
    "- 'invoice_currency'\n",
    "- 'total_open_amount', "
   ]
  },
  {
   "cell_type": "code",
   "execution_count": 697,
   "id": "4ac28aa5",
   "metadata": {
    "colab": {
     "base_uri": "https://localhost:8080/"
    },
    "id": "4ac28aa5",
    "outputId": "b9e5a266-cee3-49af-cf2c-ec774324dac1"
   },
   "outputs": [
    {
     "name": "stdout",
     "output_type": "stream",
     "text": [
      "Columns Dropped\n"
     ]
    }
   ],
   "source": [
    "data = data.drop(['invoice_currency','total_open_amount'],axis=1)\n",
    "print(\"Columns Dropped\")\n"
   ]
  },
  {
   "cell_type": "markdown",
   "id": "bDBJ_Kvwc086",
   "metadata": {
    "id": "bDBJ_Kvwc086"
   },
   "source": [
    "### Write a code to check the number of columns in dataframe"
   ]
  },
  {
   "cell_type": "code",
   "execution_count": 698,
   "id": "ea360a8c",
   "metadata": {
    "colab": {
     "base_uri": "https://localhost:8080/"
    },
    "id": "ea360a8c",
    "outputId": "d00db7fa-649c-48c9-9dc0-53ce6a1bb5d0"
   },
   "outputs": [
    {
     "name": "stdout",
     "output_type": "stream",
     "text": [
      "11\n"
     ]
    }
   ],
   "source": [
    "print(len(data.columns.tolist()))"
   ]
  },
  {
   "cell_type": "markdown",
   "id": "b8f63655",
   "metadata": {
    "id": "b8f63655"
   },
   "source": [
    "# Splitting the Dataset "
   ]
  },
  {
   "cell_type": "markdown",
   "id": "a00f749d",
   "metadata": {
    "id": "a00f749d"
   },
   "source": [
    "### Look for all columns containing null value\n",
    "\n",
    "- Note - Output expected is only one column "
   ]
  },
  {
   "cell_type": "code",
   "execution_count": 699,
   "id": "148c801e",
   "metadata": {
    "colab": {
     "base_uri": "https://localhost:8080/"
    },
    "id": "148c801e",
    "outputId": "03d778f3-be96-464c-a524-a934d2dafa07"
   },
   "outputs": [
    {
     "data": {
      "text/plain": [
       "['clear_date']"
      ]
     },
     "execution_count": 699,
     "metadata": {},
     "output_type": "execute_result"
    }
   ],
   "source": [
    "data.columns[data.isnull().any()].tolist()"
   ]
  },
  {
   "cell_type": "markdown",
   "id": "a094a290",
   "metadata": {
    "id": "a094a290"
   },
   "source": [
    "#### Find out the number of null values from the column that you got from the above code"
   ]
  },
  {
   "cell_type": "code",
   "execution_count": 700,
   "id": "30bfb113",
   "metadata": {
    "colab": {
     "base_uri": "https://localhost:8080/"
    },
    "id": "30bfb113",
    "outputId": "ebd00a2b-db50-467c-9ee9-225b5cc21f3b"
   },
   "outputs": [
    {
     "data": {
      "text/plain": [
       "9681"
      ]
     },
     "execution_count": 700,
     "metadata": {},
     "output_type": "execute_result"
    }
   ],
   "source": [
    "data['clear_date'].isnull().sum()"
   ]
  },
  {
   "cell_type": "markdown",
   "id": "7f6d939b",
   "metadata": {
    "id": "7f6d939b"
   },
   "source": [
    "### On basis of the above column we are spliting data into dataset\n",
    "\n",
    "- First dataframe (refer that as maindata) only containing the rows, that have NO NULL data in that column ( This is going to be our train dataset ) \n",
    "- Second dataframe (refer that as nulldata) that contains the columns, that have Null data in that column ( This is going to be our test dataset ) "
   ]
  },
  {
   "cell_type": "code",
   "execution_count": 701,
   "id": "c8764c33",
   "metadata": {
    "colab": {
     "base_uri": "https://localhost:8080/",
     "height": 423
    },
    "id": "c8764c33",
    "outputId": "7e68c43c-f1a1-4f8c-8d8e-a2d3593d81c1"
   },
   "outputs": [
    {
     "data": {
      "text/html": [
       "\n",
       "  <div id=\"df-d9a15d07-d392-4b0d-9d99-1fda3e86fed1\">\n",
       "    <div class=\"colab-df-container\">\n",
       "      <div>\n",
       "<style scoped>\n",
       "    .dataframe tbody tr th:only-of-type {\n",
       "        vertical-align: middle;\n",
       "    }\n",
       "\n",
       "    .dataframe tbody tr th {\n",
       "        vertical-align: top;\n",
       "    }\n",
       "\n",
       "    .dataframe thead th {\n",
       "        text-align: right;\n",
       "    }\n",
       "</style>\n",
       "<table border=\"1\" class=\"dataframe\">\n",
       "  <thead>\n",
       "    <tr style=\"text-align: right;\">\n",
       "      <th></th>\n",
       "      <th>business_code</th>\n",
       "      <th>cust_number</th>\n",
       "      <th>name_customer</th>\n",
       "      <th>clear_date</th>\n",
       "      <th>buisness_year</th>\n",
       "      <th>doc_id</th>\n",
       "      <th>posting_date</th>\n",
       "      <th>due_in_date</th>\n",
       "      <th>baseline_create_date</th>\n",
       "      <th>cust_payment_terms</th>\n",
       "      <th>converted_usd</th>\n",
       "    </tr>\n",
       "  </thead>\n",
       "  <tbody>\n",
       "    <tr>\n",
       "      <th>0</th>\n",
       "      <td>U001</td>\n",
       "      <td>0200769623</td>\n",
       "      <td>WAL-MAR corp</td>\n",
       "      <td>2020-02-11</td>\n",
       "      <td>2020.0</td>\n",
       "      <td>1.930438e+09</td>\n",
       "      <td>2020-01-26</td>\n",
       "      <td>2020-02-10</td>\n",
       "      <td>2020-01-26</td>\n",
       "      <td>NAH4</td>\n",
       "      <td>54273.280</td>\n",
       "    </tr>\n",
       "    <tr>\n",
       "      <th>1</th>\n",
       "      <td>U001</td>\n",
       "      <td>0200980828</td>\n",
       "      <td>BEN E</td>\n",
       "      <td>2019-08-08</td>\n",
       "      <td>2019.0</td>\n",
       "      <td>1.929646e+09</td>\n",
       "      <td>2019-07-22</td>\n",
       "      <td>2019-08-11</td>\n",
       "      <td>2019-07-22</td>\n",
       "      <td>NAD1</td>\n",
       "      <td>79656.600</td>\n",
       "    </tr>\n",
       "    <tr>\n",
       "      <th>2</th>\n",
       "      <td>U001</td>\n",
       "      <td>0200792734</td>\n",
       "      <td>MDV/ trust</td>\n",
       "      <td>2019-12-30</td>\n",
       "      <td>2019.0</td>\n",
       "      <td>1.929874e+09</td>\n",
       "      <td>2019-09-14</td>\n",
       "      <td>2019-09-29</td>\n",
       "      <td>2019-09-14</td>\n",
       "      <td>NAA8</td>\n",
       "      <td>2253.860</td>\n",
       "    </tr>\n",
       "    <tr>\n",
       "      <th>4</th>\n",
       "      <td>U001</td>\n",
       "      <td>0200769623</td>\n",
       "      <td>WAL-MAR foundation</td>\n",
       "      <td>2019-11-25</td>\n",
       "      <td>2019.0</td>\n",
       "      <td>1.930148e+09</td>\n",
       "      <td>2019-11-13</td>\n",
       "      <td>2019-11-28</td>\n",
       "      <td>2019-11-13</td>\n",
       "      <td>NAH4</td>\n",
       "      <td>33133.290</td>\n",
       "    </tr>\n",
       "    <tr>\n",
       "      <th>5</th>\n",
       "      <td>CA02</td>\n",
       "      <td>0140106181</td>\n",
       "      <td>THE  corporation</td>\n",
       "      <td>2019-12-04</td>\n",
       "      <td>2019.0</td>\n",
       "      <td>2.960581e+09</td>\n",
       "      <td>2019-09-20</td>\n",
       "      <td>2019-10-04</td>\n",
       "      <td>2019-09-24</td>\n",
       "      <td>CA10</td>\n",
       "      <td>15558.088</td>\n",
       "    </tr>\n",
       "    <tr>\n",
       "      <th>...</th>\n",
       "      <td>...</td>\n",
       "      <td>...</td>\n",
       "      <td>...</td>\n",
       "      <td>...</td>\n",
       "      <td>...</td>\n",
       "      <td>...</td>\n",
       "      <td>...</td>\n",
       "      <td>...</td>\n",
       "      <td>...</td>\n",
       "      <td>...</td>\n",
       "      <td>...</td>\n",
       "    </tr>\n",
       "    <tr>\n",
       "      <th>49994</th>\n",
       "      <td>U001</td>\n",
       "      <td>0200762301</td>\n",
       "      <td>C&amp;S WH trust</td>\n",
       "      <td>2019-07-25</td>\n",
       "      <td>2019.0</td>\n",
       "      <td>1.929601e+09</td>\n",
       "      <td>2019-07-10</td>\n",
       "      <td>2019-07-25</td>\n",
       "      <td>2019-07-10</td>\n",
       "      <td>NAC6</td>\n",
       "      <td>84780.400</td>\n",
       "    </tr>\n",
       "    <tr>\n",
       "      <th>49996</th>\n",
       "      <td>U001</td>\n",
       "      <td>0200769623</td>\n",
       "      <td>WAL-MAR co</td>\n",
       "      <td>2019-09-03</td>\n",
       "      <td>2019.0</td>\n",
       "      <td>1.929744e+09</td>\n",
       "      <td>2019-08-15</td>\n",
       "      <td>2019-08-30</td>\n",
       "      <td>2019-08-15</td>\n",
       "      <td>NAH4</td>\n",
       "      <td>6766.540</td>\n",
       "    </tr>\n",
       "    <tr>\n",
       "      <th>49997</th>\n",
       "      <td>U001</td>\n",
       "      <td>0200772595</td>\n",
       "      <td>SAFEW associates</td>\n",
       "      <td>2020-03-05</td>\n",
       "      <td>2020.0</td>\n",
       "      <td>1.930537e+09</td>\n",
       "      <td>2020-02-19</td>\n",
       "      <td>2020-03-05</td>\n",
       "      <td>2020-02-19</td>\n",
       "      <td>NAA8</td>\n",
       "      <td>6120.860</td>\n",
       "    </tr>\n",
       "    <tr>\n",
       "      <th>49998</th>\n",
       "      <td>U001</td>\n",
       "      <td>0200726979</td>\n",
       "      <td>BJ'S  llc</td>\n",
       "      <td>2019-12-12</td>\n",
       "      <td>2019.0</td>\n",
       "      <td>1.930199e+09</td>\n",
       "      <td>2019-11-27</td>\n",
       "      <td>2019-12-12</td>\n",
       "      <td>2019-11-27</td>\n",
       "      <td>NAA8</td>\n",
       "      <td>63.480</td>\n",
       "    </tr>\n",
       "    <tr>\n",
       "      <th>49999</th>\n",
       "      <td>U001</td>\n",
       "      <td>0200020431</td>\n",
       "      <td>DEC corp</td>\n",
       "      <td>2019-01-15</td>\n",
       "      <td>2019.0</td>\n",
       "      <td>1.928576e+09</td>\n",
       "      <td>2019-01-05</td>\n",
       "      <td>2019-01-24</td>\n",
       "      <td>2019-01-01</td>\n",
       "      <td>NAM4</td>\n",
       "      <td>1790.300</td>\n",
       "    </tr>\n",
       "  </tbody>\n",
       "</table>\n",
       "<p>39158 rows × 11 columns</p>\n",
       "</div>\n",
       "      <button class=\"colab-df-convert\" onclick=\"convertToInteractive('df-d9a15d07-d392-4b0d-9d99-1fda3e86fed1')\"\n",
       "              title=\"Convert this dataframe to an interactive table.\"\n",
       "              style=\"display:none;\">\n",
       "        \n",
       "  <svg xmlns=\"http://www.w3.org/2000/svg\" height=\"24px\"viewBox=\"0 0 24 24\"\n",
       "       width=\"24px\">\n",
       "    <path d=\"M0 0h24v24H0V0z\" fill=\"none\"/>\n",
       "    <path d=\"M18.56 5.44l.94 2.06.94-2.06 2.06-.94-2.06-.94-.94-2.06-.94 2.06-2.06.94zm-11 1L8.5 8.5l.94-2.06 2.06-.94-2.06-.94L8.5 2.5l-.94 2.06-2.06.94zm10 10l.94 2.06.94-2.06 2.06-.94-2.06-.94-.94-2.06-.94 2.06-2.06.94z\"/><path d=\"M17.41 7.96l-1.37-1.37c-.4-.4-.92-.59-1.43-.59-.52 0-1.04.2-1.43.59L10.3 9.45l-7.72 7.72c-.78.78-.78 2.05 0 2.83L4 21.41c.39.39.9.59 1.41.59.51 0 1.02-.2 1.41-.59l7.78-7.78 2.81-2.81c.8-.78.8-2.07 0-2.86zM5.41 20L4 18.59l7.72-7.72 1.47 1.35L5.41 20z\"/>\n",
       "  </svg>\n",
       "      </button>\n",
       "      \n",
       "  <style>\n",
       "    .colab-df-container {\n",
       "      display:flex;\n",
       "      flex-wrap:wrap;\n",
       "      gap: 12px;\n",
       "    }\n",
       "\n",
       "    .colab-df-convert {\n",
       "      background-color: #E8F0FE;\n",
       "      border: none;\n",
       "      border-radius: 50%;\n",
       "      cursor: pointer;\n",
       "      display: none;\n",
       "      fill: #1967D2;\n",
       "      height: 32px;\n",
       "      padding: 0 0 0 0;\n",
       "      width: 32px;\n",
       "    }\n",
       "\n",
       "    .colab-df-convert:hover {\n",
       "      background-color: #E2EBFA;\n",
       "      box-shadow: 0px 1px 2px rgba(60, 64, 67, 0.3), 0px 1px 3px 1px rgba(60, 64, 67, 0.15);\n",
       "      fill: #174EA6;\n",
       "    }\n",
       "\n",
       "    [theme=dark] .colab-df-convert {\n",
       "      background-color: #3B4455;\n",
       "      fill: #D2E3FC;\n",
       "    }\n",
       "\n",
       "    [theme=dark] .colab-df-convert:hover {\n",
       "      background-color: #434B5C;\n",
       "      box-shadow: 0px 1px 3px 1px rgba(0, 0, 0, 0.15);\n",
       "      filter: drop-shadow(0px 1px 2px rgba(0, 0, 0, 0.3));\n",
       "      fill: #FFFFFF;\n",
       "    }\n",
       "  </style>\n",
       "\n",
       "      <script>\n",
       "        const buttonEl =\n",
       "          document.querySelector('#df-d9a15d07-d392-4b0d-9d99-1fda3e86fed1 button.colab-df-convert');\n",
       "        buttonEl.style.display =\n",
       "          google.colab.kernel.accessAllowed ? 'block' : 'none';\n",
       "\n",
       "        async function convertToInteractive(key) {\n",
       "          const element = document.querySelector('#df-d9a15d07-d392-4b0d-9d99-1fda3e86fed1');\n",
       "          const dataTable =\n",
       "            await google.colab.kernel.invokeFunction('convertToInteractive',\n",
       "                                                     [key], {});\n",
       "          if (!dataTable) return;\n",
       "\n",
       "          const docLinkHtml = 'Like what you see? Visit the ' +\n",
       "            '<a target=\"_blank\" href=https://colab.research.google.com/notebooks/data_table.ipynb>data table notebook</a>'\n",
       "            + ' to learn more about interactive tables.';\n",
       "          element.innerHTML = '';\n",
       "          dataTable['output_type'] = 'display_data';\n",
       "          await google.colab.output.renderOutput(dataTable, element);\n",
       "          const docLink = document.createElement('div');\n",
       "          docLink.innerHTML = docLinkHtml;\n",
       "          element.appendChild(docLink);\n",
       "        }\n",
       "      </script>\n",
       "    </div>\n",
       "  </div>\n",
       "  "
      ],
      "text/plain": [
       "      business_code cust_number  ... cust_payment_terms converted_usd\n",
       "0              U001  0200769623  ...               NAH4     54273.280\n",
       "1              U001  0200980828  ...               NAD1     79656.600\n",
       "2              U001  0200792734  ...               NAA8      2253.860\n",
       "4              U001  0200769623  ...               NAH4     33133.290\n",
       "5              CA02  0140106181  ...               CA10     15558.088\n",
       "...             ...         ...  ...                ...           ...\n",
       "49994          U001  0200762301  ...               NAC6     84780.400\n",
       "49996          U001  0200769623  ...               NAH4      6766.540\n",
       "49997          U001  0200772595  ...               NAA8      6120.860\n",
       "49998          U001  0200726979  ...               NAA8        63.480\n",
       "49999          U001  0200020431  ...               NAM4      1790.300\n",
       "\n",
       "[39158 rows x 11 columns]"
      ]
     },
     "execution_count": 701,
     "metadata": {},
     "output_type": "execute_result"
    }
   ],
   "source": [
    "maindata = data[data['clear_date'].isna() == False]\n",
    "maindata\n"
   ]
  },
  {
   "cell_type": "code",
   "execution_count": 702,
   "id": "5TQedrfnEv9J",
   "metadata": {
    "colab": {
     "base_uri": "https://localhost:8080/",
     "height": 423
    },
    "id": "5TQedrfnEv9J",
    "outputId": "7b401580-cc7e-43eb-dba7-0bd2bfdf1b4c"
   },
   "outputs": [
    {
     "data": {
      "text/html": [
       "\n",
       "  <div id=\"df-5e245c53-9476-49ac-b9a4-404ca02c23e8\">\n",
       "    <div class=\"colab-df-container\">\n",
       "      <div>\n",
       "<style scoped>\n",
       "    .dataframe tbody tr th:only-of-type {\n",
       "        vertical-align: middle;\n",
       "    }\n",
       "\n",
       "    .dataframe tbody tr th {\n",
       "        vertical-align: top;\n",
       "    }\n",
       "\n",
       "    .dataframe thead th {\n",
       "        text-align: right;\n",
       "    }\n",
       "</style>\n",
       "<table border=\"1\" class=\"dataframe\">\n",
       "  <thead>\n",
       "    <tr style=\"text-align: right;\">\n",
       "      <th></th>\n",
       "      <th>business_code</th>\n",
       "      <th>cust_number</th>\n",
       "      <th>name_customer</th>\n",
       "      <th>clear_date</th>\n",
       "      <th>buisness_year</th>\n",
       "      <th>doc_id</th>\n",
       "      <th>posting_date</th>\n",
       "      <th>due_in_date</th>\n",
       "      <th>baseline_create_date</th>\n",
       "      <th>cust_payment_terms</th>\n",
       "      <th>converted_usd</th>\n",
       "    </tr>\n",
       "  </thead>\n",
       "  <tbody>\n",
       "    <tr>\n",
       "      <th>3</th>\n",
       "      <td>CA02</td>\n",
       "      <td>0140105686</td>\n",
       "      <td>SYSC llc</td>\n",
       "      <td>NaT</td>\n",
       "      <td>2020.0</td>\n",
       "      <td>2.960623e+09</td>\n",
       "      <td>2020-03-30</td>\n",
       "      <td>2020-04-10</td>\n",
       "      <td>2020-03-31</td>\n",
       "      <td>CA10</td>\n",
       "      <td>2309.79</td>\n",
       "    </tr>\n",
       "    <tr>\n",
       "      <th>7</th>\n",
       "      <td>U001</td>\n",
       "      <td>0200744019</td>\n",
       "      <td>TARG us</td>\n",
       "      <td>NaT</td>\n",
       "      <td>2020.0</td>\n",
       "      <td>1.930659e+09</td>\n",
       "      <td>2020-03-19</td>\n",
       "      <td>2020-04-03</td>\n",
       "      <td>2020-03-19</td>\n",
       "      <td>NAA8</td>\n",
       "      <td>11173.02</td>\n",
       "    </tr>\n",
       "    <tr>\n",
       "      <th>10</th>\n",
       "      <td>U001</td>\n",
       "      <td>0200418007</td>\n",
       "      <td>AM</td>\n",
       "      <td>NaT</td>\n",
       "      <td>2020.0</td>\n",
       "      <td>1.930611e+09</td>\n",
       "      <td>2020-03-11</td>\n",
       "      <td>2020-03-26</td>\n",
       "      <td>2020-03-11</td>\n",
       "      <td>NAA8</td>\n",
       "      <td>3525.59</td>\n",
       "    </tr>\n",
       "    <tr>\n",
       "      <th>14</th>\n",
       "      <td>U001</td>\n",
       "      <td>0200739534</td>\n",
       "      <td>OK systems</td>\n",
       "      <td>NaT</td>\n",
       "      <td>2020.0</td>\n",
       "      <td>1.930788e+09</td>\n",
       "      <td>2020-04-15</td>\n",
       "      <td>2020-04-30</td>\n",
       "      <td>2020-04-15</td>\n",
       "      <td>NAA8</td>\n",
       "      <td>121105.65</td>\n",
       "    </tr>\n",
       "    <tr>\n",
       "      <th>15</th>\n",
       "      <td>U001</td>\n",
       "      <td>0200353024</td>\n",
       "      <td>DECA corporation</td>\n",
       "      <td>NaT</td>\n",
       "      <td>2020.0</td>\n",
       "      <td>1.930817e+09</td>\n",
       "      <td>2020-04-23</td>\n",
       "      <td>2020-04-26</td>\n",
       "      <td>2020-04-16</td>\n",
       "      <td>NAM2</td>\n",
       "      <td>3726.06</td>\n",
       "    </tr>\n",
       "    <tr>\n",
       "      <th>...</th>\n",
       "      <td>...</td>\n",
       "      <td>...</td>\n",
       "      <td>...</td>\n",
       "      <td>...</td>\n",
       "      <td>...</td>\n",
       "      <td>...</td>\n",
       "      <td>...</td>\n",
       "      <td>...</td>\n",
       "      <td>...</td>\n",
       "      <td>...</td>\n",
       "      <td>...</td>\n",
       "    </tr>\n",
       "    <tr>\n",
       "      <th>49975</th>\n",
       "      <td>U001</td>\n",
       "      <td>0200769623</td>\n",
       "      <td>WAL-MAR in</td>\n",
       "      <td>NaT</td>\n",
       "      <td>2020.0</td>\n",
       "      <td>1.930625e+09</td>\n",
       "      <td>2020-03-10</td>\n",
       "      <td>2020-03-25</td>\n",
       "      <td>2020-03-10</td>\n",
       "      <td>NAH4</td>\n",
       "      <td>13114.99</td>\n",
       "    </tr>\n",
       "    <tr>\n",
       "      <th>49980</th>\n",
       "      <td>U001</td>\n",
       "      <td>0200769623</td>\n",
       "      <td>WAL-MAR corporation</td>\n",
       "      <td>NaT</td>\n",
       "      <td>2020.0</td>\n",
       "      <td>1.930851e+09</td>\n",
       "      <td>2020-05-03</td>\n",
       "      <td>2020-05-18</td>\n",
       "      <td>2020-05-03</td>\n",
       "      <td>NAH4</td>\n",
       "      <td>8899.71</td>\n",
       "    </tr>\n",
       "    <tr>\n",
       "      <th>49982</th>\n",
       "      <td>U001</td>\n",
       "      <td>0200148860</td>\n",
       "      <td>DOLLA co</td>\n",
       "      <td>NaT</td>\n",
       "      <td>2020.0</td>\n",
       "      <td>1.930638e+09</td>\n",
       "      <td>2020-03-11</td>\n",
       "      <td>2020-03-26</td>\n",
       "      <td>2020-03-11</td>\n",
       "      <td>NAA8</td>\n",
       "      <td>4967.06</td>\n",
       "    </tr>\n",
       "    <tr>\n",
       "      <th>49992</th>\n",
       "      <td>U001</td>\n",
       "      <td>0200900909</td>\n",
       "      <td>SYSCO co</td>\n",
       "      <td>NaT</td>\n",
       "      <td>2020.0</td>\n",
       "      <td>1.930702e+09</td>\n",
       "      <td>2020-03-25</td>\n",
       "      <td>2020-04-09</td>\n",
       "      <td>2020-03-25</td>\n",
       "      <td>NAA8</td>\n",
       "      <td>1998.64</td>\n",
       "    </tr>\n",
       "    <tr>\n",
       "      <th>49995</th>\n",
       "      <td>U001</td>\n",
       "      <td>0200561861</td>\n",
       "      <td>CO corporation</td>\n",
       "      <td>NaT</td>\n",
       "      <td>2020.0</td>\n",
       "      <td>1.930797e+09</td>\n",
       "      <td>2020-04-21</td>\n",
       "      <td>2020-05-06</td>\n",
       "      <td>2020-04-21</td>\n",
       "      <td>NAA8</td>\n",
       "      <td>3187.86</td>\n",
       "    </tr>\n",
       "  </tbody>\n",
       "</table>\n",
       "<p>9681 rows × 11 columns</p>\n",
       "</div>\n",
       "      <button class=\"colab-df-convert\" onclick=\"convertToInteractive('df-5e245c53-9476-49ac-b9a4-404ca02c23e8')\"\n",
       "              title=\"Convert this dataframe to an interactive table.\"\n",
       "              style=\"display:none;\">\n",
       "        \n",
       "  <svg xmlns=\"http://www.w3.org/2000/svg\" height=\"24px\"viewBox=\"0 0 24 24\"\n",
       "       width=\"24px\">\n",
       "    <path d=\"M0 0h24v24H0V0z\" fill=\"none\"/>\n",
       "    <path d=\"M18.56 5.44l.94 2.06.94-2.06 2.06-.94-2.06-.94-.94-2.06-.94 2.06-2.06.94zm-11 1L8.5 8.5l.94-2.06 2.06-.94-2.06-.94L8.5 2.5l-.94 2.06-2.06.94zm10 10l.94 2.06.94-2.06 2.06-.94-2.06-.94-.94-2.06-.94 2.06-2.06.94z\"/><path d=\"M17.41 7.96l-1.37-1.37c-.4-.4-.92-.59-1.43-.59-.52 0-1.04.2-1.43.59L10.3 9.45l-7.72 7.72c-.78.78-.78 2.05 0 2.83L4 21.41c.39.39.9.59 1.41.59.51 0 1.02-.2 1.41-.59l7.78-7.78 2.81-2.81c.8-.78.8-2.07 0-2.86zM5.41 20L4 18.59l7.72-7.72 1.47 1.35L5.41 20z\"/>\n",
       "  </svg>\n",
       "      </button>\n",
       "      \n",
       "  <style>\n",
       "    .colab-df-container {\n",
       "      display:flex;\n",
       "      flex-wrap:wrap;\n",
       "      gap: 12px;\n",
       "    }\n",
       "\n",
       "    .colab-df-convert {\n",
       "      background-color: #E8F0FE;\n",
       "      border: none;\n",
       "      border-radius: 50%;\n",
       "      cursor: pointer;\n",
       "      display: none;\n",
       "      fill: #1967D2;\n",
       "      height: 32px;\n",
       "      padding: 0 0 0 0;\n",
       "      width: 32px;\n",
       "    }\n",
       "\n",
       "    .colab-df-convert:hover {\n",
       "      background-color: #E2EBFA;\n",
       "      box-shadow: 0px 1px 2px rgba(60, 64, 67, 0.3), 0px 1px 3px 1px rgba(60, 64, 67, 0.15);\n",
       "      fill: #174EA6;\n",
       "    }\n",
       "\n",
       "    [theme=dark] .colab-df-convert {\n",
       "      background-color: #3B4455;\n",
       "      fill: #D2E3FC;\n",
       "    }\n",
       "\n",
       "    [theme=dark] .colab-df-convert:hover {\n",
       "      background-color: #434B5C;\n",
       "      box-shadow: 0px 1px 3px 1px rgba(0, 0, 0, 0.15);\n",
       "      filter: drop-shadow(0px 1px 2px rgba(0, 0, 0, 0.3));\n",
       "      fill: #FFFFFF;\n",
       "    }\n",
       "  </style>\n",
       "\n",
       "      <script>\n",
       "        const buttonEl =\n",
       "          document.querySelector('#df-5e245c53-9476-49ac-b9a4-404ca02c23e8 button.colab-df-convert');\n",
       "        buttonEl.style.display =\n",
       "          google.colab.kernel.accessAllowed ? 'block' : 'none';\n",
       "\n",
       "        async function convertToInteractive(key) {\n",
       "          const element = document.querySelector('#df-5e245c53-9476-49ac-b9a4-404ca02c23e8');\n",
       "          const dataTable =\n",
       "            await google.colab.kernel.invokeFunction('convertToInteractive',\n",
       "                                                     [key], {});\n",
       "          if (!dataTable) return;\n",
       "\n",
       "          const docLinkHtml = 'Like what you see? Visit the ' +\n",
       "            '<a target=\"_blank\" href=https://colab.research.google.com/notebooks/data_table.ipynb>data table notebook</a>'\n",
       "            + ' to learn more about interactive tables.';\n",
       "          element.innerHTML = '';\n",
       "          dataTable['output_type'] = 'display_data';\n",
       "          await google.colab.output.renderOutput(dataTable, element);\n",
       "          const docLink = document.createElement('div');\n",
       "          docLink.innerHTML = docLinkHtml;\n",
       "          element.appendChild(docLink);\n",
       "        }\n",
       "      </script>\n",
       "    </div>\n",
       "  </div>\n",
       "  "
      ],
      "text/plain": [
       "      business_code cust_number  ... cust_payment_terms converted_usd\n",
       "3              CA02  0140105686  ...               CA10       2309.79\n",
       "7              U001  0200744019  ...               NAA8      11173.02\n",
       "10             U001  0200418007  ...               NAA8       3525.59\n",
       "14             U001  0200739534  ...               NAA8     121105.65\n",
       "15             U001  0200353024  ...               NAM2       3726.06\n",
       "...             ...         ...  ...                ...           ...\n",
       "49975          U001  0200769623  ...               NAH4      13114.99\n",
       "49980          U001  0200769623  ...               NAH4       8899.71\n",
       "49982          U001  0200148860  ...               NAA8       4967.06\n",
       "49992          U001  0200900909  ...               NAA8       1998.64\n",
       "49995          U001  0200561861  ...               NAA8       3187.86\n",
       "\n",
       "[9681 rows x 11 columns]"
      ]
     },
     "execution_count": 702,
     "metadata": {},
     "output_type": "execute_result"
    }
   ],
   "source": [
    "nulldata = data[data['clear_date'].isna() == True]\n",
    "nulldata"
   ]
  },
  {
   "cell_type": "markdown",
   "id": "3P8riRBHd_r6",
   "metadata": {
    "id": "3P8riRBHd_r6"
   },
   "source": [
    "### Check the number of Rows and Columns for both the dataframes "
   ]
  },
  {
   "cell_type": "code",
   "execution_count": 703,
   "id": "0693a464",
   "metadata": {
    "colab": {
     "base_uri": "https://localhost:8080/"
    },
    "id": "0693a464",
    "outputId": "ce6b3a52-763f-473b-8ec2-6ffbb6907f88"
   },
   "outputs": [
    {
     "data": {
      "text/plain": [
       "(39158, 11)"
      ]
     },
     "execution_count": 703,
     "metadata": {},
     "output_type": "execute_result"
    }
   ],
   "source": [
    "maindata.shape\n"
   ]
  },
  {
   "cell_type": "code",
   "execution_count": 704,
   "id": "7f86bc74",
   "metadata": {
    "colab": {
     "base_uri": "https://localhost:8080/"
    },
    "id": "7f86bc74",
    "outputId": "e829f57d-b968-47fe-8d09-90a905e4aeee"
   },
   "outputs": [
    {
     "data": {
      "text/plain": [
       "(9681, 11)"
      ]
     },
     "execution_count": 704,
     "metadata": {},
     "output_type": "execute_result"
    }
   ],
   "source": [
    "nulldata.shape"
   ]
  },
  {
   "cell_type": "markdown",
   "id": "0747165d",
   "metadata": {
    "id": "0747165d"
   },
   "source": [
    "### Display the 5 records from maindata and nulldata dataframes"
   ]
  },
  {
   "cell_type": "code",
   "execution_count": 705,
   "id": "dec2ec36",
   "metadata": {
    "colab": {
     "base_uri": "https://localhost:8080/",
     "height": 206
    },
    "id": "dec2ec36",
    "outputId": "ba30347b-5d03-4862-9074-3a0d6a5106aa"
   },
   "outputs": [
    {
     "data": {
      "text/html": [
       "\n",
       "  <div id=\"df-d352e016-211d-4f01-bb50-b188721acf0a\">\n",
       "    <div class=\"colab-df-container\">\n",
       "      <div>\n",
       "<style scoped>\n",
       "    .dataframe tbody tr th:only-of-type {\n",
       "        vertical-align: middle;\n",
       "    }\n",
       "\n",
       "    .dataframe tbody tr th {\n",
       "        vertical-align: top;\n",
       "    }\n",
       "\n",
       "    .dataframe thead th {\n",
       "        text-align: right;\n",
       "    }\n",
       "</style>\n",
       "<table border=\"1\" class=\"dataframe\">\n",
       "  <thead>\n",
       "    <tr style=\"text-align: right;\">\n",
       "      <th></th>\n",
       "      <th>business_code</th>\n",
       "      <th>cust_number</th>\n",
       "      <th>name_customer</th>\n",
       "      <th>clear_date</th>\n",
       "      <th>buisness_year</th>\n",
       "      <th>doc_id</th>\n",
       "      <th>posting_date</th>\n",
       "      <th>due_in_date</th>\n",
       "      <th>baseline_create_date</th>\n",
       "      <th>cust_payment_terms</th>\n",
       "      <th>converted_usd</th>\n",
       "    </tr>\n",
       "  </thead>\n",
       "  <tbody>\n",
       "    <tr>\n",
       "      <th>0</th>\n",
       "      <td>U001</td>\n",
       "      <td>0200769623</td>\n",
       "      <td>WAL-MAR corp</td>\n",
       "      <td>2020-02-11</td>\n",
       "      <td>2020.0</td>\n",
       "      <td>1.930438e+09</td>\n",
       "      <td>2020-01-26</td>\n",
       "      <td>2020-02-10</td>\n",
       "      <td>2020-01-26</td>\n",
       "      <td>NAH4</td>\n",
       "      <td>54273.280</td>\n",
       "    </tr>\n",
       "    <tr>\n",
       "      <th>1</th>\n",
       "      <td>U001</td>\n",
       "      <td>0200980828</td>\n",
       "      <td>BEN E</td>\n",
       "      <td>2019-08-08</td>\n",
       "      <td>2019.0</td>\n",
       "      <td>1.929646e+09</td>\n",
       "      <td>2019-07-22</td>\n",
       "      <td>2019-08-11</td>\n",
       "      <td>2019-07-22</td>\n",
       "      <td>NAD1</td>\n",
       "      <td>79656.600</td>\n",
       "    </tr>\n",
       "    <tr>\n",
       "      <th>2</th>\n",
       "      <td>U001</td>\n",
       "      <td>0200792734</td>\n",
       "      <td>MDV/ trust</td>\n",
       "      <td>2019-12-30</td>\n",
       "      <td>2019.0</td>\n",
       "      <td>1.929874e+09</td>\n",
       "      <td>2019-09-14</td>\n",
       "      <td>2019-09-29</td>\n",
       "      <td>2019-09-14</td>\n",
       "      <td>NAA8</td>\n",
       "      <td>2253.860</td>\n",
       "    </tr>\n",
       "    <tr>\n",
       "      <th>4</th>\n",
       "      <td>U001</td>\n",
       "      <td>0200769623</td>\n",
       "      <td>WAL-MAR foundation</td>\n",
       "      <td>2019-11-25</td>\n",
       "      <td>2019.0</td>\n",
       "      <td>1.930148e+09</td>\n",
       "      <td>2019-11-13</td>\n",
       "      <td>2019-11-28</td>\n",
       "      <td>2019-11-13</td>\n",
       "      <td>NAH4</td>\n",
       "      <td>33133.290</td>\n",
       "    </tr>\n",
       "    <tr>\n",
       "      <th>5</th>\n",
       "      <td>CA02</td>\n",
       "      <td>0140106181</td>\n",
       "      <td>THE  corporation</td>\n",
       "      <td>2019-12-04</td>\n",
       "      <td>2019.0</td>\n",
       "      <td>2.960581e+09</td>\n",
       "      <td>2019-09-20</td>\n",
       "      <td>2019-10-04</td>\n",
       "      <td>2019-09-24</td>\n",
       "      <td>CA10</td>\n",
       "      <td>15558.088</td>\n",
       "    </tr>\n",
       "  </tbody>\n",
       "</table>\n",
       "</div>\n",
       "      <button class=\"colab-df-convert\" onclick=\"convertToInteractive('df-d352e016-211d-4f01-bb50-b188721acf0a')\"\n",
       "              title=\"Convert this dataframe to an interactive table.\"\n",
       "              style=\"display:none;\">\n",
       "        \n",
       "  <svg xmlns=\"http://www.w3.org/2000/svg\" height=\"24px\"viewBox=\"0 0 24 24\"\n",
       "       width=\"24px\">\n",
       "    <path d=\"M0 0h24v24H0V0z\" fill=\"none\"/>\n",
       "    <path d=\"M18.56 5.44l.94 2.06.94-2.06 2.06-.94-2.06-.94-.94-2.06-.94 2.06-2.06.94zm-11 1L8.5 8.5l.94-2.06 2.06-.94-2.06-.94L8.5 2.5l-.94 2.06-2.06.94zm10 10l.94 2.06.94-2.06 2.06-.94-2.06-.94-.94-2.06-.94 2.06-2.06.94z\"/><path d=\"M17.41 7.96l-1.37-1.37c-.4-.4-.92-.59-1.43-.59-.52 0-1.04.2-1.43.59L10.3 9.45l-7.72 7.72c-.78.78-.78 2.05 0 2.83L4 21.41c.39.39.9.59 1.41.59.51 0 1.02-.2 1.41-.59l7.78-7.78 2.81-2.81c.8-.78.8-2.07 0-2.86zM5.41 20L4 18.59l7.72-7.72 1.47 1.35L5.41 20z\"/>\n",
       "  </svg>\n",
       "      </button>\n",
       "      \n",
       "  <style>\n",
       "    .colab-df-container {\n",
       "      display:flex;\n",
       "      flex-wrap:wrap;\n",
       "      gap: 12px;\n",
       "    }\n",
       "\n",
       "    .colab-df-convert {\n",
       "      background-color: #E8F0FE;\n",
       "      border: none;\n",
       "      border-radius: 50%;\n",
       "      cursor: pointer;\n",
       "      display: none;\n",
       "      fill: #1967D2;\n",
       "      height: 32px;\n",
       "      padding: 0 0 0 0;\n",
       "      width: 32px;\n",
       "    }\n",
       "\n",
       "    .colab-df-convert:hover {\n",
       "      background-color: #E2EBFA;\n",
       "      box-shadow: 0px 1px 2px rgba(60, 64, 67, 0.3), 0px 1px 3px 1px rgba(60, 64, 67, 0.15);\n",
       "      fill: #174EA6;\n",
       "    }\n",
       "\n",
       "    [theme=dark] .colab-df-convert {\n",
       "      background-color: #3B4455;\n",
       "      fill: #D2E3FC;\n",
       "    }\n",
       "\n",
       "    [theme=dark] .colab-df-convert:hover {\n",
       "      background-color: #434B5C;\n",
       "      box-shadow: 0px 1px 3px 1px rgba(0, 0, 0, 0.15);\n",
       "      filter: drop-shadow(0px 1px 2px rgba(0, 0, 0, 0.3));\n",
       "      fill: #FFFFFF;\n",
       "    }\n",
       "  </style>\n",
       "\n",
       "      <script>\n",
       "        const buttonEl =\n",
       "          document.querySelector('#df-d352e016-211d-4f01-bb50-b188721acf0a button.colab-df-convert');\n",
       "        buttonEl.style.display =\n",
       "          google.colab.kernel.accessAllowed ? 'block' : 'none';\n",
       "\n",
       "        async function convertToInteractive(key) {\n",
       "          const element = document.querySelector('#df-d352e016-211d-4f01-bb50-b188721acf0a');\n",
       "          const dataTable =\n",
       "            await google.colab.kernel.invokeFunction('convertToInteractive',\n",
       "                                                     [key], {});\n",
       "          if (!dataTable) return;\n",
       "\n",
       "          const docLinkHtml = 'Like what you see? Visit the ' +\n",
       "            '<a target=\"_blank\" href=https://colab.research.google.com/notebooks/data_table.ipynb>data table notebook</a>'\n",
       "            + ' to learn more about interactive tables.';\n",
       "          element.innerHTML = '';\n",
       "          dataTable['output_type'] = 'display_data';\n",
       "          await google.colab.output.renderOutput(dataTable, element);\n",
       "          const docLink = document.createElement('div');\n",
       "          docLink.innerHTML = docLinkHtml;\n",
       "          element.appendChild(docLink);\n",
       "        }\n",
       "      </script>\n",
       "    </div>\n",
       "  </div>\n",
       "  "
      ],
      "text/plain": [
       "  business_code cust_number  ... cust_payment_terms converted_usd\n",
       "0          U001  0200769623  ...               NAH4     54273.280\n",
       "1          U001  0200980828  ...               NAD1     79656.600\n",
       "2          U001  0200792734  ...               NAA8      2253.860\n",
       "4          U001  0200769623  ...               NAH4     33133.290\n",
       "5          CA02  0140106181  ...               CA10     15558.088\n",
       "\n",
       "[5 rows x 11 columns]"
      ]
     },
     "execution_count": 705,
     "metadata": {},
     "output_type": "execute_result"
    }
   ],
   "source": [
    "maindata.head(5)"
   ]
  },
  {
   "cell_type": "code",
   "execution_count": 706,
   "id": "eee2d68a",
   "metadata": {
    "colab": {
     "base_uri": "https://localhost:8080/",
     "height": 206
    },
    "id": "eee2d68a",
    "outputId": "b9e9595a-0ed7-446c-a3be-dcf6b56edbc5"
   },
   "outputs": [
    {
     "data": {
      "text/html": [
       "\n",
       "  <div id=\"df-67717e84-3e6e-4af3-9e3b-3e75c60ba826\">\n",
       "    <div class=\"colab-df-container\">\n",
       "      <div>\n",
       "<style scoped>\n",
       "    .dataframe tbody tr th:only-of-type {\n",
       "        vertical-align: middle;\n",
       "    }\n",
       "\n",
       "    .dataframe tbody tr th {\n",
       "        vertical-align: top;\n",
       "    }\n",
       "\n",
       "    .dataframe thead th {\n",
       "        text-align: right;\n",
       "    }\n",
       "</style>\n",
       "<table border=\"1\" class=\"dataframe\">\n",
       "  <thead>\n",
       "    <tr style=\"text-align: right;\">\n",
       "      <th></th>\n",
       "      <th>business_code</th>\n",
       "      <th>cust_number</th>\n",
       "      <th>name_customer</th>\n",
       "      <th>clear_date</th>\n",
       "      <th>buisness_year</th>\n",
       "      <th>doc_id</th>\n",
       "      <th>posting_date</th>\n",
       "      <th>due_in_date</th>\n",
       "      <th>baseline_create_date</th>\n",
       "      <th>cust_payment_terms</th>\n",
       "      <th>converted_usd</th>\n",
       "    </tr>\n",
       "  </thead>\n",
       "  <tbody>\n",
       "    <tr>\n",
       "      <th>3</th>\n",
       "      <td>CA02</td>\n",
       "      <td>0140105686</td>\n",
       "      <td>SYSC llc</td>\n",
       "      <td>NaT</td>\n",
       "      <td>2020.0</td>\n",
       "      <td>2.960623e+09</td>\n",
       "      <td>2020-03-30</td>\n",
       "      <td>2020-04-10</td>\n",
       "      <td>2020-03-31</td>\n",
       "      <td>CA10</td>\n",
       "      <td>2309.79</td>\n",
       "    </tr>\n",
       "    <tr>\n",
       "      <th>7</th>\n",
       "      <td>U001</td>\n",
       "      <td>0200744019</td>\n",
       "      <td>TARG us</td>\n",
       "      <td>NaT</td>\n",
       "      <td>2020.0</td>\n",
       "      <td>1.930659e+09</td>\n",
       "      <td>2020-03-19</td>\n",
       "      <td>2020-04-03</td>\n",
       "      <td>2020-03-19</td>\n",
       "      <td>NAA8</td>\n",
       "      <td>11173.02</td>\n",
       "    </tr>\n",
       "    <tr>\n",
       "      <th>10</th>\n",
       "      <td>U001</td>\n",
       "      <td>0200418007</td>\n",
       "      <td>AM</td>\n",
       "      <td>NaT</td>\n",
       "      <td>2020.0</td>\n",
       "      <td>1.930611e+09</td>\n",
       "      <td>2020-03-11</td>\n",
       "      <td>2020-03-26</td>\n",
       "      <td>2020-03-11</td>\n",
       "      <td>NAA8</td>\n",
       "      <td>3525.59</td>\n",
       "    </tr>\n",
       "    <tr>\n",
       "      <th>14</th>\n",
       "      <td>U001</td>\n",
       "      <td>0200739534</td>\n",
       "      <td>OK systems</td>\n",
       "      <td>NaT</td>\n",
       "      <td>2020.0</td>\n",
       "      <td>1.930788e+09</td>\n",
       "      <td>2020-04-15</td>\n",
       "      <td>2020-04-30</td>\n",
       "      <td>2020-04-15</td>\n",
       "      <td>NAA8</td>\n",
       "      <td>121105.65</td>\n",
       "    </tr>\n",
       "    <tr>\n",
       "      <th>15</th>\n",
       "      <td>U001</td>\n",
       "      <td>0200353024</td>\n",
       "      <td>DECA corporation</td>\n",
       "      <td>NaT</td>\n",
       "      <td>2020.0</td>\n",
       "      <td>1.930817e+09</td>\n",
       "      <td>2020-04-23</td>\n",
       "      <td>2020-04-26</td>\n",
       "      <td>2020-04-16</td>\n",
       "      <td>NAM2</td>\n",
       "      <td>3726.06</td>\n",
       "    </tr>\n",
       "  </tbody>\n",
       "</table>\n",
       "</div>\n",
       "      <button class=\"colab-df-convert\" onclick=\"convertToInteractive('df-67717e84-3e6e-4af3-9e3b-3e75c60ba826')\"\n",
       "              title=\"Convert this dataframe to an interactive table.\"\n",
       "              style=\"display:none;\">\n",
       "        \n",
       "  <svg xmlns=\"http://www.w3.org/2000/svg\" height=\"24px\"viewBox=\"0 0 24 24\"\n",
       "       width=\"24px\">\n",
       "    <path d=\"M0 0h24v24H0V0z\" fill=\"none\"/>\n",
       "    <path d=\"M18.56 5.44l.94 2.06.94-2.06 2.06-.94-2.06-.94-.94-2.06-.94 2.06-2.06.94zm-11 1L8.5 8.5l.94-2.06 2.06-.94-2.06-.94L8.5 2.5l-.94 2.06-2.06.94zm10 10l.94 2.06.94-2.06 2.06-.94-2.06-.94-.94-2.06-.94 2.06-2.06.94z\"/><path d=\"M17.41 7.96l-1.37-1.37c-.4-.4-.92-.59-1.43-.59-.52 0-1.04.2-1.43.59L10.3 9.45l-7.72 7.72c-.78.78-.78 2.05 0 2.83L4 21.41c.39.39.9.59 1.41.59.51 0 1.02-.2 1.41-.59l7.78-7.78 2.81-2.81c.8-.78.8-2.07 0-2.86zM5.41 20L4 18.59l7.72-7.72 1.47 1.35L5.41 20z\"/>\n",
       "  </svg>\n",
       "      </button>\n",
       "      \n",
       "  <style>\n",
       "    .colab-df-container {\n",
       "      display:flex;\n",
       "      flex-wrap:wrap;\n",
       "      gap: 12px;\n",
       "    }\n",
       "\n",
       "    .colab-df-convert {\n",
       "      background-color: #E8F0FE;\n",
       "      border: none;\n",
       "      border-radius: 50%;\n",
       "      cursor: pointer;\n",
       "      display: none;\n",
       "      fill: #1967D2;\n",
       "      height: 32px;\n",
       "      padding: 0 0 0 0;\n",
       "      width: 32px;\n",
       "    }\n",
       "\n",
       "    .colab-df-convert:hover {\n",
       "      background-color: #E2EBFA;\n",
       "      box-shadow: 0px 1px 2px rgba(60, 64, 67, 0.3), 0px 1px 3px 1px rgba(60, 64, 67, 0.15);\n",
       "      fill: #174EA6;\n",
       "    }\n",
       "\n",
       "    [theme=dark] .colab-df-convert {\n",
       "      background-color: #3B4455;\n",
       "      fill: #D2E3FC;\n",
       "    }\n",
       "\n",
       "    [theme=dark] .colab-df-convert:hover {\n",
       "      background-color: #434B5C;\n",
       "      box-shadow: 0px 1px 3px 1px rgba(0, 0, 0, 0.15);\n",
       "      filter: drop-shadow(0px 1px 2px rgba(0, 0, 0, 0.3));\n",
       "      fill: #FFFFFF;\n",
       "    }\n",
       "  </style>\n",
       "\n",
       "      <script>\n",
       "        const buttonEl =\n",
       "          document.querySelector('#df-67717e84-3e6e-4af3-9e3b-3e75c60ba826 button.colab-df-convert');\n",
       "        buttonEl.style.display =\n",
       "          google.colab.kernel.accessAllowed ? 'block' : 'none';\n",
       "\n",
       "        async function convertToInteractive(key) {\n",
       "          const element = document.querySelector('#df-67717e84-3e6e-4af3-9e3b-3e75c60ba826');\n",
       "          const dataTable =\n",
       "            await google.colab.kernel.invokeFunction('convertToInteractive',\n",
       "                                                     [key], {});\n",
       "          if (!dataTable) return;\n",
       "\n",
       "          const docLinkHtml = 'Like what you see? Visit the ' +\n",
       "            '<a target=\"_blank\" href=https://colab.research.google.com/notebooks/data_table.ipynb>data table notebook</a>'\n",
       "            + ' to learn more about interactive tables.';\n",
       "          element.innerHTML = '';\n",
       "          dataTable['output_type'] = 'display_data';\n",
       "          await google.colab.output.renderOutput(dataTable, element);\n",
       "          const docLink = document.createElement('div');\n",
       "          docLink.innerHTML = docLinkHtml;\n",
       "          element.appendChild(docLink);\n",
       "        }\n",
       "      </script>\n",
       "    </div>\n",
       "  </div>\n",
       "  "
      ],
      "text/plain": [
       "   business_code cust_number  ... cust_payment_terms converted_usd\n",
       "3           CA02  0140105686  ...               CA10       2309.79\n",
       "7           U001  0200744019  ...               NAA8      11173.02\n",
       "10          U001  0200418007  ...               NAA8       3525.59\n",
       "14          U001  0200739534  ...               NAA8     121105.65\n",
       "15          U001  0200353024  ...               NAM2       3726.06\n",
       "\n",
       "[5 rows x 11 columns]"
      ]
     },
     "execution_count": 706,
     "metadata": {},
     "output_type": "execute_result"
    }
   ],
   "source": [
    "nulldata.head(5)"
   ]
  },
  {
   "cell_type": "markdown",
   "id": "24aa6746",
   "metadata": {
    "id": "24aa6746"
   },
   "source": [
    "## Considering the **maindata**"
   ]
  },
  {
   "cell_type": "markdown",
   "id": "f92c4aa7",
   "metadata": {
    "id": "f92c4aa7"
   },
   "source": [
    "#### Generate a new column \"Delay\" from the existing columns\n",
    "\n",
    "- Note - You are expected to create a new column 'Delay' from two existing columns, \"clear_date\" and \"due_in_date\" \n",
    "- Formula - Delay = clear_date - due_in_date"
   ]
  },
  {
   "cell_type": "code",
   "execution_count": 707,
   "id": "8eeceb9c",
   "metadata": {
    "colab": {
     "base_uri": "https://localhost:8080/"
    },
    "id": "8eeceb9c",
    "outputId": "e6c6c301-b24f-47fc-b8dc-039a3c29daca"
   },
   "outputs": [
    {
     "name": "stderr",
     "output_type": "stream",
     "text": [
      "/usr/local/lib/python3.7/dist-packages/ipykernel_launcher.py:1: SettingWithCopyWarning: \n",
      "A value is trying to be set on a copy of a slice from a DataFrame.\n",
      "Try using .loc[row_indexer,col_indexer] = value instead\n",
      "\n",
      "See the caveats in the documentation: https://pandas.pydata.org/pandas-docs/stable/user_guide/indexing.html#returning-a-view-versus-a-copy\n",
      "  \"\"\"Entry point for launching an IPython kernel.\n"
     ]
    },
    {
     "data": {
      "text/plain": [
       "0        1 days\n",
       "1       -3 days\n",
       "2       92 days\n",
       "4       -3 days\n",
       "5       61 days\n",
       "          ...  \n",
       "49994    0 days\n",
       "49996    4 days\n",
       "49997    0 days\n",
       "49998    0 days\n",
       "49999   -9 days\n",
       "Name: Delay, Length: 39158, dtype: timedelta64[ns]"
      ]
     },
     "execution_count": 707,
     "metadata": {},
     "output_type": "execute_result"
    }
   ],
   "source": [
    "maindata[\"Delay\"] = maindata[\"clear_date\"]-maindata[\"due_in_date\"]\n",
    "maindata['Delay']"
   ]
  },
  {
   "cell_type": "markdown",
   "id": "f482144e",
   "metadata": {
    "id": "f482144e"
   },
   "source": [
    "### Generate a new column \"avgdelay\" from the existing columns\n",
    "\n",
    "- Note - You are expected to make a new column \"avgdelay\" by grouping \"name_customer\" column with reapect to mean of the \"Delay\" column.\n",
    "- This new column \"avg_delay\" is meant to store \"customer_name\" wise delay\n",
    "- groupby('name_customer')['Delay'].mean(numeric_only=False)\n",
    "- Display the new \"avg_delay\" column"
   ]
  },
  {
   "cell_type": "code",
   "execution_count": 708,
   "id": "d18d2f8d",
   "metadata": {
    "id": "d18d2f8d"
   },
   "outputs": [],
   "source": [
    "avgcustdelay=maindata.groupby(\"name_customer\")['Delay'].mean(numeric_only=False)\n"
   ]
  },
  {
   "cell_type": "markdown",
   "id": "64b995e8",
   "metadata": {
    "id": "64b995e8"
   },
   "source": [
    "You need to add the \"avg_delay\" column with the maindata, mapped with \"name_customer\" column\n",
    "\n",
    " - Note - You need to use map function to map the avgdelay with respect to \"name_customer\" column"
   ]
  },
  {
   "cell_type": "code",
   "execution_count": 709,
   "id": "11gAx3MgBsAi",
   "metadata": {
    "colab": {
     "base_uri": "https://localhost:8080/"
    },
    "id": "11gAx3MgBsAi",
    "outputId": "29605adf-4c88-4c56-8af9-b83d27e95ada"
   },
   "outputs": [
    {
     "name": "stderr",
     "output_type": "stream",
     "text": [
      "/usr/local/lib/python3.7/dist-packages/ipykernel_launcher.py:1: SettingWithCopyWarning: \n",
      "A value is trying to be set on a copy of a slice from a DataFrame.\n",
      "Try using .loc[row_indexer,col_indexer] = value instead\n",
      "\n",
      "See the caveats in the documentation: https://pandas.pydata.org/pandas-docs/stable/user_guide/indexing.html#returning-a-view-versus-a-copy\n",
      "  \"\"\"Entry point for launching an IPython kernel.\n"
     ]
    }
   ],
   "source": [
    "maindata['avg_delay']=maindata['name_customer'].map(avgcustdelay)"
   ]
  },
  {
   "cell_type": "markdown",
   "id": "1d332525",
   "metadata": {
    "id": "1d332525"
   },
   "source": [
    "### Observe that the \"avg_delay\" column is in days format. You need to change the format into seconds\n",
    "\n",
    "- Days_format :  17 days 00:00:00\n",
    "- Format in seconds : 1641600.0"
   ]
  },
  {
   "cell_type": "code",
   "execution_count": 710,
   "id": "d5f1041e",
   "metadata": {
    "colab": {
     "base_uri": "https://localhost:8080/"
    },
    "id": "d5f1041e",
    "outputId": "5944bac6-3e5b-4b74-8681-b4c5ba230e09"
   },
   "outputs": [
    {
     "name": "stderr",
     "output_type": "stream",
     "text": [
      "/usr/local/lib/python3.7/dist-packages/ipykernel_launcher.py:1: SettingWithCopyWarning: \n",
      "A value is trying to be set on a copy of a slice from a DataFrame.\n",
      "Try using .loc[row_indexer,col_indexer] = value instead\n",
      "\n",
      "See the caveats in the documentation: https://pandas.pydata.org/pandas-docs/stable/user_guide/indexing.html#returning-a-view-versus-a-copy\n",
      "  \"\"\"Entry point for launching an IPython kernel.\n"
     ]
    }
   ],
   "source": [
    "maindata['avg_delay'] = pd.to_timedelta(maindata['avg_delay']).dt.total_seconds()"
   ]
  },
  {
   "cell_type": "markdown",
   "id": "OvgtHSsx_O-n",
   "metadata": {
    "id": "OvgtHSsx_O-n"
   },
   "source": [
    "### Display the maindata dataframe "
   ]
  },
  {
   "cell_type": "code",
   "execution_count": 711,
   "id": "97ca9c45",
   "metadata": {
    "colab": {
     "base_uri": "https://localhost:8080/",
     "height": 661
    },
    "id": "97ca9c45",
    "outputId": "24544657-0872-44a6-c320-7684829a0843"
   },
   "outputs": [
    {
     "data": {
      "text/html": [
       "\n",
       "  <div id=\"df-3b0b0973-7b39-4285-afcf-1bc826b7c715\">\n",
       "    <div class=\"colab-df-container\">\n",
       "      <div>\n",
       "<style scoped>\n",
       "    .dataframe tbody tr th:only-of-type {\n",
       "        vertical-align: middle;\n",
       "    }\n",
       "\n",
       "    .dataframe tbody tr th {\n",
       "        vertical-align: top;\n",
       "    }\n",
       "\n",
       "    .dataframe thead th {\n",
       "        text-align: right;\n",
       "    }\n",
       "</style>\n",
       "<table border=\"1\" class=\"dataframe\">\n",
       "  <thead>\n",
       "    <tr style=\"text-align: right;\">\n",
       "      <th></th>\n",
       "      <th>business_code</th>\n",
       "      <th>cust_number</th>\n",
       "      <th>name_customer</th>\n",
       "      <th>clear_date</th>\n",
       "      <th>buisness_year</th>\n",
       "      <th>doc_id</th>\n",
       "      <th>posting_date</th>\n",
       "      <th>due_in_date</th>\n",
       "      <th>baseline_create_date</th>\n",
       "      <th>cust_payment_terms</th>\n",
       "      <th>converted_usd</th>\n",
       "      <th>Delay</th>\n",
       "      <th>avg_delay</th>\n",
       "    </tr>\n",
       "  </thead>\n",
       "  <tbody>\n",
       "    <tr>\n",
       "      <th>0</th>\n",
       "      <td>U001</td>\n",
       "      <td>0200769623</td>\n",
       "      <td>WAL-MAR corp</td>\n",
       "      <td>2020-02-11</td>\n",
       "      <td>2020.0</td>\n",
       "      <td>1.930438e+09</td>\n",
       "      <td>2020-01-26</td>\n",
       "      <td>2020-02-10</td>\n",
       "      <td>2020-01-26</td>\n",
       "      <td>NAH4</td>\n",
       "      <td>54273.280</td>\n",
       "      <td>1 days</td>\n",
       "      <td>-2.334702e+05</td>\n",
       "    </tr>\n",
       "    <tr>\n",
       "      <th>1</th>\n",
       "      <td>U001</td>\n",
       "      <td>0200980828</td>\n",
       "      <td>BEN E</td>\n",
       "      <td>2019-08-08</td>\n",
       "      <td>2019.0</td>\n",
       "      <td>1.929646e+09</td>\n",
       "      <td>2019-07-22</td>\n",
       "      <td>2019-08-11</td>\n",
       "      <td>2019-07-22</td>\n",
       "      <td>NAD1</td>\n",
       "      <td>79656.600</td>\n",
       "      <td>-3 days</td>\n",
       "      <td>1.641600e+06</td>\n",
       "    </tr>\n",
       "    <tr>\n",
       "      <th>2</th>\n",
       "      <td>U001</td>\n",
       "      <td>0200792734</td>\n",
       "      <td>MDV/ trust</td>\n",
       "      <td>2019-12-30</td>\n",
       "      <td>2019.0</td>\n",
       "      <td>1.929874e+09</td>\n",
       "      <td>2019-09-14</td>\n",
       "      <td>2019-09-29</td>\n",
       "      <td>2019-09-14</td>\n",
       "      <td>NAA8</td>\n",
       "      <td>2253.860</td>\n",
       "      <td>92 days</td>\n",
       "      <td>6.990545e+05</td>\n",
       "    </tr>\n",
       "    <tr>\n",
       "      <th>4</th>\n",
       "      <td>U001</td>\n",
       "      <td>0200769623</td>\n",
       "      <td>WAL-MAR foundation</td>\n",
       "      <td>2019-11-25</td>\n",
       "      <td>2019.0</td>\n",
       "      <td>1.930148e+09</td>\n",
       "      <td>2019-11-13</td>\n",
       "      <td>2019-11-28</td>\n",
       "      <td>2019-11-13</td>\n",
       "      <td>NAH4</td>\n",
       "      <td>33133.290</td>\n",
       "      <td>-3 days</td>\n",
       "      <td>-1.887923e+05</td>\n",
       "    </tr>\n",
       "    <tr>\n",
       "      <th>5</th>\n",
       "      <td>CA02</td>\n",
       "      <td>0140106181</td>\n",
       "      <td>THE  corporation</td>\n",
       "      <td>2019-12-04</td>\n",
       "      <td>2019.0</td>\n",
       "      <td>2.960581e+09</td>\n",
       "      <td>2019-09-20</td>\n",
       "      <td>2019-10-04</td>\n",
       "      <td>2019-09-24</td>\n",
       "      <td>CA10</td>\n",
       "      <td>15558.088</td>\n",
       "      <td>61 days</td>\n",
       "      <td>6.172800e+06</td>\n",
       "    </tr>\n",
       "    <tr>\n",
       "      <th>...</th>\n",
       "      <td>...</td>\n",
       "      <td>...</td>\n",
       "      <td>...</td>\n",
       "      <td>...</td>\n",
       "      <td>...</td>\n",
       "      <td>...</td>\n",
       "      <td>...</td>\n",
       "      <td>...</td>\n",
       "      <td>...</td>\n",
       "      <td>...</td>\n",
       "      <td>...</td>\n",
       "      <td>...</td>\n",
       "      <td>...</td>\n",
       "    </tr>\n",
       "    <tr>\n",
       "      <th>49994</th>\n",
       "      <td>U001</td>\n",
       "      <td>0200762301</td>\n",
       "      <td>C&amp;S WH trust</td>\n",
       "      <td>2019-07-25</td>\n",
       "      <td>2019.0</td>\n",
       "      <td>1.929601e+09</td>\n",
       "      <td>2019-07-10</td>\n",
       "      <td>2019-07-25</td>\n",
       "      <td>2019-07-10</td>\n",
       "      <td>NAC6</td>\n",
       "      <td>84780.400</td>\n",
       "      <td>0 days</td>\n",
       "      <td>-3.330000e+04</td>\n",
       "    </tr>\n",
       "    <tr>\n",
       "      <th>49996</th>\n",
       "      <td>U001</td>\n",
       "      <td>0200769623</td>\n",
       "      <td>WAL-MAR co</td>\n",
       "      <td>2019-09-03</td>\n",
       "      <td>2019.0</td>\n",
       "      <td>1.929744e+09</td>\n",
       "      <td>2019-08-15</td>\n",
       "      <td>2019-08-30</td>\n",
       "      <td>2019-08-15</td>\n",
       "      <td>NAH4</td>\n",
       "      <td>6766.540</td>\n",
       "      <td>4 days</td>\n",
       "      <td>-2.135915e+05</td>\n",
       "    </tr>\n",
       "    <tr>\n",
       "      <th>49997</th>\n",
       "      <td>U001</td>\n",
       "      <td>0200772595</td>\n",
       "      <td>SAFEW associates</td>\n",
       "      <td>2020-03-05</td>\n",
       "      <td>2020.0</td>\n",
       "      <td>1.930537e+09</td>\n",
       "      <td>2020-02-19</td>\n",
       "      <td>2020-03-05</td>\n",
       "      <td>2020-02-19</td>\n",
       "      <td>NAA8</td>\n",
       "      <td>6120.860</td>\n",
       "      <td>0 days</td>\n",
       "      <td>9.051429e+04</td>\n",
       "    </tr>\n",
       "    <tr>\n",
       "      <th>49998</th>\n",
       "      <td>U001</td>\n",
       "      <td>0200726979</td>\n",
       "      <td>BJ'S  llc</td>\n",
       "      <td>2019-12-12</td>\n",
       "      <td>2019.0</td>\n",
       "      <td>1.930199e+09</td>\n",
       "      <td>2019-11-27</td>\n",
       "      <td>2019-12-12</td>\n",
       "      <td>2019-11-27</td>\n",
       "      <td>NAA8</td>\n",
       "      <td>63.480</td>\n",
       "      <td>0 days</td>\n",
       "      <td>1.354030e+05</td>\n",
       "    </tr>\n",
       "    <tr>\n",
       "      <th>49999</th>\n",
       "      <td>U001</td>\n",
       "      <td>0200020431</td>\n",
       "      <td>DEC corp</td>\n",
       "      <td>2019-01-15</td>\n",
       "      <td>2019.0</td>\n",
       "      <td>1.928576e+09</td>\n",
       "      <td>2019-01-05</td>\n",
       "      <td>2019-01-24</td>\n",
       "      <td>2019-01-01</td>\n",
       "      <td>NAM4</td>\n",
       "      <td>1790.300</td>\n",
       "      <td>-9 days</td>\n",
       "      <td>-3.371478e+05</td>\n",
       "    </tr>\n",
       "  </tbody>\n",
       "</table>\n",
       "<p>39158 rows × 13 columns</p>\n",
       "</div>\n",
       "      <button class=\"colab-df-convert\" onclick=\"convertToInteractive('df-3b0b0973-7b39-4285-afcf-1bc826b7c715')\"\n",
       "              title=\"Convert this dataframe to an interactive table.\"\n",
       "              style=\"display:none;\">\n",
       "        \n",
       "  <svg xmlns=\"http://www.w3.org/2000/svg\" height=\"24px\"viewBox=\"0 0 24 24\"\n",
       "       width=\"24px\">\n",
       "    <path d=\"M0 0h24v24H0V0z\" fill=\"none\"/>\n",
       "    <path d=\"M18.56 5.44l.94 2.06.94-2.06 2.06-.94-2.06-.94-.94-2.06-.94 2.06-2.06.94zm-11 1L8.5 8.5l.94-2.06 2.06-.94-2.06-.94L8.5 2.5l-.94 2.06-2.06.94zm10 10l.94 2.06.94-2.06 2.06-.94-2.06-.94-.94-2.06-.94 2.06-2.06.94z\"/><path d=\"M17.41 7.96l-1.37-1.37c-.4-.4-.92-.59-1.43-.59-.52 0-1.04.2-1.43.59L10.3 9.45l-7.72 7.72c-.78.78-.78 2.05 0 2.83L4 21.41c.39.39.9.59 1.41.59.51 0 1.02-.2 1.41-.59l7.78-7.78 2.81-2.81c.8-.78.8-2.07 0-2.86zM5.41 20L4 18.59l7.72-7.72 1.47 1.35L5.41 20z\"/>\n",
       "  </svg>\n",
       "      </button>\n",
       "      \n",
       "  <style>\n",
       "    .colab-df-container {\n",
       "      display:flex;\n",
       "      flex-wrap:wrap;\n",
       "      gap: 12px;\n",
       "    }\n",
       "\n",
       "    .colab-df-convert {\n",
       "      background-color: #E8F0FE;\n",
       "      border: none;\n",
       "      border-radius: 50%;\n",
       "      cursor: pointer;\n",
       "      display: none;\n",
       "      fill: #1967D2;\n",
       "      height: 32px;\n",
       "      padding: 0 0 0 0;\n",
       "      width: 32px;\n",
       "    }\n",
       "\n",
       "    .colab-df-convert:hover {\n",
       "      background-color: #E2EBFA;\n",
       "      box-shadow: 0px 1px 2px rgba(60, 64, 67, 0.3), 0px 1px 3px 1px rgba(60, 64, 67, 0.15);\n",
       "      fill: #174EA6;\n",
       "    }\n",
       "\n",
       "    [theme=dark] .colab-df-convert {\n",
       "      background-color: #3B4455;\n",
       "      fill: #D2E3FC;\n",
       "    }\n",
       "\n",
       "    [theme=dark] .colab-df-convert:hover {\n",
       "      background-color: #434B5C;\n",
       "      box-shadow: 0px 1px 3px 1px rgba(0, 0, 0, 0.15);\n",
       "      filter: drop-shadow(0px 1px 2px rgba(0, 0, 0, 0.3));\n",
       "      fill: #FFFFFF;\n",
       "    }\n",
       "  </style>\n",
       "\n",
       "      <script>\n",
       "        const buttonEl =\n",
       "          document.querySelector('#df-3b0b0973-7b39-4285-afcf-1bc826b7c715 button.colab-df-convert');\n",
       "        buttonEl.style.display =\n",
       "          google.colab.kernel.accessAllowed ? 'block' : 'none';\n",
       "\n",
       "        async function convertToInteractive(key) {\n",
       "          const element = document.querySelector('#df-3b0b0973-7b39-4285-afcf-1bc826b7c715');\n",
       "          const dataTable =\n",
       "            await google.colab.kernel.invokeFunction('convertToInteractive',\n",
       "                                                     [key], {});\n",
       "          if (!dataTable) return;\n",
       "\n",
       "          const docLinkHtml = 'Like what you see? Visit the ' +\n",
       "            '<a target=\"_blank\" href=https://colab.research.google.com/notebooks/data_table.ipynb>data table notebook</a>'\n",
       "            + ' to learn more about interactive tables.';\n",
       "          element.innerHTML = '';\n",
       "          dataTable['output_type'] = 'display_data';\n",
       "          await google.colab.output.renderOutput(dataTable, element);\n",
       "          const docLink = document.createElement('div');\n",
       "          docLink.innerHTML = docLinkHtml;\n",
       "          element.appendChild(docLink);\n",
       "        }\n",
       "      </script>\n",
       "    </div>\n",
       "  </div>\n",
       "  "
      ],
      "text/plain": [
       "      business_code cust_number  ...   Delay     avg_delay\n",
       "0              U001  0200769623  ...  1 days -2.334702e+05\n",
       "1              U001  0200980828  ... -3 days  1.641600e+06\n",
       "2              U001  0200792734  ... 92 days  6.990545e+05\n",
       "4              U001  0200769623  ... -3 days -1.887923e+05\n",
       "5              CA02  0140106181  ... 61 days  6.172800e+06\n",
       "...             ...         ...  ...     ...           ...\n",
       "49994          U001  0200762301  ...  0 days -3.330000e+04\n",
       "49996          U001  0200769623  ...  4 days -2.135915e+05\n",
       "49997          U001  0200772595  ...  0 days  9.051429e+04\n",
       "49998          U001  0200726979  ...  0 days  1.354030e+05\n",
       "49999          U001  0200020431  ... -9 days -3.371478e+05\n",
       "\n",
       "[39158 rows x 13 columns]"
      ]
     },
     "execution_count": 711,
     "metadata": {},
     "output_type": "execute_result"
    }
   ],
   "source": [
    "maindata"
   ]
  },
  {
   "cell_type": "markdown",
   "id": "ae24c7bb",
   "metadata": {
    "id": "ae24c7bb"
   },
   "source": [
    "### Since you have created the \"avg_delay\" column from \"Delay\" and \"clear_date\" column, there is no need of these two columns anymore \n",
    "\n",
    "- You are expected to drop \"Delay\" and \"clear_date\" columns from maindata dataframe "
   ]
  },
  {
   "cell_type": "code",
   "execution_count": 712,
   "id": "78a61ab9",
   "metadata": {
    "id": "78a61ab9"
   },
   "outputs": [],
   "source": [
    "maindata = maindata.drop(['Delay','clear_date'],axis=1)"
   ]
  },
  {
   "cell_type": "markdown",
   "id": "ae724bfc",
   "metadata": {
    "id": "ae724bfc"
   },
   "source": [
    "# Splitting of Train and the Test Data"
   ]
  },
  {
   "cell_type": "markdown",
   "id": "cb6f0264",
   "metadata": {
    "id": "cb6f0264"
   },
   "source": [
    "### You need to split the \"maindata\" columns into X and y dataframe\n",
    "\n",
    "- Note - y should have the target column i.e. \"avg_delay\" and the other column should be in X\n",
    "\n",
    "- X is going to hold the source fields and y will be going to hold the target fields"
   ]
  },
  {
   "cell_type": "code",
   "execution_count": 713,
   "id": "75ab29ab",
   "metadata": {
    "id": "75ab29ab"
   },
   "outputs": [],
   "source": [
    "y = maindata['avg_delay']"
   ]
  },
  {
   "cell_type": "code",
   "execution_count": 714,
   "id": "6412c62b",
   "metadata": {
    "id": "6412c62b"
   },
   "outputs": [],
   "source": [
    "x = maindata.drop(['avg_delay'],axis=1)"
   ]
  },
  {
   "cell_type": "markdown",
   "id": "1c2942bf",
   "metadata": {
    "id": "1c2942bf"
   },
   "source": [
    "#### You are expected to split both the dataframes into train and test format in 60:40 ratio \n",
    "\n",
    "- Note - The expected output should be in \"X_train\", \"X_loc_test\", \"y_train\", \"y_loc_test\" format "
   ]
  },
  {
   "cell_type": "code",
   "execution_count": 715,
   "id": "d92160a5",
   "metadata": {
    "id": "d92160a5"
   },
   "outputs": [],
   "source": [
    "from sklearn.model_selection import train_test_split\n",
    "X_train, X_loc_test, y_train, y_loc_test = train_test_split( x , y , test_size=0.4 , random_state=0 , shuffle = False )"
   ]
  },
  {
   "cell_type": "markdown",
   "id": "p4OME62pDufR",
   "metadata": {
    "id": "p4OME62pDufR"
   },
   "source": [
    "### Please check for the number of rows and columns of all the new dataframes (all 4)"
   ]
  },
  {
   "cell_type": "code",
   "execution_count": 716,
   "id": "48328d0a",
   "metadata": {
    "colab": {
     "base_uri": "https://localhost:8080/"
    },
    "id": "48328d0a",
    "outputId": "725a867e-2b5f-4a79-96e2-64a2300f481f"
   },
   "outputs": [
    {
     "data": {
      "text/plain": [
       "((23494, 10), (15664, 10), (23494,), (15664,))"
      ]
     },
     "execution_count": 716,
     "metadata": {},
     "output_type": "execute_result"
    }
   ],
   "source": [
    "X_train.shape , X_loc_test.shape , y_train.shape , y_loc_test.shape\n"
   ]
  },
  {
   "cell_type": "markdown",
   "id": "4a68ed71",
   "metadata": {
    "id": "4a68ed71"
   },
   "source": [
    "### Now you are expected to split the \"X_loc_test\" and \"y_loc_test\" dataset into \"Test\" and \"Validation\" (as the names given below) dataframe with 50:50 format \n",
    "\n",
    "- Note - The expected output should be in \"X_val\", \"X_test\", \"y_val\", \"y_test\" format"
   ]
  },
  {
   "cell_type": "code",
   "execution_count": 717,
   "id": "b56c62f2",
   "metadata": {
    "id": "b56c62f2"
   },
   "outputs": [],
   "source": [
    "X_val , X_test , y_val , y_test = train_test_split( X_loc_test , y_loc_test , test_size=0.5 , random_state=0 , shuffle = False )"
   ]
  },
  {
   "cell_type": "markdown",
   "id": "bJTSAskvERH1",
   "metadata": {
    "id": "bJTSAskvERH1"
   },
   "source": [
    "### Please check for the number of rows and columns of all the 4 dataframes "
   ]
  },
  {
   "cell_type": "code",
   "execution_count": 718,
   "id": "845d7564",
   "metadata": {
    "colab": {
     "base_uri": "https://localhost:8080/"
    },
    "id": "845d7564",
    "outputId": "1154410b-cd43-4654-d4dd-6fde16b589ac"
   },
   "outputs": [
    {
     "data": {
      "text/plain": [
       "((7832, 10), (7832, 10), (7832,), (7832,))"
      ]
     },
     "execution_count": 718,
     "metadata": {},
     "output_type": "execute_result"
    }
   ],
   "source": [
    "X_val.shape , X_test.shape , y_val.shape , y_test.shape \n"
   ]
  },
  {
   "cell_type": "markdown",
   "id": "110fa872",
   "metadata": {
    "id": "110fa872"
   },
   "source": [
    "# Exploratory Data Analysis (EDA) "
   ]
  },
  {
   "cell_type": "markdown",
   "id": "ffc8fe0f",
   "metadata": {
    "id": "ffc8fe0f"
   },
   "source": [
    "### Distribution Plot of the target variable (use the dataframe which contains the target field)\n",
    "\n",
    "- Note - You are expected to make a distribution plot for the target variable "
   ]
  },
  {
   "cell_type": "code",
   "execution_count": 719,
   "id": "ba2bf8ed",
   "metadata": {
    "colab": {
     "base_uri": "https://localhost:8080/",
     "height": 386
    },
    "id": "ba2bf8ed",
    "outputId": "311bf5c5-2142-4fe6-b512-2d9624f90674"
   },
   "outputs": [
    {
     "data": {
      "text/plain": [
       "<seaborn.axisgrid.FacetGrid at 0x7fa74943e1d0>"
      ]
     },
     "execution_count": 719,
     "metadata": {},
     "output_type": "execute_result"
    },
    {
     "data": {
      "image/png": "[encoded data removed]",
      "text/plain": [
       "<Figure size 360x360 with 1 Axes>"
      ]
     },
     "metadata": {
      "needs_background": "light"
     },
     "output_type": "display_data"
    }
   ],
   "source": [
    "sns.displot(y)"
   ]
  },
  {
   "cell_type": "markdown",
   "id": "d0e323a3",
   "metadata": {
    "id": "d0e323a3"
   },
   "source": [
    "### You are expected to group the X_train dataset on 'name_customer' column with 'doc_id' in the x_train set\n",
    "\n",
    "### Need to store the outcome into a new dataframe \n",
    "\n",
    "- Note code given for groupby statement- X_train.groupby(by=['name_customer'], as_index=False)['doc_id'].count()"
   ]
  },
  {
   "cell_type": "code",
   "execution_count": 720,
   "id": "f7acf0ee",
   "metadata": {
    "id": "f7acf0ee"
   },
   "outputs": [],
   "source": [
    "x_train = X_train.groupby(by=['name_customer'], as_index=False)['doc_id'].count()"
   ]
  },
  {
   "cell_type": "markdown",
   "id": "cA43bFffFt6i",
   "metadata": {
    "id": "cA43bFffFt6i"
   },
   "source": [
    "### You can make another distribution plot of the \"doc_id\" column from x_train"
   ]
  },
  {
   "cell_type": "code",
   "execution_count": 721,
   "id": "9576bf33",
   "metadata": {
    "colab": {
     "base_uri": "https://localhost:8080/",
     "height": 352
    },
    "id": "9576bf33",
    "outputId": "3f5b6ad8-7da5-4536-e19e-1e9aadb01ee2"
   },
   "outputs": [
    {
     "name": "stderr",
     "output_type": "stream",
     "text": [
      "/usr/local/lib/python3.7/dist-packages/seaborn/distributions.py:2619: FutureWarning: `distplot` is a deprecated function and will be removed in a future version. Please adapt your code to use either `displot` (a figure-level function with similar flexibility) or `histplot` (an axes-level function for histograms).\n",
      "  warnings.warn(msg, FutureWarning)\n"
     ]
    },
    {
     "data": {
      "text/plain": [
       "<matplotlib.axes._subplots.AxesSubplot at 0x7fa74857f850>"
      ]
     },
     "execution_count": 721,
     "metadata": {},
     "output_type": "execute_result"
    },
    {
     "data": {
      "image/png": "[encoded data removed]",
      "text/plain": [
       "<Figure size 432x288 with 1 Axes>"
      ]
     },
     "metadata": {
      "needs_background": "light"
     },
     "output_type": "display_data"
    }
   ],
   "source": [
    "sns.distplot(x_train['doc_id'])"
   ]
  },
  {
   "cell_type": "markdown",
   "id": "fba2c44f",
   "metadata": {
    "id": "fba2c44f"
   },
   "source": [
    "#### Create a Distribution plot only for business_year and a seperate distribution plot of \"business_year\" column along with the doc_id\" column\n"
   ]
  },
  {
   "cell_type": "code",
   "execution_count": 722,
   "id": "4fecec77",
   "metadata": {
    "colab": {
     "base_uri": "https://localhost:8080/",
     "height": 352
    },
    "id": "4fecec77",
    "outputId": "26df9608-82eb-449f-811b-fdde94187b70"
   },
   "outputs": [
    {
     "name": "stderr",
     "output_type": "stream",
     "text": [
      "/usr/local/lib/python3.7/dist-packages/seaborn/distributions.py:2619: FutureWarning: `distplot` is a deprecated function and will be removed in a future version. Please adapt your code to use either `displot` (a figure-level function with similar flexibility) or `histplot` (an axes-level function for histograms).\n",
      "  warnings.warn(msg, FutureWarning)\n"
     ]
    },
    {
     "data": {
      "text/plain": [
       "<matplotlib.axes._subplots.AxesSubplot at 0x7fa75efe49d0>"
      ]
     },
     "execution_count": 722,
     "metadata": {},
     "output_type": "execute_result"
    },
    {
     "data": {
      "image/png": "[encoded data removed]",
      "text/plain": [
       "<Figure size 432x288 with 1 Axes>"
      ]
     },
     "metadata": {
      "needs_background": "light"
     },
     "output_type": "display_data"
    }
   ],
   "source": [
    "sns.distplot(X_train['buisness_year'])"
   ]
  },
  {
   "cell_type": "code",
   "execution_count": 723,
   "id": "qr1jGhfOKjnw",
   "metadata": {
    "colab": {
     "base_uri": "https://localhost:8080/",
     "height": 386
    },
    "id": "qr1jGhfOKjnw",
    "outputId": "5177b9b0-631d-4301-d036-740466b87c27"
   },
   "outputs": [
    {
     "name": "stderr",
     "output_type": "stream",
     "text": [
      "/usr/local/lib/python3.7/dist-packages/seaborn/distributions.py:2619: FutureWarning: `distplot` is a deprecated function and will be removed in a future version. Please adapt your code to use either `displot` (a figure-level function with similar flexibility) or `histplot` (an axes-level function for histograms).\n",
      "  warnings.warn(msg, FutureWarning)\n",
      "/usr/local/lib/python3.7/dist-packages/seaborn/distributions.py:2619: FutureWarning: `distplot` is a deprecated function and will be removed in a future version. Please adapt your code to use either `displot` (a figure-level function with similar flexibility) or `histplot` (an axes-level function for histograms).\n",
      "  warnings.warn(msg, FutureWarning)\n"
     ]
    },
    {
     "data": {
      "text/plain": [
       "<matplotlib.axes._subplots.AxesSubplot at 0x7fa74839eed0>"
      ]
     },
     "execution_count": 723,
     "metadata": {},
     "output_type": "execute_result"
    },
    {
     "data": {
      "image/png": "[encoded data removed]",
      "text/plain": [
       "<Figure size 432x288 with 1 Axes>"
      ]
     },
     "metadata": {
      "needs_background": "light"
     },
     "output_type": "display_data"
    }
   ],
   "source": [
    "sns.distplot(X_train[\"buisness_year\"])\n",
    "sns.distplot(X_train[\"doc_id\"])"
   ]
  },
  {
   "cell_type": "markdown",
   "id": "968fbcc9",
   "metadata": {
    "id": "968fbcc9"
   },
   "source": [
    "# Feature Engineering "
   ]
  },
  {
   "cell_type": "markdown",
   "id": "jbh6CyGqH3XE",
   "metadata": {
    "id": "jbh6CyGqH3XE"
   },
   "source": [
    "### Display and describe the X_train dataframe "
   ]
  },
  {
   "cell_type": "code",
   "execution_count": 724,
   "id": "e6bcf307",
   "metadata": {
    "colab": {
     "base_uri": "https://localhost:8080/",
     "height": 423
    },
    "id": "e6bcf307",
    "outputId": "fc68c8df-9447-4dd6-dadd-3d9e515fe8f5"
   },
   "outputs": [
    {
     "data": {
      "text/html": [
       "\n",
       "  <div id=\"df-4167c4fa-19c2-450a-92e9-bfecc299fee4\">\n",
       "    <div class=\"colab-df-container\">\n",
       "      <div>\n",
       "<style scoped>\n",
       "    .dataframe tbody tr th:only-of-type {\n",
       "        vertical-align: middle;\n",
       "    }\n",
       "\n",
       "    .dataframe tbody tr th {\n",
       "        vertical-align: top;\n",
       "    }\n",
       "\n",
       "    .dataframe thead th {\n",
       "        text-align: right;\n",
       "    }\n",
       "</style>\n",
       "<table border=\"1\" class=\"dataframe\">\n",
       "  <thead>\n",
       "    <tr style=\"text-align: right;\">\n",
       "      <th></th>\n",
       "      <th>business_code</th>\n",
       "      <th>cust_number</th>\n",
       "      <th>name_customer</th>\n",
       "      <th>buisness_year</th>\n",
       "      <th>doc_id</th>\n",
       "      <th>posting_date</th>\n",
       "      <th>due_in_date</th>\n",
       "      <th>baseline_create_date</th>\n",
       "      <th>cust_payment_terms</th>\n",
       "      <th>converted_usd</th>\n",
       "    </tr>\n",
       "  </thead>\n",
       "  <tbody>\n",
       "    <tr>\n",
       "      <th>0</th>\n",
       "      <td>U001</td>\n",
       "      <td>0200769623</td>\n",
       "      <td>WAL-MAR corp</td>\n",
       "      <td>2020.0</td>\n",
       "      <td>1.930438e+09</td>\n",
       "      <td>2020-01-26</td>\n",
       "      <td>2020-02-10</td>\n",
       "      <td>2020-01-26</td>\n",
       "      <td>NAH4</td>\n",
       "      <td>54273.280</td>\n",
       "    </tr>\n",
       "    <tr>\n",
       "      <th>1</th>\n",
       "      <td>U001</td>\n",
       "      <td>0200980828</td>\n",
       "      <td>BEN E</td>\n",
       "      <td>2019.0</td>\n",
       "      <td>1.929646e+09</td>\n",
       "      <td>2019-07-22</td>\n",
       "      <td>2019-08-11</td>\n",
       "      <td>2019-07-22</td>\n",
       "      <td>NAD1</td>\n",
       "      <td>79656.600</td>\n",
       "    </tr>\n",
       "    <tr>\n",
       "      <th>2</th>\n",
       "      <td>U001</td>\n",
       "      <td>0200792734</td>\n",
       "      <td>MDV/ trust</td>\n",
       "      <td>2019.0</td>\n",
       "      <td>1.929874e+09</td>\n",
       "      <td>2019-09-14</td>\n",
       "      <td>2019-09-29</td>\n",
       "      <td>2019-09-14</td>\n",
       "      <td>NAA8</td>\n",
       "      <td>2253.860</td>\n",
       "    </tr>\n",
       "    <tr>\n",
       "      <th>4</th>\n",
       "      <td>U001</td>\n",
       "      <td>0200769623</td>\n",
       "      <td>WAL-MAR foundation</td>\n",
       "      <td>2019.0</td>\n",
       "      <td>1.930148e+09</td>\n",
       "      <td>2019-11-13</td>\n",
       "      <td>2019-11-28</td>\n",
       "      <td>2019-11-13</td>\n",
       "      <td>NAH4</td>\n",
       "      <td>33133.290</td>\n",
       "    </tr>\n",
       "    <tr>\n",
       "      <th>5</th>\n",
       "      <td>CA02</td>\n",
       "      <td>0140106181</td>\n",
       "      <td>THE  corporation</td>\n",
       "      <td>2019.0</td>\n",
       "      <td>2.960581e+09</td>\n",
       "      <td>2019-09-20</td>\n",
       "      <td>2019-10-04</td>\n",
       "      <td>2019-09-24</td>\n",
       "      <td>CA10</td>\n",
       "      <td>15558.088</td>\n",
       "    </tr>\n",
       "    <tr>\n",
       "      <th>...</th>\n",
       "      <td>...</td>\n",
       "      <td>...</td>\n",
       "      <td>...</td>\n",
       "      <td>...</td>\n",
       "      <td>...</td>\n",
       "      <td>...</td>\n",
       "      <td>...</td>\n",
       "      <td>...</td>\n",
       "      <td>...</td>\n",
       "      <td>...</td>\n",
       "    </tr>\n",
       "    <tr>\n",
       "      <th>29659</th>\n",
       "      <td>U001</td>\n",
       "      <td>0200772670</td>\n",
       "      <td>ASSOCIAT associates</td>\n",
       "      <td>2019.0</td>\n",
       "      <td>1.929725e+09</td>\n",
       "      <td>2019-08-08</td>\n",
       "      <td>2019-08-23</td>\n",
       "      <td>2019-08-08</td>\n",
       "      <td>NAU5</td>\n",
       "      <td>17737.190</td>\n",
       "    </tr>\n",
       "    <tr>\n",
       "      <th>29662</th>\n",
       "      <td>U001</td>\n",
       "      <td>0200794332</td>\n",
       "      <td>COST corporation</td>\n",
       "      <td>2020.0</td>\n",
       "      <td>1.930469e+09</td>\n",
       "      <td>2020-02-06</td>\n",
       "      <td>2020-02-21</td>\n",
       "      <td>2020-02-06</td>\n",
       "      <td>NAAX</td>\n",
       "      <td>62408.160</td>\n",
       "    </tr>\n",
       "    <tr>\n",
       "      <th>29663</th>\n",
       "      <td>U001</td>\n",
       "      <td>0200769623</td>\n",
       "      <td>WAL-MAR associates</td>\n",
       "      <td>2019.0</td>\n",
       "      <td>1.929143e+09</td>\n",
       "      <td>2019-04-14</td>\n",
       "      <td>2019-04-29</td>\n",
       "      <td>2019-04-14</td>\n",
       "      <td>NAH4</td>\n",
       "      <td>20265.150</td>\n",
       "    </tr>\n",
       "    <tr>\n",
       "      <th>29664</th>\n",
       "      <td>U001</td>\n",
       "      <td>0200696090</td>\n",
       "      <td>UNITE</td>\n",
       "      <td>2019.0</td>\n",
       "      <td>1.928950e+09</td>\n",
       "      <td>2019-03-18</td>\n",
       "      <td>2019-04-02</td>\n",
       "      <td>2019-03-18</td>\n",
       "      <td>NAA8</td>\n",
       "      <td>4962.340</td>\n",
       "    </tr>\n",
       "    <tr>\n",
       "      <th>29665</th>\n",
       "      <td>U001</td>\n",
       "      <td>200794332</td>\n",
       "      <td>COST in</td>\n",
       "      <td>2019.0</td>\n",
       "      <td>1.929087e+09</td>\n",
       "      <td>2019-04-08</td>\n",
       "      <td>2019-04-23</td>\n",
       "      <td>2019-04-08</td>\n",
       "      <td>NAAX</td>\n",
       "      <td>8041.590</td>\n",
       "    </tr>\n",
       "  </tbody>\n",
       "</table>\n",
       "<p>23494 rows × 10 columns</p>\n",
       "</div>\n",
       "      <button class=\"colab-df-convert\" onclick=\"convertToInteractive('df-4167c4fa-19c2-450a-92e9-bfecc299fee4')\"\n",
       "              title=\"Convert this dataframe to an interactive table.\"\n",
       "              style=\"display:none;\">\n",
       "        \n",
       "  <svg xmlns=\"http://www.w3.org/2000/svg\" height=\"24px\"viewBox=\"0 0 24 24\"\n",
       "       width=\"24px\">\n",
       "    <path d=\"M0 0h24v24H0V0z\" fill=\"none\"/>\n",
       "    <path d=\"M18.56 5.44l.94 2.06.94-2.06 2.06-.94-2.06-.94-.94-2.06-.94 2.06-2.06.94zm-11 1L8.5 8.5l.94-2.06 2.06-.94-2.06-.94L8.5 2.5l-.94 2.06-2.06.94zm10 10l.94 2.06.94-2.06 2.06-.94-2.06-.94-.94-2.06-.94 2.06-2.06.94z\"/><path d=\"M17.41 7.96l-1.37-1.37c-.4-.4-.92-.59-1.43-.59-.52 0-1.04.2-1.43.59L10.3 9.45l-7.72 7.72c-.78.78-.78 2.05 0 2.83L4 21.41c.39.39.9.59 1.41.59.51 0 1.02-.2 1.41-.59l7.78-7.78 2.81-2.81c.8-.78.8-2.07 0-2.86zM5.41 20L4 18.59l7.72-7.72 1.47 1.35L5.41 20z\"/>\n",
       "  </svg>\n",
       "      </button>\n",
       "      \n",
       "  <style>\n",
       "    .colab-df-container {\n",
       "      display:flex;\n",
       "      flex-wrap:wrap;\n",
       "      gap: 12px;\n",
       "    }\n",
       "\n",
       "    .colab-df-convert {\n",
       "      background-color: #E8F0FE;\n",
       "      border: none;\n",
       "      border-radius: 50%;\n",
       "      cursor: pointer;\n",
       "      display: none;\n",
       "      fill: #1967D2;\n",
       "      height: 32px;\n",
       "      padding: 0 0 0 0;\n",
       "      width: 32px;\n",
       "    }\n",
       "\n",
       "    .colab-df-convert:hover {\n",
       "      background-color: #E2EBFA;\n",
       "      box-shadow: 0px 1px 2px rgba(60, 64, 67, 0.3), 0px 1px 3px 1px rgba(60, 64, 67, 0.15);\n",
       "      fill: #174EA6;\n",
       "    }\n",
       "\n",
       "    [theme=dark] .colab-df-convert {\n",
       "      background-color: #3B4455;\n",
       "      fill: #D2E3FC;\n",
       "    }\n",
       "\n",
       "    [theme=dark] .colab-df-convert:hover {\n",
       "      background-color: #434B5C;\n",
       "      box-shadow: 0px 1px 3px 1px rgba(0, 0, 0, 0.15);\n",
       "      filter: drop-shadow(0px 1px 2px rgba(0, 0, 0, 0.3));\n",
       "      fill: #FFFFFF;\n",
       "    }\n",
       "  </style>\n",
       "\n",
       "      <script>\n",
       "        const buttonEl =\n",
       "          document.querySelector('#df-4167c4fa-19c2-450a-92e9-bfecc299fee4 button.colab-df-convert');\n",
       "        buttonEl.style.display =\n",
       "          google.colab.kernel.accessAllowed ? 'block' : 'none';\n",
       "\n",
       "        async function convertToInteractive(key) {\n",
       "          const element = document.querySelector('#df-4167c4fa-19c2-450a-92e9-bfecc299fee4');\n",
       "          const dataTable =\n",
       "            await google.colab.kernel.invokeFunction('convertToInteractive',\n",
       "                                                     [key], {});\n",
       "          if (!dataTable) return;\n",
       "\n",
       "          const docLinkHtml = 'Like what you see? Visit the ' +\n",
       "            '<a target=\"_blank\" href=https://colab.research.google.com/notebooks/data_table.ipynb>data table notebook</a>'\n",
       "            + ' to learn more about interactive tables.';\n",
       "          element.innerHTML = '';\n",
       "          dataTable['output_type'] = 'display_data';\n",
       "          await google.colab.output.renderOutput(dataTable, element);\n",
       "          const docLink = document.createElement('div');\n",
       "          docLink.innerHTML = docLinkHtml;\n",
       "          element.appendChild(docLink);\n",
       "        }\n",
       "      </script>\n",
       "    </div>\n",
       "  </div>\n",
       "  "
      ],
      "text/plain": [
       "      business_code cust_number  ... cust_payment_terms  converted_usd\n",
       "0              U001  0200769623  ...               NAH4      54273.280\n",
       "1              U001  0200980828  ...               NAD1      79656.600\n",
       "2              U001  0200792734  ...               NAA8       2253.860\n",
       "4              U001  0200769623  ...               NAH4      33133.290\n",
       "5              CA02  0140106181  ...               CA10      15558.088\n",
       "...             ...         ...  ...                ...            ...\n",
       "29659          U001  0200772670  ...               NAU5      17737.190\n",
       "29662          U001  0200794332  ...               NAAX      62408.160\n",
       "29663          U001  0200769623  ...               NAH4      20265.150\n",
       "29664          U001  0200696090  ...               NAA8       4962.340\n",
       "29665          U001   200794332  ...               NAAX       8041.590\n",
       "\n",
       "[23494 rows x 10 columns]"
      ]
     },
     "execution_count": 724,
     "metadata": {},
     "output_type": "execute_result"
    }
   ],
   "source": [
    "X_train"
   ]
  },
  {
   "cell_type": "code",
   "execution_count": 725,
   "id": "08ccc819",
   "metadata": {
    "colab": {
     "base_uri": "https://localhost:8080/",
     "height": 300
    },
    "id": "08ccc819",
    "outputId": "1dfde04f-c21b-47a1-d51d-f00e30488c4c"
   },
   "outputs": [
    {
     "data": {
      "text/html": [
       "\n",
       "  <div id=\"df-a5090cb2-a954-496c-be85-082d51fea9c8\">\n",
       "    <div class=\"colab-df-container\">\n",
       "      <div>\n",
       "<style scoped>\n",
       "    .dataframe tbody tr th:only-of-type {\n",
       "        vertical-align: middle;\n",
       "    }\n",
       "\n",
       "    .dataframe tbody tr th {\n",
       "        vertical-align: top;\n",
       "    }\n",
       "\n",
       "    .dataframe thead th {\n",
       "        text-align: right;\n",
       "    }\n",
       "</style>\n",
       "<table border=\"1\" class=\"dataframe\">\n",
       "  <thead>\n",
       "    <tr style=\"text-align: right;\">\n",
       "      <th></th>\n",
       "      <th>buisness_year</th>\n",
       "      <th>doc_id</th>\n",
       "      <th>converted_usd</th>\n",
       "    </tr>\n",
       "  </thead>\n",
       "  <tbody>\n",
       "    <tr>\n",
       "      <th>count</th>\n",
       "      <td>23494.000000</td>\n",
       "      <td>2.349400e+04</td>\n",
       "      <td>23494.000000</td>\n",
       "    </tr>\n",
       "    <tr>\n",
       "      <th>mean</th>\n",
       "      <td>2019.132842</td>\n",
       "      <td>2.012017e+09</td>\n",
       "      <td>30762.476822</td>\n",
       "    </tr>\n",
       "    <tr>\n",
       "      <th>std</th>\n",
       "      <td>0.339412</td>\n",
       "      <td>2.853757e+08</td>\n",
       "      <td>36595.303329</td>\n",
       "    </tr>\n",
       "    <tr>\n",
       "      <th>min</th>\n",
       "      <td>2019.000000</td>\n",
       "      <td>1.928502e+09</td>\n",
       "      <td>2.400000</td>\n",
       "    </tr>\n",
       "    <tr>\n",
       "      <th>25%</th>\n",
       "      <td>2019.000000</td>\n",
       "      <td>1.929181e+09</td>\n",
       "      <td>4620.800000</td>\n",
       "    </tr>\n",
       "    <tr>\n",
       "      <th>50%</th>\n",
       "      <td>2019.000000</td>\n",
       "      <td>1.929733e+09</td>\n",
       "      <td>17027.670000</td>\n",
       "    </tr>\n",
       "    <tr>\n",
       "      <th>75%</th>\n",
       "      <td>2019.000000</td>\n",
       "      <td>1.930209e+09</td>\n",
       "      <td>45545.810000</td>\n",
       "    </tr>\n",
       "    <tr>\n",
       "      <th>max</th>\n",
       "      <td>2020.000000</td>\n",
       "      <td>9.500000e+09</td>\n",
       "      <td>668593.360000</td>\n",
       "    </tr>\n",
       "  </tbody>\n",
       "</table>\n",
       "</div>\n",
       "      <button class=\"colab-df-convert\" onclick=\"convertToInteractive('df-a5090cb2-a954-496c-be85-082d51fea9c8')\"\n",
       "              title=\"Convert this dataframe to an interactive table.\"\n",
       "              style=\"display:none;\">\n",
       "        \n",
       "  <svg xmlns=\"http://www.w3.org/2000/svg\" height=\"24px\"viewBox=\"0 0 24 24\"\n",
       "       width=\"24px\">\n",
       "    <path d=\"M0 0h24v24H0V0z\" fill=\"none\"/>\n",
       "    <path d=\"M18.56 5.44l.94 2.06.94-2.06 2.06-.94-2.06-.94-.94-2.06-.94 2.06-2.06.94zm-11 1L8.5 8.5l.94-2.06 2.06-.94-2.06-.94L8.5 2.5l-.94 2.06-2.06.94zm10 10l.94 2.06.94-2.06 2.06-.94-2.06-.94-.94-2.06-.94 2.06-2.06.94z\"/><path d=\"M17.41 7.96l-1.37-1.37c-.4-.4-.92-.59-1.43-.59-.52 0-1.04.2-1.43.59L10.3 9.45l-7.72 7.72c-.78.78-.78 2.05 0 2.83L4 21.41c.39.39.9.59 1.41.59.51 0 1.02-.2 1.41-.59l7.78-7.78 2.81-2.81c.8-.78.8-2.07 0-2.86zM5.41 20L4 18.59l7.72-7.72 1.47 1.35L5.41 20z\"/>\n",
       "  </svg>\n",
       "      </button>\n",
       "      \n",
       "  <style>\n",
       "    .colab-df-container {\n",
       "      display:flex;\n",
       "      flex-wrap:wrap;\n",
       "      gap: 12px;\n",
       "    }\n",
       "\n",
       "    .colab-df-convert {\n",
       "      background-color: #E8F0FE;\n",
       "      border: none;\n",
       "      border-radius: 50%;\n",
       "      cursor: pointer;\n",
       "      display: none;\n",
       "      fill: #1967D2;\n",
       "      height: 32px;\n",
       "      padding: 0 0 0 0;\n",
       "      width: 32px;\n",
       "    }\n",
       "\n",
       "    .colab-df-convert:hover {\n",
       "      background-color: #E2EBFA;\n",
       "      box-shadow: 0px 1px 2px rgba(60, 64, 67, 0.3), 0px 1px 3px 1px rgba(60, 64, 67, 0.15);\n",
       "      fill: #174EA6;\n",
       "    }\n",
       "\n",
       "    [theme=dark] .colab-df-convert {\n",
       "      background-color: #3B4455;\n",
       "      fill: #D2E3FC;\n",
       "    }\n",
       "\n",
       "    [theme=dark] .colab-df-convert:hover {\n",
       "      background-color: #434B5C;\n",
       "      box-shadow: 0px 1px 3px 1px rgba(0, 0, 0, 0.15);\n",
       "      filter: drop-shadow(0px 1px 2px rgba(0, 0, 0, 0.3));\n",
       "      fill: #FFFFFF;\n",
       "    }\n",
       "  </style>\n",
       "\n",
       "      <script>\n",
       "        const buttonEl =\n",
       "          document.querySelector('#df-a5090cb2-a954-496c-be85-082d51fea9c8 button.colab-df-convert');\n",
       "        buttonEl.style.display =\n",
       "          google.colab.kernel.accessAllowed ? 'block' : 'none';\n",
       "\n",
       "        async function convertToInteractive(key) {\n",
       "          const element = document.querySelector('#df-a5090cb2-a954-496c-be85-082d51fea9c8');\n",
       "          const dataTable =\n",
       "            await google.colab.kernel.invokeFunction('convertToInteractive',\n",
       "                                                     [key], {});\n",
       "          if (!dataTable) return;\n",
       "\n",
       "          const docLinkHtml = 'Like what you see? Visit the ' +\n",
       "            '<a target=\"_blank\" href=https://colab.research.google.com/notebooks/data_table.ipynb>data table notebook</a>'\n",
       "            + ' to learn more about interactive tables.';\n",
       "          element.innerHTML = '';\n",
       "          dataTable['output_type'] = 'display_data';\n",
       "          await google.colab.output.renderOutput(dataTable, element);\n",
       "          const docLink = document.createElement('div');\n",
       "          docLink.innerHTML = docLinkHtml;\n",
       "          element.appendChild(docLink);\n",
       "        }\n",
       "      </script>\n",
       "    </div>\n",
       "  </div>\n",
       "  "
      ],
      "text/plain": [
       "       buisness_year        doc_id  converted_usd\n",
       "count   23494.000000  2.349400e+04   23494.000000\n",
       "mean     2019.132842  2.012017e+09   30762.476822\n",
       "std         0.339412  2.853757e+08   36595.303329\n",
       "min      2019.000000  1.928502e+09       2.400000\n",
       "25%      2019.000000  1.929181e+09    4620.800000\n",
       "50%      2019.000000  1.929733e+09   17027.670000\n",
       "75%      2019.000000  1.930209e+09   45545.810000\n",
       "max      2020.000000  9.500000e+09  668593.360000"
      ]
     },
     "execution_count": 725,
     "metadata": {},
     "output_type": "execute_result"
    }
   ],
   "source": [
    "X_train.describe()"
   ]
  },
  {
   "cell_type": "markdown",
   "id": "abd7ac8b",
   "metadata": {
    "id": "abd7ac8b"
   },
   "source": [
    "#### The \"business_code\" column inside X_train, is a categorical column, so you need to perform Labelencoder on that particular column\n",
    "\n",
    "- Note - call the Label Encoder from sklearn library and use the fit() function on \"business_code\" column\n",
    "- Note - Please fill in the blanks (two) to complete this code"
   ]
  },
  {
   "cell_type": "code",
   "execution_count": 726,
   "id": "7c223545",
   "metadata": {
    "colab": {
     "base_uri": "https://localhost:8080/"
    },
    "id": "7c223545",
    "outputId": "417ea5a9-9368-48ed-a9f3-30de61e6bfba"
   },
   "outputs": [
    {
     "data": {
      "text/plain": [
       "LabelEncoder()"
      ]
     },
     "execution_count": 726,
     "metadata": {},
     "output_type": "execute_result"
    }
   ],
   "source": [
    "from sklearn.preprocessing import LabelEncoder\n",
    "business_coder = LabelEncoder()\n",
    "business_coder.fit(X_train['business_code'])"
   ]
  },
  {
   "cell_type": "markdown",
   "id": "f86f7d9c",
   "metadata": {
    "id": "f86f7d9c"
   },
   "source": [
    "#### You are expected to store the value into a new column i.e. \"business_code_enc\"\n",
    "\n",
    "- Note - For Training set you are expected to use fit_trainsform()\n",
    "- Note - For Test set you are expected to use the trainsform()\n",
    "- Note - For Validation set you are expected to use the trainsform()\n",
    "\n",
    "\n",
    "- Partial code is provided, please fill in the blanks "
   ]
  },
  {
   "cell_type": "code",
   "execution_count": 727,
   "id": "4269c307",
   "metadata": {
    "id": "4269c307"
   },
   "outputs": [],
   "source": [
    "X_train['business_code_enc'] = business_coder.fit_transform(X_train['business_code'])"
   ]
  },
  {
   "cell_type": "code",
   "execution_count": 728,
   "id": "70a53712",
   "metadata": {
    "id": "70a53712"
   },
   "outputs": [],
   "source": [
    "X_val['business_code_enc'] = business_coder.transform(X_val['business_code'])\n",
    "X_test['business_code_enc'] = business_coder.transform(X_test['business_code'])"
   ]
  },
  {
   "cell_type": "markdown",
   "id": "gdNYxTkqNfmz",
   "metadata": {
    "id": "gdNYxTkqNfmz"
   },
   "source": [
    "### Display \"business_code\" and \"business_code_enc\" together from X_train dataframe "
   ]
  },
  {
   "cell_type": "code",
   "execution_count": 729,
   "id": "1196a002",
   "metadata": {
    "colab": {
     "base_uri": "https://localhost:8080/"
    },
    "id": "1196a002",
    "outputId": "9ed217ec-fc02-41e0-e6da-d6828f2038ef"
   },
   "outputs": [
    {
     "data": {
      "text/plain": [
       "0        U001\n",
       "1        U001\n",
       "2        U001\n",
       "4        U001\n",
       "5        CA02\n",
       "         ... \n",
       "29659    U001\n",
       "29662    U001\n",
       "29663    U001\n",
       "29664    U001\n",
       "29665    U001\n",
       "Name: business_code, Length: 23494, dtype: object"
      ]
     },
     "execution_count": 729,
     "metadata": {},
     "output_type": "execute_result"
    }
   ],
   "source": [
    "X_train[\"business_code\"]\n"
   ]
  },
  {
   "cell_type": "code",
   "execution_count": 730,
   "id": "19wRTY2tDWpS",
   "metadata": {
    "colab": {
     "base_uri": "https://localhost:8080/"
    },
    "id": "19wRTY2tDWpS",
    "outputId": "533cdae7-3a9f-405c-eaa0-04b053b24461"
   },
   "outputs": [
    {
     "data": {
      "text/plain": [
       "0        1\n",
       "1        1\n",
       "2        1\n",
       "4        1\n",
       "5        0\n",
       "        ..\n",
       "29659    1\n",
       "29662    1\n",
       "29663    1\n",
       "29664    1\n",
       "29665    1\n",
       "Name: business_code_enc, Length: 23494, dtype: int64"
      ]
     },
     "execution_count": 730,
     "metadata": {},
     "output_type": "execute_result"
    }
   ],
   "source": [
    "X_train[\"business_code_enc\"]"
   ]
  },
  {
   "cell_type": "markdown",
   "id": "11477224",
   "metadata": {
    "id": "11477224"
   },
   "source": [
    "#### Create a function called \"custom\" for dropping the columns 'business_code' from train, test and validation dataframe\n",
    "\n",
    "- Note - Fill in the blank to complete the code"
   ]
  },
  {
   "cell_type": "code",
   "execution_count": 731,
   "id": "1052868a",
   "metadata": {
    "id": "1052868a"
   },
   "outputs": [],
   "source": [
    "def custom(col ,traindf = X_train,valdf = X_val,testdf = X_test):\n",
    "    traindf.drop(col, axis =1,inplace=True)\n",
    "    valdf.drop(col,axis=1 , inplace=True)\n",
    "    testdf.drop(col,axis=1 , inplace=True)\n",
    "\n",
    "    return traindf,valdf ,testdf"
   ]
  },
  {
   "cell_type": "markdown",
   "id": "rI--ZuMbNLne",
   "metadata": {
    "id": "rI--ZuMbNLne"
   },
   "source": [
    "### Call the function by passing the column name which needed to be dropped from train, test and validation dataframes. Return updated dataframes to be stored in X_train ,X_val, X_test  \n",
    "\n",
    "- Note = Fill in the blank to complete the code "
   ]
  },
  {
   "cell_type": "code",
   "execution_count": 732,
   "id": "1a0f955c",
   "metadata": {
    "id": "1a0f955c"
   },
   "outputs": [],
   "source": [
    "X_train , X_val , X_test = custom(['business_code'])"
   ]
  },
  {
   "cell_type": "markdown",
   "id": "28b5b27e",
   "metadata": {
    "id": "28b5b27e"
   },
   "source": [
    "### Manually replacing str values with numbers, Here we are trying manually replace the customer numbers with some specific values like, 'CCCA' as 1, 'CCU' as 2 and so on. Also we are converting the datatype \"cust_number\" field to int type.\n",
    "\n",
    "- We are doing it for all the three dataframes as shown below. This is fully completed code. No need to modify anything here \n",
    "\n"
   ]
  },
  {
   "cell_type": "code",
   "execution_count": 733,
   "id": "85dd129e",
   "metadata": {
    "id": "85dd129e"
   },
   "outputs": [],
   "source": [
    "X_train['cust_number'] = X_train['cust_number'].str.replace('CCCA',\"1\").str.replace('CCU',\"2\").str.replace('CC',\"3\").astype(int)\n",
    "X_test['cust_number'] = X_test['cust_number'].str.replace('CCCA',\"1\").str.replace('CCU',\"2\").str.replace('CC',\"3\").astype(int)\n",
    "X_val['cust_number'] = X_val['cust_number'].str.replace('CCCA',\"1\").str.replace('CCU',\"2\").str.replace('CC',\"3\").astype(int)\n"
   ]
  },
  {
   "cell_type": "markdown",
   "id": "U8vA-zmdPnJ8",
   "metadata": {
    "id": "U8vA-zmdPnJ8"
   },
   "source": [
    "#### It differs from LabelEncoder by handling new classes and providing a value for it [Unknown]. Unknown will be added in fit and transform will take care of new item. It gives unknown class id.\n",
    "\n",
    "#### This will fit the encoder for all the unique values and introduce unknown value\n",
    "\n",
    "- Note - Keep this code as it is, we will be using this later on.  "
   ]
  },
  {
   "cell_type": "code",
   "execution_count": 734,
   "id": "151f48ba",
   "metadata": {
    "id": "151f48ba"
   },
   "outputs": [],
   "source": [
    "#For encoding unseen labels\n",
    "class EncoderExt(object):\n",
    "    def __init__(self):\n",
    "        self.label_encoder = LabelEncoder()\n",
    "    def fit(self, data_list):\n",
    "        self.label_encoder = self.label_encoder.fit(list(data_list) + ['Unknown'])\n",
    "        self.classes_ = self.label_encoder.classes_\n",
    "        return self\n",
    "    def transform(self, data_list):\n",
    "        new_data_list = list(data_list)\n",
    "        for unique_item in np.unique(data_list):\n",
    "            if unique_item not in self.label_encoder.classes_:\n",
    "                new_data_list = ['Unknown' if x==unique_item else x for x in new_data_list]\n",
    "        return self.label_encoder.transform(new_data_list)"
   ]
  },
  {
   "cell_type": "markdown",
   "id": "254c64e6",
   "metadata": {
    "id": "254c64e6"
   },
   "source": [
    "### Use the user define Label Encoder function called \"EncoderExt\" for the \"name_customer\" column\n",
    "\n",
    "- Note - Keep the code as it is, no need to change"
   ]
  },
  {
   "cell_type": "code",
   "execution_count": 735,
   "id": "62b17eff",
   "metadata": {
    "id": "62b17eff"
   },
   "outputs": [],
   "source": [
    "label_encoder = EncoderExt()\n",
    "label_encoder.fit(X_train['name_customer'])\n",
    "X_train['name_customer_enc']=label_encoder.transform(X_train['name_customer'])\n",
    "X_val['name_customer_enc']=label_encoder.transform(X_val['name_customer'])\n",
    "X_test['name_customer_enc']=label_encoder.transform(X_test['name_customer'])"
   ]
  },
  {
   "cell_type": "markdown",
   "id": "mK7LMoy2QZhy",
   "metadata": {
    "id": "mK7LMoy2QZhy"
   },
   "source": [
    "### As we have created the a new column \"name_customer_enc\", so now drop \"name_customer\" column from all three dataframes\n",
    "\n",
    "- Note - Keep the code as it is, no need to change"
   ]
  },
  {
   "cell_type": "code",
   "execution_count": 736,
   "id": "ef85f1c0",
   "metadata": {
    "id": "ef85f1c0"
   },
   "outputs": [],
   "source": [
    "X_train ,X_val, X_test = custom(['name_customer'])"
   ]
  },
  {
   "cell_type": "markdown",
   "id": "3aa09d22",
   "metadata": {
    "id": "3aa09d22"
   },
   "source": [
    "### Using Label Encoder for the \"cust_payment_terms\" column\n",
    "\n",
    "- Note - Keep the code as it is, no need to change"
   ]
  },
  {
   "cell_type": "code",
   "execution_count": 737,
   "id": "6f9ab642",
   "metadata": {
    "id": "6f9ab642"
   },
   "outputs": [],
   "source": [
    "label_encoder1 = EncoderExt()\n",
    "label_encoder1.fit(X_train['cust_payment_terms'])\n",
    "X_train['cust_payment_terms_enc']=label_encoder1.transform(X_train['cust_payment_terms'])\n",
    "X_val['cust_payment_terms_enc']=label_encoder1.transform(X_val['cust_payment_terms'])\n",
    "X_test['cust_payment_terms_enc']=label_encoder1.transform(X_test['cust_payment_terms'])"
   ]
  },
  {
   "cell_type": "code",
   "execution_count": 738,
   "id": "55f9a7c2",
   "metadata": {
    "id": "55f9a7c2"
   },
   "outputs": [],
   "source": [
    "X_train ,X_val, X_test = custom(['cust_payment_terms'])"
   ]
  },
  {
   "cell_type": "markdown",
   "id": "0788f42b",
   "metadata": {
    "id": "0788f42b"
   },
   "source": [
    "## Check the datatype of all the columns of Train, Test and Validation dataframes realted to X\n",
    "\n",
    "- Note - You are expected yo use dtype"
   ]
  },
  {
   "cell_type": "code",
   "execution_count": 739,
   "id": "bc79a316",
   "metadata": {
    "colab": {
     "base_uri": "https://localhost:8080/"
    },
    "id": "bc79a316",
    "outputId": "6dcfc09f-f68f-4048-f16c-7a1d82e30be1"
   },
   "outputs": [
    {
     "data": {
      "text/plain": [
       "cust_number                        int64\n",
       "buisness_year                    float64\n",
       "doc_id                           float64\n",
       "posting_date              datetime64[ns]\n",
       "due_in_date               datetime64[ns]\n",
       "baseline_create_date      datetime64[ns]\n",
       "converted_usd                    float64\n",
       "business_code_enc                  int64\n",
       "name_customer_enc                  int64\n",
       "cust_payment_terms_enc             int64\n",
       "dtype: object"
      ]
     },
     "execution_count": 739,
     "metadata": {},
     "output_type": "execute_result"
    }
   ],
   "source": [
    "X_train.dtypes\n"
   ]
  },
  {
   "cell_type": "code",
   "execution_count": 740,
   "id": "b33242d8",
   "metadata": {
    "colab": {
     "base_uri": "https://localhost:8080/"
    },
    "id": "b33242d8",
    "outputId": "8aed900b-f72c-47ca-adf8-cbdd5a6469f2"
   },
   "outputs": [
    {
     "data": {
      "text/plain": [
       "cust_number                        int64\n",
       "buisness_year                    float64\n",
       "doc_id                           float64\n",
       "posting_date              datetime64[ns]\n",
       "due_in_date               datetime64[ns]\n",
       "baseline_create_date      datetime64[ns]\n",
       "converted_usd                    float64\n",
       "business_code_enc                  int64\n",
       "name_customer_enc                  int64\n",
       "cust_payment_terms_enc             int64\n",
       "dtype: object"
      ]
     },
     "execution_count": 740,
     "metadata": {},
     "output_type": "execute_result"
    }
   ],
   "source": [
    "X_val.dtypes"
   ]
  },
  {
   "cell_type": "code",
   "execution_count": 741,
   "id": "6bd4da71",
   "metadata": {
    "colab": {
     "base_uri": "https://localhost:8080/"
    },
    "id": "6bd4da71",
    "outputId": "7543cbff-2503-489e-bbf6-f75ce69c78da"
   },
   "outputs": [
    {
     "data": {
      "text/plain": [
       "cust_number                        int64\n",
       "buisness_year                    float64\n",
       "doc_id                           float64\n",
       "posting_date              datetime64[ns]\n",
       "due_in_date               datetime64[ns]\n",
       "baseline_create_date      datetime64[ns]\n",
       "converted_usd                    float64\n",
       "business_code_enc                  int64\n",
       "name_customer_enc                  int64\n",
       "cust_payment_terms_enc             int64\n",
       "dtype: object"
      ]
     },
     "execution_count": 741,
     "metadata": {},
     "output_type": "execute_result"
    }
   ],
   "source": [
    "X_test.dtypes\n"
   ]
  },
  {
   "cell_type": "markdown",
   "id": "LVfvuPiWPeMB",
   "metadata": {
    "id": "LVfvuPiWPeMB"
   },
   "source": [
    "### From the above output you can notice their are multiple date columns with datetime format\n",
    "\n",
    "### In order to pass it into our model, we need to convert it into float format"
   ]
  },
  {
   "cell_type": "markdown",
   "id": "9d344db9",
   "metadata": {
    "id": "9d344db9"
   },
   "source": [
    "### You need to extract day, month and year from the \"posting_date\" column \n",
    "\n",
    "1.   Extract days from \"posting_date\" column and store it into a new column \"day_of_postingdate\" for train, test and validation dataset \n",
    "2.   Extract months from \"posting_date\" column and store it into a new column \"month_of_postingdate\" for train, test and validation dataset\n",
    "3.   Extract year from \"posting_date\" column and store it into a new column \"year_of_postingdate\" for train, test and validation dataset \n",
    "\n",
    "\n",
    "\n",
    "- Note - You are supposed yo use \n",
    "\n",
    "*   dt.day\n",
    "*   dt.month\n",
    "*   dt.year\n",
    "\n",
    "\n",
    "\n",
    "\n"
   ]
  },
  {
   "cell_type": "code",
   "execution_count": 742,
   "id": "6e3cdfd6",
   "metadata": {
    "id": "6e3cdfd6"
   },
   "outputs": [],
   "source": [
    "X_train['day_of_postingdate'] = X_train['posting_date'].dt.day\n",
    "X_train['month_of_postingdate'] = X_train['posting_date'].dt.month\n",
    "X_train['year_of_postingdate'] = X_train['posting_date'].dt.year\n",
    "\n",
    "X_val['day_of_postingdate'] = X_val['posting_date'].dt.day\n",
    "X_val['month_of_postingdate'] = X_val['posting_date'].dt.month\n",
    "X_val['year_of_postingdate'] = X_val['posting_date'].dt.year\n",
    "\n",
    "\n",
    "X_test['day_of_postingdate'] = X_test['posting_date'].dt.day\n",
    "X_test['month_of_postingdate'] = X_test['posting_date'].dt.month\n",
    "X_test['year_of_postingdate'] = X_test['posting_date'].dt.year\n",
    "\n"
   ]
  },
  {
   "cell_type": "markdown",
   "id": "GyI-F853Rxa7",
   "metadata": {
    "id": "GyI-F853Rxa7"
   },
   "source": [
    "### pass the \"posting_date\" column into the Custom function for train, test and validation dataset"
   ]
  },
  {
   "cell_type": "code",
   "execution_count": 743,
   "id": "FQHtQkrnRx_V",
   "metadata": {
    "id": "FQHtQkrnRx_V"
   },
   "outputs": [],
   "source": [
    "X_train ,X_val, X_test = custom(['posting_date'])"
   ]
  },
  {
   "cell_type": "markdown",
   "id": "GMnCaEcKReSw",
   "metadata": {
    "id": "GMnCaEcKReSw"
   },
   "source": [
    "### You need to extract day, month and year from the \"baseline_create_date\" column \n",
    "\n",
    "1.   Extract days from \"baseline_create_date\" column and store it into a new column \"day_of_createdate\" for train, test and validation dataset \n",
    "2.   Extract months from \"baseline_create_date\" column and store it into a new column \"month_of_createdate\" for train, test and validation dataset\n",
    "3.   Extract year from \"baseline_create_date\" column and store it into a new column \"year_of_createdate\" for train, test and validation dataset \n",
    "\n",
    "\n",
    "\n",
    "- Note - You are supposed yo use \n",
    "\n",
    "*   dt.day\n",
    "*   dt.month\n",
    "*   dt.year\n",
    "\n",
    "\n",
    "- Note - Do as it is been shown in the previous two code boxes"
   ]
  },
  {
   "cell_type": "markdown",
   "id": "ee4d83d0",
   "metadata": {
    "id": "ee4d83d0"
   },
   "source": [
    "### Extracting Day, Month, Year for 'baseline_create_date' column"
   ]
  },
  {
   "cell_type": "code",
   "execution_count": 744,
   "id": "32b240e1",
   "metadata": {
    "id": "32b240e1"
   },
   "outputs": [],
   "source": [
    "X_train['day_of_createdate'] = X_train['baseline_create_date'].dt.day\n",
    "X_train['month_of_createdate'] = X_train['baseline_create_date'].dt.month\n",
    "X_train['year_of_createdate'] = X_train['baseline_create_date'].dt.year\n",
    "\n",
    "X_val['day_of_createdate'] = X_val['baseline_create_date'].dt.day\n",
    "X_val['month_of_createdate'] = X_val['baseline_create_date'].dt.month\n",
    "X_val['year_of_createdate'] = X_val['baseline_create_date'].dt.year\n",
    "\n",
    "X_test['day_of_createdate'] = X_test['baseline_create_date'].dt.day\n",
    "X_test['month_of_createdate'] = X_test['baseline_create_date'].dt.month\n",
    "X_test['year_of_createdate'] = X_test['baseline_create_date'].dt.year"
   ]
  },
  {
   "cell_type": "markdown",
   "id": "cFgwkS5rSDDs",
   "metadata": {
    "id": "cFgwkS5rSDDs"
   },
   "source": [
    "### pass the \"baseline_create_date\" column into the Custom function for train, test and validation dataset"
   ]
  },
  {
   "cell_type": "code",
   "execution_count": 745,
   "id": "RGYa2BEQSDg3",
   "metadata": {
    "id": "RGYa2BEQSDg3"
   },
   "outputs": [],
   "source": [
    "X_train ,X_val, X_test = custom(['baseline_create_date'])"
   ]
  },
  {
   "cell_type": "markdown",
   "id": "77c7a0df",
   "metadata": {
    "id": "77c7a0df"
   },
   "source": [
    "### You need to extract day, month and year from the \"due_in_date\" column \n",
    "\n",
    "1.   Extract days from \"due_in_date\" column and store it into a new column \"day_of_due\" for train, test and validation dataset \n",
    "2.   Extract months from \"due_in_date\" column and store it into a new column \"month_of_due\" for train, test and validation dataset\n",
    "3.   Extract year from \"due_in_date\" column and store it into a new column \"year_of_due\" for train, test and validation dataset \n",
    "\n",
    "\n",
    "\n",
    "- Note - You are supposed yo use \n",
    "\n",
    "*   dt.day\n",
    "*   dt.month\n",
    "*   dt.year\n",
    "\n",
    "- Note - Do as it is been shown in the previous code"
   ]
  },
  {
   "cell_type": "code",
   "execution_count": 746,
   "id": "5c745547",
   "metadata": {
    "id": "5c745547"
   },
   "outputs": [],
   "source": [
    "X_train['day_of_due'] = X_train['due_in_date'].dt.day\n",
    "X_train['month_of_due'] = X_train['due_in_date'].dt.month\n",
    "X_train['year_of_due'] = X_train['due_in_date'].dt.year\n",
    "\n",
    "X_val['day_of_due'] = X_val['due_in_date'].dt.day\n",
    "X_val['month_of_due'] = X_val['due_in_date'].dt.month\n",
    "X_val['year_of_due'] = X_val['due_in_date'].dt.year\n",
    "\n",
    "X_test['day_of_due'] = X_test['due_in_date'].dt.day\n",
    "X_test['month_of_due'] = X_test['due_in_date'].dt.month\n",
    "X_test['year_of_due'] = X_test['due_in_date'].dt.year"
   ]
  },
  {
   "cell_type": "markdown",
   "id": "FYLLzulGSvRd",
   "metadata": {
    "id": "FYLLzulGSvRd"
   },
   "source": [
    "pass the \"due_in_date\" column into the Custom function for train, test and validation dataset"
   ]
  },
  {
   "cell_type": "code",
   "execution_count": 747,
   "id": "1-s6QuY9Svrh",
   "metadata": {
    "id": "1-s6QuY9Svrh"
   },
   "outputs": [],
   "source": [
    "X_train ,X_val, X_test = custom(['due_in_date'])"
   ]
  },
  {
   "cell_type": "markdown",
   "id": "1ae5d052",
   "metadata": {
    "id": "1ae5d052"
   },
   "source": [
    "### Check for the datatypes for train, test and validation set again\n",
    "\n",
    "- Note - all the data type should be in either int64 or float64 format \n"
   ]
  },
  {
   "cell_type": "code",
   "execution_count": 748,
   "id": "aee9d828",
   "metadata": {
    "colab": {
     "base_uri": "https://localhost:8080/"
    },
    "id": "aee9d828",
    "outputId": "a9dcc892-fdf3-4c90-8cf3-74f4c6c74a6d"
   },
   "outputs": [
    {
     "data": {
      "text/plain": [
       "cust_number                 int64\n",
       "buisness_year             float64\n",
       "doc_id                    float64\n",
       "converted_usd             float64\n",
       "business_code_enc           int64\n",
       "name_customer_enc           int64\n",
       "cust_payment_terms_enc      int64\n",
       "day_of_postingdate          int64\n",
       "month_of_postingdate        int64\n",
       "year_of_postingdate         int64\n",
       "day_of_createdate           int64\n",
       "month_of_createdate         int64\n",
       "year_of_createdate          int64\n",
       "day_of_due                  int64\n",
       "month_of_due                int64\n",
       "year_of_due                 int64\n",
       "dtype: object"
      ]
     },
     "execution_count": 748,
     "metadata": {},
     "output_type": "execute_result"
    }
   ],
   "source": [
    "X_train.dtypes\n"
   ]
  },
  {
   "cell_type": "markdown",
   "id": "65810f55",
   "metadata": {
    "id": "65810f55"
   },
   "source": [
    "# Feature Selection"
   ]
  },
  {
   "cell_type": "markdown",
   "id": "4bb1ad9f",
   "metadata": {
    "id": "4bb1ad9f"
   },
   "source": [
    "### Filter Method\n",
    "\n",
    "- Calling the VarianceThreshold Function \n",
    "- Note - Keep the code as it is, no need to change "
   ]
  },
  {
   "cell_type": "code",
   "execution_count": 749,
   "id": "e882509f",
   "metadata": {
    "colab": {
     "base_uri": "https://localhost:8080/"
    },
    "id": "e882509f",
    "outputId": "860cb814-9b78-4b85-eee7-fb8bd23e1b9a"
   },
   "outputs": [
    {
     "data": {
      "text/plain": [
       "16"
      ]
     },
     "execution_count": 749,
     "metadata": {},
     "output_type": "execute_result"
    }
   ],
   "source": [
    "from sklearn.feature_selection import VarianceThreshold\n",
    "constant_filter = VarianceThreshold(threshold=0)\n",
    "constant_filter.fit(X_train)\n",
    "len(X_train.columns[constant_filter.get_support()])"
   ]
  },
  {
   "cell_type": "markdown",
   "id": "V9531H3jR-W2",
   "metadata": {
    "id": "V9531H3jR-W2"
   },
   "source": [
    "- Note - Keep the code as it is, no need to change \n"
   ]
  },
  {
   "cell_type": "code",
   "execution_count": 750,
   "id": "c77c12e1",
   "metadata": {
    "colab": {
     "base_uri": "https://localhost:8080/"
    },
    "id": "c77c12e1",
    "outputId": "f196dc75-f902-4483-c5fb-db101d21d1ff"
   },
   "outputs": [
    {
     "name": "stdout",
     "output_type": "stream",
     "text": [
      "0\n"
     ]
    }
   ],
   "source": [
    "constant_columns = [column for column in X_train.columns\n",
    "                    if column not in X_train.columns[constant_filter.get_support()]]\n",
    "print(len(constant_columns))"
   ]
  },
  {
   "cell_type": "markdown",
   "id": "6d9b8610",
   "metadata": {
    "id": "6d9b8610"
   },
   "source": [
    "- transpose the feature matrice\n",
    "- print the number of duplicated features\n",
    "- select the duplicated features columns names\n",
    "\n",
    "- Note - Keep the code as it is, no need to change \n"
   ]
  },
  {
   "cell_type": "code",
   "execution_count": 751,
   "id": "0fb7db95",
   "metadata": {
    "colab": {
     "base_uri": "https://localhost:8080/"
    },
    "id": "0fb7db95",
    "outputId": "8c19d2c1-522f-4163-8dd3-e0c05a83dbdc"
   },
   "outputs": [
    {
     "name": "stdout",
     "output_type": "stream",
     "text": [
      "0\n"
     ]
    }
   ],
   "source": [
    "x_train_T = X_train.T\n",
    "print(x_train_T.duplicated().sum())\n",
    "duplicated_columns = x_train_T[x_train_T.duplicated()].index.values"
   ]
  },
  {
   "cell_type": "markdown",
   "id": "510fa831",
   "metadata": {
    "id": "510fa831"
   },
   "source": [
    "### Filtering depending upon correlation matrix value\n",
    "- We have created a function called handling correlation which is going to return fields based on the correlation matrix value with a threshold of 0.8\n",
    "\n",
    "- Note - Keep the code as it is, no need to change "
   ]
  },
  {
   "cell_type": "code",
   "execution_count": 752,
   "id": "67731abc",
   "metadata": {
    "id": "67731abc"
   },
   "outputs": [],
   "source": [
    "def handling_correlation(X_train,threshold=0.8):\n",
    "    corr_features = set()\n",
    "    corr_matrix = X_train.corr()\n",
    "    for i in range(len(corr_matrix .columns)):\n",
    "        for j in range(i):\n",
    "            if abs(corr_matrix.iloc[i, j]) >threshold:\n",
    "                colname = corr_matrix.columns[i]\n",
    "                corr_features.add(colname)\n",
    "    return list(corr_features)"
   ]
  },
  {
   "cell_type": "markdown",
   "id": "JaE_6qVgSXl3",
   "metadata": {
    "id": "JaE_6qVgSXl3"
   },
   "source": [
    "- Note : Here we are trying to find out the relevant fields, from X_train\n",
    "- Please fill in the blanks to call handling_correlation() function with a threshold value of 0.85"
   ]
  },
  {
   "cell_type": "code",
   "execution_count": 753,
   "id": "dd91d1a2",
   "metadata": {
    "colab": {
     "base_uri": "https://localhost:8080/"
    },
    "id": "dd91d1a2",
    "outputId": "1f9be78b-a990-4317-c05e-f00c784b4048"
   },
   "outputs": [
    {
     "data": {
      "text/plain": [
       "['month_of_due',\n",
       " 'day_of_createdate',\n",
       " 'year_of_due',\n",
       " 'month_of_createdate',\n",
       " 'year_of_postingdate',\n",
       " 'year_of_createdate']"
      ]
     },
     "execution_count": 753,
     "metadata": {},
     "output_type": "execute_result"
    }
   ],
   "source": [
    "train=X_train.copy()\n",
    "handling_correlation(train.copy(),0.85)"
   ]
  },
  {
   "cell_type": "markdown",
   "id": "154da511",
   "metadata": {
    "id": "154da511"
   },
   "source": [
    "### Heatmap for X_train\n",
    "\n",
    "- Note - Keep the code as it is, no need to change"
   ]
  },
  {
   "cell_type": "code",
   "execution_count": 754,
   "id": "2e8f2fe4",
   "metadata": {
    "colab": {
     "base_uri": "https://localhost:8080/",
     "height": 859
    },
    "id": "2e8f2fe4",
    "outputId": "5d3b1965-aece-4657-af54-04bb3797c58f"
   },
   "outputs": [
    {
     "data": {
      "text/plain": [
       "<matplotlib.axes._subplots.AxesSubplot at 0x7fa748fd6c90>"
      ]
     },
     "execution_count": 754,
     "metadata": {},
     "output_type": "execute_result"
    },
    {
     "data": {
      "image/png": "[encoded data removed]",
      "text/plain": [
       "<Figure size 1008x864 with 2 Axes>"
      ]
     },
     "metadata": {
      "needs_background": "light"
     },
     "output_type": "display_data"
    }
   ],
   "source": [
    "colormap = plt.cm.RdBu\n",
    "plt.figure(figsize=(14,12))\n",
    "plt.title('Pearson Correlation of Features', y=1.05, size=20)\n",
    "sns.heatmap(X_train.merge(y_train , on = X_train.index ).corr(),linewidths=0.1,vmax=1.0, \n",
    "            square=True, cmap='gist_rainbow_r', linecolor='white', annot=True)"
   ]
  },
  {
   "cell_type": "markdown",
   "id": "e3b0d745",
   "metadata": {
    "id": "e3b0d745"
   },
   "source": [
    "#### Calling variance threshold for threshold value = 0.8\n",
    "\n",
    "- Note -  Fill in the blanks to call the appropriate method"
   ]
  },
  {
   "cell_type": "code",
   "execution_count": 755,
   "id": "a9b2080f",
   "metadata": {
    "colab": {
     "base_uri": "https://localhost:8080/"
    },
    "id": "a9b2080f",
    "outputId": "385b6c81-4f64-442a-b9c5-5e1f8d5dc4fa"
   },
   "outputs": [
    {
     "data": {
      "text/plain": [
       "VarianceThreshold(threshold=0.8)"
      ]
     },
     "execution_count": 755,
     "metadata": {},
     "output_type": "execute_result"
    }
   ],
   "source": [
    "from sklearn.feature_selection import VarianceThreshold\n",
    "sel = VarianceThreshold(0.8)\n",
    "sel.fit(X_train)"
   ]
  },
  {
   "cell_type": "code",
   "execution_count": 756,
   "id": "6cb8c3dc",
   "metadata": {
    "colab": {
     "base_uri": "https://localhost:8080/"
    },
    "id": "6cb8c3dc",
    "outputId": "101d5ce4-d504-4e98-e379-23f0b636de1d"
   },
   "outputs": [
    {
     "data": {
      "text/plain": [
       "array([1.79867713e+15, 1.15195317e-01, 8.14358365e+16, 1.33915922e+09,\n",
       "       2.89199371e-01, 1.06851239e+06, 1.17330626e+02, 7.55002009e+01,\n",
       "       1.22507253e+01, 1.15661120e-01, 7.71513423e+01, 1.22576245e+01,\n",
       "       1.15788866e-01, 7.61732267e+01, 1.20393869e+01, 1.18619907e-01])"
      ]
     },
     "execution_count": 756,
     "metadata": {},
     "output_type": "execute_result"
    }
   ],
   "source": [
    "sel.variances_"
   ]
  },
  {
   "cell_type": "markdown",
   "id": "62633a84",
   "metadata": {
    "id": "62633a84"
   },
   "source": [
    "### Features columns are \n",
    "- 'year_of_createdate' \n",
    "- 'year_of_due'\n",
    "- 'day_of_createdate'\n",
    "- 'year_of_postingdate'\n",
    "- 'month_of_due'\n",
    "- 'month_of_createdate'"
   ]
  },
  {
   "cell_type": "markdown",
   "id": "651f1ad0",
   "metadata": {
    "id": "651f1ad0"
   },
   "source": [
    "# Modelling \n",
    "\n",
    "#### Now you need to compare with different machine learning models, and needs to find out the best predicted model\n",
    "\n",
    "- Linear Regression\n",
    "- Decision Tree Regression\n",
    "- Random Forest Regression\n",
    "- Support Vector Regression\n",
    "- Extreme Gradient Boost Regression "
   ]
  },
  {
   "cell_type": "markdown",
   "id": "PicEhSuUUOkt",
   "metadata": {
    "id": "PicEhSuUUOkt"
   },
   "source": [
    "### You need to make different blank list for different evaluation matrix \n",
    "\n",
    "- MSE\n",
    "- R2\n",
    "- Algorithm"
   ]
  },
  {
   "cell_type": "code",
   "execution_count": 757,
   "id": "701e12b0",
   "metadata": {
    "id": "701e12b0"
   },
   "outputs": [],
   "source": [
    "MSE_Score = []\n",
    "R2_Score = []\n",
    "Algorithm = []\n",
    "from sklearn.metrics import mean_squared_error\n",
    "from sklearn.metrics import r2_score"
   ]
  },
  {
   "cell_type": "markdown",
   "id": "29310119",
   "metadata": {
    "id": "29310119"
   },
   "source": [
    "### You need to start with the baseline model Linear Regression\n",
    "\n",
    "- Step 1 : Call the Linear Regression from sklearn library\n",
    "- Step 2 : make an object of Linear Regression \n",
    "- Step 3 : fit the X_train and y_train dataframe into the object \n",
    "- Step 4 : Predict the output by passing the X_test Dataset into predict function\n",
    "\n",
    "\n",
    "\n",
    "\n",
    "- Note - Append the Algorithm name into the algorithm list for tracking purpose"
   ]
  },
  {
   "cell_type": "code",
   "execution_count": 758,
   "id": "6bdea395",
   "metadata": {
    "id": "6bdea395"
   },
   "outputs": [],
   "source": [
    "from sklearn.linear_model import LinearRegression\n",
    "Algorithm.append('LinearRegression')\n",
    "regressor = LinearRegression()\n",
    "regressor.fit(X_train, y_train)\n",
    "predicted= regressor.predict(X_test)"
   ]
  },
  {
   "cell_type": "markdown",
   "id": "G02cpnBhXJ14",
   "metadata": {
    "id": "G02cpnBhXJ14"
   },
   "source": [
    "### Check for the \n",
    "\n",
    "- Mean Square Error\n",
    "- R Square Error \n",
    "\n",
    "for y_test and predicted dataset and store those data inside respective list for comparison "
   ]
  },
  {
   "cell_type": "code",
   "execution_count": 759,
   "id": "0f69ca19",
   "metadata": {
    "id": "0f69ca19"
   },
   "outputs": [],
   "source": [
    "MSE_Score.append(mean_squared_error(y_test, predicted))\n",
    "R2_Score.append(r2_score(y_test, predicted))"
   ]
  },
  {
   "cell_type": "markdown",
   "id": "CsmScbHjYMv1",
   "metadata": {
    "id": "CsmScbHjYMv1"
   },
   "source": [
    "### Check the same for the Validation set also "
   ]
  },
  {
   "cell_type": "code",
   "execution_count": 760,
   "id": "fe653295",
   "metadata": {
    "colab": {
     "base_uri": "https://localhost:8080/"
    },
    "id": "fe653295",
    "outputId": "09c9d485-250e-437a-ef2a-d0bf18e2c14a"
   },
   "outputs": [
    {
     "data": {
      "text/plain": [
       "558507.5006372059"
      ]
     },
     "execution_count": 760,
     "metadata": {},
     "output_type": "execute_result"
    }
   ],
   "source": [
    "predict_test= regressor.predict(X_val)\n",
    "mean_squared_error(y_val, predict_test, squared=False)"
   ]
  },
  {
   "cell_type": "markdown",
   "id": "LokxV2LGYUVh",
   "metadata": {
    "id": "LokxV2LGYUVh"
   },
   "source": [
    "### Display The Comparison Lists"
   ]
  },
  {
   "cell_type": "code",
   "execution_count": 761,
   "id": "9c405bd3",
   "metadata": {
    "colab": {
     "base_uri": "https://localhost:8080/"
    },
    "id": "9c405bd3",
    "outputId": "a252729f-e7c8-435a-d0f8-57caee6cb7ce"
   },
   "outputs": [
    {
     "name": "stdout",
     "output_type": "stream",
     "text": [
      "['LinearRegression'],[301562116216.75525],[0.31842492203037553],"
     ]
    }
   ],
   "source": [
    "for i in Algorithm, MSE_Score, R2_Score:\n",
    "    print(i,end=',')"
   ]
  },
  {
   "cell_type": "markdown",
   "id": "b0e65c86",
   "metadata": {
    "id": "b0e65c86"
   },
   "source": [
    "### You need to start with the baseline model Support Vector Regression\n",
    "\n",
    "- Step 1 : Call the Support Vector Regressor from sklearn library\n",
    "- Step 2 : make an object of SVR\n",
    "- Step 3 : fit the X_train and y_train dataframe into the object \n",
    "- Step 4 : Predict the output by passing the X_test Dataset into predict function\n",
    "\n",
    "\n",
    "\n",
    "\n",
    "- Note - Append the Algorithm name into the algorithm list for tracking purpose"
   ]
  },
  {
   "cell_type": "code",
   "execution_count": 762,
   "id": "ccb5de08",
   "metadata": {
    "id": "ccb5de08"
   },
   "outputs": [],
   "source": [
    "from sklearn.svm import SVR\n",
    "Algorithm.append('Support Vector Regression')\n",
    "regressor = SVR()\n",
    "regressor.fit(X_train, y_train)\n",
    "predicted= regressor.predict(X_test)"
   ]
  },
  {
   "cell_type": "markdown",
   "id": "zz9kcrViYt7e",
   "metadata": {
    "id": "zz9kcrViYt7e"
   },
   "source": [
    "### Check for the \n",
    "\n",
    "- Mean Square Error\n",
    "- R Square Error \n",
    "\n",
    "for \"y_test\" and \"predicted\" dataset and store those data inside respective list for comparison "
   ]
  },
  {
   "cell_type": "code",
   "execution_count": 763,
   "id": "5bb9db76",
   "metadata": {
    "id": "5bb9db76"
   },
   "outputs": [],
   "source": [
    "MSE_Score.append(mean_squared_error(y_test, predicted))\n",
    "R2_Score.append(r2_score(y_test, predicted))"
   ]
  },
  {
   "cell_type": "markdown",
   "id": "0YAxd8N9Y0hJ",
   "metadata": {
    "id": "0YAxd8N9Y0hJ"
   },
   "source": [
    "### Check the same for the Validation set also "
   ]
  },
  {
   "cell_type": "code",
   "execution_count": 764,
   "id": "d6ee71b1",
   "metadata": {
    "colab": {
     "base_uri": "https://localhost:8080/"
    },
    "id": "d6ee71b1",
    "outputId": "93860ef8-4873-4857-fdd8-af6edb68de5d"
   },
   "outputs": [
    {
     "data": {
      "text/plain": [
       "698515.1697213296"
      ]
     },
     "execution_count": 764,
     "metadata": {},
     "output_type": "execute_result"
    }
   ],
   "source": [
    "predict_test= regressor.predict(X_val)\n",
    "mean_squared_error(y_val, predict_test, squared=False)"
   ]
  },
  {
   "cell_type": "markdown",
   "id": "eGcqS5EcY4BI",
   "metadata": {
    "id": "eGcqS5EcY4BI"
   },
   "source": [
    "### Display The Comparison Lists"
   ]
  },
  {
   "cell_type": "code",
   "execution_count": 765,
   "id": "aa72c1ec",
   "metadata": {
    "colab": {
     "base_uri": "https://localhost:8080/"
    },
    "id": "aa72c1ec",
    "outputId": "6128312b-4257-49cf-d327-6dcf0ad6ce71"
   },
   "outputs": [
    {
     "name": "stdout",
     "output_type": "stream",
     "text": [
      "['LinearRegression', 'Support Vector Regression'],[301562116216.75525, 444372053060.142],[0.31842492203037553, -0.004346701474567949],"
     ]
    }
   ],
   "source": [
    "for i in Algorithm, MSE_Score, R2_Score:\n",
    "    print(i,end=',')"
   ]
  },
  {
   "cell_type": "markdown",
   "id": "dad18bb3",
   "metadata": {
    "id": "dad18bb3"
   },
   "source": [
    "### Your next model would be Decision Tree Regression\n",
    "\n",
    "- Step 1 : Call the Decision Tree Regressor from sklearn library\n",
    "- Step 2 : make an object of Decision Tree\n",
    "- Step 3 : fit the X_train and y_train dataframe into the object \n",
    "- Step 4 : Predict the output by passing the X_test Dataset into predict function\n",
    "\n",
    "\n",
    "\n",
    "\n",
    "- Note - Append the Algorithm name into the algorithm list for tracking purpose"
   ]
  },
  {
   "cell_type": "code",
   "execution_count": 766,
   "id": "1b6a51eb",
   "metadata": {
    "id": "1b6a51eb"
   },
   "outputs": [],
   "source": [
    "from sklearn.tree import DecisionTreeRegressor\n",
    "Algorithm.append('Decision Tree Regression')\n",
    "regressor = DecisionTreeRegressor()\n",
    "regressor.fit(X_train, y_train)\n",
    "predicted= regressor.predict(X_test)"
   ]
  },
  {
   "cell_type": "markdown",
   "id": "AOzfgfeOZo3F",
   "metadata": {
    "id": "AOzfgfeOZo3F"
   },
   "source": [
    "### Check for the \n",
    "\n",
    "- Mean Square Error\n",
    "- R Square Error \n",
    "\n",
    "for y_test and predicted dataset and store those data inside respective list for comparison "
   ]
  },
  {
   "cell_type": "code",
   "execution_count": 767,
   "id": "776e6983",
   "metadata": {
    "id": "776e6983"
   },
   "outputs": [],
   "source": [
    "MSE_Score.append(mean_squared_error(y_test, predicted))\n",
    "R2_Score.append(r2_score(y_test, predicted))"
   ]
  },
  {
   "cell_type": "markdown",
   "id": "eI6d49DQZrhW",
   "metadata": {
    "id": "eI6d49DQZrhW"
   },
   "source": [
    "### Check the same for the Validation set also "
   ]
  },
  {
   "cell_type": "code",
   "execution_count": 768,
   "id": "155fb55c",
   "metadata": {
    "colab": {
     "base_uri": "https://localhost:8080/"
    },
    "id": "155fb55c",
    "outputId": "4a86272b-bd0a-496c-a3c2-791405dc3675"
   },
   "outputs": [
    {
     "data": {
      "text/plain": [
       "433057.00956014416"
      ]
     },
     "execution_count": 768,
     "metadata": {},
     "output_type": "execute_result"
    }
   ],
   "source": [
    "predict_test= regressor.predict(X_val)\n",
    "mean_squared_error(y_val, predict_test, squared=False)"
   ]
  },
  {
   "cell_type": "markdown",
   "id": "sbGXvBLQZw5E",
   "metadata": {
    "id": "sbGXvBLQZw5E"
   },
   "source": [
    "### Display The Comparison Lists"
   ]
  },
  {
   "cell_type": "code",
   "execution_count": 769,
   "id": "1d74d515",
   "metadata": {
    "colab": {
     "base_uri": "https://localhost:8080/"
    },
    "id": "1d74d515",
    "outputId": "6e6674f0-dac1-47cf-9351-f4b8639fc2b8"
   },
   "outputs": [
    {
     "name": "stdout",
     "output_type": "stream",
     "text": [
      "['LinearRegression', 'Support Vector Regression', 'Decision Tree Regression'],[301562116216.75525, 444372053060.142, 262893456761.70404],[0.31842492203037553, -0.004346701474567949, 0.4058218235832006],"
     ]
    }
   ],
   "source": [
    "for i in Algorithm, MSE_Score, R2_Score:\n",
    "    print(i,end=',')"
   ]
  },
  {
   "cell_type": "markdown",
   "id": "4ae9979b",
   "metadata": {
    "id": "4ae9979b"
   },
   "source": [
    "### Your next model would be Random Forest Regression\n",
    "\n",
    "- Step 1 : Call the Random Forest Regressor from sklearn library\n",
    "- Step 2 : make an object of Random Forest\n",
    "- Step 3 : fit the X_train and y_train dataframe into the object \n",
    "- Step 4 : Predict the output by passing the X_test Dataset into predict function\n",
    "\n",
    "\n",
    "\n",
    "\n",
    "- Note - Append the Algorithm name into the algorithm list for tracking purpose"
   ]
  },
  {
   "cell_type": "code",
   "execution_count": 770,
   "id": "a69e476a",
   "metadata": {
    "id": "a69e476a"
   },
   "outputs": [],
   "source": [
    "from sklearn.ensemble import RandomForestRegressor\n",
    "Algorithm.append('Random Forest Regressor')\n",
    "regressor = RandomForestRegressor()\n",
    "regressor.fit(X_train, y_train)\n",
    "predicted= regressor.predict(X_test)"
   ]
  },
  {
   "cell_type": "markdown",
   "id": "XNcEJF-6anof",
   "metadata": {
    "id": "XNcEJF-6anof"
   },
   "source": [
    "### Check for the \n",
    "\n",
    "- Mean Square Error\n",
    "- R Square Error \n",
    "\n",
    "for y_test and predicted dataset and store those data inside respective list for comparison "
   ]
  },
  {
   "cell_type": "code",
   "execution_count": 771,
   "id": "826f63f4",
   "metadata": {
    "id": "826f63f4"
   },
   "outputs": [],
   "source": [
    "MSE_Score.append(mean_squared_error(y_test, predicted))\n",
    "R2_Score.append(r2_score(y_test, predicted))"
   ]
  },
  {
   "cell_type": "markdown",
   "id": "yMbyr9V4ati1",
   "metadata": {
    "id": "yMbyr9V4ati1"
   },
   "source": [
    "### Check the same for the Validation set also "
   ]
  },
  {
   "cell_type": "code",
   "execution_count": 772,
   "id": "55b9fb54",
   "metadata": {
    "colab": {
     "base_uri": "https://localhost:8080/"
    },
    "id": "55b9fb54",
    "outputId": "44e867fe-f73a-4493-f623-e0bd6bfeacf8"
   },
   "outputs": [
    {
     "data": {
      "text/plain": [
       "352472.5052090221"
      ]
     },
     "execution_count": 772,
     "metadata": {},
     "output_type": "execute_result"
    }
   ],
   "source": [
    "predict_test= regressor.predict(X_val)\n",
    "mean_squared_error(y_val, predict_test, squared=False)"
   ]
  },
  {
   "cell_type": "markdown",
   "id": "tiBawcCsaw_Z",
   "metadata": {
    "id": "tiBawcCsaw_Z"
   },
   "source": [
    "### Display The Comparison Lists\n"
   ]
  },
  {
   "cell_type": "code",
   "execution_count": 773,
   "id": "8277c13e",
   "metadata": {
    "colab": {
     "base_uri": "https://localhost:8080/"
    },
    "id": "8277c13e",
    "outputId": "68a962c2-3f5e-4096-fdb3-187c88526842"
   },
   "outputs": [
    {
     "name": "stdout",
     "output_type": "stream",
     "text": [
      "['LinearRegression', 'Support Vector Regression', 'Decision Tree Regression', 'Random Forest Regressor'],[301562116216.75525, 444372053060.142, 262893456761.70404, 156462215491.00778],[0.31842492203037553, -0.004346701474567949, 0.4058218235832006, 0.6463722033110646],"
     ]
    }
   ],
   "source": [
    "for i in Algorithm, MSE_Score, R2_Score:\n",
    "    print(i,end=',')"
   ]
  },
  {
   "cell_type": "markdown",
   "id": "e6b21881",
   "metadata": {
    "id": "e6b21881"
   },
   "source": [
    "### The last but not the least model would be XGBoost or Extreme Gradient Boost Regression\n",
    "\n",
    "- Step 1 : Call the XGBoost Regressor from xgb library\n",
    "- Step 2 : make an object of Xgboost\n",
    "- Step 3 : fit the X_train and y_train dataframe into the object \n",
    "- Step 4 : Predict the output by passing the X_test Dataset into predict function\n",
    "\n",
    "\n",
    "\n",
    "\n",
    "- Note - Append the Algorithm name into the algorithm list for tracking purpose### Extreme Gradient Boost Regression\n",
    "- Note -  No need to change the code "
   ]
  },
  {
   "cell_type": "code",
   "execution_count": 774,
   "id": "705a38ec",
   "metadata": {
    "colab": {
     "base_uri": "https://localhost:8080/"
    },
    "id": "705a38ec",
    "outputId": "a32615f5-6fae-4c1d-87b8-53e39ccc31f0"
   },
   "outputs": [
    {
     "name": "stdout",
     "output_type": "stream",
     "text": [
      "[19:51:08] WARNING: /workspace/src/objective/regression_obj.cu:152: reg:linear is now deprecated in favor of reg:squarederror.\n"
     ]
    }
   ],
   "source": [
    "import xgboost as xgb\n",
    "Algorithm.append('XGB Regressor')\n",
    "regressor = xgb.XGBRegressor()\n",
    "regressor.fit(X_train, y_train)\n",
    "predicted = regressor.predict(X_test)"
   ]
  },
  {
   "cell_type": "markdown",
   "id": "ierNZkb9bQDD",
   "metadata": {
    "id": "ierNZkb9bQDD"
   },
   "source": [
    "### Check for the \n",
    "\n",
    "- Mean Square Error\n",
    "- R Square Error \n",
    "\n",
    "for y_test and predicted dataset and store those data inside respective list for comparison "
   ]
  },
  {
   "cell_type": "code",
   "execution_count": 775,
   "id": "507a9d2f",
   "metadata": {
    "id": "507a9d2f"
   },
   "outputs": [],
   "source": [
    "MSE_Score.append(mean_squared_error(y_test, predicted))\n",
    "R2_Score.append(r2_score(y_test, predicted))"
   ]
  },
  {
   "cell_type": "markdown",
   "id": "84UZ2ojsbWaH",
   "metadata": {
    "id": "84UZ2ojsbWaH"
   },
   "source": [
    "### Check the same for the Validation set also "
   ]
  },
  {
   "cell_type": "code",
   "execution_count": 776,
   "id": "e78ac250",
   "metadata": {
    "colab": {
     "base_uri": "https://localhost:8080/"
    },
    "id": "e78ac250",
    "outputId": "199dbb01-fcd3-4b6e-c3aa-9dbefd629ec7"
   },
   "outputs": [
    {
     "data": {
      "text/plain": [
       "386210.54082911316"
      ]
     },
     "execution_count": 776,
     "metadata": {},
     "output_type": "execute_result"
    }
   ],
   "source": [
    "predict_test= regressor.predict(X_val)\n",
    "mean_squared_error(y_val, predict_test, squared=False)"
   ]
  },
  {
   "cell_type": "markdown",
   "id": "9FJFyaVbbbAH",
   "metadata": {
    "id": "9FJFyaVbbbAH"
   },
   "source": [
    "### Display The Comparison Lists\n"
   ]
  },
  {
   "cell_type": "code",
   "execution_count": 777,
   "id": "f765ba35",
   "metadata": {
    "colab": {
     "base_uri": "https://localhost:8080/"
    },
    "id": "f765ba35",
    "outputId": "048a73e6-417c-4624-d6df-b428c4a2f8fa"
   },
   "outputs": [
    {
     "name": "stdout",
     "output_type": "stream",
     "text": [
      "['LinearRegression', 'Support Vector Regression', 'Decision Tree Regression', 'Random Forest Regressor', 'XGB Regressor'],[301562116216.75525, 444372053060.142, 262893456761.70404, 156462215491.00778, 157251153924.20175],[0.31842492203037553, -0.004346701474567949, 0.4058218235832006, 0.6463722033110646, 0.644589085521392],"
     ]
    }
   ],
   "source": [
    "for i in Algorithm, MSE_Score, R2_Score:\n",
    "    print(i,end=',')"
   ]
  },
  {
   "cell_type": "markdown",
   "id": "a71bc90f",
   "metadata": {
    "id": "a71bc90f"
   },
   "source": [
    "## You need to make the comparison list into a comparison dataframe "
   ]
  },
  {
   "cell_type": "code",
   "execution_count": 778,
   "id": "ff5159a7",
   "metadata": {
    "id": "ff5159a7"
   },
   "outputs": [],
   "source": [
    "bf = pd.DataFrame({'Model Name': ['LinearRegression', 'Support Vector Regression', 'Decision Tree Regression', 'Random Forest Regressor', 'XGB Regressor'],\n",
    "                   'Test Score': [301562116216.75525, 444372053060.142, 264127383672.88214, 157307507532.91162, 157251153924.20175],\n",
    "                   'Validation Score': [0.31842492203037553, -0.004346701474567949, 0.4030329658803633, 0.6444617180133903, 0.644589085521392] })"
   ]
  },
  {
   "cell_type": "code",
   "execution_count": 779,
   "id": "dApzzn-IuUlQ",
   "metadata": {
    "colab": {
     "base_uri": "https://localhost:8080/",
     "height": 206
    },
    "id": "dApzzn-IuUlQ",
    "outputId": "5f8d72ab-5490-4779-dd2a-6b1cb3852589"
   },
   "outputs": [
    {
     "data": {
      "text/html": [
       "\n",
       "  <div id=\"df-0080c3e0-f5e2-40e9-a8f0-6ec204e6bfcc\">\n",
       "    <div class=\"colab-df-container\">\n",
       "      <div>\n",
       "<style scoped>\n",
       "    .dataframe tbody tr th:only-of-type {\n",
       "        vertical-align: middle;\n",
       "    }\n",
       "\n",
       "    .dataframe tbody tr th {\n",
       "        vertical-align: top;\n",
       "    }\n",
       "\n",
       "    .dataframe thead th {\n",
       "        text-align: right;\n",
       "    }\n",
       "</style>\n",
       "<table border=\"1\" class=\"dataframe\">\n",
       "  <thead>\n",
       "    <tr style=\"text-align: right;\">\n",
       "      <th></th>\n",
       "      <th>Model Name</th>\n",
       "      <th>Test Score</th>\n",
       "      <th>Validation Score</th>\n",
       "    </tr>\n",
       "  </thead>\n",
       "  <tbody>\n",
       "    <tr>\n",
       "      <th>0</th>\n",
       "      <td>LinearRegression</td>\n",
       "      <td>3.015621e+11</td>\n",
       "      <td>0.318425</td>\n",
       "    </tr>\n",
       "    <tr>\n",
       "      <th>1</th>\n",
       "      <td>Support Vector Regression</td>\n",
       "      <td>4.443721e+11</td>\n",
       "      <td>-0.004347</td>\n",
       "    </tr>\n",
       "    <tr>\n",
       "      <th>2</th>\n",
       "      <td>Decision Tree Regression</td>\n",
       "      <td>2.641274e+11</td>\n",
       "      <td>0.403033</td>\n",
       "    </tr>\n",
       "    <tr>\n",
       "      <th>3</th>\n",
       "      <td>Random Forest Regressor</td>\n",
       "      <td>1.573075e+11</td>\n",
       "      <td>0.644462</td>\n",
       "    </tr>\n",
       "    <tr>\n",
       "      <th>4</th>\n",
       "      <td>XGB Regressor</td>\n",
       "      <td>1.572512e+11</td>\n",
       "      <td>0.644589</td>\n",
       "    </tr>\n",
       "  </tbody>\n",
       "</table>\n",
       "</div>\n",
       "      <button class=\"colab-df-convert\" onclick=\"convertToInteractive('df-0080c3e0-f5e2-40e9-a8f0-6ec204e6bfcc')\"\n",
       "              title=\"Convert this dataframe to an interactive table.\"\n",
       "              style=\"display:none;\">\n",
       "        \n",
       "  <svg xmlns=\"http://www.w3.org/2000/svg\" height=\"24px\"viewBox=\"0 0 24 24\"\n",
       "       width=\"24px\">\n",
       "    <path d=\"M0 0h24v24H0V0z\" fill=\"none\"/>\n",
       "    <path d=\"M18.56 5.44l.94 2.06.94-2.06 2.06-.94-2.06-.94-.94-2.06-.94 2.06-2.06.94zm-11 1L8.5 8.5l.94-2.06 2.06-.94-2.06-.94L8.5 2.5l-.94 2.06-2.06.94zm10 10l.94 2.06.94-2.06 2.06-.94-2.06-.94-.94-2.06-.94 2.06-2.06.94z\"/><path d=\"M17.41 7.96l-1.37-1.37c-.4-.4-.92-.59-1.43-.59-.52 0-1.04.2-1.43.59L10.3 9.45l-7.72 7.72c-.78.78-.78 2.05 0 2.83L4 21.41c.39.39.9.59 1.41.59.51 0 1.02-.2 1.41-.59l7.78-7.78 2.81-2.81c.8-.78.8-2.07 0-2.86zM5.41 20L4 18.59l7.72-7.72 1.47 1.35L5.41 20z\"/>\n",
       "  </svg>\n",
       "      </button>\n",
       "      \n",
       "  <style>\n",
       "    .colab-df-container {\n",
       "      display:flex;\n",
       "      flex-wrap:wrap;\n",
       "      gap: 12px;\n",
       "    }\n",
       "\n",
       "    .colab-df-convert {\n",
       "      background-color: #E8F0FE;\n",
       "      border: none;\n",
       "      border-radius: 50%;\n",
       "      cursor: pointer;\n",
       "      display: none;\n",
       "      fill: #1967D2;\n",
       "      height: 32px;\n",
       "      padding: 0 0 0 0;\n",
       "      width: 32px;\n",
       "    }\n",
       "\n",
       "    .colab-df-convert:hover {\n",
       "      background-color: #E2EBFA;\n",
       "      box-shadow: 0px 1px 2px rgba(60, 64, 67, 0.3), 0px 1px 3px 1px rgba(60, 64, 67, 0.15);\n",
       "      fill: #174EA6;\n",
       "    }\n",
       "\n",
       "    [theme=dark] .colab-df-convert {\n",
       "      background-color: #3B4455;\n",
       "      fill: #D2E3FC;\n",
       "    }\n",
       "\n",
       "    [theme=dark] .colab-df-convert:hover {\n",
       "      background-color: #434B5C;\n",
       "      box-shadow: 0px 1px 3px 1px rgba(0, 0, 0, 0.15);\n",
       "      filter: drop-shadow(0px 1px 2px rgba(0, 0, 0, 0.3));\n",
       "      fill: #FFFFFF;\n",
       "    }\n",
       "  </style>\n",
       "\n",
       "      <script>\n",
       "        const buttonEl =\n",
       "          document.querySelector('#df-0080c3e0-f5e2-40e9-a8f0-6ec204e6bfcc button.colab-df-convert');\n",
       "        buttonEl.style.display =\n",
       "          google.colab.kernel.accessAllowed ? 'block' : 'none';\n",
       "\n",
       "        async function convertToInteractive(key) {\n",
       "          const element = document.querySelector('#df-0080c3e0-f5e2-40e9-a8f0-6ec204e6bfcc');\n",
       "          const dataTable =\n",
       "            await google.colab.kernel.invokeFunction('convertToInteractive',\n",
       "                                                     [key], {});\n",
       "          if (!dataTable) return;\n",
       "\n",
       "          const docLinkHtml = 'Like what you see? Visit the ' +\n",
       "            '<a target=\"_blank\" href=https://colab.research.google.com/notebooks/data_table.ipynb>data table notebook</a>'\n",
       "            + ' to learn more about interactive tables.';\n",
       "          element.innerHTML = '';\n",
       "          dataTable['output_type'] = 'display_data';\n",
       "          await google.colab.output.renderOutput(dataTable, element);\n",
       "          const docLink = document.createElement('div');\n",
       "          docLink.innerHTML = docLinkHtml;\n",
       "          element.appendChild(docLink);\n",
       "        }\n",
       "      </script>\n",
       "    </div>\n",
       "  </div>\n",
       "  "
      ],
      "text/plain": [
       "                  Model Name    Test Score  Validation Score\n",
       "0           LinearRegression  3.015621e+11          0.318425\n",
       "1  Support Vector Regression  4.443721e+11         -0.004347\n",
       "2   Decision Tree Regression  2.641274e+11          0.403033\n",
       "3    Random Forest Regressor  1.573075e+11          0.644462\n",
       "4              XGB Regressor  1.572512e+11          0.644589"
      ]
     },
     "execution_count": 779,
     "metadata": {},
     "output_type": "execute_result"
    }
   ],
   "source": [
    "bf"
   ]
  },
  {
   "cell_type": "markdown",
   "id": "62e61c60",
   "metadata": {
    "id": "62e61c60"
   },
   "source": [
    "## Now from the Comparison table, you need to choose the best fit model\n",
    "\n",
    "- Step 1 - Fit X_train and y_train inside the model \n",
    "- Step 2 - Predict the X_test dataset\n",
    "- Step 3 - Predict the X_val dataset\n",
    "\n",
    "\n",
    "- Note - No need to change the code"
   ]
  },
  {
   "cell_type": "code",
   "execution_count": 780,
   "id": "3e07c258",
   "metadata": {
    "colab": {
     "base_uri": "https://localhost:8080/"
    },
    "id": "3e07c258",
    "outputId": "aa998a4e-c2d8-45b9-ca48-5cb4d9f31232"
   },
   "outputs": [
    {
     "name": "stdout",
     "output_type": "stream",
     "text": [
      "[19:51:10] WARNING: /workspace/src/objective/regression_obj.cu:152: reg:linear is now deprecated in favor of reg:squarederror.\n"
     ]
    }
   ],
   "source": [
    "regressorfinal = xgb.XGBRegressor()\n",
    "regressorfinal.fit(X_train, y_train)\n",
    "predictedfinal = regressorfinal.predict(X_test)\n",
    "predict_testfinal = regressorfinal.predict(X_val)"
   ]
  },
  {
   "cell_type": "markdown",
   "id": "8e4df6c4",
   "metadata": {
    "id": "8e4df6c4"
   },
   "source": [
    "### Calculate the Mean Square Error for test dataset\n",
    "\n",
    "- Note - No need to change the code"
   ]
  },
  {
   "cell_type": "code",
   "execution_count": 781,
   "id": "5fb466d0",
   "metadata": {
    "colab": {
     "base_uri": "https://localhost:8080/"
    },
    "id": "5fb466d0",
    "outputId": "e59e94d5-f993-4d4f-fc27-d8ad4355bf42"
   },
   "outputs": [
    {
     "data": {
      "text/plain": [
       "396549.0561383317"
      ]
     },
     "execution_count": 781,
     "metadata": {},
     "output_type": "execute_result"
    }
   ],
   "source": [
    "mean_squared_error(y_test,predictedfinal,squared=False)"
   ]
  },
  {
   "cell_type": "markdown",
   "id": "ce27f87f",
   "metadata": {
    "id": "ce27f87f"
   },
   "source": [
    "### Calculate the mean Square Error for validation dataset"
   ]
  },
  {
   "cell_type": "code",
   "execution_count": 782,
   "id": "b47978ea",
   "metadata": {
    "colab": {
     "base_uri": "https://localhost:8080/"
    },
    "id": "b47978ea",
    "outputId": "2377a364-4e01-46b5-c8af-4a933fbf295f"
   },
   "outputs": [
    {
     "data": {
      "text/plain": [
       "890254.6879717848"
      ]
     },
     "execution_count": 782,
     "metadata": {},
     "output_type": "execute_result"
    }
   ],
   "source": [
    "mean_squared_error(y_val,predictedfinal,squared=False)"
   ]
  },
  {
   "cell_type": "markdown",
   "id": "30014dbd",
   "metadata": {
    "id": "30014dbd"
   },
   "source": [
    "### Calculate the R2 score for test"
   ]
  },
  {
   "cell_type": "code",
   "execution_count": 783,
   "id": "8a162737",
   "metadata": {
    "colab": {
     "base_uri": "https://localhost:8080/"
    },
    "id": "8a162737",
    "outputId": "dda17b9e-7a75-4f99-b264-dd307bc070f3"
   },
   "outputs": [
    {
     "data": {
      "text/plain": [
       "0.644589085521392"
      ]
     },
     "execution_count": 783,
     "metadata": {},
     "output_type": "execute_result"
    }
   ],
   "source": [
    "regressorfinal.score(X_test,y_test)"
   ]
  },
  {
   "cell_type": "markdown",
   "id": "1c9853b0",
   "metadata": {
    "id": "1c9853b0"
   },
   "source": [
    "### Calculate the R2 score for Validation"
   ]
  },
  {
   "cell_type": "code",
   "execution_count": 784,
   "id": "1a6dc77c",
   "metadata": {
    "colab": {
     "base_uri": "https://localhost:8080/"
    },
    "id": "1a6dc77c",
    "outputId": "50b6e554-5688-402d-8b3d-0713e885dcd5"
   },
   "outputs": [
    {
     "data": {
      "text/plain": [
       "0.6916947056833758"
      ]
     },
     "execution_count": 784,
     "metadata": {},
     "output_type": "execute_result"
    }
   ],
   "source": [
    "regressorfinal.score(X_val,y_val)"
   ]
  },
  {
   "cell_type": "markdown",
   "id": "499522d9",
   "metadata": {
    "id": "499522d9"
   },
   "source": [
    "### Calculate the Accuracy for train Dataset "
   ]
  },
  {
   "cell_type": "code",
   "execution_count": 785,
   "id": "7a4f1ce8",
   "metadata": {
    "colab": {
     "base_uri": "https://localhost:8080/"
    },
    "id": "7a4f1ce8",
    "outputId": "ce7027d5-419b-4312-e74c-efa438acef68"
   },
   "outputs": [
    {
     "name": "stdout",
     "output_type": "stream",
     "text": [
      "Final Training Accuracy: 76.9388225611207%\n"
     ]
    }
   ],
   "source": [
    "print(f'Final Training Accuracy: {regressorfinal.score(X_train,y_train)*100}%')"
   ]
  },
  {
   "cell_type": "markdown",
   "id": "12a1c921",
   "metadata": {
    "id": "12a1c921"
   },
   "source": [
    "### Calculate the accuracy for validation"
   ]
  },
  {
   "cell_type": "code",
   "execution_count": 786,
   "id": "d2579b4f",
   "metadata": {
    "colab": {
     "base_uri": "https://localhost:8080/"
    },
    "id": "d2579b4f",
    "outputId": "d60b7b8a-75ab-4371-9d2c-5e125cc04ef8"
   },
   "outputs": [
    {
     "name": "stdout",
     "output_type": "stream",
     "text": [
      "Final Validation Accuracy: 69.16947056833757%\n"
     ]
    }
   ],
   "source": [
    "print(f'Final Validation Accuracy: {regressorfinal.score(X_val,y_val)*100}%')"
   ]
  },
  {
   "cell_type": "markdown",
   "id": "79b82e84",
   "metadata": {
    "id": "79b82e84"
   },
   "source": [
    "### Calculate the accuracy for test"
   ]
  },
  {
   "cell_type": "code",
   "execution_count": 787,
   "id": "f09e6431",
   "metadata": {
    "colab": {
     "base_uri": "https://localhost:8080/"
    },
    "id": "f09e6431",
    "outputId": "5ef5c9d7-8d13-469a-987f-0ae7525625db"
   },
   "outputs": [
    {
     "name": "stdout",
     "output_type": "stream",
     "text": [
      "Final Testing Accuracy: 64.4589085521392%\n"
     ]
    }
   ],
   "source": [
    "print(f'Final Testing Accuracy: {regressorfinal.score(X_test,y_test)*100}%')"
   ]
  },
  {
   "cell_type": "markdown",
   "id": "9488a5d9",
   "metadata": {
    "id": "9488a5d9"
   },
   "source": [
    "## Specify the reason behind choosing your machine learning model \n",
    "\n",
    "- Note : Provide your answer as a text here"
   ]
  },
  {
   "cell_type": "markdown",
   "id": "387a6519",
   "metadata": {
    "id": "387a6519"
   },
   "source": [
    "## Now you need to pass the Nulldata dataframe into this machine learning model\n",
    "\n",
    "#### In order to pass this Nulldata dataframe into the ML model, we need to perform the following\n",
    "\n",
    "- Step 1 : Label Encoding \n",
    "- Step 2 : Day, Month and Year extraction \n",
    "- Step 3 : Change all the column data type into int64 or float64\n",
    "- Step 4 : Need to drop the useless columns "
   ]
  },
  {
   "cell_type": "markdown",
   "id": "I7JuxAkdiAdI",
   "metadata": {
    "id": "I7JuxAkdiAdI"
   },
   "source": [
    "### Display the Nulldata "
   ]
  },
  {
   "cell_type": "code",
   "execution_count": 788,
   "id": "6d6a51d2",
   "metadata": {
    "colab": {
     "base_uri": "https://localhost:8080/",
     "height": 423
    },
    "id": "6d6a51d2",
    "outputId": "2eba2c7c-57c9-4e51-cab9-ba40dc876a0a"
   },
   "outputs": [
    {
     "data": {
      "text/html": [
       "\n",
       "  <div id=\"df-3253c696-c0ac-4bf6-a402-6ccfb44fbb49\">\n",
       "    <div class=\"colab-df-container\">\n",
       "      <div>\n",
       "<style scoped>\n",
       "    .dataframe tbody tr th:only-of-type {\n",
       "        vertical-align: middle;\n",
       "    }\n",
       "\n",
       "    .dataframe tbody tr th {\n",
       "        vertical-align: top;\n",
       "    }\n",
       "\n",
       "    .dataframe thead th {\n",
       "        text-align: right;\n",
       "    }\n",
       "</style>\n",
       "<table border=\"1\" class=\"dataframe\">\n",
       "  <thead>\n",
       "    <tr style=\"text-align: right;\">\n",
       "      <th></th>\n",
       "      <th>business_code</th>\n",
       "      <th>cust_number</th>\n",
       "      <th>name_customer</th>\n",
       "      <th>clear_date</th>\n",
       "      <th>buisness_year</th>\n",
       "      <th>doc_id</th>\n",
       "      <th>posting_date</th>\n",
       "      <th>due_in_date</th>\n",
       "      <th>baseline_create_date</th>\n",
       "      <th>cust_payment_terms</th>\n",
       "      <th>converted_usd</th>\n",
       "    </tr>\n",
       "  </thead>\n",
       "  <tbody>\n",
       "    <tr>\n",
       "      <th>3</th>\n",
       "      <td>CA02</td>\n",
       "      <td>0140105686</td>\n",
       "      <td>SYSC llc</td>\n",
       "      <td>NaT</td>\n",
       "      <td>2020.0</td>\n",
       "      <td>2.960623e+09</td>\n",
       "      <td>2020-03-30</td>\n",
       "      <td>2020-04-10</td>\n",
       "      <td>2020-03-31</td>\n",
       "      <td>CA10</td>\n",
       "      <td>2309.79</td>\n",
       "    </tr>\n",
       "    <tr>\n",
       "      <th>7</th>\n",
       "      <td>U001</td>\n",
       "      <td>0200744019</td>\n",
       "      <td>TARG us</td>\n",
       "      <td>NaT</td>\n",
       "      <td>2020.0</td>\n",
       "      <td>1.930659e+09</td>\n",
       "      <td>2020-03-19</td>\n",
       "      <td>2020-04-03</td>\n",
       "      <td>2020-03-19</td>\n",
       "      <td>NAA8</td>\n",
       "      <td>11173.02</td>\n",
       "    </tr>\n",
       "    <tr>\n",
       "      <th>10</th>\n",
       "      <td>U001</td>\n",
       "      <td>0200418007</td>\n",
       "      <td>AM</td>\n",
       "      <td>NaT</td>\n",
       "      <td>2020.0</td>\n",
       "      <td>1.930611e+09</td>\n",
       "      <td>2020-03-11</td>\n",
       "      <td>2020-03-26</td>\n",
       "      <td>2020-03-11</td>\n",
       "      <td>NAA8</td>\n",
       "      <td>3525.59</td>\n",
       "    </tr>\n",
       "    <tr>\n",
       "      <th>14</th>\n",
       "      <td>U001</td>\n",
       "      <td>0200739534</td>\n",
       "      <td>OK systems</td>\n",
       "      <td>NaT</td>\n",
       "      <td>2020.0</td>\n",
       "      <td>1.930788e+09</td>\n",
       "      <td>2020-04-15</td>\n",
       "      <td>2020-04-30</td>\n",
       "      <td>2020-04-15</td>\n",
       "      <td>NAA8</td>\n",
       "      <td>121105.65</td>\n",
       "    </tr>\n",
       "    <tr>\n",
       "      <th>15</th>\n",
       "      <td>U001</td>\n",
       "      <td>0200353024</td>\n",
       "      <td>DECA corporation</td>\n",
       "      <td>NaT</td>\n",
       "      <td>2020.0</td>\n",
       "      <td>1.930817e+09</td>\n",
       "      <td>2020-04-23</td>\n",
       "      <td>2020-04-26</td>\n",
       "      <td>2020-04-16</td>\n",
       "      <td>NAM2</td>\n",
       "      <td>3726.06</td>\n",
       "    </tr>\n",
       "    <tr>\n",
       "      <th>...</th>\n",
       "      <td>...</td>\n",
       "      <td>...</td>\n",
       "      <td>...</td>\n",
       "      <td>...</td>\n",
       "      <td>...</td>\n",
       "      <td>...</td>\n",
       "      <td>...</td>\n",
       "      <td>...</td>\n",
       "      <td>...</td>\n",
       "      <td>...</td>\n",
       "      <td>...</td>\n",
       "    </tr>\n",
       "    <tr>\n",
       "      <th>49975</th>\n",
       "      <td>U001</td>\n",
       "      <td>0200769623</td>\n",
       "      <td>WAL-MAR in</td>\n",
       "      <td>NaT</td>\n",
       "      <td>2020.0</td>\n",
       "      <td>1.930625e+09</td>\n",
       "      <td>2020-03-10</td>\n",
       "      <td>2020-03-25</td>\n",
       "      <td>2020-03-10</td>\n",
       "      <td>NAH4</td>\n",
       "      <td>13114.99</td>\n",
       "    </tr>\n",
       "    <tr>\n",
       "      <th>49980</th>\n",
       "      <td>U001</td>\n",
       "      <td>0200769623</td>\n",
       "      <td>WAL-MAR corporation</td>\n",
       "      <td>NaT</td>\n",
       "      <td>2020.0</td>\n",
       "      <td>1.930851e+09</td>\n",
       "      <td>2020-05-03</td>\n",
       "      <td>2020-05-18</td>\n",
       "      <td>2020-05-03</td>\n",
       "      <td>NAH4</td>\n",
       "      <td>8899.71</td>\n",
       "    </tr>\n",
       "    <tr>\n",
       "      <th>49982</th>\n",
       "      <td>U001</td>\n",
       "      <td>0200148860</td>\n",
       "      <td>DOLLA co</td>\n",
       "      <td>NaT</td>\n",
       "      <td>2020.0</td>\n",
       "      <td>1.930638e+09</td>\n",
       "      <td>2020-03-11</td>\n",
       "      <td>2020-03-26</td>\n",
       "      <td>2020-03-11</td>\n",
       "      <td>NAA8</td>\n",
       "      <td>4967.06</td>\n",
       "    </tr>\n",
       "    <tr>\n",
       "      <th>49992</th>\n",
       "      <td>U001</td>\n",
       "      <td>0200900909</td>\n",
       "      <td>SYSCO co</td>\n",
       "      <td>NaT</td>\n",
       "      <td>2020.0</td>\n",
       "      <td>1.930702e+09</td>\n",
       "      <td>2020-03-25</td>\n",
       "      <td>2020-04-09</td>\n",
       "      <td>2020-03-25</td>\n",
       "      <td>NAA8</td>\n",
       "      <td>1998.64</td>\n",
       "    </tr>\n",
       "    <tr>\n",
       "      <th>49995</th>\n",
       "      <td>U001</td>\n",
       "      <td>0200561861</td>\n",
       "      <td>CO corporation</td>\n",
       "      <td>NaT</td>\n",
       "      <td>2020.0</td>\n",
       "      <td>1.930797e+09</td>\n",
       "      <td>2020-04-21</td>\n",
       "      <td>2020-05-06</td>\n",
       "      <td>2020-04-21</td>\n",
       "      <td>NAA8</td>\n",
       "      <td>3187.86</td>\n",
       "    </tr>\n",
       "  </tbody>\n",
       "</table>\n",
       "<p>9681 rows × 11 columns</p>\n",
       "</div>\n",
       "      <button class=\"colab-df-convert\" onclick=\"convertToInteractive('df-3253c696-c0ac-4bf6-a402-6ccfb44fbb49')\"\n",
       "              title=\"Convert this dataframe to an interactive table.\"\n",
       "              style=\"display:none;\">\n",
       "        \n",
       "  <svg xmlns=\"http://www.w3.org/2000/svg\" height=\"24px\"viewBox=\"0 0 24 24\"\n",
       "       width=\"24px\">\n",
       "    <path d=\"M0 0h24v24H0V0z\" fill=\"none\"/>\n",
       "    <path d=\"M18.56 5.44l.94 2.06.94-2.06 2.06-.94-2.06-.94-.94-2.06-.94 2.06-2.06.94zm-11 1L8.5 8.5l.94-2.06 2.06-.94-2.06-.94L8.5 2.5l-.94 2.06-2.06.94zm10 10l.94 2.06.94-2.06 2.06-.94-2.06-.94-.94-2.06-.94 2.06-2.06.94z\"/><path d=\"M17.41 7.96l-1.37-1.37c-.4-.4-.92-.59-1.43-.59-.52 0-1.04.2-1.43.59L10.3 9.45l-7.72 7.72c-.78.78-.78 2.05 0 2.83L4 21.41c.39.39.9.59 1.41.59.51 0 1.02-.2 1.41-.59l7.78-7.78 2.81-2.81c.8-.78.8-2.07 0-2.86zM5.41 20L4 18.59l7.72-7.72 1.47 1.35L5.41 20z\"/>\n",
       "  </svg>\n",
       "      </button>\n",
       "      \n",
       "  <style>\n",
       "    .colab-df-container {\n",
       "      display:flex;\n",
       "      flex-wrap:wrap;\n",
       "      gap: 12px;\n",
       "    }\n",
       "\n",
       "    .colab-df-convert {\n",
       "      background-color: #E8F0FE;\n",
       "      border: none;\n",
       "      border-radius: 50%;\n",
       "      cursor: pointer;\n",
       "      display: none;\n",
       "      fill: #1967D2;\n",
       "      height: 32px;\n",
       "      padding: 0 0 0 0;\n",
       "      width: 32px;\n",
       "    }\n",
       "\n",
       "    .colab-df-convert:hover {\n",
       "      background-color: #E2EBFA;\n",
       "      box-shadow: 0px 1px 2px rgba(60, 64, 67, 0.3), 0px 1px 3px 1px rgba(60, 64, 67, 0.15);\n",
       "      fill: #174EA6;\n",
       "    }\n",
       "\n",
       "    [theme=dark] .colab-df-convert {\n",
       "      background-color: #3B4455;\n",
       "      fill: #D2E3FC;\n",
       "    }\n",
       "\n",
       "    [theme=dark] .colab-df-convert:hover {\n",
       "      background-color: #434B5C;\n",
       "      box-shadow: 0px 1px 3px 1px rgba(0, 0, 0, 0.15);\n",
       "      filter: drop-shadow(0px 1px 2px rgba(0, 0, 0, 0.3));\n",
       "      fill: #FFFFFF;\n",
       "    }\n",
       "  </style>\n",
       "\n",
       "      <script>\n",
       "        const buttonEl =\n",
       "          document.querySelector('#df-3253c696-c0ac-4bf6-a402-6ccfb44fbb49 button.colab-df-convert');\n",
       "        buttonEl.style.display =\n",
       "          google.colab.kernel.accessAllowed ? 'block' : 'none';\n",
       "\n",
       "        async function convertToInteractive(key) {\n",
       "          const element = document.querySelector('#df-3253c696-c0ac-4bf6-a402-6ccfb44fbb49');\n",
       "          const dataTable =\n",
       "            await google.colab.kernel.invokeFunction('convertToInteractive',\n",
       "                                                     [key], {});\n",
       "          if (!dataTable) return;\n",
       "\n",
       "          const docLinkHtml = 'Like what you see? Visit the ' +\n",
       "            '<a target=\"_blank\" href=https://colab.research.google.com/notebooks/data_table.ipynb>data table notebook</a>'\n",
       "            + ' to learn more about interactive tables.';\n",
       "          element.innerHTML = '';\n",
       "          dataTable['output_type'] = 'display_data';\n",
       "          await google.colab.output.renderOutput(dataTable, element);\n",
       "          const docLink = document.createElement('div');\n",
       "          docLink.innerHTML = docLinkHtml;\n",
       "          element.appendChild(docLink);\n",
       "        }\n",
       "      </script>\n",
       "    </div>\n",
       "  </div>\n",
       "  "
      ],
      "text/plain": [
       "      business_code cust_number  ... cust_payment_terms converted_usd\n",
       "3              CA02  0140105686  ...               CA10       2309.79\n",
       "7              U001  0200744019  ...               NAA8      11173.02\n",
       "10             U001  0200418007  ...               NAA8       3525.59\n",
       "14             U001  0200739534  ...               NAA8     121105.65\n",
       "15             U001  0200353024  ...               NAM2       3726.06\n",
       "...             ...         ...  ...                ...           ...\n",
       "49975          U001  0200769623  ...               NAH4      13114.99\n",
       "49980          U001  0200769623  ...               NAH4       8899.71\n",
       "49982          U001  0200148860  ...               NAA8       4967.06\n",
       "49992          U001  0200900909  ...               NAA8       1998.64\n",
       "49995          U001  0200561861  ...               NAA8       3187.86\n",
       "\n",
       "[9681 rows x 11 columns]"
      ]
     },
     "execution_count": 788,
     "metadata": {},
     "output_type": "execute_result"
    }
   ],
   "source": [
    "nulldata"
   ]
  },
  {
   "cell_type": "markdown",
   "id": "Vamx5xqtiHCH",
   "metadata": {
    "id": "Vamx5xqtiHCH"
   },
   "source": [
    "### Check for the number of rows and columns in the nulldata"
   ]
  },
  {
   "cell_type": "code",
   "execution_count": 789,
   "id": "59de1092",
   "metadata": {
    "colab": {
     "base_uri": "https://localhost:8080/"
    },
    "id": "59de1092",
    "outputId": "4db87d8b-b31c-4a8d-d447-41a3288a347e"
   },
   "outputs": [
    {
     "data": {
      "text/plain": [
       "(9681, 11)"
      ]
     },
     "execution_count": 789,
     "metadata": {},
     "output_type": "execute_result"
    }
   ],
   "source": [
    "nulldata.shape\n"
   ]
  },
  {
   "cell_type": "markdown",
   "id": "BxzHNbBjpqXL",
   "metadata": {
    "id": "BxzHNbBjpqXL"
   },
   "source": [
    "### Check the Description and Information of the nulldata "
   ]
  },
  {
   "cell_type": "code",
   "execution_count": 790,
   "id": "a6294d29",
   "metadata": {
    "colab": {
     "base_uri": "https://localhost:8080/"
    },
    "id": "a6294d29",
    "outputId": "e595278a-7315-4317-e39a-6bbcaeded218"
   },
   "outputs": [
    {
     "name": "stdout",
     "output_type": "stream",
     "text": [
      "<class 'pandas.core.frame.DataFrame'>\n",
      "Int64Index: 9681 entries, 3 to 49995\n",
      "Data columns (total 11 columns):\n",
      " #   Column                Non-Null Count  Dtype         \n",
      "---  ------                --------------  -----         \n",
      " 0   business_code         9681 non-null   object        \n",
      " 1   cust_number           9681 non-null   object        \n",
      " 2   name_customer         9681 non-null   object        \n",
      " 3   clear_date            0 non-null      datetime64[ns]\n",
      " 4   buisness_year         9681 non-null   float64       \n",
      " 5   doc_id                9681 non-null   float64       \n",
      " 6   posting_date          9681 non-null   datetime64[ns]\n",
      " 7   due_in_date           9681 non-null   datetime64[ns]\n",
      " 8   baseline_create_date  9681 non-null   datetime64[ns]\n",
      " 9   cust_payment_terms    9681 non-null   object        \n",
      " 10  converted_usd         9681 non-null   float64       \n",
      "dtypes: datetime64[ns](4), float64(3), object(4)\n",
      "memory usage: 907.6+ KB\n"
     ]
    }
   ],
   "source": [
    "nulldata.info()\n"
   ]
  },
  {
   "cell_type": "markdown",
   "id": "fe860d94",
   "metadata": {
    "id": "fe860d94"
   },
   "source": [
    "### Storing the Nulldata into a different dataset \n",
    "# for nulldata1"
   ]
  },
  {
   "cell_type": "code",
   "execution_count": 791,
   "id": "16352034",
   "metadata": {
    "id": "16352034"
   },
   "outputs": [],
   "source": [
    "nulldata1 = nulldata.copy()"
   ]
  },
  {
   "cell_type": "markdown",
   "id": "00f35b8c",
   "metadata": {
    "id": "00f35b8c"
   },
   "source": [
    "### Call the Label Encoder for Nulldata\n",
    "\n",
    "- Note - you are expected to fit \"business_code\" as it is a categorical variable\n",
    "- Note - No need to change the code"
   ]
  },
  {
   "cell_type": "code",
   "execution_count": 792,
   "id": "baf04b17",
   "metadata": {
    "colab": {
     "base_uri": "https://localhost:8080/"
    },
    "id": "baf04b17",
    "outputId": "9c9baec8-df9d-4f85-e154-777de520df3e"
   },
   "outputs": [
    {
     "name": "stderr",
     "output_type": "stream",
     "text": [
      "/usr/local/lib/python3.7/dist-packages/ipykernel_launcher.py:4: SettingWithCopyWarning: \n",
      "A value is trying to be set on a copy of a slice from a DataFrame.\n",
      "Try using .loc[row_indexer,col_indexer] = value instead\n",
      "\n",
      "See the caveats in the documentation: https://pandas.pydata.org/pandas-docs/stable/user_guide/indexing.html#returning-a-view-versus-a-copy\n",
      "  after removing the cwd from sys.path.\n"
     ]
    }
   ],
   "source": [
    "from sklearn.preprocessing import LabelEncoder\n",
    "business_codern = LabelEncoder()\n",
    "business_codern.fit(nulldata['business_code'])\n",
    "nulldata['business_code_enc'] = business_codern.transform(nulldata['business_code'])"
   ]
  },
  {
   "cell_type": "markdown",
   "id": "ZCPBK9karIR-",
   "metadata": {
    "id": "ZCPBK9karIR-"
   },
   "source": [
    "### Now you need to manually replacing str values with numbers\n",
    "- Note - No need to change the code"
   ]
  },
  {
   "cell_type": "code",
   "execution_count": 793,
   "id": "c64924be",
   "metadata": {
    "colab": {
     "base_uri": "https://localhost:8080/"
    },
    "id": "c64924be",
    "outputId": "e75c7014-c5bc-4e42-f77b-45a5208cf57a"
   },
   "outputs": [
    {
     "name": "stderr",
     "output_type": "stream",
     "text": [
      "/usr/local/lib/python3.7/dist-packages/ipykernel_launcher.py:1: SettingWithCopyWarning: \n",
      "A value is trying to be set on a copy of a slice from a DataFrame.\n",
      "Try using .loc[row_indexer,col_indexer] = value instead\n",
      "\n",
      "See the caveats in the documentation: https://pandas.pydata.org/pandas-docs/stable/user_guide/indexing.html#returning-a-view-versus-a-copy\n",
      "  \"\"\"Entry point for launching an IPython kernel.\n"
     ]
    }
   ],
   "source": [
    "nulldata['cust_number'] = nulldata['cust_number'].str.replace('CCCA',\"1\").str.replace('CCU',\"2\").str.replace('CC',\"3\").astype(int)"
   ]
  },
  {
   "cell_type": "markdown",
   "id": "9a55f5f6",
   "metadata": {
    "id": "9a55f5f6"
   },
   "source": [
    "## You need to extract day, month and year from the \"clear_date\", \"posting_date\", \"due_in_date\", \"baseline_create_date\" columns\n",
    "\n",
    "\n",
    "##### 1.   Extract day from \"clear_date\" column and store it into 'day_of_cleardate'\n",
    "##### 2.   Extract month from \"clear_date\" column and store it into 'month_of_cleardate'\n",
    "##### 3.   Extract year from \"clear_date\" column and store it into 'year_of_cleardate'\n",
    "\n",
    "\n",
    "\n",
    "##### 4.   Extract day from \"posting_date\" column and store it into 'day_of_postingdate'\n",
    "##### 5.   Extract month from \"posting_date\" column and store it into 'month_of_postingdate'\n",
    "##### 6.   Extract year from \"posting_date\" column and store it into 'year_of_postingdate'\n",
    "\n",
    "\n",
    "\n",
    "\n",
    "##### 7.   Extract day from \"due_in_date\" column and store it into 'day_of_due'\n",
    "##### 8.   Extract month from \"due_in_date\" column and store it into 'month_of_due'\n",
    "##### 9.   Extract year from \"due_in_date\" column and store it into 'year_of_due'\n",
    "\n",
    "\n",
    "\n",
    "\n",
    "##### 10.   Extract day from \"baseline_create_date\" column and store it into 'day_of_createdate'\n",
    "##### 11.   Extract month from \"baseline_create_date\" column and store it into 'month_of_createdate'\n",
    "##### 12.   Extract year from \"baseline_create_date\" column and store it into 'year_of_createdate'\n",
    "\n",
    "\n",
    "\n",
    "\n",
    "- Note - You are supposed To use - \n",
    "\n",
    "*   dt.day\n",
    "*   dt.month\n",
    "*   dt.year"
   ]
  },
  {
   "cell_type": "code",
   "execution_count": 794,
   "id": "4166fbe4",
   "metadata": {
    "colab": {
     "base_uri": "https://localhost:8080/"
    },
    "id": "4166fbe4",
    "outputId": "5172383b-a994-45ab-ea57-4d0b80a27bf3"
   },
   "outputs": [
    {
     "name": "stderr",
     "output_type": "stream",
     "text": [
      "/usr/local/lib/python3.7/dist-packages/ipykernel_launcher.py:1: SettingWithCopyWarning: \n",
      "A value is trying to be set on a copy of a slice from a DataFrame.\n",
      "Try using .loc[row_indexer,col_indexer] = value instead\n",
      "\n",
      "See the caveats in the documentation: https://pandas.pydata.org/pandas-docs/stable/user_guide/indexing.html#returning-a-view-versus-a-copy\n",
      "  \"\"\"Entry point for launching an IPython kernel.\n",
      "/usr/local/lib/python3.7/dist-packages/ipykernel_launcher.py:2: SettingWithCopyWarning: \n",
      "A value is trying to be set on a copy of a slice from a DataFrame.\n",
      "Try using .loc[row_indexer,col_indexer] = value instead\n",
      "\n",
      "See the caveats in the documentation: https://pandas.pydata.org/pandas-docs/stable/user_guide/indexing.html#returning-a-view-versus-a-copy\n",
      "  \n",
      "/usr/local/lib/python3.7/dist-packages/ipykernel_launcher.py:3: SettingWithCopyWarning: \n",
      "A value is trying to be set on a copy of a slice from a DataFrame.\n",
      "Try using .loc[row_indexer,col_indexer] = value instead\n",
      "\n",
      "See the caveats in the documentation: https://pandas.pydata.org/pandas-docs/stable/user_guide/indexing.html#returning-a-view-versus-a-copy\n",
      "  This is separate from the ipykernel package so we can avoid doing imports until\n",
      "/usr/local/lib/python3.7/dist-packages/ipykernel_launcher.py:5: SettingWithCopyWarning: \n",
      "A value is trying to be set on a copy of a slice from a DataFrame.\n",
      "Try using .loc[row_indexer,col_indexer] = value instead\n",
      "\n",
      "See the caveats in the documentation: https://pandas.pydata.org/pandas-docs/stable/user_guide/indexing.html#returning-a-view-versus-a-copy\n",
      "  \"\"\"\n",
      "/usr/local/lib/python3.7/dist-packages/ipykernel_launcher.py:6: SettingWithCopyWarning: \n",
      "A value is trying to be set on a copy of a slice from a DataFrame.\n",
      "Try using .loc[row_indexer,col_indexer] = value instead\n",
      "\n",
      "See the caveats in the documentation: https://pandas.pydata.org/pandas-docs/stable/user_guide/indexing.html#returning-a-view-versus-a-copy\n",
      "  \n",
      "/usr/local/lib/python3.7/dist-packages/ipykernel_launcher.py:7: SettingWithCopyWarning: \n",
      "A value is trying to be set on a copy of a slice from a DataFrame.\n",
      "Try using .loc[row_indexer,col_indexer] = value instead\n",
      "\n",
      "See the caveats in the documentation: https://pandas.pydata.org/pandas-docs/stable/user_guide/indexing.html#returning-a-view-versus-a-copy\n",
      "  import sys\n",
      "/usr/local/lib/python3.7/dist-packages/ipykernel_launcher.py:10: SettingWithCopyWarning: \n",
      "A value is trying to be set on a copy of a slice from a DataFrame.\n",
      "Try using .loc[row_indexer,col_indexer] = value instead\n",
      "\n",
      "See the caveats in the documentation: https://pandas.pydata.org/pandas-docs/stable/user_guide/indexing.html#returning-a-view-versus-a-copy\n",
      "  # Remove the CWD from sys.path while we load stuff.\n",
      "/usr/local/lib/python3.7/dist-packages/ipykernel_launcher.py:11: SettingWithCopyWarning: \n",
      "A value is trying to be set on a copy of a slice from a DataFrame.\n",
      "Try using .loc[row_indexer,col_indexer] = value instead\n",
      "\n",
      "See the caveats in the documentation: https://pandas.pydata.org/pandas-docs/stable/user_guide/indexing.html#returning-a-view-versus-a-copy\n",
      "  # This is added back by InteractiveShellApp.init_path()\n",
      "/usr/local/lib/python3.7/dist-packages/ipykernel_launcher.py:12: SettingWithCopyWarning: \n",
      "A value is trying to be set on a copy of a slice from a DataFrame.\n",
      "Try using .loc[row_indexer,col_indexer] = value instead\n",
      "\n",
      "See the caveats in the documentation: https://pandas.pydata.org/pandas-docs/stable/user_guide/indexing.html#returning-a-view-versus-a-copy\n",
      "  if sys.path[0] == '':\n",
      "/usr/local/lib/python3.7/dist-packages/ipykernel_launcher.py:14: SettingWithCopyWarning: \n",
      "A value is trying to be set on a copy of a slice from a DataFrame.\n",
      "Try using .loc[row_indexer,col_indexer] = value instead\n",
      "\n",
      "See the caveats in the documentation: https://pandas.pydata.org/pandas-docs/stable/user_guide/indexing.html#returning-a-view-versus-a-copy\n",
      "  \n",
      "/usr/local/lib/python3.7/dist-packages/ipykernel_launcher.py:15: SettingWithCopyWarning: \n",
      "A value is trying to be set on a copy of a slice from a DataFrame.\n",
      "Try using .loc[row_indexer,col_indexer] = value instead\n",
      "\n",
      "See the caveats in the documentation: https://pandas.pydata.org/pandas-docs/stable/user_guide/indexing.html#returning-a-view-versus-a-copy\n",
      "  from ipykernel import kernelapp as app\n",
      "/usr/local/lib/python3.7/dist-packages/ipykernel_launcher.py:16: SettingWithCopyWarning: \n",
      "A value is trying to be set on a copy of a slice from a DataFrame.\n",
      "Try using .loc[row_indexer,col_indexer] = value instead\n",
      "\n",
      "See the caveats in the documentation: https://pandas.pydata.org/pandas-docs/stable/user_guide/indexing.html#returning-a-view-versus-a-copy\n",
      "  app.launch_new_instance()\n"
     ]
    }
   ],
   "source": [
    "nulldata['day_of_cleardate'] = nulldata['clear_date'].dt.day\n",
    "nulldata['month_of_cleardate'] = nulldata['clear_date'].dt.month\n",
    "nulldata['year_of_cleardate'] = nulldata['clear_date'].dt.year\n",
    "\n",
    "nulldata['day_of_postingdate'] = nulldata['posting_date'].dt.day\n",
    "nulldata['month_of_postingdate'] = nulldata['posting_date'].dt.month\n",
    "nulldata['year_of_postingdate'] = nulldata['posting_date'].dt.year\n",
    "\n",
    "\n",
    "nulldata['day_of_due'] = nulldata['due_in_date'].dt.day\n",
    "nulldata['month_of_due'] = nulldata['due_in_date'].dt.month\n",
    "nulldata['year_of_due'] = nulldata['due_in_date'].dt.year\n",
    "\n",
    "nulldata['day_of_createdate'] = nulldata['baseline_create_date'].dt.day\n",
    "nulldata['month_of_createdate'] = nulldata['baseline_create_date'].dt.month\n",
    "nulldata['year_of_createdate'] = nulldata['baseline_create_date'].dt.year"
   ]
  },
  {
   "cell_type": "markdown",
   "id": "QeHWJYrAvOC6",
   "metadata": {
    "id": "QeHWJYrAvOC6"
   },
   "source": [
    "### Use Label Encoder1 of all the following columns - \n",
    "- 'cust_payment_terms' and store into 'cust_payment_terms_enc'\n",
    "- 'business_code' and store into 'business_code_enc'\n",
    "- 'name_customer' and store into 'name_customer_enc'\n",
    "\n",
    "Note - No need to change the code"
   ]
  },
  {
   "cell_type": "code",
   "execution_count": 795,
   "id": "bac330e2",
   "metadata": {
    "colab": {
     "base_uri": "https://localhost:8080/"
    },
    "id": "bac330e2",
    "outputId": "93160bb8-7287-49ff-aaa6-df21c774c8a5"
   },
   "outputs": [
    {
     "name": "stderr",
     "output_type": "stream",
     "text": [
      "/usr/local/lib/python3.7/dist-packages/ipykernel_launcher.py:1: SettingWithCopyWarning: \n",
      "A value is trying to be set on a copy of a slice from a DataFrame.\n",
      "Try using .loc[row_indexer,col_indexer] = value instead\n",
      "\n",
      "See the caveats in the documentation: https://pandas.pydata.org/pandas-docs/stable/user_guide/indexing.html#returning-a-view-versus-a-copy\n",
      "  \"\"\"Entry point for launching an IPython kernel.\n",
      "/usr/local/lib/python3.7/dist-packages/ipykernel_launcher.py:2: SettingWithCopyWarning: \n",
      "A value is trying to be set on a copy of a slice from a DataFrame.\n",
      "Try using .loc[row_indexer,col_indexer] = value instead\n",
      "\n",
      "See the caveats in the documentation: https://pandas.pydata.org/pandas-docs/stable/user_guide/indexing.html#returning-a-view-versus-a-copy\n",
      "  \n",
      "/usr/local/lib/python3.7/dist-packages/ipykernel_launcher.py:3: SettingWithCopyWarning: \n",
      "A value is trying to be set on a copy of a slice from a DataFrame.\n",
      "Try using .loc[row_indexer,col_indexer] = value instead\n",
      "\n",
      "See the caveats in the documentation: https://pandas.pydata.org/pandas-docs/stable/user_guide/indexing.html#returning-a-view-versus-a-copy\n",
      "  This is separate from the ipykernel package so we can avoid doing imports until\n"
     ]
    }
   ],
   "source": [
    "nulldata['cust_payment_terms_enc']=label_encoder1.transform(nulldata['cust_payment_terms'])\n",
    "nulldata['business_code_enc']=label_encoder1.transform(nulldata['business_code'])\n",
    "nulldata['name_customer_enc']=label_encoder.transform(nulldata['name_customer'])\n"
   ]
  },
  {
   "cell_type": "markdown",
   "id": "zD9I-XqQwC28",
   "metadata": {
    "id": "zD9I-XqQwC28"
   },
   "source": [
    "### Check for the datatypes of all the columns of Nulldata"
   ]
  },
  {
   "cell_type": "code",
   "execution_count": 796,
   "id": "d4f72517",
   "metadata": {
    "colab": {
     "base_uri": "https://localhost:8080/"
    },
    "id": "d4f72517",
    "outputId": "1ab6a216-6ab2-4769-d9f7-3bba0e687a74"
   },
   "outputs": [
    {
     "data": {
      "text/plain": [
       "business_code                     object\n",
       "cust_number                        int64\n",
       "name_customer                     object\n",
       "clear_date                datetime64[ns]\n",
       "buisness_year                    float64\n",
       "doc_id                           float64\n",
       "posting_date              datetime64[ns]\n",
       "due_in_date               datetime64[ns]\n",
       "baseline_create_date      datetime64[ns]\n",
       "cust_payment_terms                object\n",
       "converted_usd                    float64\n",
       "business_code_enc                  int64\n",
       "day_of_cleardate                 float64\n",
       "month_of_cleardate               float64\n",
       "year_of_cleardate                float64\n",
       "day_of_postingdate                 int64\n",
       "month_of_postingdate               int64\n",
       "year_of_postingdate                int64\n",
       "day_of_due                         int64\n",
       "month_of_due                       int64\n",
       "year_of_due                        int64\n",
       "day_of_createdate                  int64\n",
       "month_of_createdate                int64\n",
       "year_of_createdate                 int64\n",
       "cust_payment_terms_enc             int64\n",
       "name_customer_enc                  int64\n",
       "dtype: object"
      ]
     },
     "execution_count": 796,
     "metadata": {},
     "output_type": "execute_result"
    }
   ],
   "source": [
    "nulldata.dtypes\n"
   ]
  },
  {
   "cell_type": "markdown",
   "id": "17cd5452",
   "metadata": {
    "id": "17cd5452"
   },
   "source": [
    "### Now you need to drop all the unnecessary columns - \n",
    "\n",
    "- 'business_code'\n",
    "- \"baseline_create_date\"\n",
    "- \"due_in_date\"\n",
    "- \"posting_date\"\n",
    "- \"name_customer\"\n",
    "- \"clear_date\"\n",
    "- \"cust_payment_terms\"\n",
    "- 'day_of_cleardate'\n",
    "- \"month_of_cleardate\"\n",
    "- \"year_of_cleardate\""
   ]
  },
  {
   "cell_type": "code",
   "execution_count": 797,
   "id": "d7c82076",
   "metadata": {
    "id": "d7c82076"
   },
   "outputs": [],
   "source": [
    "nulldata = nulldata.drop(['business_code',\n",
    "\"baseline_create_date\",\n",
    "\"due_in_date\",\n",
    "\"posting_date\",\n",
    "\"name_customer\",\n",
    "\"clear_date\",\n",
    "\"cust_payment_terms\",\n",
    "'day_of_cleardate',\n",
    "\"month_of_cleardate\",\n",
    "\"year_of_cleardate\"], axis=1)"
   ]
  },
  {
   "cell_type": "markdown",
   "id": "Q_NCr9IPweVq",
   "metadata": {
    "id": "Q_NCr9IPweVq"
   },
   "source": [
    "### Check the information of the \"nulldata\" dataframe"
   ]
  },
  {
   "cell_type": "code",
   "execution_count": 798,
   "id": "4e7ffee0",
   "metadata": {
    "colab": {
     "base_uri": "https://localhost:8080/"
    },
    "id": "4e7ffee0",
    "outputId": "8c2f7e28-a377-492a-b3aa-9508722fc0c6"
   },
   "outputs": [
    {
     "name": "stdout",
     "output_type": "stream",
     "text": [
      "<class 'pandas.core.frame.DataFrame'>\n",
      "Int64Index: 9681 entries, 3 to 49995\n",
      "Data columns (total 16 columns):\n",
      " #   Column                  Non-Null Count  Dtype  \n",
      "---  ------                  --------------  -----  \n",
      " 0   cust_number             9681 non-null   int64  \n",
      " 1   buisness_year           9681 non-null   float64\n",
      " 2   doc_id                  9681 non-null   float64\n",
      " 3   converted_usd           9681 non-null   float64\n",
      " 4   business_code_enc       9681 non-null   int64  \n",
      " 5   day_of_postingdate      9681 non-null   int64  \n",
      " 6   month_of_postingdate    9681 non-null   int64  \n",
      " 7   year_of_postingdate     9681 non-null   int64  \n",
      " 8   day_of_due              9681 non-null   int64  \n",
      " 9   month_of_due            9681 non-null   int64  \n",
      " 10  year_of_due             9681 non-null   int64  \n",
      " 11  day_of_createdate       9681 non-null   int64  \n",
      " 12  month_of_createdate     9681 non-null   int64  \n",
      " 13  year_of_createdate      9681 non-null   int64  \n",
      " 14  cust_payment_terms_enc  9681 non-null   int64  \n",
      " 15  name_customer_enc       9681 non-null   int64  \n",
      "dtypes: float64(3), int64(13)\n",
      "memory usage: 1.3 MB\n"
     ]
    }
   ],
   "source": [
    "nulldata.info()"
   ]
  },
  {
   "cell_type": "markdown",
   "id": "-XvjhWqmwi-C",
   "metadata": {
    "id": "-XvjhWqmwi-C"
   },
   "source": [
    "### Compare \"nulldata\" with the \"X_test\" dataframe \n",
    "\n",
    "- use info() method"
   ]
  },
  {
   "cell_type": "code",
   "execution_count": 799,
   "id": "02f4b62d",
   "metadata": {
    "colab": {
     "base_uri": "https://localhost:8080/"
    },
    "id": "02f4b62d",
    "outputId": "c653f961-e7a2-4d09-b6a5-050004962586"
   },
   "outputs": [
    {
     "name": "stdout",
     "output_type": "stream",
     "text": [
      "<class 'pandas.core.frame.DataFrame'>\n",
      "Int64Index: 9681 entries, 3 to 49995\n",
      "Data columns (total 16 columns):\n",
      " #   Column                  Non-Null Count  Dtype  \n",
      "---  ------                  --------------  -----  \n",
      " 0   cust_number             9681 non-null   int64  \n",
      " 1   buisness_year           9681 non-null   float64\n",
      " 2   doc_id                  9681 non-null   float64\n",
      " 3   converted_usd           9681 non-null   float64\n",
      " 4   business_code_enc       9681 non-null   int64  \n",
      " 5   day_of_postingdate      9681 non-null   int64  \n",
      " 6   month_of_postingdate    9681 non-null   int64  \n",
      " 7   year_of_postingdate     9681 non-null   int64  \n",
      " 8   day_of_due              9681 non-null   int64  \n",
      " 9   month_of_due            9681 non-null   int64  \n",
      " 10  year_of_due             9681 non-null   int64  \n",
      " 11  day_of_createdate       9681 non-null   int64  \n",
      " 12  month_of_createdate     9681 non-null   int64  \n",
      " 13  year_of_createdate      9681 non-null   int64  \n",
      " 14  cust_payment_terms_enc  9681 non-null   int64  \n",
      " 15  name_customer_enc       9681 non-null   int64  \n",
      "dtypes: float64(3), int64(13)\n",
      "memory usage: 1.3 MB\n",
      "<class 'pandas.core.frame.DataFrame'>\n",
      "Int64Index: 7832 entries, 39759 to 49999\n",
      "Data columns (total 16 columns):\n",
      " #   Column                  Non-Null Count  Dtype  \n",
      "---  ------                  --------------  -----  \n",
      " 0   cust_number             7832 non-null   int64  \n",
      " 1   buisness_year           7832 non-null   float64\n",
      " 2   doc_id                  7832 non-null   float64\n",
      " 3   converted_usd           7832 non-null   float64\n",
      " 4   business_code_enc       7832 non-null   int64  \n",
      " 5   name_customer_enc       7832 non-null   int64  \n",
      " 6   cust_payment_terms_enc  7832 non-null   int64  \n",
      " 7   day_of_postingdate      7832 non-null   int64  \n",
      " 8   month_of_postingdate    7832 non-null   int64  \n",
      " 9   year_of_postingdate     7832 non-null   int64  \n",
      " 10  day_of_createdate       7832 non-null   int64  \n",
      " 11  month_of_createdate     7832 non-null   int64  \n",
      " 12  year_of_createdate      7832 non-null   int64  \n",
      " 13  day_of_due              7832 non-null   int64  \n",
      " 14  month_of_due            7832 non-null   int64  \n",
      " 15  year_of_due             7832 non-null   int64  \n",
      "dtypes: float64(3), int64(13)\n",
      "memory usage: 1.0 MB\n"
     ]
    }
   ],
   "source": [
    "nulldata.info()\n",
    "X_test.info()"
   ]
  },
  {
   "cell_type": "markdown",
   "id": "Us3ey-9zwqjq",
   "metadata": {
    "id": "Us3ey-9zwqjq"
   },
   "source": [
    "### You must have noticed that there is a mismatch in the column sequence while compairing the dataframes\n",
    "\n",
    "- Note - In order to fed into the machine learning model, you need to edit the sequence of \"nulldata\", similar to the \"X_test\" dataframe"
   ]
  },
  {
   "cell_type": "markdown",
   "id": "vduVNt1kxPW-",
   "metadata": {
    "id": "vduVNt1kxPW-"
   },
   "source": [
    "- Display all the columns of the X_test dataframe \n",
    "- Display all the columns of the Nulldata dataframe \n",
    "- Store the Nulldata with new sequence into a new dataframe \n",
    "\n",
    "\n",
    "- Note - The code is given below, no need to change "
   ]
  },
  {
   "cell_type": "code",
   "execution_count": 800,
   "id": "6729353e",
   "metadata": {
    "colab": {
     "base_uri": "https://localhost:8080/"
    },
    "id": "6729353e",
    "outputId": "62aaa47c-675a-4c24-a61f-a5bd55884231"
   },
   "outputs": [
    {
     "data": {
      "text/plain": [
       "Index(['cust_number', 'buisness_year', 'doc_id', 'converted_usd',\n",
       "       'business_code_enc', 'name_customer_enc', 'cust_payment_terms_enc',\n",
       "       'day_of_postingdate', 'month_of_postingdate', 'year_of_postingdate',\n",
       "       'day_of_createdate', 'month_of_createdate', 'year_of_createdate',\n",
       "       'day_of_due', 'month_of_due', 'year_of_due'],\n",
       "      dtype='object')"
      ]
     },
     "execution_count": 800,
     "metadata": {},
     "output_type": "execute_result"
    }
   ],
   "source": [
    "X_test.columns"
   ]
  },
  {
   "cell_type": "code",
   "execution_count": 801,
   "id": "47bd9c5e",
   "metadata": {
    "colab": {
     "base_uri": "https://localhost:8080/"
    },
    "id": "47bd9c5e",
    "outputId": "117f519d-abf0-4c30-d147-b540d9f81ee1"
   },
   "outputs": [
    {
     "data": {
      "text/plain": [
       "Index(['cust_number', 'buisness_year', 'doc_id', 'converted_usd',\n",
       "       'business_code_enc', 'day_of_postingdate', 'month_of_postingdate',\n",
       "       'year_of_postingdate', 'day_of_due', 'month_of_due', 'year_of_due',\n",
       "       'day_of_createdate', 'month_of_createdate', 'year_of_createdate',\n",
       "       'cust_payment_terms_enc', 'name_customer_enc'],\n",
       "      dtype='object')"
      ]
     },
     "execution_count": 801,
     "metadata": {},
     "output_type": "execute_result"
    }
   ],
   "source": [
    "nulldata.columns"
   ]
  },
  {
   "cell_type": "code",
   "execution_count": 802,
   "id": "aa5a2103",
   "metadata": {
    "id": "aa5a2103"
   },
   "outputs": [],
   "source": [
    "nulldata2=nulldata[['cust_number', 'buisness_year', 'doc_id', 'converted_usd',\n",
    "       'business_code_enc', 'name_customer_enc', 'cust_payment_terms_enc',\n",
    "       'day_of_postingdate', 'month_of_postingdate', 'year_of_postingdate',\n",
    "       'day_of_createdate', 'month_of_createdate', 'year_of_createdate',\n",
    "       'day_of_due', 'month_of_due', 'year_of_due']]"
   ]
  },
  {
   "cell_type": "markdown",
   "id": "1dc8b021",
   "metadata": {
    "id": "1dc8b021"
   },
   "source": [
    "### Display the Final Dataset"
   ]
  },
  {
   "cell_type": "code",
   "execution_count": 803,
   "id": "2f39785a",
   "metadata": {
    "colab": {
     "base_uri": "https://localhost:8080/",
     "height": 487
    },
    "id": "2f39785a",
    "outputId": "4e8d1150-800b-46aa-c4cf-7adfb408b374"
   },
   "outputs": [
    {
     "data": {
      "text/html": [
       "\n",
       "  <div id=\"df-5f36be11-dc9c-4582-846b-e34af81cbdfa\">\n",
       "    <div class=\"colab-df-container\">\n",
       "      <div>\n",
       "<style scoped>\n",
       "    .dataframe tbody tr th:only-of-type {\n",
       "        vertical-align: middle;\n",
       "    }\n",
       "\n",
       "    .dataframe tbody tr th {\n",
       "        vertical-align: top;\n",
       "    }\n",
       "\n",
       "    .dataframe thead th {\n",
       "        text-align: right;\n",
       "    }\n",
       "</style>\n",
       "<table border=\"1\" class=\"dataframe\">\n",
       "  <thead>\n",
       "    <tr style=\"text-align: right;\">\n",
       "      <th></th>\n",
       "      <th>cust_number</th>\n",
       "      <th>buisness_year</th>\n",
       "      <th>doc_id</th>\n",
       "      <th>converted_usd</th>\n",
       "      <th>business_code_enc</th>\n",
       "      <th>name_customer_enc</th>\n",
       "      <th>cust_payment_terms_enc</th>\n",
       "      <th>day_of_postingdate</th>\n",
       "      <th>month_of_postingdate</th>\n",
       "      <th>year_of_postingdate</th>\n",
       "      <th>day_of_createdate</th>\n",
       "      <th>month_of_createdate</th>\n",
       "      <th>year_of_createdate</th>\n",
       "      <th>day_of_due</th>\n",
       "      <th>month_of_due</th>\n",
       "      <th>year_of_due</th>\n",
       "    </tr>\n",
       "  </thead>\n",
       "  <tbody>\n",
       "    <tr>\n",
       "      <th>3</th>\n",
       "      <td>140105686</td>\n",
       "      <td>2020.0</td>\n",
       "      <td>2.960623e+09</td>\n",
       "      <td>2309.79</td>\n",
       "      <td>64</td>\n",
       "      <td>2712</td>\n",
       "      <td>5</td>\n",
       "      <td>30</td>\n",
       "      <td>3</td>\n",
       "      <td>2020</td>\n",
       "      <td>31</td>\n",
       "      <td>3</td>\n",
       "      <td>2020</td>\n",
       "      <td>10</td>\n",
       "      <td>4</td>\n",
       "      <td>2020</td>\n",
       "    </tr>\n",
       "    <tr>\n",
       "      <th>7</th>\n",
       "      <td>200744019</td>\n",
       "      <td>2020.0</td>\n",
       "      <td>1.930659e+09</td>\n",
       "      <td>11173.02</td>\n",
       "      <td>64</td>\n",
       "      <td>2795</td>\n",
       "      <td>20</td>\n",
       "      <td>19</td>\n",
       "      <td>3</td>\n",
       "      <td>2020</td>\n",
       "      <td>19</td>\n",
       "      <td>3</td>\n",
       "      <td>2020</td>\n",
       "      <td>3</td>\n",
       "      <td>4</td>\n",
       "      <td>2020</td>\n",
       "    </tr>\n",
       "    <tr>\n",
       "      <th>10</th>\n",
       "      <td>200418007</td>\n",
       "      <td>2020.0</td>\n",
       "      <td>1.930611e+09</td>\n",
       "      <td>3525.59</td>\n",
       "      <td>64</td>\n",
       "      <td>93</td>\n",
       "      <td>20</td>\n",
       "      <td>11</td>\n",
       "      <td>3</td>\n",
       "      <td>2020</td>\n",
       "      <td>11</td>\n",
       "      <td>3</td>\n",
       "      <td>2020</td>\n",
       "      <td>26</td>\n",
       "      <td>3</td>\n",
       "      <td>2020</td>\n",
       "    </tr>\n",
       "    <tr>\n",
       "      <th>14</th>\n",
       "      <td>200739534</td>\n",
       "      <td>2020.0</td>\n",
       "      <td>1.930788e+09</td>\n",
       "      <td>121105.65</td>\n",
       "      <td>64</td>\n",
       "      <td>2021</td>\n",
       "      <td>20</td>\n",
       "      <td>15</td>\n",
       "      <td>4</td>\n",
       "      <td>2020</td>\n",
       "      <td>15</td>\n",
       "      <td>4</td>\n",
       "      <td>2020</td>\n",
       "      <td>30</td>\n",
       "      <td>4</td>\n",
       "      <td>2020</td>\n",
       "    </tr>\n",
       "    <tr>\n",
       "      <th>15</th>\n",
       "      <td>200353024</td>\n",
       "      <td>2020.0</td>\n",
       "      <td>1.930817e+09</td>\n",
       "      <td>3726.06</td>\n",
       "      <td>64</td>\n",
       "      <td>722</td>\n",
       "      <td>34</td>\n",
       "      <td>23</td>\n",
       "      <td>4</td>\n",
       "      <td>2020</td>\n",
       "      <td>16</td>\n",
       "      <td>4</td>\n",
       "      <td>2020</td>\n",
       "      <td>26</td>\n",
       "      <td>4</td>\n",
       "      <td>2020</td>\n",
       "    </tr>\n",
       "    <tr>\n",
       "      <th>...</th>\n",
       "      <td>...</td>\n",
       "      <td>...</td>\n",
       "      <td>...</td>\n",
       "      <td>...</td>\n",
       "      <td>...</td>\n",
       "      <td>...</td>\n",
       "      <td>...</td>\n",
       "      <td>...</td>\n",
       "      <td>...</td>\n",
       "      <td>...</td>\n",
       "      <td>...</td>\n",
       "      <td>...</td>\n",
       "      <td>...</td>\n",
       "      <td>...</td>\n",
       "      <td>...</td>\n",
       "      <td>...</td>\n",
       "    </tr>\n",
       "    <tr>\n",
       "      <th>49975</th>\n",
       "      <td>200769623</td>\n",
       "      <td>2020.0</td>\n",
       "      <td>1.930625e+09</td>\n",
       "      <td>13114.99</td>\n",
       "      <td>64</td>\n",
       "      <td>2987</td>\n",
       "      <td>32</td>\n",
       "      <td>10</td>\n",
       "      <td>3</td>\n",
       "      <td>2020</td>\n",
       "      <td>10</td>\n",
       "      <td>3</td>\n",
       "      <td>2020</td>\n",
       "      <td>25</td>\n",
       "      <td>3</td>\n",
       "      <td>2020</td>\n",
       "    </tr>\n",
       "    <tr>\n",
       "      <th>49980</th>\n",
       "      <td>200769623</td>\n",
       "      <td>2020.0</td>\n",
       "      <td>1.930851e+09</td>\n",
       "      <td>8899.71</td>\n",
       "      <td>64</td>\n",
       "      <td>2985</td>\n",
       "      <td>32</td>\n",
       "      <td>3</td>\n",
       "      <td>5</td>\n",
       "      <td>2020</td>\n",
       "      <td>3</td>\n",
       "      <td>5</td>\n",
       "      <td>2020</td>\n",
       "      <td>18</td>\n",
       "      <td>5</td>\n",
       "      <td>2020</td>\n",
       "    </tr>\n",
       "    <tr>\n",
       "      <th>49982</th>\n",
       "      <td>200148860</td>\n",
       "      <td>2020.0</td>\n",
       "      <td>1.930638e+09</td>\n",
       "      <td>4967.06</td>\n",
       "      <td>64</td>\n",
       "      <td>796</td>\n",
       "      <td>20</td>\n",
       "      <td>11</td>\n",
       "      <td>3</td>\n",
       "      <td>2020</td>\n",
       "      <td>11</td>\n",
       "      <td>3</td>\n",
       "      <td>2020</td>\n",
       "      <td>26</td>\n",
       "      <td>3</td>\n",
       "      <td>2020</td>\n",
       "    </tr>\n",
       "    <tr>\n",
       "      <th>49992</th>\n",
       "      <td>200900909</td>\n",
       "      <td>2020.0</td>\n",
       "      <td>1.930702e+09</td>\n",
       "      <td>1998.64</td>\n",
       "      <td>64</td>\n",
       "      <td>2759</td>\n",
       "      <td>20</td>\n",
       "      <td>25</td>\n",
       "      <td>3</td>\n",
       "      <td>2020</td>\n",
       "      <td>25</td>\n",
       "      <td>3</td>\n",
       "      <td>2020</td>\n",
       "      <td>9</td>\n",
       "      <td>4</td>\n",
       "      <td>2020</td>\n",
       "    </tr>\n",
       "    <tr>\n",
       "      <th>49995</th>\n",
       "      <td>200561861</td>\n",
       "      <td>2020.0</td>\n",
       "      <td>1.930797e+09</td>\n",
       "      <td>3187.86</td>\n",
       "      <td>64</td>\n",
       "      <td>547</td>\n",
       "      <td>20</td>\n",
       "      <td>21</td>\n",
       "      <td>4</td>\n",
       "      <td>2020</td>\n",
       "      <td>21</td>\n",
       "      <td>4</td>\n",
       "      <td>2020</td>\n",
       "      <td>6</td>\n",
       "      <td>5</td>\n",
       "      <td>2020</td>\n",
       "    </tr>\n",
       "  </tbody>\n",
       "</table>\n",
       "<p>9681 rows × 16 columns</p>\n",
       "</div>\n",
       "      <button class=\"colab-df-convert\" onclick=\"convertToInteractive('df-5f36be11-dc9c-4582-846b-e34af81cbdfa')\"\n",
       "              title=\"Convert this dataframe to an interactive table.\"\n",
       "              style=\"display:none;\">\n",
       "        \n",
       "  <svg xmlns=\"http://www.w3.org/2000/svg\" height=\"24px\"viewBox=\"0 0 24 24\"\n",
       "       width=\"24px\">\n",
       "    <path d=\"M0 0h24v24H0V0z\" fill=\"none\"/>\n",
       "    <path d=\"M18.56 5.44l.94 2.06.94-2.06 2.06-.94-2.06-.94-.94-2.06-.94 2.06-2.06.94zm-11 1L8.5 8.5l.94-2.06 2.06-.94-2.06-.94L8.5 2.5l-.94 2.06-2.06.94zm10 10l.94 2.06.94-2.06 2.06-.94-2.06-.94-.94-2.06-.94 2.06-2.06.94z\"/><path d=\"M17.41 7.96l-1.37-1.37c-.4-.4-.92-.59-1.43-.59-.52 0-1.04.2-1.43.59L10.3 9.45l-7.72 7.72c-.78.78-.78 2.05 0 2.83L4 21.41c.39.39.9.59 1.41.59.51 0 1.02-.2 1.41-.59l7.78-7.78 2.81-2.81c.8-.78.8-2.07 0-2.86zM5.41 20L4 18.59l7.72-7.72 1.47 1.35L5.41 20z\"/>\n",
       "  </svg>\n",
       "      </button>\n",
       "      \n",
       "  <style>\n",
       "    .colab-df-container {\n",
       "      display:flex;\n",
       "      flex-wrap:wrap;\n",
       "      gap: 12px;\n",
       "    }\n",
       "\n",
       "    .colab-df-convert {\n",
       "      background-color: #E8F0FE;\n",
       "      border: none;\n",
       "      border-radius: 50%;\n",
       "      cursor: pointer;\n",
       "      display: none;\n",
       "      fill: #1967D2;\n",
       "      height: 32px;\n",
       "      padding: 0 0 0 0;\n",
       "      width: 32px;\n",
       "    }\n",
       "\n",
       "    .colab-df-convert:hover {\n",
       "      background-color: #E2EBFA;\n",
       "      box-shadow: 0px 1px 2px rgba(60, 64, 67, 0.3), 0px 1px 3px 1px rgba(60, 64, 67, 0.15);\n",
       "      fill: #174EA6;\n",
       "    }\n",
       "\n",
       "    [theme=dark] .colab-df-convert {\n",
       "      background-color: #3B4455;\n",
       "      fill: #D2E3FC;\n",
       "    }\n",
       "\n",
       "    [theme=dark] .colab-df-convert:hover {\n",
       "      background-color: #434B5C;\n",
       "      box-shadow: 0px 1px 3px 1px rgba(0, 0, 0, 0.15);\n",
       "      filter: drop-shadow(0px 1px 2px rgba(0, 0, 0, 0.3));\n",
       "      fill: #FFFFFF;\n",
       "    }\n",
       "  </style>\n",
       "\n",
       "      <script>\n",
       "        const buttonEl =\n",
       "          document.querySelector('#df-5f36be11-dc9c-4582-846b-e34af81cbdfa button.colab-df-convert');\n",
       "        buttonEl.style.display =\n",
       "          google.colab.kernel.accessAllowed ? 'block' : 'none';\n",
       "\n",
       "        async function convertToInteractive(key) {\n",
       "          const element = document.querySelector('#df-5f36be11-dc9c-4582-846b-e34af81cbdfa');\n",
       "          const dataTable =\n",
       "            await google.colab.kernel.invokeFunction('convertToInteractive',\n",
       "                                                     [key], {});\n",
       "          if (!dataTable) return;\n",
       "\n",
       "          const docLinkHtml = 'Like what you see? Visit the ' +\n",
       "            '<a target=\"_blank\" href=https://colab.research.google.com/notebooks/data_table.ipynb>data table notebook</a>'\n",
       "            + ' to learn more about interactive tables.';\n",
       "          element.innerHTML = '';\n",
       "          dataTable['output_type'] = 'display_data';\n",
       "          await google.colab.output.renderOutput(dataTable, element);\n",
       "          const docLink = document.createElement('div');\n",
       "          docLink.innerHTML = docLinkHtml;\n",
       "          element.appendChild(docLink);\n",
       "        }\n",
       "      </script>\n",
       "    </div>\n",
       "  </div>\n",
       "  "
      ],
      "text/plain": [
       "       cust_number  buisness_year  ...  month_of_due  year_of_due\n",
       "3        140105686         2020.0  ...             4         2020\n",
       "7        200744019         2020.0  ...             4         2020\n",
       "10       200418007         2020.0  ...             3         2020\n",
       "14       200739534         2020.0  ...             4         2020\n",
       "15       200353024         2020.0  ...             4         2020\n",
       "...            ...            ...  ...           ...          ...\n",
       "49975    200769623         2020.0  ...             3         2020\n",
       "49980    200769623         2020.0  ...             5         2020\n",
       "49982    200148860         2020.0  ...             3         2020\n",
       "49992    200900909         2020.0  ...             4         2020\n",
       "49995    200561861         2020.0  ...             5         2020\n",
       "\n",
       "[9681 rows x 16 columns]"
      ]
     },
     "execution_count": 803,
     "metadata": {},
     "output_type": "execute_result"
    }
   ],
   "source": [
    "nulldata2"
   ]
  },
  {
   "cell_type": "markdown",
   "id": "27b88c5a",
   "metadata": {
    "id": "27b88c5a"
   },
   "source": [
    "### Now you can pass this dataset into you final model and store it into \"final_result\""
   ]
  },
  {
   "cell_type": "code",
   "execution_count": 805,
   "id": "9e0b6388",
   "metadata": {
    "id": "9e0b6388"
   },
   "outputs": [],
   "source": [
    "final_result = regressorfinal.predict(nulldata2)"
   ]
  },
  {
   "cell_type": "markdown",
   "id": "9653d3c6",
   "metadata": {
    "id": "9653d3c6"
   },
   "source": [
    "### you need to make the final_result as dataframe, with a column name \"avg_delay\"\n",
    "\n",
    "- Note - No need to change the code"
   ]
  },
  {
   "cell_type": "code",
   "execution_count": 806,
   "id": "25ef814d",
   "metadata": {
    "id": "25ef814d"
   },
   "outputs": [],
   "source": [
    "final_result = pd.Series(final_result,name='avg_delay')"
   ]
  },
  {
   "cell_type": "markdown",
   "id": "C86staIhyf2C",
   "metadata": {
    "id": "C86staIhyf2C"
   },
   "source": [
    "### Display the \"avg_delay\" column"
   ]
  },
  {
   "cell_type": "code",
   "execution_count": 807,
   "id": "4fd46406",
   "metadata": {
    "colab": {
     "base_uri": "https://localhost:8080/"
    },
    "id": "4fd46406",
    "outputId": "bf01137e-f4a7-46ff-c0bd-263fe1448eca"
   },
   "outputs": [
    {
     "data": {
      "text/plain": [
       "0       370741.718750\n",
       "1       394555.812500\n",
       "2       289793.406250\n",
       "3       109147.882812\n",
       "4      -272168.156250\n",
       "            ...      \n",
       "9676    115253.664062\n",
       "9677    115253.664062\n",
       "9678   -224047.562500\n",
       "9679    422975.093750\n",
       "9680    -31042.601562\n",
       "Name: avg_delay, Length: 9681, dtype: float32"
      ]
     },
     "execution_count": 807,
     "metadata": {},
     "output_type": "execute_result"
    }
   ],
   "source": [
    "final_result"
   ]
  },
  {
   "cell_type": "markdown",
   "id": "44f71a7e",
   "metadata": {
    "id": "44f71a7e"
   },
   "source": [
    "### Now you need to merge this final_result dataframe with the nulldata1 of \"nulldata\" Dataframe which we have created in earlier steps"
   ]
  },
  {
   "cell_type": "code",
   "execution_count": 808,
   "id": "e8f0969d",
   "metadata": {
    "id": "e8f0969d"
   },
   "outputs": [],
   "source": [
    "nulldata1.reset_index(drop=True,inplace=True)\n",
    "Final = nulldata1.merge(final_result , on = nulldata.index )"
   ]
  },
  {
   "cell_type": "markdown",
   "id": "G-hLtxXgy4GZ",
   "metadata": {
    "id": "G-hLtxXgy4GZ"
   },
   "source": [
    "### Display the \"Final\" dataframe "
   ]
  },
  {
   "cell_type": "code",
   "execution_count": 809,
   "id": "71fb4dc0",
   "metadata": {
    "colab": {
     "base_uri": "https://localhost:8080/",
     "height": 522
    },
    "id": "71fb4dc0",
    "outputId": "8e33b0c9-af5c-4c04-8e91-cdc44c3cec40"
   },
   "outputs": [
    {
     "data": {
      "text/html": [
       "\n",
       "  <div id=\"df-5e4f3560-1cc5-4d2a-ae48-4bf6af1025a7\">\n",
       "    <div class=\"colab-df-container\">\n",
       "      <div>\n",
       "<style scoped>\n",
       "    .dataframe tbody tr th:only-of-type {\n",
       "        vertical-align: middle;\n",
       "    }\n",
       "\n",
       "    .dataframe tbody tr th {\n",
       "        vertical-align: top;\n",
       "    }\n",
       "\n",
       "    .dataframe thead th {\n",
       "        text-align: right;\n",
       "    }\n",
       "</style>\n",
       "<table border=\"1\" class=\"dataframe\">\n",
       "  <thead>\n",
       "    <tr style=\"text-align: right;\">\n",
       "      <th></th>\n",
       "      <th>key_0</th>\n",
       "      <th>business_code</th>\n",
       "      <th>cust_number</th>\n",
       "      <th>name_customer</th>\n",
       "      <th>clear_date</th>\n",
       "      <th>buisness_year</th>\n",
       "      <th>doc_id</th>\n",
       "      <th>posting_date</th>\n",
       "      <th>due_in_date</th>\n",
       "      <th>baseline_create_date</th>\n",
       "      <th>cust_payment_terms</th>\n",
       "      <th>converted_usd</th>\n",
       "      <th>avg_delay</th>\n",
       "    </tr>\n",
       "  </thead>\n",
       "  <tbody>\n",
       "    <tr>\n",
       "      <th>0</th>\n",
       "      <td>3</td>\n",
       "      <td>CA02</td>\n",
       "      <td>0140105686</td>\n",
       "      <td>SYSC llc</td>\n",
       "      <td>NaT</td>\n",
       "      <td>2020.0</td>\n",
       "      <td>2.960623e+09</td>\n",
       "      <td>2020-03-30</td>\n",
       "      <td>2020-04-10</td>\n",
       "      <td>2020-03-31</td>\n",
       "      <td>CA10</td>\n",
       "      <td>2309.79</td>\n",
       "      <td>370741.718750</td>\n",
       "    </tr>\n",
       "    <tr>\n",
       "      <th>1</th>\n",
       "      <td>7</td>\n",
       "      <td>U001</td>\n",
       "      <td>0200744019</td>\n",
       "      <td>TARG us</td>\n",
       "      <td>NaT</td>\n",
       "      <td>2020.0</td>\n",
       "      <td>1.930659e+09</td>\n",
       "      <td>2020-03-19</td>\n",
       "      <td>2020-04-03</td>\n",
       "      <td>2020-03-19</td>\n",
       "      <td>NAA8</td>\n",
       "      <td>11173.02</td>\n",
       "      <td>394555.812500</td>\n",
       "    </tr>\n",
       "    <tr>\n",
       "      <th>2</th>\n",
       "      <td>10</td>\n",
       "      <td>U001</td>\n",
       "      <td>0200418007</td>\n",
       "      <td>AM</td>\n",
       "      <td>NaT</td>\n",
       "      <td>2020.0</td>\n",
       "      <td>1.930611e+09</td>\n",
       "      <td>2020-03-11</td>\n",
       "      <td>2020-03-26</td>\n",
       "      <td>2020-03-11</td>\n",
       "      <td>NAA8</td>\n",
       "      <td>3525.59</td>\n",
       "      <td>289793.406250</td>\n",
       "    </tr>\n",
       "    <tr>\n",
       "      <th>3</th>\n",
       "      <td>14</td>\n",
       "      <td>U001</td>\n",
       "      <td>0200739534</td>\n",
       "      <td>OK systems</td>\n",
       "      <td>NaT</td>\n",
       "      <td>2020.0</td>\n",
       "      <td>1.930788e+09</td>\n",
       "      <td>2020-04-15</td>\n",
       "      <td>2020-04-30</td>\n",
       "      <td>2020-04-15</td>\n",
       "      <td>NAA8</td>\n",
       "      <td>121105.65</td>\n",
       "      <td>109147.882812</td>\n",
       "    </tr>\n",
       "    <tr>\n",
       "      <th>4</th>\n",
       "      <td>15</td>\n",
       "      <td>U001</td>\n",
       "      <td>0200353024</td>\n",
       "      <td>DECA corporation</td>\n",
       "      <td>NaT</td>\n",
       "      <td>2020.0</td>\n",
       "      <td>1.930817e+09</td>\n",
       "      <td>2020-04-23</td>\n",
       "      <td>2020-04-26</td>\n",
       "      <td>2020-04-16</td>\n",
       "      <td>NAM2</td>\n",
       "      <td>3726.06</td>\n",
       "      <td>-272168.156250</td>\n",
       "    </tr>\n",
       "    <tr>\n",
       "      <th>...</th>\n",
       "      <td>...</td>\n",
       "      <td>...</td>\n",
       "      <td>...</td>\n",
       "      <td>...</td>\n",
       "      <td>...</td>\n",
       "      <td>...</td>\n",
       "      <td>...</td>\n",
       "      <td>...</td>\n",
       "      <td>...</td>\n",
       "      <td>...</td>\n",
       "      <td>...</td>\n",
       "      <td>...</td>\n",
       "      <td>...</td>\n",
       "    </tr>\n",
       "    <tr>\n",
       "      <th>9676</th>\n",
       "      <td>49975</td>\n",
       "      <td>U001</td>\n",
       "      <td>0200769623</td>\n",
       "      <td>WAL-MAR in</td>\n",
       "      <td>NaT</td>\n",
       "      <td>2020.0</td>\n",
       "      <td>1.930625e+09</td>\n",
       "      <td>2020-03-10</td>\n",
       "      <td>2020-03-25</td>\n",
       "      <td>2020-03-10</td>\n",
       "      <td>NAH4</td>\n",
       "      <td>13114.99</td>\n",
       "      <td>115253.664062</td>\n",
       "    </tr>\n",
       "    <tr>\n",
       "      <th>9677</th>\n",
       "      <td>49980</td>\n",
       "      <td>U001</td>\n",
       "      <td>0200769623</td>\n",
       "      <td>WAL-MAR corporation</td>\n",
       "      <td>NaT</td>\n",
       "      <td>2020.0</td>\n",
       "      <td>1.930851e+09</td>\n",
       "      <td>2020-05-03</td>\n",
       "      <td>2020-05-18</td>\n",
       "      <td>2020-05-03</td>\n",
       "      <td>NAH4</td>\n",
       "      <td>8899.71</td>\n",
       "      <td>115253.664062</td>\n",
       "    </tr>\n",
       "    <tr>\n",
       "      <th>9678</th>\n",
       "      <td>49982</td>\n",
       "      <td>U001</td>\n",
       "      <td>0200148860</td>\n",
       "      <td>DOLLA co</td>\n",
       "      <td>NaT</td>\n",
       "      <td>2020.0</td>\n",
       "      <td>1.930638e+09</td>\n",
       "      <td>2020-03-11</td>\n",
       "      <td>2020-03-26</td>\n",
       "      <td>2020-03-11</td>\n",
       "      <td>NAA8</td>\n",
       "      <td>4967.06</td>\n",
       "      <td>-224047.562500</td>\n",
       "    </tr>\n",
       "    <tr>\n",
       "      <th>9679</th>\n",
       "      <td>49992</td>\n",
       "      <td>U001</td>\n",
       "      <td>0200900909</td>\n",
       "      <td>SYSCO co</td>\n",
       "      <td>NaT</td>\n",
       "      <td>2020.0</td>\n",
       "      <td>1.930702e+09</td>\n",
       "      <td>2020-03-25</td>\n",
       "      <td>2020-04-09</td>\n",
       "      <td>2020-03-25</td>\n",
       "      <td>NAA8</td>\n",
       "      <td>1998.64</td>\n",
       "      <td>422975.093750</td>\n",
       "    </tr>\n",
       "    <tr>\n",
       "      <th>9680</th>\n",
       "      <td>49995</td>\n",
       "      <td>U001</td>\n",
       "      <td>0200561861</td>\n",
       "      <td>CO corporation</td>\n",
       "      <td>NaT</td>\n",
       "      <td>2020.0</td>\n",
       "      <td>1.930797e+09</td>\n",
       "      <td>2020-04-21</td>\n",
       "      <td>2020-05-06</td>\n",
       "      <td>2020-04-21</td>\n",
       "      <td>NAA8</td>\n",
       "      <td>3187.86</td>\n",
       "      <td>-31042.601562</td>\n",
       "    </tr>\n",
       "  </tbody>\n",
       "</table>\n",
       "<p>9681 rows × 13 columns</p>\n",
       "</div>\n",
       "      <button class=\"colab-df-convert\" onclick=\"convertToInteractive('df-5e4f3560-1cc5-4d2a-ae48-4bf6af1025a7')\"\n",
       "              title=\"Convert this dataframe to an interactive table.\"\n",
       "              style=\"display:none;\">\n",
       "        \n",
       "  <svg xmlns=\"http://www.w3.org/2000/svg\" height=\"24px\"viewBox=\"0 0 24 24\"\n",
       "       width=\"24px\">\n",
       "    <path d=\"M0 0h24v24H0V0z\" fill=\"none\"/>\n",
       "    <path d=\"M18.56 5.44l.94 2.06.94-2.06 2.06-.94-2.06-.94-.94-2.06-.94 2.06-2.06.94zm-11 1L8.5 8.5l.94-2.06 2.06-.94-2.06-.94L8.5 2.5l-.94 2.06-2.06.94zm10 10l.94 2.06.94-2.06 2.06-.94-2.06-.94-.94-2.06-.94 2.06-2.06.94z\"/><path d=\"M17.41 7.96l-1.37-1.37c-.4-.4-.92-.59-1.43-.59-.52 0-1.04.2-1.43.59L10.3 9.45l-7.72 7.72c-.78.78-.78 2.05 0 2.83L4 21.41c.39.39.9.59 1.41.59.51 0 1.02-.2 1.41-.59l7.78-7.78 2.81-2.81c.8-.78.8-2.07 0-2.86zM5.41 20L4 18.59l7.72-7.72 1.47 1.35L5.41 20z\"/>\n",
       "  </svg>\n",
       "      </button>\n",
       "      \n",
       "  <style>\n",
       "    .colab-df-container {\n",
       "      display:flex;\n",
       "      flex-wrap:wrap;\n",
       "      gap: 12px;\n",
       "    }\n",
       "\n",
       "    .colab-df-convert {\n",
       "      background-color: #E8F0FE;\n",
       "      border: none;\n",
       "      border-radius: 50%;\n",
       "      cursor: pointer;\n",
       "      display: none;\n",
       "      fill: #1967D2;\n",
       "      height: 32px;\n",
       "      padding: 0 0 0 0;\n",
       "      width: 32px;\n",
       "    }\n",
       "\n",
       "    .colab-df-convert:hover {\n",
       "      background-color: #E2EBFA;\n",
       "      box-shadow: 0px 1px 2px rgba(60, 64, 67, 0.3), 0px 1px 3px 1px rgba(60, 64, 67, 0.15);\n",
       "      fill: #174EA6;\n",
       "    }\n",
       "\n",
       "    [theme=dark] .colab-df-convert {\n",
       "      background-color: #3B4455;\n",
       "      fill: #D2E3FC;\n",
       "    }\n",
       "\n",
       "    [theme=dark] .colab-df-convert:hover {\n",
       "      background-color: #434B5C;\n",
       "      box-shadow: 0px 1px 3px 1px rgba(0, 0, 0, 0.15);\n",
       "      filter: drop-shadow(0px 1px 2px rgba(0, 0, 0, 0.3));\n",
       "      fill: #FFFFFF;\n",
       "    }\n",
       "  </style>\n",
       "\n",
       "      <script>\n",
       "        const buttonEl =\n",
       "          document.querySelector('#df-5e4f3560-1cc5-4d2a-ae48-4bf6af1025a7 button.colab-df-convert');\n",
       "        buttonEl.style.display =\n",
       "          google.colab.kernel.accessAllowed ? 'block' : 'none';\n",
       "\n",
       "        async function convertToInteractive(key) {\n",
       "          const element = document.querySelector('#df-5e4f3560-1cc5-4d2a-ae48-4bf6af1025a7');\n",
       "          const dataTable =\n",
       "            await google.colab.kernel.invokeFunction('convertToInteractive',\n",
       "                                                     [key], {});\n",
       "          if (!dataTable) return;\n",
       "\n",
       "          const docLinkHtml = 'Like what you see? Visit the ' +\n",
       "            '<a target=\"_blank\" href=https://colab.research.google.com/notebooks/data_table.ipynb>data table notebook</a>'\n",
       "            + ' to learn more about interactive tables.';\n",
       "          element.innerHTML = '';\n",
       "          dataTable['output_type'] = 'display_data';\n",
       "          await google.colab.output.renderOutput(dataTable, element);\n",
       "          const docLink = document.createElement('div');\n",
       "          docLink.innerHTML = docLinkHtml;\n",
       "          element.appendChild(docLink);\n",
       "        }\n",
       "      </script>\n",
       "    </div>\n",
       "  </div>\n",
       "  "
      ],
      "text/plain": [
       "      key_0 business_code  ... converted_usd      avg_delay\n",
       "0         3          CA02  ...       2309.79  370741.718750\n",
       "1         7          U001  ...      11173.02  394555.812500\n",
       "2        10          U001  ...       3525.59  289793.406250\n",
       "3        14          U001  ...     121105.65  109147.882812\n",
       "4        15          U001  ...       3726.06 -272168.156250\n",
       "...     ...           ...  ...           ...            ...\n",
       "9676  49975          U001  ...      13114.99  115253.664062\n",
       "9677  49980          U001  ...       8899.71  115253.664062\n",
       "9678  49982          U001  ...       4967.06 -224047.562500\n",
       "9679  49992          U001  ...       1998.64  422975.093750\n",
       "9680  49995          U001  ...       3187.86  -31042.601562\n",
       "\n",
       "[9681 rows x 13 columns]"
      ]
     },
     "execution_count": 809,
     "metadata": {},
     "output_type": "execute_result"
    }
   ],
   "source": [
    "Final"
   ]
  },
  {
   "cell_type": "markdown",
   "id": "4sc27Uz-y-0O",
   "metadata": {
    "id": "4sc27Uz-y-0O"
   },
   "source": [
    "### Check for the Number of Rows and Columns in your \"Final\" dataframe "
   ]
  },
  {
   "cell_type": "code",
   "execution_count": 811,
   "id": "5iUXOIhzy_HR",
   "metadata": {
    "colab": {
     "base_uri": "https://localhost:8080/"
    },
    "id": "5iUXOIhzy_HR",
    "outputId": "56e1afed-1365-4aa4-91c1-1ed5c748d871"
   },
   "outputs": [
    {
     "data": {
      "text/plain": [
       "(9681, 13)"
      ]
     },
     "execution_count": 811,
     "metadata": {},
     "output_type": "execute_result"
    }
   ],
   "source": [
    "Final.shape"
   ]
  },
  {
   "cell_type": "markdown",
   "id": "48886d2c",
   "metadata": {
    "id": "48886d2c"
   },
   "source": [
    "### Now, you need to do convert the below fields back into date and time format \n",
    "\n",
    "- Convert \"due_in_date\" into datetime format\n",
    "- Convert \"avg_delay\" into datetime format\n",
    "- Create a new column \"clear_date\" and store the sum of \"due_in_date\" and \"avg_delay\"\n",
    "- display the new \"clear_date\" column\n",
    "- Note - Code is given below, no need to change "
   ]
  },
  {
   "cell_type": "code",
   "execution_count": 812,
   "id": "243abc2d",
   "metadata": {
    "id": "243abc2d"
   },
   "outputs": [],
   "source": [
    "Final['clear_date'] = pd.to_datetime(Final['due_in_date']) + pd.to_timedelta(Final['avg_delay'], unit='s')"
   ]
  },
  {
   "cell_type": "markdown",
   "id": "9QcX_fAjIkYR",
   "metadata": {
    "id": "9QcX_fAjIkYR"
   },
   "source": [
    "### Display the \"clear_date\" column"
   ]
  },
  {
   "cell_type": "code",
   "execution_count": 813,
   "id": "740e1486",
   "metadata": {
    "colab": {
     "base_uri": "https://localhost:8080/"
    },
    "id": "740e1486",
    "outputId": "803a711e-db25-47fb-858b-3fd64f3be4b3"
   },
   "outputs": [
    {
     "data": {
      "text/plain": [
       "0      2020-04-14 06:59:01.718750000\n",
       "1      2020-04-07 13:35:55.812500000\n",
       "2      2020-03-29 08:29:53.406250000\n",
       "3      2020-05-01 06:19:07.882812500\n",
       "4      2020-04-22 20:23:51.843750000\n",
       "                    ...             \n",
       "9676   2020-03-26 08:00:53.664062500\n",
       "9677   2020-05-19 08:00:53.664062500\n",
       "9678   2020-03-23 09:45:52.437500000\n",
       "9679   2020-04-13 21:29:35.093750000\n",
       "9680   2020-05-05 15:22:37.398437500\n",
       "Name: clear_date, Length: 9681, dtype: datetime64[ns]"
      ]
     },
     "execution_count": 813,
     "metadata": {},
     "output_type": "execute_result"
    }
   ],
   "source": [
    "Final['clear_date']"
   ]
  },
  {
   "cell_type": "markdown",
   "id": "MSkNLq6-z7rZ",
   "metadata": {
    "id": "MSkNLq6-z7rZ"
   },
   "source": [
    "### Convert the average delay into number of days format \n",
    "\n",
    "- Note - Formula = avg_delay//(24 * 3600)\n",
    "- Note - full code is given for this, no need to change "
   ]
  },
  {
   "cell_type": "code",
   "execution_count": 814,
   "id": "ce6b618a",
   "metadata": {
    "id": "ce6b618a"
   },
   "outputs": [],
   "source": [
    "Final['avg_delay'] = Final.apply(lambda row: row.avg_delay//(24 * 3600), axis = 1)"
   ]
  },
  {
   "cell_type": "markdown",
   "id": "wbBBZPjP0W7o",
   "metadata": {
    "id": "wbBBZPjP0W7o"
   },
   "source": [
    "### Display the \"avg_delay\" column "
   ]
  },
  {
   "cell_type": "code",
   "execution_count": 815,
   "id": "a494982f",
   "metadata": {
    "colab": {
     "base_uri": "https://localhost:8080/"
    },
    "id": "a494982f",
    "outputId": "666961db-4318-4aaa-f991-5b75c3128ea4",
    "scrolled": true
   },
   "outputs": [
    {
     "data": {
      "text/plain": [
       "0       4.0\n",
       "1       4.0\n",
       "2       3.0\n",
       "3       1.0\n",
       "4      -4.0\n",
       "       ... \n",
       "9676    1.0\n",
       "9677    1.0\n",
       "9678   -3.0\n",
       "9679    4.0\n",
       "9680   -1.0\n",
       "Name: avg_delay, Length: 9681, dtype: float64"
      ]
     },
     "execution_count": 815,
     "metadata": {},
     "output_type": "execute_result"
    }
   ],
   "source": [
    "Final['avg_delay']"
   ]
  },
  {
   "cell_type": "markdown",
   "id": "815d8811",
   "metadata": {
    "id": "815d8811"
   },
   "source": [
    "### Now you need to convert average delay column into bucket\n",
    "\n",
    "- Need to perform binning \n",
    "- create a list of bins i.e. bins= [0,15,30,45,60,100]\n",
    "- create a list of labels i.e. labels = ['0-15','16-30','31-45','46-60','Greatar than 60']\n",
    "- perform binning by using cut() function from \"Final\" dataframe\n",
    "\n",
    "\n",
    "- Please fill up the first two rows of the code"
   ]
  },
  {
   "cell_type": "code",
   "execution_count": 816,
   "id": "c797e4b5",
   "metadata": {
    "id": "c797e4b5"
   },
   "outputs": [],
   "source": [
    "\n",
    "bins= [0,15,30,45,60,100]\n",
    "labels = ['0-15','16-30','31-45','46-60','Greatar than 60']\n",
    "Final['Aging Bucket'] = pd.cut(Final['avg_delay'], bins=bins, labels=labels, right=False)"
   ]
  },
  {
   "cell_type": "markdown",
   "id": "1c35725f",
   "metadata": {
    "id": "1c35725f"
   },
   "source": [
    "### Now you need to drop \"key_0\" and \"avg_delay\" columns from the \"Final\" Dataframe"
   ]
  },
  {
   "cell_type": "code",
   "execution_count": 822,
   "id": "b31bc6a3",
   "metadata": {
    "id": "b31bc6a3"
   },
   "outputs": [],
   "source": [
    "Final = Final.drop(['key_0','avg_delay'],axis=1)"
   ]
  },
  {
   "cell_type": "markdown",
   "id": "Ui-tyIvU0-5u",
   "metadata": {
    "id": "Ui-tyIvU0-5u"
   },
   "source": [
    "### Display the count of each categoty of new \"Aging Bucket\" column "
   ]
  },
  {
   "cell_type": "code",
   "execution_count": 823,
   "id": "a6e16218",
   "metadata": {
    "colab": {
     "base_uri": "https://localhost:8080/"
    },
    "id": "a6e16218",
    "outputId": "a50e3368-4440-41cf-c462-108038b899c9"
   },
   "outputs": [
    {
     "data": {
      "text/plain": [
       "0-15               8545\n",
       "31-45                68\n",
       "16-30                21\n",
       "46-60                 9\n",
       "Greatar than 60       1\n",
       "Name: Aging Bucket, dtype: int64"
      ]
     },
     "execution_count": 823,
     "metadata": {},
     "output_type": "execute_result"
    }
   ],
   "source": [
    "Final['Aging Bucket'].value_counts()"
   ]
  },
  {
   "cell_type": "markdown",
   "id": "kgYegy551GKJ",
   "metadata": {
    "id": "kgYegy551GKJ"
   },
   "source": [
    "### Display your final dataset with aging buckets "
   ]
  },
  {
   "cell_type": "code",
   "execution_count": 824,
   "id": "c4bc87ec",
   "metadata": {
    "colab": {
     "base_uri": "https://localhost:8080/",
     "height": 678
    },
    "id": "c4bc87ec",
    "outputId": "34c887cf-4695-41d6-a316-ca1852127d8a"
   },
   "outputs": [
    {
     "data": {
      "text/html": [
       "\n",
       "  <div id=\"df-1257c3da-fccd-44ad-99c4-661d5f4de038\">\n",
       "    <div class=\"colab-df-container\">\n",
       "      <div>\n",
       "<style scoped>\n",
       "    .dataframe tbody tr th:only-of-type {\n",
       "        vertical-align: middle;\n",
       "    }\n",
       "\n",
       "    .dataframe tbody tr th {\n",
       "        vertical-align: top;\n",
       "    }\n",
       "\n",
       "    .dataframe thead th {\n",
       "        text-align: right;\n",
       "    }\n",
       "</style>\n",
       "<table border=\"1\" class=\"dataframe\">\n",
       "  <thead>\n",
       "    <tr style=\"text-align: right;\">\n",
       "      <th></th>\n",
       "      <th>business_code</th>\n",
       "      <th>cust_number</th>\n",
       "      <th>name_customer</th>\n",
       "      <th>clear_date</th>\n",
       "      <th>buisness_year</th>\n",
       "      <th>doc_id</th>\n",
       "      <th>posting_date</th>\n",
       "      <th>due_in_date</th>\n",
       "      <th>baseline_create_date</th>\n",
       "      <th>cust_payment_terms</th>\n",
       "      <th>converted_usd</th>\n",
       "      <th>Aging Bucket</th>\n",
       "    </tr>\n",
       "  </thead>\n",
       "  <tbody>\n",
       "    <tr>\n",
       "      <th>0</th>\n",
       "      <td>CA02</td>\n",
       "      <td>0140105686</td>\n",
       "      <td>SYSC llc</td>\n",
       "      <td>2020-04-14 06:59:01.718750000</td>\n",
       "      <td>2020.0</td>\n",
       "      <td>2.960623e+09</td>\n",
       "      <td>2020-03-30</td>\n",
       "      <td>2020-04-10</td>\n",
       "      <td>2020-03-31</td>\n",
       "      <td>CA10</td>\n",
       "      <td>2309.79</td>\n",
       "      <td>0-15</td>\n",
       "    </tr>\n",
       "    <tr>\n",
       "      <th>1</th>\n",
       "      <td>U001</td>\n",
       "      <td>0200744019</td>\n",
       "      <td>TARG us</td>\n",
       "      <td>2020-04-07 13:35:55.812500000</td>\n",
       "      <td>2020.0</td>\n",
       "      <td>1.930659e+09</td>\n",
       "      <td>2020-03-19</td>\n",
       "      <td>2020-04-03</td>\n",
       "      <td>2020-03-19</td>\n",
       "      <td>NAA8</td>\n",
       "      <td>11173.02</td>\n",
       "      <td>0-15</td>\n",
       "    </tr>\n",
       "    <tr>\n",
       "      <th>2</th>\n",
       "      <td>U001</td>\n",
       "      <td>0200418007</td>\n",
       "      <td>AM</td>\n",
       "      <td>2020-03-29 08:29:53.406250000</td>\n",
       "      <td>2020.0</td>\n",
       "      <td>1.930611e+09</td>\n",
       "      <td>2020-03-11</td>\n",
       "      <td>2020-03-26</td>\n",
       "      <td>2020-03-11</td>\n",
       "      <td>NAA8</td>\n",
       "      <td>3525.59</td>\n",
       "      <td>0-15</td>\n",
       "    </tr>\n",
       "    <tr>\n",
       "      <th>3</th>\n",
       "      <td>U001</td>\n",
       "      <td>0200739534</td>\n",
       "      <td>OK systems</td>\n",
       "      <td>2020-05-01 06:19:07.882812500</td>\n",
       "      <td>2020.0</td>\n",
       "      <td>1.930788e+09</td>\n",
       "      <td>2020-04-15</td>\n",
       "      <td>2020-04-30</td>\n",
       "      <td>2020-04-15</td>\n",
       "      <td>NAA8</td>\n",
       "      <td>121105.65</td>\n",
       "      <td>0-15</td>\n",
       "    </tr>\n",
       "    <tr>\n",
       "      <th>4</th>\n",
       "      <td>U001</td>\n",
       "      <td>0200353024</td>\n",
       "      <td>DECA corporation</td>\n",
       "      <td>2020-04-22 20:23:51.843750000</td>\n",
       "      <td>2020.0</td>\n",
       "      <td>1.930817e+09</td>\n",
       "      <td>2020-04-23</td>\n",
       "      <td>2020-04-26</td>\n",
       "      <td>2020-04-16</td>\n",
       "      <td>NAM2</td>\n",
       "      <td>3726.06</td>\n",
       "      <td>NaN</td>\n",
       "    </tr>\n",
       "    <tr>\n",
       "      <th>...</th>\n",
       "      <td>...</td>\n",
       "      <td>...</td>\n",
       "      <td>...</td>\n",
       "      <td>...</td>\n",
       "      <td>...</td>\n",
       "      <td>...</td>\n",
       "      <td>...</td>\n",
       "      <td>...</td>\n",
       "      <td>...</td>\n",
       "      <td>...</td>\n",
       "      <td>...</td>\n",
       "      <td>...</td>\n",
       "    </tr>\n",
       "    <tr>\n",
       "      <th>9676</th>\n",
       "      <td>U001</td>\n",
       "      <td>0200769623</td>\n",
       "      <td>WAL-MAR in</td>\n",
       "      <td>2020-03-26 08:00:53.664062500</td>\n",
       "      <td>2020.0</td>\n",
       "      <td>1.930625e+09</td>\n",
       "      <td>2020-03-10</td>\n",
       "      <td>2020-03-25</td>\n",
       "      <td>2020-03-10</td>\n",
       "      <td>NAH4</td>\n",
       "      <td>13114.99</td>\n",
       "      <td>0-15</td>\n",
       "    </tr>\n",
       "    <tr>\n",
       "      <th>9677</th>\n",
       "      <td>U001</td>\n",
       "      <td>0200769623</td>\n",
       "      <td>WAL-MAR corporation</td>\n",
       "      <td>2020-05-19 08:00:53.664062500</td>\n",
       "      <td>2020.0</td>\n",
       "      <td>1.930851e+09</td>\n",
       "      <td>2020-05-03</td>\n",
       "      <td>2020-05-18</td>\n",
       "      <td>2020-05-03</td>\n",
       "      <td>NAH4</td>\n",
       "      <td>8899.71</td>\n",
       "      <td>0-15</td>\n",
       "    </tr>\n",
       "    <tr>\n",
       "      <th>9678</th>\n",
       "      <td>U001</td>\n",
       "      <td>0200148860</td>\n",
       "      <td>DOLLA co</td>\n",
       "      <td>2020-03-23 09:45:52.437500000</td>\n",
       "      <td>2020.0</td>\n",
       "      <td>1.930638e+09</td>\n",
       "      <td>2020-03-11</td>\n",
       "      <td>2020-03-26</td>\n",
       "      <td>2020-03-11</td>\n",
       "      <td>NAA8</td>\n",
       "      <td>4967.06</td>\n",
       "      <td>NaN</td>\n",
       "    </tr>\n",
       "    <tr>\n",
       "      <th>9679</th>\n",
       "      <td>U001</td>\n",
       "      <td>0200900909</td>\n",
       "      <td>SYSCO co</td>\n",
       "      <td>2020-04-13 21:29:35.093750000</td>\n",
       "      <td>2020.0</td>\n",
       "      <td>1.930702e+09</td>\n",
       "      <td>2020-03-25</td>\n",
       "      <td>2020-04-09</td>\n",
       "      <td>2020-03-25</td>\n",
       "      <td>NAA8</td>\n",
       "      <td>1998.64</td>\n",
       "      <td>0-15</td>\n",
       "    </tr>\n",
       "    <tr>\n",
       "      <th>9680</th>\n",
       "      <td>U001</td>\n",
       "      <td>0200561861</td>\n",
       "      <td>CO corporation</td>\n",
       "      <td>2020-05-05 15:22:37.398437500</td>\n",
       "      <td>2020.0</td>\n",
       "      <td>1.930797e+09</td>\n",
       "      <td>2020-04-21</td>\n",
       "      <td>2020-05-06</td>\n",
       "      <td>2020-04-21</td>\n",
       "      <td>NAA8</td>\n",
       "      <td>3187.86</td>\n",
       "      <td>NaN</td>\n",
       "    </tr>\n",
       "  </tbody>\n",
       "</table>\n",
       "<p>9681 rows × 12 columns</p>\n",
       "</div>\n",
       "      <button class=\"colab-df-convert\" onclick=\"convertToInteractive('df-1257c3da-fccd-44ad-99c4-661d5f4de038')\"\n",
       "              title=\"Convert this dataframe to an interactive table.\"\n",
       "              style=\"display:none;\">\n",
       "        \n",
       "  <svg xmlns=\"http://www.w3.org/2000/svg\" height=\"24px\"viewBox=\"0 0 24 24\"\n",
       "       width=\"24px\">\n",
       "    <path d=\"M0 0h24v24H0V0z\" fill=\"none\"/>\n",
       "    <path d=\"M18.56 5.44l.94 2.06.94-2.06 2.06-.94-2.06-.94-.94-2.06-.94 2.06-2.06.94zm-11 1L8.5 8.5l.94-2.06 2.06-.94-2.06-.94L8.5 2.5l-.94 2.06-2.06.94zm10 10l.94 2.06.94-2.06 2.06-.94-2.06-.94-.94-2.06-.94 2.06-2.06.94z\"/><path d=\"M17.41 7.96l-1.37-1.37c-.4-.4-.92-.59-1.43-.59-.52 0-1.04.2-1.43.59L10.3 9.45l-7.72 7.72c-.78.78-.78 2.05 0 2.83L4 21.41c.39.39.9.59 1.41.59.51 0 1.02-.2 1.41-.59l7.78-7.78 2.81-2.81c.8-.78.8-2.07 0-2.86zM5.41 20L4 18.59l7.72-7.72 1.47 1.35L5.41 20z\"/>\n",
       "  </svg>\n",
       "      </button>\n",
       "      \n",
       "  <style>\n",
       "    .colab-df-container {\n",
       "      display:flex;\n",
       "      flex-wrap:wrap;\n",
       "      gap: 12px;\n",
       "    }\n",
       "\n",
       "    .colab-df-convert {\n",
       "      background-color: #E8F0FE;\n",
       "      border: none;\n",
       "      border-radius: 50%;\n",
       "      cursor: pointer;\n",
       "      display: none;\n",
       "      fill: #1967D2;\n",
       "      height: 32px;\n",
       "      padding: 0 0 0 0;\n",
       "      width: 32px;\n",
       "    }\n",
       "\n",
       "    .colab-df-convert:hover {\n",
       "      background-color: #E2EBFA;\n",
       "      box-shadow: 0px 1px 2px rgba(60, 64, 67, 0.3), 0px 1px 3px 1px rgba(60, 64, 67, 0.15);\n",
       "      fill: #174EA6;\n",
       "    }\n",
       "\n",
       "    [theme=dark] .colab-df-convert {\n",
       "      background-color: #3B4455;\n",
       "      fill: #D2E3FC;\n",
       "    }\n",
       "\n",
       "    [theme=dark] .colab-df-convert:hover {\n",
       "      background-color: #434B5C;\n",
       "      box-shadow: 0px 1px 3px 1px rgba(0, 0, 0, 0.15);\n",
       "      filter: drop-shadow(0px 1px 2px rgba(0, 0, 0, 0.3));\n",
       "      fill: #FFFFFF;\n",
       "    }\n",
       "  </style>\n",
       "\n",
       "      <script>\n",
       "        const buttonEl =\n",
       "          document.querySelector('#df-1257c3da-fccd-44ad-99c4-661d5f4de038 button.colab-df-convert');\n",
       "        buttonEl.style.display =\n",
       "          google.colab.kernel.accessAllowed ? 'block' : 'none';\n",
       "\n",
       "        async function convertToInteractive(key) {\n",
       "          const element = document.querySelector('#df-1257c3da-fccd-44ad-99c4-661d5f4de038');\n",
       "          const dataTable =\n",
       "            await google.colab.kernel.invokeFunction('convertToInteractive',\n",
       "                                                     [key], {});\n",
       "          if (!dataTable) return;\n",
       "\n",
       "          const docLinkHtml = 'Like what you see? Visit the ' +\n",
       "            '<a target=\"_blank\" href=https://colab.research.google.com/notebooks/data_table.ipynb>data table notebook</a>'\n",
       "            + ' to learn more about interactive tables.';\n",
       "          element.innerHTML = '';\n",
       "          dataTable['output_type'] = 'display_data';\n",
       "          await google.colab.output.renderOutput(dataTable, element);\n",
       "          const docLink = document.createElement('div');\n",
       "          docLink.innerHTML = docLinkHtml;\n",
       "          element.appendChild(docLink);\n",
       "        }\n",
       "      </script>\n",
       "    </div>\n",
       "  </div>\n",
       "  "
      ],
      "text/plain": [
       "     business_code cust_number  ... converted_usd Aging Bucket\n",
       "0             CA02  0140105686  ...       2309.79         0-15\n",
       "1             U001  0200744019  ...      11173.02         0-15\n",
       "2             U001  0200418007  ...       3525.59         0-15\n",
       "3             U001  0200739534  ...     121105.65         0-15\n",
       "4             U001  0200353024  ...       3726.06          NaN\n",
       "...            ...         ...  ...           ...          ...\n",
       "9676          U001  0200769623  ...      13114.99         0-15\n",
       "9677          U001  0200769623  ...       8899.71         0-15\n",
       "9678          U001  0200148860  ...       4967.06          NaN\n",
       "9679          U001  0200900909  ...       1998.64         0-15\n",
       "9680          U001  0200561861  ...       3187.86          NaN\n",
       "\n",
       "[9681 rows x 12 columns]"
      ]
     },
     "execution_count": 824,
     "metadata": {},
     "output_type": "execute_result"
    }
   ],
   "source": [
    "Final"
   ]
  },
  {
   "cell_type": "markdown",
   "id": "Ji7AoDCB1L_x",
   "metadata": {
    "id": "Ji7AoDCB1L_x"
   },
   "source": [
    "### Store this dataframe into the .csv format"
   ]
  },
  {
   "cell_type": "code",
   "execution_count": 825,
   "id": "727d0b8d",
   "metadata": {
    "id": "727d0b8d"
   },
   "outputs": [],
   "source": [
    "Final.to_csv('/content/drive/MyDrive/Colab Notebooks/finalHRC82102W.csv')"
   ]
  },
  {
   "cell_type": "markdown",
   "id": "FK0fabl61SkC",
   "metadata": {
    "id": "FK0fabl61SkC"
   },
   "source": [
    "# END OF THE PROJECT"
   ]
  }
 ],
 "metadata": {
  "colab": {
   "collapsed_sections": [
    "62633a84"
   ],
   "name": "Payment date prediction.ipynb",
   "provenance": []
  },
  "kernelspec": {
   "display_name": "Python 3 (ipykernel)",
   "language": "python",
   "name": "python3"
  },
  "language_info": {
   "codemirror_mode": {
    "name": "ipython",
    "version": 3
   },
   "file_extension": ".py",
   "mimetype": "text/x-python",
   "name": "python",
   "nbconvert_exporter": "python",
   "pygments_lexer": "ipython3",
   "version": "3.9.7"
  }
 },
 "nbformat": 4,
 "nbformat_minor": 5
}
